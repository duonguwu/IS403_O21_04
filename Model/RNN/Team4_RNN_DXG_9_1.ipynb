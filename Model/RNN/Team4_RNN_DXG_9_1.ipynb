{
  "cells": [
    {
      "cell_type": "code",
      "execution_count": 32,
      "metadata": {
        "id": "FMDKda-XIUAK"
      },
      "outputs": [],
      "source": [
        "# 1. Import thư viện cần thiết\n",
        "import numpy as np\n",
        "import pandas as pd\n",
        "import matplotlib.pyplot as plt\n",
        "from sklearn.preprocessing import MinMaxScaler\n",
        "from keras.models import Sequential\n",
        "from keras.layers import Dense, SimpleRNN"
      ]
    },
    {
      "cell_type": "code",
      "execution_count": 33,
      "metadata": {
        "id": "aRm9GQ8KJJ5N"
      },
      "outputs": [],
      "source": [
        "# 2. Đọc file csv và gắng index với giá Close\n",
        "df = pd.read_csv('/content/DXG Historical Data 1_6.csv')\n",
        "\n",
        "# Nhận thấy tập dữ liệu, ở cột Price giá tiền có dấu phẩy và đang ở dạng string\n",
        "# Bỏ dấu phẩy\n",
        "df['Price'] = df['Price'].str.replace(',', '')\n",
        "# Chuyển sang dạng số\n",
        "df['Price'] = pd.to_numeric(df['Price'])\n",
        "df = df[::-1]"
      ]
    },
    {
      "cell_type": "code",
      "source": [
        "df1=df.reset_index()['Price']\n",
        "df1.head()"
      ],
      "metadata": {
        "colab": {
          "base_uri": "https://localhost:8080/"
        },
        "id": "d81FWdpTpmxG",
        "outputId": "2a9dc384-ad70-4329-b52f-cd1b71be8559"
      },
      "execution_count": 34,
      "outputs": [
        {
          "output_type": "execute_result",
          "data": {
            "text/plain": [
              "0    13401.4\n",
              "1    13371.1\n",
              "2    13522.4\n",
              "3    13159.4\n",
              "4    14066.9\n",
              "Name: Price, dtype: float64"
            ]
          },
          "metadata": {},
          "execution_count": 34
        }
      ]
    },
    {
      "cell_type": "code",
      "source": [
        "df1"
      ],
      "metadata": {
        "colab": {
          "base_uri": "https://localhost:8080/"
        },
        "id": "O75pUMjkwAW1",
        "outputId": "b6c564b6-fd6e-4fe4-de47-b3876c4be815"
      },
      "execution_count": 35,
      "outputs": [
        {
          "output_type": "execute_result",
          "data": {
            "text/plain": [
              "0       13401.4\n",
              "1       13371.1\n",
              "2       13522.4\n",
              "3       13159.4\n",
              "4       14066.9\n",
              "         ...   \n",
              "1593    16550.0\n",
              "1594    16800.0\n",
              "1595    16850.0\n",
              "1596    16850.0\n",
              "1597    16800.0\n",
              "Name: Price, Length: 1598, dtype: float64"
            ]
          },
          "metadata": {},
          "execution_count": 35
        }
      ]
    },
    {
      "cell_type": "code",
      "execution_count": 36,
      "metadata": {
        "id": "RdVpDho2JgL5"
      },
      "outputs": [],
      "source": [
        "# 3. Scaler data\n",
        "scaler=MinMaxScaler(feature_range=(0,1))\n",
        "df1=scaler.fit_transform(np.array(df1).reshape(-1,1))"
      ]
    },
    {
      "cell_type": "code",
      "execution_count": 37,
      "metadata": {
        "id": "B5JXpenzJoR3"
      },
      "outputs": [],
      "source": [
        "# 4. Chia train test\n",
        "train_size = int(0.9 * len(df1))\n",
        "test_size = int(0.1 * len(df1))\n",
        "\n",
        "train_data = df1[:train_size]\n",
        "test_data = df1[train_size:]"
      ]
    },
    {
      "cell_type": "code",
      "source": [
        "test_size"
      ],
      "metadata": {
        "colab": {
          "base_uri": "https://localhost:8080/"
        },
        "id": "MBvNXgW-v2JL",
        "outputId": "76bcddc3-3bf8-42ac-c0e9-f730ede639a0"
      },
      "execution_count": 38,
      "outputs": [
        {
          "output_type": "execute_result",
          "data": {
            "text/plain": [
              "159"
            ]
          },
          "metadata": {},
          "execution_count": 38
        }
      ]
    },
    {
      "cell_type": "code",
      "execution_count": 39,
      "metadata": {
        "id": "yJfmuBORLSfC"
      },
      "outputs": [],
      "source": [
        "# 5. Hàm Create Dataset\n",
        "import numpy\n",
        "# convert an array of values into a dataset matrix\n",
        "def create_dataset(dataset, time_step=1):\n",
        "\tdataX, dataY = [], []\n",
        "\tfor i in range(len(dataset)-time_step-1):\n",
        "\t\ta = dataset[i:(i+time_step), 0]   ###i=0, X=0,1,2,3-----99   Y=100\n",
        "\t\tdataX.append(a)\n",
        "\t\tdataY.append(dataset[i + time_step, 0])\n",
        "\treturn numpy.array(dataX), numpy.array(dataY)"
      ]
    },
    {
      "cell_type": "code",
      "execution_count": 40,
      "metadata": {
        "id": "e81cKq03LXFB"
      },
      "outputs": [],
      "source": [
        "# 6. Reshape into X=t,t+1,t+2..t+99 and Y=t+100\n",
        "time_step = 100\n",
        "X_train, y_train = create_dataset(train_data, time_step)\n",
        "X_test, y_test = create_dataset(test_data, time_step)"
      ]
    },
    {
      "cell_type": "code",
      "execution_count": 41,
      "metadata": {
        "id": "RdBVfku7O2qb"
      },
      "outputs": [],
      "source": [
        "# 7. Reshape input to be [samples, time steps, features] which is required for LSTM\n",
        "X_train = X_train.reshape(X_train.shape[0], X_train.shape[1], 1)\n",
        "X_test = X_test.reshape(X_test.shape[0], X_test.shape[1], 1)"
      ]
    },
    {
      "cell_type": "code",
      "source": [
        "X_train.shape"
      ],
      "metadata": {
        "colab": {
          "base_uri": "https://localhost:8080/"
        },
        "id": "IouLd-0AwQ3_",
        "outputId": "35f9655e-9d5f-4439-8d22-4263801c136a"
      },
      "execution_count": 42,
      "outputs": [
        {
          "output_type": "execute_result",
          "data": {
            "text/plain": [
              "(1337, 100, 1)"
            ]
          },
          "metadata": {},
          "execution_count": 42
        }
      ]
    },
    {
      "cell_type": "code",
      "execution_count": 43,
      "metadata": {
        "id": "sSfxrE7BO9vX"
      },
      "outputs": [],
      "source": [
        "# 8. Define LSTM Model\n",
        "model = Sequential()\n",
        "model.add(SimpleRNN(50, input_shape=(time_step, 1)))\n",
        "model.add(Dense(1))\n",
        "model.compile(loss='mean_squared_error', optimizer='adam')"
      ]
    },
    {
      "cell_type": "code",
      "execution_count": 44,
      "metadata": {
        "colab": {
          "base_uri": "https://localhost:8080/"
        },
        "id": "zgfeujZSPEKr",
        "outputId": "645e2c92-0a06-4006-b8d0-8575ff3a16f2"
      },
      "outputs": [
        {
          "output_type": "stream",
          "name": "stdout",
          "text": [
            "Epoch 1/100\n",
            "21/21 [==============================] - 2s 22ms/step - loss: 0.0127\n",
            "Epoch 2/100\n",
            "21/21 [==============================] - 0s 21ms/step - loss: 0.0017\n",
            "Epoch 3/100\n",
            "21/21 [==============================] - 0s 21ms/step - loss: 0.0013\n",
            "Epoch 4/100\n",
            "21/21 [==============================] - 0s 22ms/step - loss: 0.0012\n",
            "Epoch 5/100\n",
            "21/21 [==============================] - 0s 20ms/step - loss: 0.0011\n",
            "Epoch 6/100\n",
            "21/21 [==============================] - 0s 21ms/step - loss: 0.0010\n",
            "Epoch 7/100\n",
            "21/21 [==============================] - 0s 20ms/step - loss: 9.1970e-04\n",
            "Epoch 8/100\n",
            "21/21 [==============================] - 0s 22ms/step - loss: 8.6662e-04\n",
            "Epoch 9/100\n",
            "21/21 [==============================] - 0s 21ms/step - loss: 8.8307e-04\n",
            "Epoch 10/100\n",
            "21/21 [==============================] - 0s 22ms/step - loss: 7.7865e-04\n",
            "Epoch 11/100\n",
            "21/21 [==============================] - 0s 21ms/step - loss: 7.7307e-04\n",
            "Epoch 12/100\n",
            "21/21 [==============================] - 0s 21ms/step - loss: 7.3271e-04\n",
            "Epoch 13/100\n",
            "21/21 [==============================] - 0s 20ms/step - loss: 7.3077e-04\n",
            "Epoch 14/100\n",
            "21/21 [==============================] - 0s 22ms/step - loss: 6.6134e-04\n",
            "Epoch 15/100\n",
            "21/21 [==============================] - 0s 20ms/step - loss: 6.3173e-04\n",
            "Epoch 16/100\n",
            "21/21 [==============================] - 0s 22ms/step - loss: 6.7271e-04\n",
            "Epoch 17/100\n",
            "21/21 [==============================] - 0s 22ms/step - loss: 6.2500e-04\n",
            "Epoch 18/100\n",
            "21/21 [==============================] - 0s 22ms/step - loss: 5.8435e-04\n",
            "Epoch 19/100\n",
            "21/21 [==============================] - 0s 21ms/step - loss: 5.8755e-04\n",
            "Epoch 20/100\n",
            "21/21 [==============================] - 0s 22ms/step - loss: 5.7958e-04\n",
            "Epoch 21/100\n",
            "21/21 [==============================] - 0s 22ms/step - loss: 5.3953e-04\n",
            "Epoch 22/100\n",
            "21/21 [==============================] - 0s 20ms/step - loss: 5.2549e-04\n",
            "Epoch 23/100\n",
            "21/21 [==============================] - 1s 34ms/step - loss: 4.9856e-04\n",
            "Epoch 24/100\n",
            "21/21 [==============================] - 1s 34ms/step - loss: 5.1186e-04\n",
            "Epoch 25/100\n",
            "21/21 [==============================] - 1s 34ms/step - loss: 5.1830e-04\n",
            "Epoch 26/100\n",
            "21/21 [==============================] - 1s 38ms/step - loss: 4.8819e-04\n",
            "Epoch 27/100\n",
            "21/21 [==============================] - 1s 40ms/step - loss: 4.7181e-04\n",
            "Epoch 28/100\n",
            "21/21 [==============================] - 1s 32ms/step - loss: 4.5321e-04\n",
            "Epoch 29/100\n",
            "21/21 [==============================] - 0s 20ms/step - loss: 4.3715e-04\n",
            "Epoch 30/100\n",
            "21/21 [==============================] - 0s 22ms/step - loss: 4.5161e-04\n",
            "Epoch 31/100\n",
            "21/21 [==============================] - 0s 20ms/step - loss: 4.8576e-04\n",
            "Epoch 32/100\n",
            "21/21 [==============================] - 0s 21ms/step - loss: 4.2254e-04\n",
            "Epoch 33/100\n",
            "21/21 [==============================] - 0s 21ms/step - loss: 4.1377e-04\n",
            "Epoch 34/100\n",
            "21/21 [==============================] - 0s 21ms/step - loss: 4.4192e-04\n",
            "Epoch 35/100\n",
            "21/21 [==============================] - 0s 23ms/step - loss: 4.2765e-04\n",
            "Epoch 36/100\n",
            "21/21 [==============================] - 0s 20ms/step - loss: 4.0603e-04\n",
            "Epoch 37/100\n",
            "21/21 [==============================] - 0s 22ms/step - loss: 4.2356e-04\n",
            "Epoch 38/100\n",
            "21/21 [==============================] - 0s 21ms/step - loss: 3.8155e-04\n",
            "Epoch 39/100\n",
            "21/21 [==============================] - 0s 23ms/step - loss: 3.8132e-04\n",
            "Epoch 40/100\n",
            "21/21 [==============================] - 0s 21ms/step - loss: 3.7020e-04\n",
            "Epoch 41/100\n",
            "21/21 [==============================] - 0s 22ms/step - loss: 3.7492e-04\n",
            "Epoch 42/100\n",
            "21/21 [==============================] - 0s 21ms/step - loss: 3.8495e-04\n",
            "Epoch 43/100\n",
            "21/21 [==============================] - 0s 23ms/step - loss: 3.6705e-04\n",
            "Epoch 44/100\n",
            "21/21 [==============================] - 0s 21ms/step - loss: 3.5638e-04\n",
            "Epoch 45/100\n",
            "21/21 [==============================] - 0s 20ms/step - loss: 3.3940e-04\n",
            "Epoch 46/100\n",
            "21/21 [==============================] - 0s 21ms/step - loss: 3.6034e-04\n",
            "Epoch 47/100\n",
            "21/21 [==============================] - 0s 19ms/step - loss: 3.4310e-04\n",
            "Epoch 48/100\n",
            "21/21 [==============================] - 0s 21ms/step - loss: 3.3828e-04\n",
            "Epoch 49/100\n",
            "21/21 [==============================] - 0s 21ms/step - loss: 3.4590e-04\n",
            "Epoch 50/100\n",
            "21/21 [==============================] - 1s 27ms/step - loss: 3.5517e-04\n",
            "Epoch 51/100\n",
            "21/21 [==============================] - 1s 35ms/step - loss: 3.2411e-04\n",
            "Epoch 52/100\n",
            "21/21 [==============================] - 1s 35ms/step - loss: 3.2184e-04\n",
            "Epoch 53/100\n",
            "21/21 [==============================] - 1s 34ms/step - loss: 3.3620e-04\n",
            "Epoch 54/100\n",
            "21/21 [==============================] - 1s 36ms/step - loss: 3.4379e-04\n",
            "Epoch 55/100\n",
            "21/21 [==============================] - 1s 37ms/step - loss: 3.3291e-04\n",
            "Epoch 56/100\n",
            "21/21 [==============================] - 1s 30ms/step - loss: 3.1111e-04\n",
            "Epoch 57/100\n",
            "21/21 [==============================] - 0s 22ms/step - loss: 3.1169e-04\n",
            "Epoch 58/100\n",
            "21/21 [==============================] - 0s 20ms/step - loss: 3.3626e-04\n",
            "Epoch 59/100\n",
            "21/21 [==============================] - 0s 23ms/step - loss: 3.1885e-04\n",
            "Epoch 60/100\n",
            "21/21 [==============================] - 0s 20ms/step - loss: 2.9672e-04\n",
            "Epoch 61/100\n",
            "21/21 [==============================] - 0s 21ms/step - loss: 2.9850e-04\n",
            "Epoch 62/100\n",
            "21/21 [==============================] - 0s 22ms/step - loss: 3.7199e-04\n",
            "Epoch 63/100\n",
            "21/21 [==============================] - 0s 21ms/step - loss: 3.4626e-04\n",
            "Epoch 64/100\n",
            "21/21 [==============================] - 0s 21ms/step - loss: 3.0419e-04\n",
            "Epoch 65/100\n",
            "21/21 [==============================] - 0s 20ms/step - loss: 2.9603e-04\n",
            "Epoch 66/100\n",
            "21/21 [==============================] - 0s 22ms/step - loss: 3.0331e-04\n",
            "Epoch 67/100\n",
            "21/21 [==============================] - 0s 20ms/step - loss: 3.1296e-04\n",
            "Epoch 68/100\n",
            "21/21 [==============================] - 0s 22ms/step - loss: 2.9182e-04\n",
            "Epoch 69/100\n",
            "21/21 [==============================] - 0s 21ms/step - loss: 2.8531e-04\n",
            "Epoch 70/100\n",
            "21/21 [==============================] - 0s 22ms/step - loss: 3.0215e-04\n",
            "Epoch 71/100\n",
            "21/21 [==============================] - 0s 22ms/step - loss: 3.2109e-04\n",
            "Epoch 72/100\n",
            "21/21 [==============================] - 0s 23ms/step - loss: 2.8958e-04\n",
            "Epoch 73/100\n",
            "21/21 [==============================] - 0s 21ms/step - loss: 2.8445e-04\n",
            "Epoch 74/100\n",
            "21/21 [==============================] - 0s 21ms/step - loss: 2.8768e-04\n",
            "Epoch 75/100\n",
            "21/21 [==============================] - 0s 23ms/step - loss: 2.9593e-04\n",
            "Epoch 76/100\n",
            "21/21 [==============================] - 0s 20ms/step - loss: 3.0449e-04\n",
            "Epoch 77/100\n",
            "21/21 [==============================] - 0s 22ms/step - loss: 2.8533e-04\n",
            "Epoch 78/100\n",
            "21/21 [==============================] - 1s 27ms/step - loss: 2.8245e-04\n",
            "Epoch 79/100\n",
            "21/21 [==============================] - 1s 36ms/step - loss: 2.7893e-04\n",
            "Epoch 80/100\n",
            "21/21 [==============================] - 1s 34ms/step - loss: 2.8396e-04\n",
            "Epoch 81/100\n",
            "21/21 [==============================] - 1s 35ms/step - loss: 2.7782e-04\n",
            "Epoch 82/100\n",
            "21/21 [==============================] - 1s 40ms/step - loss: 2.7361e-04\n",
            "Epoch 83/100\n",
            "21/21 [==============================] - 1s 37ms/step - loss: 2.7270e-04\n",
            "Epoch 84/100\n",
            "21/21 [==============================] - 1s 30ms/step - loss: 2.7506e-04\n",
            "Epoch 85/100\n",
            "21/21 [==============================] - 0s 21ms/step - loss: 2.6591e-04\n",
            "Epoch 86/100\n",
            "21/21 [==============================] - 0s 22ms/step - loss: 2.8489e-04\n",
            "Epoch 87/100\n",
            "21/21 [==============================] - 0s 20ms/step - loss: 2.7091e-04\n",
            "Epoch 88/100\n",
            "21/21 [==============================] - 0s 22ms/step - loss: 2.8016e-04\n",
            "Epoch 89/100\n",
            "21/21 [==============================] - 0s 21ms/step - loss: 2.7578e-04\n",
            "Epoch 90/100\n",
            "21/21 [==============================] - 0s 22ms/step - loss: 2.7375e-04\n",
            "Epoch 91/100\n",
            "21/21 [==============================] - 0s 20ms/step - loss: 2.6557e-04\n",
            "Epoch 92/100\n",
            "21/21 [==============================] - 0s 22ms/step - loss: 2.9866e-04\n",
            "Epoch 93/100\n",
            "21/21 [==============================] - 0s 21ms/step - loss: 2.8117e-04\n",
            "Epoch 94/100\n",
            "21/21 [==============================] - 0s 20ms/step - loss: 3.0247e-04\n",
            "Epoch 95/100\n",
            "21/21 [==============================] - 0s 21ms/step - loss: 2.6228e-04\n",
            "Epoch 96/100\n",
            "21/21 [==============================] - 0s 23ms/step - loss: 2.6707e-04\n",
            "Epoch 97/100\n",
            "21/21 [==============================] - 0s 22ms/step - loss: 2.8636e-04\n",
            "Epoch 98/100\n",
            "21/21 [==============================] - 0s 20ms/step - loss: 2.7990e-04\n",
            "Epoch 99/100\n",
            "21/21 [==============================] - 0s 21ms/step - loss: 2.6844e-04\n",
            "Epoch 100/100\n",
            "21/21 [==============================] - 0s 20ms/step - loss: 2.5512e-04\n"
          ]
        },
        {
          "output_type": "execute_result",
          "data": {
            "text/plain": [
              "<keras.src.callbacks.History at 0x7de5faacd240>"
            ]
          },
          "metadata": {},
          "execution_count": 44
        }
      ],
      "source": [
        "# 9. Fit mô hình với dữ liệu train\n",
        "model.fit(X_train, y_train, epochs=100, batch_size=64, verbose=1)"
      ]
    },
    {
      "cell_type": "code",
      "execution_count": 45,
      "metadata": {
        "colab": {
          "base_uri": "https://localhost:8080/"
        },
        "id": "Rxx_KQSkQpBG",
        "outputId": "e000cab5-fd97-415d-cded-35347009f425"
      },
      "outputs": [
        {
          "output_type": "stream",
          "name": "stdout",
          "text": [
            "42/42 [==============================] - 1s 8ms/step\n",
            "2/2 [==============================] - 0s 11ms/step\n"
          ]
        }
      ],
      "source": [
        "# 10. Dự báo dữ liệu test\n",
        "train_predict = model.predict(X_train)\n",
        "y_pred = model.predict(X_test)\n"
      ]
    },
    {
      "cell_type": "code",
      "execution_count": 46,
      "metadata": {
        "id": "5rwTN10LQ7rj"
      },
      "outputs": [],
      "source": [
        "# 11. Chuẩn hóa dữ liệu y_pred, y_test\n",
        "train_predict = scaler.inverse_transform(train_predict)\n",
        "y_pred = scaler.inverse_transform(y_pred)\n",
        "y_test = scaler.inverse_transform(y_test.reshape(-1, 1))"
      ]
    },
    {
      "cell_type": "code",
      "execution_count": 47,
      "metadata": {
        "colab": {
          "base_uri": "https://localhost:8080/"
        },
        "id": "wu_9j94kRonD",
        "outputId": "293640c4-9c18-4eda-a704-b5992eb83b61"
      },
      "outputs": [
        {
          "output_type": "stream",
          "name": "stdout",
          "text": [
            "Testing RMSE: 489.62291528891836\n"
          ]
        }
      ],
      "source": [
        "# 12. Đánh giá độ chính xác thuật toán bằng RMSE\n",
        "test_rmse = np.sqrt(np.mean((y_pred - y_test)**2))\n",
        "print('Testing RMSE:', test_rmse)"
      ]
    },
    {
      "cell_type": "code",
      "execution_count": 48,
      "metadata": {
        "colab": {
          "base_uri": "https://localhost:8080/"
        },
        "id": "izQZ1iQyYl6N",
        "outputId": "bded9188-1c7c-4912-9e12-19c1e43592bb",
        "collapsed": true
      },
      "outputs": [
        {
          "output_type": "stream",
          "name": "stdout",
          "text": [
            "[0.25279737]\n",
            "101\n",
            "[0.25279737]\n",
            "102\n",
            "[0.25279737]\n",
            "103\n",
            "[0.25279737]\n",
            "104\n",
            "[0.25279737]\n",
            "105\n",
            "[0.25279737]\n",
            "106\n",
            "[0.25279737]\n",
            "107\n",
            "[0.25279737]\n",
            "108\n",
            "[0.25279737]\n",
            "109\n",
            "[0.25279737]\n",
            "110\n",
            "[0.25279737]\n",
            "111\n",
            "[0.25279737]\n",
            "112\n",
            "[0.25279737]\n",
            "113\n",
            "[0.25279737]\n",
            "114\n",
            "[0.25279737]\n",
            "115\n",
            "[0.25279737]\n",
            "116\n",
            "[0.25279737]\n",
            "117\n",
            "[0.25279737]\n",
            "118\n",
            "[0.25279737]\n",
            "119\n",
            "[0.25279737]\n",
            "120\n",
            "[0.25279737]\n",
            "121\n",
            "[0.25279737]\n",
            "122\n",
            "[0.25279737]\n",
            "123\n",
            "[0.25279737]\n",
            "124\n",
            "[0.25279737]\n",
            "125\n",
            "[0.25279737]\n",
            "126\n",
            "[0.25279737]\n",
            "127\n",
            "[0.25279737]\n",
            "128\n",
            "[0.25279737]\n",
            "129\n",
            "[0.25279737]\n",
            "130\n"
          ]
        }
      ],
      "source": [
        "# 13. Dự báo 30 ngày tiếp theo (test có 159 ngày)\n",
        "x_input=test_data[60:].reshape(1,-1)\n",
        "x_input.shape\n",
        "\n",
        "temp_input=list(x_input)\n",
        "temp_input=temp_input[0].tolist()\n",
        "\n",
        "from numpy import array\n",
        "\n",
        "lst_output=[]\n",
        "n_steps=100\n",
        "i=0\n",
        "while(i<30):\n",
        "\n",
        "    if(len(temp_input)>250):\n",
        "        #print(temp_input)\n",
        "        x_input=np.array(temp_input[1:])\n",
        "        print(\"{} day input {}\".format(i,x_input))\n",
        "        x_input=x_input.reshape(1,-1)\n",
        "        x_input = x_input.reshape((1, n_steps, 1))\n",
        "        #print(x_input)\n",
        "        yhat = model.predict(x_input, verbose=0)\n",
        "        print(\"{} day output {}\".format(i,yhat))\n",
        "        temp_input.extend(yhat[0].tolist())\n",
        "        temp_input=temp_input[1:]\n",
        "        #print(temp_input)\n",
        "        lst_output.extend(yhat.tolist())\n",
        "        i=i+1\n",
        "    else:\n",
        "        x_input = x_input.reshape((1, n_steps,1))\n",
        "        yhat = model.predict(x_input, verbose=0)\n",
        "        print(yhat[0])\n",
        "        temp_input.extend(yhat[0].tolist())\n",
        "        print(len(temp_input))\n",
        "        lst_output.extend(yhat.tolist())\n",
        "        i=i+1\n"
      ]
    },
    {
      "cell_type": "code",
      "source": [
        "# 13b. Dự báo 60 ngày tiếp theo\n",
        "x_input=test_data[60:].reshape(1,-1)\n",
        "x_input.shape\n",
        "\n",
        "temp_input=list(x_input)\n",
        "temp_input=temp_input[0].tolist()\n",
        "\n",
        "from numpy import array\n",
        "\n",
        "lst_output_60=[]\n",
        "n_steps=100\n",
        "i=0\n",
        "while(i<60):\n",
        "\n",
        "    if(len(temp_input)>250):\n",
        "        #print(temp_input)\n",
        "        x_input=np.array(temp_input[1:])\n",
        "        print(\"{} day input {}\".format(i,x_input))\n",
        "        x_input=x_input.reshape(1,-1)\n",
        "        x_input = x_input.reshape((1, n_steps, 1))\n",
        "        #print(x_input)\n",
        "        yhat = model.predict(x_input, verbose=0)\n",
        "        print(\"{} day output {}\".format(i,yhat))\n",
        "        temp_input.extend(yhat[0].tolist())\n",
        "        temp_input=temp_input[1:]\n",
        "        #print(temp_input)\n",
        "        lst_output_60.extend(yhat.tolist())\n",
        "        i=i+1\n",
        "    else:\n",
        "        x_input = x_input.reshape((1, n_steps,1))\n",
        "        yhat = model.predict(x_input, verbose=0)\n",
        "        print(yhat[0])\n",
        "        temp_input.extend(yhat[0].tolist())\n",
        "        print(len(temp_input))\n",
        "        lst_output_60.extend(yhat.tolist())\n",
        "        i=i+1\n"
      ],
      "metadata": {
        "colab": {
          "base_uri": "https://localhost:8080/"
        },
        "id": "hK3nC9QvP286",
        "outputId": "0e828934-b547-47e0-f00a-7f6dd6b2a8c6"
      },
      "execution_count": 49,
      "outputs": [
        {
          "output_type": "stream",
          "name": "stdout",
          "text": [
            "[0.25279737]\n",
            "101\n",
            "[0.25279737]\n",
            "102\n",
            "[0.25279737]\n",
            "103\n",
            "[0.25279737]\n",
            "104\n",
            "[0.25279737]\n",
            "105\n",
            "[0.25279737]\n",
            "106\n",
            "[0.25279737]\n",
            "107\n",
            "[0.25279737]\n",
            "108\n",
            "[0.25279737]\n",
            "109\n",
            "[0.25279737]\n",
            "110\n",
            "[0.25279737]\n",
            "111\n",
            "[0.25279737]\n",
            "112\n",
            "[0.25279737]\n",
            "113\n",
            "[0.25279737]\n",
            "114\n",
            "[0.25279737]\n",
            "115\n",
            "[0.25279737]\n",
            "116\n",
            "[0.25279737]\n",
            "117\n",
            "[0.25279737]\n",
            "118\n",
            "[0.25279737]\n",
            "119\n",
            "[0.25279737]\n",
            "120\n",
            "[0.25279737]\n",
            "121\n",
            "[0.25279737]\n",
            "122\n",
            "[0.25279737]\n",
            "123\n",
            "[0.25279737]\n",
            "124\n",
            "[0.25279737]\n",
            "125\n",
            "[0.25279737]\n",
            "126\n",
            "[0.25279737]\n",
            "127\n",
            "[0.25279737]\n",
            "128\n",
            "[0.25279737]\n",
            "129\n",
            "[0.25279737]\n",
            "130\n",
            "[0.25279737]\n",
            "131\n",
            "[0.25279737]\n",
            "132\n",
            "[0.25279737]\n",
            "133\n",
            "[0.25279737]\n",
            "134\n",
            "[0.25279737]\n",
            "135\n",
            "[0.25279737]\n",
            "136\n",
            "[0.25279737]\n",
            "137\n",
            "[0.25279737]\n",
            "138\n",
            "[0.25279737]\n",
            "139\n",
            "[0.25279737]\n",
            "140\n",
            "[0.25279737]\n",
            "141\n",
            "[0.25279737]\n",
            "142\n",
            "[0.25279737]\n",
            "143\n",
            "[0.25279737]\n",
            "144\n",
            "[0.25279737]\n",
            "145\n",
            "[0.25279737]\n",
            "146\n",
            "[0.25279737]\n",
            "147\n",
            "[0.25279737]\n",
            "148\n",
            "[0.25279737]\n",
            "149\n",
            "[0.25279737]\n",
            "150\n",
            "[0.25279737]\n",
            "151\n",
            "[0.25279737]\n",
            "152\n",
            "[0.25279737]\n",
            "153\n",
            "[0.25279737]\n",
            "154\n",
            "[0.25279737]\n",
            "155\n",
            "[0.25279737]\n",
            "156\n",
            "[0.25279737]\n",
            "157\n",
            "[0.25279737]\n",
            "158\n",
            "[0.25279737]\n",
            "159\n",
            "[0.25279737]\n",
            "160\n"
          ]
        }
      ]
    },
    {
      "cell_type": "code",
      "source": [
        "# 13c. Dự báo 90 ngày tiếp theo\n",
        "x_input=test_data[60:].reshape(1,-1)\n",
        "x_input.shape\n",
        "\n",
        "temp_input=list(x_input)\n",
        "temp_input=temp_input[0].tolist()\n",
        "\n",
        "from numpy import array\n",
        "\n",
        "lst_output_90=[]\n",
        "n_steps=100\n",
        "i=0\n",
        "while(i<90):\n",
        "\n",
        "    if(len(temp_input)>250):\n",
        "        #print(temp_input)\n",
        "        x_input=np.array(temp_input[1:])\n",
        "        print(\"{} day input {}\".format(i,x_input))\n",
        "        x_input=x_input.reshape(1,-1)\n",
        "        x_input = x_input.reshape((1, n_steps, 1))\n",
        "        #print(x_input)\n",
        "        yhat = model.predict(x_input, verbose=0)\n",
        "        print(\"{} day output {}\".format(i,yhat))\n",
        "        temp_input.extend(yhat[0].tolist())\n",
        "        temp_input=temp_input[1:]\n",
        "        #print(temp_input)\n",
        "        lst_output_90.extend(yhat.tolist())\n",
        "        i=i+1\n",
        "    else:\n",
        "        x_input = x_input.reshape((1, n_steps,1))\n",
        "        yhat = model.predict(x_input, verbose=0)\n",
        "        print(yhat[0])\n",
        "        temp_input.extend(yhat[0].tolist())\n",
        "        print(len(temp_input))\n",
        "        lst_output_90.extend(yhat.tolist())\n",
        "        i=i+1\n"
      ],
      "metadata": {
        "colab": {
          "base_uri": "https://localhost:8080/"
        },
        "id": "bGr1iBoDP7JC",
        "outputId": "87ae194f-c5f9-43f6-bb39-b96a5c1f3bff"
      },
      "execution_count": 50,
      "outputs": [
        {
          "output_type": "stream",
          "name": "stdout",
          "text": [
            "[0.25279737]\n",
            "101\n",
            "[0.25279737]\n",
            "102\n",
            "[0.25279737]\n",
            "103\n",
            "[0.25279737]\n",
            "104\n",
            "[0.25279737]\n",
            "105\n",
            "[0.25279737]\n",
            "106\n",
            "[0.25279737]\n",
            "107\n",
            "[0.25279737]\n",
            "108\n",
            "[0.25279737]\n",
            "109\n",
            "[0.25279737]\n",
            "110\n",
            "[0.25279737]\n",
            "111\n",
            "[0.25279737]\n",
            "112\n",
            "[0.25279737]\n",
            "113\n",
            "[0.25279737]\n",
            "114\n",
            "[0.25279737]\n",
            "115\n",
            "[0.25279737]\n",
            "116\n",
            "[0.25279737]\n",
            "117\n",
            "[0.25279737]\n",
            "118\n",
            "[0.25279737]\n",
            "119\n",
            "[0.25279737]\n",
            "120\n",
            "[0.25279737]\n",
            "121\n",
            "[0.25279737]\n",
            "122\n",
            "[0.25279737]\n",
            "123\n",
            "[0.25279737]\n",
            "124\n",
            "[0.25279737]\n",
            "125\n",
            "[0.25279737]\n",
            "126\n",
            "[0.25279737]\n",
            "127\n",
            "[0.25279737]\n",
            "128\n",
            "[0.25279737]\n",
            "129\n",
            "[0.25279737]\n",
            "130\n",
            "[0.25279737]\n",
            "131\n",
            "[0.25279737]\n",
            "132\n",
            "[0.25279737]\n",
            "133\n",
            "[0.25279737]\n",
            "134\n",
            "[0.25279737]\n",
            "135\n",
            "[0.25279737]\n",
            "136\n",
            "[0.25279737]\n",
            "137\n",
            "[0.25279737]\n",
            "138\n",
            "[0.25279737]\n",
            "139\n",
            "[0.25279737]\n",
            "140\n",
            "[0.25279737]\n",
            "141\n",
            "[0.25279737]\n",
            "142\n",
            "[0.25279737]\n",
            "143\n",
            "[0.25279737]\n",
            "144\n",
            "[0.25279737]\n",
            "145\n",
            "[0.25279737]\n",
            "146\n",
            "[0.25279737]\n",
            "147\n",
            "[0.25279737]\n",
            "148\n",
            "[0.25279737]\n",
            "149\n",
            "[0.25279737]\n",
            "150\n",
            "[0.25279737]\n",
            "151\n",
            "[0.25279737]\n",
            "152\n",
            "[0.25279737]\n",
            "153\n",
            "[0.25279737]\n",
            "154\n",
            "[0.25279737]\n",
            "155\n",
            "[0.25279737]\n",
            "156\n",
            "[0.25279737]\n",
            "157\n",
            "[0.25279737]\n",
            "158\n",
            "[0.25279737]\n",
            "159\n",
            "[0.25279737]\n",
            "160\n",
            "[0.25279737]\n",
            "161\n",
            "[0.25279737]\n",
            "162\n",
            "[0.25279737]\n",
            "163\n",
            "[0.25279737]\n",
            "164\n",
            "[0.25279737]\n",
            "165\n",
            "[0.25279737]\n",
            "166\n",
            "[0.25279737]\n",
            "167\n",
            "[0.25279737]\n",
            "168\n",
            "[0.25279737]\n",
            "169\n",
            "[0.25279737]\n",
            "170\n",
            "[0.25279737]\n",
            "171\n",
            "[0.25279737]\n",
            "172\n",
            "[0.25279737]\n",
            "173\n",
            "[0.25279737]\n",
            "174\n",
            "[0.25279737]\n",
            "175\n",
            "[0.25279737]\n",
            "176\n",
            "[0.25279737]\n",
            "177\n",
            "[0.25279737]\n",
            "178\n",
            "[0.25279737]\n",
            "179\n",
            "[0.25279737]\n",
            "180\n",
            "[0.25279737]\n",
            "181\n",
            "[0.25279737]\n",
            "182\n",
            "[0.25279737]\n",
            "183\n",
            "[0.25279737]\n",
            "184\n",
            "[0.25279737]\n",
            "185\n",
            "[0.25279737]\n",
            "186\n",
            "[0.25279737]\n",
            "187\n",
            "[0.25279737]\n",
            "188\n",
            "[0.25279737]\n",
            "189\n",
            "[0.25279737]\n",
            "190\n"
          ]
        }
      ]
    },
    {
      "cell_type": "code",
      "source": [
        "test_data_index = pd.RangeIndex(start=train_size, stop=train_size+test_size+1-101, step=1)\n",
        "test_data_index.shape"
      ],
      "metadata": {
        "colab": {
          "base_uri": "https://localhost:8080/"
        },
        "id": "tKUGGTUzx14B",
        "outputId": "98f91ead-69f4-499f-fa34-8fc8bcd457da"
      },
      "execution_count": 51,
      "outputs": [
        {
          "output_type": "execute_result",
          "data": {
            "text/plain": [
              "(59,)"
            ]
          },
          "metadata": {},
          "execution_count": 51
        }
      ]
    },
    {
      "cell_type": "code",
      "source": [
        "y_pred.shape"
      ],
      "metadata": {
        "colab": {
          "base_uri": "https://localhost:8080/"
        },
        "id": "fqJ7TesJxOYO",
        "outputId": "c888ba90-7352-4b97-dbbd-4b778df4329c"
      },
      "execution_count": 52,
      "outputs": [
        {
          "output_type": "execute_result",
          "data": {
            "text/plain": [
              "(59, 1)"
            ]
          },
          "metadata": {},
          "execution_count": 52
        }
      ]
    },
    {
      "cell_type": "code",
      "source": [
        "# 14.Vẽ hình\n",
        "plt.figure(figsize=(12,6))\n",
        "train_data_index = pd.RangeIndex(start=0, stop=train_size, step=1)\n",
        "plt.plot(scaler.inverse_transform(train_data))\n",
        "\n",
        "test_data_index = pd.RangeIndex(start=train_size, stop=train_size+test_size+1, step=1)\n",
        "plt.plot(test_data_index,scaler.inverse_transform(test_data))\n",
        "\n",
        "test_data_index = pd.RangeIndex(start=train_size+101, stop=train_size+test_size+1, step=1)\n",
        "plt.plot(test_data_index,(y_pred))\n",
        "\n",
        "prediect_data_index_90 = pd.RangeIndex(start=len(df1)-1, stop=len(df1)+89, step=1)\n",
        "plt.plot(prediect_data_index_90,scaler.inverse_transform(lst_output_90))\n",
        "\n",
        "prediect_data_index_60 = pd.RangeIndex(start=len(df1)-1, stop=len(df1)+59, step=1)\n",
        "plt.plot(prediect_data_index_60,scaler.inverse_transform(lst_output_60))\n",
        "\n",
        "prediect_data_index = pd.RangeIndex(start=len(df1)-1, stop=len(df1)+29, step=1)\n",
        "plt.plot(prediect_data_index,scaler.inverse_transform(lst_output))\n",
        "\n",
        "plt.legend(['Train','Test','Predict','Predict30days'])\n",
        "plt.show()"
      ],
      "metadata": {
        "colab": {
          "base_uri": "https://localhost:8080/",
          "height": 522
        },
        "id": "_dM6DX1Ls5mL",
        "outputId": "c3ba9514-b804-42bc-8731-8dc8cdf80a2d"
      },
      "execution_count": 53,
      "outputs": [
        {
          "output_type": "display_data",
          "data": {
            "text/plain": [
              "<Figure size 1200x600 with 1 Axes>"
            ],
            "image/png": "[encoded data removed]"
          },
          "metadata": {}
        }
      ]
    }
  ],
  "metadata": {
    "colab": {
      "provenance": []
    },
    "kernelspec": {
      "display_name": "Python 3",
      "name": "python3"
    },
    "language_info": {
      "name": "python"
    }
  },
  "nbformat": 4,
  "nbformat_minor": 0
}