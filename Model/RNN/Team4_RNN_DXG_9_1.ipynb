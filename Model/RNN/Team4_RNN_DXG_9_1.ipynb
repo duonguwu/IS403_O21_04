{
  "cells": [
    {
      "cell_type": "code",
      "execution_count": 1,
      "metadata": {
        "colab": {
          "base_uri": "https://localhost:8080/"
        },
        "id": "FMDKda-XIUAK",
        "outputId": "e0fd79c5-1fa7-4439-d26f-894bb486fa58"
      },
      "outputs": [
        {
          "output_type": "stream",
          "name": "stdout",
          "text": [
            "Mounted at /content/drive\n"
          ]
        }
      ],
      "source": [
        "# 1. Import thư viện cần thiết\n",
        "from google.colab import drive\n",
        "drive.mount('/content/drive')\n",
        "import numpy as np\n",
        "import pandas as pd\n",
        "import matplotlib.pyplot as plt\n",
        "from sklearn.preprocessing import MinMaxScaler\n",
        "from keras.models import Sequential\n",
        "from keras.layers import Dense, SimpleRNN"
      ]
    },
    {
      "cell_type": "code",
      "execution_count": 120,
      "metadata": {
        "id": "aRm9GQ8KJJ5N"
      },
      "outputs": [],
      "source": [
        "# 2. Đọc file csv và gắng index với giá Close\n",
        "df = pd.read_csv('/content/DXG Historical Data 2018.csv')\n",
        "\n",
        "# Nhận thấy tập dữ liệu, ở cột Price giá tiền có dấu phẩy và đang ở dạng string\n",
        "# Bỏ dấu phẩy\n",
        "df['Price'] = df['Price'].str.replace(',', '')\n",
        "# Chuyển sang dạng số\n",
        "df['Price'] = pd.to_numeric(df['Price'])\n",
        "df = df[::-1]"
      ]
    },
    {
      "cell_type": "code",
      "source": [
        "df1=df.reset_index()['Price']\n",
        "df1.head()"
      ],
      "metadata": {
        "colab": {
          "base_uri": "https://localhost:8080/"
        },
        "id": "d81FWdpTpmxG",
        "outputId": "d1f610b7-e2e1-4f77-96f2-6558e398a983"
      },
      "execution_count": 121,
      "outputs": [
        {
          "output_type": "execute_result",
          "data": {
            "text/plain": [
              "0    13401.4\n",
              "1    13371.1\n",
              "2    13522.4\n",
              "3    13159.4\n",
              "4    14066.9\n",
              "Name: Price, dtype: float64"
            ]
          },
          "metadata": {},
          "execution_count": 121
        }
      ]
    },
    {
      "cell_type": "code",
      "source": [
        "df1"
      ],
      "metadata": {
        "colab": {
          "base_uri": "https://localhost:8080/"
        },
        "id": "O75pUMjkwAW1",
        "outputId": "692a2c0e-4505-4582-c4b5-91434571ea23"
      },
      "execution_count": 122,
      "outputs": [
        {
          "output_type": "execute_result",
          "data": {
            "text/plain": [
              "0       13401.4\n",
              "1       13371.1\n",
              "2       13522.4\n",
              "3       13159.4\n",
              "4       14066.9\n",
              "         ...   \n",
              "1547    19000.0\n",
              "1548    18500.0\n",
              "1549    18750.0\n",
              "1550    19500.0\n",
              "1551    19850.0\n",
              "Name: Price, Length: 1552, dtype: float64"
            ]
          },
          "metadata": {},
          "execution_count": 122
        }
      ]
    },
    {
      "cell_type": "code",
      "execution_count": 123,
      "metadata": {
        "id": "RdVpDho2JgL5"
      },
      "outputs": [],
      "source": [
        "# 3. Scaler data\n",
        "scaler=MinMaxScaler(feature_range=(0,1))\n",
        "df1=scaler.fit_transform(np.array(df1).reshape(-1,1))"
      ]
    },
    {
      "cell_type": "code",
      "execution_count": 124,
      "metadata": {
        "id": "B5JXpenzJoR3"
      },
      "outputs": [],
      "source": [
        "# 4. Chia train test\n",
        "train_size = int(0.9 * len(df1))\n",
        "test_size = int(0.1 * len(df1))\n",
        "\n",
        "train_data = df1[:train_size]\n",
        "test_data = df1[train_size:]"
      ]
    },
    {
      "cell_type": "code",
      "source": [
        "test_size"
      ],
      "metadata": {
        "colab": {
          "base_uri": "https://localhost:8080/"
        },
        "id": "MBvNXgW-v2JL",
        "outputId": "6cba82d4-631d-4372-dbbf-f12fe99b1984"
      },
      "execution_count": 125,
      "outputs": [
        {
          "output_type": "execute_result",
          "data": {
            "text/plain": [
              "155"
            ]
          },
          "metadata": {},
          "execution_count": 125
        }
      ]
    },
    {
      "cell_type": "code",
      "execution_count": 126,
      "metadata": {
        "id": "yJfmuBORLSfC"
      },
      "outputs": [],
      "source": [
        "# 5. Hàm Create Dataset\n",
        "import numpy\n",
        "# convert an array of values into a dataset matrix\n",
        "def create_dataset(dataset, time_step=1):\n",
        "\tdataX, dataY = [], []\n",
        "\tfor i in range(len(dataset)-time_step-1):\n",
        "\t\ta = dataset[i:(i+time_step), 0]   ###i=0, X=0,1,2,3-----99   Y=100\n",
        "\t\tdataX.append(a)\n",
        "\t\tdataY.append(dataset[i + time_step, 0])\n",
        "\treturn numpy.array(dataX), numpy.array(dataY)"
      ]
    },
    {
      "cell_type": "code",
      "execution_count": 127,
      "metadata": {
        "id": "e81cKq03LXFB"
      },
      "outputs": [],
      "source": [
        "# 6. Reshape into X=t,t+1,t+2..t+99 and Y=t+100\n",
        "time_step = 100\n",
        "X_train, y_train = create_dataset(train_data, time_step)\n",
        "X_test, y_test = create_dataset(test_data, time_step)"
      ]
    },
    {
      "cell_type": "code",
      "execution_count": 128,
      "metadata": {
        "id": "RdBVfku7O2qb"
      },
      "outputs": [],
      "source": [
        "# 7. Reshape input to be [samples, time steps, features] which is required for LSTM\n",
        "X_train = X_train.reshape(X_train.shape[0], X_train.shape[1], 1)\n",
        "X_test = X_test.reshape(X_test.shape[0], X_test.shape[1], 1)"
      ]
    },
    {
      "cell_type": "code",
      "source": [
        "X_train.shape"
      ],
      "metadata": {
        "colab": {
          "base_uri": "https://localhost:8080/"
        },
        "id": "IouLd-0AwQ3_",
        "outputId": "320fe5cf-16cc-4ccf-c566-22fb4bfc1634"
      },
      "execution_count": 129,
      "outputs": [
        {
          "output_type": "execute_result",
          "data": {
            "text/plain": [
              "(1295, 100, 1)"
            ]
          },
          "metadata": {},
          "execution_count": 129
        }
      ]
    },
    {
      "cell_type": "code",
      "execution_count": 130,
      "metadata": {
        "id": "sSfxrE7BO9vX"
      },
      "outputs": [],
      "source": [
        "# 8. Define LSTM Model\n",
        "model = Sequential()\n",
        "model.add(SimpleRNN(50, input_shape=(time_step, 1)))\n",
        "model.add(Dense(1))\n",
        "model.compile(loss='mean_squared_error', optimizer='adam')"
      ]
    },
    {
      "cell_type": "code",
      "execution_count": 131,
      "metadata": {
        "colab": {
          "base_uri": "https://localhost:8080/"
        },
        "id": "zgfeujZSPEKr",
        "outputId": "e76668ad-2c58-4955-fefe-3055dbe87add"
      },
      "outputs": [
        {
          "output_type": "stream",
          "name": "stdout",
          "text": [
            "Epoch 1/100\n",
            "21/21 [==============================] - 2s 21ms/step - loss: 0.0043\n",
            "Epoch 2/100\n",
            "21/21 [==============================] - 0s 22ms/step - loss: 9.4583e-04\n",
            "Epoch 3/100\n",
            "21/21 [==============================] - 0s 22ms/step - loss: 7.7793e-04\n",
            "Epoch 4/100\n",
            "21/21 [==============================] - 0s 20ms/step - loss: 6.4458e-04\n",
            "Epoch 5/100\n",
            "21/21 [==============================] - 0s 21ms/step - loss: 6.6334e-04\n",
            "Epoch 6/100\n",
            "21/21 [==============================] - 1s 33ms/step - loss: 5.3299e-04\n",
            "Epoch 7/100\n",
            "21/21 [==============================] - 1s 36ms/step - loss: 5.2013e-04\n",
            "Epoch 8/100\n",
            "21/21 [==============================] - 1s 34ms/step - loss: 5.3399e-04\n",
            "Epoch 9/100\n",
            "21/21 [==============================] - 1s 34ms/step - loss: 5.0530e-04\n",
            "Epoch 10/100\n",
            "21/21 [==============================] - 1s 35ms/step - loss: 4.4254e-04\n",
            "Epoch 11/100\n",
            "21/21 [==============================] - 1s 38ms/step - loss: 4.9680e-04\n",
            "Epoch 12/100\n",
            "21/21 [==============================] - 1s 39ms/step - loss: 5.0278e-04\n",
            "Epoch 13/100\n",
            "21/21 [==============================] - 1s 38ms/step - loss: 4.5437e-04\n",
            "Epoch 14/100\n",
            "21/21 [==============================] - 0s 20ms/step - loss: 4.7165e-04\n",
            "Epoch 15/100\n",
            "21/21 [==============================] - 0s 20ms/step - loss: 4.6220e-04\n",
            "Epoch 16/100\n",
            "21/21 [==============================] - 0s 20ms/step - loss: 4.1617e-04\n",
            "Epoch 17/100\n",
            "21/21 [==============================] - 0s 20ms/step - loss: 4.7227e-04\n",
            "Epoch 18/100\n",
            "21/21 [==============================] - 0s 20ms/step - loss: 4.3227e-04\n",
            "Epoch 19/100\n",
            "21/21 [==============================] - 0s 20ms/step - loss: 3.7093e-04\n",
            "Epoch 20/100\n",
            "21/21 [==============================] - 0s 20ms/step - loss: 3.6715e-04\n",
            "Epoch 21/100\n",
            "21/21 [==============================] - 0s 21ms/step - loss: 3.7481e-04\n",
            "Epoch 22/100\n",
            "21/21 [==============================] - 0s 21ms/step - loss: 4.4630e-04\n",
            "Epoch 23/100\n",
            "21/21 [==============================] - 0s 21ms/step - loss: 3.7010e-04\n",
            "Epoch 24/100\n",
            "21/21 [==============================] - 0s 18ms/step - loss: 3.4778e-04\n",
            "Epoch 25/100\n",
            "21/21 [==============================] - 0s 21ms/step - loss: 3.4854e-04\n",
            "Epoch 26/100\n",
            "21/21 [==============================] - 0s 18ms/step - loss: 4.0880e-04\n",
            "Epoch 27/100\n",
            "21/21 [==============================] - 0s 19ms/step - loss: 3.2797e-04\n",
            "Epoch 28/100\n",
            "21/21 [==============================] - 0s 19ms/step - loss: 3.3349e-04\n",
            "Epoch 29/100\n",
            "21/21 [==============================] - 0s 20ms/step - loss: 3.1650e-04\n",
            "Epoch 30/100\n",
            "21/21 [==============================] - 0s 19ms/step - loss: 3.4324e-04\n",
            "Epoch 31/100\n",
            "21/21 [==============================] - 0s 19ms/step - loss: 3.1539e-04\n",
            "Epoch 32/100\n",
            "21/21 [==============================] - 0s 19ms/step - loss: 3.3137e-04\n",
            "Epoch 33/100\n",
            "21/21 [==============================] - 0s 21ms/step - loss: 3.4878e-04\n",
            "Epoch 34/100\n",
            "21/21 [==============================] - 0s 21ms/step - loss: 3.4580e-04\n",
            "Epoch 35/100\n",
            "21/21 [==============================] - 0s 21ms/step - loss: 3.4267e-04\n",
            "Epoch 36/100\n",
            "21/21 [==============================] - 0s 19ms/step - loss: 3.1807e-04\n",
            "Epoch 37/100\n",
            "21/21 [==============================] - 1s 28ms/step - loss: 3.0294e-04\n",
            "Epoch 38/100\n",
            "21/21 [==============================] - 1s 35ms/step - loss: 3.0150e-04\n",
            "Epoch 39/100\n",
            "21/21 [==============================] - 1s 38ms/step - loss: 3.4041e-04\n",
            "Epoch 40/100\n",
            "21/21 [==============================] - 1s 32ms/step - loss: 2.9388e-04\n",
            "Epoch 41/100\n",
            "21/21 [==============================] - 1s 37ms/step - loss: 3.1837e-04\n",
            "Epoch 42/100\n",
            "21/21 [==============================] - 1s 40ms/step - loss: 3.2861e-04\n",
            "Epoch 43/100\n",
            "21/21 [==============================] - 1s 34ms/step - loss: 3.7669e-04\n",
            "Epoch 44/100\n",
            "21/21 [==============================] - 1s 33ms/step - loss: 3.2047e-04\n",
            "Epoch 45/100\n",
            "21/21 [==============================] - 0s 22ms/step - loss: 3.3158e-04\n",
            "Epoch 46/100\n",
            "21/21 [==============================] - 0s 20ms/step - loss: 3.5038e-04\n",
            "Epoch 47/100\n",
            "21/21 [==============================] - 0s 22ms/step - loss: 3.1176e-04\n",
            "Epoch 48/100\n",
            "21/21 [==============================] - 0s 21ms/step - loss: 2.9429e-04\n",
            "Epoch 49/100\n",
            "21/21 [==============================] - 0s 22ms/step - loss: 2.9402e-04\n",
            "Epoch 50/100\n",
            "21/21 [==============================] - 0s 21ms/step - loss: 2.8404e-04\n",
            "Epoch 51/100\n",
            "21/21 [==============================] - 0s 20ms/step - loss: 2.7673e-04\n",
            "Epoch 52/100\n",
            "21/21 [==============================] - 0s 22ms/step - loss: 3.0041e-04\n",
            "Epoch 53/100\n",
            "21/21 [==============================] - 0s 19ms/step - loss: 3.0883e-04\n",
            "Epoch 54/100\n",
            "21/21 [==============================] - 0s 19ms/step - loss: 3.1304e-04\n",
            "Epoch 55/100\n",
            "21/21 [==============================] - 0s 18ms/step - loss: 3.0208e-04\n",
            "Epoch 56/100\n",
            "21/21 [==============================] - 0s 19ms/step - loss: 2.8597e-04\n",
            "Epoch 57/100\n",
            "21/21 [==============================] - 0s 20ms/step - loss: 2.8785e-04\n",
            "Epoch 58/100\n",
            "21/21 [==============================] - 0s 20ms/step - loss: 2.9012e-04\n",
            "Epoch 59/100\n",
            "21/21 [==============================] - 0s 21ms/step - loss: 2.8444e-04\n",
            "Epoch 60/100\n",
            "21/21 [==============================] - 0s 20ms/step - loss: 2.7495e-04\n",
            "Epoch 61/100\n",
            "21/21 [==============================] - 0s 21ms/step - loss: 2.7633e-04\n",
            "Epoch 62/100\n",
            "21/21 [==============================] - 0s 18ms/step - loss: 2.6644e-04\n",
            "Epoch 63/100\n",
            "21/21 [==============================] - 0s 19ms/step - loss: 2.8579e-04\n",
            "Epoch 64/100\n",
            "21/21 [==============================] - 0s 20ms/step - loss: 2.5972e-04\n",
            "Epoch 65/100\n",
            "21/21 [==============================] - 0s 20ms/step - loss: 2.9718e-04\n",
            "Epoch 66/100\n",
            "21/21 [==============================] - 0s 20ms/step - loss: 2.9782e-04\n",
            "Epoch 67/100\n",
            "21/21 [==============================] - 0s 20ms/step - loss: 2.6583e-04\n",
            "Epoch 68/100\n",
            "21/21 [==============================] - 1s 26ms/step - loss: 2.5743e-04\n",
            "Epoch 69/100\n",
            "21/21 [==============================] - 1s 34ms/step - loss: 2.7265e-04\n",
            "Epoch 70/100\n",
            "21/21 [==============================] - 1s 36ms/step - loss: 2.6921e-04\n",
            "Epoch 71/100\n",
            "21/21 [==============================] - 1s 37ms/step - loss: 2.7066e-04\n",
            "Epoch 72/100\n",
            "21/21 [==============================] - 1s 36ms/step - loss: 2.8283e-04\n",
            "Epoch 73/100\n",
            "21/21 [==============================] - 1s 37ms/step - loss: 3.3262e-04\n",
            "Epoch 74/100\n",
            "21/21 [==============================] - 1s 37ms/step - loss: 2.9032e-04\n",
            "Epoch 75/100\n",
            "21/21 [==============================] - 1s 38ms/step - loss: 2.5983e-04\n",
            "Epoch 76/100\n",
            "21/21 [==============================] - 0s 22ms/step - loss: 2.6286e-04\n",
            "Epoch 77/100\n",
            "21/21 [==============================] - 0s 21ms/step - loss: 2.6786e-04\n",
            "Epoch 78/100\n",
            "21/21 [==============================] - 0s 22ms/step - loss: 2.7248e-04\n",
            "Epoch 79/100\n",
            "21/21 [==============================] - 0s 21ms/step - loss: 2.5583e-04\n",
            "Epoch 80/100\n",
            "21/21 [==============================] - 0s 22ms/step - loss: 2.8721e-04\n",
            "Epoch 81/100\n",
            "21/21 [==============================] - 0s 22ms/step - loss: 2.7051e-04\n",
            "Epoch 82/100\n",
            "21/21 [==============================] - 0s 22ms/step - loss: 2.5577e-04\n",
            "Epoch 83/100\n",
            "21/21 [==============================] - 0s 21ms/step - loss: 2.6533e-04\n",
            "Epoch 84/100\n",
            "21/21 [==============================] - 0s 21ms/step - loss: 2.7697e-04\n",
            "Epoch 85/100\n",
            "21/21 [==============================] - 0s 20ms/step - loss: 2.6329e-04\n",
            "Epoch 86/100\n",
            "21/21 [==============================] - 0s 20ms/step - loss: 2.5088e-04\n",
            "Epoch 87/100\n",
            "21/21 [==============================] - 0s 21ms/step - loss: 2.5317e-04\n",
            "Epoch 88/100\n",
            "21/21 [==============================] - 0s 20ms/step - loss: 2.6035e-04\n",
            "Epoch 89/100\n",
            "21/21 [==============================] - 0s 21ms/step - loss: 2.7441e-04\n",
            "Epoch 90/100\n",
            "21/21 [==============================] - 0s 21ms/step - loss: 3.1917e-04\n",
            "Epoch 91/100\n",
            "21/21 [==============================] - 0s 20ms/step - loss: 2.8983e-04\n",
            "Epoch 92/100\n",
            "21/21 [==============================] - 0s 22ms/step - loss: 2.6239e-04\n",
            "Epoch 93/100\n",
            "21/21 [==============================] - 0s 20ms/step - loss: 2.5523e-04\n",
            "Epoch 94/100\n",
            "21/21 [==============================] - 0s 22ms/step - loss: 2.6082e-04\n",
            "Epoch 95/100\n",
            "21/21 [==============================] - 0s 20ms/step - loss: 2.5440e-04\n",
            "Epoch 96/100\n",
            "21/21 [==============================] - 0s 21ms/step - loss: 2.4799e-04\n",
            "Epoch 97/100\n",
            "21/21 [==============================] - 0s 18ms/step - loss: 2.4817e-04\n",
            "Epoch 98/100\n",
            "21/21 [==============================] - 1s 29ms/step - loss: 2.6147e-04\n",
            "Epoch 99/100\n",
            "21/21 [==============================] - 1s 37ms/step - loss: 2.5913e-04\n",
            "Epoch 100/100\n",
            "21/21 [==============================] - 1s 36ms/step - loss: 2.6578e-04\n"
          ]
        },
        {
          "output_type": "execute_result",
          "data": {
            "text/plain": [
              "<keras.src.callbacks.History at 0x7c3aec4a41f0>"
            ]
          },
          "metadata": {},
          "execution_count": 131
        }
      ],
      "source": [
        "# 9. Fit mô hình với dữ liệu train\n",
        "model.fit(X_train, y_train, epochs=100, batch_size=64, verbose=1)"
      ]
    },
    {
      "cell_type": "code",
      "execution_count": 132,
      "metadata": {
        "colab": {
          "base_uri": "https://localhost:8080/"
        },
        "id": "Rxx_KQSkQpBG",
        "outputId": "604365f5-fe84-492e-90e4-d6ac8a85f11a"
      },
      "outputs": [
        {
          "output_type": "stream",
          "name": "stdout",
          "text": [
            "41/41 [==============================] - 0s 7ms/step\n",
            "2/2 [==============================] - 0s 11ms/step\n"
          ]
        }
      ],
      "source": [
        "# 10. Dự báo dữ liệu test\n",
        "train_predict = model.predict(X_train)\n",
        "y_pred = model.predict(X_test)\n"
      ]
    },
    {
      "cell_type": "code",
      "execution_count": 133,
      "metadata": {
        "id": "5rwTN10LQ7rj"
      },
      "outputs": [],
      "source": [
        "# 11. Chuẩn hóa dữ liệu y_pred, y_test\n",
        "train_predict = scaler.inverse_transform(train_predict)\n",
        "y_pred = scaler.inverse_transform(y_pred)\n",
        "y_test = scaler.inverse_transform(y_test.reshape(-1, 1))"
      ]
    },
    {
      "cell_type": "code",
      "execution_count": 134,
      "metadata": {
        "colab": {
          "base_uri": "https://localhost:8080/"
        },
        "id": "wu_9j94kRonD",
        "outputId": "d1c98ae7-93bb-456c-eb3c-52d5cad08a39"
      },
      "outputs": [
        {
          "output_type": "stream",
          "name": "stdout",
          "text": [
            "Testing RMSE: 328.78610548916197\n"
          ]
        }
      ],
      "source": [
        "# 12. Đánh giá độ chính xác thuật toán bằng RMSE\n",
        "test_rmse = np.sqrt(np.mean((y_pred - y_test)**2))\n",
        "print('Testing RMSE:', test_rmse)"
      ]
    },
    {
      "cell_type": "code",
      "source": [
        "x_input.shape"
      ],
      "metadata": {
        "colab": {
          "base_uri": "https://localhost:8080/"
        },
        "id": "DkcEu5EBqkc-",
        "outputId": "25b61c2e-3651-4605-8843-840bf381770a"
      },
      "execution_count": 135,
      "outputs": [
        {
          "output_type": "execute_result",
          "data": {
            "text/plain": [
              "(1, 96, 1)"
            ]
          },
          "metadata": {},
          "execution_count": 135
        }
      ]
    },
    {
      "cell_type": "code",
      "execution_count": 136,
      "metadata": {
        "colab": {
          "base_uri": "https://localhost:8080/"
        },
        "id": "izQZ1iQyYl6N",
        "outputId": "f0008943-1bfa-49ad-96d4-6768ae2d1c9e",
        "collapsed": true
      },
      "outputs": [
        {
          "output_type": "stream",
          "name": "stdout",
          "text": [
            "[0.333036]\n",
            "97\n",
            "[0.333036]\n",
            "98\n",
            "[0.333036]\n",
            "99\n",
            "[0.333036]\n",
            "100\n",
            "[0.333036]\n",
            "101\n",
            "[0.333036]\n",
            "102\n",
            "[0.333036]\n",
            "103\n",
            "[0.333036]\n",
            "104\n",
            "[0.333036]\n",
            "105\n",
            "[0.333036]\n",
            "106\n",
            "[0.333036]\n",
            "107\n",
            "[0.333036]\n",
            "108\n",
            "[0.333036]\n",
            "109\n",
            "[0.333036]\n",
            "110\n",
            "[0.333036]\n",
            "111\n",
            "[0.333036]\n",
            "112\n",
            "[0.333036]\n",
            "113\n",
            "[0.333036]\n",
            "114\n",
            "[0.333036]\n",
            "115\n",
            "[0.333036]\n",
            "116\n",
            "[0.333036]\n",
            "117\n",
            "[0.333036]\n",
            "118\n",
            "[0.333036]\n",
            "119\n",
            "[0.333036]\n",
            "120\n",
            "[0.333036]\n",
            "121\n",
            "[0.333036]\n",
            "122\n",
            "[0.333036]\n",
            "123\n",
            "[0.333036]\n",
            "124\n",
            "[0.333036]\n",
            "125\n",
            "[0.333036]\n",
            "126\n"
          ]
        }
      ],
      "source": [
        "# 13. Dự báo 30 ngày tiếp theo\n",
        "x_input=test_data[60:].reshape(1,-1)\n",
        "x_input.shape\n",
        "\n",
        "temp_input=list(x_input)\n",
        "temp_input=temp_input[0].tolist()\n",
        "\n",
        "from numpy import array\n",
        "\n",
        "lst_output=[]\n",
        "n_steps=96       # Thay đổi phù hợp\n",
        "i=0\n",
        "while(i<30):\n",
        "\n",
        "    if(len(temp_input)>250):\n",
        "        #print(temp_input)\n",
        "        x_input=np.array(temp_input[1:])\n",
        "        print(\"{} day input {}\".format(i,x_input))\n",
        "        x_input=x_input.reshape(1,-1)\n",
        "        x_input = x_input.reshape((1, n_steps, 1))\n",
        "        #print(x_input)\n",
        "        yhat = model.predict(x_input, verbose=0)\n",
        "        print(\"{} day output {}\".format(i,yhat))\n",
        "        temp_input.extend(yhat[0].tolist())\n",
        "        temp_input=temp_input[1:]\n",
        "        #print(temp_input)\n",
        "        lst_output.extend(yhat.tolist())\n",
        "        i=i+1\n",
        "    else:\n",
        "        x_input = x_input.reshape((1, n_steps,1))\n",
        "        yhat = model.predict(x_input, verbose=0)\n",
        "        print(yhat[0])\n",
        "        temp_input.extend(yhat[0].tolist())\n",
        "        print(len(temp_input))\n",
        "        lst_output.extend(yhat.tolist())\n",
        "        i=i+1\n"
      ]
    },
    {
      "cell_type": "code",
      "source": [
        "test_data_index = pd.RangeIndex(start=train_size, stop=train_size+test_size+1-101, step=1)\n",
        "test_data_index.shape"
      ],
      "metadata": {
        "colab": {
          "base_uri": "https://localhost:8080/"
        },
        "id": "tKUGGTUzx14B",
        "outputId": "6b7086e8-9e0f-4800-fb6a-28ea6646fbf5"
      },
      "execution_count": 137,
      "outputs": [
        {
          "output_type": "execute_result",
          "data": {
            "text/plain": [
              "(55,)"
            ]
          },
          "metadata": {},
          "execution_count": 137
        }
      ]
    },
    {
      "cell_type": "code",
      "source": [
        "y_pred.shape"
      ],
      "metadata": {
        "colab": {
          "base_uri": "https://localhost:8080/"
        },
        "id": "fqJ7TesJxOYO",
        "outputId": "62901a68-5020-4595-b60e-b31535ac0b60"
      },
      "execution_count": 138,
      "outputs": [
        {
          "output_type": "execute_result",
          "data": {
            "text/plain": [
              "(55, 1)"
            ]
          },
          "metadata": {},
          "execution_count": 138
        }
      ]
    },
    {
      "cell_type": "code",
      "source": [
        "# 14.Vẽ hình\n",
        "plt.figure(figsize=(12,6))\n",
        "train_data_index = pd.RangeIndex(start=0, stop=train_size, step=1)\n",
        "plt.plot(scaler.inverse_transform(train_data))\n",
        "\n",
        "test_data_index = pd.RangeIndex(start=train_size, stop=train_size+test_size+1, step=1)\n",
        "plt.plot(test_data_index,scaler.inverse_transform(test_data))\n",
        "\n",
        "test_data_index = pd.RangeIndex(start=train_size+101, stop=train_size+test_size+1, step=1)\n",
        "plt.plot(test_data_index,(y_pred))\n",
        "\n",
        "prediect_data_index = pd.RangeIndex(start=len(df1)-1, stop=len(df1)+29, step=1)\n",
        "plt.plot(prediect_data_index,scaler.inverse_transform(lst_output))\n",
        "\n",
        "plt.legend(['Train','Test','Predict','Predict30days'])\n",
        "plt.show()"
      ],
      "metadata": {
        "colab": {
          "base_uri": "https://localhost:8080/",
          "height": 522
        },
        "id": "_dM6DX1Ls5mL",
        "outputId": "0556a0d2-5e02-4f0f-f393-aa47d6053375"
      },
      "execution_count": 139,
      "outputs": [
        {
          "output_type": "display_data",
          "data": {
            "text/plain": [
              "<Figure size 1200x600 with 1 Axes>"
            ],
            "image/png": "[encoded data removed]"
          },
          "metadata": {}
        }
      ]
    }
  ],
  "metadata": {
    "colab": {
      "provenance": []
    },
    "kernelspec": {
      "display_name": "Python 3",
      "name": "python3"
    },
    "language_info": {
      "name": "python"
    }
  },
  "nbformat": 4,
  "nbformat_minor": 0
}