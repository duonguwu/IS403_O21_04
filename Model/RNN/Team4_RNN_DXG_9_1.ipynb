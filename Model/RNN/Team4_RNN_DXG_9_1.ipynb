{
  "cells": [
    {
      "cell_type": "code",
      "execution_count": 270,
      "metadata": {
        "id": "FMDKda-XIUAK"
      },
      "outputs": [],
      "source": [
        "# 1. Import thư viện cần thiết\n",
        "import numpy as np\n",
        "import pandas as pd\n",
        "import matplotlib.pyplot as plt\n",
        "from sklearn.preprocessing import MinMaxScaler\n",
        "from keras.models import Sequential\n",
        "from keras.layers import Dense, SimpleRNN"
      ]
    },
    {
      "cell_type": "code",
      "execution_count": 271,
      "metadata": {
        "id": "aRm9GQ8KJJ5N"
      },
      "outputs": [],
      "source": [
        "# 2. Đọc file csv và gắng index với giá Close\n",
        "df = pd.read_csv('/content/DXG Historical Data 1_6.csv')\n",
        "\n",
        "# Nhận thấy tập dữ liệu, ở cột Price giá tiền có dấu phẩy và đang ở dạng string\n",
        "# Bỏ dấu phẩy\n",
        "df['Price'] = df['Price'].str.replace(',', '')\n",
        "# Chuyển sang dạng số\n",
        "df['Price'] = pd.to_numeric(df['Price'])\n",
        "df = df[::-1]"
      ]
    },
    {
      "cell_type": "code",
      "source": [
        "df1=df.reset_index()['Price']\n",
        "df1.head()"
      ],
      "metadata": {
        "colab": {
          "base_uri": "https://localhost:8080/"
        },
        "id": "d81FWdpTpmxG",
        "outputId": "327ca529-5900-4643-a967-6c41a7a22803"
      },
      "execution_count": 272,
      "outputs": [
        {
          "output_type": "execute_result",
          "data": {
            "text/plain": [
              "0    13401.4\n",
              "1    13371.1\n",
              "2    13522.4\n",
              "3    13159.4\n",
              "4    14066.9\n",
              "Name: Price, dtype: float64"
            ]
          },
          "metadata": {},
          "execution_count": 272
        }
      ]
    },
    {
      "cell_type": "code",
      "source": [
        "df1"
      ],
      "metadata": {
        "colab": {
          "base_uri": "https://localhost:8080/"
        },
        "id": "O75pUMjkwAW1",
        "outputId": "0afe3334-98d1-40b2-871e-4a50dbebbb71"
      },
      "execution_count": 273,
      "outputs": [
        {
          "output_type": "execute_result",
          "data": {
            "text/plain": [
              "0       13401.4\n",
              "1       13371.1\n",
              "2       13522.4\n",
              "3       13159.4\n",
              "4       14066.9\n",
              "         ...   \n",
              "1593    16550.0\n",
              "1594    16800.0\n",
              "1595    16850.0\n",
              "1596    16850.0\n",
              "1597    16800.0\n",
              "Name: Price, Length: 1598, dtype: float64"
            ]
          },
          "metadata": {},
          "execution_count": 273
        }
      ]
    },
    {
      "cell_type": "code",
      "execution_count": 274,
      "metadata": {
        "id": "RdVpDho2JgL5"
      },
      "outputs": [],
      "source": [
        "# 3. Scaler data\n",
        "scaler=MinMaxScaler(feature_range=(0,1))\n",
        "df1=scaler.fit_transform(np.array(df1).reshape(-1,1))"
      ]
    },
    {
      "cell_type": "code",
      "execution_count": 275,
      "metadata": {
        "id": "B5JXpenzJoR3"
      },
      "outputs": [],
      "source": [
        "# 4. Chia train test\n",
        "train_size = int(0.9 * len(df1))\n",
        "test_size = int(0.1 * len(df1))\n",
        "\n",
        "train_data = df1[:train_size]\n",
        "test_data = df1[train_size:]"
      ]
    },
    {
      "cell_type": "code",
      "source": [
        "print(train_size)\n",
        "print(test_size)"
      ],
      "metadata": {
        "colab": {
          "base_uri": "https://localhost:8080/"
        },
        "id": "MBvNXgW-v2JL",
        "outputId": "efd5ed93-5585-4e36-d65b-9a6a2adfdaa9"
      },
      "execution_count": 276,
      "outputs": [
        {
          "output_type": "stream",
          "name": "stdout",
          "text": [
            "1438\n",
            "159\n"
          ]
        }
      ]
    },
    {
      "cell_type": "code",
      "execution_count": 277,
      "metadata": {
        "id": "yJfmuBORLSfC"
      },
      "outputs": [],
      "source": [
        "# 5. Hàm Create Dataset\n",
        "import numpy\n",
        "# convert an array of values into a dataset matrix\n",
        "def create_dataset(dataset, time_step=1):\n",
        "\tdataX, dataY = [], []\n",
        "\tfor i in range(len(dataset)-time_step-1):\n",
        "\t\ta = dataset[i:(i+time_step), 0]   ###i=0, X=0,1,2,3-----99   Y=100\n",
        "\t\tdataX.append(a)\n",
        "\t\tdataY.append(dataset[i + time_step, 0])\n",
        "\treturn numpy.array(dataX), numpy.array(dataY)"
      ]
    },
    {
      "cell_type": "code",
      "execution_count": 278,
      "metadata": {
        "id": "e81cKq03LXFB"
      },
      "outputs": [],
      "source": [
        "# # 6. Reshape into X=t,t+1,t+2..t+99 and Y=t+100\n",
        "# time_step = 100\n",
        "# X_train2, y_train2 = create_dataset(train_data, time_step)\n",
        "# X_test2, y_test2 = create_dataset(test_data, time_step)"
      ]
    },
    {
      "cell_type": "code",
      "source": [
        "# 6. Reshape into X=t,t+1,t+2..t+99 and Y=t+100\n",
        "time_step = 100\n",
        "\n",
        "x, y = create_dataset(df1, time_step)\n",
        "\n",
        "X_train = x[:train_size-100]\n",
        "X_test = x[train_size-100:]\n",
        "y_train = y[:train_size-100]\n",
        "y_test = y[train_size-100:]"
      ],
      "metadata": {
        "id": "_AS-M5MVpuWQ"
      },
      "execution_count": 279,
      "outputs": []
    },
    {
      "cell_type": "code",
      "source": [
        "# X_train = X_train2[:train_size-100]\n",
        "# X_test = X_train2[train_size-100:]\n",
        "# y_train = y_train2[:train_size-100]\n",
        "# y_test = y_train2[train_size-100:]"
      ],
      "metadata": {
        "id": "v4czUpB-nXEI"
      },
      "execution_count": 280,
      "outputs": []
    },
    {
      "cell_type": "code",
      "execution_count": 281,
      "metadata": {
        "id": "RdBVfku7O2qb"
      },
      "outputs": [],
      "source": [
        "# 7. Reshape input to be [samples, time steps, features] which is required for LSTM\n",
        "X_train = X_train.reshape(X_train.shape[0], X_train.shape[1], 1)\n",
        "X_test = X_test.reshape(X_test.shape[0], X_test.shape[1], 1)"
      ]
    },
    {
      "cell_type": "code",
      "source": [
        "X_test.shape"
      ],
      "metadata": {
        "colab": {
          "base_uri": "https://localhost:8080/"
        },
        "id": "IouLd-0AwQ3_",
        "outputId": "269a16c3-86c5-4664-d881-676363128cec"
      },
      "execution_count": 282,
      "outputs": [
        {
          "output_type": "execute_result",
          "data": {
            "text/plain": [
              "(159, 100, 1)"
            ]
          },
          "metadata": {},
          "execution_count": 282
        }
      ]
    },
    {
      "cell_type": "code",
      "execution_count": 283,
      "metadata": {
        "id": "sSfxrE7BO9vX"
      },
      "outputs": [],
      "source": [
        "# 8. Define LSTM Model\n",
        "model = Sequential()\n",
        "model.add(SimpleRNN(50, input_shape=(time_step, 1)))\n",
        "model.add(Dense(1))\n",
        "model.compile(loss='mean_squared_error', optimizer='adam')"
      ]
    },
    {
      "cell_type": "code",
      "execution_count": 284,
      "metadata": {
        "colab": {
          "base_uri": "https://localhost:8080/"
        },
        "id": "zgfeujZSPEKr",
        "outputId": "ee9f5d1d-873c-447d-c10c-4fe24cb4b929",
        "collapsed": true
      },
      "outputs": [
        {
          "output_type": "stream",
          "name": "stdout",
          "text": [
            "Epoch 1/50\n",
            "21/21 [==============================] - 1s 18ms/step - loss: 0.0125\n",
            "Epoch 2/50\n",
            "21/21 [==============================] - 1s 31ms/step - loss: 0.0012\n",
            "Epoch 3/50\n",
            "21/21 [==============================] - 1s 31ms/step - loss: 7.3210e-04\n",
            "Epoch 4/50\n",
            "21/21 [==============================] - 1s 29ms/step - loss: 6.1253e-04\n",
            "Epoch 5/50\n",
            "21/21 [==============================] - 1s 32ms/step - loss: 5.5553e-04\n",
            "Epoch 6/50\n",
            "21/21 [==============================] - 1s 35ms/step - loss: 5.1370e-04\n",
            "Epoch 7/50\n",
            "21/21 [==============================] - 0s 21ms/step - loss: 5.0957e-04\n",
            "Epoch 8/50\n",
            "21/21 [==============================] - 0s 18ms/step - loss: 5.2349e-04\n",
            "Epoch 9/50\n",
            "21/21 [==============================] - 0s 17ms/step - loss: 4.6042e-04\n",
            "Epoch 10/50\n",
            "21/21 [==============================] - 0s 17ms/step - loss: 4.3153e-04\n",
            "Epoch 11/50\n",
            "21/21 [==============================] - 0s 17ms/step - loss: 4.1656e-04\n",
            "Epoch 12/50\n",
            "21/21 [==============================] - 0s 17ms/step - loss: 4.0729e-04\n",
            "Epoch 13/50\n",
            "21/21 [==============================] - 0s 22ms/step - loss: 3.9744e-04\n",
            "Epoch 14/50\n",
            "21/21 [==============================] - 1s 32ms/step - loss: 3.9012e-04\n",
            "Epoch 15/50\n",
            "21/21 [==============================] - 1s 32ms/step - loss: 3.9960e-04\n",
            "Epoch 16/50\n",
            "21/21 [==============================] - 1s 30ms/step - loss: 3.8115e-04\n",
            "Epoch 17/50\n",
            "21/21 [==============================] - 1s 31ms/step - loss: 3.7687e-04\n",
            "Epoch 18/50\n",
            "21/21 [==============================] - 1s 32ms/step - loss: 3.6331e-04\n",
            "Epoch 19/50\n",
            "21/21 [==============================] - 0s 21ms/step - loss: 3.8085e-04\n",
            "Epoch 20/50\n",
            "21/21 [==============================] - 0s 18ms/step - loss: 3.6541e-04\n",
            "Epoch 21/50\n",
            "21/21 [==============================] - 0s 17ms/step - loss: 3.5004e-04\n",
            "Epoch 22/50\n",
            "21/21 [==============================] - 0s 17ms/step - loss: 3.4307e-04\n",
            "Epoch 23/50\n",
            "21/21 [==============================] - 0s 19ms/step - loss: 3.4658e-04\n",
            "Epoch 24/50\n",
            "21/21 [==============================] - 0s 17ms/step - loss: 3.6289e-04\n",
            "Epoch 25/50\n",
            "21/21 [==============================] - 0s 18ms/step - loss: 3.4225e-04\n",
            "Epoch 26/50\n",
            "21/21 [==============================] - 0s 18ms/step - loss: 3.4172e-04\n",
            "Epoch 27/50\n",
            "21/21 [==============================] - 0s 18ms/step - loss: 3.3430e-04\n",
            "Epoch 28/50\n",
            "21/21 [==============================] - 0s 18ms/step - loss: 3.4472e-04\n",
            "Epoch 29/50\n",
            "21/21 [==============================] - 0s 17ms/step - loss: 3.3026e-04\n",
            "Epoch 30/50\n",
            "21/21 [==============================] - 0s 17ms/step - loss: 3.3004e-04\n",
            "Epoch 31/50\n",
            "21/21 [==============================] - 0s 18ms/step - loss: 3.1421e-04\n",
            "Epoch 32/50\n",
            "21/21 [==============================] - 0s 16ms/step - loss: 3.1256e-04\n",
            "Epoch 33/50\n",
            "21/21 [==============================] - 0s 17ms/step - loss: 3.2016e-04\n",
            "Epoch 34/50\n",
            "21/21 [==============================] - 0s 17ms/step - loss: 3.3141e-04\n",
            "Epoch 35/50\n",
            "21/21 [==============================] - 0s 16ms/step - loss: 3.0557e-04\n",
            "Epoch 36/50\n",
            "21/21 [==============================] - 0s 18ms/step - loss: 3.2125e-04\n",
            "Epoch 37/50\n",
            "21/21 [==============================] - 0s 16ms/step - loss: 3.3680e-04\n",
            "Epoch 38/50\n",
            "21/21 [==============================] - 0s 16ms/step - loss: 3.2386e-04\n",
            "Epoch 39/50\n",
            "21/21 [==============================] - 0s 18ms/step - loss: 3.1030e-04\n",
            "Epoch 40/50\n",
            "21/21 [==============================] - 0s 16ms/step - loss: 3.2440e-04\n",
            "Epoch 41/50\n",
            "21/21 [==============================] - 0s 17ms/step - loss: 3.0552e-04\n",
            "Epoch 42/50\n",
            "21/21 [==============================] - 0s 19ms/step - loss: 3.0966e-04\n",
            "Epoch 43/50\n",
            "21/21 [==============================] - 0s 16ms/step - loss: 2.9988e-04\n",
            "Epoch 44/50\n",
            "21/21 [==============================] - 0s 17ms/step - loss: 2.9443e-04\n",
            "Epoch 45/50\n",
            "21/21 [==============================] - 0s 17ms/step - loss: 2.9051e-04\n",
            "Epoch 46/50\n",
            "21/21 [==============================] - 0s 23ms/step - loss: 2.8860e-04\n",
            "Epoch 47/50\n",
            "21/21 [==============================] - 1s 30ms/step - loss: 2.8915e-04\n",
            "Epoch 48/50\n",
            "21/21 [==============================] - 1s 30ms/step - loss: 3.0267e-04\n",
            "Epoch 49/50\n",
            "21/21 [==============================] - 1s 31ms/step - loss: 2.8545e-04\n",
            "Epoch 50/50\n",
            "21/21 [==============================] - 1s 30ms/step - loss: 2.8770e-04\n"
          ]
        },
        {
          "output_type": "execute_result",
          "data": {
            "text/plain": [
              "<keras.src.callbacks.History at 0x783780bd2bc0>"
            ]
          },
          "metadata": {},
          "execution_count": 284
        }
      ],
      "source": [
        "# 9. Fit mô hình với dữ liệu train\n",
        "model.fit(X_train, y_train, epochs=50, batch_size=64, verbose=1)"
      ]
    },
    {
      "cell_type": "code",
      "execution_count": 285,
      "metadata": {
        "colab": {
          "base_uri": "https://localhost:8080/"
        },
        "id": "Rxx_KQSkQpBG",
        "outputId": "3a09bdaa-1edf-42bf-e372-01ccf2d5d5f4"
      },
      "outputs": [
        {
          "output_type": "stream",
          "name": "stdout",
          "text": [
            "42/42 [==============================] - 0s 6ms/step\n",
            "5/5 [==============================] - 0s 6ms/step\n"
          ]
        }
      ],
      "source": [
        "# 10. Dự báo dữ liệu test\n",
        "train_predict = model.predict(X_train)\n",
        "y_pred = model.predict(X_test)\n"
      ]
    },
    {
      "cell_type": "code",
      "execution_count": 286,
      "metadata": {
        "id": "5rwTN10LQ7rj"
      },
      "outputs": [],
      "source": [
        "# 11. Chuẩn hóa dữ liệu y_pred, y_test\n",
        "train_predict = scaler.inverse_transform(train_predict)\n",
        "y_pred = scaler.inverse_transform(y_pred)\n",
        "y_test = scaler.inverse_transform(y_test.reshape(-1, 1))"
      ]
    },
    {
      "cell_type": "code",
      "source": [
        "# Các độ đo\n",
        "import numpy as np\n",
        "\n",
        "# Mean Absolute Error\n",
        "def mae(y_true, y_pred):\n",
        "    return np.mean(np.abs(y_true - y_pred))\n",
        "\n",
        "# Mean Absolute Percentage Error\n",
        "def mape(y_true, y_pred):\n",
        "    return np.mean(np.abs((y_true - y_pred) / y_true)) * 100\n",
        "\n",
        "# Mean Squared Error\n",
        "def mse(y_true, y_pred):\n",
        "    return np.mean((y_true - y_pred) ** 2)\n",
        "\n",
        "# Root Mean Squared Error\n",
        "def rmse(y_true, y_pred):\n",
        "    return np.sqrt(mse(y_true, y_pred))\n",
        "\n",
        "# Mean Absolute Scaled Error\n",
        "def mase(y_true, y_pred, y_train):\n",
        "    n = len(y_train)\n",
        "    d = np.mean(np.abs(y_train[1:] - y_train[:-1]))\n",
        "    errors = np.abs(y_true - y_pred)\n",
        "    return np.mean(errors / d)\n"
      ],
      "metadata": {
        "id": "tNcfiNnIaj9o"
      },
      "execution_count": 287,
      "outputs": []
    },
    {
      "cell_type": "code",
      "execution_count": 288,
      "metadata": {
        "colab": {
          "base_uri": "https://localhost:8080/"
        },
        "id": "wu_9j94kRonD",
        "outputId": "f4eaef05-af41-47f1-d007-7b5c32701c04"
      },
      "outputs": [
        {
          "output_type": "stream",
          "name": "stdout",
          "text": [
            "Test MAE: 410.3056\n",
            "Test MAPE: 2.3411%\n",
            "Test MASE: 38379.6883\n",
            "Test MSE: 272912.4090\n",
            "Test RMSE: 522.4102\n"
          ]
        }
      ],
      "source": [
        "# 12. Đánh giá độ chính xác thuật toán bằng RMSE\n",
        "# Tính độ đo cho tập kiểm tra\n",
        "test_mae = mae(y_pred, y_test)\n",
        "test_mape = mape(y_pred, y_test)\n",
        "test_mase = mase(y_pred, y_test, y_train)\n",
        "test_mse = mse(y_pred, y_test)\n",
        "test_rmse = rmse(y_pred, y_test)\n",
        "\n",
        "print(f'Test MAE: {test_mae:.4f}')\n",
        "print(f'Test MAPE: {test_mape:.4f}%')\n",
        "print(f'Test MASE: {test_mase:.4f}')\n",
        "print(f'Test MSE: {test_mse:.4f}')\n",
        "print(f'Test RMSE: {test_rmse:.4f}')"
      ]
    },
    {
      "cell_type": "code",
      "execution_count": 289,
      "metadata": {
        "colab": {
          "base_uri": "https://localhost:8080/"
        },
        "id": "izQZ1iQyYl6N",
        "outputId": "78069081-d6f2-4070-ad33-4eba3ce78e8a",
        "collapsed": true
      },
      "outputs": [
        {
          "output_type": "stream",
          "name": "stdout",
          "text": [
            "[0.25089937]\n",
            "101\n",
            "[0.25089937]\n",
            "102\n",
            "[0.25089937]\n",
            "103\n",
            "[0.25089937]\n",
            "104\n",
            "[0.25089937]\n",
            "105\n",
            "[0.25089937]\n",
            "106\n",
            "[0.25089937]\n",
            "107\n",
            "[0.25089937]\n",
            "108\n",
            "[0.25089937]\n",
            "109\n",
            "[0.25089937]\n",
            "110\n",
            "[0.25089937]\n",
            "111\n",
            "[0.25089937]\n",
            "112\n",
            "[0.25089937]\n",
            "113\n",
            "[0.25089937]\n",
            "114\n",
            "[0.25089937]\n",
            "115\n",
            "[0.25089937]\n",
            "116\n",
            "[0.25089937]\n",
            "117\n",
            "[0.25089937]\n",
            "118\n",
            "[0.25089937]\n",
            "119\n",
            "[0.25089937]\n",
            "120\n",
            "[0.25089937]\n",
            "121\n",
            "[0.25089937]\n",
            "122\n",
            "[0.25089937]\n",
            "123\n",
            "[0.25089937]\n",
            "124\n",
            "[0.25089937]\n",
            "125\n",
            "[0.25089937]\n",
            "126\n",
            "[0.25089937]\n",
            "127\n",
            "[0.25089937]\n",
            "128\n",
            "[0.25089937]\n",
            "129\n",
            "[0.25089937]\n",
            "130\n"
          ]
        }
      ],
      "source": [
        "# 13. Dự báo 30 ngày tiếp theo (test có 479 ngày)\n",
        "x_input=test_data[60:].reshape(1,-1)\n",
        "x_input.shape\n",
        "\n",
        "temp_input=list(x_input)\n",
        "temp_input=temp_input[0].tolist()\n",
        "\n",
        "from numpy import array\n",
        "\n",
        "lst_output=[]\n",
        "n_steps=100\n",
        "i=0\n",
        "while(i<30):\n",
        "\n",
        "    if(len(temp_input)>250):\n",
        "        #print(temp_input)\n",
        "        x_input=np.array(temp_input[1:])\n",
        "        print(\"{} day input {}\".format(i,x_input))\n",
        "        x_input=x_input.reshape(1,-1)\n",
        "        x_input = x_input.reshape((1, n_steps, 1))\n",
        "        #print(x_input)\n",
        "        yhat = model.predict(x_input, verbose=0)\n",
        "        print(\"{} day output {}\".format(i,yhat))\n",
        "        temp_input.extend(yhat[0].tolist())\n",
        "        temp_input=temp_input[1:]\n",
        "        #print(temp_input)\n",
        "        lst_output.extend(yhat.tolist())\n",
        "        i=i+1\n",
        "    else:\n",
        "        x_input = x_input.reshape((1, n_steps,1))\n",
        "        yhat = model.predict(x_input, verbose=0)\n",
        "        print(yhat[0])\n",
        "        temp_input.extend(yhat[0].tolist())\n",
        "        print(len(temp_input))\n",
        "        lst_output.extend(yhat.tolist())\n",
        "        i=i+1\n"
      ]
    },
    {
      "cell_type": "code",
      "source": [
        "# 13b. Dự báo 60 ngày tiếp theo\n",
        "x_input=test_data[60:].reshape(1,-1)\n",
        "x_input.shape\n",
        "\n",
        "temp_input=list(x_input)\n",
        "temp_input=temp_input[0].tolist()\n",
        "\n",
        "from numpy import array\n",
        "\n",
        "lst_output_60=[]\n",
        "n_steps=100\n",
        "i=0\n",
        "while(i<60):\n",
        "\n",
        "    if(len(temp_input)>250):\n",
        "        #print(temp_input)\n",
        "        x_input=np.array(temp_input[1:])\n",
        "        print(\"{} day input {}\".format(i,x_input))\n",
        "        x_input=x_input.reshape(1,-1)\n",
        "        x_input = x_input.reshape((1, n_steps, 1))\n",
        "        #print(x_input)\n",
        "        yhat = model.predict(x_input, verbose=0)\n",
        "        print(\"{} day output {}\".format(i,yhat))\n",
        "        temp_input.extend(yhat[0].tolist())\n",
        "        temp_input=temp_input[1:]\n",
        "        #print(temp_input)\n",
        "        lst_output_60.extend(yhat.tolist())\n",
        "        i=i+1\n",
        "    else:\n",
        "        x_input = x_input.reshape((1, n_steps,1))\n",
        "        yhat = model.predict(x_input, verbose=0)\n",
        "        print(yhat[0])\n",
        "        temp_input.extend(yhat[0].tolist())\n",
        "        print(len(temp_input))\n",
        "        lst_output_60.extend(yhat.tolist())\n",
        "        i=i+1\n"
      ],
      "metadata": {
        "colab": {
          "base_uri": "https://localhost:8080/"
        },
        "id": "hK3nC9QvP286",
        "outputId": "65ad0e40-630f-448a-ed8f-04a666029360"
      },
      "execution_count": 290,
      "outputs": [
        {
          "output_type": "stream",
          "name": "stdout",
          "text": [
            "[0.25089937]\n",
            "101\n",
            "[0.25089937]\n",
            "102\n",
            "[0.25089937]\n",
            "103\n",
            "[0.25089937]\n",
            "104\n",
            "[0.25089937]\n",
            "105\n",
            "[0.25089937]\n",
            "106\n",
            "[0.25089937]\n",
            "107\n",
            "[0.25089937]\n",
            "108\n",
            "[0.25089937]\n",
            "109\n",
            "[0.25089937]\n",
            "110\n",
            "[0.25089937]\n",
            "111\n",
            "[0.25089937]\n",
            "112\n",
            "[0.25089937]\n",
            "113\n",
            "[0.25089937]\n",
            "114\n",
            "[0.25089937]\n",
            "115\n",
            "[0.25089937]\n",
            "116\n",
            "[0.25089937]\n",
            "117\n",
            "[0.25089937]\n",
            "118\n",
            "[0.25089937]\n",
            "119\n",
            "[0.25089937]\n",
            "120\n",
            "[0.25089937]\n",
            "121\n",
            "[0.25089937]\n",
            "122\n",
            "[0.25089937]\n",
            "123\n",
            "[0.25089937]\n",
            "124\n",
            "[0.25089937]\n",
            "125\n",
            "[0.25089937]\n",
            "126\n",
            "[0.25089937]\n",
            "127\n",
            "[0.25089937]\n",
            "128\n",
            "[0.25089937]\n",
            "129\n",
            "[0.25089937]\n",
            "130\n",
            "[0.25089937]\n",
            "131\n",
            "[0.25089937]\n",
            "132\n",
            "[0.25089937]\n",
            "133\n",
            "[0.25089937]\n",
            "134\n",
            "[0.25089937]\n",
            "135\n",
            "[0.25089937]\n",
            "136\n",
            "[0.25089937]\n",
            "137\n",
            "[0.25089937]\n",
            "138\n",
            "[0.25089937]\n",
            "139\n",
            "[0.25089937]\n",
            "140\n",
            "[0.25089937]\n",
            "141\n",
            "[0.25089937]\n",
            "142\n",
            "[0.25089937]\n",
            "143\n",
            "[0.25089937]\n",
            "144\n",
            "[0.25089937]\n",
            "145\n",
            "[0.25089937]\n",
            "146\n",
            "[0.25089937]\n",
            "147\n",
            "[0.25089937]\n",
            "148\n",
            "[0.25089937]\n",
            "149\n",
            "[0.25089937]\n",
            "150\n",
            "[0.25089937]\n",
            "151\n",
            "[0.25089937]\n",
            "152\n",
            "[0.25089937]\n",
            "153\n",
            "[0.25089937]\n",
            "154\n",
            "[0.25089937]\n",
            "155\n",
            "[0.25089937]\n",
            "156\n",
            "[0.25089937]\n",
            "157\n",
            "[0.25089937]\n",
            "158\n",
            "[0.25089937]\n",
            "159\n",
            "[0.25089937]\n",
            "160\n"
          ]
        }
      ]
    },
    {
      "cell_type": "code",
      "source": [
        "# 13c. Dự báo 90 ngày tiếp theo\n",
        "x_input=test_data[60:].reshape(1,-1)\n",
        "x_input.shape\n",
        "\n",
        "temp_input=list(x_input)\n",
        "temp_input=temp_input[0].tolist()\n",
        "\n",
        "from numpy import array\n",
        "\n",
        "lst_output_90=[]\n",
        "n_steps=100\n",
        "i=0\n",
        "while(i<90):\n",
        "\n",
        "    if(len(temp_input)>250):\n",
        "        #print(temp_input)\n",
        "        x_input=np.array(temp_input[1:])\n",
        "        print(\"{} day input {}\".format(i,x_input))\n",
        "        x_input=x_input.reshape(1,-1)\n",
        "        x_input = x_input.reshape((1, n_steps, 1))\n",
        "        #print(x_input)\n",
        "        yhat = model.predict(x_input, verbose=0)\n",
        "        print(\"{} day output {}\".format(i,yhat))\n",
        "        temp_input.extend(yhat[0].tolist())\n",
        "        temp_input=temp_input[1:]\n",
        "        #print(temp_input)\n",
        "        lst_output_90.extend(yhat.tolist())\n",
        "        i=i+1\n",
        "    else:\n",
        "        x_input = x_input.reshape((1, n_steps,1))\n",
        "        yhat = model.predict(x_input, verbose=0)\n",
        "        print(yhat[0])\n",
        "        temp_input.extend(yhat[0].tolist())\n",
        "        print(len(temp_input))\n",
        "        lst_output_90.extend(yhat.tolist())\n",
        "        i=i+1\n"
      ],
      "metadata": {
        "colab": {
          "base_uri": "https://localhost:8080/"
        },
        "id": "bGr1iBoDP7JC",
        "outputId": "fc6e612d-e635-44dd-fbd0-7e1bdd2c04a5"
      },
      "execution_count": 291,
      "outputs": [
        {
          "output_type": "stream",
          "name": "stdout",
          "text": [
            "[0.25089937]\n",
            "101\n",
            "[0.25089937]\n",
            "102\n",
            "[0.25089937]\n",
            "103\n",
            "[0.25089937]\n",
            "104\n",
            "[0.25089937]\n",
            "105\n",
            "[0.25089937]\n",
            "106\n",
            "[0.25089937]\n",
            "107\n",
            "[0.25089937]\n",
            "108\n",
            "[0.25089937]\n",
            "109\n",
            "[0.25089937]\n",
            "110\n",
            "[0.25089937]\n",
            "111\n",
            "[0.25089937]\n",
            "112\n",
            "[0.25089937]\n",
            "113\n",
            "[0.25089937]\n",
            "114\n",
            "[0.25089937]\n",
            "115\n",
            "[0.25089937]\n",
            "116\n",
            "[0.25089937]\n",
            "117\n",
            "[0.25089937]\n",
            "118\n",
            "[0.25089937]\n",
            "119\n",
            "[0.25089937]\n",
            "120\n",
            "[0.25089937]\n",
            "121\n",
            "[0.25089937]\n",
            "122\n",
            "[0.25089937]\n",
            "123\n",
            "[0.25089937]\n",
            "124\n",
            "[0.25089937]\n",
            "125\n",
            "[0.25089937]\n",
            "126\n",
            "[0.25089937]\n",
            "127\n",
            "[0.25089937]\n",
            "128\n",
            "[0.25089937]\n",
            "129\n",
            "[0.25089937]\n",
            "130\n",
            "[0.25089937]\n",
            "131\n",
            "[0.25089937]\n",
            "132\n",
            "[0.25089937]\n",
            "133\n",
            "[0.25089937]\n",
            "134\n",
            "[0.25089937]\n",
            "135\n",
            "[0.25089937]\n",
            "136\n",
            "[0.25089937]\n",
            "137\n",
            "[0.25089937]\n",
            "138\n",
            "[0.25089937]\n",
            "139\n",
            "[0.25089937]\n",
            "140\n",
            "[0.25089937]\n",
            "141\n",
            "[0.25089937]\n",
            "142\n",
            "[0.25089937]\n",
            "143\n",
            "[0.25089937]\n",
            "144\n",
            "[0.25089937]\n",
            "145\n",
            "[0.25089937]\n",
            "146\n",
            "[0.25089937]\n",
            "147\n",
            "[0.25089937]\n",
            "148\n",
            "[0.25089937]\n",
            "149\n",
            "[0.25089937]\n",
            "150\n",
            "[0.25089937]\n",
            "151\n",
            "[0.25089937]\n",
            "152\n",
            "[0.25089937]\n",
            "153\n",
            "[0.25089937]\n",
            "154\n",
            "[0.25089937]\n",
            "155\n",
            "[0.25089937]\n",
            "156\n",
            "[0.25089937]\n",
            "157\n",
            "[0.25089937]\n",
            "158\n",
            "[0.25089937]\n",
            "159\n",
            "[0.25089937]\n",
            "160\n",
            "[0.25089937]\n",
            "161\n",
            "[0.25089937]\n",
            "162\n",
            "[0.25089937]\n",
            "163\n",
            "[0.25089937]\n",
            "164\n",
            "[0.25089937]\n",
            "165\n",
            "[0.25089937]\n",
            "166\n",
            "[0.25089937]\n",
            "167\n",
            "[0.25089937]\n",
            "168\n",
            "[0.25089937]\n",
            "169\n",
            "[0.25089937]\n",
            "170\n",
            "[0.25089937]\n",
            "171\n",
            "[0.25089937]\n",
            "172\n",
            "[0.25089937]\n",
            "173\n",
            "[0.25089937]\n",
            "174\n",
            "[0.25089937]\n",
            "175\n",
            "[0.25089937]\n",
            "176\n",
            "[0.25089937]\n",
            "177\n",
            "[0.25089937]\n",
            "178\n",
            "[0.25089937]\n",
            "179\n",
            "[0.25089937]\n",
            "180\n",
            "[0.25089937]\n",
            "181\n",
            "[0.25089937]\n",
            "182\n",
            "[0.25089937]\n",
            "183\n",
            "[0.25089937]\n",
            "184\n",
            "[0.25089937]\n",
            "185\n",
            "[0.25089937]\n",
            "186\n",
            "[0.25089937]\n",
            "187\n",
            "[0.25089937]\n",
            "188\n",
            "[0.25089937]\n",
            "189\n",
            "[0.25089937]\n",
            "190\n"
          ]
        }
      ]
    },
    {
      "cell_type": "code",
      "source": [
        "test_data_index = pd.RangeIndex(start=train_size, stop=train_size+test_size+1-101, step=1)\n",
        "test_data_index.shape"
      ],
      "metadata": {
        "colab": {
          "base_uri": "https://localhost:8080/"
        },
        "id": "tKUGGTUzx14B",
        "outputId": "1331b9aa-ed9c-498b-f5ca-3489a8f3a360"
      },
      "execution_count": 292,
      "outputs": [
        {
          "output_type": "execute_result",
          "data": {
            "text/plain": [
              "(59,)"
            ]
          },
          "metadata": {},
          "execution_count": 292
        }
      ]
    },
    {
      "cell_type": "code",
      "source": [
        "y_pred.shape"
      ],
      "metadata": {
        "colab": {
          "base_uri": "https://localhost:8080/"
        },
        "id": "fqJ7TesJxOYO",
        "outputId": "8889ade4-1898-4fbb-a5c0-ee81a7564932"
      },
      "execution_count": 293,
      "outputs": [
        {
          "output_type": "execute_result",
          "data": {
            "text/plain": [
              "(159, 1)"
            ]
          },
          "metadata": {},
          "execution_count": 293
        }
      ]
    },
    {
      "cell_type": "code",
      "source": [
        "# 14.Vẽ hình\n",
        "plt.figure(figsize=(12,6))\n",
        "train_data_index = pd.RangeIndex(start=0, stop=train_size, step=1)\n",
        "plt.plot(scaler.inverse_transform(train_data))\n",
        "\n",
        "test_data_index = pd.RangeIndex(start=train_size, stop=train_size+test_size+1, step=1)\n",
        "plt.plot(test_data_index,scaler.inverse_transform(test_data))\n",
        "\n",
        "test_data_index = pd.RangeIndex(start=train_size+1, stop=train_size+test_size+1, step=1)\n",
        "plt.plot(test_data_index,(y_pred))\n",
        "\n",
        "prediect_data_index_90 = pd.RangeIndex(start=len(df1)-1, stop=len(df1)+89, step=1)\n",
        "plt.plot(prediect_data_index_90,scaler.inverse_transform(lst_output_90))\n",
        "\n",
        "prediect_data_index_60 = pd.RangeIndex(start=len(df1)-1, stop=len(df1)+59, step=1)\n",
        "plt.plot(prediect_data_index_60,scaler.inverse_transform(lst_output_60))\n",
        "\n",
        "prediect_data_index = pd.RangeIndex(start=len(df1)-1, stop=len(df1)+29, step=1)\n",
        "plt.plot(prediect_data_index,scaler.inverse_transform(lst_output))\n",
        "\n",
        "plt.legend(['Train','Test','Predict','Predict90days', 'Predict60days','Predict30days'])\n",
        "plt.show()"
      ],
      "metadata": {
        "colab": {
          "base_uri": "https://localhost:8080/",
          "height": 522
        },
        "id": "_dM6DX1Ls5mL",
        "outputId": "456d9aa7-47f8-4d64-9a94-85dfb2c8c003"
      },
      "execution_count": 294,
      "outputs": [
        {
          "output_type": "display_data",
          "data": {
            "text/plain": [
              "<Figure size 1200x600 with 1 Axes>"
            ],
            "image/png": "[encoded data removed]"
          },
          "metadata": {}
        }
      ]
    }
  ],
  "metadata": {
    "colab": {
      "provenance": []
    },
    "kernelspec": {
      "display_name": "Python 3",
      "name": "python3"
    },
    "language_info": {
      "name": "python"
    }
  },
  "nbformat": 4,
  "nbformat_minor": 0
}