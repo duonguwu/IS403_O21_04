{
  "cells": [
    {
      "cell_type": "code",
      "execution_count": 1,
      "metadata": {
        "colab": {
          "base_uri": "https://localhost:8080/"
        },
        "id": "FMDKda-XIUAK",
        "outputId": "e0fd79c5-1fa7-4439-d26f-894bb486fa58"
      },
      "outputs": [
        {
          "output_type": "stream",
          "name": "stdout",
          "text": [
            "Mounted at /content/drive\n"
          ]
        }
      ],
      "source": [
        "# 1. Import thư viện cần thiết\n",
        "from google.colab import drive\n",
        "drive.mount('/content/drive')\n",
        "import numpy as np\n",
        "import pandas as pd\n",
        "import matplotlib.pyplot as plt\n",
        "from sklearn.preprocessing import MinMaxScaler\n",
        "from keras.models import Sequential\n",
        "from keras.layers import Dense, SimpleRNN"
      ]
    },
    {
      "cell_type": "code",
      "execution_count": 42,
      "metadata": {
        "id": "aRm9GQ8KJJ5N"
      },
      "outputs": [],
      "source": [
        "# 2. Đọc file csv và gắng index với giá Close\n",
        "df = pd.read_csv('/content/DIG Historical Data 2018.csv')\n",
        "\n",
        "# Nhận thấy tập dữ liệu, ở cột Price giá tiền có dấu phẩy và đang ở dạng string\n",
        "# Bỏ dấu phẩy\n",
        "df['Price'] = df['Price'].str.replace(',', '')\n",
        "# Chuyển sang dạng số\n",
        "df['Price'] = pd.to_numeric(df['Price'])\n",
        "df = df[::-1]"
      ]
    },
    {
      "cell_type": "code",
      "source": [
        "df1=df.reset_index()['Price']\n",
        "df1.head()"
      ],
      "metadata": {
        "colab": {
          "base_uri": "https://localhost:8080/"
        },
        "id": "d81FWdpTpmxG",
        "outputId": "a35f3f9f-9d0a-4a01-d663-25de5daf4e6b"
      },
      "execution_count": 43,
      "outputs": [
        {
          "output_type": "execute_result",
          "data": {
            "text/plain": [
              "0    11033.2\n",
              "1    11457.6\n",
              "2    12094.1\n",
              "3    12094.1\n",
              "4    12200.2\n",
              "Name: Price, dtype: float64"
            ]
          },
          "metadata": {},
          "execution_count": 43
        }
      ]
    },
    {
      "cell_type": "code",
      "source": [
        "df1"
      ],
      "metadata": {
        "colab": {
          "base_uri": "https://localhost:8080/"
        },
        "id": "O75pUMjkwAW1",
        "outputId": "98931950-5ade-4421-9095-8fa0676e1f96"
      },
      "execution_count": 47,
      "outputs": [
        {
          "output_type": "execute_result",
          "data": {
            "text/plain": [
              "0       11033.2\n",
              "1       11457.6\n",
              "2       12094.1\n",
              "3       12094.1\n",
              "4       12200.2\n",
              "         ...   \n",
              "1547    30450.0\n",
              "1548    29900.0\n",
              "1549    30400.0\n",
              "1550    31700.0\n",
              "1551    31950.0\n",
              "Name: Price, Length: 1552, dtype: float64"
            ]
          },
          "metadata": {},
          "execution_count": 47
        }
      ]
    },
    {
      "cell_type": "code",
      "execution_count": 48,
      "metadata": {
        "id": "RdVpDho2JgL5"
      },
      "outputs": [],
      "source": [
        "# 3. Scaler data\n",
        "scaler=MinMaxScaler(feature_range=(0,1))\n",
        "df1=scaler.fit_transform(np.array(df1).reshape(-1,1))"
      ]
    },
    {
      "cell_type": "code",
      "execution_count": 101,
      "metadata": {
        "id": "B5JXpenzJoR3"
      },
      "outputs": [],
      "source": [
        "# 4. Chia train test\n",
        "train_size = int(0.9 * len(df1))\n",
        "test_size = int(0.1 * len(df1))\n",
        "\n",
        "train_data = df1[:train_size]\n",
        "test_data = df1[train_size:]"
      ]
    },
    {
      "cell_type": "code",
      "source": [
        "test_size"
      ],
      "metadata": {
        "colab": {
          "base_uri": "https://localhost:8080/"
        },
        "id": "MBvNXgW-v2JL",
        "outputId": "46619a5c-071d-4de4-cd26-33b9e05e899f"
      },
      "execution_count": 102,
      "outputs": [
        {
          "output_type": "execute_result",
          "data": {
            "text/plain": [
              "155"
            ]
          },
          "metadata": {},
          "execution_count": 102
        }
      ]
    },
    {
      "cell_type": "code",
      "execution_count": 103,
      "metadata": {
        "id": "yJfmuBORLSfC"
      },
      "outputs": [],
      "source": [
        "# 5. Hàm Create Dataset\n",
        "import numpy\n",
        "# convert an array of values into a dataset matrix\n",
        "def create_dataset(dataset, time_step=1):\n",
        "\tdataX, dataY = [], []\n",
        "\tfor i in range(len(dataset)-time_step-1):\n",
        "\t\ta = dataset[i:(i+time_step), 0]   ###i=0, X=0,1,2,3-----99   Y=100\n",
        "\t\tdataX.append(a)\n",
        "\t\tdataY.append(dataset[i + time_step, 0])\n",
        "\treturn numpy.array(dataX), numpy.array(dataY)"
      ]
    },
    {
      "cell_type": "code",
      "execution_count": 104,
      "metadata": {
        "id": "e81cKq03LXFB"
      },
      "outputs": [],
      "source": [
        "# 6. Reshape into X=t,t+1,t+2..t+99 and Y=t+100\n",
        "time_step = 100\n",
        "X_train, y_train = create_dataset(train_data, time_step)\n",
        "X_test, y_test = create_dataset(test_data, time_step)"
      ]
    },
    {
      "cell_type": "code",
      "execution_count": 105,
      "metadata": {
        "id": "RdBVfku7O2qb"
      },
      "outputs": [],
      "source": [
        "# 7. Reshape input to be [samples, time steps, features] which is required for LSTM\n",
        "X_train = X_train.reshape(X_train.shape[0], X_train.shape[1], 1)\n",
        "X_test = X_test.reshape(X_test.shape[0], X_test.shape[1], 1)"
      ]
    },
    {
      "cell_type": "code",
      "source": [
        "X_train.shape"
      ],
      "metadata": {
        "colab": {
          "base_uri": "https://localhost:8080/"
        },
        "id": "IouLd-0AwQ3_",
        "outputId": "c87d924a-bacc-4c85-f760-0df4337521a7"
      },
      "execution_count": 106,
      "outputs": [
        {
          "output_type": "execute_result",
          "data": {
            "text/plain": [
              "(1295, 100, 1)"
            ]
          },
          "metadata": {},
          "execution_count": 106
        }
      ]
    },
    {
      "cell_type": "code",
      "execution_count": 56,
      "metadata": {
        "id": "sSfxrE7BO9vX"
      },
      "outputs": [],
      "source": [
        "# 8. Define LSTM Model\n",
        "model = Sequential()\n",
        "model.add(SimpleRNN(50, input_shape=(time_step, 1)))\n",
        "model.add(Dense(1))\n",
        "model.compile(loss='mean_squared_error', optimizer='adam')"
      ]
    },
    {
      "cell_type": "code",
      "execution_count": 107,
      "metadata": {
        "colab": {
          "base_uri": "https://localhost:8080/"
        },
        "id": "zgfeujZSPEKr",
        "outputId": "219aa090-4689-4f19-a02f-bf92d8cc5dcb"
      },
      "outputs": [
        {
          "output_type": "stream",
          "name": "stdout",
          "text": [
            "Epoch 1/100\n",
            "21/21 [==============================] - 0s 21ms/step - loss: 1.6275e-04\n",
            "Epoch 2/100\n",
            "21/21 [==============================] - 0s 21ms/step - loss: 1.7726e-04\n",
            "Epoch 3/100\n",
            "21/21 [==============================] - 0s 20ms/step - loss: 1.9924e-04\n",
            "Epoch 4/100\n",
            "21/21 [==============================] - 0s 22ms/step - loss: 1.8200e-04\n",
            "Epoch 5/100\n",
            "21/21 [==============================] - 0s 21ms/step - loss: 1.7552e-04\n",
            "Epoch 6/100\n",
            "21/21 [==============================] - 0s 20ms/step - loss: 1.7248e-04\n",
            "Epoch 7/100\n",
            "21/21 [==============================] - 0s 22ms/step - loss: 1.6314e-04\n",
            "Epoch 8/100\n",
            "21/21 [==============================] - 0s 20ms/step - loss: 1.6491e-04\n",
            "Epoch 9/100\n",
            "21/21 [==============================] - 0s 20ms/step - loss: 1.6419e-04\n",
            "Epoch 10/100\n",
            "21/21 [==============================] - 0s 19ms/step - loss: 1.6296e-04\n",
            "Epoch 11/100\n",
            "21/21 [==============================] - 0s 20ms/step - loss: 1.7219e-04\n",
            "Epoch 12/100\n",
            "21/21 [==============================] - 0s 19ms/step - loss: 1.6363e-04\n",
            "Epoch 13/100\n",
            "21/21 [==============================] - 0s 21ms/step - loss: 1.6199e-04\n",
            "Epoch 14/100\n",
            "21/21 [==============================] - 1s 37ms/step - loss: 1.5649e-04\n",
            "Epoch 15/100\n",
            "21/21 [==============================] - 1s 39ms/step - loss: 1.8941e-04\n",
            "Epoch 16/100\n",
            "21/21 [==============================] - 1s 36ms/step - loss: 1.6032e-04\n",
            "Epoch 17/100\n",
            "21/21 [==============================] - 1s 34ms/step - loss: 1.5760e-04\n",
            "Epoch 18/100\n",
            "21/21 [==============================] - 1s 36ms/step - loss: 1.6571e-04\n",
            "Epoch 19/100\n",
            "21/21 [==============================] - 1s 36ms/step - loss: 2.0721e-04\n",
            "Epoch 20/100\n",
            "21/21 [==============================] - 1s 38ms/step - loss: 1.7997e-04\n",
            "Epoch 21/100\n",
            "21/21 [==============================] - 1s 27ms/step - loss: 1.6521e-04\n",
            "Epoch 22/100\n",
            "21/21 [==============================] - 0s 21ms/step - loss: 1.8583e-04\n",
            "Epoch 23/100\n",
            "21/21 [==============================] - 0s 22ms/step - loss: 1.8298e-04\n",
            "Epoch 24/100\n",
            "21/21 [==============================] - 0s 20ms/step - loss: 1.9602e-04\n",
            "Epoch 25/100\n",
            "21/21 [==============================] - 1s 26ms/step - loss: 1.7692e-04\n",
            "Epoch 26/100\n",
            "21/21 [==============================] - 1s 36ms/step - loss: 1.7715e-04\n",
            "Epoch 27/100\n",
            "21/21 [==============================] - 1s 36ms/step - loss: 1.6046e-04\n",
            "Epoch 28/100\n",
            "21/21 [==============================] - 1s 34ms/step - loss: 1.6215e-04\n",
            "Epoch 29/100\n",
            "21/21 [==============================] - 1s 36ms/step - loss: 1.6240e-04\n",
            "Epoch 30/100\n",
            "21/21 [==============================] - 1s 38ms/step - loss: 1.6103e-04\n",
            "Epoch 31/100\n",
            "21/21 [==============================] - 1s 37ms/step - loss: 1.5837e-04\n",
            "Epoch 32/100\n",
            "21/21 [==============================] - 1s 29ms/step - loss: 1.5521e-04\n",
            "Epoch 33/100\n",
            "21/21 [==============================] - 0s 19ms/step - loss: 1.7334e-04\n",
            "Epoch 34/100\n",
            "21/21 [==============================] - 0s 18ms/step - loss: 1.6766e-04\n",
            "Epoch 35/100\n",
            "21/21 [==============================] - 0s 19ms/step - loss: 1.6164e-04\n",
            "Epoch 36/100\n",
            "21/21 [==============================] - 0s 19ms/step - loss: 1.7701e-04\n",
            "Epoch 37/100\n",
            "21/21 [==============================] - 0s 21ms/step - loss: 1.5739e-04\n",
            "Epoch 38/100\n",
            "21/21 [==============================] - 0s 18ms/step - loss: 1.7682e-04\n",
            "Epoch 39/100\n",
            "21/21 [==============================] - 1s 35ms/step - loss: 1.6347e-04\n",
            "Epoch 40/100\n",
            "21/21 [==============================] - 1s 37ms/step - loss: 1.7608e-04\n",
            "Epoch 41/100\n",
            "21/21 [==============================] - 1s 40ms/step - loss: 1.6513e-04\n",
            "Epoch 42/100\n",
            "21/21 [==============================] - 1s 37ms/step - loss: 1.5922e-04\n",
            "Epoch 43/100\n",
            "21/21 [==============================] - 1s 36ms/step - loss: 1.7026e-04\n",
            "Epoch 44/100\n",
            "21/21 [==============================] - 1s 34ms/step - loss: 1.7115e-04\n",
            "Epoch 45/100\n",
            "21/21 [==============================] - 1s 35ms/step - loss: 1.6171e-04\n",
            "Epoch 46/100\n",
            "21/21 [==============================] - 1s 33ms/step - loss: 1.6417e-04\n",
            "Epoch 47/100\n",
            "21/21 [==============================] - 0s 19ms/step - loss: 1.5705e-04\n",
            "Epoch 48/100\n",
            "21/21 [==============================] - 0s 19ms/step - loss: 1.7602e-04\n",
            "Epoch 49/100\n",
            "21/21 [==============================] - 0s 19ms/step - loss: 2.1465e-04\n",
            "Epoch 50/100\n",
            "21/21 [==============================] - 0s 19ms/step - loss: 1.9267e-04\n",
            "Epoch 51/100\n",
            "21/21 [==============================] - 0s 19ms/step - loss: 2.1243e-04\n",
            "Epoch 52/100\n",
            "21/21 [==============================] - 0s 19ms/step - loss: 1.6850e-04\n",
            "Epoch 53/100\n",
            "21/21 [==============================] - 0s 18ms/step - loss: 1.7872e-04\n",
            "Epoch 54/100\n",
            "21/21 [==============================] - 0s 19ms/step - loss: 1.6598e-04\n",
            "Epoch 55/100\n",
            "21/21 [==============================] - 0s 19ms/step - loss: 1.6052e-04\n",
            "Epoch 56/100\n",
            "21/21 [==============================] - 0s 21ms/step - loss: 1.5946e-04\n",
            "Epoch 57/100\n",
            "21/21 [==============================] - 0s 21ms/step - loss: 1.7397e-04\n",
            "Epoch 58/100\n",
            "21/21 [==============================] - 0s 21ms/step - loss: 1.7503e-04\n",
            "Epoch 59/100\n",
            "21/21 [==============================] - 0s 22ms/step - loss: 1.6579e-04\n",
            "Epoch 60/100\n",
            "21/21 [==============================] - 0s 21ms/step - loss: 1.6319e-04\n",
            "Epoch 61/100\n",
            "21/21 [==============================] - 0s 19ms/step - loss: 1.7085e-04\n",
            "Epoch 62/100\n",
            "21/21 [==============================] - 0s 19ms/step - loss: 1.7607e-04\n",
            "Epoch 63/100\n",
            "21/21 [==============================] - 0s 19ms/step - loss: 1.6301e-04\n",
            "Epoch 64/100\n",
            "21/21 [==============================] - 0s 19ms/step - loss: 1.6174e-04\n",
            "Epoch 65/100\n",
            "21/21 [==============================] - 0s 19ms/step - loss: 1.5474e-04\n",
            "Epoch 66/100\n",
            "21/21 [==============================] - 0s 20ms/step - loss: 1.6729e-04\n",
            "Epoch 67/100\n",
            "21/21 [==============================] - 0s 18ms/step - loss: 1.7652e-04\n",
            "Epoch 68/100\n",
            "21/21 [==============================] - 0s 19ms/step - loss: 1.6365e-04\n",
            "Epoch 69/100\n",
            "21/21 [==============================] - 0s 19ms/step - loss: 1.5704e-04\n",
            "Epoch 70/100\n",
            "21/21 [==============================] - 1s 24ms/step - loss: 1.6155e-04\n",
            "Epoch 71/100\n",
            "21/21 [==============================] - 1s 35ms/step - loss: 1.5891e-04\n",
            "Epoch 72/100\n",
            "21/21 [==============================] - 1s 36ms/step - loss: 1.6166e-04\n",
            "Epoch 73/100\n",
            "21/21 [==============================] - 1s 34ms/step - loss: 1.6565e-04\n",
            "Epoch 74/100\n",
            "21/21 [==============================] - 1s 38ms/step - loss: 1.6319e-04\n",
            "Epoch 75/100\n",
            "21/21 [==============================] - 1s 39ms/step - loss: 1.8195e-04\n",
            "Epoch 76/100\n",
            "21/21 [==============================] - 1s 40ms/step - loss: 1.6260e-04\n",
            "Epoch 77/100\n",
            "21/21 [==============================] - 1s 38ms/step - loss: 1.7342e-04\n",
            "Epoch 78/100\n",
            "21/21 [==============================] - 0s 22ms/step - loss: 1.8291e-04\n",
            "Epoch 79/100\n",
            "21/21 [==============================] - 0s 21ms/step - loss: 1.6581e-04\n",
            "Epoch 80/100\n",
            "21/21 [==============================] - 0s 21ms/step - loss: 1.6401e-04\n",
            "Epoch 81/100\n",
            "21/21 [==============================] - 0s 21ms/step - loss: 1.6000e-04\n",
            "Epoch 82/100\n",
            "21/21 [==============================] - 0s 22ms/step - loss: 1.5866e-04\n",
            "Epoch 83/100\n",
            "21/21 [==============================] - 0s 20ms/step - loss: 1.8731e-04\n",
            "Epoch 84/100\n",
            "21/21 [==============================] - 0s 20ms/step - loss: 1.7145e-04\n",
            "Epoch 85/100\n",
            "21/21 [==============================] - 0s 19ms/step - loss: 1.7436e-04\n",
            "Epoch 86/100\n",
            "21/21 [==============================] - 0s 22ms/step - loss: 1.7417e-04\n",
            "Epoch 87/100\n",
            "21/21 [==============================] - 0s 22ms/step - loss: 1.6104e-04\n",
            "Epoch 88/100\n",
            "21/21 [==============================] - 0s 20ms/step - loss: 1.6769e-04\n",
            "Epoch 89/100\n",
            "21/21 [==============================] - 0s 19ms/step - loss: 1.5935e-04\n",
            "Epoch 90/100\n",
            "21/21 [==============================] - 0s 19ms/step - loss: 1.7489e-04\n",
            "Epoch 91/100\n",
            "21/21 [==============================] - 0s 19ms/step - loss: 1.5829e-04\n",
            "Epoch 92/100\n",
            "21/21 [==============================] - 0s 18ms/step - loss: 1.6212e-04\n",
            "Epoch 93/100\n",
            "21/21 [==============================] - 0s 19ms/step - loss: 1.5679e-04\n",
            "Epoch 94/100\n",
            "21/21 [==============================] - 0s 19ms/step - loss: 1.5966e-04\n",
            "Epoch 95/100\n",
            "21/21 [==============================] - 0s 19ms/step - loss: 1.5660e-04\n",
            "Epoch 96/100\n",
            "21/21 [==============================] - 0s 19ms/step - loss: 1.5819e-04\n",
            "Epoch 97/100\n",
            "21/21 [==============================] - 0s 20ms/step - loss: 1.7015e-04\n",
            "Epoch 98/100\n",
            "21/21 [==============================] - 0s 22ms/step - loss: 1.6258e-04\n",
            "Epoch 99/100\n",
            "21/21 [==============================] - 0s 21ms/step - loss: 1.6219e-04\n",
            "Epoch 100/100\n",
            "21/21 [==============================] - 0s 20ms/step - loss: 1.7051e-04\n"
          ]
        },
        {
          "output_type": "execute_result",
          "data": {
            "text/plain": [
              "<keras.src.callbacks.History at 0x7c3adfef59c0>"
            ]
          },
          "metadata": {},
          "execution_count": 107
        }
      ],
      "source": [
        "# 9. Fit mô hình với dữ liệu train\n",
        "model.fit(X_train, y_train, epochs=100, batch_size=64, verbose=1)"
      ]
    },
    {
      "cell_type": "code",
      "execution_count": 108,
      "metadata": {
        "colab": {
          "base_uri": "https://localhost:8080/"
        },
        "id": "Rxx_KQSkQpBG",
        "outputId": "7cd57098-373d-4807-b22d-9135512946b4"
      },
      "outputs": [
        {
          "output_type": "stream",
          "name": "stdout",
          "text": [
            "41/41 [==============================] - 0s 8ms/step\n",
            "2/2 [==============================] - 0s 11ms/step\n"
          ]
        }
      ],
      "source": [
        "# 10. Dự báo dữ liệu test\n",
        "train_predict = model.predict(X_train)\n",
        "y_pred = model.predict(X_test)\n"
      ]
    },
    {
      "cell_type": "code",
      "execution_count": 109,
      "metadata": {
        "id": "5rwTN10LQ7rj"
      },
      "outputs": [],
      "source": [
        "# 11. Chuẩn hóa dữ liệu y_pred, y_test\n",
        "train_predict = scaler.inverse_transform(train_predict)\n",
        "y_pred = scaler.inverse_transform(y_pred)\n",
        "y_test = scaler.inverse_transform(y_test.reshape(-1, 1))"
      ]
    },
    {
      "cell_type": "code",
      "execution_count": 110,
      "metadata": {
        "colab": {
          "base_uri": "https://localhost:8080/"
        },
        "id": "wu_9j94kRonD",
        "outputId": "29a7f1c8-7404-4822-e805-83b079c2f224"
      },
      "outputs": [
        {
          "output_type": "stream",
          "name": "stdout",
          "text": [
            "Testing RMSE: 562.4699865166683\n"
          ]
        }
      ],
      "source": [
        "# 12. Đánh giá độ chính xác thuật toán bằng RMSE\n",
        "test_rmse = np.sqrt(np.mean((y_pred - y_test)**2))\n",
        "print('Testing RMSE:', test_rmse)"
      ]
    },
    {
      "cell_type": "code",
      "source": [
        "x_input.shape"
      ],
      "metadata": {
        "colab": {
          "base_uri": "https://localhost:8080/"
        },
        "id": "DkcEu5EBqkc-",
        "outputId": "c881da06-d558-4153-b211-1c934a546d34"
      },
      "execution_count": 111,
      "outputs": [
        {
          "output_type": "execute_result",
          "data": {
            "text/plain": [
              "(1, 250, 1)"
            ]
          },
          "metadata": {},
          "execution_count": 111
        }
      ]
    },
    {
      "cell_type": "code",
      "execution_count": 113,
      "metadata": {
        "colab": {
          "base_uri": "https://localhost:8080/"
        },
        "id": "izQZ1iQyYl6N",
        "outputId": "a425fd4d-8054-458a-a0f2-809dba48956e",
        "collapsed": true
      },
      "outputs": [
        {
          "output_type": "stream",
          "name": "stdout",
          "text": [
            "[0.28038108]\n",
            "97\n",
            "[0.28038108]\n",
            "98\n",
            "[0.28038108]\n",
            "99\n",
            "[0.28038108]\n",
            "100\n",
            "[0.28038108]\n",
            "101\n",
            "[0.28038108]\n",
            "102\n",
            "[0.28038108]\n",
            "103\n",
            "[0.28038108]\n",
            "104\n",
            "[0.28038108]\n",
            "105\n",
            "[0.28038108]\n",
            "106\n",
            "[0.28038108]\n",
            "107\n",
            "[0.28038108]\n",
            "108\n",
            "[0.28038108]\n",
            "109\n",
            "[0.28038108]\n",
            "110\n",
            "[0.28038108]\n",
            "111\n",
            "[0.28038108]\n",
            "112\n",
            "[0.28038108]\n",
            "113\n",
            "[0.28038108]\n",
            "114\n",
            "[0.28038108]\n",
            "115\n",
            "[0.28038108]\n",
            "116\n",
            "[0.28038108]\n",
            "117\n",
            "[0.28038108]\n",
            "118\n",
            "[0.28038108]\n",
            "119\n",
            "[0.28038108]\n",
            "120\n",
            "[0.28038108]\n",
            "121\n",
            "[0.28038108]\n",
            "122\n",
            "[0.28038108]\n",
            "123\n",
            "[0.28038108]\n",
            "124\n",
            "[0.28038108]\n",
            "125\n",
            "[0.28038108]\n",
            "126\n"
          ]
        }
      ],
      "source": [
        "# 13. Dự báo 30 ngày tiếp theo\n",
        "x_input=test_data[60:].reshape(1,-1)\n",
        "x_input.shape\n",
        "\n",
        "temp_input=list(x_input)\n",
        "temp_input=temp_input[0].tolist()\n",
        "\n",
        "from numpy import array\n",
        "\n",
        "lst_output=[]\n",
        "n_steps=96       # Thay đổi phù hợp\n",
        "i=0\n",
        "while(i<30):\n",
        "\n",
        "    if(len(temp_input)>250):\n",
        "        #print(temp_input)\n",
        "        x_input=np.array(temp_input[1:])\n",
        "        print(\"{} day input {}\".format(i,x_input))\n",
        "        x_input=x_input.reshape(1,-1)\n",
        "        x_input = x_input.reshape((1, n_steps, 1))\n",
        "        #print(x_input)\n",
        "        yhat = model.predict(x_input, verbose=0)\n",
        "        print(\"{} day output {}\".format(i,yhat))\n",
        "        temp_input.extend(yhat[0].tolist())\n",
        "        temp_input=temp_input[1:]\n",
        "        #print(temp_input)\n",
        "        lst_output.extend(yhat.tolist())\n",
        "        i=i+1\n",
        "    else:\n",
        "        x_input = x_input.reshape((1, n_steps,1))\n",
        "        yhat = model.predict(x_input, verbose=0)\n",
        "        print(yhat[0])\n",
        "        temp_input.extend(yhat[0].tolist())\n",
        "        print(len(temp_input))\n",
        "        lst_output.extend(yhat.tolist())\n",
        "        i=i+1\n"
      ]
    },
    {
      "cell_type": "code",
      "source": [
        "test_data_index = pd.RangeIndex(start=train_size, stop=train_size+test_size+1-101, step=1)\n",
        "test_data_index.shape"
      ],
      "metadata": {
        "colab": {
          "base_uri": "https://localhost:8080/"
        },
        "id": "tKUGGTUzx14B",
        "outputId": "2bd34e80-8c2a-464b-92ec-76bd16bc92db"
      },
      "execution_count": 114,
      "outputs": [
        {
          "output_type": "execute_result",
          "data": {
            "text/plain": [
              "(55,)"
            ]
          },
          "metadata": {},
          "execution_count": 114
        }
      ]
    },
    {
      "cell_type": "code",
      "source": [
        "y_pred.shape"
      ],
      "metadata": {
        "colab": {
          "base_uri": "https://localhost:8080/"
        },
        "id": "fqJ7TesJxOYO",
        "outputId": "6abfe207-fd9d-48a6-bafa-bb738d3b120f"
      },
      "execution_count": 115,
      "outputs": [
        {
          "output_type": "execute_result",
          "data": {
            "text/plain": [
              "(55, 1)"
            ]
          },
          "metadata": {},
          "execution_count": 115
        }
      ]
    },
    {
      "cell_type": "code",
      "source": [
        "# 14.Vẽ hình\n",
        "plt.figure(figsize=(12,6))\n",
        "train_data_index = pd.RangeIndex(start=0, stop=train_size, step=1)\n",
        "plt.plot(scaler.inverse_transform(train_data))\n",
        "\n",
        "test_data_index = pd.RangeIndex(start=train_size, stop=train_size+test_size+1, step=1)\n",
        "plt.plot(test_data_index,scaler.inverse_transform(test_data))\n",
        "\n",
        "test_data_index = pd.RangeIndex(start=train_size+101, stop=train_size+test_size+1, step=1)\n",
        "plt.plot(test_data_index,(y_pred))\n",
        "\n",
        "prediect_data_index = pd.RangeIndex(start=len(df1)-1, stop=len(df1)+29, step=1)\n",
        "plt.plot(prediect_data_index,scaler.inverse_transform(lst_output))\n",
        "\n",
        "plt.legend(['Train','Test','Predict','Predict30days'])\n",
        "plt.show()"
      ],
      "metadata": {
        "colab": {
          "base_uri": "https://localhost:8080/",
          "height": 522
        },
        "id": "_dM6DX1Ls5mL",
        "outputId": "b384d5eb-c73e-4d65-d61c-26a05334e455"
      },
      "execution_count": 118,
      "outputs": [
        {
          "output_type": "display_data",
          "data": {
            "text/plain": [
              "<Figure size 1200x600 with 1 Axes>"
            ],
            "image/png": "[encoded data removed]"
          },
          "metadata": {}
        }
      ]
    }
  ],
  "metadata": {
    "colab": {
      "provenance": []
    },
    "kernelspec": {
      "display_name": "Python 3",
      "name": "python3"
    },
    "language_info": {
      "name": "python"
    }
  },
  "nbformat": 4,
  "nbformat_minor": 0
}