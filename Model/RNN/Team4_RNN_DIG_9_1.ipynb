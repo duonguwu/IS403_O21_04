{
  "cells": [
    {
      "cell_type": "code",
      "execution_count": 8,
      "metadata": {
        "id": "FMDKda-XIUAK"
      },
      "outputs": [],
      "source": [
        "# 1. Import thư viện cần thiết\n",
        "import numpy as np\n",
        "import pandas as pd\n",
        "import matplotlib.pyplot as plt\n",
        "from sklearn.preprocessing import MinMaxScaler\n",
        "from keras.models import Sequential\n",
        "from keras.layers import Dense, SimpleRNN"
      ]
    },
    {
      "cell_type": "code",
      "execution_count": 9,
      "metadata": {
        "id": "aRm9GQ8KJJ5N"
      },
      "outputs": [],
      "source": [
        "# 2. Đọc file csv và gắng index với giá Close\n",
        "df = pd.read_csv('/content/DIG Historical Data 1_6.csv')\n",
        "\n",
        "# Nhận thấy tập dữ liệu, ở cột Price giá tiền có dấu phẩy và đang ở dạng string\n",
        "# Bỏ dấu phẩy\n",
        "df['Price'] = df['Price'].str.replace(',', '')\n",
        "# Chuyển sang dạng số\n",
        "df['Price'] = pd.to_numeric(df['Price'])\n",
        "df = df[::-1]"
      ]
    },
    {
      "cell_type": "code",
      "source": [
        "df1=df.reset_index()['Price']\n",
        "df1.head()"
      ],
      "metadata": {
        "colab": {
          "base_uri": "https://localhost:8080/"
        },
        "id": "d81FWdpTpmxG",
        "outputId": "d1992a6a-a13c-4286-c011-4460affa6422"
      },
      "execution_count": 10,
      "outputs": [
        {
          "output_type": "execute_result",
          "data": {
            "text/plain": [
              "0    11033.2\n",
              "1    11457.6\n",
              "2    12094.1\n",
              "3    12094.1\n",
              "4    12200.2\n",
              "Name: Price, dtype: float64"
            ]
          },
          "metadata": {},
          "execution_count": 10
        }
      ]
    },
    {
      "cell_type": "code",
      "source": [
        "df1"
      ],
      "metadata": {
        "colab": {
          "base_uri": "https://localhost:8080/"
        },
        "id": "O75pUMjkwAW1",
        "outputId": "ca2c0777-5706-4d47-d771-7f50df2b102d"
      },
      "execution_count": 11,
      "outputs": [
        {
          "output_type": "execute_result",
          "data": {
            "text/plain": [
              "0       11033.2\n",
              "1       11457.6\n",
              "2       12094.1\n",
              "3       12094.1\n",
              "4       12200.2\n",
              "         ...   \n",
              "1593    27350.0\n",
              "1594    27850.0\n",
              "1595    27950.0\n",
              "1596    27600.0\n",
              "1597    27750.0\n",
              "Name: Price, Length: 1598, dtype: float64"
            ]
          },
          "metadata": {},
          "execution_count": 11
        }
      ]
    },
    {
      "cell_type": "code",
      "execution_count": 12,
      "metadata": {
        "id": "RdVpDho2JgL5"
      },
      "outputs": [],
      "source": [
        "# 3. Scaler data\n",
        "scaler=MinMaxScaler(feature_range=(0,1))\n",
        "df1=scaler.fit_transform(np.array(df1).reshape(-1,1))"
      ]
    },
    {
      "cell_type": "code",
      "execution_count": 13,
      "metadata": {
        "id": "B5JXpenzJoR3"
      },
      "outputs": [],
      "source": [
        "# 4. Chia train test\n",
        "train_size = int(0.9 * len(df1))\n",
        "test_size = int(0.1 * len(df1))\n",
        "\n",
        "train_data = df1[:train_size]\n",
        "test_data = df1[train_size:]"
      ]
    },
    {
      "cell_type": "code",
      "source": [
        "test_size"
      ],
      "metadata": {
        "colab": {
          "base_uri": "https://localhost:8080/"
        },
        "id": "MBvNXgW-v2JL",
        "outputId": "8dea53b8-34bf-4fd7-e337-6718cfe7c18a"
      },
      "execution_count": 14,
      "outputs": [
        {
          "output_type": "execute_result",
          "data": {
            "text/plain": [
              "159"
            ]
          },
          "metadata": {},
          "execution_count": 14
        }
      ]
    },
    {
      "cell_type": "code",
      "execution_count": 15,
      "metadata": {
        "id": "yJfmuBORLSfC"
      },
      "outputs": [],
      "source": [
        "# 5. Hàm Create Dataset\n",
        "import numpy\n",
        "# convert an array of values into a dataset matrix\n",
        "def create_dataset(dataset, time_step=1):\n",
        "\tdataX, dataY = [], []\n",
        "\tfor i in range(len(dataset)-time_step-1):\n",
        "\t\ta = dataset[i:(i+time_step), 0]   ###i=0, X=0,1,2,3-----99   Y=100\n",
        "\t\tdataX.append(a)\n",
        "\t\tdataY.append(dataset[i + time_step, 0])\n",
        "\treturn numpy.array(dataX), numpy.array(dataY)"
      ]
    },
    {
      "cell_type": "code",
      "execution_count": 16,
      "metadata": {
        "id": "e81cKq03LXFB"
      },
      "outputs": [],
      "source": [
        "# 6. Reshape into X=t,t+1,t+2..t+99 and Y=t+100\n",
        "time_step = 100\n",
        "X_train, y_train = create_dataset(train_data, time_step)\n",
        "X_test, y_test = create_dataset(test_data, time_step)"
      ]
    },
    {
      "cell_type": "code",
      "execution_count": 17,
      "metadata": {
        "id": "RdBVfku7O2qb"
      },
      "outputs": [],
      "source": [
        "# 7. Reshape input to be [samples, time steps, features] which is required for LSTM\n",
        "X_train = X_train.reshape(X_train.shape[0], X_train.shape[1], 1)\n",
        "X_test = X_test.reshape(X_test.shape[0], X_test.shape[1], 1)"
      ]
    },
    {
      "cell_type": "code",
      "source": [
        "X_train.shape"
      ],
      "metadata": {
        "colab": {
          "base_uri": "https://localhost:8080/"
        },
        "id": "IouLd-0AwQ3_",
        "outputId": "d19233a9-e0ba-4ed2-ec3e-d053a62e96cd"
      },
      "execution_count": 18,
      "outputs": [
        {
          "output_type": "execute_result",
          "data": {
            "text/plain": [
              "(1337, 100, 1)"
            ]
          },
          "metadata": {},
          "execution_count": 18
        }
      ]
    },
    {
      "cell_type": "code",
      "execution_count": 19,
      "metadata": {
        "id": "sSfxrE7BO9vX"
      },
      "outputs": [],
      "source": [
        "# 8. Define LSTM Model\n",
        "model = Sequential()\n",
        "model.add(SimpleRNN(50, input_shape=(time_step, 1)))\n",
        "model.add(Dense(1))\n",
        "model.compile(loss='mean_squared_error', optimizer='adam')"
      ]
    },
    {
      "cell_type": "code",
      "execution_count": 20,
      "metadata": {
        "colab": {
          "base_uri": "https://localhost:8080/"
        },
        "id": "zgfeujZSPEKr",
        "outputId": "d4c94aea-2d63-4617-ff1d-d868e31f6d27"
      },
      "outputs": [
        {
          "output_type": "stream",
          "name": "stdout",
          "text": [
            "Epoch 1/100\n",
            "21/21 [==============================] - 2s 20ms/step - loss: 0.0262\n",
            "Epoch 2/100\n",
            "21/21 [==============================] - 0s 21ms/step - loss: 0.0028\n",
            "Epoch 3/100\n",
            "21/21 [==============================] - 1s 27ms/step - loss: 0.0016\n",
            "Epoch 4/100\n",
            "21/21 [==============================] - 1s 39ms/step - loss: 0.0014\n",
            "Epoch 5/100\n",
            "21/21 [==============================] - 1s 36ms/step - loss: 0.0012\n",
            "Epoch 6/100\n",
            "21/21 [==============================] - 1s 38ms/step - loss: 0.0011\n",
            "Epoch 7/100\n",
            "21/21 [==============================] - 1s 39ms/step - loss: 0.0010\n",
            "Epoch 8/100\n",
            "21/21 [==============================] - 1s 39ms/step - loss: 9.3357e-04\n",
            "Epoch 9/100\n",
            "21/21 [==============================] - 1s 23ms/step - loss: 9.3670e-04\n",
            "Epoch 10/100\n",
            "21/21 [==============================] - 0s 21ms/step - loss: 8.4964e-04\n",
            "Epoch 11/100\n",
            "21/21 [==============================] - 0s 20ms/step - loss: 7.9557e-04\n",
            "Epoch 12/100\n",
            "21/21 [==============================] - 0s 21ms/step - loss: 7.7336e-04\n",
            "Epoch 13/100\n",
            "21/21 [==============================] - 0s 20ms/step - loss: 7.6929e-04\n",
            "Epoch 14/100\n",
            "21/21 [==============================] - 0s 20ms/step - loss: 6.7585e-04\n",
            "Epoch 15/100\n",
            "21/21 [==============================] - 1s 29ms/step - loss: 6.5262e-04\n",
            "Epoch 16/100\n",
            "21/21 [==============================] - 0s 20ms/step - loss: 6.4156e-04\n",
            "Epoch 17/100\n",
            "21/21 [==============================] - 1s 28ms/step - loss: 6.7211e-04\n",
            "Epoch 18/100\n",
            "21/21 [==============================] - 0s 20ms/step - loss: 6.3481e-04\n",
            "Epoch 19/100\n",
            "21/21 [==============================] - 0s 20ms/step - loss: 5.8803e-04\n",
            "Epoch 20/100\n",
            "21/21 [==============================] - 0s 22ms/step - loss: 5.4181e-04\n",
            "Epoch 21/100\n",
            "21/21 [==============================] - 0s 22ms/step - loss: 5.4601e-04\n",
            "Epoch 22/100\n",
            "21/21 [==============================] - 0s 19ms/step - loss: 5.2854e-04\n",
            "Epoch 23/100\n",
            "21/21 [==============================] - 0s 21ms/step - loss: 5.6908e-04\n",
            "Epoch 24/100\n",
            "21/21 [==============================] - 0s 21ms/step - loss: 5.0941e-04\n",
            "Epoch 25/100\n",
            "21/21 [==============================] - 0s 21ms/step - loss: 4.5493e-04\n",
            "Epoch 26/100\n",
            "21/21 [==============================] - 0s 21ms/step - loss: 4.5469e-04\n",
            "Epoch 27/100\n",
            "21/21 [==============================] - 0s 21ms/step - loss: 4.8329e-04\n",
            "Epoch 28/100\n",
            "21/21 [==============================] - 0s 22ms/step - loss: 4.7729e-04\n",
            "Epoch 29/100\n",
            "21/21 [==============================] - 0s 20ms/step - loss: 4.5468e-04\n",
            "Epoch 30/100\n",
            "21/21 [==============================] - 0s 20ms/step - loss: 4.1428e-04\n",
            "Epoch 31/100\n",
            "21/21 [==============================] - 1s 32ms/step - loss: 4.3702e-04\n",
            "Epoch 32/100\n",
            "21/21 [==============================] - 1s 34ms/step - loss: 3.7945e-04\n",
            "Epoch 33/100\n",
            "21/21 [==============================] - 1s 37ms/step - loss: 3.6594e-04\n",
            "Epoch 34/100\n",
            "21/21 [==============================] - 1s 35ms/step - loss: 3.6850e-04\n",
            "Epoch 35/100\n",
            "21/21 [==============================] - 1s 36ms/step - loss: 3.4217e-04\n",
            "Epoch 36/100\n",
            "21/21 [==============================] - 1s 35ms/step - loss: 3.4609e-04\n",
            "Epoch 37/100\n",
            "21/21 [==============================] - 0s 20ms/step - loss: 3.4563e-04\n",
            "Epoch 38/100\n",
            "21/21 [==============================] - 0s 20ms/step - loss: 3.4105e-04\n",
            "Epoch 39/100\n",
            "21/21 [==============================] - 0s 22ms/step - loss: 3.2236e-04\n",
            "Epoch 40/100\n",
            "21/21 [==============================] - 0s 19ms/step - loss: 3.3674e-04\n",
            "Epoch 41/100\n",
            "21/21 [==============================] - 0s 21ms/step - loss: 3.2639e-04\n",
            "Epoch 42/100\n",
            "21/21 [==============================] - 0s 20ms/step - loss: 3.0309e-04\n",
            "Epoch 43/100\n",
            "21/21 [==============================] - 0s 20ms/step - loss: 3.1342e-04\n",
            "Epoch 44/100\n",
            "21/21 [==============================] - 0s 22ms/step - loss: 3.0451e-04\n",
            "Epoch 45/100\n",
            "21/21 [==============================] - 0s 20ms/step - loss: 2.8475e-04\n",
            "Epoch 46/100\n",
            "21/21 [==============================] - 0s 22ms/step - loss: 2.9609e-04\n",
            "Epoch 47/100\n",
            "21/21 [==============================] - 0s 19ms/step - loss: 2.9198e-04\n",
            "Epoch 48/100\n",
            "21/21 [==============================] - 0s 23ms/step - loss: 2.6110e-04\n",
            "Epoch 49/100\n",
            "21/21 [==============================] - 0s 20ms/step - loss: 2.6330e-04\n",
            "Epoch 50/100\n",
            "21/21 [==============================] - 0s 20ms/step - loss: 2.9070e-04\n",
            "Epoch 51/100\n",
            "21/21 [==============================] - 0s 21ms/step - loss: 3.7877e-04\n",
            "Epoch 52/100\n",
            "21/21 [==============================] - 0s 20ms/step - loss: 3.2982e-04\n",
            "Epoch 53/100\n",
            "21/21 [==============================] - 0s 23ms/step - loss: 2.8083e-04\n",
            "Epoch 54/100\n",
            "21/21 [==============================] - 0s 21ms/step - loss: 2.4455e-04\n",
            "Epoch 55/100\n",
            "21/21 [==============================] - 0s 23ms/step - loss: 2.4719e-04\n",
            "Epoch 56/100\n",
            "21/21 [==============================] - 0s 20ms/step - loss: 2.6599e-04\n",
            "Epoch 57/100\n",
            "21/21 [==============================] - 0s 21ms/step - loss: 2.3799e-04\n",
            "Epoch 58/100\n",
            "21/21 [==============================] - 0s 20ms/step - loss: 2.2903e-04\n",
            "Epoch 59/100\n",
            "21/21 [==============================] - 1s 26ms/step - loss: 2.3805e-04\n",
            "Epoch 60/100\n",
            "21/21 [==============================] - 1s 36ms/step - loss: 2.3669e-04\n",
            "Epoch 61/100\n",
            "21/21 [==============================] - 1s 33ms/step - loss: 2.2765e-04\n",
            "Epoch 62/100\n",
            "21/21 [==============================] - 1s 34ms/step - loss: 2.2190e-04\n",
            "Epoch 63/100\n",
            "21/21 [==============================] - 1s 36ms/step - loss: 2.2645e-04\n",
            "Epoch 64/100\n",
            "21/21 [==============================] - 1s 37ms/step - loss: 2.2097e-04\n",
            "Epoch 65/100\n",
            "21/21 [==============================] - 1s 27ms/step - loss: 2.5666e-04\n",
            "Epoch 66/100\n",
            "21/21 [==============================] - 0s 20ms/step - loss: 2.4856e-04\n",
            "Epoch 67/100\n",
            "21/21 [==============================] - 0s 21ms/step - loss: 2.2263e-04\n",
            "Epoch 68/100\n",
            "21/21 [==============================] - 0s 20ms/step - loss: 2.2485e-04\n",
            "Epoch 69/100\n",
            "21/21 [==============================] - 0s 21ms/step - loss: 2.4655e-04\n",
            "Epoch 70/100\n",
            "21/21 [==============================] - 0s 21ms/step - loss: 2.4793e-04\n",
            "Epoch 71/100\n",
            "21/21 [==============================] - 0s 21ms/step - loss: 2.1651e-04\n",
            "Epoch 72/100\n",
            "21/21 [==============================] - 0s 21ms/step - loss: 2.1807e-04\n",
            "Epoch 73/100\n",
            "21/21 [==============================] - 0s 21ms/step - loss: 2.3479e-04\n",
            "Epoch 74/100\n",
            "21/21 [==============================] - 0s 21ms/step - loss: 2.3516e-04\n",
            "Epoch 75/100\n",
            "21/21 [==============================] - 0s 21ms/step - loss: 2.3540e-04\n",
            "Epoch 76/100\n",
            "21/21 [==============================] - 0s 21ms/step - loss: 1.9975e-04\n",
            "Epoch 77/100\n",
            "21/21 [==============================] - 0s 21ms/step - loss: 2.0997e-04\n",
            "Epoch 78/100\n",
            "21/21 [==============================] - 0s 20ms/step - loss: 2.0129e-04\n",
            "Epoch 79/100\n",
            "21/21 [==============================] - 0s 19ms/step - loss: 2.2557e-04\n",
            "Epoch 80/100\n",
            "21/21 [==============================] - 0s 22ms/step - loss: 2.0753e-04\n",
            "Epoch 81/100\n",
            "21/21 [==============================] - 0s 19ms/step - loss: 2.1228e-04\n",
            "Epoch 82/100\n",
            "21/21 [==============================] - 0s 20ms/step - loss: 2.0973e-04\n",
            "Epoch 83/100\n",
            "21/21 [==============================] - 0s 21ms/step - loss: 2.0148e-04\n",
            "Epoch 84/100\n",
            "21/21 [==============================] - 0s 20ms/step - loss: 1.9322e-04\n",
            "Epoch 85/100\n",
            "21/21 [==============================] - 0s 21ms/step - loss: 1.8856e-04\n",
            "Epoch 86/100\n",
            "21/21 [==============================] - 0s 19ms/step - loss: 1.9374e-04\n",
            "Epoch 87/100\n",
            "21/21 [==============================] - 0s 21ms/step - loss: 1.8639e-04\n",
            "Epoch 88/100\n",
            "21/21 [==============================] - 1s 35ms/step - loss: 1.8489e-04\n",
            "Epoch 89/100\n",
            "21/21 [==============================] - 1s 38ms/step - loss: 1.8171e-04\n",
            "Epoch 90/100\n",
            "21/21 [==============================] - 1s 36ms/step - loss: 1.9057e-04\n",
            "Epoch 91/100\n",
            "21/21 [==============================] - 1s 35ms/step - loss: 2.0100e-04\n",
            "Epoch 92/100\n",
            "21/21 [==============================] - 1s 34ms/step - loss: 1.8772e-04\n",
            "Epoch 93/100\n",
            "21/21 [==============================] - 1s 37ms/step - loss: 2.0613e-04\n",
            "Epoch 94/100\n",
            "21/21 [==============================] - 1s 26ms/step - loss: 2.0955e-04\n",
            "Epoch 95/100\n",
            "21/21 [==============================] - 0s 20ms/step - loss: 2.0122e-04\n",
            "Epoch 96/100\n",
            "21/21 [==============================] - 0s 20ms/step - loss: 1.8751e-04\n",
            "Epoch 97/100\n",
            "21/21 [==============================] - 0s 20ms/step - loss: 1.8056e-04\n",
            "Epoch 98/100\n",
            "21/21 [==============================] - 0s 20ms/step - loss: 1.7541e-04\n",
            "Epoch 99/100\n",
            "21/21 [==============================] - 0s 22ms/step - loss: 1.7931e-04\n",
            "Epoch 100/100\n",
            "21/21 [==============================] - 0s 19ms/step - loss: 1.8165e-04\n"
          ]
        },
        {
          "output_type": "execute_result",
          "data": {
            "text/plain": [
              "<keras.src.callbacks.History at 0x7de5faf0b130>"
            ]
          },
          "metadata": {},
          "execution_count": 20
        }
      ],
      "source": [
        "# 9. Fit mô hình với dữ liệu train\n",
        "model.fit(X_train, y_train, epochs=100, batch_size=64, verbose=1)"
      ]
    },
    {
      "cell_type": "code",
      "execution_count": 21,
      "metadata": {
        "colab": {
          "base_uri": "https://localhost:8080/"
        },
        "id": "Rxx_KQSkQpBG",
        "outputId": "290cf2fa-d21e-4d19-f068-141495eee6c0"
      },
      "outputs": [
        {
          "output_type": "stream",
          "name": "stdout",
          "text": [
            "42/42 [==============================] - 1s 9ms/step\n",
            "2/2 [==============================] - 0s 10ms/step\n"
          ]
        }
      ],
      "source": [
        "# 10. Dự báo dữ liệu test\n",
        "train_predict = model.predict(X_train)\n",
        "y_pred = model.predict(X_test)\n"
      ]
    },
    {
      "cell_type": "code",
      "execution_count": 22,
      "metadata": {
        "id": "5rwTN10LQ7rj"
      },
      "outputs": [],
      "source": [
        "# 11. Chuẩn hóa dữ liệu y_pred, y_test\n",
        "train_predict = scaler.inverse_transform(train_predict)\n",
        "y_pred = scaler.inverse_transform(y_pred)\n",
        "y_test = scaler.inverse_transform(y_test.reshape(-1, 1))"
      ]
    },
    {
      "cell_type": "code",
      "execution_count": 23,
      "metadata": {
        "colab": {
          "base_uri": "https://localhost:8080/"
        },
        "id": "wu_9j94kRonD",
        "outputId": "567aaf5a-abd8-4167-d656-25e1be6f4284"
      },
      "outputs": [
        {
          "output_type": "stream",
          "name": "stdout",
          "text": [
            "Testing RMSE: 925.8386591834694\n"
          ]
        }
      ],
      "source": [
        "# 12. Đánh giá độ chính xác thuật toán bằng RMSE\n",
        "test_rmse = np.sqrt(np.mean((y_pred - y_test)**2))\n",
        "print('Testing RMSE:', test_rmse)"
      ]
    },
    {
      "cell_type": "code",
      "execution_count": 25,
      "metadata": {
        "colab": {
          "base_uri": "https://localhost:8080/"
        },
        "id": "izQZ1iQyYl6N",
        "outputId": "54c4f7d0-bd0f-415c-f5a9-741b976d3eb9",
        "collapsed": true
      },
      "outputs": [
        {
          "output_type": "stream",
          "name": "stdout",
          "text": [
            "[0.2318091]\n",
            "101\n",
            "[0.2318091]\n",
            "102\n",
            "[0.2318091]\n",
            "103\n",
            "[0.2318091]\n",
            "104\n",
            "[0.2318091]\n",
            "105\n",
            "[0.2318091]\n",
            "106\n",
            "[0.2318091]\n",
            "107\n",
            "[0.2318091]\n",
            "108\n",
            "[0.2318091]\n",
            "109\n",
            "[0.2318091]\n",
            "110\n",
            "[0.2318091]\n",
            "111\n",
            "[0.2318091]\n",
            "112\n",
            "[0.2318091]\n",
            "113\n",
            "[0.2318091]\n",
            "114\n",
            "[0.2318091]\n",
            "115\n",
            "[0.2318091]\n",
            "116\n",
            "[0.2318091]\n",
            "117\n",
            "[0.2318091]\n",
            "118\n",
            "[0.2318091]\n",
            "119\n",
            "[0.2318091]\n",
            "120\n",
            "[0.2318091]\n",
            "121\n",
            "[0.2318091]\n",
            "122\n",
            "[0.2318091]\n",
            "123\n",
            "[0.2318091]\n",
            "124\n",
            "[0.2318091]\n",
            "125\n",
            "[0.2318091]\n",
            "126\n",
            "[0.2318091]\n",
            "127\n",
            "[0.2318091]\n",
            "128\n",
            "[0.2318091]\n",
            "129\n",
            "[0.2318091]\n",
            "130\n"
          ]
        }
      ],
      "source": [
        "# 13. Dự báo 30 ngày tiếp theo (test có 159 ngày)\n",
        "x_input=test_data[60:].reshape(1,-1)\n",
        "x_input.shape\n",
        "\n",
        "temp_input=list(x_input)\n",
        "temp_input=temp_input[0].tolist()\n",
        "\n",
        "from numpy import array\n",
        "\n",
        "lst_output=[]\n",
        "n_steps=100\n",
        "i=0\n",
        "while(i<30):\n",
        "\n",
        "    if(len(temp_input)>250):\n",
        "        #print(temp_input)\n",
        "        x_input=np.array(temp_input[1:])\n",
        "        print(\"{} day input {}\".format(i,x_input))\n",
        "        x_input=x_input.reshape(1,-1)\n",
        "        x_input = x_input.reshape((1, n_steps, 1))\n",
        "        #print(x_input)\n",
        "        yhat = model.predict(x_input, verbose=0)\n",
        "        print(\"{} day output {}\".format(i,yhat))\n",
        "        temp_input.extend(yhat[0].tolist())\n",
        "        temp_input=temp_input[1:]\n",
        "        #print(temp_input)\n",
        "        lst_output.extend(yhat.tolist())\n",
        "        i=i+1\n",
        "    else:\n",
        "        x_input = x_input.reshape((1, n_steps,1))\n",
        "        yhat = model.predict(x_input, verbose=0)\n",
        "        print(yhat[0])\n",
        "        temp_input.extend(yhat[0].tolist())\n",
        "        print(len(temp_input))\n",
        "        lst_output.extend(yhat.tolist())\n",
        "        i=i+1\n"
      ]
    },
    {
      "cell_type": "code",
      "source": [
        "# 13b. Dự báo 60 ngày tiếp theo\n",
        "x_input=test_data[60:].reshape(1,-1)\n",
        "x_input.shape\n",
        "\n",
        "temp_input=list(x_input)\n",
        "temp_input=temp_input[0].tolist()\n",
        "\n",
        "from numpy import array\n",
        "\n",
        "lst_output_60=[]\n",
        "n_steps=100\n",
        "i=0\n",
        "while(i<60):\n",
        "\n",
        "    if(len(temp_input)>250):\n",
        "        #print(temp_input)\n",
        "        x_input=np.array(temp_input[1:])\n",
        "        print(\"{} day input {}\".format(i,x_input))\n",
        "        x_input=x_input.reshape(1,-1)\n",
        "        x_input = x_input.reshape((1, n_steps, 1))\n",
        "        #print(x_input)\n",
        "        yhat = model.predict(x_input, verbose=0)\n",
        "        print(\"{} day output {}\".format(i,yhat))\n",
        "        temp_input.extend(yhat[0].tolist())\n",
        "        temp_input=temp_input[1:]\n",
        "        #print(temp_input)\n",
        "        lst_output_60.extend(yhat.tolist())\n",
        "        i=i+1\n",
        "    else:\n",
        "        x_input = x_input.reshape((1, n_steps,1))\n",
        "        yhat = model.predict(x_input, verbose=0)\n",
        "        print(yhat[0])\n",
        "        temp_input.extend(yhat[0].tolist())\n",
        "        print(len(temp_input))\n",
        "        lst_output_60.extend(yhat.tolist())\n",
        "        i=i+1\n"
      ],
      "metadata": {
        "colab": {
          "base_uri": "https://localhost:8080/"
        },
        "id": "hK3nC9QvP286",
        "outputId": "03975f50-7bd8-4b8e-be24-12664bb88f20"
      },
      "execution_count": 26,
      "outputs": [
        {
          "output_type": "stream",
          "name": "stdout",
          "text": [
            "[0.2318091]\n",
            "101\n",
            "[0.2318091]\n",
            "102\n",
            "[0.2318091]\n",
            "103\n",
            "[0.2318091]\n",
            "104\n",
            "[0.2318091]\n",
            "105\n",
            "[0.2318091]\n",
            "106\n",
            "[0.2318091]\n",
            "107\n",
            "[0.2318091]\n",
            "108\n",
            "[0.2318091]\n",
            "109\n",
            "[0.2318091]\n",
            "110\n",
            "[0.2318091]\n",
            "111\n",
            "[0.2318091]\n",
            "112\n",
            "[0.2318091]\n",
            "113\n",
            "[0.2318091]\n",
            "114\n",
            "[0.2318091]\n",
            "115\n",
            "[0.2318091]\n",
            "116\n",
            "[0.2318091]\n",
            "117\n",
            "[0.2318091]\n",
            "118\n",
            "[0.2318091]\n",
            "119\n",
            "[0.2318091]\n",
            "120\n",
            "[0.2318091]\n",
            "121\n",
            "[0.2318091]\n",
            "122\n",
            "[0.2318091]\n",
            "123\n",
            "[0.2318091]\n",
            "124\n",
            "[0.2318091]\n",
            "125\n",
            "[0.2318091]\n",
            "126\n",
            "[0.2318091]\n",
            "127\n",
            "[0.2318091]\n",
            "128\n",
            "[0.2318091]\n",
            "129\n",
            "[0.2318091]\n",
            "130\n",
            "[0.2318091]\n",
            "131\n",
            "[0.2318091]\n",
            "132\n",
            "[0.2318091]\n",
            "133\n",
            "[0.2318091]\n",
            "134\n",
            "[0.2318091]\n",
            "135\n",
            "[0.2318091]\n",
            "136\n",
            "[0.2318091]\n",
            "137\n",
            "[0.2318091]\n",
            "138\n",
            "[0.2318091]\n",
            "139\n",
            "[0.2318091]\n",
            "140\n",
            "[0.2318091]\n",
            "141\n",
            "[0.2318091]\n",
            "142\n",
            "[0.2318091]\n",
            "143\n",
            "[0.2318091]\n",
            "144\n",
            "[0.2318091]\n",
            "145\n",
            "[0.2318091]\n",
            "146\n",
            "[0.2318091]\n",
            "147\n",
            "[0.2318091]\n",
            "148\n",
            "[0.2318091]\n",
            "149\n",
            "[0.2318091]\n",
            "150\n",
            "[0.2318091]\n",
            "151\n",
            "[0.2318091]\n",
            "152\n",
            "[0.2318091]\n",
            "153\n",
            "[0.2318091]\n",
            "154\n",
            "[0.2318091]\n",
            "155\n",
            "[0.2318091]\n",
            "156\n",
            "[0.2318091]\n",
            "157\n",
            "[0.2318091]\n",
            "158\n",
            "[0.2318091]\n",
            "159\n",
            "[0.2318091]\n",
            "160\n"
          ]
        }
      ]
    },
    {
      "cell_type": "code",
      "source": [
        "# 13c. Dự báo 90 ngày tiếp theo\n",
        "x_input=test_data[60:].reshape(1,-1)\n",
        "x_input.shape\n",
        "\n",
        "temp_input=list(x_input)\n",
        "temp_input=temp_input[0].tolist()\n",
        "\n",
        "from numpy import array\n",
        "\n",
        "lst_output_90=[]\n",
        "n_steps=100\n",
        "i=0\n",
        "while(i<90):\n",
        "\n",
        "    if(len(temp_input)>250):\n",
        "        #print(temp_input)\n",
        "        x_input=np.array(temp_input[1:])\n",
        "        print(\"{} day input {}\".format(i,x_input))\n",
        "        x_input=x_input.reshape(1,-1)\n",
        "        x_input = x_input.reshape((1, n_steps, 1))\n",
        "        #print(x_input)\n",
        "        yhat = model.predict(x_input, verbose=0)\n",
        "        print(\"{} day output {}\".format(i,yhat))\n",
        "        temp_input.extend(yhat[0].tolist())\n",
        "        temp_input=temp_input[1:]\n",
        "        #print(temp_input)\n",
        "        lst_output_90.extend(yhat.tolist())\n",
        "        i=i+1\n",
        "    else:\n",
        "        x_input = x_input.reshape((1, n_steps,1))\n",
        "        yhat = model.predict(x_input, verbose=0)\n",
        "        print(yhat[0])\n",
        "        temp_input.extend(yhat[0].tolist())\n",
        "        print(len(temp_input))\n",
        "        lst_output_90.extend(yhat.tolist())\n",
        "        i=i+1\n"
      ],
      "metadata": {
        "colab": {
          "base_uri": "https://localhost:8080/"
        },
        "id": "bGr1iBoDP7JC",
        "outputId": "a933ad2b-8937-486b-aca6-e1618c730d72"
      },
      "execution_count": 28,
      "outputs": [
        {
          "output_type": "stream",
          "name": "stdout",
          "text": [
            "[0.2318091]\n",
            "101\n",
            "[0.2318091]\n",
            "102\n",
            "[0.2318091]\n",
            "103\n",
            "[0.2318091]\n",
            "104\n",
            "[0.2318091]\n",
            "105\n",
            "[0.2318091]\n",
            "106\n",
            "[0.2318091]\n",
            "107\n",
            "[0.2318091]\n",
            "108\n",
            "[0.2318091]\n",
            "109\n",
            "[0.2318091]\n",
            "110\n",
            "[0.2318091]\n",
            "111\n",
            "[0.2318091]\n",
            "112\n",
            "[0.2318091]\n",
            "113\n",
            "[0.2318091]\n",
            "114\n",
            "[0.2318091]\n",
            "115\n",
            "[0.2318091]\n",
            "116\n",
            "[0.2318091]\n",
            "117\n",
            "[0.2318091]\n",
            "118\n",
            "[0.2318091]\n",
            "119\n",
            "[0.2318091]\n",
            "120\n",
            "[0.2318091]\n",
            "121\n",
            "[0.2318091]\n",
            "122\n",
            "[0.2318091]\n",
            "123\n",
            "[0.2318091]\n",
            "124\n",
            "[0.2318091]\n",
            "125\n",
            "[0.2318091]\n",
            "126\n",
            "[0.2318091]\n",
            "127\n",
            "[0.2318091]\n",
            "128\n",
            "[0.2318091]\n",
            "129\n",
            "[0.2318091]\n",
            "130\n",
            "[0.2318091]\n",
            "131\n",
            "[0.2318091]\n",
            "132\n",
            "[0.2318091]\n",
            "133\n",
            "[0.2318091]\n",
            "134\n",
            "[0.2318091]\n",
            "135\n",
            "[0.2318091]\n",
            "136\n",
            "[0.2318091]\n",
            "137\n",
            "[0.2318091]\n",
            "138\n",
            "[0.2318091]\n",
            "139\n",
            "[0.2318091]\n",
            "140\n",
            "[0.2318091]\n",
            "141\n",
            "[0.2318091]\n",
            "142\n",
            "[0.2318091]\n",
            "143\n",
            "[0.2318091]\n",
            "144\n",
            "[0.2318091]\n",
            "145\n",
            "[0.2318091]\n",
            "146\n",
            "[0.2318091]\n",
            "147\n",
            "[0.2318091]\n",
            "148\n",
            "[0.2318091]\n",
            "149\n",
            "[0.2318091]\n",
            "150\n",
            "[0.2318091]\n",
            "151\n",
            "[0.2318091]\n",
            "152\n",
            "[0.2318091]\n",
            "153\n",
            "[0.2318091]\n",
            "154\n",
            "[0.2318091]\n",
            "155\n",
            "[0.2318091]\n",
            "156\n",
            "[0.2318091]\n",
            "157\n",
            "[0.2318091]\n",
            "158\n",
            "[0.2318091]\n",
            "159\n",
            "[0.2318091]\n",
            "160\n",
            "[0.2318091]\n",
            "161\n",
            "[0.2318091]\n",
            "162\n",
            "[0.2318091]\n",
            "163\n",
            "[0.2318091]\n",
            "164\n",
            "[0.2318091]\n",
            "165\n",
            "[0.2318091]\n",
            "166\n",
            "[0.2318091]\n",
            "167\n",
            "[0.2318091]\n",
            "168\n",
            "[0.2318091]\n",
            "169\n",
            "[0.2318091]\n",
            "170\n",
            "[0.2318091]\n",
            "171\n",
            "[0.2318091]\n",
            "172\n",
            "[0.2318091]\n",
            "173\n",
            "[0.2318091]\n",
            "174\n",
            "[0.2318091]\n",
            "175\n",
            "[0.2318091]\n",
            "176\n",
            "[0.2318091]\n",
            "177\n",
            "[0.2318091]\n",
            "178\n",
            "[0.2318091]\n",
            "179\n",
            "[0.2318091]\n",
            "180\n",
            "[0.2318091]\n",
            "181\n",
            "[0.2318091]\n",
            "182\n",
            "[0.2318091]\n",
            "183\n",
            "[0.2318091]\n",
            "184\n",
            "[0.2318091]\n",
            "185\n",
            "[0.2318091]\n",
            "186\n",
            "[0.2318091]\n",
            "187\n",
            "[0.2318091]\n",
            "188\n",
            "[0.2318091]\n",
            "189\n",
            "[0.2318091]\n",
            "190\n"
          ]
        }
      ]
    },
    {
      "cell_type": "code",
      "source": [
        "test_data_index = pd.RangeIndex(start=train_size, stop=train_size+test_size+1-101, step=1)\n",
        "test_data_index.shape"
      ],
      "metadata": {
        "colab": {
          "base_uri": "https://localhost:8080/"
        },
        "id": "tKUGGTUzx14B",
        "outputId": "9cc7b010-7e80-4434-fff6-8b2183238d18"
      },
      "execution_count": 29,
      "outputs": [
        {
          "output_type": "execute_result",
          "data": {
            "text/plain": [
              "(59,)"
            ]
          },
          "metadata": {},
          "execution_count": 29
        }
      ]
    },
    {
      "cell_type": "code",
      "source": [
        "y_pred.shape"
      ],
      "metadata": {
        "colab": {
          "base_uri": "https://localhost:8080/"
        },
        "id": "fqJ7TesJxOYO",
        "outputId": "edf5dce4-be0b-47e3-ee7d-7d998a8fc1f2"
      },
      "execution_count": 30,
      "outputs": [
        {
          "output_type": "execute_result",
          "data": {
            "text/plain": [
              "(59, 1)"
            ]
          },
          "metadata": {},
          "execution_count": 30
        }
      ]
    },
    {
      "cell_type": "code",
      "source": [
        "# 14.Vẽ hình\n",
        "plt.figure(figsize=(12,6))\n",
        "train_data_index = pd.RangeIndex(start=0, stop=train_size, step=1)\n",
        "plt.plot(scaler.inverse_transform(train_data))\n",
        "\n",
        "test_data_index = pd.RangeIndex(start=train_size, stop=train_size+test_size+1, step=1)\n",
        "plt.plot(test_data_index,scaler.inverse_transform(test_data))\n",
        "\n",
        "test_data_index = pd.RangeIndex(start=train_size+101, stop=train_size+test_size+1, step=1)\n",
        "plt.plot(test_data_index,(y_pred))\n",
        "\n",
        "prediect_data_index_90 = pd.RangeIndex(start=len(df1)-1, stop=len(df1)+89, step=1)\n",
        "plt.plot(prediect_data_index_90,scaler.inverse_transform(lst_output_90))\n",
        "\n",
        "prediect_data_index_60 = pd.RangeIndex(start=len(df1)-1, stop=len(df1)+59, step=1)\n",
        "plt.plot(prediect_data_index_60,scaler.inverse_transform(lst_output_60))\n",
        "\n",
        "prediect_data_index = pd.RangeIndex(start=len(df1)-1, stop=len(df1)+29, step=1)\n",
        "plt.plot(prediect_data_index,scaler.inverse_transform(lst_output))\n",
        "\n",
        "plt.legend(['Train','Test','Predict','Predict30days'])\n",
        "plt.show()"
      ],
      "metadata": {
        "colab": {
          "base_uri": "https://localhost:8080/",
          "height": 522
        },
        "id": "_dM6DX1Ls5mL",
        "outputId": "40f06c4c-9124-4bf1-95eb-bb9ed9af2fed"
      },
      "execution_count": 31,
      "outputs": [
        {
          "output_type": "display_data",
          "data": {
            "text/plain": [
              "<Figure size 1200x600 with 1 Axes>"
            ],
            "image/png": "[encoded data removed]"
          },
          "metadata": {}
        }
      ]
    }
  ],
  "metadata": {
    "colab": {
      "provenance": []
    },
    "kernelspec": {
      "display_name": "Python 3",
      "name": "python3"
    },
    "language_info": {
      "name": "python"
    }
  },
  "nbformat": 4,
  "nbformat_minor": 0
}