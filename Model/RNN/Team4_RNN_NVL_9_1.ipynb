{
  "cells": [
    {
      "cell_type": "code",
      "execution_count": 328,
      "metadata": {
        "colab": {
          "base_uri": "https://localhost:8080/"
        },
        "id": "FMDKda-XIUAK",
        "outputId": "05576bca-9878-45c8-efe3-4c54d7a4efea"
      },
      "outputs": [
        {
          "output_type": "stream",
          "name": "stdout",
          "text": [
            "Drive already mounted at /content/drive; to attempt to forcibly remount, call drive.mount(\"/content/drive\", force_remount=True).\n"
          ]
        }
      ],
      "source": [
        "# 1. Import thư viện cần thiết\n",
        "from google.colab import drive\n",
        "drive.mount('/content/drive')\n",
        "import numpy as np\n",
        "import pandas as pd\n",
        "import matplotlib.pyplot as plt\n",
        "from sklearn.preprocessing import MinMaxScaler\n",
        "from keras.models import Sequential\n",
        "from keras.layers import Dense, SimpleRNN"
      ]
    },
    {
      "cell_type": "code",
      "execution_count": 329,
      "metadata": {
        "id": "aRm9GQ8KJJ5N"
      },
      "outputs": [],
      "source": [
        "# 2. Đọc file csv và gắng index với giá Close\n",
        "df = pd.read_csv('/content/NVL Historical Data 2018.csv')\n",
        "\n",
        "# Nhận thấy tập dữ liệu, ở cột Price giá tiền có dấu phẩy và đang ở dạng string\n",
        "# Bỏ dấu phẩy\n",
        "df['Price'] = df['Price'].str.replace(',', '')\n",
        "# Chuyển sang dạng số\n",
        "df['Price'] = pd.to_numeric(df['Price'])\n",
        "df = df[::-1]"
      ]
    },
    {
      "cell_type": "code",
      "source": [
        "df1=df.reset_index()['Price']\n",
        "df1.head()"
      ],
      "metadata": {
        "colab": {
          "base_uri": "https://localhost:8080/"
        },
        "id": "d81FWdpTpmxG",
        "outputId": "92eb83ed-0257-4164-cbde-7dbc2a7114d4"
      },
      "execution_count": 330,
      "outputs": [
        {
          "output_type": "execute_result",
          "data": {
            "text/plain": [
              "0    27815\n",
              "1    28410\n",
              "2    28707\n",
              "3    28962\n",
              "4    29556\n",
              "Name: Price, dtype: int64"
            ]
          },
          "metadata": {},
          "execution_count": 330
        }
      ]
    },
    {
      "cell_type": "code",
      "source": [
        "df1"
      ],
      "metadata": {
        "colab": {
          "base_uri": "https://localhost:8080/"
        },
        "id": "O75pUMjkwAW1",
        "outputId": "7bc65140-edc9-413f-9a0b-5cf9185bcf1d"
      },
      "execution_count": 331,
      "outputs": [
        {
          "output_type": "execute_result",
          "data": {
            "text/plain": [
              "0       27815\n",
              "1       28410\n",
              "2       28707\n",
              "3       28962\n",
              "4       29556\n",
              "        ...  \n",
              "1547    16700\n",
              "1548    16500\n",
              "1549    16550\n",
              "1550    17100\n",
              "1551    17100\n",
              "Name: Price, Length: 1552, dtype: int64"
            ]
          },
          "metadata": {},
          "execution_count": 331
        }
      ]
    },
    {
      "cell_type": "code",
      "execution_count": 332,
      "metadata": {
        "id": "RdVpDho2JgL5"
      },
      "outputs": [],
      "source": [
        "# 3. Scaler data\n",
        "scaler=MinMaxScaler(feature_range=(0,1))\n",
        "df1=scaler.fit_transform(np.array(df1).reshape(-1,1))"
      ]
    },
    {
      "cell_type": "code",
      "execution_count": 333,
      "metadata": {
        "id": "B5JXpenzJoR3"
      },
      "outputs": [],
      "source": [
        "# 4. Chia train test\n",
        "train_size = int(0.9 * len(df1))\n",
        "test_size = int(0.1 * len(df1))\n",
        "\n",
        "train_data = df1[:train_size]\n",
        "test_data = df1[train_size:]"
      ]
    },
    {
      "cell_type": "code",
      "source": [
        "test_size"
      ],
      "metadata": {
        "colab": {
          "base_uri": "https://localhost:8080/"
        },
        "id": "MBvNXgW-v2JL",
        "outputId": "f1e62fd3-6371-421a-d9b4-322b4562804f"
      },
      "execution_count": 334,
      "outputs": [
        {
          "output_type": "execute_result",
          "data": {
            "text/plain": [
              "155"
            ]
          },
          "metadata": {},
          "execution_count": 334
        }
      ]
    },
    {
      "cell_type": "code",
      "execution_count": 335,
      "metadata": {
        "id": "yJfmuBORLSfC"
      },
      "outputs": [],
      "source": [
        "# 5. Hàm Create Dataset\n",
        "import numpy\n",
        "# convert an array of values into a dataset matrix\n",
        "def create_dataset(dataset, time_step=1):\n",
        "\tdataX, dataY = [], []\n",
        "\tfor i in range(len(dataset)-time_step-1):\n",
        "\t\ta = dataset[i:(i+time_step), 0]   ###i=0, X=0,1,2,3-----99   Y=100\n",
        "\t\tdataX.append(a)\n",
        "\t\tdataY.append(dataset[i + time_step, 0])\n",
        "\treturn numpy.array(dataX), numpy.array(dataY)"
      ]
    },
    {
      "cell_type": "code",
      "execution_count": 336,
      "metadata": {
        "id": "e81cKq03LXFB"
      },
      "outputs": [],
      "source": [
        "# 6. Reshape into X=t,t+1,t+2..t+99 and Y=t+100\n",
        "time_step = 100\n",
        "X_train, y_train = create_dataset(train_data, time_step)\n",
        "X_test, y_test = create_dataset(test_data, time_step)"
      ]
    },
    {
      "cell_type": "code",
      "execution_count": 337,
      "metadata": {
        "id": "RdBVfku7O2qb"
      },
      "outputs": [],
      "source": [
        "# 7. Reshape input to be [samples, time steps, features] which is required for LSTM\n",
        "X_train = X_train.reshape(X_train.shape[0], X_train.shape[1], 1)\n",
        "X_test = X_test.reshape(X_test.shape[0], X_test.shape[1], 1)"
      ]
    },
    {
      "cell_type": "code",
      "source": [
        "X_train.shape"
      ],
      "metadata": {
        "colab": {
          "base_uri": "https://localhost:8080/"
        },
        "id": "IouLd-0AwQ3_",
        "outputId": "302dfc9e-8223-4cd7-a45b-f8dc7cc46217"
      },
      "execution_count": 338,
      "outputs": [
        {
          "output_type": "execute_result",
          "data": {
            "text/plain": [
              "(1295, 100, 1)"
            ]
          },
          "metadata": {},
          "execution_count": 338
        }
      ]
    },
    {
      "cell_type": "code",
      "execution_count": 339,
      "metadata": {
        "id": "sSfxrE7BO9vX"
      },
      "outputs": [],
      "source": [
        "# 8. Define LSTM Model\n",
        "model = Sequential()\n",
        "model.add(SimpleRNN(50, input_shape=(time_step, 1)))\n",
        "model.add(Dense(1))\n",
        "model.compile(loss='mean_squared_error', optimizer='adam')"
      ]
    },
    {
      "cell_type": "code",
      "execution_count": 340,
      "metadata": {
        "colab": {
          "base_uri": "https://localhost:8080/"
        },
        "id": "zgfeujZSPEKr",
        "outputId": "e327ffc9-5b58-4e1f-bcd4-74abf6817182"
      },
      "outputs": [
        {
          "output_type": "stream",
          "name": "stdout",
          "text": [
            "Epoch 1/100\n",
            "21/21 [==============================] - 3s 23ms/step - loss: 0.0474\n",
            "Epoch 2/100\n",
            "21/21 [==============================] - 0s 22ms/step - loss: 0.0020\n",
            "Epoch 3/100\n",
            "21/21 [==============================] - 0s 22ms/step - loss: 7.3815e-04\n",
            "Epoch 4/100\n",
            "21/21 [==============================] - 0s 22ms/step - loss: 5.9460e-04\n",
            "Epoch 5/100\n",
            "21/21 [==============================] - 0s 22ms/step - loss: 5.6323e-04\n",
            "Epoch 6/100\n",
            "21/21 [==============================] - 0s 20ms/step - loss: 5.5478e-04\n",
            "Epoch 7/100\n",
            "21/21 [==============================] - 0s 21ms/step - loss: 5.2488e-04\n",
            "Epoch 8/100\n",
            "21/21 [==============================] - 0s 21ms/step - loss: 5.1396e-04\n",
            "Epoch 9/100\n",
            "21/21 [==============================] - 0s 21ms/step - loss: 4.8994e-04\n",
            "Epoch 10/100\n",
            "21/21 [==============================] - 0s 19ms/step - loss: 5.0357e-04\n",
            "Epoch 11/100\n",
            "21/21 [==============================] - 0s 18ms/step - loss: 4.9035e-04\n",
            "Epoch 12/100\n",
            "21/21 [==============================] - 0s 20ms/step - loss: 4.4693e-04\n",
            "Epoch 13/100\n",
            "21/21 [==============================] - 0s 21ms/step - loss: 4.4162e-04\n",
            "Epoch 14/100\n",
            "21/21 [==============================] - 0s 20ms/step - loss: 4.4058e-04\n",
            "Epoch 15/100\n",
            "21/21 [==============================] - 0s 20ms/step - loss: 4.1648e-04\n",
            "Epoch 16/100\n",
            "21/21 [==============================] - 0s 20ms/step - loss: 4.2075e-04\n",
            "Epoch 17/100\n",
            "21/21 [==============================] - 0s 22ms/step - loss: 4.0063e-04\n",
            "Epoch 18/100\n",
            "21/21 [==============================] - 1s 24ms/step - loss: 3.8032e-04\n",
            "Epoch 19/100\n",
            "21/21 [==============================] - 1s 35ms/step - loss: 4.2063e-04\n",
            "Epoch 20/100\n",
            "21/21 [==============================] - 1s 37ms/step - loss: 3.9690e-04\n",
            "Epoch 21/100\n",
            "21/21 [==============================] - 1s 34ms/step - loss: 3.6532e-04\n",
            "Epoch 22/100\n",
            "21/21 [==============================] - 1s 37ms/step - loss: 3.5217e-04\n",
            "Epoch 23/100\n",
            "21/21 [==============================] - 1s 41ms/step - loss: 3.8032e-04\n",
            "Epoch 24/100\n",
            "21/21 [==============================] - 1s 41ms/step - loss: 4.2322e-04\n",
            "Epoch 25/100\n",
            "21/21 [==============================] - 1s 39ms/step - loss: 3.7593e-04\n",
            "Epoch 26/100\n",
            "21/21 [==============================] - 0s 21ms/step - loss: 3.5225e-04\n",
            "Epoch 27/100\n",
            "21/21 [==============================] - 0s 20ms/step - loss: 3.5585e-04\n",
            "Epoch 28/100\n",
            "21/21 [==============================] - 0s 19ms/step - loss: 3.6523e-04\n",
            "Epoch 29/100\n",
            "21/21 [==============================] - 0s 21ms/step - loss: 3.5812e-04\n",
            "Epoch 30/100\n",
            "21/21 [==============================] - 0s 21ms/step - loss: 3.3517e-04\n",
            "Epoch 31/100\n",
            "21/21 [==============================] - 0s 23ms/step - loss: 3.4797e-04\n",
            "Epoch 32/100\n",
            "21/21 [==============================] - 0s 19ms/step - loss: 3.2251e-04\n",
            "Epoch 33/100\n",
            "21/21 [==============================] - 0s 21ms/step - loss: 3.1827e-04\n",
            "Epoch 34/100\n",
            "21/21 [==============================] - 0s 20ms/step - loss: 3.4302e-04\n",
            "Epoch 35/100\n",
            "21/21 [==============================] - 0s 19ms/step - loss: 3.2325e-04\n",
            "Epoch 36/100\n",
            "21/21 [==============================] - 0s 22ms/step - loss: 3.3627e-04\n",
            "Epoch 37/100\n",
            "21/21 [==============================] - 0s 20ms/step - loss: 3.1355e-04\n",
            "Epoch 38/100\n",
            "21/21 [==============================] - 0s 22ms/step - loss: 3.2486e-04\n",
            "Epoch 39/100\n",
            "21/21 [==============================] - 0s 19ms/step - loss: 3.2698e-04\n",
            "Epoch 40/100\n",
            "21/21 [==============================] - 0s 20ms/step - loss: 3.3445e-04\n",
            "Epoch 41/100\n",
            "21/21 [==============================] - 0s 20ms/step - loss: 3.0278e-04\n",
            "Epoch 42/100\n",
            "21/21 [==============================] - 0s 21ms/step - loss: 2.9247e-04\n",
            "Epoch 43/100\n",
            "21/21 [==============================] - 1s 25ms/step - loss: 2.9090e-04\n",
            "Epoch 44/100\n",
            "21/21 [==============================] - 0s 21ms/step - loss: 2.9263e-04\n",
            "Epoch 45/100\n",
            "21/21 [==============================] - 0s 22ms/step - loss: 3.0152e-04\n",
            "Epoch 46/100\n",
            "21/21 [==============================] - 0s 20ms/step - loss: 3.3399e-04\n",
            "Epoch 47/100\n",
            "21/21 [==============================] - 0s 21ms/step - loss: 2.8392e-04\n",
            "Epoch 48/100\n",
            "21/21 [==============================] - 1s 25ms/step - loss: 2.9531e-04\n",
            "Epoch 49/100\n",
            "21/21 [==============================] - 1s 35ms/step - loss: 2.8465e-04\n",
            "Epoch 50/100\n",
            "21/21 [==============================] - 1s 37ms/step - loss: 2.7978e-04\n",
            "Epoch 51/100\n",
            "21/21 [==============================] - 1s 36ms/step - loss: 2.7496e-04\n",
            "Epoch 52/100\n",
            "21/21 [==============================] - 1s 40ms/step - loss: 2.7000e-04\n",
            "Epoch 53/100\n",
            "21/21 [==============================] - 1s 41ms/step - loss: 2.8183e-04\n",
            "Epoch 54/100\n",
            "21/21 [==============================] - 1s 37ms/step - loss: 2.5906e-04\n",
            "Epoch 55/100\n",
            "21/21 [==============================] - 1s 33ms/step - loss: 2.8243e-04\n",
            "Epoch 56/100\n",
            "21/21 [==============================] - 0s 19ms/step - loss: 2.5390e-04\n",
            "Epoch 57/100\n",
            "21/21 [==============================] - 0s 20ms/step - loss: 2.8994e-04\n",
            "Epoch 58/100\n",
            "21/21 [==============================] - 0s 20ms/step - loss: 2.5249e-04\n",
            "Epoch 59/100\n",
            "21/21 [==============================] - 0s 19ms/step - loss: 2.6026e-04\n",
            "Epoch 60/100\n",
            "21/21 [==============================] - 0s 19ms/step - loss: 2.5706e-04\n",
            "Epoch 61/100\n",
            "21/21 [==============================] - 0s 21ms/step - loss: 2.6236e-04\n",
            "Epoch 62/100\n",
            "21/21 [==============================] - 0s 21ms/step - loss: 2.5002e-04\n",
            "Epoch 63/100\n",
            "21/21 [==============================] - 0s 21ms/step - loss: 2.4821e-04\n",
            "Epoch 64/100\n",
            "21/21 [==============================] - 0s 20ms/step - loss: 2.4366e-04\n",
            "Epoch 65/100\n",
            "21/21 [==============================] - 0s 19ms/step - loss: 2.8651e-04\n",
            "Epoch 66/100\n",
            "21/21 [==============================] - 0s 22ms/step - loss: 2.4232e-04\n",
            "Epoch 67/100\n",
            "21/21 [==============================] - 0s 21ms/step - loss: 2.4784e-04\n",
            "Epoch 68/100\n",
            "21/21 [==============================] - 0s 22ms/step - loss: 2.4327e-04\n",
            "Epoch 69/100\n",
            "21/21 [==============================] - 0s 21ms/step - loss: 2.3730e-04\n",
            "Epoch 70/100\n",
            "21/21 [==============================] - 0s 22ms/step - loss: 2.4646e-04\n",
            "Epoch 71/100\n",
            "21/21 [==============================] - 0s 22ms/step - loss: 2.8411e-04\n",
            "Epoch 72/100\n",
            "21/21 [==============================] - 0s 22ms/step - loss: 2.5351e-04\n",
            "Epoch 73/100\n",
            "21/21 [==============================] - 0s 21ms/step - loss: 2.5446e-04\n",
            "Epoch 74/100\n",
            "21/21 [==============================] - 0s 21ms/step - loss: 2.3710e-04\n",
            "Epoch 75/100\n",
            "21/21 [==============================] - 0s 23ms/step - loss: 2.3973e-04\n",
            "Epoch 76/100\n",
            "21/21 [==============================] - 0s 19ms/step - loss: 2.3716e-04\n",
            "Epoch 77/100\n",
            "21/21 [==============================] - 0s 21ms/step - loss: 2.5784e-04\n",
            "Epoch 78/100\n",
            "21/21 [==============================] - 1s 34ms/step - loss: 2.3698e-04\n",
            "Epoch 79/100\n",
            "21/21 [==============================] - 1s 38ms/step - loss: 2.3158e-04\n",
            "Epoch 80/100\n",
            "21/21 [==============================] - 1s 36ms/step - loss: 2.3257e-04\n",
            "Epoch 81/100\n",
            "21/21 [==============================] - 1s 37ms/step - loss: 2.3115e-04\n",
            "Epoch 82/100\n",
            "21/21 [==============================] - 1s 41ms/step - loss: 2.2628e-04\n",
            "Epoch 83/100\n",
            "21/21 [==============================] - 1s 44ms/step - loss: 2.2983e-04\n",
            "Epoch 84/100\n",
            "21/21 [==============================] - 1s 26ms/step - loss: 2.5456e-04\n",
            "Epoch 85/100\n",
            "21/21 [==============================] - 0s 20ms/step - loss: 2.4149e-04\n",
            "Epoch 86/100\n",
            "21/21 [==============================] - 0s 21ms/step - loss: 2.1555e-04\n",
            "Epoch 87/100\n",
            "21/21 [==============================] - 0s 19ms/step - loss: 2.3131e-04\n",
            "Epoch 88/100\n",
            "21/21 [==============================] - 0s 20ms/step - loss: 2.1921e-04\n",
            "Epoch 89/100\n",
            "21/21 [==============================] - 0s 19ms/step - loss: 2.1491e-04\n",
            "Epoch 90/100\n",
            "21/21 [==============================] - 0s 22ms/step - loss: 2.1829e-04\n",
            "Epoch 91/100\n",
            "21/21 [==============================] - 0s 23ms/step - loss: 2.2893e-04\n",
            "Epoch 92/100\n",
            "21/21 [==============================] - 0s 23ms/step - loss: 2.1485e-04\n",
            "Epoch 93/100\n",
            "21/21 [==============================] - 0s 23ms/step - loss: 2.2387e-04\n",
            "Epoch 94/100\n",
            "21/21 [==============================] - 0s 21ms/step - loss: 2.5687e-04\n",
            "Epoch 95/100\n",
            "21/21 [==============================] - 0s 21ms/step - loss: 2.2184e-04\n",
            "Epoch 96/100\n",
            "21/21 [==============================] - 0s 19ms/step - loss: 2.0262e-04\n",
            "Epoch 97/100\n",
            "21/21 [==============================] - 0s 21ms/step - loss: 2.0414e-04\n",
            "Epoch 98/100\n",
            "21/21 [==============================] - 0s 21ms/step - loss: 1.9703e-04\n",
            "Epoch 99/100\n",
            "21/21 [==============================] - 0s 21ms/step - loss: 2.3358e-04\n",
            "Epoch 100/100\n",
            "21/21 [==============================] - 1s 25ms/step - loss: 2.1607e-04\n"
          ]
        },
        {
          "output_type": "execute_result",
          "data": {
            "text/plain": [
              "<keras.src.callbacks.History at 0x7c3aca266f20>"
            ]
          },
          "metadata": {},
          "execution_count": 340
        }
      ],
      "source": [
        "# 9. Fit mô hình với dữ liệu train\n",
        "model.fit(X_train, y_train, epochs=100, batch_size=64, verbose=1)"
      ]
    },
    {
      "cell_type": "code",
      "execution_count": 341,
      "metadata": {
        "colab": {
          "base_uri": "https://localhost:8080/"
        },
        "id": "Rxx_KQSkQpBG",
        "outputId": "927ed273-a01e-41af-a0c8-8fa8e445640b"
      },
      "outputs": [
        {
          "output_type": "stream",
          "name": "stdout",
          "text": [
            "41/41 [==============================] - 1s 11ms/step\n",
            "2/2 [==============================] - 0s 17ms/step\n"
          ]
        }
      ],
      "source": [
        "# 10. Dự báo dữ liệu test\n",
        "train_predict = model.predict(X_train)\n",
        "y_pred = model.predict(X_test)\n"
      ]
    },
    {
      "cell_type": "code",
      "execution_count": 342,
      "metadata": {
        "id": "5rwTN10LQ7rj"
      },
      "outputs": [],
      "source": [
        "# 11. Chuẩn hóa dữ liệu y_pred, y_test\n",
        "train_predict = scaler.inverse_transform(train_predict)\n",
        "y_pred = scaler.inverse_transform(y_pred)\n",
        "y_test = scaler.inverse_transform(y_test.reshape(-1, 1))"
      ]
    },
    {
      "cell_type": "code",
      "execution_count": 343,
      "metadata": {
        "colab": {
          "base_uri": "https://localhost:8080/"
        },
        "id": "wu_9j94kRonD",
        "outputId": "4614a3e7-399c-486a-984f-714035be199d"
      },
      "outputs": [
        {
          "output_type": "stream",
          "name": "stdout",
          "text": [
            "Testing RMSE: 378.0189882212463\n"
          ]
        }
      ],
      "source": [
        "# 12. Đánh giá độ chính xác thuật toán bằng RMSE\n",
        "test_rmse = np.sqrt(np.mean((y_pred - y_test)**2))\n",
        "print('Testing RMSE:', test_rmse)"
      ]
    },
    {
      "cell_type": "code",
      "source": [
        "x_input.shape"
      ],
      "metadata": {
        "colab": {
          "base_uri": "https://localhost:8080/"
        },
        "id": "DkcEu5EBqkc-",
        "outputId": "b7b4d837-0e0a-4749-e0e0-e696c44e10ad"
      },
      "execution_count": 344,
      "outputs": [
        {
          "output_type": "execute_result",
          "data": {
            "text/plain": [
              "(1, 250, 1)"
            ]
          },
          "metadata": {},
          "execution_count": 344
        }
      ]
    },
    {
      "cell_type": "code",
      "execution_count": 345,
      "metadata": {
        "colab": {
          "base_uri": "https://localhost:8080/"
        },
        "id": "izQZ1iQyYl6N",
        "outputId": "ef4e50e6-3892-4d5b-ec36-517a3db14b42",
        "collapsed": true
      },
      "outputs": [
        {
          "output_type": "stream",
          "name": "stdout",
          "text": [
            "[0.08660786]\n",
            "97\n",
            "[0.08660786]\n",
            "98\n",
            "[0.08660786]\n",
            "99\n",
            "[0.08660786]\n",
            "100\n",
            "[0.08660786]\n",
            "101\n",
            "[0.08660786]\n",
            "102\n",
            "[0.08660786]\n",
            "103\n",
            "[0.08660786]\n",
            "104\n",
            "[0.08660786]\n",
            "105\n",
            "[0.08660786]\n",
            "106\n",
            "[0.08660786]\n",
            "107\n",
            "[0.08660786]\n",
            "108\n",
            "[0.08660786]\n",
            "109\n",
            "[0.08660786]\n",
            "110\n",
            "[0.08660786]\n",
            "111\n",
            "[0.08660786]\n",
            "112\n",
            "[0.08660786]\n",
            "113\n",
            "[0.08660786]\n",
            "114\n",
            "[0.08660786]\n",
            "115\n",
            "[0.08660786]\n",
            "116\n",
            "[0.08660786]\n",
            "117\n",
            "[0.08660786]\n",
            "118\n",
            "[0.08660786]\n",
            "119\n",
            "[0.08660786]\n",
            "120\n",
            "[0.08660786]\n",
            "121\n",
            "[0.08660786]\n",
            "122\n",
            "[0.08660786]\n",
            "123\n",
            "[0.08660786]\n",
            "124\n",
            "[0.08660786]\n",
            "125\n",
            "[0.08660786]\n",
            "126\n"
          ]
        }
      ],
      "source": [
        "# 13. Dự báo 30 ngày tiếp theo\n",
        "x_input=test_data[60:].reshape(1,-1)\n",
        "x_input.shape\n",
        "\n",
        "temp_input=list(x_input)\n",
        "temp_input=temp_input[0].tolist()\n",
        "\n",
        "from numpy import array\n",
        "\n",
        "lst_output=[]\n",
        "n_steps=96      # Thay đổi phù hợp\n",
        "i=0\n",
        "while(i<30):\n",
        "\n",
        "    if(len(temp_input)>250):\n",
        "        #print(temp_input)\n",
        "        x_input=np.array(temp_input[1:])\n",
        "        print(\"{} day input {}\".format(i,x_input))\n",
        "        x_input=x_input.reshape(1,-1)\n",
        "        x_input = x_input.reshape((1, n_steps, 1))\n",
        "        #print(x_input)\n",
        "        yhat = model.predict(x_input, verbose=0)\n",
        "        print(\"{} day output {}\".format(i,yhat))\n",
        "        temp_input.extend(yhat[0].tolist())\n",
        "        temp_input=temp_input[1:]\n",
        "        #print(temp_input)\n",
        "        lst_output.extend(yhat.tolist())\n",
        "        i=i+1\n",
        "    else:\n",
        "        x_input = x_input.reshape((1, n_steps,1))\n",
        "        yhat = model.predict(x_input, verbose=0)\n",
        "        print(yhat[0])\n",
        "        temp_input.extend(yhat[0].tolist())\n",
        "        print(len(temp_input))\n",
        "        lst_output.extend(yhat.tolist())\n",
        "        i=i+1\n"
      ]
    },
    {
      "cell_type": "code",
      "source": [
        "test_data_index"
      ],
      "metadata": {
        "colab": {
          "base_uri": "https://localhost:8080/"
        },
        "id": "tKUGGTUzx14B",
        "outputId": "25f72b8f-9797-4f05-ae09-90cd7d1a7af2"
      },
      "execution_count": 346,
      "outputs": [
        {
          "output_type": "execute_result",
          "data": {
            "text/plain": [
              "RangeIndex(start=1342, stop=1552, step=1)"
            ]
          },
          "metadata": {},
          "execution_count": 346
        }
      ]
    },
    {
      "cell_type": "code",
      "source": [
        "scaler.inverse_transform(test_data).shape"
      ],
      "metadata": {
        "colab": {
          "base_uri": "https://localhost:8080/"
        },
        "id": "H3P4h2Sj6WLI",
        "outputId": "70b6a400-1f7d-4cdf-ab47-2f2d60fd7f7b"
      },
      "execution_count": 347,
      "outputs": [
        {
          "output_type": "execute_result",
          "data": {
            "text/plain": [
              "(156, 1)"
            ]
          },
          "metadata": {},
          "execution_count": 347
        }
      ]
    },
    {
      "cell_type": "code",
      "source": [
        "y_pred.shape"
      ],
      "metadata": {
        "colab": {
          "base_uri": "https://localhost:8080/"
        },
        "id": "fqJ7TesJxOYO",
        "outputId": "1894c297-20cc-46b5-eb0b-3d8a285c6cf8"
      },
      "execution_count": 348,
      "outputs": [
        {
          "output_type": "execute_result",
          "data": {
            "text/plain": [
              "(55, 1)"
            ]
          },
          "metadata": {},
          "execution_count": 348
        }
      ]
    },
    {
      "cell_type": "code",
      "source": [
        "# 14.Vẽ hình\n",
        "plt.figure(figsize=(12,6))\n",
        "train_data_index = pd.RangeIndex(start=0, stop=train_size, step=1)\n",
        "plt.plot(scaler.inverse_transform(train_data))\n",
        "\n",
        "test_data_index = pd.RangeIndex(start=train_size, stop=train_size+test_size+1, step=1)\n",
        "plt.plot(test_data_index,scaler.inverse_transform(test_data))\n",
        "\n",
        "test_data_index = pd.RangeIndex(start=train_size+101, stop=train_size+test_size+1, step=1)\n",
        "plt.plot(test_data_index,(y_pred))\n",
        "\n",
        "prediect_data_index = pd.RangeIndex(start=len(df1)-1, stop=len(df1)+29, step=1)\n",
        "plt.plot(prediect_data_index,scaler.inverse_transform(lst_output))\n",
        "\n",
        "plt.legend(['Train','Test','Predict','Predict30days'])\n",
        "plt.show()"
      ],
      "metadata": {
        "colab": {
          "base_uri": "https://localhost:8080/",
          "height": 522
        },
        "id": "_dM6DX1Ls5mL",
        "outputId": "d30bb8d9-b5c9-4e5d-e844-b26eec6fe16b"
      },
      "execution_count": 349,
      "outputs": [
        {
          "output_type": "display_data",
          "data": {
            "text/plain": [
              "<Figure size 1200x600 with 1 Axes>"
            ],
            "image/png": "[encoded data removed]"
          },
          "metadata": {}
        }
      ]
    }
  ],
  "metadata": {
    "colab": {
      "provenance": []
    },
    "kernelspec": {
      "display_name": "Python 3",
      "name": "python3"
    },
    "language_info": {
      "name": "python"
    }
  },
  "nbformat": 4,
  "nbformat_minor": 0
}