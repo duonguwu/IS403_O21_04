{
  "cells": [
    {
      "cell_type": "code",
      "execution_count": 295,
      "metadata": {
        "id": "FMDKda-XIUAK"
      },
      "outputs": [],
      "source": [
        "# 1. Import thư viện cần thiết\n",
        "import numpy as np\n",
        "import pandas as pd\n",
        "import matplotlib.pyplot as plt\n",
        "from sklearn.preprocessing import MinMaxScaler\n",
        "from keras.models import Sequential\n",
        "from keras.layers import Dense, SimpleRNN"
      ]
    },
    {
      "cell_type": "code",
      "execution_count": 296,
      "metadata": {
        "id": "aRm9GQ8KJJ5N"
      },
      "outputs": [],
      "source": [
        "# 2. Đọc file csv và gắng index với giá Close\n",
        "df = pd.read_csv('/content/NVL Historical Data 1_6.csv')\n",
        "\n",
        "# Nhận thấy tập dữ liệu, ở cột Price giá tiền có dấu phẩy và đang ở dạng string\n",
        "# Bỏ dấu phẩy\n",
        "df['Price'] = df['Price'].str.replace(',', '')\n",
        "# Chuyển sang dạng số\n",
        "df['Price'] = pd.to_numeric(df['Price'])\n",
        "df = df[::-1]"
      ]
    },
    {
      "cell_type": "code",
      "source": [
        "df1=df.reset_index()['Price']\n",
        "df1.head()"
      ],
      "metadata": {
        "colab": {
          "base_uri": "https://localhost:8080/"
        },
        "id": "d81FWdpTpmxG",
        "outputId": "056d1ae3-0b16-41a6-e7e8-c378fbaf09cf"
      },
      "execution_count": 297,
      "outputs": [
        {
          "output_type": "execute_result",
          "data": {
            "text/plain": [
              "0    27815\n",
              "1    28410\n",
              "2    28707\n",
              "3    28962\n",
              "4    29556\n",
              "Name: Price, dtype: int64"
            ]
          },
          "metadata": {},
          "execution_count": 297
        }
      ]
    },
    {
      "cell_type": "code",
      "source": [
        "df1"
      ],
      "metadata": {
        "colab": {
          "base_uri": "https://localhost:8080/"
        },
        "id": "O75pUMjkwAW1",
        "outputId": "2e03155b-5f3d-4d3c-c8eb-fde23b65b5ed"
      },
      "execution_count": 298,
      "outputs": [
        {
          "output_type": "execute_result",
          "data": {
            "text/plain": [
              "0       27815\n",
              "1       28410\n",
              "2       28707\n",
              "3       28962\n",
              "4       29556\n",
              "        ...  \n",
              "1593    14500\n",
              "1594    14500\n",
              "1595    14150\n",
              "1596    14150\n",
              "1597    14450\n",
              "Name: Price, Length: 1598, dtype: int64"
            ]
          },
          "metadata": {},
          "execution_count": 298
        }
      ]
    },
    {
      "cell_type": "code",
      "execution_count": 299,
      "metadata": {
        "id": "RdVpDho2JgL5"
      },
      "outputs": [],
      "source": [
        "# 3. Scaler data\n",
        "scaler=MinMaxScaler(feature_range=(0,1))\n",
        "df1=scaler.fit_transform(np.array(df1).reshape(-1,1))"
      ]
    },
    {
      "cell_type": "code",
      "execution_count": 300,
      "metadata": {
        "id": "B5JXpenzJoR3"
      },
      "outputs": [],
      "source": [
        "# 4. Chia train test\n",
        "train_size = int(0.9 * len(df1))\n",
        "test_size = int(0.1 * len(df1))\n",
        "\n",
        "train_data = df1[:train_size]\n",
        "test_data = df1[train_size:]"
      ]
    },
    {
      "cell_type": "code",
      "source": [
        "print(train_size)\n",
        "print(test_size)"
      ],
      "metadata": {
        "colab": {
          "base_uri": "https://localhost:8080/"
        },
        "id": "MBvNXgW-v2JL",
        "outputId": "2ef7d039-51c2-4928-af27-26e8135fe241"
      },
      "execution_count": 301,
      "outputs": [
        {
          "output_type": "stream",
          "name": "stdout",
          "text": [
            "1438\n",
            "159\n"
          ]
        }
      ]
    },
    {
      "cell_type": "code",
      "execution_count": 302,
      "metadata": {
        "id": "yJfmuBORLSfC"
      },
      "outputs": [],
      "source": [
        "# 5. Hàm Create Dataset\n",
        "import numpy\n",
        "# convert an array of values into a dataset matrix\n",
        "def create_dataset(dataset, time_step=1):\n",
        "\tdataX, dataY = [], []\n",
        "\tfor i in range(len(dataset)-time_step-1):\n",
        "\t\ta = dataset[i:(i+time_step), 0]   ###i=0, X=0,1,2,3-----99   Y=100\n",
        "\t\tdataX.append(a)\n",
        "\t\tdataY.append(dataset[i + time_step, 0])\n",
        "\treturn numpy.array(dataX), numpy.array(dataY)"
      ]
    },
    {
      "cell_type": "code",
      "execution_count": 303,
      "metadata": {
        "id": "e81cKq03LXFB"
      },
      "outputs": [],
      "source": [
        "# # 6. Reshape into X=t,t+1,t+2..t+99 and Y=t+100\n",
        "# time_step = 100\n",
        "# X_train2, y_train2 = create_dataset(train_data, time_step)\n",
        "# X_test2, y_test2 = create_dataset(test_data, time_step)"
      ]
    },
    {
      "cell_type": "code",
      "source": [
        "# 6. Reshape into X=t,t+1,t+2..t+99 and Y=t+100\n",
        "time_step = 100\n",
        "\n",
        "x, y = create_dataset(df1, time_step)\n",
        "\n",
        "X_train = x[:train_size-100]\n",
        "X_test = x[train_size-100:]\n",
        "y_train = y[:train_size-100]\n",
        "y_test = y[train_size-100:]"
      ],
      "metadata": {
        "id": "_AS-M5MVpuWQ"
      },
      "execution_count": 304,
      "outputs": []
    },
    {
      "cell_type": "code",
      "source": [
        "# X_train = X_train2[:train_size-100]\n",
        "# X_test = X_train2[train_size-100:]\n",
        "# y_train = y_train2[:train_size-100]\n",
        "# y_test = y_train2[train_size-100:]"
      ],
      "metadata": {
        "id": "v4czUpB-nXEI"
      },
      "execution_count": 305,
      "outputs": []
    },
    {
      "cell_type": "code",
      "execution_count": 306,
      "metadata": {
        "id": "RdBVfku7O2qb"
      },
      "outputs": [],
      "source": [
        "# 7. Reshape input to be [samples, time steps, features] which is required for LSTM\n",
        "X_train = X_train.reshape(X_train.shape[0], X_train.shape[1], 1)\n",
        "X_test = X_test.reshape(X_test.shape[0], X_test.shape[1], 1)"
      ]
    },
    {
      "cell_type": "code",
      "source": [
        "X_test.shape"
      ],
      "metadata": {
        "colab": {
          "base_uri": "https://localhost:8080/"
        },
        "id": "IouLd-0AwQ3_",
        "outputId": "a941731b-b4aa-4bae-b7a6-7e5b60af087c"
      },
      "execution_count": 307,
      "outputs": [
        {
          "output_type": "execute_result",
          "data": {
            "text/plain": [
              "(159, 100, 1)"
            ]
          },
          "metadata": {},
          "execution_count": 307
        }
      ]
    },
    {
      "cell_type": "code",
      "execution_count": 308,
      "metadata": {
        "id": "sSfxrE7BO9vX"
      },
      "outputs": [],
      "source": [
        "# 8. Define LSTM Model\n",
        "model = Sequential()\n",
        "model.add(SimpleRNN(50, input_shape=(time_step, 1)))\n",
        "model.add(Dense(1))\n",
        "model.compile(loss='mean_squared_error', optimizer='adam')"
      ]
    },
    {
      "cell_type": "code",
      "execution_count": 309,
      "metadata": {
        "colab": {
          "base_uri": "https://localhost:8080/"
        },
        "id": "zgfeujZSPEKr",
        "outputId": "f4b2996a-c8fc-49a5-8009-1abaa8c6515a",
        "collapsed": true
      },
      "outputs": [
        {
          "output_type": "stream",
          "name": "stdout",
          "text": [
            "Epoch 1/50\n",
            "21/21 [==============================] - 2s 19ms/step - loss: 0.0363\n",
            "Epoch 2/50\n",
            "21/21 [==============================] - 0s 19ms/step - loss: 0.0020\n",
            "Epoch 3/50\n",
            "21/21 [==============================] - 0s 20ms/step - loss: 0.0011\n",
            "Epoch 4/50\n",
            "21/21 [==============================] - 0s 17ms/step - loss: 8.6505e-04\n",
            "Epoch 5/50\n",
            "21/21 [==============================] - 0s 18ms/step - loss: 7.8519e-04\n",
            "Epoch 6/50\n",
            "21/21 [==============================] - 0s 18ms/step - loss: 7.0249e-04\n",
            "Epoch 7/50\n",
            "21/21 [==============================] - 0s 17ms/step - loss: 6.5884e-04\n",
            "Epoch 8/50\n",
            "21/21 [==============================] - 0s 20ms/step - loss: 6.6293e-04\n",
            "Epoch 9/50\n",
            "21/21 [==============================] - 0s 17ms/step - loss: 6.5989e-04\n",
            "Epoch 10/50\n",
            "21/21 [==============================] - 1s 28ms/step - loss: 5.9756e-04\n",
            "Epoch 11/50\n",
            "21/21 [==============================] - 1s 34ms/step - loss: 5.5543e-04\n",
            "Epoch 12/50\n",
            "21/21 [==============================] - 1s 30ms/step - loss: 5.3849e-04\n",
            "Epoch 13/50\n",
            "21/21 [==============================] - 1s 32ms/step - loss: 5.3426e-04\n",
            "Epoch 14/50\n",
            "21/21 [==============================] - 1s 32ms/step - loss: 4.8930e-04\n",
            "Epoch 15/50\n",
            "21/21 [==============================] - 1s 33ms/step - loss: 4.8291e-04\n",
            "Epoch 16/50\n",
            "21/21 [==============================] - 0s 19ms/step - loss: 4.4364e-04\n",
            "Epoch 17/50\n",
            "21/21 [==============================] - 0s 17ms/step - loss: 4.5270e-04\n",
            "Epoch 18/50\n",
            "21/21 [==============================] - 0s 19ms/step - loss: 4.3482e-04\n",
            "Epoch 19/50\n",
            "21/21 [==============================] - 0s 20ms/step - loss: 4.0513e-04\n",
            "Epoch 20/50\n",
            "21/21 [==============================] - 0s 18ms/step - loss: 4.0186e-04\n",
            "Epoch 21/50\n",
            "21/21 [==============================] - 0s 19ms/step - loss: 3.8156e-04\n",
            "Epoch 22/50\n",
            "21/21 [==============================] - 0s 18ms/step - loss: 3.9399e-04\n",
            "Epoch 23/50\n",
            "21/21 [==============================] - 0s 18ms/step - loss: 4.1704e-04\n",
            "Epoch 24/50\n",
            "21/21 [==============================] - 0s 19ms/step - loss: 3.6894e-04\n",
            "Epoch 25/50\n",
            "21/21 [==============================] - 0s 18ms/step - loss: 3.4157e-04\n",
            "Epoch 26/50\n",
            "21/21 [==============================] - 0s 18ms/step - loss: 3.7195e-04\n",
            "Epoch 27/50\n",
            "21/21 [==============================] - 0s 17ms/step - loss: 3.7255e-04\n",
            "Epoch 28/50\n",
            "21/21 [==============================] - 0s 17ms/step - loss: 3.4434e-04\n",
            "Epoch 29/50\n",
            "21/21 [==============================] - 0s 18ms/step - loss: 3.3326e-04\n",
            "Epoch 30/50\n",
            "21/21 [==============================] - 0s 17ms/step - loss: 3.3243e-04\n",
            "Epoch 31/50\n",
            "21/21 [==============================] - 0s 17ms/step - loss: 3.0634e-04\n",
            "Epoch 32/50\n",
            "21/21 [==============================] - 0s 19ms/step - loss: 3.3142e-04\n",
            "Epoch 33/50\n",
            "21/21 [==============================] - 0s 18ms/step - loss: 3.1317e-04\n",
            "Epoch 34/50\n",
            "21/21 [==============================] - 0s 19ms/step - loss: 3.0025e-04\n",
            "Epoch 35/50\n",
            "21/21 [==============================] - 0s 17ms/step - loss: 2.9767e-04\n",
            "Epoch 36/50\n",
            "21/21 [==============================] - 0s 18ms/step - loss: 2.8011e-04\n",
            "Epoch 37/50\n",
            "21/21 [==============================] - 0s 19ms/step - loss: 2.6184e-04\n",
            "Epoch 38/50\n",
            "21/21 [==============================] - 0s 17ms/step - loss: 2.6820e-04\n",
            "Epoch 39/50\n",
            "21/21 [==============================] - 0s 18ms/step - loss: 2.6236e-04\n",
            "Epoch 40/50\n",
            "21/21 [==============================] - 0s 18ms/step - loss: 2.5758e-04\n",
            "Epoch 41/50\n",
            "21/21 [==============================] - 0s 17ms/step - loss: 2.5701e-04\n",
            "Epoch 42/50\n",
            "21/21 [==============================] - 1s 33ms/step - loss: 2.4935e-04\n",
            "Epoch 43/50\n",
            "21/21 [==============================] - 1s 29ms/step - loss: 2.3473e-04\n",
            "Epoch 44/50\n",
            "21/21 [==============================] - 1s 30ms/step - loss: 2.4139e-04\n",
            "Epoch 45/50\n",
            "21/21 [==============================] - 1s 33ms/step - loss: 2.3994e-04\n",
            "Epoch 46/50\n",
            "21/21 [==============================] - 1s 34ms/step - loss: 2.3380e-04\n",
            "Epoch 47/50\n",
            "21/21 [==============================] - 1s 28ms/step - loss: 2.3703e-04\n",
            "Epoch 48/50\n",
            "21/21 [==============================] - 0s 20ms/step - loss: 2.3685e-04\n",
            "Epoch 49/50\n",
            "21/21 [==============================] - 0s 18ms/step - loss: 2.1786e-04\n",
            "Epoch 50/50\n",
            "21/21 [==============================] - 0s 17ms/step - loss: 2.1688e-04\n"
          ]
        },
        {
          "output_type": "execute_result",
          "data": {
            "text/plain": [
              "<keras.src.callbacks.History at 0x78375ce00eb0>"
            ]
          },
          "metadata": {},
          "execution_count": 309
        }
      ],
      "source": [
        "# 9. Fit mô hình với dữ liệu train\n",
        "model.fit(X_train, y_train, epochs=50, batch_size=64, verbose=1)"
      ]
    },
    {
      "cell_type": "code",
      "execution_count": 310,
      "metadata": {
        "colab": {
          "base_uri": "https://localhost:8080/"
        },
        "id": "Rxx_KQSkQpBG",
        "outputId": "2d8736b9-8ed5-440b-b207-b729383ca6b8"
      },
      "outputs": [
        {
          "output_type": "stream",
          "name": "stdout",
          "text": [
            "42/42 [==============================] - 0s 6ms/step\n",
            "5/5 [==============================] - 0s 7ms/step\n"
          ]
        }
      ],
      "source": [
        "# 10. Dự báo dữ liệu test\n",
        "train_predict = model.predict(X_train)\n",
        "y_pred = model.predict(X_test)\n"
      ]
    },
    {
      "cell_type": "code",
      "execution_count": 311,
      "metadata": {
        "id": "5rwTN10LQ7rj"
      },
      "outputs": [],
      "source": [
        "# 11. Chuẩn hóa dữ liệu y_pred, y_test\n",
        "train_predict = scaler.inverse_transform(train_predict)\n",
        "y_pred = scaler.inverse_transform(y_pred)\n",
        "y_test = scaler.inverse_transform(y_test.reshape(-1, 1))"
      ]
    },
    {
      "cell_type": "code",
      "source": [
        "# Các độ đo\n",
        "import numpy as np\n",
        "\n",
        "# Mean Absolute Error\n",
        "def mae(y_true, y_pred):\n",
        "    return np.mean(np.abs(y_true - y_pred))\n",
        "\n",
        "# Mean Absolute Percentage Error\n",
        "def mape(y_true, y_pred):\n",
        "    return np.mean(np.abs((y_true - y_pred) / y_true)) * 100\n",
        "\n",
        "# Mean Squared Error\n",
        "def mse(y_true, y_pred):\n",
        "    return np.mean((y_true - y_pred) ** 2)\n",
        "\n",
        "# Root Mean Squared Error\n",
        "def rmse(y_true, y_pred):\n",
        "    return np.sqrt(mse(y_true, y_pred))\n",
        "\n",
        "# Mean Absolute Scaled Error\n",
        "def mase(y_true, y_pred, y_train):\n",
        "    n = len(y_train)\n",
        "    d = np.mean(np.abs(y_train[1:] - y_train[:-1]))\n",
        "    errors = np.abs(y_true - y_pred)\n",
        "    return np.mean(errors / d)\n"
      ],
      "metadata": {
        "id": "tNcfiNnIaj9o"
      },
      "execution_count": 312,
      "outputs": []
    },
    {
      "cell_type": "code",
      "execution_count": 313,
      "metadata": {
        "colab": {
          "base_uri": "https://localhost:8080/"
        },
        "id": "wu_9j94kRonD",
        "outputId": "291f54f6-8959-4753-b83c-65a1638f99c8"
      },
      "outputs": [
        {
          "output_type": "stream",
          "name": "stdout",
          "text": [
            "Test MAE: 442.3736\n",
            "Test MAPE: 2.8762%\n",
            "Test MASE: 66132.6168\n",
            "Test MSE: 314158.4890\n",
            "Test RMSE: 560.4984\n"
          ]
        }
      ],
      "source": [
        "# 12. Đánh giá độ chính xác thuật toán bằng RMSE\n",
        "# Tính độ đo cho tập kiểm tra\n",
        "test_mae = mae(y_pred, y_test)\n",
        "test_mape = mape(y_pred, y_test)\n",
        "test_mase = mase(y_pred, y_test, y_train)\n",
        "test_mse = mse(y_pred, y_test)\n",
        "test_rmse = rmse(y_pred, y_test)\n",
        "\n",
        "print(f'Test MAE: {test_mae:.4f}')\n",
        "print(f'Test MAPE: {test_mape:.4f}%')\n",
        "print(f'Test MASE: {test_mase:.4f}')\n",
        "print(f'Test MSE: {test_mse:.4f}')\n",
        "print(f'Test RMSE: {test_rmse:.4f}')"
      ]
    },
    {
      "cell_type": "code",
      "execution_count": 314,
      "metadata": {
        "colab": {
          "base_uri": "https://localhost:8080/"
        },
        "id": "izQZ1iQyYl6N",
        "outputId": "673edd88-1202-4c38-e516-58fc3405e0f0",
        "collapsed": true
      },
      "outputs": [
        {
          "output_type": "stream",
          "name": "stdout",
          "text": [
            "[0.04400569]\n",
            "101\n",
            "[0.04400569]\n",
            "102\n",
            "[0.04400569]\n",
            "103\n",
            "[0.04400569]\n",
            "104\n",
            "[0.04400569]\n",
            "105\n",
            "[0.04400569]\n",
            "106\n",
            "[0.04400569]\n",
            "107\n",
            "[0.04400569]\n",
            "108\n",
            "[0.04400569]\n",
            "109\n",
            "[0.04400569]\n",
            "110\n",
            "[0.04400569]\n",
            "111\n",
            "[0.04400569]\n",
            "112\n",
            "[0.04400569]\n",
            "113\n",
            "[0.04400569]\n",
            "114\n",
            "[0.04400569]\n",
            "115\n",
            "[0.04400569]\n",
            "116\n",
            "[0.04400569]\n",
            "117\n",
            "[0.04400569]\n",
            "118\n",
            "[0.04400569]\n",
            "119\n",
            "[0.04400569]\n",
            "120\n",
            "[0.04400569]\n",
            "121\n",
            "[0.04400569]\n",
            "122\n",
            "[0.04400569]\n",
            "123\n",
            "[0.04400569]\n",
            "124\n",
            "[0.04400569]\n",
            "125\n",
            "[0.04400569]\n",
            "126\n",
            "[0.04400569]\n",
            "127\n",
            "[0.04400569]\n",
            "128\n",
            "[0.04400569]\n",
            "129\n",
            "[0.04400569]\n",
            "130\n"
          ]
        }
      ],
      "source": [
        "# 13. Dự báo 30 ngày tiếp theo (test có 479 ngày)\n",
        "x_input=test_data[60:].reshape(1,-1)\n",
        "x_input.shape\n",
        "\n",
        "temp_input=list(x_input)\n",
        "temp_input=temp_input[0].tolist()\n",
        "\n",
        "from numpy import array\n",
        "\n",
        "lst_output=[]\n",
        "n_steps=100\n",
        "i=0\n",
        "while(i<30):\n",
        "\n",
        "    if(len(temp_input)>250):\n",
        "        #print(temp_input)\n",
        "        x_input=np.array(temp_input[1:])\n",
        "        print(\"{} day input {}\".format(i,x_input))\n",
        "        x_input=x_input.reshape(1,-1)\n",
        "        x_input = x_input.reshape((1, n_steps, 1))\n",
        "        #print(x_input)\n",
        "        yhat = model.predict(x_input, verbose=0)\n",
        "        print(\"{} day output {}\".format(i,yhat))\n",
        "        temp_input.extend(yhat[0].tolist())\n",
        "        temp_input=temp_input[1:]\n",
        "        #print(temp_input)\n",
        "        lst_output.extend(yhat.tolist())\n",
        "        i=i+1\n",
        "    else:\n",
        "        x_input = x_input.reshape((1, n_steps,1))\n",
        "        yhat = model.predict(x_input, verbose=0)\n",
        "        print(yhat[0])\n",
        "        temp_input.extend(yhat[0].tolist())\n",
        "        print(len(temp_input))\n",
        "        lst_output.extend(yhat.tolist())\n",
        "        i=i+1\n"
      ]
    },
    {
      "cell_type": "code",
      "source": [
        "# 13b. Dự báo 60 ngày tiếp theo\n",
        "x_input=test_data[60:].reshape(1,-1)\n",
        "x_input.shape\n",
        "\n",
        "temp_input=list(x_input)\n",
        "temp_input=temp_input[0].tolist()\n",
        "\n",
        "from numpy import array\n",
        "\n",
        "lst_output_60=[]\n",
        "n_steps=100\n",
        "i=0\n",
        "while(i<60):\n",
        "\n",
        "    if(len(temp_input)>250):\n",
        "        #print(temp_input)\n",
        "        x_input=np.array(temp_input[1:])\n",
        "        print(\"{} day input {}\".format(i,x_input))\n",
        "        x_input=x_input.reshape(1,-1)\n",
        "        x_input = x_input.reshape((1, n_steps, 1))\n",
        "        #print(x_input)\n",
        "        yhat = model.predict(x_input, verbose=0)\n",
        "        print(\"{} day output {}\".format(i,yhat))\n",
        "        temp_input.extend(yhat[0].tolist())\n",
        "        temp_input=temp_input[1:]\n",
        "        #print(temp_input)\n",
        "        lst_output_60.extend(yhat.tolist())\n",
        "        i=i+1\n",
        "    else:\n",
        "        x_input = x_input.reshape((1, n_steps,1))\n",
        "        yhat = model.predict(x_input, verbose=0)\n",
        "        print(yhat[0])\n",
        "        temp_input.extend(yhat[0].tolist())\n",
        "        print(len(temp_input))\n",
        "        lst_output_60.extend(yhat.tolist())\n",
        "        i=i+1\n"
      ],
      "metadata": {
        "colab": {
          "base_uri": "https://localhost:8080/"
        },
        "id": "hK3nC9QvP286",
        "outputId": "20e35f2b-d08f-4842-c394-88d382d864b6"
      },
      "execution_count": 315,
      "outputs": [
        {
          "output_type": "stream",
          "name": "stdout",
          "text": [
            "[0.04400569]\n",
            "101\n",
            "[0.04400569]\n",
            "102\n",
            "[0.04400569]\n",
            "103\n",
            "[0.04400569]\n",
            "104\n",
            "[0.04400569]\n",
            "105\n",
            "[0.04400569]\n",
            "106\n",
            "[0.04400569]\n",
            "107\n",
            "[0.04400569]\n",
            "108\n",
            "[0.04400569]\n",
            "109\n",
            "[0.04400569]\n",
            "110\n",
            "[0.04400569]\n",
            "111\n",
            "[0.04400569]\n",
            "112\n",
            "[0.04400569]\n",
            "113\n",
            "[0.04400569]\n",
            "114\n",
            "[0.04400569]\n",
            "115\n",
            "[0.04400569]\n",
            "116\n",
            "[0.04400569]\n",
            "117\n",
            "[0.04400569]\n",
            "118\n",
            "[0.04400569]\n",
            "119\n",
            "[0.04400569]\n",
            "120\n",
            "[0.04400569]\n",
            "121\n",
            "[0.04400569]\n",
            "122\n",
            "[0.04400569]\n",
            "123\n",
            "[0.04400569]\n",
            "124\n",
            "[0.04400569]\n",
            "125\n",
            "[0.04400569]\n",
            "126\n",
            "[0.04400569]\n",
            "127\n",
            "[0.04400569]\n",
            "128\n",
            "[0.04400569]\n",
            "129\n",
            "[0.04400569]\n",
            "130\n",
            "[0.04400569]\n",
            "131\n",
            "[0.04400569]\n",
            "132\n",
            "[0.04400569]\n",
            "133\n",
            "[0.04400569]\n",
            "134\n",
            "[0.04400569]\n",
            "135\n",
            "[0.04400569]\n",
            "136\n",
            "[0.04400569]\n",
            "137\n",
            "[0.04400569]\n",
            "138\n",
            "[0.04400569]\n",
            "139\n",
            "[0.04400569]\n",
            "140\n",
            "[0.04400569]\n",
            "141\n",
            "[0.04400569]\n",
            "142\n",
            "[0.04400569]\n",
            "143\n",
            "[0.04400569]\n",
            "144\n",
            "[0.04400569]\n",
            "145\n",
            "[0.04400569]\n",
            "146\n",
            "[0.04400569]\n",
            "147\n",
            "[0.04400569]\n",
            "148\n",
            "[0.04400569]\n",
            "149\n",
            "[0.04400569]\n",
            "150\n",
            "[0.04400569]\n",
            "151\n",
            "[0.04400569]\n",
            "152\n",
            "[0.04400569]\n",
            "153\n",
            "[0.04400569]\n",
            "154\n",
            "[0.04400569]\n",
            "155\n",
            "[0.04400569]\n",
            "156\n",
            "[0.04400569]\n",
            "157\n",
            "[0.04400569]\n",
            "158\n",
            "[0.04400569]\n",
            "159\n",
            "[0.04400569]\n",
            "160\n"
          ]
        }
      ]
    },
    {
      "cell_type": "code",
      "source": [
        "# 13c. Dự báo 90 ngày tiếp theo\n",
        "x_input=test_data[60:].reshape(1,-1)\n",
        "x_input.shape\n",
        "\n",
        "temp_input=list(x_input)\n",
        "temp_input=temp_input[0].tolist()\n",
        "\n",
        "from numpy import array\n",
        "\n",
        "lst_output_90=[]\n",
        "n_steps=100\n",
        "i=0\n",
        "while(i<90):\n",
        "\n",
        "    if(len(temp_input)>250):\n",
        "        #print(temp_input)\n",
        "        x_input=np.array(temp_input[1:])\n",
        "        print(\"{} day input {}\".format(i,x_input))\n",
        "        x_input=x_input.reshape(1,-1)\n",
        "        x_input = x_input.reshape((1, n_steps, 1))\n",
        "        #print(x_input)\n",
        "        yhat = model.predict(x_input, verbose=0)\n",
        "        print(\"{} day output {}\".format(i,yhat))\n",
        "        temp_input.extend(yhat[0].tolist())\n",
        "        temp_input=temp_input[1:]\n",
        "        #print(temp_input)\n",
        "        lst_output_90.extend(yhat.tolist())\n",
        "        i=i+1\n",
        "    else:\n",
        "        x_input = x_input.reshape((1, n_steps,1))\n",
        "        yhat = model.predict(x_input, verbose=0)\n",
        "        print(yhat[0])\n",
        "        temp_input.extend(yhat[0].tolist())\n",
        "        print(len(temp_input))\n",
        "        lst_output_90.extend(yhat.tolist())\n",
        "        i=i+1\n"
      ],
      "metadata": {
        "colab": {
          "base_uri": "https://localhost:8080/"
        },
        "id": "bGr1iBoDP7JC",
        "outputId": "550bf0d8-c0ad-4c90-d2ce-c04715f73e6e"
      },
      "execution_count": 316,
      "outputs": [
        {
          "output_type": "stream",
          "name": "stdout",
          "text": [
            "[0.04400569]\n",
            "101\n",
            "[0.04400569]\n",
            "102\n",
            "[0.04400569]\n",
            "103\n",
            "[0.04400569]\n",
            "104\n",
            "[0.04400569]\n",
            "105\n",
            "[0.04400569]\n",
            "106\n",
            "[0.04400569]\n",
            "107\n",
            "[0.04400569]\n",
            "108\n",
            "[0.04400569]\n",
            "109\n",
            "[0.04400569]\n",
            "110\n",
            "[0.04400569]\n",
            "111\n",
            "[0.04400569]\n",
            "112\n",
            "[0.04400569]\n",
            "113\n",
            "[0.04400569]\n",
            "114\n",
            "[0.04400569]\n",
            "115\n",
            "[0.04400569]\n",
            "116\n",
            "[0.04400569]\n",
            "117\n",
            "[0.04400569]\n",
            "118\n",
            "[0.04400569]\n",
            "119\n",
            "[0.04400569]\n",
            "120\n",
            "[0.04400569]\n",
            "121\n",
            "[0.04400569]\n",
            "122\n",
            "[0.04400569]\n",
            "123\n",
            "[0.04400569]\n",
            "124\n",
            "[0.04400569]\n",
            "125\n",
            "[0.04400569]\n",
            "126\n",
            "[0.04400569]\n",
            "127\n",
            "[0.04400569]\n",
            "128\n",
            "[0.04400569]\n",
            "129\n",
            "[0.04400569]\n",
            "130\n",
            "[0.04400569]\n",
            "131\n",
            "[0.04400569]\n",
            "132\n",
            "[0.04400569]\n",
            "133\n",
            "[0.04400569]\n",
            "134\n",
            "[0.04400569]\n",
            "135\n",
            "[0.04400569]\n",
            "136\n",
            "[0.04400569]\n",
            "137\n",
            "[0.04400569]\n",
            "138\n",
            "[0.04400569]\n",
            "139\n",
            "[0.04400569]\n",
            "140\n",
            "[0.04400569]\n",
            "141\n",
            "[0.04400569]\n",
            "142\n",
            "[0.04400569]\n",
            "143\n",
            "[0.04400569]\n",
            "144\n",
            "[0.04400569]\n",
            "145\n",
            "[0.04400569]\n",
            "146\n",
            "[0.04400569]\n",
            "147\n",
            "[0.04400569]\n",
            "148\n",
            "[0.04400569]\n",
            "149\n",
            "[0.04400569]\n",
            "150\n",
            "[0.04400569]\n",
            "151\n",
            "[0.04400569]\n",
            "152\n",
            "[0.04400569]\n",
            "153\n",
            "[0.04400569]\n",
            "154\n",
            "[0.04400569]\n",
            "155\n",
            "[0.04400569]\n",
            "156\n",
            "[0.04400569]\n",
            "157\n",
            "[0.04400569]\n",
            "158\n",
            "[0.04400569]\n",
            "159\n",
            "[0.04400569]\n",
            "160\n",
            "[0.04400569]\n",
            "161\n",
            "[0.04400569]\n",
            "162\n",
            "[0.04400569]\n",
            "163\n",
            "[0.04400569]\n",
            "164\n",
            "[0.04400569]\n",
            "165\n",
            "[0.04400569]\n",
            "166\n",
            "[0.04400569]\n",
            "167\n",
            "[0.04400569]\n",
            "168\n",
            "[0.04400569]\n",
            "169\n",
            "[0.04400569]\n",
            "170\n",
            "[0.04400569]\n",
            "171\n",
            "[0.04400569]\n",
            "172\n",
            "[0.04400569]\n",
            "173\n",
            "[0.04400569]\n",
            "174\n",
            "[0.04400569]\n",
            "175\n",
            "[0.04400569]\n",
            "176\n",
            "[0.04400569]\n",
            "177\n",
            "[0.04400569]\n",
            "178\n",
            "[0.04400569]\n",
            "179\n",
            "[0.04400569]\n",
            "180\n",
            "[0.04400569]\n",
            "181\n",
            "[0.04400569]\n",
            "182\n",
            "[0.04400569]\n",
            "183\n",
            "[0.04400569]\n",
            "184\n",
            "[0.04400569]\n",
            "185\n",
            "[0.04400569]\n",
            "186\n",
            "[0.04400569]\n",
            "187\n",
            "[0.04400569]\n",
            "188\n",
            "[0.04400569]\n",
            "189\n",
            "[0.04400569]\n",
            "190\n"
          ]
        }
      ]
    },
    {
      "cell_type": "code",
      "source": [
        "test_data_index = pd.RangeIndex(start=train_size, stop=train_size+test_size+1-101, step=1)\n",
        "test_data_index.shape"
      ],
      "metadata": {
        "colab": {
          "base_uri": "https://localhost:8080/"
        },
        "id": "tKUGGTUzx14B",
        "outputId": "efce2aa5-bfef-411d-ae2d-ef6024d5debd"
      },
      "execution_count": 317,
      "outputs": [
        {
          "output_type": "execute_result",
          "data": {
            "text/plain": [
              "(59,)"
            ]
          },
          "metadata": {},
          "execution_count": 317
        }
      ]
    },
    {
      "cell_type": "code",
      "source": [
        "y_pred.shape"
      ],
      "metadata": {
        "colab": {
          "base_uri": "https://localhost:8080/"
        },
        "id": "fqJ7TesJxOYO",
        "outputId": "18cb9241-f923-45b8-af8c-b90028b735d5"
      },
      "execution_count": 318,
      "outputs": [
        {
          "output_type": "execute_result",
          "data": {
            "text/plain": [
              "(159, 1)"
            ]
          },
          "metadata": {},
          "execution_count": 318
        }
      ]
    },
    {
      "cell_type": "code",
      "source": [
        "# 14.Vẽ hình\n",
        "plt.figure(figsize=(12,6))\n",
        "train_data_index = pd.RangeIndex(start=0, stop=train_size, step=1)\n",
        "plt.plot(scaler.inverse_transform(train_data))\n",
        "\n",
        "test_data_index = pd.RangeIndex(start=train_size, stop=train_size+test_size+1, step=1)\n",
        "plt.plot(test_data_index,scaler.inverse_transform(test_data))\n",
        "\n",
        "test_data_index = pd.RangeIndex(start=train_size+1, stop=train_size+test_size+1, step=1)\n",
        "plt.plot(test_data_index,(y_pred))\n",
        "\n",
        "prediect_data_index_90 = pd.RangeIndex(start=len(df1)-1, stop=len(df1)+89, step=1)\n",
        "plt.plot(prediect_data_index_90,scaler.inverse_transform(lst_output_90))\n",
        "\n",
        "prediect_data_index_60 = pd.RangeIndex(start=len(df1)-1, stop=len(df1)+59, step=1)\n",
        "plt.plot(prediect_data_index_60,scaler.inverse_transform(lst_output_60))\n",
        "\n",
        "prediect_data_index = pd.RangeIndex(start=len(df1)-1, stop=len(df1)+29, step=1)\n",
        "plt.plot(prediect_data_index,scaler.inverse_transform(lst_output))\n",
        "\n",
        "plt.legend(['Train','Test','Predict','Predict90days', 'Predict60days','Predict30days'])\n",
        "plt.show()"
      ],
      "metadata": {
        "colab": {
          "base_uri": "https://localhost:8080/",
          "height": 522
        },
        "id": "_dM6DX1Ls5mL",
        "outputId": "0ad15d5b-f8a6-46ae-b447-0eab4e5b89e4"
      },
      "execution_count": 319,
      "outputs": [
        {
          "output_type": "display_data",
          "data": {
            "text/plain": [
              "<Figure size 1200x600 with 1 Axes>"
            ],
            "image/png": "[encoded data removed]"
          },
          "metadata": {}
        }
      ]
    }
  ],
  "metadata": {
    "colab": {
      "provenance": []
    },
    "kernelspec": {
      "display_name": "Python 3",
      "name": "python3"
    },
    "language_info": {
      "name": "python"
    }
  },
  "nbformat": 4,
  "nbformat_minor": 0
}