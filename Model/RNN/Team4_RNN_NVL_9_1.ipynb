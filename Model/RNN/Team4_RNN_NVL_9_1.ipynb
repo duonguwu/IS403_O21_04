{
  "cells": [
    {
      "cell_type": "code",
      "execution_count": 52,
      "metadata": {
        "id": "FMDKda-XIUAK"
      },
      "outputs": [],
      "source": [
        "# 1. Import thư viện cần thiết\n",
        "import numpy as np\n",
        "import pandas as pd\n",
        "import matplotlib.pyplot as plt\n",
        "from sklearn.preprocessing import MinMaxScaler\n",
        "from keras.models import Sequential\n",
        "from keras.layers import Dense, SimpleRNN"
      ]
    },
    {
      "cell_type": "code",
      "execution_count": 53,
      "metadata": {
        "id": "aRm9GQ8KJJ5N"
      },
      "outputs": [],
      "source": [
        "# 2. Đọc file csv và gắng index với giá Close\n",
        "df = pd.read_csv('/content/NVL Historical Data 1_6.csv')\n",
        "\n",
        "# Nhận thấy tập dữ liệu, ở cột Price giá tiền có dấu phẩy và đang ở dạng string\n",
        "# Bỏ dấu phẩy\n",
        "df['Price'] = df['Price'].str.replace(',', '')\n",
        "# Chuyển sang dạng số\n",
        "df['Price'] = pd.to_numeric(df['Price'])\n",
        "df = df[::-1]"
      ]
    },
    {
      "cell_type": "code",
      "source": [
        "df1=df.reset_index()['Price']\n",
        "df1.head()"
      ],
      "metadata": {
        "colab": {
          "base_uri": "https://localhost:8080/"
        },
        "id": "d81FWdpTpmxG",
        "outputId": "b4b7e856-7100-4a33-d677-f94cb2d6de0b"
      },
      "execution_count": 54,
      "outputs": [
        {
          "output_type": "execute_result",
          "data": {
            "text/plain": [
              "0    27815\n",
              "1    28410\n",
              "2    28707\n",
              "3    28962\n",
              "4    29556\n",
              "Name: Price, dtype: int64"
            ]
          },
          "metadata": {},
          "execution_count": 54
        }
      ]
    },
    {
      "cell_type": "code",
      "source": [
        "df1"
      ],
      "metadata": {
        "colab": {
          "base_uri": "https://localhost:8080/"
        },
        "id": "O75pUMjkwAW1",
        "outputId": "705c28e1-dfa2-4062-cedc-044e8daa39f3"
      },
      "execution_count": 55,
      "outputs": [
        {
          "output_type": "execute_result",
          "data": {
            "text/plain": [
              "0       27815\n",
              "1       28410\n",
              "2       28707\n",
              "3       28962\n",
              "4       29556\n",
              "        ...  \n",
              "1593    14500\n",
              "1594    14500\n",
              "1595    14150\n",
              "1596    14150\n",
              "1597    14450\n",
              "Name: Price, Length: 1598, dtype: int64"
            ]
          },
          "metadata": {},
          "execution_count": 55
        }
      ]
    },
    {
      "cell_type": "code",
      "execution_count": 56,
      "metadata": {
        "id": "RdVpDho2JgL5"
      },
      "outputs": [],
      "source": [
        "# 3. Scaler data\n",
        "scaler=MinMaxScaler(feature_range=(0,1))\n",
        "df1=scaler.fit_transform(np.array(df1).reshape(-1,1))"
      ]
    },
    {
      "cell_type": "code",
      "execution_count": 57,
      "metadata": {
        "id": "B5JXpenzJoR3"
      },
      "outputs": [],
      "source": [
        "# 4. Chia train test\n",
        "train_size = int(0.9 * len(df1))\n",
        "test_size = int(0.1 * len(df1))\n",
        "\n",
        "train_data = df1[:train_size]\n",
        "test_data = df1[train_size:]"
      ]
    },
    {
      "cell_type": "code",
      "source": [
        "test_size"
      ],
      "metadata": {
        "colab": {
          "base_uri": "https://localhost:8080/"
        },
        "id": "MBvNXgW-v2JL",
        "outputId": "4a496c9a-791b-4581-931b-72fb2bed547e"
      },
      "execution_count": 58,
      "outputs": [
        {
          "output_type": "execute_result",
          "data": {
            "text/plain": [
              "159"
            ]
          },
          "metadata": {},
          "execution_count": 58
        }
      ]
    },
    {
      "cell_type": "code",
      "execution_count": 59,
      "metadata": {
        "id": "yJfmuBORLSfC"
      },
      "outputs": [],
      "source": [
        "# 5. Hàm Create Dataset\n",
        "import numpy\n",
        "# convert an array of values into a dataset matrix\n",
        "def create_dataset(dataset, time_step=1):\n",
        "\tdataX, dataY = [], []\n",
        "\tfor i in range(len(dataset)-time_step-1):\n",
        "\t\ta = dataset[i:(i+time_step), 0]   ###i=0, X=0,1,2,3-----99   Y=100\n",
        "\t\tdataX.append(a)\n",
        "\t\tdataY.append(dataset[i + time_step, 0])\n",
        "\treturn numpy.array(dataX), numpy.array(dataY)"
      ]
    },
    {
      "cell_type": "code",
      "execution_count": 60,
      "metadata": {
        "id": "e81cKq03LXFB"
      },
      "outputs": [],
      "source": [
        "# 6. Reshape into X=t,t+1,t+2..t+99 and Y=t+100\n",
        "time_step = 100\n",
        "X_train, y_train = create_dataset(train_data, time_step)\n",
        "X_test, y_test = create_dataset(test_data, time_step)"
      ]
    },
    {
      "cell_type": "code",
      "execution_count": 61,
      "metadata": {
        "id": "RdBVfku7O2qb"
      },
      "outputs": [],
      "source": [
        "# 7. Reshape input to be [samples, time steps, features] which is required for LSTM\n",
        "X_train = X_train.reshape(X_train.shape[0], X_train.shape[1], 1)\n",
        "X_test = X_test.reshape(X_test.shape[0], X_test.shape[1], 1)"
      ]
    },
    {
      "cell_type": "code",
      "source": [
        "X_train.shape"
      ],
      "metadata": {
        "colab": {
          "base_uri": "https://localhost:8080/"
        },
        "id": "IouLd-0AwQ3_",
        "outputId": "d7f99bed-7e97-4180-fbcf-e5bd2a9cc1b7"
      },
      "execution_count": 62,
      "outputs": [
        {
          "output_type": "execute_result",
          "data": {
            "text/plain": [
              "(1337, 100, 1)"
            ]
          },
          "metadata": {},
          "execution_count": 62
        }
      ]
    },
    {
      "cell_type": "code",
      "execution_count": 63,
      "metadata": {
        "id": "sSfxrE7BO9vX"
      },
      "outputs": [],
      "source": [
        "# 8. Define LSTM Model\n",
        "model = Sequential()\n",
        "model.add(SimpleRNN(50, input_shape=(time_step, 1)))\n",
        "model.add(Dense(1))\n",
        "model.compile(loss='mean_squared_error', optimizer='adam')"
      ]
    },
    {
      "cell_type": "code",
      "execution_count": 64,
      "metadata": {
        "colab": {
          "base_uri": "https://localhost:8080/"
        },
        "id": "zgfeujZSPEKr",
        "outputId": "8cd98440-84cc-4ca8-f7cb-3bbef89a9f8f"
      },
      "outputs": [
        {
          "output_type": "stream",
          "name": "stdout",
          "text": [
            "Epoch 1/100\n",
            "21/21 [==============================] - 2s 33ms/step - loss: 0.0132\n",
            "Epoch 2/100\n",
            "21/21 [==============================] - 1s 33ms/step - loss: 5.7201e-04\n",
            "Epoch 3/100\n",
            "21/21 [==============================] - 1s 31ms/step - loss: 4.6393e-04\n",
            "Epoch 4/100\n",
            "21/21 [==============================] - 0s 19ms/step - loss: 4.0452e-04\n",
            "Epoch 5/100\n",
            "21/21 [==============================] - 0s 19ms/step - loss: 3.8434e-04\n",
            "Epoch 6/100\n",
            "21/21 [==============================] - 0s 18ms/step - loss: 3.6371e-04\n",
            "Epoch 7/100\n",
            "21/21 [==============================] - 0s 19ms/step - loss: 3.5458e-04\n",
            "Epoch 8/100\n",
            "21/21 [==============================] - 0s 20ms/step - loss: 3.5278e-04\n",
            "Epoch 9/100\n",
            "21/21 [==============================] - 0s 21ms/step - loss: 3.3167e-04\n",
            "Epoch 10/100\n",
            "21/21 [==============================] - 0s 21ms/step - loss: 3.1900e-04\n",
            "Epoch 11/100\n",
            "21/21 [==============================] - 0s 21ms/step - loss: 3.1702e-04\n",
            "Epoch 12/100\n",
            "21/21 [==============================] - 0s 21ms/step - loss: 3.4877e-04\n",
            "Epoch 13/100\n",
            "21/21 [==============================] - 0s 18ms/step - loss: 3.1357e-04\n",
            "Epoch 14/100\n",
            "21/21 [==============================] - 0s 19ms/step - loss: 3.0538e-04\n",
            "Epoch 15/100\n",
            "21/21 [==============================] - 0s 19ms/step - loss: 2.9442e-04\n",
            "Epoch 16/100\n",
            "21/21 [==============================] - 0s 19ms/step - loss: 2.8622e-04\n",
            "Epoch 17/100\n",
            "21/21 [==============================] - 0s 19ms/step - loss: 2.8349e-04\n",
            "Epoch 18/100\n",
            "21/21 [==============================] - 0s 18ms/step - loss: 3.0072e-04\n",
            "Epoch 19/100\n",
            "21/21 [==============================] - 0s 19ms/step - loss: 3.0041e-04\n",
            "Epoch 20/100\n",
            "21/21 [==============================] - 0s 19ms/step - loss: 2.7580e-04\n",
            "Epoch 21/100\n",
            "21/21 [==============================] - 0s 20ms/step - loss: 3.3051e-04\n",
            "Epoch 22/100\n",
            "21/21 [==============================] - 0s 19ms/step - loss: 3.1810e-04\n",
            "Epoch 23/100\n",
            "21/21 [==============================] - 0s 18ms/step - loss: 2.8465e-04\n",
            "Epoch 24/100\n",
            "21/21 [==============================] - 0s 19ms/step - loss: 2.6606e-04\n",
            "Epoch 25/100\n",
            "21/21 [==============================] - 0s 19ms/step - loss: 2.7490e-04\n",
            "Epoch 26/100\n",
            "21/21 [==============================] - 0s 19ms/step - loss: 2.5392e-04\n",
            "Epoch 27/100\n",
            "21/21 [==============================] - 0s 18ms/step - loss: 2.6443e-04\n",
            "Epoch 28/100\n",
            "21/21 [==============================] - 1s 33ms/step - loss: 2.5486e-04\n",
            "Epoch 29/100\n",
            "21/21 [==============================] - 1s 33ms/step - loss: 2.5428e-04\n",
            "Epoch 30/100\n",
            "21/21 [==============================] - 1s 32ms/step - loss: 2.4900e-04\n",
            "Epoch 31/100\n",
            "21/21 [==============================] - 1s 36ms/step - loss: 2.4220e-04\n",
            "Epoch 32/100\n",
            "21/21 [==============================] - 1s 35ms/step - loss: 2.7183e-04\n",
            "Epoch 33/100\n",
            "21/21 [==============================] - 1s 28ms/step - loss: 2.5855e-04\n",
            "Epoch 34/100\n",
            "21/21 [==============================] - 0s 20ms/step - loss: 2.3710e-04\n",
            "Epoch 35/100\n",
            "21/21 [==============================] - 0s 18ms/step - loss: 2.3331e-04\n",
            "Epoch 36/100\n",
            "21/21 [==============================] - 0s 19ms/step - loss: 2.6039e-04\n",
            "Epoch 37/100\n",
            "21/21 [==============================] - 0s 20ms/step - loss: 2.7117e-04\n",
            "Epoch 38/100\n",
            "21/21 [==============================] - 0s 18ms/step - loss: 2.2309e-04\n",
            "Epoch 39/100\n",
            "21/21 [==============================] - 0s 20ms/step - loss: 2.1698e-04\n",
            "Epoch 40/100\n",
            "21/21 [==============================] - 0s 18ms/step - loss: 2.1692e-04\n",
            "Epoch 41/100\n",
            "21/21 [==============================] - 0s 19ms/step - loss: 2.1632e-04\n",
            "Epoch 42/100\n",
            "21/21 [==============================] - 0s 19ms/step - loss: 2.1523e-04\n",
            "Epoch 43/100\n",
            "21/21 [==============================] - 0s 18ms/step - loss: 2.0794e-04\n",
            "Epoch 44/100\n",
            "21/21 [==============================] - 0s 21ms/step - loss: 2.1395e-04\n",
            "Epoch 45/100\n",
            "21/21 [==============================] - 0s 18ms/step - loss: 2.1814e-04\n",
            "Epoch 46/100\n",
            "21/21 [==============================] - 0s 18ms/step - loss: 2.2659e-04\n",
            "Epoch 47/100\n",
            "21/21 [==============================] - 0s 20ms/step - loss: 2.1225e-04\n",
            "Epoch 48/100\n",
            "21/21 [==============================] - 0s 18ms/step - loss: 2.0225e-04\n",
            "Epoch 49/100\n",
            "21/21 [==============================] - 0s 20ms/step - loss: 1.9562e-04\n",
            "Epoch 50/100\n",
            "21/21 [==============================] - 0s 18ms/step - loss: 2.1674e-04\n",
            "Epoch 51/100\n",
            "21/21 [==============================] - 0s 18ms/step - loss: 2.2242e-04\n",
            "Epoch 52/100\n",
            "21/21 [==============================] - 0s 20ms/step - loss: 2.0749e-04\n",
            "Epoch 53/100\n",
            "21/21 [==============================] - 0s 18ms/step - loss: 2.0828e-04\n",
            "Epoch 54/100\n",
            "21/21 [==============================] - 0s 21ms/step - loss: 2.0965e-04\n",
            "Epoch 55/100\n",
            "21/21 [==============================] - 0s 18ms/step - loss: 1.9618e-04\n",
            "Epoch 56/100\n",
            "21/21 [==============================] - 0s 18ms/step - loss: 1.8633e-04\n",
            "Epoch 57/100\n",
            "21/21 [==============================] - 0s 20ms/step - loss: 1.9354e-04\n",
            "Epoch 58/100\n",
            "21/21 [==============================] - 1s 27ms/step - loss: 1.7983e-04\n",
            "Epoch 59/100\n",
            "21/21 [==============================] - 1s 35ms/step - loss: 1.9748e-04\n",
            "Epoch 60/100\n",
            "21/21 [==============================] - 1s 33ms/step - loss: 1.9704e-04\n",
            "Epoch 61/100\n",
            "21/21 [==============================] - 1s 34ms/step - loss: 1.8343e-04\n",
            "Epoch 62/100\n",
            "21/21 [==============================] - 1s 32ms/step - loss: 2.1003e-04\n",
            "Epoch 63/100\n",
            "21/21 [==============================] - 1s 34ms/step - loss: 1.8710e-04\n",
            "Epoch 64/100\n",
            "21/21 [==============================] - 0s 18ms/step - loss: 1.7966e-04\n",
            "Epoch 65/100\n",
            "21/21 [==============================] - 0s 19ms/step - loss: 1.7921e-04\n",
            "Epoch 66/100\n",
            "21/21 [==============================] - 0s 19ms/step - loss: 1.8925e-04\n",
            "Epoch 67/100\n",
            "21/21 [==============================] - 0s 19ms/step - loss: 1.7442e-04\n",
            "Epoch 68/100\n",
            "21/21 [==============================] - 0s 19ms/step - loss: 1.6680e-04\n",
            "Epoch 69/100\n",
            "21/21 [==============================] - 0s 18ms/step - loss: 1.7627e-04\n",
            "Epoch 70/100\n",
            "21/21 [==============================] - 0s 20ms/step - loss: 1.9214e-04\n",
            "Epoch 71/100\n",
            "21/21 [==============================] - 0s 20ms/step - loss: 1.8723e-04\n",
            "Epoch 72/100\n",
            "21/21 [==============================] - 0s 21ms/step - loss: 1.6397e-04\n",
            "Epoch 73/100\n",
            "21/21 [==============================] - 0s 19ms/step - loss: 1.6984e-04\n",
            "Epoch 74/100\n",
            "21/21 [==============================] - 0s 18ms/step - loss: 1.9168e-04\n",
            "Epoch 75/100\n",
            "21/21 [==============================] - 0s 18ms/step - loss: 1.7726e-04\n",
            "Epoch 76/100\n",
            "21/21 [==============================] - 0s 18ms/step - loss: 1.6969e-04\n",
            "Epoch 77/100\n",
            "21/21 [==============================] - 0s 19ms/step - loss: 1.7881e-04\n",
            "Epoch 78/100\n",
            "21/21 [==============================] - 0s 19ms/step - loss: 1.7350e-04\n",
            "Epoch 79/100\n",
            "21/21 [==============================] - 0s 18ms/step - loss: 1.6347e-04\n",
            "Epoch 80/100\n",
            "21/21 [==============================] - 0s 21ms/step - loss: 1.7489e-04\n",
            "Epoch 81/100\n",
            "21/21 [==============================] - 0s 20ms/step - loss: 1.6998e-04\n",
            "Epoch 82/100\n",
            "21/21 [==============================] - 0s 22ms/step - loss: 1.6071e-04\n",
            "Epoch 83/100\n",
            "21/21 [==============================] - 0s 21ms/step - loss: 1.6477e-04\n",
            "Epoch 84/100\n",
            "21/21 [==============================] - 0s 21ms/step - loss: 1.6094e-04\n",
            "Epoch 85/100\n",
            "21/21 [==============================] - 0s 18ms/step - loss: 1.5186e-04\n",
            "Epoch 86/100\n",
            "21/21 [==============================] - 0s 19ms/step - loss: 1.6003e-04\n",
            "Epoch 87/100\n",
            "21/21 [==============================] - 0s 18ms/step - loss: 1.5398e-04\n",
            "Epoch 88/100\n",
            "21/21 [==============================] - 1s 33ms/step - loss: 1.6091e-04\n",
            "Epoch 89/100\n",
            "21/21 [==============================] - 1s 33ms/step - loss: 1.6878e-04\n",
            "Epoch 90/100\n",
            "21/21 [==============================] - 1s 33ms/step - loss: 1.4982e-04\n",
            "Epoch 91/100\n",
            "21/21 [==============================] - 1s 33ms/step - loss: 1.5828e-04\n",
            "Epoch 92/100\n",
            "21/21 [==============================] - 1s 35ms/step - loss: 1.5794e-04\n",
            "Epoch 93/100\n",
            "21/21 [==============================] - 1s 24ms/step - loss: 1.5083e-04\n",
            "Epoch 94/100\n",
            "21/21 [==============================] - 0s 17ms/step - loss: 1.5764e-04\n",
            "Epoch 95/100\n",
            "21/21 [==============================] - 0s 21ms/step - loss: 1.7111e-04\n",
            "Epoch 96/100\n",
            "21/21 [==============================] - 0s 18ms/step - loss: 1.4942e-04\n",
            "Epoch 97/100\n",
            "21/21 [==============================] - 0s 21ms/step - loss: 1.4575e-04\n",
            "Epoch 98/100\n",
            "21/21 [==============================] - 0s 18ms/step - loss: 1.4413e-04\n",
            "Epoch 99/100\n",
            "21/21 [==============================] - 0s 18ms/step - loss: 1.4821e-04\n",
            "Epoch 100/100\n",
            "21/21 [==============================] - 0s 21ms/step - loss: 1.4133e-04\n"
          ]
        },
        {
          "output_type": "execute_result",
          "data": {
            "text/plain": [
              "<keras.src.callbacks.History at 0x7ac376edd4e0>"
            ]
          },
          "metadata": {},
          "execution_count": 64
        }
      ],
      "source": [
        "# 9. Fit mô hình với dữ liệu train\n",
        "model.fit(X_train, y_train, epochs=100, batch_size=64, verbose=1)"
      ]
    },
    {
      "cell_type": "code",
      "execution_count": 65,
      "metadata": {
        "colab": {
          "base_uri": "https://localhost:8080/"
        },
        "id": "Rxx_KQSkQpBG",
        "outputId": "071f31db-1228-4457-ab1d-fbe15e918693"
      },
      "outputs": [
        {
          "output_type": "stream",
          "name": "stdout",
          "text": [
            "42/42 [==============================] - 0s 7ms/step\n",
            "2/2 [==============================] - 0s 10ms/step\n"
          ]
        }
      ],
      "source": [
        "# 10. Dự báo dữ liệu test\n",
        "train_predict = model.predict(X_train)\n",
        "y_pred = model.predict(X_test)\n"
      ]
    },
    {
      "cell_type": "code",
      "execution_count": 66,
      "metadata": {
        "id": "5rwTN10LQ7rj"
      },
      "outputs": [],
      "source": [
        "# 11. Chuẩn hóa dữ liệu y_pred, y_test\n",
        "train_predict = scaler.inverse_transform(train_predict)\n",
        "y_pred = scaler.inverse_transform(y_pred)\n",
        "y_test = scaler.inverse_transform(y_test.reshape(-1, 1))"
      ]
    },
    {
      "cell_type": "code",
      "execution_count": 67,
      "metadata": {
        "colab": {
          "base_uri": "https://localhost:8080/"
        },
        "id": "wu_9j94kRonD",
        "outputId": "dde48441-41e1-4f2a-80d9-ed53f354f6c1"
      },
      "outputs": [
        {
          "output_type": "stream",
          "name": "stdout",
          "text": [
            "Testing RMSE: 466.36123303976996\n"
          ]
        }
      ],
      "source": [
        "# 12. Đánh giá độ chính xác thuật toán bằng RMSE\n",
        "test_rmse = np.sqrt(np.mean((y_pred - y_test)**2))\n",
        "print('Testing RMSE:', test_rmse)"
      ]
    },
    {
      "cell_type": "code",
      "execution_count": 68,
      "metadata": {
        "colab": {
          "base_uri": "https://localhost:8080/"
        },
        "id": "izQZ1iQyYl6N",
        "outputId": "0edb00c0-753e-482f-bd5a-e1d328c37649",
        "collapsed": true
      },
      "outputs": [
        {
          "output_type": "stream",
          "name": "stdout",
          "text": [
            "[0.04845216]\n",
            "101\n",
            "[0.04845216]\n",
            "102\n",
            "[0.04845216]\n",
            "103\n",
            "[0.04845216]\n",
            "104\n",
            "[0.04845216]\n",
            "105\n",
            "[0.04845216]\n",
            "106\n",
            "[0.04845216]\n",
            "107\n",
            "[0.04845216]\n",
            "108\n",
            "[0.04845216]\n",
            "109\n",
            "[0.04845216]\n",
            "110\n",
            "[0.04845216]\n",
            "111\n",
            "[0.04845216]\n",
            "112\n",
            "[0.04845216]\n",
            "113\n",
            "[0.04845216]\n",
            "114\n",
            "[0.04845216]\n",
            "115\n",
            "[0.04845216]\n",
            "116\n",
            "[0.04845216]\n",
            "117\n",
            "[0.04845216]\n",
            "118\n",
            "[0.04845216]\n",
            "119\n",
            "[0.04845216]\n",
            "120\n",
            "[0.04845216]\n",
            "121\n",
            "[0.04845216]\n",
            "122\n",
            "[0.04845216]\n",
            "123\n",
            "[0.04845216]\n",
            "124\n",
            "[0.04845216]\n",
            "125\n",
            "[0.04845216]\n",
            "126\n",
            "[0.04845216]\n",
            "127\n",
            "[0.04845216]\n",
            "128\n",
            "[0.04845216]\n",
            "129\n",
            "[0.04845216]\n",
            "130\n"
          ]
        }
      ],
      "source": [
        "# 13. Dự báo 30 ngày tiếp theo (test có 319 ngày)\n",
        "x_input=test_data[60:].reshape(1,-1)\n",
        "x_input.shape\n",
        "\n",
        "temp_input=list(x_input)\n",
        "temp_input=temp_input[0].tolist()\n",
        "\n",
        "from numpy import array\n",
        "\n",
        "lst_output=[]\n",
        "n_steps=100\n",
        "i=0\n",
        "while(i<30):\n",
        "\n",
        "    if(len(temp_input)>250):\n",
        "        #print(temp_input)\n",
        "        x_input=np.array(temp_input[1:])\n",
        "        print(\"{} day input {}\".format(i,x_input))\n",
        "        x_input=x_input.reshape(1,-1)\n",
        "        x_input = x_input.reshape((1, n_steps, 1))\n",
        "        #print(x_input)\n",
        "        yhat = model.predict(x_input, verbose=0)\n",
        "        print(\"{} day output {}\".format(i,yhat))\n",
        "        temp_input.extend(yhat[0].tolist())\n",
        "        temp_input=temp_input[1:]\n",
        "        #print(temp_input)\n",
        "        lst_output.extend(yhat.tolist())\n",
        "        i=i+1\n",
        "    else:\n",
        "        x_input = x_input.reshape((1, n_steps,1))\n",
        "        yhat = model.predict(x_input, verbose=0)\n",
        "        print(yhat[0])\n",
        "        temp_input.extend(yhat[0].tolist())\n",
        "        print(len(temp_input))\n",
        "        lst_output.extend(yhat.tolist())\n",
        "        i=i+1\n"
      ]
    },
    {
      "cell_type": "code",
      "source": [
        "# 13b. Dự báo 60 ngày tiếp theo\n",
        "x_input=test_data[60:].reshape(1,-1)\n",
        "x_input.shape\n",
        "\n",
        "temp_input=list(x_input)\n",
        "temp_input=temp_input[0].tolist()\n",
        "\n",
        "from numpy import array\n",
        "\n",
        "lst_output_60=[]\n",
        "n_steps=100\n",
        "i=0\n",
        "while(i<60):\n",
        "\n",
        "    if(len(temp_input)>250):\n",
        "        #print(temp_input)\n",
        "        x_input=np.array(temp_input[1:])\n",
        "        print(\"{} day input {}\".format(i,x_input))\n",
        "        x_input=x_input.reshape(1,-1)\n",
        "        x_input = x_input.reshape((1, n_steps, 1))\n",
        "        #print(x_input)\n",
        "        yhat = model.predict(x_input, verbose=0)\n",
        "        print(\"{} day output {}\".format(i,yhat))\n",
        "        temp_input.extend(yhat[0].tolist())\n",
        "        temp_input=temp_input[1:]\n",
        "        #print(temp_input)\n",
        "        lst_output_60.extend(yhat.tolist())\n",
        "        i=i+1\n",
        "    else:\n",
        "        x_input = x_input.reshape((1, n_steps,1))\n",
        "        yhat = model.predict(x_input, verbose=0)\n",
        "        print(yhat[0])\n",
        "        temp_input.extend(yhat[0].tolist())\n",
        "        print(len(temp_input))\n",
        "        lst_output_60.extend(yhat.tolist())\n",
        "        i=i+1\n"
      ],
      "metadata": {
        "colab": {
          "base_uri": "https://localhost:8080/"
        },
        "id": "hK3nC9QvP286",
        "outputId": "1413b7ac-2315-4561-c344-5308d2da8b0d"
      },
      "execution_count": 69,
      "outputs": [
        {
          "output_type": "stream",
          "name": "stdout",
          "text": [
            "[0.04845216]\n",
            "101\n",
            "[0.04845216]\n",
            "102\n",
            "[0.04845216]\n",
            "103\n",
            "[0.04845216]\n",
            "104\n",
            "[0.04845216]\n",
            "105\n",
            "[0.04845216]\n",
            "106\n",
            "[0.04845216]\n",
            "107\n",
            "[0.04845216]\n",
            "108\n",
            "[0.04845216]\n",
            "109\n",
            "[0.04845216]\n",
            "110\n",
            "[0.04845216]\n",
            "111\n",
            "[0.04845216]\n",
            "112\n",
            "[0.04845216]\n",
            "113\n",
            "[0.04845216]\n",
            "114\n",
            "[0.04845216]\n",
            "115\n",
            "[0.04845216]\n",
            "116\n",
            "[0.04845216]\n",
            "117\n",
            "[0.04845216]\n",
            "118\n",
            "[0.04845216]\n",
            "119\n",
            "[0.04845216]\n",
            "120\n",
            "[0.04845216]\n",
            "121\n",
            "[0.04845216]\n",
            "122\n",
            "[0.04845216]\n",
            "123\n",
            "[0.04845216]\n",
            "124\n",
            "[0.04845216]\n",
            "125\n",
            "[0.04845216]\n",
            "126\n",
            "[0.04845216]\n",
            "127\n",
            "[0.04845216]\n",
            "128\n",
            "[0.04845216]\n",
            "129\n",
            "[0.04845216]\n",
            "130\n",
            "[0.04845216]\n",
            "131\n",
            "[0.04845216]\n",
            "132\n",
            "[0.04845216]\n",
            "133\n",
            "[0.04845216]\n",
            "134\n",
            "[0.04845216]\n",
            "135\n",
            "[0.04845216]\n",
            "136\n",
            "[0.04845216]\n",
            "137\n",
            "[0.04845216]\n",
            "138\n",
            "[0.04845216]\n",
            "139\n",
            "[0.04845216]\n",
            "140\n",
            "[0.04845216]\n",
            "141\n",
            "[0.04845216]\n",
            "142\n",
            "[0.04845216]\n",
            "143\n",
            "[0.04845216]\n",
            "144\n",
            "[0.04845216]\n",
            "145\n",
            "[0.04845216]\n",
            "146\n",
            "[0.04845216]\n",
            "147\n",
            "[0.04845216]\n",
            "148\n",
            "[0.04845216]\n",
            "149\n",
            "[0.04845216]\n",
            "150\n",
            "[0.04845216]\n",
            "151\n",
            "[0.04845216]\n",
            "152\n",
            "[0.04845216]\n",
            "153\n",
            "[0.04845216]\n",
            "154\n",
            "[0.04845216]\n",
            "155\n",
            "[0.04845216]\n",
            "156\n",
            "[0.04845216]\n",
            "157\n",
            "[0.04845216]\n",
            "158\n",
            "[0.04845216]\n",
            "159\n",
            "[0.04845216]\n",
            "160\n"
          ]
        }
      ]
    },
    {
      "cell_type": "code",
      "source": [
        "# 13c. Dự báo 90 ngày tiếp theo\n",
        "x_input=test_data[60:].reshape(1,-1)\n",
        "x_input.shape\n",
        "\n",
        "temp_input=list(x_input)\n",
        "temp_input=temp_input[0].tolist()\n",
        "\n",
        "from numpy import array\n",
        "\n",
        "lst_output_90=[]\n",
        "n_steps=100\n",
        "i=0\n",
        "while(i<90):\n",
        "\n",
        "    if(len(temp_input)>250):\n",
        "        #print(temp_input)\n",
        "        x_input=np.array(temp_input[1:])\n",
        "        print(\"{} day input {}\".format(i,x_input))\n",
        "        x_input=x_input.reshape(1,-1)\n",
        "        x_input = x_input.reshape((1, n_steps, 1))\n",
        "        #print(x_input)\n",
        "        yhat = model.predict(x_input, verbose=0)\n",
        "        print(\"{} day output {}\".format(i,yhat))\n",
        "        temp_input.extend(yhat[0].tolist())\n",
        "        temp_input=temp_input[1:]\n",
        "        #print(temp_input)\n",
        "        lst_output_90.extend(yhat.tolist())\n",
        "        i=i+1\n",
        "    else:\n",
        "        x_input = x_input.reshape((1, n_steps,1))\n",
        "        yhat = model.predict(x_input, verbose=0)\n",
        "        print(yhat[0])\n",
        "        temp_input.extend(yhat[0].tolist())\n",
        "        print(len(temp_input))\n",
        "        lst_output_90.extend(yhat.tolist())\n",
        "        i=i+1\n"
      ],
      "metadata": {
        "colab": {
          "base_uri": "https://localhost:8080/"
        },
        "id": "bGr1iBoDP7JC",
        "outputId": "fef3aa6a-2514-4772-ed96-80399cb605cb"
      },
      "execution_count": 70,
      "outputs": [
        {
          "output_type": "stream",
          "name": "stdout",
          "text": [
            "[0.04845216]\n",
            "101\n",
            "[0.04845216]\n",
            "102\n",
            "[0.04845216]\n",
            "103\n",
            "[0.04845216]\n",
            "104\n",
            "[0.04845216]\n",
            "105\n",
            "[0.04845216]\n",
            "106\n",
            "[0.04845216]\n",
            "107\n",
            "[0.04845216]\n",
            "108\n",
            "[0.04845216]\n",
            "109\n",
            "[0.04845216]\n",
            "110\n",
            "[0.04845216]\n",
            "111\n",
            "[0.04845216]\n",
            "112\n",
            "[0.04845216]\n",
            "113\n",
            "[0.04845216]\n",
            "114\n",
            "[0.04845216]\n",
            "115\n",
            "[0.04845216]\n",
            "116\n",
            "[0.04845216]\n",
            "117\n",
            "[0.04845216]\n",
            "118\n",
            "[0.04845216]\n",
            "119\n",
            "[0.04845216]\n",
            "120\n",
            "[0.04845216]\n",
            "121\n",
            "[0.04845216]\n",
            "122\n",
            "[0.04845216]\n",
            "123\n",
            "[0.04845216]\n",
            "124\n",
            "[0.04845216]\n",
            "125\n",
            "[0.04845216]\n",
            "126\n",
            "[0.04845216]\n",
            "127\n",
            "[0.04845216]\n",
            "128\n",
            "[0.04845216]\n",
            "129\n",
            "[0.04845216]\n",
            "130\n",
            "[0.04845216]\n",
            "131\n",
            "[0.04845216]\n",
            "132\n",
            "[0.04845216]\n",
            "133\n",
            "[0.04845216]\n",
            "134\n",
            "[0.04845216]\n",
            "135\n",
            "[0.04845216]\n",
            "136\n",
            "[0.04845216]\n",
            "137\n",
            "[0.04845216]\n",
            "138\n",
            "[0.04845216]\n",
            "139\n",
            "[0.04845216]\n",
            "140\n",
            "[0.04845216]\n",
            "141\n",
            "[0.04845216]\n",
            "142\n",
            "[0.04845216]\n",
            "143\n",
            "[0.04845216]\n",
            "144\n",
            "[0.04845216]\n",
            "145\n",
            "[0.04845216]\n",
            "146\n",
            "[0.04845216]\n",
            "147\n",
            "[0.04845216]\n",
            "148\n",
            "[0.04845216]\n",
            "149\n",
            "[0.04845216]\n",
            "150\n",
            "[0.04845216]\n",
            "151\n",
            "[0.04845216]\n",
            "152\n",
            "[0.04845216]\n",
            "153\n",
            "[0.04845216]\n",
            "154\n",
            "[0.04845216]\n",
            "155\n",
            "[0.04845216]\n",
            "156\n",
            "[0.04845216]\n",
            "157\n",
            "[0.04845216]\n",
            "158\n",
            "[0.04845216]\n",
            "159\n",
            "[0.04845216]\n",
            "160\n",
            "[0.04845216]\n",
            "161\n",
            "[0.04845216]\n",
            "162\n",
            "[0.04845216]\n",
            "163\n",
            "[0.04845216]\n",
            "164\n",
            "[0.04845216]\n",
            "165\n",
            "[0.04845216]\n",
            "166\n",
            "[0.04845216]\n",
            "167\n",
            "[0.04845216]\n",
            "168\n",
            "[0.04845216]\n",
            "169\n",
            "[0.04845216]\n",
            "170\n",
            "[0.04845216]\n",
            "171\n",
            "[0.04845216]\n",
            "172\n",
            "[0.04845216]\n",
            "173\n",
            "[0.04845216]\n",
            "174\n",
            "[0.04845216]\n",
            "175\n",
            "[0.04845216]\n",
            "176\n",
            "[0.04845216]\n",
            "177\n",
            "[0.04845216]\n",
            "178\n",
            "[0.04845216]\n",
            "179\n",
            "[0.04845216]\n",
            "180\n",
            "[0.04845216]\n",
            "181\n",
            "[0.04845216]\n",
            "182\n",
            "[0.04845216]\n",
            "183\n",
            "[0.04845216]\n",
            "184\n",
            "[0.04845216]\n",
            "185\n",
            "[0.04845216]\n",
            "186\n",
            "[0.04845216]\n",
            "187\n",
            "[0.04845216]\n",
            "188\n",
            "[0.04845216]\n",
            "189\n",
            "[0.04845216]\n",
            "190\n"
          ]
        }
      ]
    },
    {
      "cell_type": "code",
      "source": [
        "test_data_index = pd.RangeIndex(start=train_size, stop=train_size+test_size+1-101, step=1)\n",
        "test_data_index.shape"
      ],
      "metadata": {
        "colab": {
          "base_uri": "https://localhost:8080/"
        },
        "id": "tKUGGTUzx14B",
        "outputId": "0e2b426c-f31e-488a-cd90-e39f1ab9ea0b"
      },
      "execution_count": 71,
      "outputs": [
        {
          "output_type": "execute_result",
          "data": {
            "text/plain": [
              "(59,)"
            ]
          },
          "metadata": {},
          "execution_count": 71
        }
      ]
    },
    {
      "cell_type": "code",
      "source": [
        "y_pred.shape"
      ],
      "metadata": {
        "colab": {
          "base_uri": "https://localhost:8080/"
        },
        "id": "fqJ7TesJxOYO",
        "outputId": "3ec1a920-8f46-4574-f562-81b72eb0a787"
      },
      "execution_count": 72,
      "outputs": [
        {
          "output_type": "execute_result",
          "data": {
            "text/plain": [
              "(59, 1)"
            ]
          },
          "metadata": {},
          "execution_count": 72
        }
      ]
    },
    {
      "cell_type": "code",
      "source": [
        "# 14.Vẽ hình\n",
        "plt.figure(figsize=(12,6))\n",
        "train_data_index = pd.RangeIndex(start=0, stop=train_size, step=1)\n",
        "plt.plot(scaler.inverse_transform(train_data))\n",
        "\n",
        "test_data_index = pd.RangeIndex(start=train_size, stop=train_size+test_size+1, step=1)\n",
        "plt.plot(test_data_index,scaler.inverse_transform(test_data))\n",
        "\n",
        "test_data_index = pd.RangeIndex(start=train_size+101, stop=train_size+test_size+1, step=1)\n",
        "plt.plot(test_data_index,(y_pred))\n",
        "\n",
        "prediect_data_index_90 = pd.RangeIndex(start=len(df1)-1, stop=len(df1)+89, step=1)\n",
        "plt.plot(prediect_data_index_90,scaler.inverse_transform(lst_output_90))\n",
        "\n",
        "prediect_data_index_60 = pd.RangeIndex(start=len(df1)-1, stop=len(df1)+59, step=1)\n",
        "plt.plot(prediect_data_index_60,scaler.inverse_transform(lst_output_60))\n",
        "\n",
        "prediect_data_index = pd.RangeIndex(start=len(df1)-1, stop=len(df1)+29, step=1)\n",
        "plt.plot(prediect_data_index,scaler.inverse_transform(lst_output))\n",
        "\n",
        "plt.legend(['Train','Test','Predict','Predict30days'])\n",
        "plt.show()"
      ],
      "metadata": {
        "colab": {
          "base_uri": "https://localhost:8080/",
          "height": 522
        },
        "id": "_dM6DX1Ls5mL",
        "outputId": "3b0da57a-7be0-4f32-aa65-0da30767bfd8"
      },
      "execution_count": 73,
      "outputs": [
        {
          "output_type": "display_data",
          "data": {
            "text/plain": [
              "<Figure size 1200x600 with 1 Axes>"
            ],
            "image/png": "[encoded data removed]"
          },
          "metadata": {}
        }
      ]
    }
  ],
  "metadata": {
    "colab": {
      "provenance": []
    },
    "kernelspec": {
      "display_name": "Python 3",
      "name": "python3"
    },
    "language_info": {
      "name": "python"
    }
  },
  "nbformat": 4,
  "nbformat_minor": 0
}