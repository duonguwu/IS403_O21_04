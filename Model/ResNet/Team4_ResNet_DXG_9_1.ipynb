{
  "nbformat": 4,
  "nbformat_minor": 0,
  "metadata": {
    "colab": {
      "provenance": []
    },
    "kernelspec": {
      "name": "python3",
      "display_name": "Python 3"
    },
    "language_info": {
      "name": "python"
    }
  },
  "cells": [
    {
      "cell_type": "code",
      "execution_count": 38,
      "metadata": {
        "id": "YGidY5DP_tBO"
      },
      "outputs": [],
      "source": [
        "import numpy as np\n",
        "import pandas as pd\n",
        "import matplotlib.pyplot as plt\n",
        "from sklearn.preprocessing import MinMaxScaler\n",
        "import torch\n",
        "import torch.nn as nn\n",
        "from torch.utils.data import DataLoader, Dataset\n",
        "from torch.nn import Module\n",
        "import torch.optim as optim\n"
      ]
    },
    {
      "cell_type": "code",
      "source": [
        "# 2. Đọc file csv và gắng index với giá Close\n",
        "df = pd.read_csv('/content/DXG Historical Data 2018.csv')\n",
        "\n",
        "# Nhận thấy tập dữ liệu, ở cột Price giá tiền có dấu phẩy và đang ở dạng string\n",
        "# Bỏ dấu phẩy\n",
        "df['Price'] = df['Price'].str.replace(',', '')\n",
        "# Chuyển sang dạng số\n",
        "df['Price'] = pd.to_numeric(df['Price'])\n",
        "df = df[::-1]"
      ],
      "metadata": {
        "id": "A-oqH_RI_zVa"
      },
      "execution_count": 39,
      "outputs": []
    },
    {
      "cell_type": "code",
      "source": [
        "df1=df.reset_index()['Price']\n",
        "df1.head()"
      ],
      "metadata": {
        "colab": {
          "base_uri": "https://localhost:8080/"
        },
        "id": "Kda3Av5F_08i",
        "outputId": "e0774528-f326-46ba-9682-22ca2924004f"
      },
      "execution_count": 40,
      "outputs": [
        {
          "output_type": "execute_result",
          "data": {
            "text/plain": [
              "0    13401.4\n",
              "1    13371.1\n",
              "2    13522.4\n",
              "3    13159.4\n",
              "4    14066.9\n",
              "Name: Price, dtype: float64"
            ]
          },
          "metadata": {},
          "execution_count": 40
        }
      ]
    },
    {
      "cell_type": "code",
      "source": [
        "df1"
      ],
      "metadata": {
        "colab": {
          "base_uri": "https://localhost:8080/"
        },
        "id": "FdWmEGpp_14b",
        "outputId": "22200d8b-4e4f-404d-8587-c620d9e06baf"
      },
      "execution_count": 41,
      "outputs": [
        {
          "output_type": "execute_result",
          "data": {
            "text/plain": [
              "0       13401.4\n",
              "1       13371.1\n",
              "2       13522.4\n",
              "3       13159.4\n",
              "4       14066.9\n",
              "         ...   \n",
              "1547    19000.0\n",
              "1548    18500.0\n",
              "1549    18750.0\n",
              "1550    19500.0\n",
              "1551    19850.0\n",
              "Name: Price, Length: 1552, dtype: float64"
            ]
          },
          "metadata": {},
          "execution_count": 41
        }
      ]
    },
    {
      "cell_type": "code",
      "source": [
        "# 3. Scaler data\n",
        "scaler=MinMaxScaler(feature_range=(0,1))\n",
        "df1=scaler.fit_transform(np.array(df1).reshape(-1,1))"
      ],
      "metadata": {
        "id": "VfqyFVDv_18T"
      },
      "execution_count": 42,
      "outputs": []
    },
    {
      "cell_type": "code",
      "source": [
        "# 4. Chia train test\n",
        "train_size = int(0.9 * len(df1))\n",
        "test_size = int(0.1 * len(df1))\n",
        "\n",
        "train_data = df1[:train_size]\n",
        "test_data = df1[train_size:]"
      ],
      "metadata": {
        "id": "pxlZdaG6_1-r"
      },
      "execution_count": 43,
      "outputs": []
    },
    {
      "cell_type": "code",
      "source": [
        "test_size"
      ],
      "metadata": {
        "colab": {
          "base_uri": "https://localhost:8080/"
        },
        "id": "QH7dizUS_2BT",
        "outputId": "7ef806a0-eab1-42ea-cad8-37e5b3ad73b7"
      },
      "execution_count": 44,
      "outputs": [
        {
          "output_type": "execute_result",
          "data": {
            "text/plain": [
              "155"
            ]
          },
          "metadata": {},
          "execution_count": 44
        }
      ]
    },
    {
      "cell_type": "code",
      "source": [
        "# 5. Hàm Create Dataset\n",
        "import numpy\n",
        "# convert an array of values into a dataset matrix\n",
        "def create_dataset(dataset, time_step=1):\n",
        "\tdataX, dataY = [], []\n",
        "\tfor i in range(len(dataset)-time_step-1):\n",
        "\t\ta = dataset[i:(i+time_step), 0]   ###i=0, X=0,1,2,3-----99   Y=100\n",
        "\t\tdataX.append(a)\n",
        "\t\tdataY.append(dataset[i + time_step, 0])\n",
        "\treturn numpy.array(dataX), numpy.array(dataY)"
      ],
      "metadata": {
        "id": "v0d5deeY_2Dz"
      },
      "execution_count": 45,
      "outputs": []
    },
    {
      "cell_type": "code",
      "source": [
        "# 6. Reshape into X=t,t+1,t+2..t+99 and Y=t+100\n",
        "time_step = 100\n",
        "X_train, y_train = create_dataset(train_data, time_step)\n",
        "X_test, y_test = create_dataset(test_data, time_step)"
      ],
      "metadata": {
        "id": "5RNsv6HN_2Gb"
      },
      "execution_count": 46,
      "outputs": []
    },
    {
      "cell_type": "code",
      "source": [
        "X_train.shape"
      ],
      "metadata": {
        "colab": {
          "base_uri": "https://localhost:8080/"
        },
        "id": "WB99gI3B_-O1",
        "outputId": "25906742-c3af-41dc-fa9a-3ab5ca120caa"
      },
      "execution_count": 47,
      "outputs": [
        {
          "output_type": "execute_result",
          "data": {
            "text/plain": [
              "(1295, 100)"
            ]
          },
          "metadata": {},
          "execution_count": 47
        }
      ]
    },
    {
      "cell_type": "code",
      "source": [
        "# Tạo Dataset cho PyTorch\n",
        "class TimeSeriesDataset(Dataset):\n",
        "    def __init__(self, X, y):\n",
        "        self.X = X\n",
        "        self.y = y\n",
        "\n",
        "    def __len__(self):\n",
        "        return len(self.X)\n",
        "\n",
        "    def __getitem__(self, idx):\n",
        "        return torch.tensor(self.X[idx], dtype=torch.float32).unsqueeze(0), torch.tensor(self.y[idx], dtype=torch.float32)\n",
        "\n",
        "train_dataset = TimeSeriesDataset(X_train, y_train)\n",
        "test_dataset = TimeSeriesDataset(X_test, y_test)\n",
        "\n",
        "train_loader = DataLoader(train_dataset, batch_size=64, shuffle=True)\n",
        "test_loader = DataLoader(test_dataset, batch_size=64, shuffle=False)"
      ],
      "metadata": {
        "id": "T7fp0MMDBvSX"
      },
      "execution_count": 48,
      "outputs": []
    },
    {
      "cell_type": "code",
      "source": [
        "# Định nghĩa mô hình ResNetLSTM\n",
        "class ConvBlock(Module):\n",
        "    def __init__(self, ni, nf, ks, stride=1, act=nn.ReLU, act_kwargs={}):\n",
        "        super().__init__()\n",
        "        self.conv = nn.Conv1d(ni, nf, ks, stride=stride, padding=ks//2)\n",
        "        self.bn = nn.BatchNorm1d(nf)\n",
        "        self.act = act(**act_kwargs) if act is not None else nn.Identity()\n",
        "\n",
        "    def forward(self, x):\n",
        "        return self.act(self.bn(self.conv(x)))\n",
        "\n",
        "class ResBlock(Module):\n",
        "    def __init__(self, ni, nf, kss=[7, 5, 3]):\n",
        "        super().__init__()\n",
        "        self.convblock1 = ConvBlock(ni, nf, kss[0])\n",
        "        self.convblock2 = ConvBlock(nf, nf, kss[1])\n",
        "        self.convblock3 = ConvBlock(nf, nf, kss[2], act=None)\n",
        "\n",
        "        self.shortcut = nn.BatchNorm1d(ni) if ni == nf else ConvBlock(ni, nf, 1, act=None)\n",
        "        self.add = nn.Identity()\n",
        "        self.act = nn.ReLU()\n",
        "\n",
        "    def forward(self, x):\n",
        "        res = x\n",
        "        x = self.convblock1(x)\n",
        "        x = self.convblock2(x)\n",
        "        x = self.convblock3(x)\n",
        "        x = self.add(x + self.shortcut(res))\n",
        "        x = self.act(x)\n",
        "        return x\n",
        "\n",
        "class ResNetLSTM(Module):\n",
        "    def __init__(self, c_in, c_out, lstm_hidden_units=50, num_lstm_layers=1):\n",
        "        super().__init__()\n",
        "        nf = 64\n",
        "        kss = [7, 5, 3]\n",
        "        self.resblock1 = ResBlock(c_in, nf, kss=kss)\n",
        "        self.resblock2 = ResBlock(nf, nf * 2, kss=kss)\n",
        "        self.resblock3 = ResBlock(nf * 2, nf * 2, kss=kss)\n",
        "\n",
        "        self.lstm = nn.LSTM(nf * 2, lstm_hidden_units, num_lstm_layers, batch_first=True)\n",
        "        self.fc = nn.Linear(lstm_hidden_units, c_out)\n",
        "\n",
        "    def forward(self, x):\n",
        "        x = self.resblock1(x)\n",
        "        x = self.resblock2(x)\n",
        "        x = self.resblock3(x)\n",
        "        x = x.transpose(1, 2)  # Transpose for LSTM: (batch, channels, seq_len) -> (batch, seq_len, channels)\n",
        "        x, _ = self.lstm(x)\n",
        "        x = x[:, -1, :]  # Lấy đầu ra của LSTM ở bước thời gian cuối cùng\n",
        "        x = self.fc(x)\n",
        "        return x"
      ],
      "metadata": {
        "id": "wgLl06lnBvUv"
      },
      "execution_count": 49,
      "outputs": []
    },
    {
      "cell_type": "code",
      "source": [
        "# Khởi tạo mô hình\n",
        "model = ResNetLSTM(1, 1)\n",
        "criterion = nn.MSELoss()\n",
        "optimizer = optim.Adam(model.parameters(), lr=0.001)"
      ],
      "metadata": {
        "id": "Ws99DDw2BvXI"
      },
      "execution_count": 50,
      "outputs": []
    },
    {
      "cell_type": "code",
      "source": [
        "# Huấn luyện mô hình\n",
        "num_epochs = 60\n",
        "for epoch in range(num_epochs):\n",
        "    model.train()\n",
        "    for inputs, targets in train_loader:\n",
        "        optimizer.zero_grad()\n",
        "        outputs = model(inputs)\n",
        "        loss = criterion(outputs.squeeze(), targets)\n",
        "        loss.backward()\n",
        "        optimizer.step()\n",
        "\n",
        "    model.eval()\n",
        "    test_loss = 0\n",
        "    with torch.no_grad():\n",
        "        for inputs, targets in test_loader:\n",
        "            outputs = model(inputs)\n",
        "            loss = criterion(outputs.squeeze(), targets)\n",
        "            test_loss += loss.item()\n",
        "\n",
        "    test_loss /= len(test_loader)\n",
        "    print(f'Epoch {epoch + 1}/{num_epochs}, Loss: {loss.item()}, Test Loss: {test_loss}')\n"
      ],
      "metadata": {
        "colab": {
          "base_uri": "https://localhost:8080/"
        },
        "id": "5TEsKECfBvZv",
        "outputId": "f651884a-b01f-44b9-e544-adeca0c4dae8"
      },
      "execution_count": 51,
      "outputs": [
        {
          "output_type": "stream",
          "name": "stdout",
          "text": [
            "Epoch 1/60, Loss: 0.04372543469071388, Test Loss: 0.04372543469071388\n",
            "Epoch 2/60, Loss: 0.005426899995654821, Test Loss: 0.005426899995654821\n",
            "Epoch 3/60, Loss: 0.005897339433431625, Test Loss: 0.005897339433431625\n",
            "Epoch 4/60, Loss: 0.00010280962305841967, Test Loss: 0.00010280962305841967\n",
            "Epoch 5/60, Loss: 0.00010448812099639326, Test Loss: 0.00010448812099639326\n",
            "Epoch 6/60, Loss: 5.621512536890805e-05, Test Loss: 5.621512536890805e-05\n",
            "Epoch 7/60, Loss: 0.0008656803984194994, Test Loss: 0.0008656803984194994\n",
            "Epoch 8/60, Loss: 6.47621855023317e-05, Test Loss: 6.47621855023317e-05\n",
            "Epoch 9/60, Loss: 6.104668136686087e-05, Test Loss: 6.104668136686087e-05\n",
            "Epoch 10/60, Loss: 6.952744297450408e-05, Test Loss: 6.952744297450408e-05\n",
            "Epoch 11/60, Loss: 6.310392200248316e-05, Test Loss: 6.310392200248316e-05\n",
            "Epoch 12/60, Loss: 6.677465717075393e-05, Test Loss: 6.677465717075393e-05\n",
            "Epoch 13/60, Loss: 5.767396214650944e-05, Test Loss: 5.767396214650944e-05\n",
            "Epoch 14/60, Loss: 0.00023063572007231414, Test Loss: 0.00023063572007231414\n",
            "Epoch 15/60, Loss: 0.00035232349182479084, Test Loss: 0.00035232349182479084\n",
            "Epoch 16/60, Loss: 0.0001020705167320557, Test Loss: 0.0001020705167320557\n",
            "Epoch 17/60, Loss: 6.325836147880182e-05, Test Loss: 6.325836147880182e-05\n",
            "Epoch 18/60, Loss: 0.00017444031254854053, Test Loss: 0.00017444031254854053\n",
            "Epoch 19/60, Loss: 8.852028986439109e-05, Test Loss: 8.852028986439109e-05\n",
            "Epoch 20/60, Loss: 8.024076669244096e-05, Test Loss: 8.024076669244096e-05\n",
            "Epoch 21/60, Loss: 0.00019620040256995708, Test Loss: 0.00019620040256995708\n",
            "Epoch 22/60, Loss: 6.663387466687709e-05, Test Loss: 6.663387466687709e-05\n",
            "Epoch 23/60, Loss: 0.00019557378254830837, Test Loss: 0.00019557378254830837\n",
            "Epoch 24/60, Loss: 0.00014952197670936584, Test Loss: 0.00014952197670936584\n",
            "Epoch 25/60, Loss: 0.0003249845467507839, Test Loss: 0.0003249845467507839\n",
            "Epoch 26/60, Loss: 7.19573290552944e-05, Test Loss: 7.19573290552944e-05\n",
            "Epoch 27/60, Loss: 5.4561776778427884e-05, Test Loss: 5.4561776778427884e-05\n",
            "Epoch 28/60, Loss: 6.991530244704336e-05, Test Loss: 6.991530244704336e-05\n",
            "Epoch 29/60, Loss: 7.368464139290154e-05, Test Loss: 7.368464139290154e-05\n",
            "Epoch 30/60, Loss: 7.924591773189604e-05, Test Loss: 7.924591773189604e-05\n",
            "Epoch 31/60, Loss: 0.00013421490439213812, Test Loss: 0.00013421490439213812\n",
            "Epoch 32/60, Loss: 0.00018319371156394482, Test Loss: 0.00018319371156394482\n",
            "Epoch 33/60, Loss: 5.1747574616456404e-05, Test Loss: 5.1747574616456404e-05\n",
            "Epoch 34/60, Loss: 0.00013945567479822785, Test Loss: 0.00013945567479822785\n",
            "Epoch 35/60, Loss: 7.235693919938058e-05, Test Loss: 7.235693919938058e-05\n",
            "Epoch 36/60, Loss: 8.284005161840469e-05, Test Loss: 8.284005161840469e-05\n",
            "Epoch 37/60, Loss: 9.85075967037119e-05, Test Loss: 9.85075967037119e-05\n",
            "Epoch 38/60, Loss: 5.319862248143181e-05, Test Loss: 5.319862248143181e-05\n",
            "Epoch 39/60, Loss: 0.00016555866750422865, Test Loss: 0.00016555866750422865\n",
            "Epoch 40/60, Loss: 9.100753959501162e-05, Test Loss: 9.100753959501162e-05\n",
            "Epoch 41/60, Loss: 5.0973190809600055e-05, Test Loss: 5.0973190809600055e-05\n",
            "Epoch 42/60, Loss: 6.378624675562605e-05, Test Loss: 6.378624675562605e-05\n",
            "Epoch 43/60, Loss: 5.8483135944698006e-05, Test Loss: 5.8483135944698006e-05\n",
            "Epoch 44/60, Loss: 0.0003696857893373817, Test Loss: 0.0003696857893373817\n",
            "Epoch 45/60, Loss: 0.00048123899614438415, Test Loss: 0.00048123899614438415\n",
            "Epoch 46/60, Loss: 0.00014569984341505915, Test Loss: 0.00014569984341505915\n",
            "Epoch 47/60, Loss: 0.0003218267229385674, Test Loss: 0.0003218267229385674\n",
            "Epoch 48/60, Loss: 5.245863940217532e-05, Test Loss: 5.245863940217532e-05\n",
            "Epoch 49/60, Loss: 6.155922164907679e-05, Test Loss: 6.155922164907679e-05\n",
            "Epoch 50/60, Loss: 5.0670310884015635e-05, Test Loss: 5.0670310884015635e-05\n",
            "Epoch 51/60, Loss: 6.536785076605156e-05, Test Loss: 6.536785076605156e-05\n",
            "Epoch 52/60, Loss: 6.719475641148165e-05, Test Loss: 6.719475641148165e-05\n",
            "Epoch 53/60, Loss: 9.766550647327676e-05, Test Loss: 9.766550647327676e-05\n",
            "Epoch 54/60, Loss: 5.50967815797776e-05, Test Loss: 5.50967815797776e-05\n",
            "Epoch 55/60, Loss: 0.00012669667194131762, Test Loss: 0.00012669667194131762\n",
            "Epoch 56/60, Loss: 0.00012192840949865058, Test Loss: 0.00012192840949865058\n",
            "Epoch 57/60, Loss: 9.269727161154151e-05, Test Loss: 9.269727161154151e-05\n",
            "Epoch 58/60, Loss: 5.490777039085515e-05, Test Loss: 5.490777039085515e-05\n",
            "Epoch 59/60, Loss: 5.745965609094128e-05, Test Loss: 5.745965609094128e-05\n",
            "Epoch 60/60, Loss: 7.978090434335172e-05, Test Loss: 7.978090434335172e-05\n"
          ]
        }
      ]
    },
    {
      "cell_type": "code",
      "source": [
        "# Dự báo dữ liệu test\n",
        "model.eval()\n",
        "train_predict = []\n",
        "with torch.no_grad():\n",
        "    for inputs, _ in train_loader:\n",
        "        outputs = model(inputs)\n",
        "        train_predict.extend(outputs.squeeze().numpy())\n",
        "\n",
        "test_predict = []\n",
        "with torch.no_grad():\n",
        "    for inputs, _ in test_loader:\n",
        "        outputs = model(inputs)\n",
        "        test_predict.extend(outputs.squeeze().numpy())\n",
        "\n",
        "train_predict = scaler.inverse_transform(np.array(train_predict).reshape(-1, 1))\n",
        "test_predict = scaler.inverse_transform(np.array(test_predict).reshape(-1, 1))"
      ],
      "metadata": {
        "id": "JibGgPppB4sI"
      },
      "execution_count": 52,
      "outputs": []
    },
    {
      "cell_type": "code",
      "source": [
        "# Dự báo 30 ngày tiếp theo\n",
        "model.eval()\n",
        "x_input = test_data[-100:].reshape(1, -1)\n",
        "x_input = torch.tensor(x_input, dtype=torch.float32).unsqueeze(0)\n",
        "temp_input = list(x_input[0, 0, :].numpy())\n",
        "lst_output = []\n",
        "\n",
        "for i in range(30):\n",
        "    if len(temp_input) > 100:\n",
        "        x_input = np.array(temp_input[1:])\n",
        "        x_input = torch.tensor(x_input, dtype=torch.float32).unsqueeze(0).unsqueeze(0)\n",
        "        yhat = model(x_input)\n",
        "        temp_input.extend(yhat[0].detach().numpy().tolist())\n",
        "        temp_input = temp_input[1:]\n",
        "        lst_output.extend(yhat.detach().numpy().tolist())\n",
        "    else:\n",
        "        x_input = x_input.reshape((1, 1, time_step))\n",
        "        yhat = model(x_input)\n",
        "        temp_input.extend(yhat[0].detach().numpy().tolist())\n",
        "        lst_output.extend(yhat.detach().numpy().tolist())\n",
        "\n",
        "lst_output = scaler.inverse_transform(lst_output)"
      ],
      "metadata": {
        "id": "okXcLQcfB4vh"
      },
      "execution_count": 53,
      "outputs": []
    },
    {
      "cell_type": "code",
      "source": [
        "# Vẽ hình\n",
        "plt.figure(figsize=(12, 6))\n",
        "train_data_index = np.arange(0, train_size)\n",
        "plt.plot(train_data_index, scaler.inverse_transform(train_data), label='Train')\n",
        "\n",
        "test_data_index = np.arange(train_size, len(df1))\n",
        "plt.plot(test_data_index, scaler.inverse_transform(test_data), label='Test')\n",
        "\n",
        "pred_data_index = np.arange(train_size + time_step, len(df1) - 1)\n",
        "plt.plot(pred_data_index, test_predict, label='Predict')\n",
        "\n",
        "future_data_index = np.arange(len(df1), len(df1) + 30)\n",
        "plt.plot(future_data_index, lst_output, label='Predict 30 days')\n",
        "\n",
        "plt.legend()\n",
        "plt.show()"
      ],
      "metadata": {
        "colab": {
          "base_uri": "https://localhost:8080/",
          "height": 522
        },
        "id": "Z_S3og4CB4x8",
        "outputId": "54b1b7fa-7aa6-400e-b057-76a15e358dab"
      },
      "execution_count": 54,
      "outputs": [
        {
          "output_type": "display_data",
          "data": {
            "text/plain": [
              "<Figure size 1200x600 with 1 Axes>"
            ],
            "image/png": "[encoded data removed]"
          },
          "metadata": {}
        }
      ]
    }
  ]
}