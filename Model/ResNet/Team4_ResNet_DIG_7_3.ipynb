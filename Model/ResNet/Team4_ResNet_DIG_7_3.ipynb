{
  "nbformat": 4,
  "nbformat_minor": 0,
  "metadata": {
    "colab": {
      "provenance": []
    },
    "kernelspec": {
      "name": "python3",
      "display_name": "Python 3"
    },
    "language_info": {
      "name": "python"
    }
  },
  "cells": [
    {
      "cell_type": "code",
      "execution_count": 20,
      "metadata": {
        "id": "YGidY5DP_tBO"
      },
      "outputs": [],
      "source": [
        "import numpy as np\n",
        "import pandas as pd\n",
        "import matplotlib.pyplot as plt\n",
        "from sklearn.preprocessing import MinMaxScaler\n",
        "import torch\n",
        "import torch.nn as nn\n",
        "from torch.utils.data import DataLoader, Dataset\n",
        "from torch.nn import Module\n",
        "import torch.optim as optim\n"
      ]
    },
    {
      "cell_type": "code",
      "source": [
        "# 2. Đọc file csv và gắng index với giá Close\n",
        "df = pd.read_csv('/content/DIG Historical Data 2018.csv')\n",
        "\n",
        "# Nhận thấy tập dữ liệu, ở cột Price giá tiền có dấu phẩy và đang ở dạng string\n",
        "# Bỏ dấu phẩy\n",
        "df['Price'] = df['Price'].str.replace(',', '')\n",
        "# Chuyển sang dạng số\n",
        "df['Price'] = pd.to_numeric(df['Price'])\n",
        "df = df[::-1]"
      ],
      "metadata": {
        "id": "A-oqH_RI_zVa"
      },
      "execution_count": 21,
      "outputs": []
    },
    {
      "cell_type": "code",
      "source": [
        "df1=df.reset_index()['Price']\n",
        "df1.head()"
      ],
      "metadata": {
        "colab": {
          "base_uri": "https://localhost:8080/"
        },
        "id": "Kda3Av5F_08i",
        "outputId": "7f1212dc-37aa-498b-9294-ac9f8c15f59e"
      },
      "execution_count": 22,
      "outputs": [
        {
          "output_type": "execute_result",
          "data": {
            "text/plain": [
              "0    11033.2\n",
              "1    11457.6\n",
              "2    12094.1\n",
              "3    12094.1\n",
              "4    12200.2\n",
              "Name: Price, dtype: float64"
            ]
          },
          "metadata": {},
          "execution_count": 22
        }
      ]
    },
    {
      "cell_type": "code",
      "source": [
        "df1"
      ],
      "metadata": {
        "colab": {
          "base_uri": "https://localhost:8080/"
        },
        "id": "FdWmEGpp_14b",
        "outputId": "55b1f712-3a4a-4fa2-8ad6-082571bee870"
      },
      "execution_count": 23,
      "outputs": [
        {
          "output_type": "execute_result",
          "data": {
            "text/plain": [
              "0       11033.2\n",
              "1       11457.6\n",
              "2       12094.1\n",
              "3       12094.1\n",
              "4       12200.2\n",
              "         ...   \n",
              "1547    30450.0\n",
              "1548    29900.0\n",
              "1549    30400.0\n",
              "1550    31700.0\n",
              "1551    31950.0\n",
              "Name: Price, Length: 1552, dtype: float64"
            ]
          },
          "metadata": {},
          "execution_count": 23
        }
      ]
    },
    {
      "cell_type": "code",
      "source": [
        "# 3. Scaler data\n",
        "scaler=MinMaxScaler(feature_range=(0,1))\n",
        "df1=scaler.fit_transform(np.array(df1).reshape(-1,1))"
      ],
      "metadata": {
        "id": "VfqyFVDv_18T"
      },
      "execution_count": 24,
      "outputs": []
    },
    {
      "cell_type": "code",
      "source": [
        "# 4. Chia train test\n",
        "train_size = int(0.7 * len(df1))\n",
        "test_size = int(0.3 * len(df1))\n",
        "\n",
        "train_data = df1[:train_size]\n",
        "test_data = df1[train_size:]"
      ],
      "metadata": {
        "id": "pxlZdaG6_1-r"
      },
      "execution_count": 25,
      "outputs": []
    },
    {
      "cell_type": "code",
      "source": [
        "test_size"
      ],
      "metadata": {
        "colab": {
          "base_uri": "https://localhost:8080/"
        },
        "id": "QH7dizUS_2BT",
        "outputId": "c00e6e7c-7798-4d1d-9972-285af71f0232"
      },
      "execution_count": 26,
      "outputs": [
        {
          "output_type": "execute_result",
          "data": {
            "text/plain": [
              "465"
            ]
          },
          "metadata": {},
          "execution_count": 26
        }
      ]
    },
    {
      "cell_type": "code",
      "source": [
        "# 5. Hàm Create Dataset\n",
        "import numpy\n",
        "# convert an array of values into a dataset matrix\n",
        "def create_dataset(dataset, time_step=1):\n",
        "\tdataX, dataY = [], []\n",
        "\tfor i in range(len(dataset)-time_step-1):\n",
        "\t\ta = dataset[i:(i+time_step), 0]   ###i=0, X=0,1,2,3-----99   Y=100\n",
        "\t\tdataX.append(a)\n",
        "\t\tdataY.append(dataset[i + time_step, 0])\n",
        "\treturn numpy.array(dataX), numpy.array(dataY)"
      ],
      "metadata": {
        "id": "v0d5deeY_2Dz"
      },
      "execution_count": 27,
      "outputs": []
    },
    {
      "cell_type": "code",
      "source": [
        "# 6. Reshape into X=t,t+1,t+2..t+99 and Y=t+100\n",
        "time_step = 100\n",
        "X_train, y_train = create_dataset(train_data, time_step)\n",
        "X_test, y_test = create_dataset(test_data, time_step)"
      ],
      "metadata": {
        "id": "5RNsv6HN_2Gb"
      },
      "execution_count": 28,
      "outputs": []
    },
    {
      "cell_type": "code",
      "source": [
        "X_train.shape"
      ],
      "metadata": {
        "colab": {
          "base_uri": "https://localhost:8080/"
        },
        "id": "WB99gI3B_-O1",
        "outputId": "84495b8a-9b7c-42df-ada6-d5e3003da31e"
      },
      "execution_count": 29,
      "outputs": [
        {
          "output_type": "execute_result",
          "data": {
            "text/plain": [
              "(985, 100)"
            ]
          },
          "metadata": {},
          "execution_count": 29
        }
      ]
    },
    {
      "cell_type": "code",
      "source": [
        "# Tạo Dataset cho PyTorch\n",
        "class TimeSeriesDataset(Dataset):\n",
        "    def __init__(self, X, y):\n",
        "        self.X = X\n",
        "        self.y = y\n",
        "\n",
        "    def __len__(self):\n",
        "        return len(self.X)\n",
        "\n",
        "    def __getitem__(self, idx):\n",
        "        return torch.tensor(self.X[idx], dtype=torch.float32).unsqueeze(0), torch.tensor(self.y[idx], dtype=torch.float32)\n",
        "\n",
        "train_dataset = TimeSeriesDataset(X_train, y_train)\n",
        "test_dataset = TimeSeriesDataset(X_test, y_test)\n",
        "\n",
        "train_loader = DataLoader(train_dataset, batch_size=64, shuffle=True)\n",
        "test_loader = DataLoader(test_dataset, batch_size=64, shuffle=False)"
      ],
      "metadata": {
        "id": "T7fp0MMDBvSX"
      },
      "execution_count": 30,
      "outputs": []
    },
    {
      "cell_type": "code",
      "source": [
        "# Định nghĩa mô hình ResNetLSTM\n",
        "class ConvBlock(Module):\n",
        "    def __init__(self, ni, nf, ks, stride=1, act=nn.ReLU, act_kwargs={}):\n",
        "        super().__init__()\n",
        "        self.conv = nn.Conv1d(ni, nf, ks, stride=stride, padding=ks//2)\n",
        "        self.bn = nn.BatchNorm1d(nf)\n",
        "        self.act = act(**act_kwargs) if act is not None else nn.Identity()\n",
        "\n",
        "    def forward(self, x):\n",
        "        return self.act(self.bn(self.conv(x)))\n",
        "\n",
        "class ResBlock(Module):\n",
        "    def __init__(self, ni, nf, kss=[7, 5, 3]):\n",
        "        super().__init__()\n",
        "        self.convblock1 = ConvBlock(ni, nf, kss[0])\n",
        "        self.convblock2 = ConvBlock(nf, nf, kss[1])\n",
        "        self.convblock3 = ConvBlock(nf, nf, kss[2], act=None)\n",
        "\n",
        "        self.shortcut = nn.BatchNorm1d(ni) if ni == nf else ConvBlock(ni, nf, 1, act=None)\n",
        "        self.add = nn.Identity()\n",
        "        self.act = nn.ReLU()\n",
        "\n",
        "    def forward(self, x):\n",
        "        res = x\n",
        "        x = self.convblock1(x)\n",
        "        x = self.convblock2(x)\n",
        "        x = self.convblock3(x)\n",
        "        x = self.add(x + self.shortcut(res))\n",
        "        x = self.act(x)\n",
        "        return x\n",
        "\n",
        "class ResNetLSTM(Module):\n",
        "    def __init__(self, c_in, c_out, lstm_hidden_units=50, num_lstm_layers=1):\n",
        "        super().__init__()\n",
        "        nf = 64\n",
        "        kss = [7, 5, 3]\n",
        "        self.resblock1 = ResBlock(c_in, nf, kss=kss)\n",
        "        self.resblock2 = ResBlock(nf, nf * 2, kss=kss)\n",
        "        self.resblock3 = ResBlock(nf * 2, nf * 2, kss=kss)\n",
        "\n",
        "        self.lstm = nn.LSTM(nf * 2, lstm_hidden_units, num_lstm_layers, batch_first=True)\n",
        "        self.fc = nn.Linear(lstm_hidden_units, c_out)\n",
        "\n",
        "    def forward(self, x):\n",
        "        x = self.resblock1(x)\n",
        "        x = self.resblock2(x)\n",
        "        x = self.resblock3(x)\n",
        "        x = x.transpose(1, 2)  # Transpose for LSTM: (batch, channels, seq_len) -> (batch, seq_len, channels)\n",
        "        x, _ = self.lstm(x)\n",
        "        x = x[:, -1, :]  # Lấy đầu ra của LSTM ở bước thời gian cuối cùng\n",
        "        x = self.fc(x)\n",
        "        return x"
      ],
      "metadata": {
        "id": "wgLl06lnBvUv"
      },
      "execution_count": 31,
      "outputs": []
    },
    {
      "cell_type": "code",
      "source": [
        "# Khởi tạo mô hình\n",
        "model = ResNetLSTM(1, 1)\n",
        "criterion = nn.MSELoss()\n",
        "optimizer = optim.Adam(model.parameters(), lr=0.001)"
      ],
      "metadata": {
        "id": "Ws99DDw2BvXI"
      },
      "execution_count": 32,
      "outputs": []
    },
    {
      "cell_type": "code",
      "source": [
        "# Huấn luyện mô hình\n",
        "num_epochs = 50\n",
        "for epoch in range(num_epochs):\n",
        "    model.train()\n",
        "    for inputs, targets in train_loader:\n",
        "        optimizer.zero_grad()\n",
        "        outputs = model(inputs)\n",
        "        loss = criterion(outputs.squeeze(), targets)\n",
        "        loss.backward()\n",
        "        optimizer.step()\n",
        "\n",
        "    model.eval()\n",
        "    test_loss = 0\n",
        "    with torch.no_grad():\n",
        "        for inputs, targets in test_loader:\n",
        "            outputs = model(inputs)\n",
        "            loss = criterion(outputs.squeeze(), targets)\n",
        "            test_loss += loss.item()\n",
        "\n",
        "    test_loss /= len(test_loader)\n",
        "    print(f'Epoch {epoch + 1}/{num_epochs}, Loss: {loss.item()}, Test Loss: {test_loss}')\n"
      ],
      "metadata": {
        "colab": {
          "base_uri": "https://localhost:8080/"
        },
        "id": "5TEsKECfBvZv",
        "outputId": "5f004e39-ed42-4bde-c3e6-3cfd23b64759"
      },
      "execution_count": 33,
      "outputs": [
        {
          "output_type": "stream",
          "name": "stdout",
          "text": [
            "Epoch 1/50, Loss: 0.0453488714993, Test Loss: 0.0256903066765517\n",
            "Epoch 2/50, Loss: 0.02687290497124195, Test Loss: 0.012547200550519241\n",
            "Epoch 3/50, Loss: 0.010638216510415077, Test Loss: 0.005503462748796058\n",
            "Epoch 4/50, Loss: 0.005552771966904402, Test Loss: 0.0022503589619494355\n",
            "Epoch 5/50, Loss: 0.0018352560000494123, Test Loss: 0.0008925624376085276\n",
            "Epoch 6/50, Loss: 4.9104193749371916e-05, Test Loss: 0.00023087728307776464\n",
            "Epoch 7/50, Loss: 0.00010897422180278227, Test Loss: 0.00015789514509378932\n",
            "Epoch 8/50, Loss: 0.00012600157060660422, Test Loss: 0.00025952519111645717\n",
            "Epoch 9/50, Loss: 0.00010441966878715903, Test Loss: 0.00022166538716798337\n",
            "Epoch 10/50, Loss: 0.00036855641519650817, Test Loss: 0.00023455060727428645\n",
            "Epoch 11/50, Loss: 0.00012236706970725209, Test Loss: 0.0001889753996996054\n",
            "Epoch 12/50, Loss: 0.0002010067692026496, Test Loss: 0.00019217084506332563\n",
            "Epoch 13/50, Loss: 5.837513890583068e-05, Test Loss: 9.954504639608786e-05\n",
            "Epoch 14/50, Loss: 0.00011313996219541878, Test Loss: 0.00013231314308844352\n",
            "Epoch 15/50, Loss: 0.00014836780610494316, Test Loss: 0.00019405884571218243\n",
            "Epoch 16/50, Loss: 0.00016878983296919614, Test Loss: 0.00017489725238798806\n",
            "Epoch 17/50, Loss: 0.00011419322981964797, Test Loss: 0.00015093470089292774\n",
            "Epoch 18/50, Loss: 0.00014127299073152244, Test Loss: 0.00015375114041186558\n",
            "Epoch 19/50, Loss: 0.0004976960481144488, Test Loss: 0.000262571636994835\n",
            "Epoch 20/50, Loss: 3.5464421671349555e-05, Test Loss: 9.689806453631415e-05\n",
            "Epoch 21/50, Loss: 3.634525273810141e-05, Test Loss: 8.040180243066668e-05\n",
            "Epoch 22/50, Loss: 7.602362165926024e-05, Test Loss: 8.932522056663099e-05\n",
            "Epoch 23/50, Loss: 0.00015101376629900187, Test Loss: 0.0001233063145870498\n",
            "Epoch 24/50, Loss: 0.00032415776513516903, Test Loss: 0.00022230682467731336\n",
            "Epoch 25/50, Loss: 0.0002903208660427481, Test Loss: 0.00019233530171428961\n",
            "Epoch 26/50, Loss: 8.38386476971209e-05, Test Loss: 0.00011025283917357835\n",
            "Epoch 27/50, Loss: 3.397586988285184e-05, Test Loss: 8.820041693979874e-05\n",
            "Epoch 28/50, Loss: 0.0001872681314125657, Test Loss: 0.00012898395167818913\n",
            "Epoch 29/50, Loss: 0.00038166370359249413, Test Loss: 0.0002361869701417163\n",
            "Epoch 30/50, Loss: 4.4492760935099795e-05, Test Loss: 8.959742626757361e-05\n",
            "Epoch 31/50, Loss: 4.669996997108683e-05, Test Loss: 8.33320700621698e-05\n",
            "Epoch 32/50, Loss: 5.720146873500198e-05, Test Loss: 0.00012732296454487368\n",
            "Epoch 33/50, Loss: 0.00010566150740487501, Test Loss: 9.336938395184309e-05\n",
            "Epoch 34/50, Loss: 7.284306775545701e-05, Test Loss: 0.00010684483034613852\n",
            "Epoch 35/50, Loss: 0.00015844835434108973, Test Loss: 0.0001188116966659436\n",
            "Epoch 36/50, Loss: 0.00030980815063230693, Test Loss: 0.0002492849695651482\n",
            "Epoch 37/50, Loss: 0.0012918817810714245, Test Loss: 0.0005681997305752399\n",
            "Epoch 38/50, Loss: 0.0003330326289869845, Test Loss: 0.0005530242536527415\n",
            "Epoch 39/50, Loss: 0.002272628480568528, Test Loss: 0.001109101244461878\n",
            "Epoch 40/50, Loss: 0.0005002740072086453, Test Loss: 0.00029590905614895746\n",
            "Epoch 41/50, Loss: 0.0007248850306496024, Test Loss: 0.00035164301759020117\n",
            "Epoch 42/50, Loss: 0.0003123442002106458, Test Loss: 0.0002087731906309879\n",
            "Epoch 43/50, Loss: 0.00012081910244887695, Test Loss: 0.00013829278395860456\n",
            "Epoch 44/50, Loss: 9.429099009139463e-05, Test Loss: 0.00011360724117063607\n",
            "Epoch 45/50, Loss: 0.00010207581362919882, Test Loss: 0.00012799398124722453\n",
            "Epoch 46/50, Loss: 3.374925290700048e-05, Test Loss: 0.000149112893268466\n",
            "Epoch 47/50, Loss: 0.0004189401806797832, Test Loss: 0.0003097418545318457\n",
            "Epoch 48/50, Loss: 6.673202005913481e-05, Test Loss: 0.00011166521289851516\n",
            "Epoch 49/50, Loss: 8.101457933662459e-05, Test Loss: 0.00012879804489784874\n",
            "Epoch 50/50, Loss: 5.009488813811913e-05, Test Loss: 0.00011387625878948408\n"
          ]
        }
      ]
    },
    {
      "cell_type": "code",
      "source": [
        "# Dự báo dữ liệu test\n",
        "model.eval()\n",
        "train_predict = []\n",
        "with torch.no_grad():\n",
        "    for inputs, _ in train_loader:\n",
        "        outputs = model(inputs)\n",
        "        train_predict.extend(outputs.squeeze().numpy())\n",
        "\n",
        "test_predict = []\n",
        "with torch.no_grad():\n",
        "    for inputs, _ in test_loader:\n",
        "        outputs = model(inputs)\n",
        "        test_predict.extend(outputs.squeeze().numpy())\n",
        "\n",
        "train_predict = scaler.inverse_transform(np.array(train_predict).reshape(-1, 1))\n",
        "test_predict = scaler.inverse_transform(np.array(test_predict).reshape(-1, 1))"
      ],
      "metadata": {
        "id": "JibGgPppB4sI"
      },
      "execution_count": 34,
      "outputs": []
    },
    {
      "cell_type": "code",
      "source": [
        "# Dự báo 30 ngày tiếp theo\n",
        "model.eval()\n",
        "x_input = test_data[-100:].reshape(1, -1)\n",
        "x_input = torch.tensor(x_input, dtype=torch.float32).unsqueeze(0)\n",
        "temp_input = list(x_input[0, 0, :].numpy())\n",
        "lst_output = []\n",
        "\n",
        "for i in range(30):\n",
        "    if len(temp_input) > 100:\n",
        "        x_input = np.array(temp_input[1:])\n",
        "        x_input = torch.tensor(x_input, dtype=torch.float32).unsqueeze(0).unsqueeze(0)\n",
        "        yhat = model(x_input)\n",
        "        temp_input.extend(yhat[0].detach().numpy().tolist())\n",
        "        temp_input = temp_input[1:]\n",
        "        lst_output.extend(yhat.detach().numpy().tolist())\n",
        "    else:\n",
        "        x_input = x_input.reshape((1, 1, time_step))\n",
        "        yhat = model(x_input)\n",
        "        temp_input.extend(yhat[0].detach().numpy().tolist())\n",
        "        lst_output.extend(yhat.detach().numpy().tolist())\n",
        "\n",
        "lst_output = scaler.inverse_transform(lst_output)"
      ],
      "metadata": {
        "id": "okXcLQcfB4vh"
      },
      "execution_count": 35,
      "outputs": []
    },
    {
      "cell_type": "code",
      "source": [
        "# Vẽ hình\n",
        "plt.figure(figsize=(12, 6))\n",
        "train_data_index = np.arange(0, train_size)\n",
        "plt.plot(train_data_index, scaler.inverse_transform(train_data), label='Train')\n",
        "\n",
        "test_data_index = np.arange(train_size, len(df1))\n",
        "plt.plot(test_data_index, scaler.inverse_transform(test_data), label='Test')\n",
        "\n",
        "pred_data_index = np.arange(train_size + time_step, len(df1) - 1)\n",
        "plt.plot(pred_data_index, test_predict, label='Predict')\n",
        "\n",
        "future_data_index = np.arange(len(df1), len(df1) + 30)\n",
        "plt.plot(future_data_index, lst_output, label='Predict 30 days')\n",
        "\n",
        "plt.legend()\n",
        "plt.show()"
      ],
      "metadata": {
        "colab": {
          "base_uri": "https://localhost:8080/",
          "height": 522
        },
        "id": "Z_S3og4CB4x8",
        "outputId": "b4b5552c-654d-45a5-dd16-e6de7602e51d"
      },
      "execution_count": 36,
      "outputs": [
        {
          "output_type": "display_data",
          "data": {
            "text/plain": [
              "<Figure size 1200x600 with 1 Axes>"
            ],
            "image/png": "[encoded data removed]"
          },
          "metadata": {}
        }
      ]
    }
  ]
}