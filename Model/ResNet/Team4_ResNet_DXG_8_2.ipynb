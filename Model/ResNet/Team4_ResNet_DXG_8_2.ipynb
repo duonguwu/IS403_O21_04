{
  "nbformat": 4,
  "nbformat_minor": 0,
  "metadata": {
    "colab": {
      "provenance": []
    },
    "kernelspec": {
      "name": "python3",
      "display_name": "Python 3"
    },
    "language_info": {
      "name": "python"
    }
  },
  "cells": [
    {
      "cell_type": "code",
      "execution_count": 34,
      "metadata": {
        "id": "YGidY5DP_tBO"
      },
      "outputs": [],
      "source": [
        "import numpy as np\n",
        "import pandas as pd\n",
        "import matplotlib.pyplot as plt\n",
        "from sklearn.preprocessing import MinMaxScaler\n",
        "import torch\n",
        "import torch.nn as nn\n",
        "from torch.utils.data import DataLoader, Dataset\n",
        "from torch.nn import Module\n",
        "import torch.optim as optim\n"
      ]
    },
    {
      "cell_type": "code",
      "source": [
        "# 2. Đọc file csv và gắng index với giá Close\n",
        "df = pd.read_csv('/content/DXG Historical Data 2018.csv')\n",
        "\n",
        "# Nhận thấy tập dữ liệu, ở cột Price giá tiền có dấu phẩy và đang ở dạng string\n",
        "# Bỏ dấu phẩy\n",
        "df['Price'] = df['Price'].str.replace(',', '')\n",
        "# Chuyển sang dạng số\n",
        "df['Price'] = pd.to_numeric(df['Price'])\n",
        "df = df[::-1]"
      ],
      "metadata": {
        "id": "A-oqH_RI_zVa"
      },
      "execution_count": 35,
      "outputs": []
    },
    {
      "cell_type": "code",
      "source": [
        "df1=df.reset_index()['Price']\n",
        "df1.head()"
      ],
      "metadata": {
        "colab": {
          "base_uri": "https://localhost:8080/"
        },
        "id": "Kda3Av5F_08i",
        "outputId": "40110aee-d604-40db-9d52-9583f354adce"
      },
      "execution_count": 36,
      "outputs": [
        {
          "output_type": "execute_result",
          "data": {
            "text/plain": [
              "0    13401.4\n",
              "1    13371.1\n",
              "2    13522.4\n",
              "3    13159.4\n",
              "4    14066.9\n",
              "Name: Price, dtype: float64"
            ]
          },
          "metadata": {},
          "execution_count": 36
        }
      ]
    },
    {
      "cell_type": "code",
      "source": [
        "df1"
      ],
      "metadata": {
        "colab": {
          "base_uri": "https://localhost:8080/"
        },
        "id": "FdWmEGpp_14b",
        "outputId": "587cb62e-6429-4d59-98d0-b63a0271cdbb"
      },
      "execution_count": 37,
      "outputs": [
        {
          "output_type": "execute_result",
          "data": {
            "text/plain": [
              "0       13401.4\n",
              "1       13371.1\n",
              "2       13522.4\n",
              "3       13159.4\n",
              "4       14066.9\n",
              "         ...   \n",
              "1547    19000.0\n",
              "1548    18500.0\n",
              "1549    18750.0\n",
              "1550    19500.0\n",
              "1551    19850.0\n",
              "Name: Price, Length: 1552, dtype: float64"
            ]
          },
          "metadata": {},
          "execution_count": 37
        }
      ]
    },
    {
      "cell_type": "code",
      "source": [
        "# 3. Scaler data\n",
        "scaler=MinMaxScaler(feature_range=(0,1))\n",
        "df1=scaler.fit_transform(np.array(df1).reshape(-1,1))"
      ],
      "metadata": {
        "id": "VfqyFVDv_18T"
      },
      "execution_count": 38,
      "outputs": []
    },
    {
      "cell_type": "code",
      "source": [
        "# 4. Chia train test\n",
        "train_size = int(0.8 * len(df1))\n",
        "test_size = int(0.2 * len(df1))\n",
        "\n",
        "train_data = df1[:train_size]\n",
        "test_data = df1[train_size:]"
      ],
      "metadata": {
        "id": "pxlZdaG6_1-r"
      },
      "execution_count": 39,
      "outputs": []
    },
    {
      "cell_type": "code",
      "source": [
        "test_size"
      ],
      "metadata": {
        "colab": {
          "base_uri": "https://localhost:8080/"
        },
        "id": "QH7dizUS_2BT",
        "outputId": "2bd8cc19-bd66-4ec2-f00a-7920479af089"
      },
      "execution_count": 40,
      "outputs": [
        {
          "output_type": "execute_result",
          "data": {
            "text/plain": [
              "310"
            ]
          },
          "metadata": {},
          "execution_count": 40
        }
      ]
    },
    {
      "cell_type": "code",
      "source": [
        "# 5. Hàm Create Dataset\n",
        "import numpy\n",
        "# convert an array of values into a dataset matrix\n",
        "def create_dataset(dataset, time_step=1):\n",
        "\tdataX, dataY = [], []\n",
        "\tfor i in range(len(dataset)-time_step-1):\n",
        "\t\ta = dataset[i:(i+time_step), 0]   ###i=0, X=0,1,2,3-----99   Y=100\n",
        "\t\tdataX.append(a)\n",
        "\t\tdataY.append(dataset[i + time_step, 0])\n",
        "\treturn numpy.array(dataX), numpy.array(dataY)"
      ],
      "metadata": {
        "id": "v0d5deeY_2Dz"
      },
      "execution_count": 41,
      "outputs": []
    },
    {
      "cell_type": "code",
      "source": [
        "# 6. Reshape into X=t,t+1,t+2..t+99 and Y=t+100\n",
        "time_step = 100\n",
        "X_train, y_train = create_dataset(train_data, time_step)\n",
        "X_test, y_test = create_dataset(test_data, time_step)"
      ],
      "metadata": {
        "id": "5RNsv6HN_2Gb"
      },
      "execution_count": 42,
      "outputs": []
    },
    {
      "cell_type": "code",
      "source": [
        "X_train.shape"
      ],
      "metadata": {
        "id": "WB99gI3B_-O1",
        "colab": {
          "base_uri": "https://localhost:8080/"
        },
        "outputId": "b0ddfaed-2659-4ef8-f066-9c42ff346649"
      },
      "execution_count": 43,
      "outputs": [
        {
          "output_type": "execute_result",
          "data": {
            "text/plain": [
              "(1140, 100)"
            ]
          },
          "metadata": {},
          "execution_count": 43
        }
      ]
    },
    {
      "cell_type": "code",
      "source": [
        "# Tạo Dataset cho PyTorch\n",
        "class TimeSeriesDataset(Dataset):\n",
        "    def __init__(self, X, y):\n",
        "        self.X = X\n",
        "        self.y = y\n",
        "\n",
        "    def __len__(self):\n",
        "        return len(self.X)\n",
        "\n",
        "    def __getitem__(self, idx):\n",
        "        return torch.tensor(self.X[idx], dtype=torch.float32).unsqueeze(0), torch.tensor(self.y[idx], dtype=torch.float32)\n",
        "\n",
        "train_dataset = TimeSeriesDataset(X_train, y_train)\n",
        "test_dataset = TimeSeriesDataset(X_test, y_test)\n",
        "\n",
        "train_loader = DataLoader(train_dataset, batch_size=64, shuffle=True)\n",
        "test_loader = DataLoader(test_dataset, batch_size=64, shuffle=False)"
      ],
      "metadata": {
        "id": "T7fp0MMDBvSX"
      },
      "execution_count": 44,
      "outputs": []
    },
    {
      "cell_type": "code",
      "source": [
        "# Định nghĩa mô hình ResNetLSTM\n",
        "class ConvBlock(Module):\n",
        "    def __init__(self, ni, nf, ks, stride=1, act=nn.ReLU, act_kwargs={}):\n",
        "        super().__init__()\n",
        "        self.conv = nn.Conv1d(ni, nf, ks, stride=stride, padding=ks//2)\n",
        "        self.bn = nn.BatchNorm1d(nf)\n",
        "        self.act = act(**act_kwargs) if act is not None else nn.Identity()\n",
        "\n",
        "    def forward(self, x):\n",
        "        return self.act(self.bn(self.conv(x)))\n",
        "\n",
        "class ResBlock(Module):\n",
        "    def __init__(self, ni, nf, kss=[7, 5, 3]):\n",
        "        super().__init__()\n",
        "        self.convblock1 = ConvBlock(ni, nf, kss[0])\n",
        "        self.convblock2 = ConvBlock(nf, nf, kss[1])\n",
        "        self.convblock3 = ConvBlock(nf, nf, kss[2], act=None)\n",
        "\n",
        "        self.shortcut = nn.BatchNorm1d(ni) if ni == nf else ConvBlock(ni, nf, 1, act=None)\n",
        "        self.add = nn.Identity()\n",
        "        self.act = nn.ReLU()\n",
        "\n",
        "    def forward(self, x):\n",
        "        res = x\n",
        "        x = self.convblock1(x)\n",
        "        x = self.convblock2(x)\n",
        "        x = self.convblock3(x)\n",
        "        x = self.add(x + self.shortcut(res))\n",
        "        x = self.act(x)\n",
        "        return x\n",
        "\n",
        "class ResNetLSTM(Module):\n",
        "    def __init__(self, c_in, c_out, lstm_hidden_units=50, num_lstm_layers=1):\n",
        "        super().__init__()\n",
        "        nf = 64\n",
        "        kss = [7, 5, 3]\n",
        "        self.resblock1 = ResBlock(c_in, nf, kss=kss)\n",
        "        self.resblock2 = ResBlock(nf, nf * 2, kss=kss)\n",
        "        self.resblock3 = ResBlock(nf * 2, nf * 2, kss=kss)\n",
        "\n",
        "        self.lstm = nn.LSTM(nf * 2, lstm_hidden_units, num_lstm_layers, batch_first=True)\n",
        "        self.fc = nn.Linear(lstm_hidden_units, c_out)\n",
        "\n",
        "    def forward(self, x):\n",
        "        x = self.resblock1(x)\n",
        "        x = self.resblock2(x)\n",
        "        x = self.resblock3(x)\n",
        "        x = x.transpose(1, 2)  # Transpose for LSTM: (batch, channels, seq_len) -> (batch, seq_len, channels)\n",
        "        x, _ = self.lstm(x)\n",
        "        x = x[:, -1, :]  # Lấy đầu ra của LSTM ở bước thời gian cuối cùng\n",
        "        x = self.fc(x)\n",
        "        return x"
      ],
      "metadata": {
        "id": "wgLl06lnBvUv"
      },
      "execution_count": 45,
      "outputs": []
    },
    {
      "cell_type": "code",
      "source": [
        "# Khởi tạo mô hình\n",
        "model = ResNetLSTM(1, 1)\n",
        "criterion = nn.MSELoss()\n",
        "optimizer = optim.Adam(model.parameters(), lr=0.001)"
      ],
      "metadata": {
        "id": "Ws99DDw2BvXI"
      },
      "execution_count": 46,
      "outputs": []
    },
    {
      "cell_type": "code",
      "source": [
        "# Huấn luyện mô hình\n",
        "num_epochs = 60\n",
        "for epoch in range(num_epochs):\n",
        "    model.train()\n",
        "    for inputs, targets in train_loader:\n",
        "        optimizer.zero_grad()\n",
        "        outputs = model(inputs)\n",
        "        loss = criterion(outputs.squeeze(), targets)\n",
        "        loss.backward()\n",
        "        optimizer.step()\n",
        "\n",
        "    model.eval()\n",
        "    test_loss = 0\n",
        "    with torch.no_grad():\n",
        "        for inputs, targets in test_loader:\n",
        "            outputs = model(inputs)\n",
        "            loss = criterion(outputs.squeeze(), targets)\n",
        "            test_loss += loss.item()\n",
        "\n",
        "    test_loss /= len(test_loader)\n",
        "    print(f'Epoch {epoch + 1}/{num_epochs}, Loss: {loss.item()}, Test Loss: {test_loss}')\n"
      ],
      "metadata": {
        "colab": {
          "base_uri": "https://localhost:8080/"
        },
        "id": "5TEsKECfBvZv",
        "outputId": "f1a27bd6-32ad-4435-ceba-8aa72225129a"
      },
      "execution_count": 47,
      "outputs": [
        {
          "output_type": "stream",
          "name": "stdout",
          "text": [
            "Epoch 1/60, Loss: 0.004770345985889435, Test Loss: 0.006108089699409902\n",
            "Epoch 2/60, Loss: 0.021613407880067825, Test Loss: 0.021373452618718147\n",
            "Epoch 3/60, Loss: 0.005480647087097168, Test Loss: 0.005444779526442289\n",
            "Epoch 4/60, Loss: 0.0016252263449132442, Test Loss: 0.0014492428163066506\n",
            "Epoch 5/60, Loss: 0.0003733876219484955, Test Loss: 0.00037937638262519613\n",
            "Epoch 6/60, Loss: 0.00043684145202860236, Test Loss: 0.00045684570795856416\n",
            "Epoch 7/60, Loss: 0.00011012136383214965, Test Loss: 0.00020659750407503452\n",
            "Epoch 8/60, Loss: 0.0001433906436432153, Test Loss: 0.00022536568212672137\n",
            "Epoch 9/60, Loss: 0.0002623911714181304, Test Loss: 0.0003210603608749807\n",
            "Epoch 10/60, Loss: 0.00011377001646906137, Test Loss: 0.0002096847238135524\n",
            "Epoch 11/60, Loss: 0.00010254322114633396, Test Loss: 0.00018571168584458064\n",
            "Epoch 12/60, Loss: 0.00010990334703819826, Test Loss: 0.00018121660832548514\n",
            "Epoch 13/60, Loss: 0.0003006009792443365, Test Loss: 0.00032264014589600265\n",
            "Epoch 14/60, Loss: 0.0001010931737255305, Test Loss: 0.00017679468692222144\n",
            "Epoch 15/60, Loss: 0.00010504131932975724, Test Loss: 0.00017785400814318564\n",
            "Epoch 16/60, Loss: 0.00010065073729492724, Test Loss: 0.00017567063878232148\n",
            "Epoch 17/60, Loss: 0.00010502265649847686, Test Loss: 0.00016810760280350223\n",
            "Epoch 18/60, Loss: 0.0009672378655523062, Test Loss: 0.0008539194095646963\n",
            "Epoch 19/60, Loss: 9.135566506301984e-05, Test Loss: 0.0001721735497994814\n",
            "Epoch 20/60, Loss: 0.0003571213746909052, Test Loss: 0.0004051392388646491\n",
            "Epoch 21/60, Loss: 0.00011429270671214908, Test Loss: 0.00020055218192283064\n",
            "Epoch 22/60, Loss: 0.0001516514748800546, Test Loss: 0.00023859286920924205\n",
            "Epoch 23/60, Loss: 0.0001009600528050214, Test Loss: 0.00017645273874222767\n",
            "Epoch 24/60, Loss: 0.0002589552022982389, Test Loss: 0.00031932793353917077\n",
            "Epoch 25/60, Loss: 0.00011085108417319134, Test Loss: 0.0002187320696975803\n",
            "Epoch 26/60, Loss: 0.00010358462895965204, Test Loss: 0.0001932580544234952\n",
            "Epoch 27/60, Loss: 9.330838656751439e-05, Test Loss: 0.00016302948824886698\n",
            "Epoch 28/60, Loss: 0.00010814744018716738, Test Loss: 0.0001781126411515288\n",
            "Epoch 29/60, Loss: 0.00018767187430057675, Test Loss: 0.00023485194105887786\n",
            "Epoch 30/60, Loss: 9.561578190186992e-05, Test Loss: 0.00016477390818181448\n",
            "Epoch 31/60, Loss: 0.00016038105241023004, Test Loss: 0.00022376851484295912\n",
            "Epoch 32/60, Loss: 0.00010707747424021363, Test Loss: 0.0001699077220109757\n",
            "Epoch 33/60, Loss: 0.00011541767162270844, Test Loss: 0.0001879606679722201\n",
            "Epoch 34/60, Loss: 9.452988160774112e-05, Test Loss: 0.00016127523485920392\n",
            "Epoch 35/60, Loss: 9.879681601887569e-05, Test Loss: 0.00016310597129631788\n",
            "Epoch 36/60, Loss: 9.530781244393438e-05, Test Loss: 0.00017193215899169445\n",
            "Epoch 37/60, Loss: 0.00036613669362850487, Test Loss: 0.0003617724942159839\n",
            "Epoch 38/60, Loss: 0.00017093458154704422, Test Loss: 0.00023339943982136901\n",
            "Epoch 39/60, Loss: 0.00013527182454708964, Test Loss: 0.00018964575610880274\n",
            "Epoch 40/60, Loss: 0.0001030357598210685, Test Loss: 0.00017256041792279575\n",
            "Epoch 41/60, Loss: 0.00013721149298362434, Test Loss: 0.00020262604448362254\n",
            "Epoch 42/60, Loss: 9.730368765303865e-05, Test Loss: 0.0001867665287136333\n",
            "Epoch 43/60, Loss: 0.0001005381636787206, Test Loss: 0.00016884154138097074\n",
            "Epoch 44/60, Loss: 0.00015877386613283306, Test Loss: 0.00021423397629405372\n",
            "Epoch 45/60, Loss: 9.655215399106964e-05, Test Loss: 0.0001623462521820329\n",
            "Epoch 46/60, Loss: 0.000260416476521641, Test Loss: 0.0002804532559821382\n",
            "Epoch 47/60, Loss: 0.0001287412305828184, Test Loss: 0.00019105976389255375\n",
            "Epoch 48/60, Loss: 0.00010013102291850373, Test Loss: 0.00016253068679361604\n",
            "Epoch 49/60, Loss: 9.394720109412447e-05, Test Loss: 0.00016111103832372464\n",
            "Epoch 50/60, Loss: 0.000250360113568604, Test Loss: 0.0002720541633607354\n",
            "Epoch 51/60, Loss: 9.70427063293755e-05, Test Loss: 0.0001653682702453807\n",
            "Epoch 52/60, Loss: 0.00010929492418654263, Test Loss: 0.0001737192906148266\n",
            "Epoch 53/60, Loss: 9.920461161527783e-05, Test Loss: 0.00016079431770776864\n",
            "Epoch 54/60, Loss: 0.0001007050450425595, Test Loss: 0.00016369545301131438\n",
            "Epoch 55/60, Loss: 0.0002565585309639573, Test Loss: 0.00031089826734387316\n",
            "Epoch 56/60, Loss: 0.00019982892263215035, Test Loss: 0.00025247027588193305\n",
            "Epoch 57/60, Loss: 0.00010552891762927175, Test Loss: 0.00017593121992831584\n",
            "Epoch 58/60, Loss: 0.0002554251695983112, Test Loss: 0.00029907549105701037\n",
            "Epoch 59/60, Loss: 9.836028766585514e-05, Test Loss: 0.00017109571672335733\n",
            "Epoch 60/60, Loss: 0.0001984265836654231, Test Loss: 0.00028178577485959977\n"
          ]
        }
      ]
    },
    {
      "cell_type": "code",
      "source": [
        "# Dự báo dữ liệu test\n",
        "model.eval()\n",
        "train_predict = []\n",
        "with torch.no_grad():\n",
        "    for inputs, _ in train_loader:\n",
        "        outputs = model(inputs)\n",
        "        train_predict.extend(outputs.squeeze().numpy())\n",
        "\n",
        "test_predict = []\n",
        "with torch.no_grad():\n",
        "    for inputs, _ in test_loader:\n",
        "        outputs = model(inputs)\n",
        "        test_predict.extend(outputs.squeeze().numpy())\n",
        "\n",
        "train_predict = scaler.inverse_transform(np.array(train_predict).reshape(-1, 1))\n",
        "test_predict = scaler.inverse_transform(np.array(test_predict).reshape(-1, 1))"
      ],
      "metadata": {
        "id": "JibGgPppB4sI"
      },
      "execution_count": 48,
      "outputs": []
    },
    {
      "cell_type": "code",
      "source": [
        "# Dự báo 30 ngày tiếp theo\n",
        "model.eval()\n",
        "x_input = test_data[-100:].reshape(1, -1)\n",
        "x_input = torch.tensor(x_input, dtype=torch.float32).unsqueeze(0)\n",
        "temp_input = list(x_input[0, 0, :].numpy())\n",
        "lst_output = []\n",
        "\n",
        "for i in range(30):\n",
        "    if len(temp_input) > 100:\n",
        "        x_input = np.array(temp_input[1:])\n",
        "        x_input = torch.tensor(x_input, dtype=torch.float32).unsqueeze(0).unsqueeze(0)\n",
        "        yhat = model(x_input)\n",
        "        temp_input.extend(yhat[0].detach().numpy().tolist())\n",
        "        temp_input = temp_input[1:]\n",
        "        lst_output.extend(yhat.detach().numpy().tolist())\n",
        "    else:\n",
        "        x_input = x_input.reshape((1, 1, time_step))\n",
        "        yhat = model(x_input)\n",
        "        temp_input.extend(yhat[0].detach().numpy().tolist())\n",
        "        lst_output.extend(yhat.detach().numpy().tolist())\n",
        "\n",
        "lst_output = scaler.inverse_transform(lst_output)"
      ],
      "metadata": {
        "id": "okXcLQcfB4vh"
      },
      "execution_count": 49,
      "outputs": []
    },
    {
      "cell_type": "code",
      "source": [
        "# Vẽ hình\n",
        "plt.figure(figsize=(12, 6))\n",
        "train_data_index = np.arange(0, train_size)\n",
        "plt.plot(train_data_index, scaler.inverse_transform(train_data), label='Train')\n",
        "\n",
        "test_data_index = np.arange(train_size, len(df1))\n",
        "plt.plot(test_data_index, scaler.inverse_transform(test_data), label='Test')\n",
        "\n",
        "pred_data_index = np.arange(train_size + time_step, len(df1) - 1)\n",
        "plt.plot(pred_data_index, test_predict, label='Predict')\n",
        "\n",
        "future_data_index = np.arange(len(df1), len(df1) + 30)\n",
        "plt.plot(future_data_index, lst_output, label='Predict 30 days')\n",
        "\n",
        "plt.legend()\n",
        "plt.show()"
      ],
      "metadata": {
        "colab": {
          "base_uri": "https://localhost:8080/",
          "height": 522
        },
        "id": "Z_S3og4CB4x8",
        "outputId": "0ccc23b8-6674-4739-d1b2-3bcb22bf4e71"
      },
      "execution_count": 50,
      "outputs": [
        {
          "output_type": "display_data",
          "data": {
            "text/plain": [
              "<Figure size 1200x600 with 1 Axes>"
            ],
            "image/png": "[encoded data removed]"
          },
          "metadata": {}
        }
      ]
    }
  ]
}