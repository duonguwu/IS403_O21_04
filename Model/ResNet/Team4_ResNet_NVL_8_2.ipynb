{
  "nbformat": 4,
  "nbformat_minor": 0,
  "metadata": {
    "colab": {
      "provenance": []
    },
    "kernelspec": {
      "name": "python3",
      "display_name": "Python 3"
    },
    "language_info": {
      "name": "python"
    }
  },
  "cells": [
    {
      "cell_type": "code",
      "execution_count": 1,
      "metadata": {
        "id": "YGidY5DP_tBO"
      },
      "outputs": [],
      "source": [
        "import numpy as np\n",
        "import pandas as pd\n",
        "import matplotlib.pyplot as plt\n",
        "from sklearn.preprocessing import MinMaxScaler\n",
        "import torch\n",
        "import torch.nn as nn\n",
        "from torch.utils.data import DataLoader, Dataset\n",
        "from torch.nn import Module\n",
        "import torch.optim as optim\n"
      ]
    },
    {
      "cell_type": "code",
      "source": [
        "# 2. Đọc file csv và gắng index với giá Close\n",
        "df = pd.read_csv('/content/NVL Historical Data 2018.csv')\n",
        "\n",
        "# Nhận thấy tập dữ liệu, ở cột Price giá tiền có dấu phẩy và đang ở dạng string\n",
        "# Bỏ dấu phẩy\n",
        "df['Price'] = df['Price'].str.replace(',', '')\n",
        "# Chuyển sang dạng số\n",
        "df['Price'] = pd.to_numeric(df['Price'])\n",
        "df = df[::-1]"
      ],
      "metadata": {
        "id": "A-oqH_RI_zVa"
      },
      "execution_count": 2,
      "outputs": []
    },
    {
      "cell_type": "code",
      "source": [
        "df1=df.reset_index()['Price']\n",
        "df1.head()"
      ],
      "metadata": {
        "colab": {
          "base_uri": "https://localhost:8080/"
        },
        "id": "Kda3Av5F_08i",
        "outputId": "af5e5b70-bf43-4821-92df-33e058a7d9e0"
      },
      "execution_count": 3,
      "outputs": [
        {
          "output_type": "execute_result",
          "data": {
            "text/plain": [
              "0    27815\n",
              "1    28410\n",
              "2    28707\n",
              "3    28962\n",
              "4    29556\n",
              "Name: Price, dtype: int64"
            ]
          },
          "metadata": {},
          "execution_count": 3
        }
      ]
    },
    {
      "cell_type": "code",
      "source": [
        "df1"
      ],
      "metadata": {
        "colab": {
          "base_uri": "https://localhost:8080/"
        },
        "id": "FdWmEGpp_14b",
        "outputId": "869cbf7c-cffe-41b7-fb31-8da4b70b84b2"
      },
      "execution_count": 4,
      "outputs": [
        {
          "output_type": "execute_result",
          "data": {
            "text/plain": [
              "0       27815\n",
              "1       28410\n",
              "2       28707\n",
              "3       28962\n",
              "4       29556\n",
              "        ...  \n",
              "1547    16700\n",
              "1548    16500\n",
              "1549    16550\n",
              "1550    17100\n",
              "1551    17100\n",
              "Name: Price, Length: 1552, dtype: int64"
            ]
          },
          "metadata": {},
          "execution_count": 4
        }
      ]
    },
    {
      "cell_type": "code",
      "source": [
        "# 3. Scaler data\n",
        "scaler=MinMaxScaler(feature_range=(0,1))\n",
        "df1=scaler.fit_transform(np.array(df1).reshape(-1,1))"
      ],
      "metadata": {
        "id": "VfqyFVDv_18T"
      },
      "execution_count": 5,
      "outputs": []
    },
    {
      "cell_type": "code",
      "source": [
        "# 4. Chia train test\n",
        "train_size = int(0.8 * len(df1))\n",
        "test_size = int(0.2 * len(df1))\n",
        "\n",
        "train_data = df1[:train_size]\n",
        "test_data = df1[train_size:]"
      ],
      "metadata": {
        "id": "pxlZdaG6_1-r"
      },
      "execution_count": 6,
      "outputs": []
    },
    {
      "cell_type": "code",
      "source": [
        "test_size"
      ],
      "metadata": {
        "colab": {
          "base_uri": "https://localhost:8080/"
        },
        "id": "QH7dizUS_2BT",
        "outputId": "1e41d446-2a6a-4b11-c7b6-9607b388156c"
      },
      "execution_count": 7,
      "outputs": [
        {
          "output_type": "execute_result",
          "data": {
            "text/plain": [
              "310"
            ]
          },
          "metadata": {},
          "execution_count": 7
        }
      ]
    },
    {
      "cell_type": "code",
      "source": [
        "# 5. Hàm Create Dataset\n",
        "import numpy\n",
        "# convert an array of values into a dataset matrix\n",
        "def create_dataset(dataset, time_step=1):\n",
        "\tdataX, dataY = [], []\n",
        "\tfor i in range(len(dataset)-time_step-1):\n",
        "\t\ta = dataset[i:(i+time_step), 0]   ###i=0, X=0,1,2,3-----99   Y=100\n",
        "\t\tdataX.append(a)\n",
        "\t\tdataY.append(dataset[i + time_step, 0])\n",
        "\treturn numpy.array(dataX), numpy.array(dataY)"
      ],
      "metadata": {
        "id": "v0d5deeY_2Dz"
      },
      "execution_count": 8,
      "outputs": []
    },
    {
      "cell_type": "code",
      "source": [
        "# 6. Reshape into X=t,t+1,t+2..t+99 and Y=t+100\n",
        "time_step = 100\n",
        "X_train, y_train = create_dataset(train_data, time_step)\n",
        "X_test, y_test = create_dataset(test_data, time_step)"
      ],
      "metadata": {
        "id": "5RNsv6HN_2Gb"
      },
      "execution_count": 9,
      "outputs": []
    },
    {
      "cell_type": "code",
      "source": [
        "X_train.shape"
      ],
      "metadata": {
        "id": "WB99gI3B_-O1",
        "colab": {
          "base_uri": "https://localhost:8080/"
        },
        "outputId": "14afb867-59c4-4be5-fc52-9c8921dcd9a5"
      },
      "execution_count": 10,
      "outputs": [
        {
          "output_type": "execute_result",
          "data": {
            "text/plain": [
              "(1140, 100)"
            ]
          },
          "metadata": {},
          "execution_count": 10
        }
      ]
    },
    {
      "cell_type": "code",
      "source": [
        "# Tạo Dataset cho PyTorch\n",
        "class TimeSeriesDataset(Dataset):\n",
        "    def __init__(self, X, y):\n",
        "        self.X = X\n",
        "        self.y = y\n",
        "\n",
        "    def __len__(self):\n",
        "        return len(self.X)\n",
        "\n",
        "    def __getitem__(self, idx):\n",
        "        return torch.tensor(self.X[idx], dtype=torch.float32).unsqueeze(0), torch.tensor(self.y[idx], dtype=torch.float32)\n",
        "\n",
        "train_dataset = TimeSeriesDataset(X_train, y_train)\n",
        "test_dataset = TimeSeriesDataset(X_test, y_test)\n",
        "\n",
        "train_loader = DataLoader(train_dataset, batch_size=64, shuffle=True)\n",
        "test_loader = DataLoader(test_dataset, batch_size=64, shuffle=False)"
      ],
      "metadata": {
        "id": "T7fp0MMDBvSX"
      },
      "execution_count": 11,
      "outputs": []
    },
    {
      "cell_type": "code",
      "source": [
        "# Định nghĩa mô hình ResNetLSTM\n",
        "class ConvBlock(Module):\n",
        "    def __init__(self, ni, nf, ks, stride=1, act=nn.ReLU, act_kwargs={}):\n",
        "        super().__init__()\n",
        "        self.conv = nn.Conv1d(ni, nf, ks, stride=stride, padding=ks//2)\n",
        "        self.bn = nn.BatchNorm1d(nf)\n",
        "        self.act = act(**act_kwargs) if act is not None else nn.Identity()\n",
        "\n",
        "    def forward(self, x):\n",
        "        return self.act(self.bn(self.conv(x)))\n",
        "\n",
        "class ResBlock(Module):\n",
        "    def __init__(self, ni, nf, kss=[7, 5, 3]):\n",
        "        super().__init__()\n",
        "        self.convblock1 = ConvBlock(ni, nf, kss[0])\n",
        "        self.convblock2 = ConvBlock(nf, nf, kss[1])\n",
        "        self.convblock3 = ConvBlock(nf, nf, kss[2], act=None)\n",
        "\n",
        "        self.shortcut = nn.BatchNorm1d(ni) if ni == nf else ConvBlock(ni, nf, 1, act=None)\n",
        "        self.add = nn.Identity()\n",
        "        self.act = nn.ReLU()\n",
        "\n",
        "    def forward(self, x):\n",
        "        res = x\n",
        "        x = self.convblock1(x)\n",
        "        x = self.convblock2(x)\n",
        "        x = self.convblock3(x)\n",
        "        x = self.add(x + self.shortcut(res))\n",
        "        x = self.act(x)\n",
        "        return x\n",
        "\n",
        "class ResNetLSTM(Module):\n",
        "    def __init__(self, c_in, c_out, lstm_hidden_units=50, num_lstm_layers=1):\n",
        "        super().__init__()\n",
        "        nf = 64\n",
        "        kss = [7, 5, 3]\n",
        "        self.resblock1 = ResBlock(c_in, nf, kss=kss)\n",
        "        self.resblock2 = ResBlock(nf, nf * 2, kss=kss)\n",
        "        self.resblock3 = ResBlock(nf * 2, nf * 2, kss=kss)\n",
        "\n",
        "        self.lstm = nn.LSTM(nf * 2, lstm_hidden_units, num_lstm_layers, batch_first=True)\n",
        "        self.fc = nn.Linear(lstm_hidden_units, c_out)\n",
        "\n",
        "    def forward(self, x):\n",
        "        x = self.resblock1(x)\n",
        "        x = self.resblock2(x)\n",
        "        x = self.resblock3(x)\n",
        "        x = x.transpose(1, 2)  # Transpose for LSTM: (batch, channels, seq_len) -> (batch, seq_len, channels)\n",
        "        x, _ = self.lstm(x)\n",
        "        x = x[:, -1, :]  # Lấy đầu ra của LSTM ở bước thời gian cuối cùng\n",
        "        x = self.fc(x)\n",
        "        return x"
      ],
      "metadata": {
        "id": "wgLl06lnBvUv"
      },
      "execution_count": 12,
      "outputs": []
    },
    {
      "cell_type": "code",
      "source": [
        "# Khởi tạo mô hình\n",
        "model = ResNetLSTM(1, 1)\n",
        "criterion = nn.MSELoss()\n",
        "optimizer = optim.Adam(model.parameters(), lr=0.001)"
      ],
      "metadata": {
        "id": "Ws99DDw2BvXI"
      },
      "execution_count": 13,
      "outputs": []
    },
    {
      "cell_type": "code",
      "source": [
        "# Huấn luyện mô hình\n",
        "num_epochs = 50\n",
        "for epoch in range(num_epochs):\n",
        "    model.train()\n",
        "    for inputs, targets in train_loader:\n",
        "        optimizer.zero_grad()\n",
        "        outputs = model(inputs)\n",
        "        loss = criterion(outputs.squeeze(), targets)\n",
        "        loss.backward()\n",
        "        optimizer.step()\n",
        "\n",
        "    model.eval()\n",
        "    test_loss = 0\n",
        "    with torch.no_grad():\n",
        "        for inputs, targets in test_loader:\n",
        "            outputs = model(inputs)\n",
        "            loss = criterion(outputs.squeeze(), targets)\n",
        "            test_loss += loss.item()\n",
        "\n",
        "    test_loss /= len(test_loader)\n",
        "    print(f'Epoch {epoch + 1}/{num_epochs}, Loss: {loss.item()}, Test Loss: {test_loss}')\n"
      ],
      "metadata": {
        "colab": {
          "base_uri": "https://localhost:8080/"
        },
        "id": "5TEsKECfBvZv",
        "outputId": "e061dd57-5f27-4699-d69d-20a1b20da41c"
      },
      "execution_count": 14,
      "outputs": [
        {
          "output_type": "stream",
          "name": "stdout",
          "text": [
            "Epoch 1/50, Loss: 0.0005231147515587509, Test Loss: 0.0011224202025914565\n",
            "Epoch 2/50, Loss: 0.02326326258480549, Test Loss: 0.023743056692183018\n",
            "Epoch 3/50, Loss: 0.0017725072102621198, Test Loss: 0.003445958805968985\n",
            "Epoch 4/50, Loss: 0.0011102332500740886, Test Loss: 0.0026874644099734724\n",
            "Epoch 5/50, Loss: 0.000355307653080672, Test Loss: 0.0011900522222276777\n",
            "Epoch 6/50, Loss: 0.00010860989277716726, Test Loss: 0.000844459358631866\n",
            "Epoch 7/50, Loss: 7.176848157541826e-05, Test Loss: 0.0007326225913857343\n",
            "Epoch 8/50, Loss: 0.0010664681904017925, Test Loss: 0.002169730418245308\n",
            "Epoch 9/50, Loss: 2.3767157472320832e-05, Test Loss: 0.0005708270919058123\n",
            "Epoch 10/50, Loss: 1.8404076399747282e-05, Test Loss: 0.00026189282289124094\n",
            "Epoch 11/50, Loss: 0.00016805656196083874, Test Loss: 0.0004813538216694724\n",
            "Epoch 12/50, Loss: 1.6678886822774075e-05, Test Loss: 0.000339672401878488\n",
            "Epoch 13/50, Loss: 0.0014874543994665146, Test Loss: 0.0014918587112333626\n",
            "Epoch 14/50, Loss: 0.00036199376336298883, Test Loss: 0.0004546540149021894\n",
            "Epoch 15/50, Loss: 2.2231410184758715e-05, Test Loss: 0.0002130762745764514\n",
            "Epoch 16/50, Loss: 0.00018143747001886368, Test Loss: 0.0005193278557271697\n",
            "Epoch 17/50, Loss: 1.2006342331005726e-05, Test Loss: 0.0002845053725195612\n",
            "Epoch 18/50, Loss: 0.00032232809462584555, Test Loss: 0.00043625252874335274\n",
            "Epoch 19/50, Loss: 0.0026799235492944717, Test Loss: 0.0025137123302556574\n",
            "Epoch 20/50, Loss: 0.000537399435415864, Test Loss: 0.0010332521196687594\n",
            "Epoch 21/50, Loss: 0.00017686333740130067, Test Loss: 0.0003099850073340349\n",
            "Epoch 22/50, Loss: 5.1283801440149546e-05, Test Loss: 0.0005228528416409972\n",
            "Epoch 23/50, Loss: 1.6333453459083103e-05, Test Loss: 0.00019574506541175651\n",
            "Epoch 24/50, Loss: 4.768168582813814e-05, Test Loss: 0.0002641442169988295\n",
            "Epoch 25/50, Loss: 1.533899012429174e-05, Test Loss: 0.0002932061483988946\n",
            "Epoch 26/50, Loss: 2.298258914379403e-05, Test Loss: 0.00016092208761619986\n",
            "Epoch 27/50, Loss: 1.270905886485707e-05, Test Loss: 0.00012999205091546173\n",
            "Epoch 28/50, Loss: 2.940428203146439e-05, Test Loss: 0.0001599725901542115\n",
            "Epoch 29/50, Loss: 0.000533497252035886, Test Loss: 0.0006654721946688369\n",
            "Epoch 30/50, Loss: 1.4640195331594441e-05, Test Loss: 0.0001691747186214343\n",
            "Epoch 31/50, Loss: 0.0002844428818207234, Test Loss: 0.00037829372013220564\n",
            "Epoch 32/50, Loss: 0.0006325102294795215, Test Loss: 0.0008403120737057179\n",
            "Epoch 33/50, Loss: 1.2067348507116549e-05, Test Loss: 0.0001157484534815012\n",
            "Epoch 34/50, Loss: 0.0006345434812828898, Test Loss: 0.0005617605711449869\n",
            "Epoch 35/50, Loss: 2.0525265426840633e-05, Test Loss: 0.0001595210487721488\n",
            "Epoch 36/50, Loss: 1.2318776498432271e-05, Test Loss: 9.574828391123447e-05\n",
            "Epoch 37/50, Loss: 0.00015173220890574157, Test Loss: 0.0002451165819365997\n",
            "Epoch 38/50, Loss: 1.8478367564966902e-05, Test Loss: 9.942770111592836e-05\n",
            "Epoch 39/50, Loss: 1.957003587449435e-05, Test Loss: 0.00013922181142334011\n",
            "Epoch 40/50, Loss: 2.0347577446955256e-05, Test Loss: 0.00014498842165266979\n",
            "Epoch 41/50, Loss: 0.00031127582769840956, Test Loss: 0.00047097144124563783\n",
            "Epoch 42/50, Loss: 8.179595897672698e-05, Test Loss: 0.00012944863010488916\n",
            "Epoch 43/50, Loss: 0.000934321666136384, Test Loss: 0.0010668633767636493\n",
            "Epoch 44/50, Loss: 0.0001565624843351543, Test Loss: 0.00025563317103660665\n",
            "Epoch 45/50, Loss: 1.2427618457877543e-05, Test Loss: 0.00011653321030280495\n",
            "Epoch 46/50, Loss: 0.003129325108602643, Test Loss: 0.002792507060803473\n",
            "Epoch 47/50, Loss: 9.401819261256605e-05, Test Loss: 0.0003185185923939571\n",
            "Epoch 48/50, Loss: 0.00020037883950863034, Test Loss: 0.00029656993501703255\n",
            "Epoch 49/50, Loss: 0.000425495469244197, Test Loss: 0.0004467505859793164\n",
            "Epoch 50/50, Loss: 8.889310993254185e-05, Test Loss: 0.00024422262868029065\n"
          ]
        }
      ]
    },
    {
      "cell_type": "code",
      "source": [
        "# Dự báo dữ liệu test\n",
        "model.eval()\n",
        "train_predict = []\n",
        "with torch.no_grad():\n",
        "    for inputs, _ in train_loader:\n",
        "        outputs = model(inputs)\n",
        "        train_predict.extend(outputs.squeeze().numpy())\n",
        "\n",
        "test_predict = []\n",
        "with torch.no_grad():\n",
        "    for inputs, _ in test_loader:\n",
        "        outputs = model(inputs)\n",
        "        test_predict.extend(outputs.squeeze().numpy())\n",
        "\n",
        "train_predict = scaler.inverse_transform(np.array(train_predict).reshape(-1, 1))\n",
        "test_predict = scaler.inverse_transform(np.array(test_predict).reshape(-1, 1))"
      ],
      "metadata": {
        "id": "JibGgPppB4sI"
      },
      "execution_count": 15,
      "outputs": []
    },
    {
      "cell_type": "code",
      "source": [
        "# Dự báo 30 ngày tiếp theo\n",
        "model.eval()\n",
        "x_input = test_data[-100:].reshape(1, -1)\n",
        "x_input = torch.tensor(x_input, dtype=torch.float32).unsqueeze(0)\n",
        "temp_input = list(x_input[0, 0, :].numpy())\n",
        "lst_output = []\n",
        "\n",
        "for i in range(30):\n",
        "    if len(temp_input) > 100:\n",
        "        x_input = np.array(temp_input[1:])\n",
        "        x_input = torch.tensor(x_input, dtype=torch.float32).unsqueeze(0).unsqueeze(0)\n",
        "        yhat = model(x_input)\n",
        "        temp_input.extend(yhat[0].detach().numpy().tolist())\n",
        "        temp_input = temp_input[1:]\n",
        "        lst_output.extend(yhat.detach().numpy().tolist())\n",
        "    else:\n",
        "        x_input = x_input.reshape((1, 1, time_step))\n",
        "        yhat = model(x_input)\n",
        "        temp_input.extend(yhat[0].detach().numpy().tolist())\n",
        "        lst_output.extend(yhat.detach().numpy().tolist())\n",
        "\n",
        "lst_output = scaler.inverse_transform(lst_output)"
      ],
      "metadata": {
        "id": "okXcLQcfB4vh"
      },
      "execution_count": 16,
      "outputs": []
    },
    {
      "cell_type": "code",
      "source": [
        "# Vẽ hình\n",
        "plt.figure(figsize=(12, 6))\n",
        "train_data_index = np.arange(0, train_size)\n",
        "plt.plot(train_data_index, scaler.inverse_transform(train_data), label='Train')\n",
        "\n",
        "test_data_index = np.arange(train_size, len(df1))\n",
        "plt.plot(test_data_index, scaler.inverse_transform(test_data), label='Test')\n",
        "\n",
        "pred_data_index = np.arange(train_size + time_step, len(df1) - 1)\n",
        "plt.plot(pred_data_index, test_predict, label='Predict')\n",
        "\n",
        "future_data_index = np.arange(len(df1), len(df1) + 30)\n",
        "plt.plot(future_data_index, lst_output, label='Predict 30 days')\n",
        "\n",
        "plt.legend()\n",
        "plt.show()"
      ],
      "metadata": {
        "colab": {
          "base_uri": "https://localhost:8080/",
          "height": 522
        },
        "id": "Z_S3og4CB4x8",
        "outputId": "c3b7a9c4-d734-4cf9-9b09-b204b3a65f33"
      },
      "execution_count": 17,
      "outputs": [
        {
          "output_type": "display_data",
          "data": {
            "text/plain": [
              "<Figure size 1200x600 with 1 Axes>"
            ],
            "image/png": "[encoded data removed]"
          },
          "metadata": {}
        }
      ]
    }
  ]
}