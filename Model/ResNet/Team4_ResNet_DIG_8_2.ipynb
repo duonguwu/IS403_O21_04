{
  "nbformat": 4,
  "nbformat_minor": 0,
  "metadata": {
    "colab": {
      "provenance": []
    },
    "kernelspec": {
      "name": "python3",
      "display_name": "Python 3"
    },
    "language_info": {
      "name": "python"
    }
  },
  "cells": [
    {
      "cell_type": "code",
      "execution_count": 19,
      "metadata": {
        "id": "YGidY5DP_tBO"
      },
      "outputs": [],
      "source": [
        "import numpy as np\n",
        "import pandas as pd\n",
        "import matplotlib.pyplot as plt\n",
        "from sklearn.preprocessing import MinMaxScaler\n",
        "import torch\n",
        "import torch.nn as nn\n",
        "from torch.utils.data import DataLoader, Dataset\n",
        "from torch.nn import Module\n",
        "import torch.optim as optim\n"
      ]
    },
    {
      "cell_type": "code",
      "source": [
        "# 2. Đọc file csv và gắng index với giá Close\n",
        "df = pd.read_csv('/content/DIG Historical Data 2018.csv')\n",
        "\n",
        "# Nhận thấy tập dữ liệu, ở cột Price giá tiền có dấu phẩy và đang ở dạng string\n",
        "# Bỏ dấu phẩy\n",
        "df['Price'] = df['Price'].str.replace(',', '')\n",
        "# Chuyển sang dạng số\n",
        "df['Price'] = pd.to_numeric(df['Price'])\n",
        "df = df[::-1]"
      ],
      "metadata": {
        "id": "A-oqH_RI_zVa"
      },
      "execution_count": 20,
      "outputs": []
    },
    {
      "cell_type": "code",
      "source": [
        "df1=df.reset_index()['Price']\n",
        "df1.head()"
      ],
      "metadata": {
        "colab": {
          "base_uri": "https://localhost:8080/"
        },
        "id": "Kda3Av5F_08i",
        "outputId": "88dfd3f7-5cc6-4d88-9d73-1dbf57c12fd4"
      },
      "execution_count": 21,
      "outputs": [
        {
          "output_type": "execute_result",
          "data": {
            "text/plain": [
              "0    11033.2\n",
              "1    11457.6\n",
              "2    12094.1\n",
              "3    12094.1\n",
              "4    12200.2\n",
              "Name: Price, dtype: float64"
            ]
          },
          "metadata": {},
          "execution_count": 21
        }
      ]
    },
    {
      "cell_type": "code",
      "source": [
        "df1"
      ],
      "metadata": {
        "colab": {
          "base_uri": "https://localhost:8080/"
        },
        "id": "FdWmEGpp_14b",
        "outputId": "91223b16-4593-4de2-ee44-11d8f285f55c"
      },
      "execution_count": 22,
      "outputs": [
        {
          "output_type": "execute_result",
          "data": {
            "text/plain": [
              "0       11033.2\n",
              "1       11457.6\n",
              "2       12094.1\n",
              "3       12094.1\n",
              "4       12200.2\n",
              "         ...   \n",
              "1547    30450.0\n",
              "1548    29900.0\n",
              "1549    30400.0\n",
              "1550    31700.0\n",
              "1551    31950.0\n",
              "Name: Price, Length: 1552, dtype: float64"
            ]
          },
          "metadata": {},
          "execution_count": 22
        }
      ]
    },
    {
      "cell_type": "code",
      "source": [
        "# 3. Scaler data\n",
        "scaler=MinMaxScaler(feature_range=(0,1))\n",
        "df1=scaler.fit_transform(np.array(df1).reshape(-1,1))"
      ],
      "metadata": {
        "id": "VfqyFVDv_18T"
      },
      "execution_count": 23,
      "outputs": []
    },
    {
      "cell_type": "code",
      "source": [
        "# 4. Chia train test\n",
        "train_size = int(0.8 * len(df1))\n",
        "test_size = int(0.2 * len(df1))\n",
        "\n",
        "train_data = df1[:train_size]\n",
        "test_data = df1[train_size:]"
      ],
      "metadata": {
        "id": "pxlZdaG6_1-r"
      },
      "execution_count": 24,
      "outputs": []
    },
    {
      "cell_type": "code",
      "source": [
        "test_size"
      ],
      "metadata": {
        "colab": {
          "base_uri": "https://localhost:8080/"
        },
        "id": "QH7dizUS_2BT",
        "outputId": "b612bbe9-578d-4e35-f31d-b2d6245efcdc"
      },
      "execution_count": 25,
      "outputs": [
        {
          "output_type": "execute_result",
          "data": {
            "text/plain": [
              "310"
            ]
          },
          "metadata": {},
          "execution_count": 25
        }
      ]
    },
    {
      "cell_type": "code",
      "source": [
        "# 5. Hàm Create Dataset\n",
        "import numpy\n",
        "# convert an array of values into a dataset matrix\n",
        "def create_dataset(dataset, time_step=1):\n",
        "\tdataX, dataY = [], []\n",
        "\tfor i in range(len(dataset)-time_step-1):\n",
        "\t\ta = dataset[i:(i+time_step), 0]   ###i=0, X=0,1,2,3-----99   Y=100\n",
        "\t\tdataX.append(a)\n",
        "\t\tdataY.append(dataset[i + time_step, 0])\n",
        "\treturn numpy.array(dataX), numpy.array(dataY)"
      ],
      "metadata": {
        "id": "v0d5deeY_2Dz"
      },
      "execution_count": 26,
      "outputs": []
    },
    {
      "cell_type": "code",
      "source": [
        "# 6. Reshape into X=t,t+1,t+2..t+99 and Y=t+100\n",
        "time_step = 100\n",
        "X_train, y_train = create_dataset(train_data, time_step)\n",
        "X_test, y_test = create_dataset(test_data, time_step)"
      ],
      "metadata": {
        "id": "5RNsv6HN_2Gb"
      },
      "execution_count": 27,
      "outputs": []
    },
    {
      "cell_type": "code",
      "source": [
        "X_train.shape"
      ],
      "metadata": {
        "id": "WB99gI3B_-O1",
        "colab": {
          "base_uri": "https://localhost:8080/"
        },
        "outputId": "61df8efd-9d2f-4f8c-bb26-bd9d435243b8"
      },
      "execution_count": 28,
      "outputs": [
        {
          "output_type": "execute_result",
          "data": {
            "text/plain": [
              "(1140, 100)"
            ]
          },
          "metadata": {},
          "execution_count": 28
        }
      ]
    },
    {
      "cell_type": "code",
      "source": [
        "# Tạo Dataset cho PyTorch\n",
        "class TimeSeriesDataset(Dataset):\n",
        "    def __init__(self, X, y):\n",
        "        self.X = X\n",
        "        self.y = y\n",
        "\n",
        "    def __len__(self):\n",
        "        return len(self.X)\n",
        "\n",
        "    def __getitem__(self, idx):\n",
        "        return torch.tensor(self.X[idx], dtype=torch.float32).unsqueeze(0), torch.tensor(self.y[idx], dtype=torch.float32)\n",
        "\n",
        "train_dataset = TimeSeriesDataset(X_train, y_train)\n",
        "test_dataset = TimeSeriesDataset(X_test, y_test)\n",
        "\n",
        "train_loader = DataLoader(train_dataset, batch_size=64, shuffle=True)\n",
        "test_loader = DataLoader(test_dataset, batch_size=64, shuffle=False)"
      ],
      "metadata": {
        "id": "T7fp0MMDBvSX"
      },
      "execution_count": 29,
      "outputs": []
    },
    {
      "cell_type": "code",
      "source": [
        "# Định nghĩa mô hình ResNetLSTM\n",
        "class ConvBlock(Module):\n",
        "    def __init__(self, ni, nf, ks, stride=1, act=nn.ReLU, act_kwargs={}):\n",
        "        super().__init__()\n",
        "        self.conv = nn.Conv1d(ni, nf, ks, stride=stride, padding=ks//2)\n",
        "        self.bn = nn.BatchNorm1d(nf)\n",
        "        self.act = act(**act_kwargs) if act is not None else nn.Identity()\n",
        "\n",
        "    def forward(self, x):\n",
        "        return self.act(self.bn(self.conv(x)))\n",
        "\n",
        "class ResBlock(Module):\n",
        "    def __init__(self, ni, nf, kss=[7, 5, 3]):\n",
        "        super().__init__()\n",
        "        self.convblock1 = ConvBlock(ni, nf, kss[0])\n",
        "        self.convblock2 = ConvBlock(nf, nf, kss[1])\n",
        "        self.convblock3 = ConvBlock(nf, nf, kss[2], act=None)\n",
        "\n",
        "        self.shortcut = nn.BatchNorm1d(ni) if ni == nf else ConvBlock(ni, nf, 1, act=None)\n",
        "        self.add = nn.Identity()\n",
        "        self.act = nn.ReLU()\n",
        "\n",
        "    def forward(self, x):\n",
        "        res = x\n",
        "        x = self.convblock1(x)\n",
        "        x = self.convblock2(x)\n",
        "        x = self.convblock3(x)\n",
        "        x = self.add(x + self.shortcut(res))\n",
        "        x = self.act(x)\n",
        "        return x\n",
        "\n",
        "class ResNetLSTM(Module):\n",
        "    def __init__(self, c_in, c_out, lstm_hidden_units=50, num_lstm_layers=1):\n",
        "        super().__init__()\n",
        "        nf = 64\n",
        "        kss = [7, 5, 3]\n",
        "        self.resblock1 = ResBlock(c_in, nf, kss=kss)\n",
        "        self.resblock2 = ResBlock(nf, nf * 2, kss=kss)\n",
        "        self.resblock3 = ResBlock(nf * 2, nf * 2, kss=kss)\n",
        "\n",
        "        self.lstm = nn.LSTM(nf * 2, lstm_hidden_units, num_lstm_layers, batch_first=True)\n",
        "        self.fc = nn.Linear(lstm_hidden_units, c_out)\n",
        "\n",
        "    def forward(self, x):\n",
        "        x = self.resblock1(x)\n",
        "        x = self.resblock2(x)\n",
        "        x = self.resblock3(x)\n",
        "        x = x.transpose(1, 2)  # Transpose for LSTM: (batch, channels, seq_len) -> (batch, seq_len, channels)\n",
        "        x, _ = self.lstm(x)\n",
        "        x = x[:, -1, :]  # Lấy đầu ra của LSTM ở bước thời gian cuối cùng\n",
        "        x = self.fc(x)\n",
        "        return x"
      ],
      "metadata": {
        "id": "wgLl06lnBvUv"
      },
      "execution_count": 30,
      "outputs": []
    },
    {
      "cell_type": "code",
      "source": [
        "# Khởi tạo mô hình\n",
        "model = ResNetLSTM(1, 1)\n",
        "criterion = nn.MSELoss()\n",
        "optimizer = optim.Adam(model.parameters(), lr=0.001)"
      ],
      "metadata": {
        "id": "Ws99DDw2BvXI"
      },
      "execution_count": 31,
      "outputs": []
    },
    {
      "cell_type": "code",
      "source": [
        "# Huấn luyện mô hình\n",
        "num_epochs = 80    # DIG: 80\n",
        "for epoch in range(num_epochs):\n",
        "    model.train()\n",
        "    for inputs, targets in train_loader:\n",
        "        optimizer.zero_grad()\n",
        "        outputs = model(inputs)\n",
        "        loss = criterion(outputs.squeeze(), targets)\n",
        "        loss.backward()\n",
        "        optimizer.step()\n",
        "\n",
        "    model.eval()\n",
        "    test_loss = 0\n",
        "    with torch.no_grad():\n",
        "        for inputs, targets in test_loader:\n",
        "            outputs = model(inputs)\n",
        "            loss = criterion(outputs.squeeze(), targets)\n",
        "            test_loss += loss.item()\n",
        "\n",
        "    test_loss /= len(test_loader)\n",
        "    print(f'Epoch {epoch + 1}/{num_epochs}, Loss: {loss.item()}, Test Loss: {test_loss}')\n"
      ],
      "metadata": {
        "colab": {
          "base_uri": "https://localhost:8080/"
        },
        "id": "5TEsKECfBvZv",
        "outputId": "a22d2643-ea08-4fb0-c2ab-701664f0722a"
      },
      "execution_count": 32,
      "outputs": [
        {
          "output_type": "stream",
          "name": "stdout",
          "text": [
            "Epoch 1/80, Loss: 0.03456488996744156, Test Loss: 0.02663370966911316\n",
            "Epoch 2/80, Loss: 0.00488911522552371, Test Loss: 0.00396408059168607\n",
            "Epoch 3/80, Loss: 0.001260900404304266, Test Loss: 0.0008046331204241142\n",
            "Epoch 4/80, Loss: 0.0006568549433723092, Test Loss: 0.0006005036921123974\n",
            "Epoch 5/80, Loss: 6.966327055124566e-05, Test Loss: 9.801734631764702e-05\n",
            "Epoch 6/80, Loss: 4.7692228690721095e-05, Test Loss: 7.633936547790654e-05\n",
            "Epoch 7/80, Loss: 5.1896295190090314e-05, Test Loss: 6.592121644644067e-05\n",
            "Epoch 8/80, Loss: 8.997874101623893e-05, Test Loss: 9.978980597225018e-05\n",
            "Epoch 9/80, Loss: 6.224075332283974e-05, Test Loss: 8.844376861816272e-05\n",
            "Epoch 10/80, Loss: 0.0001768326765159145, Test Loss: 0.00033431148403906263\n",
            "Epoch 11/80, Loss: 0.00040173332672566175, Test Loss: 0.00033165665445267223\n",
            "Epoch 12/80, Loss: 0.0002488638274371624, Test Loss: 0.00019105587125523016\n",
            "Epoch 13/80, Loss: 0.0002403052058070898, Test Loss: 0.0001493256277171895\n",
            "Epoch 14/80, Loss: 8.508261089446023e-05, Test Loss: 6.622335786232725e-05\n",
            "Epoch 15/80, Loss: 0.0001149459567386657, Test Loss: 9.06932709767716e-05\n",
            "Epoch 16/80, Loss: 6.114668940426782e-05, Test Loss: 6.540013418998569e-05\n",
            "Epoch 17/80, Loss: 6.88269137754105e-05, Test Loss: 8.20576487967628e-05\n",
            "Epoch 18/80, Loss: 0.00026389886625111103, Test Loss: 0.0001508261848357506\n",
            "Epoch 19/80, Loss: 0.00011800914944615215, Test Loss: 7.686448770982679e-05\n",
            "Epoch 20/80, Loss: 6.025903348927386e-05, Test Loss: 8.324491591338301e-05\n",
            "Epoch 21/80, Loss: 6.499956361949444e-05, Test Loss: 7.86001928645419e-05\n",
            "Epoch 22/80, Loss: 0.000108210755570326, Test Loss: 7.306257703021402e-05\n",
            "Epoch 23/80, Loss: 9.137129381997511e-05, Test Loss: 6.785919595131418e-05\n",
            "Epoch 24/80, Loss: 5.411182064563036e-05, Test Loss: 6.240169568627607e-05\n",
            "Epoch 25/80, Loss: 5.652454274240881e-05, Test Loss: 7.581151658087038e-05\n",
            "Epoch 26/80, Loss: 0.00011329197877785191, Test Loss: 7.348544750129804e-05\n",
            "Epoch 27/80, Loss: 8.265303040388972e-05, Test Loss: 6.850812314951327e-05\n",
            "Epoch 28/80, Loss: 0.00023652137315366417, Test Loss: 0.00015027924564492423\n",
            "Epoch 29/80, Loss: 0.0002185841294704005, Test Loss: 0.00013897103781346232\n",
            "Epoch 30/80, Loss: 0.00019449608225841075, Test Loss: 0.00012045985749864485\n",
            "Epoch 31/80, Loss: 0.0002539801935199648, Test Loss: 0.0001471790819778107\n",
            "Epoch 32/80, Loss: 7.797543366905302e-05, Test Loss: 0.00010017631757364143\n",
            "Epoch 33/80, Loss: 0.0001228871406055987, Test Loss: 8.241501109296223e-05\n",
            "Epoch 34/80, Loss: 0.000138793489895761, Test Loss: 9.478885840508156e-05\n",
            "Epoch 35/80, Loss: 0.00011633629037532955, Test Loss: 8.575878473493503e-05\n",
            "Epoch 36/80, Loss: 8.994765084935352e-05, Test Loss: 6.911493801453616e-05\n",
            "Epoch 37/80, Loss: 6.137849413789809e-05, Test Loss: 7.100918719515903e-05\n",
            "Epoch 38/80, Loss: 0.0001685170573182404, Test Loss: 0.0001402104153385153\n",
            "Epoch 39/80, Loss: 6.761520489817485e-05, Test Loss: 6.580426543223439e-05\n",
            "Epoch 40/80, Loss: 6.152669084258378e-05, Test Loss: 6.234828470041975e-05\n",
            "Epoch 41/80, Loss: 0.00011760983034037054, Test Loss: 7.685994205530733e-05\n",
            "Epoch 42/80, Loss: 5.5071854148991406e-05, Test Loss: 8.100062404992059e-05\n",
            "Epoch 43/80, Loss: 5.873815098311752e-05, Test Loss: 6.428999950003345e-05\n",
            "Epoch 44/80, Loss: 4.6571309212595224e-05, Test Loss: 6.30209442533669e-05\n",
            "Epoch 45/80, Loss: 0.00027750979643315077, Test Loss: 0.0001881164644146338\n",
            "Epoch 46/80, Loss: 0.0001507861161371693, Test Loss: 9.912922814692138e-05\n",
            "Epoch 47/80, Loss: 7.995531632332131e-05, Test Loss: 7.376742723863572e-05\n",
            "Epoch 48/80, Loss: 0.0001909342681756243, Test Loss: 0.00012963551853317767\n",
            "Epoch 49/80, Loss: 0.00010754616232588887, Test Loss: 8.195154805434868e-05\n",
            "Epoch 50/80, Loss: 0.00010392288822913542, Test Loss: 0.00011136385364807211\n",
            "Epoch 51/80, Loss: 6.786440644646063e-05, Test Loss: 9.272965871787164e-05\n",
            "Epoch 52/80, Loss: 0.0002047116431640461, Test Loss: 0.0002016722282860428\n",
            "Epoch 53/80, Loss: 0.000113998721644748, Test Loss: 0.00011465583884273656\n",
            "Epoch 54/80, Loss: 6.134009163361043e-05, Test Loss: 7.432297934428789e-05\n",
            "Epoch 55/80, Loss: 9.70823602983728e-05, Test Loss: 0.00012377259008644614\n",
            "Epoch 56/80, Loss: 0.00011215302220080048, Test Loss: 8.130168680509087e-05\n",
            "Epoch 57/80, Loss: 5.431384124676697e-05, Test Loss: 6.629040944972076e-05\n",
            "Epoch 58/80, Loss: 5.091397906653583e-05, Test Loss: 7.5213022682874e-05\n",
            "Epoch 59/80, Loss: 7.306207407964393e-05, Test Loss: 9.651122127252165e-05\n",
            "Epoch 60/80, Loss: 8.322225039592013e-05, Test Loss: 0.00011655274829536211\n",
            "Epoch 61/80, Loss: 7.29354505892843e-05, Test Loss: 9.244038301403634e-05\n",
            "Epoch 62/80, Loss: 7.48934835428372e-05, Test Loss: 6.501990174001548e-05\n",
            "Epoch 63/80, Loss: 9.462751768296584e-05, Test Loss: 0.00012725742089969572\n",
            "Epoch 64/80, Loss: 0.0001142323890235275, Test Loss: 7.689375524932984e-05\n",
            "Epoch 65/80, Loss: 6.720198143739253e-05, Test Loss: 7.511954208894167e-05\n",
            "Epoch 66/80, Loss: 0.00012784036516677588, Test Loss: 8.814367629383923e-05\n",
            "Epoch 67/80, Loss: 0.00010840823961189017, Test Loss: 7.916865433799103e-05\n",
            "Epoch 68/80, Loss: 0.00018301891395822167, Test Loss: 0.00015121270917006768\n",
            "Epoch 69/80, Loss: 9.928234794642776e-05, Test Loss: 0.00012635138591576833\n",
            "Epoch 70/80, Loss: 6.773747008992359e-05, Test Loss: 0.00012117318146920297\n",
            "Epoch 71/80, Loss: 8.192411041818559e-05, Test Loss: 7.249132067954633e-05\n",
            "Epoch 72/80, Loss: 7.922803342808038e-05, Test Loss: 7.861245012463769e-05\n",
            "Epoch 73/80, Loss: 0.0005455238278955221, Test Loss: 0.0005461731925606728\n",
            "Epoch 74/80, Loss: 0.00012863727170042694, Test Loss: 0.00012855094610131346\n",
            "Epoch 75/80, Loss: 8.943025750340894e-05, Test Loss: 6.915044741617749e-05\n",
            "Epoch 76/80, Loss: 7.990260928636417e-05, Test Loss: 7.76293618400814e-05\n",
            "Epoch 77/80, Loss: 7.962498784763739e-05, Test Loss: 7.047430153761525e-05\n",
            "Epoch 78/80, Loss: 7.502135122194886e-05, Test Loss: 6.368981985360733e-05\n",
            "Epoch 79/80, Loss: 0.00030954566318541765, Test Loss: 0.00019173121472704224\n",
            "Epoch 80/80, Loss: 0.00028707520687021315, Test Loss: 0.00016825872262415942\n"
          ]
        }
      ]
    },
    {
      "cell_type": "code",
      "source": [
        "# Dự báo dữ liệu test\n",
        "model.eval()\n",
        "train_predict = []\n",
        "with torch.no_grad():\n",
        "    for inputs, _ in train_loader:\n",
        "        outputs = model(inputs)\n",
        "        train_predict.extend(outputs.squeeze().numpy())\n",
        "\n",
        "test_predict = []\n",
        "with torch.no_grad():\n",
        "    for inputs, _ in test_loader:\n",
        "        outputs = model(inputs)\n",
        "        test_predict.extend(outputs.squeeze().numpy())\n",
        "\n",
        "train_predict = scaler.inverse_transform(np.array(train_predict).reshape(-1, 1))\n",
        "test_predict = scaler.inverse_transform(np.array(test_predict).reshape(-1, 1))"
      ],
      "metadata": {
        "id": "JibGgPppB4sI"
      },
      "execution_count": 33,
      "outputs": []
    },
    {
      "cell_type": "code",
      "source": [
        "# Dự báo 30 ngày tiếp theo\n",
        "model.eval()\n",
        "x_input = test_data[-100:].reshape(1, -1)\n",
        "x_input = torch.tensor(x_input, dtype=torch.float32).unsqueeze(0)\n",
        "temp_input = list(x_input[0, 0, :].numpy())\n",
        "lst_output = []\n",
        "\n",
        "for i in range(30):\n",
        "    if len(temp_input) > 100:\n",
        "        x_input = np.array(temp_input[1:])\n",
        "        x_input = torch.tensor(x_input, dtype=torch.float32).unsqueeze(0).unsqueeze(0)\n",
        "        yhat = model(x_input)\n",
        "        temp_input.extend(yhat[0].detach().numpy().tolist())\n",
        "        temp_input = temp_input[1:]\n",
        "        lst_output.extend(yhat.detach().numpy().tolist())\n",
        "    else:\n",
        "        x_input = x_input.reshape((1, 1, time_step))\n",
        "        yhat = model(x_input)\n",
        "        temp_input.extend(yhat[0].detach().numpy().tolist())\n",
        "        lst_output.extend(yhat.detach().numpy().tolist())\n",
        "\n",
        "lst_output = scaler.inverse_transform(lst_output)"
      ],
      "metadata": {
        "id": "okXcLQcfB4vh"
      },
      "execution_count": 34,
      "outputs": []
    },
    {
      "cell_type": "code",
      "source": [
        "# Vẽ hình\n",
        "plt.figure(figsize=(12, 6))\n",
        "train_data_index = np.arange(0, train_size)\n",
        "plt.plot(train_data_index, scaler.inverse_transform(train_data), label='Train')\n",
        "\n",
        "test_data_index = np.arange(train_size, len(df1))\n",
        "plt.plot(test_data_index, scaler.inverse_transform(test_data), label='Test')\n",
        "\n",
        "pred_data_index = np.arange(train_size + time_step, len(df1) - 1)\n",
        "plt.plot(pred_data_index, test_predict, label='Predict')\n",
        "\n",
        "future_data_index = np.arange(len(df1), len(df1) + 30)\n",
        "plt.plot(future_data_index, lst_output, label='Predict 30 days')\n",
        "\n",
        "plt.legend()\n",
        "plt.show()"
      ],
      "metadata": {
        "colab": {
          "base_uri": "https://localhost:8080/",
          "height": 522
        },
        "id": "Z_S3og4CB4x8",
        "outputId": "569184ee-db07-4221-b16a-b86f6f33cb63"
      },
      "execution_count": 35,
      "outputs": [
        {
          "output_type": "display_data",
          "data": {
            "text/plain": [
              "<Figure size 1200x600 with 1 Axes>"
            ],
            "image/png": "[encoded data removed]"
          },
          "metadata": {}
        }
      ]
    }
  ]
}