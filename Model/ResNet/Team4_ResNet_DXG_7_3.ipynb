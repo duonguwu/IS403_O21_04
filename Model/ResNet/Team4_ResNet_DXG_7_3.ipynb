{
  "nbformat": 4,
  "nbformat_minor": 0,
  "metadata": {
    "colab": {
      "provenance": []
    },
    "kernelspec": {
      "name": "python3",
      "display_name": "Python 3"
    },
    "language_info": {
      "name": "python"
    }
  },
  "cells": [
    {
      "cell_type": "code",
      "execution_count": 36,
      "metadata": {
        "id": "YGidY5DP_tBO"
      },
      "outputs": [],
      "source": [
        "import numpy as np\n",
        "import pandas as pd\n",
        "import matplotlib.pyplot as plt\n",
        "from sklearn.preprocessing import MinMaxScaler\n",
        "import torch\n",
        "import torch.nn as nn\n",
        "from torch.utils.data import DataLoader, Dataset\n",
        "from torch.nn import Module\n",
        "import torch.optim as optim\n"
      ]
    },
    {
      "cell_type": "code",
      "source": [
        "# 2. Đọc file csv và gắng index với giá Close\n",
        "df = pd.read_csv('/content/DXG Historical Data 2018.csv')\n",
        "\n",
        "# Nhận thấy tập dữ liệu, ở cột Price giá tiền có dấu phẩy và đang ở dạng string\n",
        "# Bỏ dấu phẩy\n",
        "df['Price'] = df['Price'].str.replace(',', '')\n",
        "# Chuyển sang dạng số\n",
        "df['Price'] = pd.to_numeric(df['Price'])\n",
        "df = df[::-1]"
      ],
      "metadata": {
        "id": "A-oqH_RI_zVa"
      },
      "execution_count": 37,
      "outputs": []
    },
    {
      "cell_type": "code",
      "source": [
        "df1=df.reset_index()['Price']\n",
        "df1.head()"
      ],
      "metadata": {
        "colab": {
          "base_uri": "https://localhost:8080/"
        },
        "id": "Kda3Av5F_08i",
        "outputId": "1b94dc06-5fd8-42de-b4bb-75971110ab3e"
      },
      "execution_count": 38,
      "outputs": [
        {
          "output_type": "execute_result",
          "data": {
            "text/plain": [
              "0    13401.4\n",
              "1    13371.1\n",
              "2    13522.4\n",
              "3    13159.4\n",
              "4    14066.9\n",
              "Name: Price, dtype: float64"
            ]
          },
          "metadata": {},
          "execution_count": 38
        }
      ]
    },
    {
      "cell_type": "code",
      "source": [
        "df1"
      ],
      "metadata": {
        "colab": {
          "base_uri": "https://localhost:8080/"
        },
        "id": "FdWmEGpp_14b",
        "outputId": "f111ab09-e62f-448b-8a95-7de53c6126f3"
      },
      "execution_count": 39,
      "outputs": [
        {
          "output_type": "execute_result",
          "data": {
            "text/plain": [
              "0       13401.4\n",
              "1       13371.1\n",
              "2       13522.4\n",
              "3       13159.4\n",
              "4       14066.9\n",
              "         ...   \n",
              "1547    19000.0\n",
              "1548    18500.0\n",
              "1549    18750.0\n",
              "1550    19500.0\n",
              "1551    19850.0\n",
              "Name: Price, Length: 1552, dtype: float64"
            ]
          },
          "metadata": {},
          "execution_count": 39
        }
      ]
    },
    {
      "cell_type": "code",
      "source": [
        "# 3. Scaler data\n",
        "scaler=MinMaxScaler(feature_range=(0,1))\n",
        "df1=scaler.fit_transform(np.array(df1).reshape(-1,1))"
      ],
      "metadata": {
        "id": "VfqyFVDv_18T"
      },
      "execution_count": 40,
      "outputs": []
    },
    {
      "cell_type": "code",
      "source": [
        "# 4. Chia train test\n",
        "train_size = int(0.7 * len(df1))\n",
        "test_size = int(0.3 * len(df1))\n",
        "\n",
        "train_data = df1[:train_size]\n",
        "test_data = df1[train_size:]"
      ],
      "metadata": {
        "id": "pxlZdaG6_1-r"
      },
      "execution_count": 41,
      "outputs": []
    },
    {
      "cell_type": "code",
      "source": [
        "test_size"
      ],
      "metadata": {
        "colab": {
          "base_uri": "https://localhost:8080/"
        },
        "id": "QH7dizUS_2BT",
        "outputId": "9b8ecd7c-1e7e-4ccb-bec0-c8253057881c"
      },
      "execution_count": 42,
      "outputs": [
        {
          "output_type": "execute_result",
          "data": {
            "text/plain": [
              "465"
            ]
          },
          "metadata": {},
          "execution_count": 42
        }
      ]
    },
    {
      "cell_type": "code",
      "source": [
        "# 5. Hàm Create Dataset\n",
        "import numpy\n",
        "# convert an array of values into a dataset matrix\n",
        "def create_dataset(dataset, time_step=1):\n",
        "\tdataX, dataY = [], []\n",
        "\tfor i in range(len(dataset)-time_step-1):\n",
        "\t\ta = dataset[i:(i+time_step), 0]   ###i=0, X=0,1,2,3-----99   Y=100\n",
        "\t\tdataX.append(a)\n",
        "\t\tdataY.append(dataset[i + time_step, 0])\n",
        "\treturn numpy.array(dataX), numpy.array(dataY)"
      ],
      "metadata": {
        "id": "v0d5deeY_2Dz"
      },
      "execution_count": 43,
      "outputs": []
    },
    {
      "cell_type": "code",
      "source": [
        "# 6. Reshape into X=t,t+1,t+2..t+99 and Y=t+100\n",
        "time_step = 100\n",
        "X_train, y_train = create_dataset(train_data, time_step)\n",
        "X_test, y_test = create_dataset(test_data, time_step)"
      ],
      "metadata": {
        "id": "5RNsv6HN_2Gb"
      },
      "execution_count": 44,
      "outputs": []
    },
    {
      "cell_type": "code",
      "source": [
        "X_train.shape"
      ],
      "metadata": {
        "id": "WB99gI3B_-O1",
        "colab": {
          "base_uri": "https://localhost:8080/"
        },
        "outputId": "1b8c6330-5e03-42f9-808c-5a5fb5834838"
      },
      "execution_count": 45,
      "outputs": [
        {
          "output_type": "execute_result",
          "data": {
            "text/plain": [
              "(985, 100)"
            ]
          },
          "metadata": {},
          "execution_count": 45
        }
      ]
    },
    {
      "cell_type": "code",
      "source": [
        "# Tạo Dataset cho PyTorch\n",
        "class TimeSeriesDataset(Dataset):\n",
        "    def __init__(self, X, y):\n",
        "        self.X = X\n",
        "        self.y = y\n",
        "\n",
        "    def __len__(self):\n",
        "        return len(self.X)\n",
        "\n",
        "    def __getitem__(self, idx):\n",
        "        return torch.tensor(self.X[idx], dtype=torch.float32).unsqueeze(0), torch.tensor(self.y[idx], dtype=torch.float32)\n",
        "\n",
        "train_dataset = TimeSeriesDataset(X_train, y_train)\n",
        "test_dataset = TimeSeriesDataset(X_test, y_test)\n",
        "\n",
        "train_loader = DataLoader(train_dataset, batch_size=64, shuffle=True)\n",
        "test_loader = DataLoader(test_dataset, batch_size=64, shuffle=False)"
      ],
      "metadata": {
        "id": "T7fp0MMDBvSX"
      },
      "execution_count": 46,
      "outputs": []
    },
    {
      "cell_type": "code",
      "source": [
        "# Định nghĩa mô hình ResNetLSTM\n",
        "class ConvBlock(Module):\n",
        "    def __init__(self, ni, nf, ks, stride=1, act=nn.ReLU, act_kwargs={}):\n",
        "        super().__init__()\n",
        "        self.conv = nn.Conv1d(ni, nf, ks, stride=stride, padding=ks//2)\n",
        "        self.bn = nn.BatchNorm1d(nf)\n",
        "        self.act = act(**act_kwargs) if act is not None else nn.Identity()\n",
        "\n",
        "    def forward(self, x):\n",
        "        return self.act(self.bn(self.conv(x)))\n",
        "\n",
        "class ResBlock(Module):\n",
        "    def __init__(self, ni, nf, kss=[7, 5, 3]):\n",
        "        super().__init__()\n",
        "        self.convblock1 = ConvBlock(ni, nf, kss[0])\n",
        "        self.convblock2 = ConvBlock(nf, nf, kss[1])\n",
        "        self.convblock3 = ConvBlock(nf, nf, kss[2], act=None)\n",
        "\n",
        "        self.shortcut = nn.BatchNorm1d(ni) if ni == nf else ConvBlock(ni, nf, 1, act=None)\n",
        "        self.add = nn.Identity()\n",
        "        self.act = nn.ReLU()\n",
        "\n",
        "    def forward(self, x):\n",
        "        res = x\n",
        "        x = self.convblock1(x)\n",
        "        x = self.convblock2(x)\n",
        "        x = self.convblock3(x)\n",
        "        x = self.add(x + self.shortcut(res))\n",
        "        x = self.act(x)\n",
        "        return x\n",
        "\n",
        "class ResNetLSTM(Module):\n",
        "    def __init__(self, c_in, c_out, lstm_hidden_units=50, num_lstm_layers=1):\n",
        "        super().__init__()\n",
        "        nf = 64\n",
        "        kss = [7, 5, 3]\n",
        "        self.resblock1 = ResBlock(c_in, nf, kss=kss)\n",
        "        self.resblock2 = ResBlock(nf, nf * 2, kss=kss)\n",
        "        self.resblock3 = ResBlock(nf * 2, nf * 2, kss=kss)\n",
        "\n",
        "        self.lstm = nn.LSTM(nf * 2, lstm_hidden_units, num_lstm_layers, batch_first=True)\n",
        "        self.fc = nn.Linear(lstm_hidden_units, c_out)\n",
        "\n",
        "    def forward(self, x):\n",
        "        x = self.resblock1(x)\n",
        "        x = self.resblock2(x)\n",
        "        x = self.resblock3(x)\n",
        "        x = x.transpose(1, 2)  # Transpose for LSTM: (batch, channels, seq_len) -> (batch, seq_len, channels)\n",
        "        x, _ = self.lstm(x)\n",
        "        x = x[:, -1, :]  # Lấy đầu ra của LSTM ở bước thời gian cuối cùng\n",
        "        x = self.fc(x)\n",
        "        return x"
      ],
      "metadata": {
        "id": "wgLl06lnBvUv"
      },
      "execution_count": 47,
      "outputs": []
    },
    {
      "cell_type": "code",
      "source": [
        "# Khởi tạo mô hình\n",
        "model = ResNetLSTM(1, 1)\n",
        "criterion = nn.MSELoss()\n",
        "optimizer = optim.Adam(model.parameters(), lr=0.001)"
      ],
      "metadata": {
        "id": "Ws99DDw2BvXI"
      },
      "execution_count": 48,
      "outputs": []
    },
    {
      "cell_type": "code",
      "source": [
        "# Huấn luyện mô hình\n",
        "num_epochs = 60\n",
        "for epoch in range(num_epochs):\n",
        "    model.train()\n",
        "    for inputs, targets in train_loader:\n",
        "        optimizer.zero_grad()\n",
        "        outputs = model(inputs)\n",
        "        loss = criterion(outputs.squeeze(), targets)\n",
        "        loss.backward()\n",
        "        optimizer.step()\n",
        "\n",
        "    model.eval()\n",
        "    test_loss = 0\n",
        "    with torch.no_grad():\n",
        "        for inputs, targets in test_loader:\n",
        "            outputs = model(inputs)\n",
        "            loss = criterion(outputs.squeeze(), targets)\n",
        "            test_loss += loss.item()\n",
        "\n",
        "    test_loss /= len(test_loader)\n",
        "    print(f'Epoch {epoch + 1}/{num_epochs}, Loss: {loss.item()}, Test Loss: {test_loss}')\n"
      ],
      "metadata": {
        "colab": {
          "base_uri": "https://localhost:8080/"
        },
        "id": "5TEsKECfBvZv",
        "outputId": "d2aa7b75-8b1d-4f94-819b-9bd113be96bf"
      },
      "execution_count": 49,
      "outputs": [
        {
          "output_type": "stream",
          "name": "stdout",
          "text": [
            "Epoch 1/60, Loss: 0.01648258976638317, Test Loss: 0.011030164683082452\n",
            "Epoch 2/60, Loss: 0.008626208640635014, Test Loss: 0.006650036647139738\n",
            "Epoch 3/60, Loss: 0.009952854365110397, Test Loss: 0.007210706583767508\n",
            "Epoch 4/60, Loss: 0.004098566249012947, Test Loss: 0.0026917197198296585\n",
            "Epoch 5/60, Loss: 0.0010313233360648155, Test Loss: 0.0006955545638144637\n",
            "Epoch 6/60, Loss: 5.6207587476819754e-05, Test Loss: 0.00023945575473286831\n",
            "Epoch 7/60, Loss: 8.613446698291227e-05, Test Loss: 0.00024907967235776596\n",
            "Epoch 8/60, Loss: 0.00010333585669286549, Test Loss: 0.00024504335548651096\n",
            "Epoch 9/60, Loss: 0.00017772403953131288, Test Loss: 0.0002984186527707304\n",
            "Epoch 10/60, Loss: 6.210347055457532e-05, Test Loss: 0.0002168274440919049\n",
            "Epoch 11/60, Loss: 0.0004742518358398229, Test Loss: 0.00046058448788244277\n",
            "Epoch 12/60, Loss: 0.00016313439118675888, Test Loss: 0.0002987463109699699\n",
            "Epoch 13/60, Loss: 0.00011482792615424842, Test Loss: 0.0002494043728802353\n",
            "Epoch 14/60, Loss: 0.00022136450570542365, Test Loss: 0.0003208472141219924\n",
            "Epoch 15/60, Loss: 0.0001258500706171617, Test Loss: 0.0002657323784660548\n",
            "Epoch 16/60, Loss: 9.512852557236329e-05, Test Loss: 0.0002630152387913161\n",
            "Epoch 17/60, Loss: 5.816709017381072e-05, Test Loss: 0.0002973692414040367\n",
            "Epoch 18/60, Loss: 0.00022074834851082414, Test Loss: 0.00037922449701000005\n",
            "Epoch 19/60, Loss: 9.278953803004697e-05, Test Loss: 0.00024620840971086483\n",
            "Epoch 20/60, Loss: 6.732404290232807e-05, Test Loss: 0.00021071438338064277\n",
            "Epoch 21/60, Loss: 0.00022899353643879294, Test Loss: 0.0002947927544785974\n",
            "Epoch 22/60, Loss: 5.8133424317929894e-05, Test Loss: 0.00021348697555367835\n",
            "Epoch 23/60, Loss: 5.491157207870856e-05, Test Loss: 0.0002074469084618613\n",
            "Epoch 24/60, Loss: 5.6555287301307544e-05, Test Loss: 0.00020323472745076288\n",
            "Epoch 25/60, Loss: 5.6290595239261165e-05, Test Loss: 0.00020065893537927573\n",
            "Epoch 26/60, Loss: 7.157639629440382e-05, Test Loss: 0.00020871447971633947\n",
            "Epoch 27/60, Loss: 0.0001201028426294215, Test Loss: 0.000246982577664312\n",
            "Epoch 28/60, Loss: 0.00022538207122124732, Test Loss: 0.00030137496651150286\n",
            "Epoch 29/60, Loss: 5.490864714374766e-05, Test Loss: 0.00021977495028598545\n",
            "Epoch 30/60, Loss: 6.399999983841553e-05, Test Loss: 0.00022327546200055318\n",
            "Epoch 31/60, Loss: 5.750676427851431e-05, Test Loss: 0.00022056157649785746\n",
            "Epoch 32/60, Loss: 0.00026646238984540105, Test Loss: 0.00034210951707791537\n",
            "Epoch 33/60, Loss: 5.199185397941619e-05, Test Loss: 0.00023377429170068353\n",
            "Epoch 34/60, Loss: 6.844753806944937e-05, Test Loss: 0.0002245318319182843\n",
            "Epoch 35/60, Loss: 6.343830318655819e-05, Test Loss: 0.00021724253383581527\n",
            "Epoch 36/60, Loss: 7.193002238636836e-05, Test Loss: 0.0002094177604400708\n",
            "Epoch 37/60, Loss: 9.568885434418917e-05, Test Loss: 0.00022732441721018404\n",
            "Epoch 38/60, Loss: 7.05429119989276e-05, Test Loss: 0.00022661356342723593\n",
            "Epoch 39/60, Loss: 5.513808719115332e-05, Test Loss: 0.0002012871130621837\n",
            "Epoch 40/60, Loss: 7.041986827971414e-05, Test Loss: 0.00020752881391672418\n",
            "Epoch 41/60, Loss: 6.246100383577868e-05, Test Loss: 0.0001999508385779336\n",
            "Epoch 42/60, Loss: 6.718635995639488e-05, Test Loss: 0.00020612387136983065\n",
            "Epoch 43/60, Loss: 7.513486343668774e-05, Test Loss: 0.00020183578453725204\n",
            "Epoch 44/60, Loss: 6.359499093377963e-05, Test Loss: 0.00019979460436540344\n",
            "Epoch 45/60, Loss: 6.23329178779386e-05, Test Loss: 0.00019917123305882947\n",
            "Epoch 46/60, Loss: 5.761656575486995e-05, Test Loss: 0.00019084306465326031\n",
            "Epoch 47/60, Loss: 0.00010412998381070793, Test Loss: 0.00023699108836202262\n",
            "Epoch 48/60, Loss: 5.5451691878261045e-05, Test Loss: 0.00019481937670207117\n",
            "Epoch 49/60, Loss: 6.185894017107785e-05, Test Loss: 0.00020750988915096968\n",
            "Epoch 50/60, Loss: 5.301068085827865e-05, Test Loss: 0.00020149803155315263\n",
            "Epoch 51/60, Loss: 5.7043376727961004e-05, Test Loss: 0.00021607439703075215\n",
            "Epoch 52/60, Loss: 5.6975201005116105e-05, Test Loss: 0.00018974254392863563\n",
            "Epoch 53/60, Loss: 5.5559579777764156e-05, Test Loss: 0.00021010191691554306\n",
            "Epoch 54/60, Loss: 5.353386586648412e-05, Test Loss: 0.00020798624306432126\n",
            "Epoch 55/60, Loss: 6.361427949741483e-05, Test Loss: 0.00020056803138383353\n",
            "Epoch 56/60, Loss: 6.214058521436527e-05, Test Loss: 0.00019248044433576675\n",
            "Epoch 57/60, Loss: 0.00010495082096895203, Test Loss: 0.00024650446357554756\n",
            "Epoch 58/60, Loss: 7.09518208168447e-05, Test Loss: 0.00020094543045464283\n",
            "Epoch 59/60, Loss: 9.300868259742856e-05, Test Loss: 0.00021931305188142383\n",
            "Epoch 60/60, Loss: 7.066434773150831e-05, Test Loss: 0.0002122020183984811\n"
          ]
        }
      ]
    },
    {
      "cell_type": "code",
      "source": [
        "# Dự báo dữ liệu test\n",
        "model.eval()\n",
        "train_predict = []\n",
        "with torch.no_grad():\n",
        "    for inputs, _ in train_loader:\n",
        "        outputs = model(inputs)\n",
        "        train_predict.extend(outputs.squeeze().numpy())\n",
        "\n",
        "test_predict = []\n",
        "with torch.no_grad():\n",
        "    for inputs, _ in test_loader:\n",
        "        outputs = model(inputs)\n",
        "        test_predict.extend(outputs.squeeze().numpy())\n",
        "\n",
        "train_predict = scaler.inverse_transform(np.array(train_predict).reshape(-1, 1))\n",
        "test_predict = scaler.inverse_transform(np.array(test_predict).reshape(-1, 1))"
      ],
      "metadata": {
        "id": "JibGgPppB4sI"
      },
      "execution_count": 50,
      "outputs": []
    },
    {
      "cell_type": "code",
      "source": [
        "# Dự báo 30 ngày tiếp theo\n",
        "model.eval()\n",
        "x_input = test_data[-100:].reshape(1, -1)\n",
        "x_input = torch.tensor(x_input, dtype=torch.float32).unsqueeze(0)\n",
        "temp_input = list(x_input[0, 0, :].numpy())\n",
        "lst_output = []\n",
        "\n",
        "for i in range(30):\n",
        "    if len(temp_input) > 100:\n",
        "        x_input = np.array(temp_input[1:])\n",
        "        x_input = torch.tensor(x_input, dtype=torch.float32).unsqueeze(0).unsqueeze(0)\n",
        "        yhat = model(x_input)\n",
        "        temp_input.extend(yhat[0].detach().numpy().tolist())\n",
        "        temp_input = temp_input[1:]\n",
        "        lst_output.extend(yhat.detach().numpy().tolist())\n",
        "    else:\n",
        "        x_input = x_input.reshape((1, 1, time_step))\n",
        "        yhat = model(x_input)\n",
        "        temp_input.extend(yhat[0].detach().numpy().tolist())\n",
        "        lst_output.extend(yhat.detach().numpy().tolist())\n",
        "\n",
        "lst_output = scaler.inverse_transform(lst_output)"
      ],
      "metadata": {
        "id": "okXcLQcfB4vh"
      },
      "execution_count": 51,
      "outputs": []
    },
    {
      "cell_type": "code",
      "source": [
        "# Vẽ hình\n",
        "plt.figure(figsize=(12, 6))\n",
        "train_data_index = np.arange(0, train_size)\n",
        "plt.plot(train_data_index, scaler.inverse_transform(train_data), label='Train')\n",
        "\n",
        "test_data_index = np.arange(train_size, len(df1))\n",
        "plt.plot(test_data_index, scaler.inverse_transform(test_data), label='Test')\n",
        "\n",
        "pred_data_index = np.arange(train_size + time_step, len(df1) - 1)\n",
        "plt.plot(pred_data_index, test_predict, label='Predict')\n",
        "\n",
        "future_data_index = np.arange(len(df1), len(df1) + 30)\n",
        "plt.plot(future_data_index, lst_output, label='Predict 30 days')\n",
        "\n",
        "plt.legend()\n",
        "plt.show()"
      ],
      "metadata": {
        "colab": {
          "base_uri": "https://localhost:8080/",
          "height": 522
        },
        "id": "Z_S3og4CB4x8",
        "outputId": "c2cdfe45-f4a2-4706-91a5-194dd1cc2bbb"
      },
      "execution_count": 52,
      "outputs": [
        {
          "output_type": "display_data",
          "data": {
            "text/plain": [
              "<Figure size 1200x600 with 1 Axes>"
            ],
            "image/png": "[encoded data removed]"
          },
          "metadata": {}
        }
      ]
    }
  ]
}