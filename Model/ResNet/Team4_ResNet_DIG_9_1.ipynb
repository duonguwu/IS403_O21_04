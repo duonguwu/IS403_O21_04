{
  "nbformat": 4,
  "nbformat_minor": 0,
  "metadata": {
    "colab": {
      "provenance": []
    },
    "kernelspec": {
      "name": "python3",
      "display_name": "Python 3"
    },
    "language_info": {
      "name": "python"
    }
  },
  "cells": [
    {
      "cell_type": "code",
      "execution_count": 19,
      "metadata": {
        "id": "YGidY5DP_tBO"
      },
      "outputs": [],
      "source": [
        "import numpy as np\n",
        "import pandas as pd\n",
        "import matplotlib.pyplot as plt\n",
        "from sklearn.preprocessing import MinMaxScaler\n",
        "import torch\n",
        "import torch.nn as nn\n",
        "from torch.utils.data import DataLoader, Dataset\n",
        "from torch.nn import Module\n",
        "import torch.optim as optim\n"
      ]
    },
    {
      "cell_type": "code",
      "source": [
        "# 2. Đọc file csv và gắng index với giá Close\n",
        "df = pd.read_csv('/content/DIG Historical Data 2018.csv')\n",
        "\n",
        "# Nhận thấy tập dữ liệu, ở cột Price giá tiền có dấu phẩy và đang ở dạng string\n",
        "# Bỏ dấu phẩy\n",
        "df['Price'] = df['Price'].str.replace(',', '')\n",
        "# Chuyển sang dạng số\n",
        "df['Price'] = pd.to_numeric(df['Price'])\n",
        "df = df[::-1]"
      ],
      "metadata": {
        "id": "A-oqH_RI_zVa"
      },
      "execution_count": 20,
      "outputs": []
    },
    {
      "cell_type": "code",
      "source": [
        "df1=df.reset_index()['Price']\n",
        "df1.head()"
      ],
      "metadata": {
        "colab": {
          "base_uri": "https://localhost:8080/"
        },
        "id": "Kda3Av5F_08i",
        "outputId": "4bed5705-d2bd-47bb-b482-ff7ebe2c543c"
      },
      "execution_count": 21,
      "outputs": [
        {
          "output_type": "execute_result",
          "data": {
            "text/plain": [
              "0    11033.2\n",
              "1    11457.6\n",
              "2    12094.1\n",
              "3    12094.1\n",
              "4    12200.2\n",
              "Name: Price, dtype: float64"
            ]
          },
          "metadata": {},
          "execution_count": 21
        }
      ]
    },
    {
      "cell_type": "code",
      "source": [
        "df1"
      ],
      "metadata": {
        "colab": {
          "base_uri": "https://localhost:8080/"
        },
        "id": "FdWmEGpp_14b",
        "outputId": "d3666d19-30aa-4cf5-8659-2f6fcaecc1cb"
      },
      "execution_count": 22,
      "outputs": [
        {
          "output_type": "execute_result",
          "data": {
            "text/plain": [
              "0       11033.2\n",
              "1       11457.6\n",
              "2       12094.1\n",
              "3       12094.1\n",
              "4       12200.2\n",
              "         ...   \n",
              "1547    30450.0\n",
              "1548    29900.0\n",
              "1549    30400.0\n",
              "1550    31700.0\n",
              "1551    31950.0\n",
              "Name: Price, Length: 1552, dtype: float64"
            ]
          },
          "metadata": {},
          "execution_count": 22
        }
      ]
    },
    {
      "cell_type": "code",
      "source": [
        "# 3. Scaler data\n",
        "scaler=MinMaxScaler(feature_range=(0,1))\n",
        "df1=scaler.fit_transform(np.array(df1).reshape(-1,1))"
      ],
      "metadata": {
        "id": "VfqyFVDv_18T"
      },
      "execution_count": 23,
      "outputs": []
    },
    {
      "cell_type": "code",
      "source": [
        "# 4. Chia train test\n",
        "train_size = int(0.9 * len(df1))\n",
        "test_size = int(0.1 * len(df1))\n",
        "\n",
        "train_data = df1[:train_size]\n",
        "test_data = df1[train_size:]"
      ],
      "metadata": {
        "id": "pxlZdaG6_1-r"
      },
      "execution_count": 24,
      "outputs": []
    },
    {
      "cell_type": "code",
      "source": [
        "test_size"
      ],
      "metadata": {
        "colab": {
          "base_uri": "https://localhost:8080/"
        },
        "id": "QH7dizUS_2BT",
        "outputId": "1cb32b57-9f9e-4feb-a1eb-49841764a378"
      },
      "execution_count": 25,
      "outputs": [
        {
          "output_type": "execute_result",
          "data": {
            "text/plain": [
              "155"
            ]
          },
          "metadata": {},
          "execution_count": 25
        }
      ]
    },
    {
      "cell_type": "code",
      "source": [
        "# 5. Hàm Create Dataset\n",
        "import numpy\n",
        "# convert an array of values into a dataset matrix\n",
        "def create_dataset(dataset, time_step=1):\n",
        "\tdataX, dataY = [], []\n",
        "\tfor i in range(len(dataset)-time_step-1):\n",
        "\t\ta = dataset[i:(i+time_step), 0]   ###i=0, X=0,1,2,3-----99   Y=100\n",
        "\t\tdataX.append(a)\n",
        "\t\tdataY.append(dataset[i + time_step, 0])\n",
        "\treturn numpy.array(dataX), numpy.array(dataY)"
      ],
      "metadata": {
        "id": "v0d5deeY_2Dz"
      },
      "execution_count": 26,
      "outputs": []
    },
    {
      "cell_type": "code",
      "source": [
        "# 6. Reshape into X=t,t+1,t+2..t+99 and Y=t+100\n",
        "time_step = 100\n",
        "X_train, y_train = create_dataset(train_data, time_step)\n",
        "X_test, y_test = create_dataset(test_data, time_step)"
      ],
      "metadata": {
        "id": "5RNsv6HN_2Gb"
      },
      "execution_count": 27,
      "outputs": []
    },
    {
      "cell_type": "code",
      "source": [
        "X_train.shape"
      ],
      "metadata": {
        "id": "WB99gI3B_-O1",
        "colab": {
          "base_uri": "https://localhost:8080/"
        },
        "outputId": "0d54d5a8-0024-410e-ec86-6fffc8d92b6d"
      },
      "execution_count": 28,
      "outputs": [
        {
          "output_type": "execute_result",
          "data": {
            "text/plain": [
              "(1295, 100)"
            ]
          },
          "metadata": {},
          "execution_count": 28
        }
      ]
    },
    {
      "cell_type": "code",
      "source": [
        "# Tạo Dataset cho PyTorch\n",
        "class TimeSeriesDataset(Dataset):\n",
        "    def __init__(self, X, y):\n",
        "        self.X = X\n",
        "        self.y = y\n",
        "\n",
        "    def __len__(self):\n",
        "        return len(self.X)\n",
        "\n",
        "    def __getitem__(self, idx):\n",
        "        return torch.tensor(self.X[idx], dtype=torch.float32).unsqueeze(0), torch.tensor(self.y[idx], dtype=torch.float32)\n",
        "\n",
        "train_dataset = TimeSeriesDataset(X_train, y_train)\n",
        "test_dataset = TimeSeriesDataset(X_test, y_test)\n",
        "\n",
        "train_loader = DataLoader(train_dataset, batch_size=64, shuffle=True)\n",
        "test_loader = DataLoader(test_dataset, batch_size=64, shuffle=False)"
      ],
      "metadata": {
        "id": "T7fp0MMDBvSX"
      },
      "execution_count": 29,
      "outputs": []
    },
    {
      "cell_type": "code",
      "source": [
        "# Định nghĩa mô hình ResNetLSTM\n",
        "class ConvBlock(Module):\n",
        "    def __init__(self, ni, nf, ks, stride=1, act=nn.ReLU, act_kwargs={}):\n",
        "        super().__init__()\n",
        "        self.conv = nn.Conv1d(ni, nf, ks, stride=stride, padding=ks//2)\n",
        "        self.bn = nn.BatchNorm1d(nf)\n",
        "        self.act = act(**act_kwargs) if act is not None else nn.Identity()\n",
        "\n",
        "    def forward(self, x):\n",
        "        return self.act(self.bn(self.conv(x)))\n",
        "\n",
        "class ResBlock(Module):\n",
        "    def __init__(self, ni, nf, kss=[7, 5, 3]):\n",
        "        super().__init__()\n",
        "        self.convblock1 = ConvBlock(ni, nf, kss[0])\n",
        "        self.convblock2 = ConvBlock(nf, nf, kss[1])\n",
        "        self.convblock3 = ConvBlock(nf, nf, kss[2], act=None)\n",
        "\n",
        "        self.shortcut = nn.BatchNorm1d(ni) if ni == nf else ConvBlock(ni, nf, 1, act=None)\n",
        "        self.add = nn.Identity()\n",
        "        self.act = nn.ReLU()\n",
        "\n",
        "    def forward(self, x):\n",
        "        res = x\n",
        "        x = self.convblock1(x)\n",
        "        x = self.convblock2(x)\n",
        "        x = self.convblock3(x)\n",
        "        x = self.add(x + self.shortcut(res))\n",
        "        x = self.act(x)\n",
        "        return x\n",
        "\n",
        "class ResNetLSTM(Module):\n",
        "    def __init__(self, c_in, c_out, lstm_hidden_units=50, num_lstm_layers=1):\n",
        "        super().__init__()\n",
        "        nf = 64\n",
        "        kss = [7, 5, 3]\n",
        "        self.resblock1 = ResBlock(c_in, nf, kss=kss)\n",
        "        self.resblock2 = ResBlock(nf, nf * 2, kss=kss)\n",
        "        self.resblock3 = ResBlock(nf * 2, nf * 2, kss=kss)\n",
        "\n",
        "        self.lstm = nn.LSTM(nf * 2, lstm_hidden_units, num_lstm_layers, batch_first=True)\n",
        "        self.fc = nn.Linear(lstm_hidden_units, c_out)\n",
        "\n",
        "    def forward(self, x):\n",
        "        x = self.resblock1(x)\n",
        "        x = self.resblock2(x)\n",
        "        x = self.resblock3(x)\n",
        "        x = x.transpose(1, 2)  # Transpose for LSTM: (batch, channels, seq_len) -> (batch, seq_len, channels)\n",
        "        x, _ = self.lstm(x)\n",
        "        x = x[:, -1, :]  # Lấy đầu ra của LSTM ở bước thời gian cuối cùng\n",
        "        x = self.fc(x)\n",
        "        return x"
      ],
      "metadata": {
        "id": "wgLl06lnBvUv"
      },
      "execution_count": 30,
      "outputs": []
    },
    {
      "cell_type": "code",
      "source": [
        "# Khởi tạo mô hình\n",
        "model = ResNetLSTM(1, 1)\n",
        "criterion = nn.MSELoss()\n",
        "optimizer = optim.Adam(model.parameters(), lr=0.001)"
      ],
      "metadata": {
        "id": "Ws99DDw2BvXI"
      },
      "execution_count": 31,
      "outputs": []
    },
    {
      "cell_type": "code",
      "source": [
        "# Huấn luyện mô hình\n",
        "num_epochs = 60\n",
        "for epoch in range(num_epochs):\n",
        "    model.train()\n",
        "    for inputs, targets in train_loader:\n",
        "        optimizer.zero_grad()\n",
        "        outputs = model(inputs)\n",
        "        loss = criterion(outputs.squeeze(), targets)\n",
        "        loss.backward()\n",
        "        optimizer.step()\n",
        "\n",
        "    model.eval()\n",
        "    test_loss = 0\n",
        "    with torch.no_grad():\n",
        "        for inputs, targets in test_loader:\n",
        "            outputs = model(inputs)\n",
        "            loss = criterion(outputs.squeeze(), targets)\n",
        "            test_loss += loss.item()\n",
        "\n",
        "    test_loss /= len(test_loader)\n",
        "    print(f'Epoch {epoch + 1}/{num_epochs}, Loss: {loss.item()}, Test Loss: {test_loss}')\n"
      ],
      "metadata": {
        "colab": {
          "base_uri": "https://localhost:8080/"
        },
        "id": "5TEsKECfBvZv",
        "outputId": "2cc4eb0b-ad9b-4dcb-97f2-7480091da423"
      },
      "execution_count": 32,
      "outputs": [
        {
          "output_type": "stream",
          "name": "stdout",
          "text": [
            "Epoch 1/60, Loss: 0.029622768983244896, Test Loss: 0.029622768983244896\n",
            "Epoch 2/60, Loss: 0.011887261644005775, Test Loss: 0.011887261644005775\n",
            "Epoch 3/60, Loss: 0.0028827947098761797, Test Loss: 0.0028827947098761797\n",
            "Epoch 4/60, Loss: 0.0001955530169652775, Test Loss: 0.0001955530169652775\n",
            "Epoch 5/60, Loss: 4.5951386709930375e-05, Test Loss: 4.5951386709930375e-05\n",
            "Epoch 6/60, Loss: 0.0002703557547647506, Test Loss: 0.0002703557547647506\n",
            "Epoch 7/60, Loss: 0.0007371287210844457, Test Loss: 0.0007371287210844457\n",
            "Epoch 8/60, Loss: 7.289573841262609e-05, Test Loss: 7.289573841262609e-05\n",
            "Epoch 9/60, Loss: 4.0214967157226056e-05, Test Loss: 4.0214967157226056e-05\n",
            "Epoch 10/60, Loss: 0.0004441693308763206, Test Loss: 0.0004441693308763206\n",
            "Epoch 11/60, Loss: 0.00013212079647928476, Test Loss: 0.00013212079647928476\n",
            "Epoch 12/60, Loss: 5.998192500555888e-05, Test Loss: 5.998192500555888e-05\n",
            "Epoch 13/60, Loss: 0.0004930809955112636, Test Loss: 0.0004930809955112636\n",
            "Epoch 14/60, Loss: 0.00016063821385614574, Test Loss: 0.00016063821385614574\n",
            "Epoch 15/60, Loss: 0.00013847187801729888, Test Loss: 0.00013847187801729888\n",
            "Epoch 16/60, Loss: 0.0004317485436331481, Test Loss: 0.0004317485436331481\n",
            "Epoch 17/60, Loss: 7.021638157311827e-05, Test Loss: 7.021638157311827e-05\n",
            "Epoch 18/60, Loss: 0.00021276464394759387, Test Loss: 0.00021276464394759387\n",
            "Epoch 19/60, Loss: 0.0010465815430507064, Test Loss: 0.0010465815430507064\n",
            "Epoch 20/60, Loss: 0.00010202278645010665, Test Loss: 0.00010202278645010665\n",
            "Epoch 21/60, Loss: 0.00016868210514076054, Test Loss: 0.00016868210514076054\n",
            "Epoch 22/60, Loss: 0.0007206503651104867, Test Loss: 0.0007206503651104867\n",
            "Epoch 23/60, Loss: 5.208781294641085e-05, Test Loss: 5.208781294641085e-05\n",
            "Epoch 24/60, Loss: 0.00031442855834029615, Test Loss: 0.00031442855834029615\n",
            "Epoch 25/60, Loss: 9.796318045118824e-05, Test Loss: 9.796318045118824e-05\n",
            "Epoch 26/60, Loss: 0.00012788119784090668, Test Loss: 0.00012788119784090668\n",
            "Epoch 27/60, Loss: 0.00010187931184191257, Test Loss: 0.00010187931184191257\n",
            "Epoch 28/60, Loss: 3.6116016417508945e-05, Test Loss: 3.6116016417508945e-05\n",
            "Epoch 29/60, Loss: 0.0006611793069168925, Test Loss: 0.0006611793069168925\n",
            "Epoch 30/60, Loss: 0.0008476715302094817, Test Loss: 0.0008476715302094817\n",
            "Epoch 31/60, Loss: 0.00015031438670121133, Test Loss: 0.00015031438670121133\n",
            "Epoch 32/60, Loss: 4.107869972358458e-05, Test Loss: 4.107869972358458e-05\n",
            "Epoch 33/60, Loss: 0.0006021700100973248, Test Loss: 0.0006021700100973248\n",
            "Epoch 34/60, Loss: 0.00010268347978126258, Test Loss: 0.00010268347978126258\n",
            "Epoch 35/60, Loss: 5.354212407837622e-05, Test Loss: 5.354212407837622e-05\n",
            "Epoch 36/60, Loss: 0.00018467952031642199, Test Loss: 0.00018467952031642199\n",
            "Epoch 37/60, Loss: 0.0008399690850637853, Test Loss: 0.0008399690850637853\n",
            "Epoch 38/60, Loss: 0.00010816314170369878, Test Loss: 0.00010816314170369878\n",
            "Epoch 39/60, Loss: 0.00012892398808617145, Test Loss: 0.00012892398808617145\n",
            "Epoch 40/60, Loss: 0.0002111196081386879, Test Loss: 0.0002111196081386879\n",
            "Epoch 41/60, Loss: 3.9659695175942034e-05, Test Loss: 3.9659695175942034e-05\n",
            "Epoch 42/60, Loss: 0.0003471827076282352, Test Loss: 0.0003471827076282352\n",
            "Epoch 43/60, Loss: 3.842127262032591e-05, Test Loss: 3.842127262032591e-05\n",
            "Epoch 44/60, Loss: 4.196055670036003e-05, Test Loss: 4.196055670036003e-05\n",
            "Epoch 45/60, Loss: 0.00039442520937882364, Test Loss: 0.00039442520937882364\n",
            "Epoch 46/60, Loss: 0.00010320937144570053, Test Loss: 0.00010320937144570053\n",
            "Epoch 47/60, Loss: 3.4446264180587605e-05, Test Loss: 3.4446264180587605e-05\n",
            "Epoch 48/60, Loss: 3.939643647754565e-05, Test Loss: 3.939643647754565e-05\n",
            "Epoch 49/60, Loss: 3.4356013202341273e-05, Test Loss: 3.4356013202341273e-05\n",
            "Epoch 50/60, Loss: 3.247782660764642e-05, Test Loss: 3.247782660764642e-05\n",
            "Epoch 51/60, Loss: 0.00025848805671557784, Test Loss: 0.00025848805671557784\n",
            "Epoch 52/60, Loss: 4.1282572055934e-05, Test Loss: 4.1282572055934e-05\n",
            "Epoch 53/60, Loss: 8.54472818900831e-05, Test Loss: 8.54472818900831e-05\n",
            "Epoch 54/60, Loss: 0.00011043933045584708, Test Loss: 0.00011043933045584708\n",
            "Epoch 55/60, Loss: 7.651204941794276e-05, Test Loss: 7.651204941794276e-05\n",
            "Epoch 56/60, Loss: 0.0001427646930096671, Test Loss: 0.0001427646930096671\n",
            "Epoch 57/60, Loss: 6.275411578826606e-05, Test Loss: 6.275411578826606e-05\n",
            "Epoch 58/60, Loss: 3.2924443075899035e-05, Test Loss: 3.2924443075899035e-05\n",
            "Epoch 59/60, Loss: 0.00014334582374431193, Test Loss: 0.00014334582374431193\n",
            "Epoch 60/60, Loss: 0.00039403041591867805, Test Loss: 0.00039403041591867805\n"
          ]
        }
      ]
    },
    {
      "cell_type": "code",
      "source": [
        "# Dự báo dữ liệu test\n",
        "model.eval()\n",
        "train_predict = []\n",
        "with torch.no_grad():\n",
        "    for inputs, _ in train_loader:\n",
        "        outputs = model(inputs)\n",
        "        train_predict.extend(outputs.squeeze().numpy())\n",
        "\n",
        "test_predict = []\n",
        "with torch.no_grad():\n",
        "    for inputs, _ in test_loader:\n",
        "        outputs = model(inputs)\n",
        "        test_predict.extend(outputs.squeeze().numpy())\n",
        "\n",
        "train_predict = scaler.inverse_transform(np.array(train_predict).reshape(-1, 1))\n",
        "test_predict = scaler.inverse_transform(np.array(test_predict).reshape(-1, 1))"
      ],
      "metadata": {
        "id": "JibGgPppB4sI"
      },
      "execution_count": 33,
      "outputs": []
    },
    {
      "cell_type": "code",
      "source": [
        "# Dự báo 30 ngày tiếp theo\n",
        "model.eval()\n",
        "x_input = test_data[-100:].reshape(1, -1)\n",
        "x_input = torch.tensor(x_input, dtype=torch.float32).unsqueeze(0)\n",
        "temp_input = list(x_input[0, 0, :].numpy())\n",
        "lst_output = []\n",
        "\n",
        "for i in range(30):\n",
        "    if len(temp_input) > 100:\n",
        "        x_input = np.array(temp_input[1:])\n",
        "        x_input = torch.tensor(x_input, dtype=torch.float32).unsqueeze(0).unsqueeze(0)\n",
        "        yhat = model(x_input)\n",
        "        temp_input.extend(yhat[0].detach().numpy().tolist())\n",
        "        temp_input = temp_input[1:]\n",
        "        lst_output.extend(yhat.detach().numpy().tolist())\n",
        "    else:\n",
        "        x_input = x_input.reshape((1, 1, time_step))\n",
        "        yhat = model(x_input)\n",
        "        temp_input.extend(yhat[0].detach().numpy().tolist())\n",
        "        lst_output.extend(yhat.detach().numpy().tolist())\n",
        "\n",
        "lst_output = scaler.inverse_transform(lst_output)"
      ],
      "metadata": {
        "id": "okXcLQcfB4vh"
      },
      "execution_count": 34,
      "outputs": []
    },
    {
      "cell_type": "code",
      "source": [
        "# Vẽ hình\n",
        "plt.figure(figsize=(12, 6))\n",
        "train_data_index = np.arange(0, train_size)\n",
        "plt.plot(train_data_index, scaler.inverse_transform(train_data), label='Train')\n",
        "\n",
        "test_data_index = np.arange(train_size, len(df1))\n",
        "plt.plot(test_data_index, scaler.inverse_transform(test_data), label='Test')\n",
        "\n",
        "pred_data_index = np.arange(train_size + time_step, len(df1) - 1)\n",
        "plt.plot(pred_data_index, test_predict, label='Predict')\n",
        "\n",
        "future_data_index = np.arange(len(df1), len(df1) + 30)\n",
        "plt.plot(future_data_index, lst_output, label='Predict 30 days')\n",
        "\n",
        "plt.legend()\n",
        "plt.show()"
      ],
      "metadata": {
        "colab": {
          "base_uri": "https://localhost:8080/",
          "height": 522
        },
        "id": "Z_S3og4CB4x8",
        "outputId": "01599fa6-7972-45e9-93b1-c1abdccc22ac"
      },
      "execution_count": 35,
      "outputs": [
        {
          "output_type": "display_data",
          "data": {
            "text/plain": [
              "<Figure size 1200x600 with 1 Axes>"
            ],
            "image/png": "[encoded data removed]"
          },
          "metadata": {}
        }
      ]
    }
  ]
}