{
  "nbformat": 4,
  "nbformat_minor": 0,
  "metadata": {
    "colab": {
      "provenance": []
    },
    "kernelspec": {
      "name": "python3",
      "display_name": "Python 3"
    },
    "language_info": {
      "name": "python"
    }
  },
  "cells": [
    {
      "cell_type": "code",
      "execution_count": 3,
      "metadata": {
        "id": "YGidY5DP_tBO"
      },
      "outputs": [],
      "source": [
        "import numpy as np\n",
        "import pandas as pd\n",
        "import matplotlib.pyplot as plt\n",
        "from sklearn.preprocessing import MinMaxScaler\n",
        "import torch\n",
        "import torch.nn as nn\n",
        "from torch.utils.data import DataLoader, Dataset\n",
        "from torch.nn import Module\n",
        "import torch.optim as optim\n"
      ]
    },
    {
      "cell_type": "code",
      "source": [
        "# 2. Đọc file csv và gắng index với giá Close\n",
        "df = pd.read_csv('/content/NVL Historical Data 2018.csv')\n",
        "\n",
        "# Nhận thấy tập dữ liệu, ở cột Price giá tiền có dấu phẩy và đang ở dạng string\n",
        "# Bỏ dấu phẩy\n",
        "df['Price'] = df['Price'].str.replace(',', '')\n",
        "# Chuyển sang dạng số\n",
        "df['Price'] = pd.to_numeric(df['Price'])\n",
        "df = df[::-1]"
      ],
      "metadata": {
        "id": "A-oqH_RI_zVa"
      },
      "execution_count": 4,
      "outputs": []
    },
    {
      "cell_type": "code",
      "source": [
        "df1=df.reset_index()['Price']\n",
        "df1.head()"
      ],
      "metadata": {
        "colab": {
          "base_uri": "https://localhost:8080/"
        },
        "id": "Kda3Av5F_08i",
        "outputId": "e2c19619-ab61-41a8-80cd-e5eadd80d9af"
      },
      "execution_count": 5,
      "outputs": [
        {
          "output_type": "execute_result",
          "data": {
            "text/plain": [
              "0    27815\n",
              "1    28410\n",
              "2    28707\n",
              "3    28962\n",
              "4    29556\n",
              "Name: Price, dtype: int64"
            ]
          },
          "metadata": {},
          "execution_count": 5
        }
      ]
    },
    {
      "cell_type": "code",
      "source": [
        "df1"
      ],
      "metadata": {
        "colab": {
          "base_uri": "https://localhost:8080/"
        },
        "id": "FdWmEGpp_14b",
        "outputId": "ae744496-8587-4b1f-9ae1-e3ff94cca8bb"
      },
      "execution_count": 6,
      "outputs": [
        {
          "output_type": "execute_result",
          "data": {
            "text/plain": [
              "0       27815\n",
              "1       28410\n",
              "2       28707\n",
              "3       28962\n",
              "4       29556\n",
              "        ...  \n",
              "1547    16700\n",
              "1548    16500\n",
              "1549    16550\n",
              "1550    17100\n",
              "1551    17100\n",
              "Name: Price, Length: 1552, dtype: int64"
            ]
          },
          "metadata": {},
          "execution_count": 6
        }
      ]
    },
    {
      "cell_type": "code",
      "source": [
        "# 3. Scaler data\n",
        "scaler=MinMaxScaler(feature_range=(0,1))\n",
        "df1=scaler.fit_transform(np.array(df1).reshape(-1,1))"
      ],
      "metadata": {
        "id": "VfqyFVDv_18T"
      },
      "execution_count": 7,
      "outputs": []
    },
    {
      "cell_type": "code",
      "source": [
        "# 4. Chia train test\n",
        "train_size = int(0.7 * len(df1))\n",
        "test_size = int(0.3 * len(df1))\n",
        "\n",
        "train_data = df1[:train_size]\n",
        "test_data = df1[train_size:]"
      ],
      "metadata": {
        "id": "pxlZdaG6_1-r"
      },
      "execution_count": 8,
      "outputs": []
    },
    {
      "cell_type": "code",
      "source": [
        "test_size"
      ],
      "metadata": {
        "colab": {
          "base_uri": "https://localhost:8080/"
        },
        "id": "QH7dizUS_2BT",
        "outputId": "90cfd5f0-bdcc-4572-8b6e-1e2381209a7a"
      },
      "execution_count": 9,
      "outputs": [
        {
          "output_type": "execute_result",
          "data": {
            "text/plain": [
              "465"
            ]
          },
          "metadata": {},
          "execution_count": 9
        }
      ]
    },
    {
      "cell_type": "code",
      "source": [
        "# 5. Hàm Create Dataset\n",
        "import numpy\n",
        "# convert an array of values into a dataset matrix\n",
        "def create_dataset(dataset, time_step=1):\n",
        "\tdataX, dataY = [], []\n",
        "\tfor i in range(len(dataset)-time_step-1):\n",
        "\t\ta = dataset[i:(i+time_step), 0]   ###i=0, X=0,1,2,3-----99   Y=100\n",
        "\t\tdataX.append(a)\n",
        "\t\tdataY.append(dataset[i + time_step, 0])\n",
        "\treturn numpy.array(dataX), numpy.array(dataY)"
      ],
      "metadata": {
        "id": "v0d5deeY_2Dz"
      },
      "execution_count": 10,
      "outputs": []
    },
    {
      "cell_type": "code",
      "source": [
        "# 6. Reshape into X=t,t+1,t+2..t+99 and Y=t+100\n",
        "time_step = 100\n",
        "X_train, y_train = create_dataset(train_data, time_step)\n",
        "X_test, y_test = create_dataset(test_data, time_step)"
      ],
      "metadata": {
        "id": "5RNsv6HN_2Gb"
      },
      "execution_count": 11,
      "outputs": []
    },
    {
      "cell_type": "code",
      "source": [
        "X_train.shape"
      ],
      "metadata": {
        "id": "WB99gI3B_-O1"
      },
      "execution_count": null,
      "outputs": []
    },
    {
      "cell_type": "code",
      "source": [
        "# Tạo Dataset cho PyTorch\n",
        "class TimeSeriesDataset(Dataset):\n",
        "    def __init__(self, X, y):\n",
        "        self.X = X\n",
        "        self.y = y\n",
        "\n",
        "    def __len__(self):\n",
        "        return len(self.X)\n",
        "\n",
        "    def __getitem__(self, idx):\n",
        "        return torch.tensor(self.X[idx], dtype=torch.float32).unsqueeze(0), torch.tensor(self.y[idx], dtype=torch.float32)\n",
        "\n",
        "train_dataset = TimeSeriesDataset(X_train, y_train)\n",
        "test_dataset = TimeSeriesDataset(X_test, y_test)\n",
        "\n",
        "train_loader = DataLoader(train_dataset, batch_size=64, shuffle=True)\n",
        "test_loader = DataLoader(test_dataset, batch_size=64, shuffle=False)"
      ],
      "metadata": {
        "id": "T7fp0MMDBvSX"
      },
      "execution_count": 12,
      "outputs": []
    },
    {
      "cell_type": "code",
      "source": [
        "# Định nghĩa mô hình ResNetLSTM\n",
        "class ConvBlock(Module):\n",
        "    def __init__(self, ni, nf, ks, stride=1, act=nn.ReLU, act_kwargs={}):\n",
        "        super().__init__()\n",
        "        self.conv = nn.Conv1d(ni, nf, ks, stride=stride, padding=ks//2)\n",
        "        self.bn = nn.BatchNorm1d(nf)\n",
        "        self.act = act(**act_kwargs) if act is not None else nn.Identity()\n",
        "\n",
        "    def forward(self, x):\n",
        "        return self.act(self.bn(self.conv(x)))\n",
        "\n",
        "class ResBlock(Module):\n",
        "    def __init__(self, ni, nf, kss=[7, 5, 3]):\n",
        "        super().__init__()\n",
        "        self.convblock1 = ConvBlock(ni, nf, kss[0])\n",
        "        self.convblock2 = ConvBlock(nf, nf, kss[1])\n",
        "        self.convblock3 = ConvBlock(nf, nf, kss[2], act=None)\n",
        "\n",
        "        self.shortcut = nn.BatchNorm1d(ni) if ni == nf else ConvBlock(ni, nf, 1, act=None)\n",
        "        self.add = nn.Identity()\n",
        "        self.act = nn.ReLU()\n",
        "\n",
        "    def forward(self, x):\n",
        "        res = x\n",
        "        x = self.convblock1(x)\n",
        "        x = self.convblock2(x)\n",
        "        x = self.convblock3(x)\n",
        "        x = self.add(x + self.shortcut(res))\n",
        "        x = self.act(x)\n",
        "        return x\n",
        "\n",
        "class ResNetLSTM(Module):\n",
        "    def __init__(self, c_in, c_out, lstm_hidden_units=50, num_lstm_layers=1):\n",
        "        super().__init__()\n",
        "        nf = 64\n",
        "        kss = [7, 5, 3]\n",
        "        self.resblock1 = ResBlock(c_in, nf, kss=kss)\n",
        "        self.resblock2 = ResBlock(nf, nf * 2, kss=kss)\n",
        "        self.resblock3 = ResBlock(nf * 2, nf * 2, kss=kss)\n",
        "\n",
        "        self.lstm = nn.LSTM(nf * 2, lstm_hidden_units, num_lstm_layers, batch_first=True)\n",
        "        self.fc = nn.Linear(lstm_hidden_units, c_out)\n",
        "\n",
        "    def forward(self, x):\n",
        "        x = self.resblock1(x)\n",
        "        x = self.resblock2(x)\n",
        "        x = self.resblock3(x)\n",
        "        x = x.transpose(1, 2)  # Transpose for LSTM: (batch, channels, seq_len) -> (batch, seq_len, channels)\n",
        "        x, _ = self.lstm(x)\n",
        "        x = x[:, -1, :]  # Lấy đầu ra của LSTM ở bước thời gian cuối cùng\n",
        "        x = self.fc(x)\n",
        "        return x"
      ],
      "metadata": {
        "id": "wgLl06lnBvUv"
      },
      "execution_count": 13,
      "outputs": []
    },
    {
      "cell_type": "code",
      "source": [
        "# Khởi tạo mô hình\n",
        "model = ResNetLSTM(1, 1)\n",
        "criterion = nn.MSELoss()\n",
        "optimizer = optim.Adam(model.parameters(), lr=0.001)"
      ],
      "metadata": {
        "id": "Ws99DDw2BvXI"
      },
      "execution_count": 14,
      "outputs": []
    },
    {
      "cell_type": "code",
      "source": [
        "# Huấn luyện mô hình\n",
        "num_epochs = 30\n",
        "for epoch in range(num_epochs):\n",
        "    model.train()\n",
        "    for inputs, targets in train_loader:\n",
        "        optimizer.zero_grad()\n",
        "        outputs = model(inputs)\n",
        "        loss = criterion(outputs.squeeze(), targets)\n",
        "        loss.backward()\n",
        "        optimizer.step()\n",
        "\n",
        "    model.eval()\n",
        "    test_loss = 0\n",
        "    with torch.no_grad():\n",
        "        for inputs, targets in test_loader:\n",
        "            outputs = model(inputs)\n",
        "            loss = criterion(outputs.squeeze(), targets)\n",
        "            test_loss += loss.item()\n",
        "\n",
        "    test_loss /= len(test_loader)\n",
        "    print(f'Epoch {epoch + 1}/{num_epochs}, Loss: {loss.item()}, Test Loss: {test_loss}')\n"
      ],
      "metadata": {
        "colab": {
          "base_uri": "https://localhost:8080/"
        },
        "id": "5TEsKECfBvZv",
        "outputId": "8ee3a112-2e7c-45ba-c295-bcd990bc18a6"
      },
      "execution_count": 16,
      "outputs": [
        {
          "output_type": "stream",
          "name": "stdout",
          "text": [
            "Epoch 1/30, Loss: 0.012918663211166859, Test Loss: 0.013926293623323241\n",
            "Epoch 2/30, Loss: 0.010184163227677345, Test Loss: 0.01106703351251781\n",
            "Epoch 3/30, Loss: 0.008051968179643154, Test Loss: 0.009753036662004888\n",
            "Epoch 4/30, Loss: 0.00850671250373125, Test Loss: 0.010261389194056392\n",
            "Epoch 5/30, Loss: 0.010793284513056278, Test Loss: 0.012587531236931682\n",
            "Epoch 6/30, Loss: 0.007886465638875961, Test Loss: 0.009604045927214125\n",
            "Epoch 7/30, Loss: 0.009530840441584587, Test Loss: 0.010911000426858664\n",
            "Epoch 8/30, Loss: 0.012678639963269234, Test Loss: 0.013239706245561441\n",
            "Epoch 9/30, Loss: 0.011819619685411453, Test Loss: 0.012926552755137285\n",
            "Epoch 10/30, Loss: 0.01307944767177105, Test Loss: 0.014398098535214862\n",
            "Epoch 11/30, Loss: 0.01113384310156107, Test Loss: 0.012802190147340298\n",
            "Epoch 12/30, Loss: 0.012443429790437222, Test Loss: 0.013474536982054511\n",
            "Epoch 13/30, Loss: 0.012760265730321407, Test Loss: 0.013911695452407002\n",
            "Epoch 14/30, Loss: 0.011604170314967632, Test Loss: 0.01304974026667575\n",
            "Epoch 15/30, Loss: 0.00902150571346283, Test Loss: 0.010478155454620719\n",
            "Epoch 16/30, Loss: 0.010857505723834038, Test Loss: 0.013905235100537539\n",
            "Epoch 17/30, Loss: 0.009545009583234787, Test Loss: 0.014175674878060818\n",
            "Epoch 18/30, Loss: 0.012501578778028488, Test Loss: 0.022007890045642853\n",
            "Epoch 19/30, Loss: 0.012868382968008518, Test Loss: 0.02732163155451417\n",
            "Epoch 20/30, Loss: 0.014874881133437157, Test Loss: 0.031048594197879236\n",
            "Epoch 21/30, Loss: 0.011013600043952465, Test Loss: 0.016498155271013577\n",
            "Epoch 22/30, Loss: 0.008067980408668518, Test Loss: 0.012881073247020444\n",
            "Epoch 23/30, Loss: 0.009159470908343792, Test Loss: 0.01435949094593525\n",
            "Epoch 24/30, Loss: 0.010454871691763401, Test Loss: 0.015087840535367528\n",
            "Epoch 25/30, Loss: 0.011311025358736515, Test Loss: 0.015224179718643427\n",
            "Epoch 26/30, Loss: 0.01097196713089943, Test Loss: 0.015247092271844545\n",
            "Epoch 27/30, Loss: 0.007936627604067326, Test Loss: 0.010883468009221057\n",
            "Epoch 28/30, Loss: 0.010780857875943184, Test Loss: 0.015947829000651836\n",
            "Epoch 29/30, Loss: 0.011858370155096054, Test Loss: 0.01615622212799887\n",
            "Epoch 30/30, Loss: 0.01375458762049675, Test Loss: 0.01920852034042279\n"
          ]
        }
      ]
    },
    {
      "cell_type": "code",
      "source": [
        "# Dự báo dữ liệu test\n",
        "model.eval()\n",
        "train_predict = []\n",
        "with torch.no_grad():\n",
        "    for inputs, _ in train_loader:\n",
        "        outputs = model(inputs)\n",
        "        train_predict.extend(outputs.squeeze().numpy())\n",
        "\n",
        "test_predict = []\n",
        "with torch.no_grad():\n",
        "    for inputs, _ in test_loader:\n",
        "        outputs = model(inputs)\n",
        "        test_predict.extend(outputs.squeeze().numpy())\n",
        "\n",
        "train_predict = scaler.inverse_transform(np.array(train_predict).reshape(-1, 1))\n",
        "test_predict = scaler.inverse_transform(np.array(test_predict).reshape(-1, 1))"
      ],
      "metadata": {
        "id": "JibGgPppB4sI"
      },
      "execution_count": 17,
      "outputs": []
    },
    {
      "cell_type": "code",
      "source": [
        "# Dự báo 30 ngày tiếp theo\n",
        "model.eval()\n",
        "x_input = test_data[-100:].reshape(1, -1)\n",
        "x_input = torch.tensor(x_input, dtype=torch.float32).unsqueeze(0)\n",
        "temp_input = list(x_input[0, 0, :].numpy())\n",
        "lst_output = []\n",
        "\n",
        "for i in range(30):\n",
        "    if len(temp_input) > 100:\n",
        "        x_input = np.array(temp_input[1:])\n",
        "        x_input = torch.tensor(x_input, dtype=torch.float32).unsqueeze(0).unsqueeze(0)\n",
        "        yhat = model(x_input)\n",
        "        temp_input.extend(yhat[0].detach().numpy().tolist())\n",
        "        temp_input = temp_input[1:]\n",
        "        lst_output.extend(yhat.detach().numpy().tolist())\n",
        "    else:\n",
        "        x_input = x_input.reshape((1, 1, time_step))\n",
        "        yhat = model(x_input)\n",
        "        temp_input.extend(yhat[0].detach().numpy().tolist())\n",
        "        lst_output.extend(yhat.detach().numpy().tolist())\n",
        "\n",
        "lst_output = scaler.inverse_transform(lst_output)"
      ],
      "metadata": {
        "id": "okXcLQcfB4vh"
      },
      "execution_count": 18,
      "outputs": []
    },
    {
      "cell_type": "code",
      "source": [
        "# Vẽ hình\n",
        "plt.figure(figsize=(12, 6))\n",
        "train_data_index = np.arange(0, train_size)\n",
        "plt.plot(train_data_index, scaler.inverse_transform(train_data), label='Train')\n",
        "\n",
        "test_data_index = np.arange(train_size, len(df1))\n",
        "plt.plot(test_data_index, scaler.inverse_transform(test_data), label='Test')\n",
        "\n",
        "pred_data_index = np.arange(train_size + time_step, len(df1) - 1)\n",
        "plt.plot(pred_data_index, test_predict, label='Predict')\n",
        "\n",
        "future_data_index = np.arange(len(df1), len(df1) + 30)\n",
        "plt.plot(future_data_index, lst_output, label='Predict 30 days')\n",
        "\n",
        "plt.legend()\n",
        "plt.show()"
      ],
      "metadata": {
        "colab": {
          "base_uri": "https://localhost:8080/",
          "height": 522
        },
        "id": "Z_S3og4CB4x8",
        "outputId": "6505a907-94a4-4eda-a492-656144ae6c78"
      },
      "execution_count": 19,
      "outputs": [
        {
          "output_type": "display_data",
          "data": {
            "text/plain": [
              "<Figure size 1200x600 with 1 Axes>"
            ],
            "image/png": "[encoded data removed]"
          },
          "metadata": {}
        }
      ]
    },
    {
      "cell_type": "code",
      "source": [
        "# 14.Vẽ hình\n",
        "plt.figure(figsize=(12,6))\n",
        "train_data_index = pd.RangeIndex(start=0, stop=train_size, step=1)\n",
        "plt.plot(scaler.inverse_transform(train_data))\n",
        "\n",
        "test_data_index = pd.RangeIndex(start=train_size, stop=train_size+test_size+1, step=1)\n",
        "plt.plot(test_data_index,scaler.inverse_transform(test_data))\n",
        "\n",
        "test_data_index = pd.RangeIndex(start=train_size+101, stop=train_size+test_size+1, step=1)\n",
        "plt.plot(test_data_index,(y_pred))\n",
        "\n",
        "prediect_data_index = pd.RangeIndex(start=len(df1)-1, stop=len(df1)+29, step=1)\n",
        "plt.plot(prediect_data_index,scaler.inverse_transform(lst_output))\n",
        "\n",
        "plt.legend(['Train','Test','Predict','Predict30days'])\n",
        "plt.show()"
      ],
      "metadata": {
        "id": "XFQb86GiBvcV"
      },
      "execution_count": null,
      "outputs": []
    }
  ]
}