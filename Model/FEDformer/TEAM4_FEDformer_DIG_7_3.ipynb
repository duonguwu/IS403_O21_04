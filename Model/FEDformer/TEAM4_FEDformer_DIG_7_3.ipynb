{
  "nbformat": 4,
  "nbformat_minor": 0,
  "metadata": {
    "colab": {
      "provenance": [],
      "gpuType": "T4"
    },
    "kernelspec": {
      "name": "python3",
      "display_name": "Python 3"
    },
    "language_info": {
      "name": "python"
    },
    "accelerator": "GPU",
    "widgets": {
      "application/vnd.jupyter.widget-state+json": {
        "d3ae615414134d4ab92370cd5f26faa3": {
          "model_module": "@jupyter-widgets/controls",
          "model_name": "HBoxModel",
          "model_module_version": "1.5.0",
          "state": {
            "_dom_classes": [],
            "_model_module": "@jupyter-widgets/controls",
            "_model_module_version": "1.5.0",
            "_model_name": "HBoxModel",
            "_view_count": null,
            "_view_module": "@jupyter-widgets/controls",
            "_view_module_version": "1.5.0",
            "_view_name": "HBoxView",
            "box_style": "",
            "children": [
              "IPY_MODEL_ce86908febc84284b37b495db8ca6985",
              "IPY_MODEL_6b798e10a44343c1b754aaedc7d1d658",
              "IPY_MODEL_ace2c999f4f442b2882762be8b9c71ed"
            ],
            "layout": "IPY_MODEL_73d644af92774954b59f61aaae5784bc"
          }
        },
        "ce86908febc84284b37b495db8ca6985": {
          "model_module": "@jupyter-widgets/controls",
          "model_name": "HTMLModel",
          "model_module_version": "1.5.0",
          "state": {
            "_dom_classes": [],
            "_model_module": "@jupyter-widgets/controls",
            "_model_module_version": "1.5.0",
            "_model_name": "HTMLModel",
            "_view_count": null,
            "_view_module": "@jupyter-widgets/controls",
            "_view_module_version": "1.5.0",
            "_view_name": "HTMLView",
            "description": "",
            "description_tooltip": null,
            "layout": "IPY_MODEL_7dc76dd829584dc7a7bb876c91188fbb",
            "placeholder": "​",
            "style": "IPY_MODEL_ab5a3302896547b78d88977d84502d1c",
            "value": "Sanity Checking DataLoader 0: 100%"
          }
        },
        "6b798e10a44343c1b754aaedc7d1d658": {
          "model_module": "@jupyter-widgets/controls",
          "model_name": "FloatProgressModel",
          "model_module_version": "1.5.0",
          "state": {
            "_dom_classes": [],
            "_model_module": "@jupyter-widgets/controls",
            "_model_module_version": "1.5.0",
            "_model_name": "FloatProgressModel",
            "_view_count": null,
            "_view_module": "@jupyter-widgets/controls",
            "_view_module_version": "1.5.0",
            "_view_name": "ProgressView",
            "bar_style": "",
            "description": "",
            "description_tooltip": null,
            "layout": "IPY_MODEL_20cca87ba1f7412bac507b0e1fcdd83a",
            "max": 1,
            "min": 0,
            "orientation": "horizontal",
            "style": "IPY_MODEL_5b1d1b29fd1a4c5187ccbbe0bce2e874",
            "value": 1
          }
        },
        "ace2c999f4f442b2882762be8b9c71ed": {
          "model_module": "@jupyter-widgets/controls",
          "model_name": "HTMLModel",
          "model_module_version": "1.5.0",
          "state": {
            "_dom_classes": [],
            "_model_module": "@jupyter-widgets/controls",
            "_model_module_version": "1.5.0",
            "_model_name": "HTMLModel",
            "_view_count": null,
            "_view_module": "@jupyter-widgets/controls",
            "_view_module_version": "1.5.0",
            "_view_name": "HTMLView",
            "description": "",
            "description_tooltip": null,
            "layout": "IPY_MODEL_945bbe234fa547cf9c384b178bfb1a4f",
            "placeholder": "​",
            "style": "IPY_MODEL_f4cd39ebcc3c40579ef659e59f113a2a",
            "value": " 1/1 [00:00&lt;00:00, 317.89it/s]"
          }
        },
        "73d644af92774954b59f61aaae5784bc": {
          "model_module": "@jupyter-widgets/base",
          "model_name": "LayoutModel",
          "model_module_version": "1.2.0",
          "state": {
            "_model_module": "@jupyter-widgets/base",
            "_model_module_version": "1.2.0",
            "_model_name": "LayoutModel",
            "_view_count": null,
            "_view_module": "@jupyter-widgets/base",
            "_view_module_version": "1.2.0",
            "_view_name": "LayoutView",
            "align_content": null,
            "align_items": null,
            "align_self": null,
            "border": null,
            "bottom": null,
            "display": "inline-flex",
            "flex": null,
            "flex_flow": "row wrap",
            "grid_area": null,
            "grid_auto_columns": null,
            "grid_auto_flow": null,
            "grid_auto_rows": null,
            "grid_column": null,
            "grid_gap": null,
            "grid_row": null,
            "grid_template_areas": null,
            "grid_template_columns": null,
            "grid_template_rows": null,
            "height": null,
            "justify_content": null,
            "justify_items": null,
            "left": null,
            "margin": null,
            "max_height": null,
            "max_width": null,
            "min_height": null,
            "min_width": null,
            "object_fit": null,
            "object_position": null,
            "order": null,
            "overflow": null,
            "overflow_x": null,
            "overflow_y": null,
            "padding": null,
            "right": null,
            "top": null,
            "visibility": "hidden",
            "width": "100%"
          }
        },
        "7dc76dd829584dc7a7bb876c91188fbb": {
          "model_module": "@jupyter-widgets/base",
          "model_name": "LayoutModel",
          "model_module_version": "1.2.0",
          "state": {
            "_model_module": "@jupyter-widgets/base",
            "_model_module_version": "1.2.0",
            "_model_name": "LayoutModel",
            "_view_count": null,
            "_view_module": "@jupyter-widgets/base",
            "_view_module_version": "1.2.0",
            "_view_name": "LayoutView",
            "align_content": null,
            "align_items": null,
            "align_self": null,
            "border": null,
            "bottom": null,
            "display": null,
            "flex": null,
            "flex_flow": null,
            "grid_area": null,
            "grid_auto_columns": null,
            "grid_auto_flow": null,
            "grid_auto_rows": null,
            "grid_column": null,
            "grid_gap": null,
            "grid_row": null,
            "grid_template_areas": null,
            "grid_template_columns": null,
            "grid_template_rows": null,
            "height": null,
            "justify_content": null,
            "justify_items": null,
            "left": null,
            "margin": null,
            "max_height": null,
            "max_width": null,
            "min_height": null,
            "min_width": null,
            "object_fit": null,
            "object_position": null,
            "order": null,
            "overflow": null,
            "overflow_x": null,
            "overflow_y": null,
            "padding": null,
            "right": null,
            "top": null,
            "visibility": null,
            "width": null
          }
        },
        "ab5a3302896547b78d88977d84502d1c": {
          "model_module": "@jupyter-widgets/controls",
          "model_name": "DescriptionStyleModel",
          "model_module_version": "1.5.0",
          "state": {
            "_model_module": "@jupyter-widgets/controls",
            "_model_module_version": "1.5.0",
            "_model_name": "DescriptionStyleModel",
            "_view_count": null,
            "_view_module": "@jupyter-widgets/base",
            "_view_module_version": "1.2.0",
            "_view_name": "StyleView",
            "description_width": ""
          }
        },
        "20cca87ba1f7412bac507b0e1fcdd83a": {
          "model_module": "@jupyter-widgets/base",
          "model_name": "LayoutModel",
          "model_module_version": "1.2.0",
          "state": {
            "_model_module": "@jupyter-widgets/base",
            "_model_module_version": "1.2.0",
            "_model_name": "LayoutModel",
            "_view_count": null,
            "_view_module": "@jupyter-widgets/base",
            "_view_module_version": "1.2.0",
            "_view_name": "LayoutView",
            "align_content": null,
            "align_items": null,
            "align_self": null,
            "border": null,
            "bottom": null,
            "display": null,
            "flex": "2",
            "flex_flow": null,
            "grid_area": null,
            "grid_auto_columns": null,
            "grid_auto_flow": null,
            "grid_auto_rows": null,
            "grid_column": null,
            "grid_gap": null,
            "grid_row": null,
            "grid_template_areas": null,
            "grid_template_columns": null,
            "grid_template_rows": null,
            "height": null,
            "justify_content": null,
            "justify_items": null,
            "left": null,
            "margin": null,
            "max_height": null,
            "max_width": null,
            "min_height": null,
            "min_width": null,
            "object_fit": null,
            "object_position": null,
            "order": null,
            "overflow": null,
            "overflow_x": null,
            "overflow_y": null,
            "padding": null,
            "right": null,
            "top": null,
            "visibility": null,
            "width": null
          }
        },
        "5b1d1b29fd1a4c5187ccbbe0bce2e874": {
          "model_module": "@jupyter-widgets/controls",
          "model_name": "ProgressStyleModel",
          "model_module_version": "1.5.0",
          "state": {
            "_model_module": "@jupyter-widgets/controls",
            "_model_module_version": "1.5.0",
            "_model_name": "ProgressStyleModel",
            "_view_count": null,
            "_view_module": "@jupyter-widgets/base",
            "_view_module_version": "1.2.0",
            "_view_name": "StyleView",
            "bar_color": null,
            "description_width": ""
          }
        },
        "945bbe234fa547cf9c384b178bfb1a4f": {
          "model_module": "@jupyter-widgets/base",
          "model_name": "LayoutModel",
          "model_module_version": "1.2.0",
          "state": {
            "_model_module": "@jupyter-widgets/base",
            "_model_module_version": "1.2.0",
            "_model_name": "LayoutModel",
            "_view_count": null,
            "_view_module": "@jupyter-widgets/base",
            "_view_module_version": "1.2.0",
            "_view_name": "LayoutView",
            "align_content": null,
            "align_items": null,
            "align_self": null,
            "border": null,
            "bottom": null,
            "display": null,
            "flex": null,
            "flex_flow": null,
            "grid_area": null,
            "grid_auto_columns": null,
            "grid_auto_flow": null,
            "grid_auto_rows": null,
            "grid_column": null,
            "grid_gap": null,
            "grid_row": null,
            "grid_template_areas": null,
            "grid_template_columns": null,
            "grid_template_rows": null,
            "height": null,
            "justify_content": null,
            "justify_items": null,
            "left": null,
            "margin": null,
            "max_height": null,
            "max_width": null,
            "min_height": null,
            "min_width": null,
            "object_fit": null,
            "object_position": null,
            "order": null,
            "overflow": null,
            "overflow_x": null,
            "overflow_y": null,
            "padding": null,
            "right": null,
            "top": null,
            "visibility": null,
            "width": null
          }
        },
        "f4cd39ebcc3c40579ef659e59f113a2a": {
          "model_module": "@jupyter-widgets/controls",
          "model_name": "DescriptionStyleModel",
          "model_module_version": "1.5.0",
          "state": {
            "_model_module": "@jupyter-widgets/controls",
            "_model_module_version": "1.5.0",
            "_model_name": "DescriptionStyleModel",
            "_view_count": null,
            "_view_module": "@jupyter-widgets/base",
            "_view_module_version": "1.2.0",
            "_view_name": "StyleView",
            "description_width": ""
          }
        },
        "88fde69ec5ea40c1b8e92a2605d8cdd2": {
          "model_module": "@jupyter-widgets/controls",
          "model_name": "HBoxModel",
          "model_module_version": "1.5.0",
          "state": {
            "_dom_classes": [],
            "_model_module": "@jupyter-widgets/controls",
            "_model_module_version": "1.5.0",
            "_model_name": "HBoxModel",
            "_view_count": null,
            "_view_module": "@jupyter-widgets/controls",
            "_view_module_version": "1.5.0",
            "_view_name": "HBoxView",
            "box_style": "",
            "children": [
              "IPY_MODEL_8b3a1fb09ff74e9da083b2a6f97868ab",
              "IPY_MODEL_d0e3ad6fc6c345b09380be72034d28e9",
              "IPY_MODEL_7dd2308bd68d43348389ff682de7f997"
            ],
            "layout": "IPY_MODEL_99ceb314bccb41718bb15462ab5a1069"
          }
        },
        "8b3a1fb09ff74e9da083b2a6f97868ab": {
          "model_module": "@jupyter-widgets/controls",
          "model_name": "HTMLModel",
          "model_module_version": "1.5.0",
          "state": {
            "_dom_classes": [],
            "_model_module": "@jupyter-widgets/controls",
            "_model_module_version": "1.5.0",
            "_model_name": "HTMLModel",
            "_view_count": null,
            "_view_module": "@jupyter-widgets/controls",
            "_view_module_version": "1.5.0",
            "_view_name": "HTMLView",
            "description": "",
            "description_tooltip": null,
            "layout": "IPY_MODEL_201d725cfce34affbea70e6e77dd94d5",
            "placeholder": "​",
            "style": "IPY_MODEL_e6d726f744b2449bbb4180713d48ad62",
            "value": "Epoch 99: 100%"
          }
        },
        "d0e3ad6fc6c345b09380be72034d28e9": {
          "model_module": "@jupyter-widgets/controls",
          "model_name": "FloatProgressModel",
          "model_module_version": "1.5.0",
          "state": {
            "_dom_classes": [],
            "_model_module": "@jupyter-widgets/controls",
            "_model_module_version": "1.5.0",
            "_model_name": "FloatProgressModel",
            "_view_count": null,
            "_view_module": "@jupyter-widgets/controls",
            "_view_module_version": "1.5.0",
            "_view_name": "ProgressView",
            "bar_style": "success",
            "description": "",
            "description_tooltip": null,
            "layout": "IPY_MODEL_806e6cdf261b40dabddd7ca27155fb88",
            "max": 1,
            "min": 0,
            "orientation": "horizontal",
            "style": "IPY_MODEL_3e36bd213dd545e5a88207094356255a",
            "value": 1
          }
        },
        "7dd2308bd68d43348389ff682de7f997": {
          "model_module": "@jupyter-widgets/controls",
          "model_name": "HTMLModel",
          "model_module_version": "1.5.0",
          "state": {
            "_dom_classes": [],
            "_model_module": "@jupyter-widgets/controls",
            "_model_module_version": "1.5.0",
            "_model_name": "HTMLModel",
            "_view_count": null,
            "_view_module": "@jupyter-widgets/controls",
            "_view_module_version": "1.5.0",
            "_view_name": "HTMLView",
            "description": "",
            "description_tooltip": null,
            "layout": "IPY_MODEL_362a811f90d941d0ba10819021f95059",
            "placeholder": "​",
            "style": "IPY_MODEL_1b03f1c2ca9a4379943a17823523bb23",
            "value": " 1/1 [00:01&lt;00:00,  0.53it/s, v_num=12, train_loss_step=16.80, train_loss_epoch=16.80]"
          }
        },
        "99ceb314bccb41718bb15462ab5a1069": {
          "model_module": "@jupyter-widgets/base",
          "model_name": "LayoutModel",
          "model_module_version": "1.2.0",
          "state": {
            "_model_module": "@jupyter-widgets/base",
            "_model_module_version": "1.2.0",
            "_model_name": "LayoutModel",
            "_view_count": null,
            "_view_module": "@jupyter-widgets/base",
            "_view_module_version": "1.2.0",
            "_view_name": "LayoutView",
            "align_content": null,
            "align_items": null,
            "align_self": null,
            "border": null,
            "bottom": null,
            "display": "inline-flex",
            "flex": null,
            "flex_flow": "row wrap",
            "grid_area": null,
            "grid_auto_columns": null,
            "grid_auto_flow": null,
            "grid_auto_rows": null,
            "grid_column": null,
            "grid_gap": null,
            "grid_row": null,
            "grid_template_areas": null,
            "grid_template_columns": null,
            "grid_template_rows": null,
            "height": null,
            "justify_content": null,
            "justify_items": null,
            "left": null,
            "margin": null,
            "max_height": null,
            "max_width": null,
            "min_height": null,
            "min_width": null,
            "object_fit": null,
            "object_position": null,
            "order": null,
            "overflow": null,
            "overflow_x": null,
            "overflow_y": null,
            "padding": null,
            "right": null,
            "top": null,
            "visibility": null,
            "width": "100%"
          }
        },
        "201d725cfce34affbea70e6e77dd94d5": {
          "model_module": "@jupyter-widgets/base",
          "model_name": "LayoutModel",
          "model_module_version": "1.2.0",
          "state": {
            "_model_module": "@jupyter-widgets/base",
            "_model_module_version": "1.2.0",
            "_model_name": "LayoutModel",
            "_view_count": null,
            "_view_module": "@jupyter-widgets/base",
            "_view_module_version": "1.2.0",
            "_view_name": "LayoutView",
            "align_content": null,
            "align_items": null,
            "align_self": null,
            "border": null,
            "bottom": null,
            "display": null,
            "flex": null,
            "flex_flow": null,
            "grid_area": null,
            "grid_auto_columns": null,
            "grid_auto_flow": null,
            "grid_auto_rows": null,
            "grid_column": null,
            "grid_gap": null,
            "grid_row": null,
            "grid_template_areas": null,
            "grid_template_columns": null,
            "grid_template_rows": null,
            "height": null,
            "justify_content": null,
            "justify_items": null,
            "left": null,
            "margin": null,
            "max_height": null,
            "max_width": null,
            "min_height": null,
            "min_width": null,
            "object_fit": null,
            "object_position": null,
            "order": null,
            "overflow": null,
            "overflow_x": null,
            "overflow_y": null,
            "padding": null,
            "right": null,
            "top": null,
            "visibility": null,
            "width": null
          }
        },
        "e6d726f744b2449bbb4180713d48ad62": {
          "model_module": "@jupyter-widgets/controls",
          "model_name": "DescriptionStyleModel",
          "model_module_version": "1.5.0",
          "state": {
            "_model_module": "@jupyter-widgets/controls",
            "_model_module_version": "1.5.0",
            "_model_name": "DescriptionStyleModel",
            "_view_count": null,
            "_view_module": "@jupyter-widgets/base",
            "_view_module_version": "1.2.0",
            "_view_name": "StyleView",
            "description_width": ""
          }
        },
        "806e6cdf261b40dabddd7ca27155fb88": {
          "model_module": "@jupyter-widgets/base",
          "model_name": "LayoutModel",
          "model_module_version": "1.2.0",
          "state": {
            "_model_module": "@jupyter-widgets/base",
            "_model_module_version": "1.2.0",
            "_model_name": "LayoutModel",
            "_view_count": null,
            "_view_module": "@jupyter-widgets/base",
            "_view_module_version": "1.2.0",
            "_view_name": "LayoutView",
            "align_content": null,
            "align_items": null,
            "align_self": null,
            "border": null,
            "bottom": null,
            "display": null,
            "flex": "2",
            "flex_flow": null,
            "grid_area": null,
            "grid_auto_columns": null,
            "grid_auto_flow": null,
            "grid_auto_rows": null,
            "grid_column": null,
            "grid_gap": null,
            "grid_row": null,
            "grid_template_areas": null,
            "grid_template_columns": null,
            "grid_template_rows": null,
            "height": null,
            "justify_content": null,
            "justify_items": null,
            "left": null,
            "margin": null,
            "max_height": null,
            "max_width": null,
            "min_height": null,
            "min_width": null,
            "object_fit": null,
            "object_position": null,
            "order": null,
            "overflow": null,
            "overflow_x": null,
            "overflow_y": null,
            "padding": null,
            "right": null,
            "top": null,
            "visibility": null,
            "width": null
          }
        },
        "3e36bd213dd545e5a88207094356255a": {
          "model_module": "@jupyter-widgets/controls",
          "model_name": "ProgressStyleModel",
          "model_module_version": "1.5.0",
          "state": {
            "_model_module": "@jupyter-widgets/controls",
            "_model_module_version": "1.5.0",
            "_model_name": "ProgressStyleModel",
            "_view_count": null,
            "_view_module": "@jupyter-widgets/base",
            "_view_module_version": "1.2.0",
            "_view_name": "StyleView",
            "bar_color": null,
            "description_width": ""
          }
        },
        "362a811f90d941d0ba10819021f95059": {
          "model_module": "@jupyter-widgets/base",
          "model_name": "LayoutModel",
          "model_module_version": "1.2.0",
          "state": {
            "_model_module": "@jupyter-widgets/base",
            "_model_module_version": "1.2.0",
            "_model_name": "LayoutModel",
            "_view_count": null,
            "_view_module": "@jupyter-widgets/base",
            "_view_module_version": "1.2.0",
            "_view_name": "LayoutView",
            "align_content": null,
            "align_items": null,
            "align_self": null,
            "border": null,
            "bottom": null,
            "display": null,
            "flex": null,
            "flex_flow": null,
            "grid_area": null,
            "grid_auto_columns": null,
            "grid_auto_flow": null,
            "grid_auto_rows": null,
            "grid_column": null,
            "grid_gap": null,
            "grid_row": null,
            "grid_template_areas": null,
            "grid_template_columns": null,
            "grid_template_rows": null,
            "height": null,
            "justify_content": null,
            "justify_items": null,
            "left": null,
            "margin": null,
            "max_height": null,
            "max_width": null,
            "min_height": null,
            "min_width": null,
            "object_fit": null,
            "object_position": null,
            "order": null,
            "overflow": null,
            "overflow_x": null,
            "overflow_y": null,
            "padding": null,
            "right": null,
            "top": null,
            "visibility": null,
            "width": null
          }
        },
        "1b03f1c2ca9a4379943a17823523bb23": {
          "model_module": "@jupyter-widgets/controls",
          "model_name": "DescriptionStyleModel",
          "model_module_version": "1.5.0",
          "state": {
            "_model_module": "@jupyter-widgets/controls",
            "_model_module_version": "1.5.0",
            "_model_name": "DescriptionStyleModel",
            "_view_count": null,
            "_view_module": "@jupyter-widgets/base",
            "_view_module_version": "1.2.0",
            "_view_name": "StyleView",
            "description_width": ""
          }
        },
        "8037df44dd83458a843ccd2625f17aa2": {
          "model_module": "@jupyter-widgets/controls",
          "model_name": "HBoxModel",
          "model_module_version": "1.5.0",
          "state": {
            "_dom_classes": [],
            "_model_module": "@jupyter-widgets/controls",
            "_model_module_version": "1.5.0",
            "_model_name": "HBoxModel",
            "_view_count": null,
            "_view_module": "@jupyter-widgets/controls",
            "_view_module_version": "1.5.0",
            "_view_name": "HBoxView",
            "box_style": "",
            "children": [
              "IPY_MODEL_6835bbcb077646dfab60d2b4edf157df",
              "IPY_MODEL_e7972a5fa6974d6ab03b12e60452c6da",
              "IPY_MODEL_ae465d61e9df4ed889eb9e73c03a7ca2"
            ],
            "layout": "IPY_MODEL_064d61856b95480a81fa6fcbae322c27"
          }
        },
        "6835bbcb077646dfab60d2b4edf157df": {
          "model_module": "@jupyter-widgets/controls",
          "model_name": "HTMLModel",
          "model_module_version": "1.5.0",
          "state": {
            "_dom_classes": [],
            "_model_module": "@jupyter-widgets/controls",
            "_model_module_version": "1.5.0",
            "_model_name": "HTMLModel",
            "_view_count": null,
            "_view_module": "@jupyter-widgets/controls",
            "_view_module_version": "1.5.0",
            "_view_name": "HTMLView",
            "description": "",
            "description_tooltip": null,
            "layout": "IPY_MODEL_39ab74a036324edb9d52fcb507e7c44b",
            "placeholder": "​",
            "style": "IPY_MODEL_ffd91977dd3c424cae1c5fea73da1671",
            "value": "Validation DataLoader 0: 100%"
          }
        },
        "e7972a5fa6974d6ab03b12e60452c6da": {
          "model_module": "@jupyter-widgets/controls",
          "model_name": "FloatProgressModel",
          "model_module_version": "1.5.0",
          "state": {
            "_dom_classes": [],
            "_model_module": "@jupyter-widgets/controls",
            "_model_module_version": "1.5.0",
            "_model_name": "FloatProgressModel",
            "_view_count": null,
            "_view_module": "@jupyter-widgets/controls",
            "_view_module_version": "1.5.0",
            "_view_name": "ProgressView",
            "bar_style": "",
            "description": "",
            "description_tooltip": null,
            "layout": "IPY_MODEL_351cc29510da453aa2dd7ed48f09ca5f",
            "max": 1,
            "min": 0,
            "orientation": "horizontal",
            "style": "IPY_MODEL_e7a55d662bc44ac0b932ee07a6284572",
            "value": 1
          }
        },
        "ae465d61e9df4ed889eb9e73c03a7ca2": {
          "model_module": "@jupyter-widgets/controls",
          "model_name": "HTMLModel",
          "model_module_version": "1.5.0",
          "state": {
            "_dom_classes": [],
            "_model_module": "@jupyter-widgets/controls",
            "_model_module_version": "1.5.0",
            "_model_name": "HTMLModel",
            "_view_count": null,
            "_view_module": "@jupyter-widgets/controls",
            "_view_module_version": "1.5.0",
            "_view_name": "HTMLView",
            "description": "",
            "description_tooltip": null,
            "layout": "IPY_MODEL_ae907bf161d14f3aacb9e3bce259660e",
            "placeholder": "​",
            "style": "IPY_MODEL_9cf1c9bee8fb477eb41d08d506fcbcfd",
            "value": " 1/1 [00:00&lt;00:00, 754.10it/s]"
          }
        },
        "064d61856b95480a81fa6fcbae322c27": {
          "model_module": "@jupyter-widgets/base",
          "model_name": "LayoutModel",
          "model_module_version": "1.2.0",
          "state": {
            "_model_module": "@jupyter-widgets/base",
            "_model_module_version": "1.2.0",
            "_model_name": "LayoutModel",
            "_view_count": null,
            "_view_module": "@jupyter-widgets/base",
            "_view_module_version": "1.2.0",
            "_view_name": "LayoutView",
            "align_content": null,
            "align_items": null,
            "align_self": null,
            "border": null,
            "bottom": null,
            "display": "inline-flex",
            "flex": null,
            "flex_flow": "row wrap",
            "grid_area": null,
            "grid_auto_columns": null,
            "grid_auto_flow": null,
            "grid_auto_rows": null,
            "grid_column": null,
            "grid_gap": null,
            "grid_row": null,
            "grid_template_areas": null,
            "grid_template_columns": null,
            "grid_template_rows": null,
            "height": null,
            "justify_content": null,
            "justify_items": null,
            "left": null,
            "margin": null,
            "max_height": null,
            "max_width": null,
            "min_height": null,
            "min_width": null,
            "object_fit": null,
            "object_position": null,
            "order": null,
            "overflow": null,
            "overflow_x": null,
            "overflow_y": null,
            "padding": null,
            "right": null,
            "top": null,
            "visibility": "hidden",
            "width": "100%"
          }
        },
        "39ab74a036324edb9d52fcb507e7c44b": {
          "model_module": "@jupyter-widgets/base",
          "model_name": "LayoutModel",
          "model_module_version": "1.2.0",
          "state": {
            "_model_module": "@jupyter-widgets/base",
            "_model_module_version": "1.2.0",
            "_model_name": "LayoutModel",
            "_view_count": null,
            "_view_module": "@jupyter-widgets/base",
            "_view_module_version": "1.2.0",
            "_view_name": "LayoutView",
            "align_content": null,
            "align_items": null,
            "align_self": null,
            "border": null,
            "bottom": null,
            "display": null,
            "flex": null,
            "flex_flow": null,
            "grid_area": null,
            "grid_auto_columns": null,
            "grid_auto_flow": null,
            "grid_auto_rows": null,
            "grid_column": null,
            "grid_gap": null,
            "grid_row": null,
            "grid_template_areas": null,
            "grid_template_columns": null,
            "grid_template_rows": null,
            "height": null,
            "justify_content": null,
            "justify_items": null,
            "left": null,
            "margin": null,
            "max_height": null,
            "max_width": null,
            "min_height": null,
            "min_width": null,
            "object_fit": null,
            "object_position": null,
            "order": null,
            "overflow": null,
            "overflow_x": null,
            "overflow_y": null,
            "padding": null,
            "right": null,
            "top": null,
            "visibility": null,
            "width": null
          }
        },
        "ffd91977dd3c424cae1c5fea73da1671": {
          "model_module": "@jupyter-widgets/controls",
          "model_name": "DescriptionStyleModel",
          "model_module_version": "1.5.0",
          "state": {
            "_model_module": "@jupyter-widgets/controls",
            "_model_module_version": "1.5.0",
            "_model_name": "DescriptionStyleModel",
            "_view_count": null,
            "_view_module": "@jupyter-widgets/base",
            "_view_module_version": "1.2.0",
            "_view_name": "StyleView",
            "description_width": ""
          }
        },
        "351cc29510da453aa2dd7ed48f09ca5f": {
          "model_module": "@jupyter-widgets/base",
          "model_name": "LayoutModel",
          "model_module_version": "1.2.0",
          "state": {
            "_model_module": "@jupyter-widgets/base",
            "_model_module_version": "1.2.0",
            "_model_name": "LayoutModel",
            "_view_count": null,
            "_view_module": "@jupyter-widgets/base",
            "_view_module_version": "1.2.0",
            "_view_name": "LayoutView",
            "align_content": null,
            "align_items": null,
            "align_self": null,
            "border": null,
            "bottom": null,
            "display": null,
            "flex": "2",
            "flex_flow": null,
            "grid_area": null,
            "grid_auto_columns": null,
            "grid_auto_flow": null,
            "grid_auto_rows": null,
            "grid_column": null,
            "grid_gap": null,
            "grid_row": null,
            "grid_template_areas": null,
            "grid_template_columns": null,
            "grid_template_rows": null,
            "height": null,
            "justify_content": null,
            "justify_items": null,
            "left": null,
            "margin": null,
            "max_height": null,
            "max_width": null,
            "min_height": null,
            "min_width": null,
            "object_fit": null,
            "object_position": null,
            "order": null,
            "overflow": null,
            "overflow_x": null,
            "overflow_y": null,
            "padding": null,
            "right": null,
            "top": null,
            "visibility": null,
            "width": null
          }
        },
        "e7a55d662bc44ac0b932ee07a6284572": {
          "model_module": "@jupyter-widgets/controls",
          "model_name": "ProgressStyleModel",
          "model_module_version": "1.5.0",
          "state": {
            "_model_module": "@jupyter-widgets/controls",
            "_model_module_version": "1.5.0",
            "_model_name": "ProgressStyleModel",
            "_view_count": null,
            "_view_module": "@jupyter-widgets/base",
            "_view_module_version": "1.2.0",
            "_view_name": "StyleView",
            "bar_color": null,
            "description_width": ""
          }
        },
        "ae907bf161d14f3aacb9e3bce259660e": {
          "model_module": "@jupyter-widgets/base",
          "model_name": "LayoutModel",
          "model_module_version": "1.2.0",
          "state": {
            "_model_module": "@jupyter-widgets/base",
            "_model_module_version": "1.2.0",
            "_model_name": "LayoutModel",
            "_view_count": null,
            "_view_module": "@jupyter-widgets/base",
            "_view_module_version": "1.2.0",
            "_view_name": "LayoutView",
            "align_content": null,
            "align_items": null,
            "align_self": null,
            "border": null,
            "bottom": null,
            "display": null,
            "flex": null,
            "flex_flow": null,
            "grid_area": null,
            "grid_auto_columns": null,
            "grid_auto_flow": null,
            "grid_auto_rows": null,
            "grid_column": null,
            "grid_gap": null,
            "grid_row": null,
            "grid_template_areas": null,
            "grid_template_columns": null,
            "grid_template_rows": null,
            "height": null,
            "justify_content": null,
            "justify_items": null,
            "left": null,
            "margin": null,
            "max_height": null,
            "max_width": null,
            "min_height": null,
            "min_width": null,
            "object_fit": null,
            "object_position": null,
            "order": null,
            "overflow": null,
            "overflow_x": null,
            "overflow_y": null,
            "padding": null,
            "right": null,
            "top": null,
            "visibility": null,
            "width": null
          }
        },
        "9cf1c9bee8fb477eb41d08d506fcbcfd": {
          "model_module": "@jupyter-widgets/controls",
          "model_name": "DescriptionStyleModel",
          "model_module_version": "1.5.0",
          "state": {
            "_model_module": "@jupyter-widgets/controls",
            "_model_module_version": "1.5.0",
            "_model_name": "DescriptionStyleModel",
            "_view_count": null,
            "_view_module": "@jupyter-widgets/base",
            "_view_module_version": "1.2.0",
            "_view_name": "StyleView",
            "description_width": ""
          }
        },
        "6e5d90ad5b13411b80b3b5ef45d81c9e": {
          "model_module": "@jupyter-widgets/controls",
          "model_name": "HBoxModel",
          "model_module_version": "1.5.0",
          "state": {
            "_dom_classes": [],
            "_model_module": "@jupyter-widgets/controls",
            "_model_module_version": "1.5.0",
            "_model_name": "HBoxModel",
            "_view_count": null,
            "_view_module": "@jupyter-widgets/controls",
            "_view_module_version": "1.5.0",
            "_view_name": "HBoxView",
            "box_style": "",
            "children": [
              "IPY_MODEL_93ab2c93211d4abfa23c3b12295be3b3",
              "IPY_MODEL_c8623e773b2e45e495c91885a8eb88e8",
              "IPY_MODEL_face751b51d242d5bfa7e32a15041ffe"
            ],
            "layout": "IPY_MODEL_f39c9216d1db475bae4c718ae433fb2f"
          }
        },
        "93ab2c93211d4abfa23c3b12295be3b3": {
          "model_module": "@jupyter-widgets/controls",
          "model_name": "HTMLModel",
          "model_module_version": "1.5.0",
          "state": {
            "_dom_classes": [],
            "_model_module": "@jupyter-widgets/controls",
            "_model_module_version": "1.5.0",
            "_model_name": "HTMLModel",
            "_view_count": null,
            "_view_module": "@jupyter-widgets/controls",
            "_view_module_version": "1.5.0",
            "_view_name": "HTMLView",
            "description": "",
            "description_tooltip": null,
            "layout": "IPY_MODEL_aa6fefbebcdd439cbe5ee9d0cf966876",
            "placeholder": "​",
            "style": "IPY_MODEL_0c8c880d34af4b1fb56f8696b7d08634",
            "value": "Predicting DataLoader 0: 100%"
          }
        },
        "c8623e773b2e45e495c91885a8eb88e8": {
          "model_module": "@jupyter-widgets/controls",
          "model_name": "FloatProgressModel",
          "model_module_version": "1.5.0",
          "state": {
            "_dom_classes": [],
            "_model_module": "@jupyter-widgets/controls",
            "_model_module_version": "1.5.0",
            "_model_name": "FloatProgressModel",
            "_view_count": null,
            "_view_module": "@jupyter-widgets/controls",
            "_view_module_version": "1.5.0",
            "_view_name": "ProgressView",
            "bar_style": "success",
            "description": "",
            "description_tooltip": null,
            "layout": "IPY_MODEL_c6a74029f3a242d0a01e8a2bf2b8912c",
            "max": 1,
            "min": 0,
            "orientation": "horizontal",
            "style": "IPY_MODEL_5175122ab3e347beaec8ab0daf7102aa",
            "value": 1
          }
        },
        "face751b51d242d5bfa7e32a15041ffe": {
          "model_module": "@jupyter-widgets/controls",
          "model_name": "HTMLModel",
          "model_module_version": "1.5.0",
          "state": {
            "_dom_classes": [],
            "_model_module": "@jupyter-widgets/controls",
            "_model_module_version": "1.5.0",
            "_model_name": "HTMLModel",
            "_view_count": null,
            "_view_module": "@jupyter-widgets/controls",
            "_view_module_version": "1.5.0",
            "_view_name": "HTMLView",
            "description": "",
            "description_tooltip": null,
            "layout": "IPY_MODEL_0ddf7d40355b43f887f3ec39d5ee4163",
            "placeholder": "​",
            "style": "IPY_MODEL_35e6ac5cf405457aba893109b9f9b49d",
            "value": " 1/1 [00:00&lt;00:00, 11.14it/s]"
          }
        },
        "f39c9216d1db475bae4c718ae433fb2f": {
          "model_module": "@jupyter-widgets/base",
          "model_name": "LayoutModel",
          "model_module_version": "1.2.0",
          "state": {
            "_model_module": "@jupyter-widgets/base",
            "_model_module_version": "1.2.0",
            "_model_name": "LayoutModel",
            "_view_count": null,
            "_view_module": "@jupyter-widgets/base",
            "_view_module_version": "1.2.0",
            "_view_name": "LayoutView",
            "align_content": null,
            "align_items": null,
            "align_self": null,
            "border": null,
            "bottom": null,
            "display": "inline-flex",
            "flex": null,
            "flex_flow": "row wrap",
            "grid_area": null,
            "grid_auto_columns": null,
            "grid_auto_flow": null,
            "grid_auto_rows": null,
            "grid_column": null,
            "grid_gap": null,
            "grid_row": null,
            "grid_template_areas": null,
            "grid_template_columns": null,
            "grid_template_rows": null,
            "height": null,
            "justify_content": null,
            "justify_items": null,
            "left": null,
            "margin": null,
            "max_height": null,
            "max_width": null,
            "min_height": null,
            "min_width": null,
            "object_fit": null,
            "object_position": null,
            "order": null,
            "overflow": null,
            "overflow_x": null,
            "overflow_y": null,
            "padding": null,
            "right": null,
            "top": null,
            "visibility": null,
            "width": "100%"
          }
        },
        "aa6fefbebcdd439cbe5ee9d0cf966876": {
          "model_module": "@jupyter-widgets/base",
          "model_name": "LayoutModel",
          "model_module_version": "1.2.0",
          "state": {
            "_model_module": "@jupyter-widgets/base",
            "_model_module_version": "1.2.0",
            "_model_name": "LayoutModel",
            "_view_count": null,
            "_view_module": "@jupyter-widgets/base",
            "_view_module_version": "1.2.0",
            "_view_name": "LayoutView",
            "align_content": null,
            "align_items": null,
            "align_self": null,
            "border": null,
            "bottom": null,
            "display": null,
            "flex": null,
            "flex_flow": null,
            "grid_area": null,
            "grid_auto_columns": null,
            "grid_auto_flow": null,
            "grid_auto_rows": null,
            "grid_column": null,
            "grid_gap": null,
            "grid_row": null,
            "grid_template_areas": null,
            "grid_template_columns": null,
            "grid_template_rows": null,
            "height": null,
            "justify_content": null,
            "justify_items": null,
            "left": null,
            "margin": null,
            "max_height": null,
            "max_width": null,
            "min_height": null,
            "min_width": null,
            "object_fit": null,
            "object_position": null,
            "order": null,
            "overflow": null,
            "overflow_x": null,
            "overflow_y": null,
            "padding": null,
            "right": null,
            "top": null,
            "visibility": null,
            "width": null
          }
        },
        "0c8c880d34af4b1fb56f8696b7d08634": {
          "model_module": "@jupyter-widgets/controls",
          "model_name": "DescriptionStyleModel",
          "model_module_version": "1.5.0",
          "state": {
            "_model_module": "@jupyter-widgets/controls",
            "_model_module_version": "1.5.0",
            "_model_name": "DescriptionStyleModel",
            "_view_count": null,
            "_view_module": "@jupyter-widgets/base",
            "_view_module_version": "1.2.0",
            "_view_name": "StyleView",
            "description_width": ""
          }
        },
        "c6a74029f3a242d0a01e8a2bf2b8912c": {
          "model_module": "@jupyter-widgets/base",
          "model_name": "LayoutModel",
          "model_module_version": "1.2.0",
          "state": {
            "_model_module": "@jupyter-widgets/base",
            "_model_module_version": "1.2.0",
            "_model_name": "LayoutModel",
            "_view_count": null,
            "_view_module": "@jupyter-widgets/base",
            "_view_module_version": "1.2.0",
            "_view_name": "LayoutView",
            "align_content": null,
            "align_items": null,
            "align_self": null,
            "border": null,
            "bottom": null,
            "display": null,
            "flex": "2",
            "flex_flow": null,
            "grid_area": null,
            "grid_auto_columns": null,
            "grid_auto_flow": null,
            "grid_auto_rows": null,
            "grid_column": null,
            "grid_gap": null,
            "grid_row": null,
            "grid_template_areas": null,
            "grid_template_columns": null,
            "grid_template_rows": null,
            "height": null,
            "justify_content": null,
            "justify_items": null,
            "left": null,
            "margin": null,
            "max_height": null,
            "max_width": null,
            "min_height": null,
            "min_width": null,
            "object_fit": null,
            "object_position": null,
            "order": null,
            "overflow": null,
            "overflow_x": null,
            "overflow_y": null,
            "padding": null,
            "right": null,
            "top": null,
            "visibility": null,
            "width": null
          }
        },
        "5175122ab3e347beaec8ab0daf7102aa": {
          "model_module": "@jupyter-widgets/controls",
          "model_name": "ProgressStyleModel",
          "model_module_version": "1.5.0",
          "state": {
            "_model_module": "@jupyter-widgets/controls",
            "_model_module_version": "1.5.0",
            "_model_name": "ProgressStyleModel",
            "_view_count": null,
            "_view_module": "@jupyter-widgets/base",
            "_view_module_version": "1.2.0",
            "_view_name": "StyleView",
            "bar_color": null,
            "description_width": ""
          }
        },
        "0ddf7d40355b43f887f3ec39d5ee4163": {
          "model_module": "@jupyter-widgets/base",
          "model_name": "LayoutModel",
          "model_module_version": "1.2.0",
          "state": {
            "_model_module": "@jupyter-widgets/base",
            "_model_module_version": "1.2.0",
            "_model_name": "LayoutModel",
            "_view_count": null,
            "_view_module": "@jupyter-widgets/base",
            "_view_module_version": "1.2.0",
            "_view_name": "LayoutView",
            "align_content": null,
            "align_items": null,
            "align_self": null,
            "border": null,
            "bottom": null,
            "display": null,
            "flex": null,
            "flex_flow": null,
            "grid_area": null,
            "grid_auto_columns": null,
            "grid_auto_flow": null,
            "grid_auto_rows": null,
            "grid_column": null,
            "grid_gap": null,
            "grid_row": null,
            "grid_template_areas": null,
            "grid_template_columns": null,
            "grid_template_rows": null,
            "height": null,
            "justify_content": null,
            "justify_items": null,
            "left": null,
            "margin": null,
            "max_height": null,
            "max_width": null,
            "min_height": null,
            "min_width": null,
            "object_fit": null,
            "object_position": null,
            "order": null,
            "overflow": null,
            "overflow_x": null,
            "overflow_y": null,
            "padding": null,
            "right": null,
            "top": null,
            "visibility": null,
            "width": null
          }
        },
        "35e6ac5cf405457aba893109b9f9b49d": {
          "model_module": "@jupyter-widgets/controls",
          "model_name": "DescriptionStyleModel",
          "model_module_version": "1.5.0",
          "state": {
            "_model_module": "@jupyter-widgets/controls",
            "_model_module_version": "1.5.0",
            "_model_name": "DescriptionStyleModel",
            "_view_count": null,
            "_view_module": "@jupyter-widgets/base",
            "_view_module_version": "1.2.0",
            "_view_name": "StyleView",
            "description_width": ""
          }
        }
      }
    }
  },
  "cells": [
    {
      "cell_type": "code",
      "source": [
        "#!pip install neuralforecast"
      ],
      "metadata": {
        "id": "2t9H-23y6fyK"
      },
      "execution_count": 145,
      "outputs": []
    },
    {
      "cell_type": "markdown",
      "source": [
        "# **LIBRARY PREPARATION**"
      ],
      "metadata": {
        "id": "BGekASjU1fw-"
      }
    },
    {
      "cell_type": "code",
      "source": [
        "import numpy as np\n",
        "import pandas as pd\n",
        "import pytorch_lightning as pl\n",
        "import matplotlib.pyplot as plt\n",
        "\n",
        "from neuralforecast import NeuralForecast\n",
        "from neuralforecast.models import MLP, FEDformer\n",
        "from neuralforecast.losses.pytorch import MQLoss, DistributionLoss, MSE, MAE\n",
        "from neuralforecast.tsdataset import TimeSeriesDataset\n",
        "\n",
        "from datetime import datetime, timedelta\n",
        "from sklearn.metrics import mean_absolute_error, mean_squared_error, mean_absolute_percentage_error\n",
        "\n",
        "from scipy.signal import savgol_filter"
      ],
      "metadata": {
        "id": "Xpt1KrtZ8T35"
      },
      "execution_count": 146,
      "outputs": []
    },
    {
      "cell_type": "markdown",
      "source": [
        "# **DIG DATA PREPARATION**"
      ],
      "metadata": {
        "id": "o8r2NeqR1Zbq"
      }
    },
    {
      "cell_type": "code",
      "source": [
        "# Read Data\n",
        "df = pd.read_csv('DIG Historical Data 1_6 Fed.csv')"
      ],
      "metadata": {
        "id": "nogaQrOf9byt"
      },
      "execution_count": 147,
      "outputs": []
    },
    {
      "cell_type": "code",
      "source": [
        "# Add ID constraint\n",
        "df1 = df\n",
        "df1['unique_id'] = 'DIG'\n",
        "\n",
        "# Reorder columns\n",
        "df1 = df1[['unique_id', 'Date', 'Price']]\n",
        "\n",
        "# Rename\n",
        "df1.rename(columns={'Date': 'ds', 'Price': 'y'}, inplace=True)\n",
        "df1"
      ],
      "metadata": {
        "id": "Jo5stpuL9cM8",
        "colab": {
          "base_uri": "https://localhost:8080/",
          "height": 423
        },
        "outputId": "4dc09835-5fc6-4ea5-e3bb-27204c37494d"
      },
      "execution_count": 148,
      "outputs": [
        {
          "output_type": "execute_result",
          "data": {
            "text/plain": [
              "     unique_id          ds         y\n",
              "0          DIG  2018-01-02  11033.20\n",
              "1          DIG  2018-01-03  11457.60\n",
              "2          DIG  2018-01-04  12094.10\n",
              "3          DIG  2018-01-05  12094.10\n",
              "4          DIG  2018-01-06  11669.75\n",
              "...        ...         ...       ...\n",
              "2338       DIG  2024-05-28  27850.00\n",
              "2339       DIG  2024-05-29  27950.00\n",
              "2340       DIG  2024-05-30  27600.00\n",
              "2341       DIG  2024-05-31  27750.00\n",
              "2342       DIG  2024-06-01  27700.00\n",
              "\n",
              "[2343 rows x 3 columns]"
            ],
            "text/html": [
              "\n",
              "  <div id=\"df-a392f8bb-d10c-40e2-9e25-12b973971acc\" class=\"colab-df-container\">\n",
              "    <div>\n",
              "<style scoped>\n",
              "    .dataframe tbody tr th:only-of-type {\n",
              "        vertical-align: middle;\n",
              "    }\n",
              "\n",
              "    .dataframe tbody tr th {\n",
              "        vertical-align: top;\n",
              "    }\n",
              "\n",
              "    .dataframe thead th {\n",
              "        text-align: right;\n",
              "    }\n",
              "</style>\n",
              "<table border=\"1\" class=\"dataframe\">\n",
              "  <thead>\n",
              "    <tr style=\"text-align: right;\">\n",
              "      <th></th>\n",
              "      <th>unique_id</th>\n",
              "      <th>ds</th>\n",
              "      <th>y</th>\n",
              "    </tr>\n",
              "  </thead>\n",
              "  <tbody>\n",
              "    <tr>\n",
              "      <th>0</th>\n",
              "      <td>DIG</td>\n",
              "      <td>2018-01-02</td>\n",
              "      <td>11033.20</td>\n",
              "    </tr>\n",
              "    <tr>\n",
              "      <th>1</th>\n",
              "      <td>DIG</td>\n",
              "      <td>2018-01-03</td>\n",
              "      <td>11457.60</td>\n",
              "    </tr>\n",
              "    <tr>\n",
              "      <th>2</th>\n",
              "      <td>DIG</td>\n",
              "      <td>2018-01-04</td>\n",
              "      <td>12094.10</td>\n",
              "    </tr>\n",
              "    <tr>\n",
              "      <th>3</th>\n",
              "      <td>DIG</td>\n",
              "      <td>2018-01-05</td>\n",
              "      <td>12094.10</td>\n",
              "    </tr>\n",
              "    <tr>\n",
              "      <th>4</th>\n",
              "      <td>DIG</td>\n",
              "      <td>2018-01-06</td>\n",
              "      <td>11669.75</td>\n",
              "    </tr>\n",
              "    <tr>\n",
              "      <th>...</th>\n",
              "      <td>...</td>\n",
              "      <td>...</td>\n",
              "      <td>...</td>\n",
              "    </tr>\n",
              "    <tr>\n",
              "      <th>2338</th>\n",
              "      <td>DIG</td>\n",
              "      <td>2024-05-28</td>\n",
              "      <td>27850.00</td>\n",
              "    </tr>\n",
              "    <tr>\n",
              "      <th>2339</th>\n",
              "      <td>DIG</td>\n",
              "      <td>2024-05-29</td>\n",
              "      <td>27950.00</td>\n",
              "    </tr>\n",
              "    <tr>\n",
              "      <th>2340</th>\n",
              "      <td>DIG</td>\n",
              "      <td>2024-05-30</td>\n",
              "      <td>27600.00</td>\n",
              "    </tr>\n",
              "    <tr>\n",
              "      <th>2341</th>\n",
              "      <td>DIG</td>\n",
              "      <td>2024-05-31</td>\n",
              "      <td>27750.00</td>\n",
              "    </tr>\n",
              "    <tr>\n",
              "      <th>2342</th>\n",
              "      <td>DIG</td>\n",
              "      <td>2024-06-01</td>\n",
              "      <td>27700.00</td>\n",
              "    </tr>\n",
              "  </tbody>\n",
              "</table>\n",
              "<p>2343 rows × 3 columns</p>\n",
              "</div>\n",
              "    <div class=\"colab-df-buttons\">\n",
              "\n",
              "  <div class=\"colab-df-container\">\n",
              "    <button class=\"colab-df-convert\" onclick=\"convertToInteractive('df-a392f8bb-d10c-40e2-9e25-12b973971acc')\"\n",
              "            title=\"Convert this dataframe to an interactive table.\"\n",
              "            style=\"display:none;\">\n",
              "\n",
              "  <svg xmlns=\"http://www.w3.org/2000/svg\" height=\"24px\" viewBox=\"0 -960 960 960\">\n",
              "    <path d=\"M120-120v-720h720v720H120Zm60-500h600v-160H180v160Zm220 220h160v-160H400v160Zm0 220h160v-160H400v160ZM180-400h160v-160H180v160Zm440 0h160v-160H620v160ZM180-180h160v-160H180v160Zm440 0h160v-160H620v160Z\"/>\n",
              "  </svg>\n",
              "    </button>\n",
              "\n",
              "  <style>\n",
              "    .colab-df-container {\n",
              "      display:flex;\n",
              "      gap: 12px;\n",
              "    }\n",
              "\n",
              "    .colab-df-convert {\n",
              "      background-color: #E8F0FE;\n",
              "      border: none;\n",
              "      border-radius: 50%;\n",
              "      cursor: pointer;\n",
              "      display: none;\n",
              "      fill: #1967D2;\n",
              "      height: 32px;\n",
              "      padding: 0 0 0 0;\n",
              "      width: 32px;\n",
              "    }\n",
              "\n",
              "    .colab-df-convert:hover {\n",
              "      background-color: #E2EBFA;\n",
              "      box-shadow: 0px 1px 2px rgba(60, 64, 67, 0.3), 0px 1px 3px 1px rgba(60, 64, 67, 0.15);\n",
              "      fill: #174EA6;\n",
              "    }\n",
              "\n",
              "    .colab-df-buttons div {\n",
              "      margin-bottom: 4px;\n",
              "    }\n",
              "\n",
              "    [theme=dark] .colab-df-convert {\n",
              "      background-color: #3B4455;\n",
              "      fill: #D2E3FC;\n",
              "    }\n",
              "\n",
              "    [theme=dark] .colab-df-convert:hover {\n",
              "      background-color: #434B5C;\n",
              "      box-shadow: 0px 1px 3px 1px rgba(0, 0, 0, 0.15);\n",
              "      filter: drop-shadow(0px 1px 2px rgba(0, 0, 0, 0.3));\n",
              "      fill: #FFFFFF;\n",
              "    }\n",
              "  </style>\n",
              "\n",
              "    <script>\n",
              "      const buttonEl =\n",
              "        document.querySelector('#df-a392f8bb-d10c-40e2-9e25-12b973971acc button.colab-df-convert');\n",
              "      buttonEl.style.display =\n",
              "        google.colab.kernel.accessAllowed ? 'block' : 'none';\n",
              "\n",
              "      async function convertToInteractive(key) {\n",
              "        const element = document.querySelector('#df-a392f8bb-d10c-40e2-9e25-12b973971acc');\n",
              "        const dataTable =\n",
              "          await google.colab.kernel.invokeFunction('convertToInteractive',\n",
              "                                                    [key], {});\n",
              "        if (!dataTable) return;\n",
              "\n",
              "        const docLinkHtml = 'Like what you see? Visit the ' +\n",
              "          '<a target=\"_blank\" href=https://colab.research.google.com/notebooks/data_table.ipynb>data table notebook</a>'\n",
              "          + ' to learn more about interactive tables.';\n",
              "        element.innerHTML = '';\n",
              "        dataTable['output_type'] = 'display_data';\n",
              "        await google.colab.output.renderOutput(dataTable, element);\n",
              "        const docLink = document.createElement('div');\n",
              "        docLink.innerHTML = docLinkHtml;\n",
              "        element.appendChild(docLink);\n",
              "      }\n",
              "    </script>\n",
              "  </div>\n",
              "\n",
              "\n",
              "<div id=\"df-f3448039-ae0c-4912-9ce7-f61d6228dfd0\">\n",
              "  <button class=\"colab-df-quickchart\" onclick=\"quickchart('df-f3448039-ae0c-4912-9ce7-f61d6228dfd0')\"\n",
              "            title=\"Suggest charts\"\n",
              "            style=\"display:none;\">\n",
              "\n",
              "<svg xmlns=\"http://www.w3.org/2000/svg\" height=\"24px\"viewBox=\"0 0 24 24\"\n",
              "     width=\"24px\">\n",
              "    <g>\n",
              "        <path d=\"M19 3H5c-1.1 0-2 .9-2 2v14c0 1.1.9 2 2 2h14c1.1 0 2-.9 2-2V5c0-1.1-.9-2-2-2zM9 17H7v-7h2v7zm4 0h-2V7h2v10zm4 0h-2v-4h2v4z\"/>\n",
              "    </g>\n",
              "</svg>\n",
              "  </button>\n",
              "\n",
              "<style>\n",
              "  .colab-df-quickchart {\n",
              "      --bg-color: #E8F0FE;\n",
              "      --fill-color: #1967D2;\n",
              "      --hover-bg-color: #E2EBFA;\n",
              "      --hover-fill-color: #174EA6;\n",
              "      --disabled-fill-color: #AAA;\n",
              "      --disabled-bg-color: #DDD;\n",
              "  }\n",
              "\n",
              "  [theme=dark] .colab-df-quickchart {\n",
              "      --bg-color: #3B4455;\n",
              "      --fill-color: #D2E3FC;\n",
              "      --hover-bg-color: #434B5C;\n",
              "      --hover-fill-color: #FFFFFF;\n",
              "      --disabled-bg-color: #3B4455;\n",
              "      --disabled-fill-color: #666;\n",
              "  }\n",
              "\n",
              "  .colab-df-quickchart {\n",
              "    background-color: var(--bg-color);\n",
              "    border: none;\n",
              "    border-radius: 50%;\n",
              "    cursor: pointer;\n",
              "    display: none;\n",
              "    fill: var(--fill-color);\n",
              "    height: 32px;\n",
              "    padding: 0;\n",
              "    width: 32px;\n",
              "  }\n",
              "\n",
              "  .colab-df-quickchart:hover {\n",
              "    background-color: var(--hover-bg-color);\n",
              "    box-shadow: 0 1px 2px rgba(60, 64, 67, 0.3), 0 1px 3px 1px rgba(60, 64, 67, 0.15);\n",
              "    fill: var(--button-hover-fill-color);\n",
              "  }\n",
              "\n",
              "  .colab-df-quickchart-complete:disabled,\n",
              "  .colab-df-quickchart-complete:disabled:hover {\n",
              "    background-color: var(--disabled-bg-color);\n",
              "    fill: var(--disabled-fill-color);\n",
              "    box-shadow: none;\n",
              "  }\n",
              "\n",
              "  .colab-df-spinner {\n",
              "    border: 2px solid var(--fill-color);\n",
              "    border-color: transparent;\n",
              "    border-bottom-color: var(--fill-color);\n",
              "    animation:\n",
              "      spin 1s steps(1) infinite;\n",
              "  }\n",
              "\n",
              "  @keyframes spin {\n",
              "    0% {\n",
              "      border-color: transparent;\n",
              "      border-bottom-color: var(--fill-color);\n",
              "      border-left-color: var(--fill-color);\n",
              "    }\n",
              "    20% {\n",
              "      border-color: transparent;\n",
              "      border-left-color: var(--fill-color);\n",
              "      border-top-color: var(--fill-color);\n",
              "    }\n",
              "    30% {\n",
              "      border-color: transparent;\n",
              "      border-left-color: var(--fill-color);\n",
              "      border-top-color: var(--fill-color);\n",
              "      border-right-color: var(--fill-color);\n",
              "    }\n",
              "    40% {\n",
              "      border-color: transparent;\n",
              "      border-right-color: var(--fill-color);\n",
              "      border-top-color: var(--fill-color);\n",
              "    }\n",
              "    60% {\n",
              "      border-color: transparent;\n",
              "      border-right-color: var(--fill-color);\n",
              "    }\n",
              "    80% {\n",
              "      border-color: transparent;\n",
              "      border-right-color: var(--fill-color);\n",
              "      border-bottom-color: var(--fill-color);\n",
              "    }\n",
              "    90% {\n",
              "      border-color: transparent;\n",
              "      border-bottom-color: var(--fill-color);\n",
              "    }\n",
              "  }\n",
              "</style>\n",
              "\n",
              "  <script>\n",
              "    async function quickchart(key) {\n",
              "      const quickchartButtonEl =\n",
              "        document.querySelector('#' + key + ' button');\n",
              "      quickchartButtonEl.disabled = true;  // To prevent multiple clicks.\n",
              "      quickchartButtonEl.classList.add('colab-df-spinner');\n",
              "      try {\n",
              "        const charts = await google.colab.kernel.invokeFunction(\n",
              "            'suggestCharts', [key], {});\n",
              "      } catch (error) {\n",
              "        console.error('Error during call to suggestCharts:', error);\n",
              "      }\n",
              "      quickchartButtonEl.classList.remove('colab-df-spinner');\n",
              "      quickchartButtonEl.classList.add('colab-df-quickchart-complete');\n",
              "    }\n",
              "    (() => {\n",
              "      let quickchartButtonEl =\n",
              "        document.querySelector('#df-f3448039-ae0c-4912-9ce7-f61d6228dfd0 button');\n",
              "      quickchartButtonEl.style.display =\n",
              "        google.colab.kernel.accessAllowed ? 'block' : 'none';\n",
              "    })();\n",
              "  </script>\n",
              "</div>\n",
              "\n",
              "  <div id=\"id_e9c6dcb8-5f19-4e85-bf37-1d56dee97a64\">\n",
              "    <style>\n",
              "      .colab-df-generate {\n",
              "        background-color: #E8F0FE;\n",
              "        border: none;\n",
              "        border-radius: 50%;\n",
              "        cursor: pointer;\n",
              "        display: none;\n",
              "        fill: #1967D2;\n",
              "        height: 32px;\n",
              "        padding: 0 0 0 0;\n",
              "        width: 32px;\n",
              "      }\n",
              "\n",
              "      .colab-df-generate:hover {\n",
              "        background-color: #E2EBFA;\n",
              "        box-shadow: 0px 1px 2px rgba(60, 64, 67, 0.3), 0px 1px 3px 1px rgba(60, 64, 67, 0.15);\n",
              "        fill: #174EA6;\n",
              "      }\n",
              "\n",
              "      [theme=dark] .colab-df-generate {\n",
              "        background-color: #3B4455;\n",
              "        fill: #D2E3FC;\n",
              "      }\n",
              "\n",
              "      [theme=dark] .colab-df-generate:hover {\n",
              "        background-color: #434B5C;\n",
              "        box-shadow: 0px 1px 3px 1px rgba(0, 0, 0, 0.15);\n",
              "        filter: drop-shadow(0px 1px 2px rgba(0, 0, 0, 0.3));\n",
              "        fill: #FFFFFF;\n",
              "      }\n",
              "    </style>\n",
              "    <button class=\"colab-df-generate\" onclick=\"generateWithVariable('df1')\"\n",
              "            title=\"Generate code using this dataframe.\"\n",
              "            style=\"display:none;\">\n",
              "\n",
              "  <svg xmlns=\"http://www.w3.org/2000/svg\" height=\"24px\"viewBox=\"0 0 24 24\"\n",
              "       width=\"24px\">\n",
              "    <path d=\"M7,19H8.4L18.45,9,17,7.55,7,17.6ZM5,21V16.75L18.45,3.32a2,2,0,0,1,2.83,0l1.4,1.43a1.91,1.91,0,0,1,.58,1.4,1.91,1.91,0,0,1-.58,1.4L9.25,21ZM18.45,9,17,7.55Zm-12,3A5.31,5.31,0,0,0,4.9,8.1,5.31,5.31,0,0,0,1,6.5,5.31,5.31,0,0,0,4.9,4.9,5.31,5.31,0,0,0,6.5,1,5.31,5.31,0,0,0,8.1,4.9,5.31,5.31,0,0,0,12,6.5,5.46,5.46,0,0,0,6.5,12Z\"/>\n",
              "  </svg>\n",
              "    </button>\n",
              "    <script>\n",
              "      (() => {\n",
              "      const buttonEl =\n",
              "        document.querySelector('#id_e9c6dcb8-5f19-4e85-bf37-1d56dee97a64 button.colab-df-generate');\n",
              "      buttonEl.style.display =\n",
              "        google.colab.kernel.accessAllowed ? 'block' : 'none';\n",
              "\n",
              "      buttonEl.onclick = () => {\n",
              "        google.colab.notebook.generateWithVariable('df1');\n",
              "      }\n",
              "      })();\n",
              "    </script>\n",
              "  </div>\n",
              "\n",
              "    </div>\n",
              "  </div>\n"
            ],
            "application/vnd.google.colaboratory.intrinsic+json": {
              "type": "dataframe",
              "variable_name": "df1",
              "summary": "{\n  \"name\": \"df1\",\n  \"rows\": 2343,\n  \"fields\": [\n    {\n      \"column\": \"unique_id\",\n      \"properties\": {\n        \"dtype\": \"category\",\n        \"num_unique_values\": 1,\n        \"samples\": [\n          \"DIG\"\n        ],\n        \"semantic_type\": \"\",\n        \"description\": \"\"\n      }\n    },\n    {\n      \"column\": \"ds\",\n      \"properties\": {\n        \"dtype\": \"object\",\n        \"num_unique_values\": 2343,\n        \"samples\": [\n          \"2018-06-24\"\n        ],\n        \"semantic_type\": \"\",\n        \"description\": \"\"\n      }\n    },\n    {\n      \"column\": \"y\",\n      \"properties\": {\n        \"dtype\": \"number\",\n        \"std\": 16561.60786689235,\n        \"min\": 6591.8,\n        \"max\": 98196.7,\n        \"num_unique_values\": 1270,\n        \"samples\": [\n          26487.5\n        ],\n        \"semantic_type\": \"\",\n        \"description\": \"\"\n      }\n    }\n  ]\n}"
            }
          },
          "metadata": {},
          "execution_count": 148
        }
      ]
    },
    {
      "cell_type": "code",
      "source": [
        "# Change Data Type\n",
        "df1['ds'] = pd.to_datetime(df1['ds'])\n",
        "df1['y'] = df1['y'].astype(float)\n",
        "\n",
        "df1.info()"
      ],
      "metadata": {
        "id": "tVVdbH9G-rgV",
        "colab": {
          "base_uri": "https://localhost:8080/"
        },
        "outputId": "fa8e9d8a-5aaa-417d-82dd-b940ce680453"
      },
      "execution_count": 149,
      "outputs": [
        {
          "output_type": "stream",
          "name": "stdout",
          "text": [
            "<class 'pandas.core.frame.DataFrame'>\n",
            "RangeIndex: 2343 entries, 0 to 2342\n",
            "Data columns (total 3 columns):\n",
            " #   Column     Non-Null Count  Dtype         \n",
            "---  ------     --------------  -----         \n",
            " 0   unique_id  2343 non-null   object        \n",
            " 1   ds         2343 non-null   datetime64[ns]\n",
            " 2   y          2343 non-null   float64       \n",
            "dtypes: datetime64[ns](1), float64(1), object(1)\n",
            "memory usage: 55.0+ KB\n"
          ]
        }
      ]
    },
    {
      "cell_type": "markdown",
      "source": [
        "# **TRAIN-TEST SPLIT**"
      ],
      "metadata": {
        "id": "dt8vfhVQ1Yn-"
      }
    },
    {
      "cell_type": "code",
      "source": [
        "# Sizing\n",
        "size = int(len(df1))\n",
        "\n",
        "# 7 : 3 Ratio\n",
        "train_data = df1[:int(0.7 *size)]\n",
        "test_data = df1[int(0.7 * size):]\n",
        "train_len = len(train_data)\n",
        "test_len = len(test_data)\n",
        "print(\"Training lenght:\" , train_len)\n",
        "print(\"Test lenght:\" , test_len)"
      ],
      "metadata": {
        "id": "D51KaEZw-4zg",
        "colab": {
          "base_uri": "https://localhost:8080/"
        },
        "outputId": "3902a14e-a83d-4fb2-dcfd-0f685bcb5b83"
      },
      "execution_count": 150,
      "outputs": [
        {
          "output_type": "stream",
          "name": "stdout",
          "text": [
            "Training lenght: 1640\n",
            "Test lenght: 703\n"
          ]
        }
      ]
    },
    {
      "cell_type": "code",
      "source": [
        "# Train_data MAX Value\n",
        "train_data.max()"
      ],
      "metadata": {
        "id": "1FO1Q9VQ__Nl",
        "colab": {
          "base_uri": "https://localhost:8080/"
        },
        "outputId": "a211e02f-e38a-4487-d4bc-98647c892324"
      },
      "execution_count": 151,
      "outputs": [
        {
          "output_type": "execute_result",
          "data": {
            "text/plain": [
              "unique_id                    DIG\n",
              "ds           2022-06-29 00:00:00\n",
              "y                        98196.7\n",
              "dtype: object"
            ]
          },
          "metadata": {},
          "execution_count": 151
        }
      ]
    },
    {
      "cell_type": "markdown",
      "source": [
        "# **TRAINING PROCESSS**"
      ],
      "metadata": {
        "id": "pcPAdyNP1YcG"
      }
    },
    {
      "cell_type": "code",
      "source": [
        "# Model Configuration\n",
        "model = FEDformer(\n",
        "    h=test_len + 90,\n",
        "    input_size = 120,  # 120 Days of input size\n",
        "    modes=64,  # Reduced modes for less complexity\n",
        "    hidden_size=128,  # Increased hidden size\n",
        "    n_head=8,  # Must be set to 8\n",
        "    loss=MAE(),\n",
        "    scaler_type='standard',  # Change the scaler type\n",
        "    learning_rate=1e-3,  # Fine-tune the learning rate\n",
        "    max_steps=100,  # Increase the number of training steps\n",
        "    batch_size=32,  # Adjust batch size\n",
        "    windows_batch_size=256,  # Adjust window batch size\n",
        ")\n",
        "\n",
        "nf = NeuralForecast(\n",
        "    models=[model],\n",
        "    freq='D',\n",
        ")"
      ],
      "metadata": {
        "id": "gdiv9rYDAQzB",
        "colab": {
          "base_uri": "https://localhost:8080/"
        },
        "outputId": "0cce4f7a-45b3-4401-87e1-9c8c2272930a"
      },
      "execution_count": 152,
      "outputs": [
        {
          "output_type": "stream",
          "name": "stderr",
          "text": [
            "INFO:lightning_fabric.utilities.seed:Seed set to 1\n"
          ]
        }
      ]
    },
    {
      "cell_type": "code",
      "source": [
        "# Training\n",
        "nf.fit(df=train_data, static_df=None, verbose=True)"
      ],
      "metadata": {
        "id": "H17QqywrAVFR",
        "colab": {
          "base_uri": "https://localhost:8080/",
          "height": 413,
          "referenced_widgets": [
            "d3ae615414134d4ab92370cd5f26faa3",
            "ce86908febc84284b37b495db8ca6985",
            "6b798e10a44343c1b754aaedc7d1d658",
            "ace2c999f4f442b2882762be8b9c71ed",
            "73d644af92774954b59f61aaae5784bc",
            "7dc76dd829584dc7a7bb876c91188fbb",
            "ab5a3302896547b78d88977d84502d1c",
            "20cca87ba1f7412bac507b0e1fcdd83a",
            "5b1d1b29fd1a4c5187ccbbe0bce2e874",
            "945bbe234fa547cf9c384b178bfb1a4f",
            "f4cd39ebcc3c40579ef659e59f113a2a",
            "88fde69ec5ea40c1b8e92a2605d8cdd2",
            "8b3a1fb09ff74e9da083b2a6f97868ab",
            "d0e3ad6fc6c345b09380be72034d28e9",
            "7dd2308bd68d43348389ff682de7f997",
            "99ceb314bccb41718bb15462ab5a1069",
            "201d725cfce34affbea70e6e77dd94d5",
            "e6d726f744b2449bbb4180713d48ad62",
            "806e6cdf261b40dabddd7ca27155fb88",
            "3e36bd213dd545e5a88207094356255a",
            "362a811f90d941d0ba10819021f95059",
            "1b03f1c2ca9a4379943a17823523bb23",
            "8037df44dd83458a843ccd2625f17aa2",
            "6835bbcb077646dfab60d2b4edf157df",
            "e7972a5fa6974d6ab03b12e60452c6da",
            "ae465d61e9df4ed889eb9e73c03a7ca2",
            "064d61856b95480a81fa6fcbae322c27",
            "39ab74a036324edb9d52fcb507e7c44b",
            "ffd91977dd3c424cae1c5fea73da1671",
            "351cc29510da453aa2dd7ed48f09ca5f",
            "e7a55d662bc44ac0b932ee07a6284572",
            "ae907bf161d14f3aacb9e3bce259660e",
            "9cf1c9bee8fb477eb41d08d506fcbcfd"
          ]
        },
        "outputId": "22307c08-4fa9-426e-e239-726bab9c5e31"
      },
      "execution_count": 153,
      "outputs": [
        {
          "output_type": "stream",
          "name": "stderr",
          "text": [
            "INFO:pytorch_lightning.utilities.rank_zero:GPU available: True (cuda), used: True\n",
            "INFO:pytorch_lightning.utilities.rank_zero:TPU available: False, using: 0 TPU cores\n",
            "INFO:pytorch_lightning.utilities.rank_zero:HPU available: False, using: 0 HPUs\n",
            "INFO:pytorch_lightning.accelerators.cuda:LOCAL_RANK: 0 - CUDA_VISIBLE_DEVICES: [0]\n",
            "INFO:pytorch_lightning.callbacks.model_summary:\n",
            "  | Name          | Type          | Params | Mode \n",
            "--------------------------------------------------------\n",
            "0 | loss          | MAE           | 0      | train\n",
            "1 | padder_train  | ConstantPad1d | 0      | train\n",
            "2 | scaler        | TemporalNorm  | 0      | train\n",
            "3 | decomp        | SeriesDecomp  | 0      | train\n",
            "4 | enc_embedding | DataEmbedding | 384    | train\n",
            "5 | dec_embedding | DataEmbedding | 384    | train\n",
            "6 | encoder       | Encoder       | 271 K  | train\n",
            "7 | decoder       | Decoder       | 403 K  | train\n",
            "--------------------------------------------------------\n",
            "675 K     Trainable params\n",
            "0         Non-trainable params\n",
            "675 K     Total params\n",
            "2.702     Total estimated model params size (MB)\n"
          ]
        },
        {
          "output_type": "display_data",
          "data": {
            "text/plain": [
              "Sanity Checking: |          | 0/? [00:00<?, ?it/s]"
            ],
            "application/vnd.jupyter.widget-view+json": {
              "version_major": 2,
              "version_minor": 0,
              "model_id": "d3ae615414134d4ab92370cd5f26faa3"
            }
          },
          "metadata": {}
        },
        {
          "output_type": "display_data",
          "data": {
            "text/plain": [
              "Training: |          | 0/? [00:00<?, ?it/s]"
            ],
            "application/vnd.jupyter.widget-view+json": {
              "version_major": 2,
              "version_minor": 0,
              "model_id": "88fde69ec5ea40c1b8e92a2605d8cdd2"
            }
          },
          "metadata": {}
        },
        {
          "output_type": "display_data",
          "data": {
            "text/plain": [
              "Validation: |          | 0/? [00:00<?, ?it/s]"
            ],
            "application/vnd.jupyter.widget-view+json": {
              "version_major": 2,
              "version_minor": 0,
              "model_id": "8037df44dd83458a843ccd2625f17aa2"
            }
          },
          "metadata": {}
        },
        {
          "output_type": "stream",
          "name": "stderr",
          "text": [
            "INFO:pytorch_lightning.utilities.rank_zero:`Trainer.fit` stopped: `max_steps=100` reached.\n"
          ]
        }
      ]
    },
    {
      "cell_type": "markdown",
      "source": [
        "# **PREDICTION**\n"
      ],
      "metadata": {
        "id": "87ZN80SQ5Nyl"
      }
    },
    {
      "cell_type": "code",
      "source": [
        "forecasts = nf.predict()"
      ],
      "metadata": {
        "colab": {
          "base_uri": "https://localhost:8080/",
          "height": 173,
          "referenced_widgets": [
            "6e5d90ad5b13411b80b3b5ef45d81c9e",
            "93ab2c93211d4abfa23c3b12295be3b3",
            "c8623e773b2e45e495c91885a8eb88e8",
            "face751b51d242d5bfa7e32a15041ffe",
            "f39c9216d1db475bae4c718ae433fb2f",
            "aa6fefbebcdd439cbe5ee9d0cf966876",
            "0c8c880d34af4b1fb56f8696b7d08634",
            "c6a74029f3a242d0a01e8a2bf2b8912c",
            "5175122ab3e347beaec8ab0daf7102aa",
            "0ddf7d40355b43f887f3ec39d5ee4163",
            "35e6ac5cf405457aba893109b9f9b49d"
          ]
        },
        "id": "EylJxsZd9Cnl",
        "outputId": "28e5a829-3de9-4bfc-fe01-67bcc0eec121"
      },
      "execution_count": 154,
      "outputs": [
        {
          "output_type": "stream",
          "name": "stderr",
          "text": [
            "INFO:pytorch_lightning.utilities.rank_zero:GPU available: True (cuda), used: True\n",
            "INFO:pytorch_lightning.utilities.rank_zero:TPU available: False, using: 0 TPU cores\n",
            "INFO:pytorch_lightning.utilities.rank_zero:HPU available: False, using: 0 HPUs\n",
            "INFO:pytorch_lightning.accelerators.cuda:LOCAL_RANK: 0 - CUDA_VISIBLE_DEVICES: [0]\n"
          ]
        },
        {
          "output_type": "display_data",
          "data": {
            "text/plain": [
              "Predicting: |          | 0/? [00:00<?, ?it/s]"
            ],
            "application/vnd.jupyter.widget-view+json": {
              "version_major": 2,
              "version_minor": 0,
              "model_id": "6e5d90ad5b13411b80b3b5ef45d81c9e"
            }
          },
          "metadata": {}
        },
        {
          "output_type": "stream",
          "name": "stderr",
          "text": [
            "/usr/local/lib/python3.10/dist-packages/neuralforecast/core.py:196: FutureWarning: In a future version the predictions will have the id as a column. You can set the `NIXTLA_ID_AS_COL` environment variable to adopt the new behavior and to suppress this warning.\n",
            "  warnings.warn(\n"
          ]
        }
      ]
    },
    {
      "cell_type": "code",
      "source": [
        "# Reset Index\n",
        "train = train_data['y']\n",
        "test = test_data['y']\n",
        "\n",
        "train.reset_index(drop=True, inplace=True)\n",
        "test.reset_index(drop=True, inplace=True)\n",
        "\n",
        "predict = forecasts['FEDformer']\n",
        "predict.reset_index(drop=True, inplace=True)"
      ],
      "metadata": {
        "id": "x0FrFileAohg"
      },
      "execution_count": 155,
      "outputs": []
    },
    {
      "cell_type": "code",
      "source": [
        "predict_test = predict[0:test_len]\n",
        "predict_future = predict[test_len:]"
      ],
      "metadata": {
        "id": "pTdUcg-LA8uY"
      },
      "execution_count": 156,
      "outputs": []
    },
    {
      "cell_type": "code",
      "source": [
        "# Order predict_future\n",
        "predict_future_30 = predict_future[:30]\n",
        "predict_future_60 = predict_future[30:60]\n",
        "predict_future_90 = predict_future[60:]"
      ],
      "metadata": {
        "id": "xpr-UR7NDPwZ"
      },
      "execution_count": 157,
      "outputs": []
    },
    {
      "cell_type": "code",
      "source": [
        "# Print Predicted Data\n",
        "print(\"\\nPredicted Data for the next 30 days:\")\n",
        "print(predict_future_30)\n",
        "\n",
        "print(\"\\nPredicted Data for the next 60 days:\")\n",
        "print(predict_future_60)\n",
        "\n",
        "print(\"\\nPredicted Data for the next 90 days:\")\n",
        "print(predict_future_90)"
      ],
      "metadata": {
        "id": "HHCSgTpeCalw",
        "colab": {
          "base_uri": "https://localhost:8080/"
        },
        "outputId": "30485872-2fb6-429f-a356-529f4e6a263d"
      },
      "execution_count": 158,
      "outputs": [
        {
          "output_type": "stream",
          "name": "stdout",
          "text": [
            "\n",
            "Predicted Data for the next 30 days:\n",
            "703    232673.937500\n",
            "704    218292.312500\n",
            "705    188652.281250\n",
            "706    218302.718750\n",
            "707    195129.390625\n",
            "708    204092.828125\n",
            "709    244243.375000\n",
            "710    246046.250000\n",
            "711    270186.343750\n",
            "712    237479.765625\n",
            "713    240481.796875\n",
            "714    232874.218750\n",
            "715    229470.484375\n",
            "716    275964.187500\n",
            "717    228075.062500\n",
            "718    251731.312500\n",
            "719    261436.312500\n",
            "720    206460.937500\n",
            "721    207025.937500\n",
            "722    189242.375000\n",
            "723    207723.671875\n",
            "724    205117.812500\n",
            "725    254535.265625\n",
            "726    239144.968750\n",
            "727    209852.890625\n",
            "728    216469.796875\n",
            "729    247561.296875\n",
            "730    212972.765625\n",
            "731    241609.937500\n",
            "732    208144.156250\n",
            "Name: FEDformer, dtype: float32\n",
            "\n",
            "Predicted Data for the next 60 days:\n",
            "733    212327.578125\n",
            "734    229006.609375\n",
            "735    215396.687500\n",
            "736    184882.562500\n",
            "737    197301.750000\n",
            "738    200655.593750\n",
            "739    187134.234375\n",
            "740    176330.796875\n",
            "741    219708.109375\n",
            "742    228186.000000\n",
            "743    231497.515625\n",
            "744    237122.937500\n",
            "745    257057.750000\n",
            "746    242799.609375\n",
            "747    223917.828125\n",
            "748    258328.203125\n",
            "749    220597.718750\n",
            "750    240617.109375\n",
            "751    272778.375000\n",
            "752    252553.921875\n",
            "753    243950.593750\n",
            "754    250985.171875\n",
            "755    252286.421875\n",
            "756    256578.250000\n",
            "757    258245.062500\n",
            "758    285122.781250\n",
            "759    267450.500000\n",
            "760    257875.781250\n",
            "761    273505.156250\n",
            "762    244836.921875\n",
            "Name: FEDformer, dtype: float32\n",
            "\n",
            "Predicted Data for the next 90 days:\n",
            "763    242743.718750\n",
            "764    253973.875000\n",
            "765    253615.875000\n",
            "766    259023.890625\n",
            "767    269690.250000\n",
            "768    297293.218750\n",
            "769    293803.562500\n",
            "770    319786.750000\n",
            "771    294837.562500\n",
            "772    353671.968750\n",
            "773    328315.593750\n",
            "774    333911.437500\n",
            "775    332223.562500\n",
            "776    332399.250000\n",
            "777    347688.406250\n",
            "778    321575.437500\n",
            "779    305387.437500\n",
            "780    306368.031250\n",
            "781    302673.500000\n",
            "782    275235.781250\n",
            "783    301466.062500\n",
            "784    272480.062500\n",
            "785    274952.625000\n",
            "786    240759.937500\n",
            "787    276263.375000\n",
            "788    248197.125000\n",
            "789    234227.609375\n",
            "790    196337.187500\n",
            "791    192085.968750\n",
            "792    181661.218750\n",
            "Name: FEDformer, dtype: float32\n"
          ]
        }
      ]
    },
    {
      "cell_type": "markdown",
      "source": [
        "# **EVALUATION**"
      ],
      "metadata": {
        "id": "iJa5b5uD1YGX"
      }
    },
    {
      "cell_type": "code",
      "source": [
        "mae = mean_absolute_error(test, predict_test)\n",
        "mape = mean_absolute_percentage_error(test, predict_test)\n",
        "mse = mean_squared_error(test, predict_test)\n",
        "rmse = np.sqrt(mean_squared_error(test, predict_test))\n",
        "\n",
        "print(\"Mean Absolute Error (MAE):\", mae)\n",
        "print(\"Mean Absolute Percentage Error (MAPE):\", mape)\n",
        "print(\"Mean Square Error (MSE):\", mse)\n",
        "print(\"Root Mean Square Error (RMSE):\", rmse)"
      ],
      "metadata": {
        "id": "AmOhGtB_BRxR",
        "colab": {
          "base_uri": "https://localhost:8080/"
        },
        "outputId": "97b4dc38-d47b-4ee3-d435-abea0aeaacee"
      },
      "execution_count": 159,
      "outputs": [
        {
          "output_type": "stream",
          "name": "stdout",
          "text": [
            "Mean Absolute Error (MAE): 107207.86067486073\n",
            "Mean Absolute Percentage Error (MAPE): 4.66524302372584\n",
            "Mean Square Error (MSE): 14742179419.830109\n",
            "Root Mean Square Error (RMSE): 121417.3769269873\n"
          ]
        }
      ]
    },
    {
      "cell_type": "markdown",
      "source": [
        "# **VISUALIZATION**"
      ],
      "metadata": {
        "id": "qwEYRmg95sz5"
      }
    },
    {
      "cell_type": "code",
      "source": [
        "# prompt: adding first_value to the last of test\n",
        "first_value = predict_test.iloc[0]\n",
        "train_draw = pd.concat([train, pd.Series([first_value])], ignore_index=True)"
      ],
      "metadata": {
        "id": "x8uSzmsCHIkU"
      },
      "execution_count": 160,
      "outputs": []
    },
    {
      "cell_type": "markdown",
      "source": [
        "**Overall Visualization**"
      ],
      "metadata": {
        "id": "CHVl7gCUHuvM"
      }
    },
    {
      "cell_type": "code",
      "source": [
        "plt.figure(figsize=(16, 9))\n",
        "\n",
        "train_data_index = pd.RangeIndex(start=0, stop=train_len+1, step=1)\n",
        "plt.plot(train_draw)\n",
        "test_data_index = pd.RangeIndex(start=train_len+1, stop=train_len+test_len+1, step=1)\n",
        "plt.plot(test_data_index, test)\n",
        "\n",
        "predict_test_index = pd.RangeIndex(start=train_len+1, stop=train_len+test_len+1, step=1)\n",
        "plt.plot(predict_test_index,(predict_test))\n",
        "\n",
        "predict_future_30_index = pd.RangeIndex(start=train_len+test_len+1, stop=train_len+test_len+31, step=1)\n",
        "plt.plot(predict_future_30_index, predict_future_30)\n",
        "predict_future_60_index = pd.RangeIndex(start=train_len+test_len+31, stop=train_len+test_len+61, step=1)\n",
        "plt.plot(predict_future_60_index, predict_future_60)\n",
        "predict_future_90_index = pd.RangeIndex(start=train_len+test_len+61, stop=train_len+test_len+91, step=1)\n",
        "plt.plot(predict_future_90_index, predict_future_90)\n",
        "\n",
        "plt.legend(['Train', 'Test', 'Predict Test', 'Predict next 30 days', 'Predict next 60 days', 'Predict next 90 days'])\n",
        "plt.xlabel('Time')\n",
        "plt.ylabel('Values')\n",
        "plt.title('Train, Test, and Predictions')\n",
        "plt.show()"
      ],
      "metadata": {
        "id": "7Z-OnsOvHapD",
        "colab": {
          "base_uri": "https://localhost:8080/",
          "height": 662
        },
        "outputId": "38fd6f26-2dd0-496a-bbf0-18e537284855"
      },
      "execution_count": 161,
      "outputs": [
        {
          "output_type": "display_data",
          "data": {
            "text/plain": [
              "<Figure size 1600x900 with 1 Axes>"
            ],
            "image/png": "[encoded data removed]"
          },
          "metadata": {}
        }
      ]
    },
    {
      "cell_type": "markdown",
      "source": [
        "# **---------------------------------------**"
      ],
      "metadata": {
        "id": "3DFjogTo5o4W"
      }
    },
    {
      "cell_type": "markdown",
      "source": [
        "# **POLYNOMINAL SMOOTHING**"
      ],
      "metadata": {
        "id": "WrzaxB4p5XxJ"
      }
    },
    {
      "cell_type": "code",
      "source": [
        "predict_smoothed = savgol_filter(predict, window_length=31, polyorder=3)"
      ],
      "metadata": {
        "id": "deZeHHPbB28s"
      },
      "execution_count": 162,
      "outputs": []
    },
    {
      "cell_type": "markdown",
      "source": [
        "# **RE - PREDICTION**\n"
      ],
      "metadata": {
        "id": "RfIm8SRH5WCd"
      }
    },
    {
      "cell_type": "code",
      "source": [
        "predict_test = predict_smoothed[0:test_len]\n",
        "predict_future = predict_smoothed[test_len:]"
      ],
      "metadata": {
        "id": "87F8WlicB7qo"
      },
      "execution_count": 163,
      "outputs": []
    },
    {
      "cell_type": "code",
      "source": [
        "# Order predict_future\n",
        "predict_future_30 = predict_future[:30]\n",
        "predict_future_60 = predict_future[30:60]\n",
        "predict_future_90 = predict_future[60:]"
      ],
      "metadata": {
        "id": "UD0oRSytJXRk"
      },
      "execution_count": 164,
      "outputs": []
    },
    {
      "cell_type": "code",
      "source": [
        "# Print Predicted Data\n",
        "print(\"\\nPredicted Data for the next 30 days:\")\n",
        "print(predict_future_30)\n",
        "\n",
        "print(\"\\nPredicted Data for the next 60 days:\")\n",
        "print(predict_future_60)\n",
        "\n",
        "print(\"\\nPredicted Data for the next 90 days:\")\n",
        "print(predict_future_90)"
      ],
      "metadata": {
        "id": "u5NUUdzdJf_v",
        "colab": {
          "base_uri": "https://localhost:8080/"
        },
        "outputId": "4d7bc70a-6baf-4e8a-a5b2-a1aed63e8aca"
      },
      "execution_count": 165,
      "outputs": [
        {
          "output_type": "stream",
          "name": "stdout",
          "text": [
            "\n",
            "Predicted Data for the next 30 days:\n",
            "[210227.34 212436.06 218087.86 221100.64 225451.64 227953.86 229470.52\n",
            " 229100.27 229339.4  232081.16 234530.62 234644.38 236754.64 234922.39\n",
            " 235427.39 234330.77 234266.73 234073.4  233143.38 232138.5  229114.9\n",
            " 226272.3  225214.02 222068.84 220271.58 217363.16 214819.64 211590.28\n",
            " 209486.14 211237.4 ]\n",
            "\n",
            "Predicted Data for the next 60 days:\n",
            "[209787.23 211914.3  214267.1  213164.77 213484.19 213353.17 213718.05\n",
            " 213974.14 216881.8  219712.02 220406.72 222718.05 227477.17 230250.14\n",
            " 236084.   240360.89 244077.28 248617.28 252256.81 253648.36 254135.31\n",
            " 255006.11 253997.08 253414.66 252212.48 253333.84 254849.08 257224.52\n",
            " 261161.   264337.28]\n",
            "\n",
            "Predicted Data for the next 90 days:\n",
            "[268100.97 274263.8  278266.44 282914.2  290063.8  294611.6  299528.44\n",
            " 303791.94 308706.88 311077.66 313969.06 317828.97 321365.9  322859.22\n",
            " 323841.97 321304.9  317688.9  313005.12 307264.62 300478.53 292657.94\n",
            " 283813.97 273957.7  263100.22 251252.67 238426.14 224631.72 209880.53\n",
            " 194183.66 177552.22]\n"
          ]
        }
      ]
    },
    {
      "cell_type": "markdown",
      "source": [
        "# **RE - EVALUATION**"
      ],
      "metadata": {
        "id": "aBaWpHeV5KQ9"
      }
    },
    {
      "cell_type": "code",
      "source": [
        "mae = mean_absolute_error(test, predict_test)\n",
        "mape = mean_absolute_percentage_error(test, predict_test)\n",
        "mse = mean_squared_error(test, predict_test)\n",
        "rmse = np.sqrt(mean_squared_error(test, predict_test))\n",
        "\n",
        "print(\"Mean Absolute Error (MAE):\", mae)\n",
        "print(\"Mean Absolute Percentage Error (MAPE):\", mape)\n",
        "print(\"Mean Square Error (MSE):\", mse)\n",
        "print(\"Root Mean Square Error (RMSE):\", rmse)"
      ],
      "metadata": {
        "id": "oN_vK83uCFgN",
        "colab": {
          "base_uri": "https://localhost:8080/"
        },
        "outputId": "bda32f4b-8390-445c-9194-1de98275b306"
      },
      "execution_count": 166,
      "outputs": [
        {
          "output_type": "stream",
          "name": "stdout",
          "text": [
            "Mean Absolute Error (MAE): 107217.07130119429\n",
            "Mean Absolute Percentage Error (MAPE): 4.665251869425645\n",
            "Mean Square Error (MSE): 14541798629.399714\n",
            "Root Mean Square Error (RMSE): 120589.3802513294\n"
          ]
        }
      ]
    },
    {
      "cell_type": "markdown",
      "source": [
        "# **RE - VISUALIZATION**"
      ],
      "metadata": {
        "id": "pwk_eOsf8PaI"
      }
    },
    {
      "cell_type": "code",
      "execution_count": 167,
      "metadata": {
        "id": "o7_qbVh74aBp"
      },
      "outputs": [],
      "source": [
        "# Assuming predict_test is a NumPy array\n",
        "first_value = pd.Series(predict_test.reshape(-1))  # Convert to pandas Series\n",
        "\n",
        "# Concatenate train and first_value as Series in a new DataFrame\n",
        "train_draw = pd.concat([train, first_value], ignore_index=True)"
      ]
    },
    {
      "cell_type": "markdown",
      "source": [
        "**Overall Visualization**"
      ],
      "metadata": {
        "id": "kK18UP7AJyXX"
      }
    },
    {
      "cell_type": "code",
      "source": [
        "plt.figure(figsize=(16, 9))\n",
        "\n",
        "train_data_index = pd.RangeIndex(start=0, stop=train_len+1, step=1)\n",
        "plt.plot(train_draw)\n",
        "test_data_index = pd.RangeIndex(start=train_len+1, stop=train_len+test_len+1, step=1)\n",
        "plt.plot(test_data_index, test)\n",
        "\n",
        "predict_test_index = pd.RangeIndex(start=train_len+1, stop=train_len+test_len+1, step=1)\n",
        "plt.plot(predict_test_index,(predict_test))\n",
        "\n",
        "predict_future_30_index = pd.RangeIndex(start=train_len+test_len+1, stop=train_len+test_len+31, step=1)\n",
        "plt.plot(predict_future_30_index, predict_future_30)\n",
        "predict_future_60_index = pd.RangeIndex(start=train_len+test_len+31, stop=train_len+test_len+61, step=1)\n",
        "plt.plot(predict_future_60_index, predict_future_60)\n",
        "predict_future_90_index = pd.RangeIndex(start=train_len+test_len+61, stop=train_len+test_len+91, step=1)\n",
        "plt.plot(predict_future_90_index, predict_future_90)\n",
        "\n",
        "plt.legend(['Train', 'Test', 'Predict Test', 'Predict next 30 days', 'Predict next 60 days', 'Predict next 90 days'])\n",
        "plt.xlabel('Time')\n",
        "plt.ylabel('Values')\n",
        "plt.title('7:3 ratio DIG Stock Price Train, Test, and Predictions')\n",
        "plt.show()"
      ],
      "metadata": {
        "id": "C6nV7V2gJmKH",
        "colab": {
          "base_uri": "https://localhost:8080/",
          "height": 662
        },
        "outputId": "f6418b67-1fd3-4229-bd2a-c1eafc4f28d9"
      },
      "execution_count": 168,
      "outputs": [
        {
          "output_type": "display_data",
          "data": {
            "text/plain": [
              "<Figure size 1600x900 with 1 Axes>"
            ],
            "image/png": "[encoded data removed]"
          },
          "metadata": {}
        }
      ]
    }
  ]
}