{
  "nbformat": 4,
  "nbformat_minor": 0,
  "metadata": {
    "colab": {
      "provenance": [],
      "gpuType": "T4"
    },
    "kernelspec": {
      "name": "python3",
      "display_name": "Python 3"
    },
    "language_info": {
      "name": "python"
    },
    "accelerator": "GPU",
    "widgets": {
      "application/vnd.jupyter.widget-state+json": {
        "b1af7f3df3934a90888f7c962bcd5e1e": {
          "model_module": "@jupyter-widgets/controls",
          "model_name": "HBoxModel",
          "model_module_version": "1.5.0",
          "state": {
            "_dom_classes": [],
            "_model_module": "@jupyter-widgets/controls",
            "_model_module_version": "1.5.0",
            "_model_name": "HBoxModel",
            "_view_count": null,
            "_view_module": "@jupyter-widgets/controls",
            "_view_module_version": "1.5.0",
            "_view_name": "HBoxView",
            "box_style": "",
            "children": [
              "IPY_MODEL_54f4b537942f43dfa9d99265e47620e8",
              "IPY_MODEL_286cd2d933f94e97a3a7bebeb8fa4a21",
              "IPY_MODEL_525fe67523504d638c9170bc1b3e241f"
            ],
            "layout": "IPY_MODEL_df2d233f007840cca1bea59b876ef9c2"
          }
        },
        "54f4b537942f43dfa9d99265e47620e8": {
          "model_module": "@jupyter-widgets/controls",
          "model_name": "HTMLModel",
          "model_module_version": "1.5.0",
          "state": {
            "_dom_classes": [],
            "_model_module": "@jupyter-widgets/controls",
            "_model_module_version": "1.5.0",
            "_model_name": "HTMLModel",
            "_view_count": null,
            "_view_module": "@jupyter-widgets/controls",
            "_view_module_version": "1.5.0",
            "_view_name": "HTMLView",
            "description": "",
            "description_tooltip": null,
            "layout": "IPY_MODEL_28ec3b06ef154c1b9455d14d4d0cbafd",
            "placeholder": "​",
            "style": "IPY_MODEL_8c8d4cab6f3f4d5484116c753198e39c",
            "value": "Sanity Checking DataLoader 0: 100%"
          }
        },
        "286cd2d933f94e97a3a7bebeb8fa4a21": {
          "model_module": "@jupyter-widgets/controls",
          "model_name": "FloatProgressModel",
          "model_module_version": "1.5.0",
          "state": {
            "_dom_classes": [],
            "_model_module": "@jupyter-widgets/controls",
            "_model_module_version": "1.5.0",
            "_model_name": "FloatProgressModel",
            "_view_count": null,
            "_view_module": "@jupyter-widgets/controls",
            "_view_module_version": "1.5.0",
            "_view_name": "ProgressView",
            "bar_style": "",
            "description": "",
            "description_tooltip": null,
            "layout": "IPY_MODEL_8e5e88080548482aaafe53bc18cda079",
            "max": 1,
            "min": 0,
            "orientation": "horizontal",
            "style": "IPY_MODEL_494ef92e0a9d4510a59acf046c861458",
            "value": 1
          }
        },
        "525fe67523504d638c9170bc1b3e241f": {
          "model_module": "@jupyter-widgets/controls",
          "model_name": "HTMLModel",
          "model_module_version": "1.5.0",
          "state": {
            "_dom_classes": [],
            "_model_module": "@jupyter-widgets/controls",
            "_model_module_version": "1.5.0",
            "_model_name": "HTMLModel",
            "_view_count": null,
            "_view_module": "@jupyter-widgets/controls",
            "_view_module_version": "1.5.0",
            "_view_name": "HTMLView",
            "description": "",
            "description_tooltip": null,
            "layout": "IPY_MODEL_22351cdbb78a477495bdd64670b2f60a",
            "placeholder": "​",
            "style": "IPY_MODEL_98081f340772496c95b56cb00ba66f3b",
            "value": " 1/1 [00:00&lt;00:00, 697.66it/s]"
          }
        },
        "df2d233f007840cca1bea59b876ef9c2": {
          "model_module": "@jupyter-widgets/base",
          "model_name": "LayoutModel",
          "model_module_version": "1.2.0",
          "state": {
            "_model_module": "@jupyter-widgets/base",
            "_model_module_version": "1.2.0",
            "_model_name": "LayoutModel",
            "_view_count": null,
            "_view_module": "@jupyter-widgets/base",
            "_view_module_version": "1.2.0",
            "_view_name": "LayoutView",
            "align_content": null,
            "align_items": null,
            "align_self": null,
            "border": null,
            "bottom": null,
            "display": "inline-flex",
            "flex": null,
            "flex_flow": "row wrap",
            "grid_area": null,
            "grid_auto_columns": null,
            "grid_auto_flow": null,
            "grid_auto_rows": null,
            "grid_column": null,
            "grid_gap": null,
            "grid_row": null,
            "grid_template_areas": null,
            "grid_template_columns": null,
            "grid_template_rows": null,
            "height": null,
            "justify_content": null,
            "justify_items": null,
            "left": null,
            "margin": null,
            "max_height": null,
            "max_width": null,
            "min_height": null,
            "min_width": null,
            "object_fit": null,
            "object_position": null,
            "order": null,
            "overflow": null,
            "overflow_x": null,
            "overflow_y": null,
            "padding": null,
            "right": null,
            "top": null,
            "visibility": "hidden",
            "width": "100%"
          }
        },
        "28ec3b06ef154c1b9455d14d4d0cbafd": {
          "model_module": "@jupyter-widgets/base",
          "model_name": "LayoutModel",
          "model_module_version": "1.2.0",
          "state": {
            "_model_module": "@jupyter-widgets/base",
            "_model_module_version": "1.2.0",
            "_model_name": "LayoutModel",
            "_view_count": null,
            "_view_module": "@jupyter-widgets/base",
            "_view_module_version": "1.2.0",
            "_view_name": "LayoutView",
            "align_content": null,
            "align_items": null,
            "align_self": null,
            "border": null,
            "bottom": null,
            "display": null,
            "flex": null,
            "flex_flow": null,
            "grid_area": null,
            "grid_auto_columns": null,
            "grid_auto_flow": null,
            "grid_auto_rows": null,
            "grid_column": null,
            "grid_gap": null,
            "grid_row": null,
            "grid_template_areas": null,
            "grid_template_columns": null,
            "grid_template_rows": null,
            "height": null,
            "justify_content": null,
            "justify_items": null,
            "left": null,
            "margin": null,
            "max_height": null,
            "max_width": null,
            "min_height": null,
            "min_width": null,
            "object_fit": null,
            "object_position": null,
            "order": null,
            "overflow": null,
            "overflow_x": null,
            "overflow_y": null,
            "padding": null,
            "right": null,
            "top": null,
            "visibility": null,
            "width": null
          }
        },
        "8c8d4cab6f3f4d5484116c753198e39c": {
          "model_module": "@jupyter-widgets/controls",
          "model_name": "DescriptionStyleModel",
          "model_module_version": "1.5.0",
          "state": {
            "_model_module": "@jupyter-widgets/controls",
            "_model_module_version": "1.5.0",
            "_model_name": "DescriptionStyleModel",
            "_view_count": null,
            "_view_module": "@jupyter-widgets/base",
            "_view_module_version": "1.2.0",
            "_view_name": "StyleView",
            "description_width": ""
          }
        },
        "8e5e88080548482aaafe53bc18cda079": {
          "model_module": "@jupyter-widgets/base",
          "model_name": "LayoutModel",
          "model_module_version": "1.2.0",
          "state": {
            "_model_module": "@jupyter-widgets/base",
            "_model_module_version": "1.2.0",
            "_model_name": "LayoutModel",
            "_view_count": null,
            "_view_module": "@jupyter-widgets/base",
            "_view_module_version": "1.2.0",
            "_view_name": "LayoutView",
            "align_content": null,
            "align_items": null,
            "align_self": null,
            "border": null,
            "bottom": null,
            "display": null,
            "flex": "2",
            "flex_flow": null,
            "grid_area": null,
            "grid_auto_columns": null,
            "grid_auto_flow": null,
            "grid_auto_rows": null,
            "grid_column": null,
            "grid_gap": null,
            "grid_row": null,
            "grid_template_areas": null,
            "grid_template_columns": null,
            "grid_template_rows": null,
            "height": null,
            "justify_content": null,
            "justify_items": null,
            "left": null,
            "margin": null,
            "max_height": null,
            "max_width": null,
            "min_height": null,
            "min_width": null,
            "object_fit": null,
            "object_position": null,
            "order": null,
            "overflow": null,
            "overflow_x": null,
            "overflow_y": null,
            "padding": null,
            "right": null,
            "top": null,
            "visibility": null,
            "width": null
          }
        },
        "494ef92e0a9d4510a59acf046c861458": {
          "model_module": "@jupyter-widgets/controls",
          "model_name": "ProgressStyleModel",
          "model_module_version": "1.5.0",
          "state": {
            "_model_module": "@jupyter-widgets/controls",
            "_model_module_version": "1.5.0",
            "_model_name": "ProgressStyleModel",
            "_view_count": null,
            "_view_module": "@jupyter-widgets/base",
            "_view_module_version": "1.2.0",
            "_view_name": "StyleView",
            "bar_color": null,
            "description_width": ""
          }
        },
        "22351cdbb78a477495bdd64670b2f60a": {
          "model_module": "@jupyter-widgets/base",
          "model_name": "LayoutModel",
          "model_module_version": "1.2.0",
          "state": {
            "_model_module": "@jupyter-widgets/base",
            "_model_module_version": "1.2.0",
            "_model_name": "LayoutModel",
            "_view_count": null,
            "_view_module": "@jupyter-widgets/base",
            "_view_module_version": "1.2.0",
            "_view_name": "LayoutView",
            "align_content": null,
            "align_items": null,
            "align_self": null,
            "border": null,
            "bottom": null,
            "display": null,
            "flex": null,
            "flex_flow": null,
            "grid_area": null,
            "grid_auto_columns": null,
            "grid_auto_flow": null,
            "grid_auto_rows": null,
            "grid_column": null,
            "grid_gap": null,
            "grid_row": null,
            "grid_template_areas": null,
            "grid_template_columns": null,
            "grid_template_rows": null,
            "height": null,
            "justify_content": null,
            "justify_items": null,
            "left": null,
            "margin": null,
            "max_height": null,
            "max_width": null,
            "min_height": null,
            "min_width": null,
            "object_fit": null,
            "object_position": null,
            "order": null,
            "overflow": null,
            "overflow_x": null,
            "overflow_y": null,
            "padding": null,
            "right": null,
            "top": null,
            "visibility": null,
            "width": null
          }
        },
        "98081f340772496c95b56cb00ba66f3b": {
          "model_module": "@jupyter-widgets/controls",
          "model_name": "DescriptionStyleModel",
          "model_module_version": "1.5.0",
          "state": {
            "_model_module": "@jupyter-widgets/controls",
            "_model_module_version": "1.5.0",
            "_model_name": "DescriptionStyleModel",
            "_view_count": null,
            "_view_module": "@jupyter-widgets/base",
            "_view_module_version": "1.2.0",
            "_view_name": "StyleView",
            "description_width": ""
          }
        },
        "37d4596254804e1fa602468fe23e3f21": {
          "model_module": "@jupyter-widgets/controls",
          "model_name": "HBoxModel",
          "model_module_version": "1.5.0",
          "state": {
            "_dom_classes": [],
            "_model_module": "@jupyter-widgets/controls",
            "_model_module_version": "1.5.0",
            "_model_name": "HBoxModel",
            "_view_count": null,
            "_view_module": "@jupyter-widgets/controls",
            "_view_module_version": "1.5.0",
            "_view_name": "HBoxView",
            "box_style": "",
            "children": [
              "IPY_MODEL_2d76fce2ef3048849770cb04addf685e",
              "IPY_MODEL_85fdefb4d5d24bb9b374b49918941827",
              "IPY_MODEL_3d7b2366f63a4429a8761078e1d05643"
            ],
            "layout": "IPY_MODEL_22f0085e5d6040d8b75e3d58c4407ebf"
          }
        },
        "2d76fce2ef3048849770cb04addf685e": {
          "model_module": "@jupyter-widgets/controls",
          "model_name": "HTMLModel",
          "model_module_version": "1.5.0",
          "state": {
            "_dom_classes": [],
            "_model_module": "@jupyter-widgets/controls",
            "_model_module_version": "1.5.0",
            "_model_name": "HTMLModel",
            "_view_count": null,
            "_view_module": "@jupyter-widgets/controls",
            "_view_module_version": "1.5.0",
            "_view_name": "HTMLView",
            "description": "",
            "description_tooltip": null,
            "layout": "IPY_MODEL_d7f06cdd262541c08a839364c1c7196d",
            "placeholder": "​",
            "style": "IPY_MODEL_508008b730cf4272809f4f536f997d30",
            "value": "Epoch 99: 100%"
          }
        },
        "85fdefb4d5d24bb9b374b49918941827": {
          "model_module": "@jupyter-widgets/controls",
          "model_name": "FloatProgressModel",
          "model_module_version": "1.5.0",
          "state": {
            "_dom_classes": [],
            "_model_module": "@jupyter-widgets/controls",
            "_model_module_version": "1.5.0",
            "_model_name": "FloatProgressModel",
            "_view_count": null,
            "_view_module": "@jupyter-widgets/controls",
            "_view_module_version": "1.5.0",
            "_view_name": "ProgressView",
            "bar_style": "success",
            "description": "",
            "description_tooltip": null,
            "layout": "IPY_MODEL_f98080ce4eb042b18a636cbb00e46430",
            "max": 1,
            "min": 0,
            "orientation": "horizontal",
            "style": "IPY_MODEL_b38c0be707c24849b17564aa6a75276a",
            "value": 1
          }
        },
        "3d7b2366f63a4429a8761078e1d05643": {
          "model_module": "@jupyter-widgets/controls",
          "model_name": "HTMLModel",
          "model_module_version": "1.5.0",
          "state": {
            "_dom_classes": [],
            "_model_module": "@jupyter-widgets/controls",
            "_model_module_version": "1.5.0",
            "_model_name": "HTMLModel",
            "_view_count": null,
            "_view_module": "@jupyter-widgets/controls",
            "_view_module_version": "1.5.0",
            "_view_name": "HTMLView",
            "description": "",
            "description_tooltip": null,
            "layout": "IPY_MODEL_d1d05f39f6a640a6b5377569f436ce81",
            "placeholder": "​",
            "style": "IPY_MODEL_6a28adde899d4943a3371717b6ce0a95",
            "value": " 1/1 [00:01&lt;00:00,  0.70it/s, v_num=34, train_loss_step=10.80, train_loss_epoch=10.80]"
          }
        },
        "22f0085e5d6040d8b75e3d58c4407ebf": {
          "model_module": "@jupyter-widgets/base",
          "model_name": "LayoutModel",
          "model_module_version": "1.2.0",
          "state": {
            "_model_module": "@jupyter-widgets/base",
            "_model_module_version": "1.2.0",
            "_model_name": "LayoutModel",
            "_view_count": null,
            "_view_module": "@jupyter-widgets/base",
            "_view_module_version": "1.2.0",
            "_view_name": "LayoutView",
            "align_content": null,
            "align_items": null,
            "align_self": null,
            "border": null,
            "bottom": null,
            "display": "inline-flex",
            "flex": null,
            "flex_flow": "row wrap",
            "grid_area": null,
            "grid_auto_columns": null,
            "grid_auto_flow": null,
            "grid_auto_rows": null,
            "grid_column": null,
            "grid_gap": null,
            "grid_row": null,
            "grid_template_areas": null,
            "grid_template_columns": null,
            "grid_template_rows": null,
            "height": null,
            "justify_content": null,
            "justify_items": null,
            "left": null,
            "margin": null,
            "max_height": null,
            "max_width": null,
            "min_height": null,
            "min_width": null,
            "object_fit": null,
            "object_position": null,
            "order": null,
            "overflow": null,
            "overflow_x": null,
            "overflow_y": null,
            "padding": null,
            "right": null,
            "top": null,
            "visibility": null,
            "width": "100%"
          }
        },
        "d7f06cdd262541c08a839364c1c7196d": {
          "model_module": "@jupyter-widgets/base",
          "model_name": "LayoutModel",
          "model_module_version": "1.2.0",
          "state": {
            "_model_module": "@jupyter-widgets/base",
            "_model_module_version": "1.2.0",
            "_model_name": "LayoutModel",
            "_view_count": null,
            "_view_module": "@jupyter-widgets/base",
            "_view_module_version": "1.2.0",
            "_view_name": "LayoutView",
            "align_content": null,
            "align_items": null,
            "align_self": null,
            "border": null,
            "bottom": null,
            "display": null,
            "flex": null,
            "flex_flow": null,
            "grid_area": null,
            "grid_auto_columns": null,
            "grid_auto_flow": null,
            "grid_auto_rows": null,
            "grid_column": null,
            "grid_gap": null,
            "grid_row": null,
            "grid_template_areas": null,
            "grid_template_columns": null,
            "grid_template_rows": null,
            "height": null,
            "justify_content": null,
            "justify_items": null,
            "left": null,
            "margin": null,
            "max_height": null,
            "max_width": null,
            "min_height": null,
            "min_width": null,
            "object_fit": null,
            "object_position": null,
            "order": null,
            "overflow": null,
            "overflow_x": null,
            "overflow_y": null,
            "padding": null,
            "right": null,
            "top": null,
            "visibility": null,
            "width": null
          }
        },
        "508008b730cf4272809f4f536f997d30": {
          "model_module": "@jupyter-widgets/controls",
          "model_name": "DescriptionStyleModel",
          "model_module_version": "1.5.0",
          "state": {
            "_model_module": "@jupyter-widgets/controls",
            "_model_module_version": "1.5.0",
            "_model_name": "DescriptionStyleModel",
            "_view_count": null,
            "_view_module": "@jupyter-widgets/base",
            "_view_module_version": "1.2.0",
            "_view_name": "StyleView",
            "description_width": ""
          }
        },
        "f98080ce4eb042b18a636cbb00e46430": {
          "model_module": "@jupyter-widgets/base",
          "model_name": "LayoutModel",
          "model_module_version": "1.2.0",
          "state": {
            "_model_module": "@jupyter-widgets/base",
            "_model_module_version": "1.2.0",
            "_model_name": "LayoutModel",
            "_view_count": null,
            "_view_module": "@jupyter-widgets/base",
            "_view_module_version": "1.2.0",
            "_view_name": "LayoutView",
            "align_content": null,
            "align_items": null,
            "align_self": null,
            "border": null,
            "bottom": null,
            "display": null,
            "flex": "2",
            "flex_flow": null,
            "grid_area": null,
            "grid_auto_columns": null,
            "grid_auto_flow": null,
            "grid_auto_rows": null,
            "grid_column": null,
            "grid_gap": null,
            "grid_row": null,
            "grid_template_areas": null,
            "grid_template_columns": null,
            "grid_template_rows": null,
            "height": null,
            "justify_content": null,
            "justify_items": null,
            "left": null,
            "margin": null,
            "max_height": null,
            "max_width": null,
            "min_height": null,
            "min_width": null,
            "object_fit": null,
            "object_position": null,
            "order": null,
            "overflow": null,
            "overflow_x": null,
            "overflow_y": null,
            "padding": null,
            "right": null,
            "top": null,
            "visibility": null,
            "width": null
          }
        },
        "b38c0be707c24849b17564aa6a75276a": {
          "model_module": "@jupyter-widgets/controls",
          "model_name": "ProgressStyleModel",
          "model_module_version": "1.5.0",
          "state": {
            "_model_module": "@jupyter-widgets/controls",
            "_model_module_version": "1.5.0",
            "_model_name": "ProgressStyleModel",
            "_view_count": null,
            "_view_module": "@jupyter-widgets/base",
            "_view_module_version": "1.2.0",
            "_view_name": "StyleView",
            "bar_color": null,
            "description_width": ""
          }
        },
        "d1d05f39f6a640a6b5377569f436ce81": {
          "model_module": "@jupyter-widgets/base",
          "model_name": "LayoutModel",
          "model_module_version": "1.2.0",
          "state": {
            "_model_module": "@jupyter-widgets/base",
            "_model_module_version": "1.2.0",
            "_model_name": "LayoutModel",
            "_view_count": null,
            "_view_module": "@jupyter-widgets/base",
            "_view_module_version": "1.2.0",
            "_view_name": "LayoutView",
            "align_content": null,
            "align_items": null,
            "align_self": null,
            "border": null,
            "bottom": null,
            "display": null,
            "flex": null,
            "flex_flow": null,
            "grid_area": null,
            "grid_auto_columns": null,
            "grid_auto_flow": null,
            "grid_auto_rows": null,
            "grid_column": null,
            "grid_gap": null,
            "grid_row": null,
            "grid_template_areas": null,
            "grid_template_columns": null,
            "grid_template_rows": null,
            "height": null,
            "justify_content": null,
            "justify_items": null,
            "left": null,
            "margin": null,
            "max_height": null,
            "max_width": null,
            "min_height": null,
            "min_width": null,
            "object_fit": null,
            "object_position": null,
            "order": null,
            "overflow": null,
            "overflow_x": null,
            "overflow_y": null,
            "padding": null,
            "right": null,
            "top": null,
            "visibility": null,
            "width": null
          }
        },
        "6a28adde899d4943a3371717b6ce0a95": {
          "model_module": "@jupyter-widgets/controls",
          "model_name": "DescriptionStyleModel",
          "model_module_version": "1.5.0",
          "state": {
            "_model_module": "@jupyter-widgets/controls",
            "_model_module_version": "1.5.0",
            "_model_name": "DescriptionStyleModel",
            "_view_count": null,
            "_view_module": "@jupyter-widgets/base",
            "_view_module_version": "1.2.0",
            "_view_name": "StyleView",
            "description_width": ""
          }
        },
        "61e68cc215d444e495c733c30abdad32": {
          "model_module": "@jupyter-widgets/controls",
          "model_name": "HBoxModel",
          "model_module_version": "1.5.0",
          "state": {
            "_dom_classes": [],
            "_model_module": "@jupyter-widgets/controls",
            "_model_module_version": "1.5.0",
            "_model_name": "HBoxModel",
            "_view_count": null,
            "_view_module": "@jupyter-widgets/controls",
            "_view_module_version": "1.5.0",
            "_view_name": "HBoxView",
            "box_style": "",
            "children": [
              "IPY_MODEL_d41f6250aa174bd0987ebf30363336d0",
              "IPY_MODEL_d7eae41019754643a0dcf5a7423980c6",
              "IPY_MODEL_eb77d9763b3a497caf5cd25f32f8327f"
            ],
            "layout": "IPY_MODEL_066594ab8d3c47d284b24acda53480ef"
          }
        },
        "d41f6250aa174bd0987ebf30363336d0": {
          "model_module": "@jupyter-widgets/controls",
          "model_name": "HTMLModel",
          "model_module_version": "1.5.0",
          "state": {
            "_dom_classes": [],
            "_model_module": "@jupyter-widgets/controls",
            "_model_module_version": "1.5.0",
            "_model_name": "HTMLModel",
            "_view_count": null,
            "_view_module": "@jupyter-widgets/controls",
            "_view_module_version": "1.5.0",
            "_view_name": "HTMLView",
            "description": "",
            "description_tooltip": null,
            "layout": "IPY_MODEL_427099ecfef3411cbac2e10618ac02d1",
            "placeholder": "​",
            "style": "IPY_MODEL_2645645bfefe460faea6e4f58263cfbd",
            "value": "Validation DataLoader 0: 100%"
          }
        },
        "d7eae41019754643a0dcf5a7423980c6": {
          "model_module": "@jupyter-widgets/controls",
          "model_name": "FloatProgressModel",
          "model_module_version": "1.5.0",
          "state": {
            "_dom_classes": [],
            "_model_module": "@jupyter-widgets/controls",
            "_model_module_version": "1.5.0",
            "_model_name": "FloatProgressModel",
            "_view_count": null,
            "_view_module": "@jupyter-widgets/controls",
            "_view_module_version": "1.5.0",
            "_view_name": "ProgressView",
            "bar_style": "",
            "description": "",
            "description_tooltip": null,
            "layout": "IPY_MODEL_cdda767e2b0c4c00ae8c3d0a0c0d8350",
            "max": 1,
            "min": 0,
            "orientation": "horizontal",
            "style": "IPY_MODEL_5c41c7ea527d4491ab6b4a0c7e68f1c4",
            "value": 1
          }
        },
        "eb77d9763b3a497caf5cd25f32f8327f": {
          "model_module": "@jupyter-widgets/controls",
          "model_name": "HTMLModel",
          "model_module_version": "1.5.0",
          "state": {
            "_dom_classes": [],
            "_model_module": "@jupyter-widgets/controls",
            "_model_module_version": "1.5.0",
            "_model_name": "HTMLModel",
            "_view_count": null,
            "_view_module": "@jupyter-widgets/controls",
            "_view_module_version": "1.5.0",
            "_view_name": "HTMLView",
            "description": "",
            "description_tooltip": null,
            "layout": "IPY_MODEL_ed12243d87e84b58bbdd94023d981c01",
            "placeholder": "​",
            "style": "IPY_MODEL_29b4b3d1861740a19495e43a3aa32e79",
            "value": " 1/1 [00:00&lt;00:00, 279.79it/s]"
          }
        },
        "066594ab8d3c47d284b24acda53480ef": {
          "model_module": "@jupyter-widgets/base",
          "model_name": "LayoutModel",
          "model_module_version": "1.2.0",
          "state": {
            "_model_module": "@jupyter-widgets/base",
            "_model_module_version": "1.2.0",
            "_model_name": "LayoutModel",
            "_view_count": null,
            "_view_module": "@jupyter-widgets/base",
            "_view_module_version": "1.2.0",
            "_view_name": "LayoutView",
            "align_content": null,
            "align_items": null,
            "align_self": null,
            "border": null,
            "bottom": null,
            "display": "inline-flex",
            "flex": null,
            "flex_flow": "row wrap",
            "grid_area": null,
            "grid_auto_columns": null,
            "grid_auto_flow": null,
            "grid_auto_rows": null,
            "grid_column": null,
            "grid_gap": null,
            "grid_row": null,
            "grid_template_areas": null,
            "grid_template_columns": null,
            "grid_template_rows": null,
            "height": null,
            "justify_content": null,
            "justify_items": null,
            "left": null,
            "margin": null,
            "max_height": null,
            "max_width": null,
            "min_height": null,
            "min_width": null,
            "object_fit": null,
            "object_position": null,
            "order": null,
            "overflow": null,
            "overflow_x": null,
            "overflow_y": null,
            "padding": null,
            "right": null,
            "top": null,
            "visibility": "hidden",
            "width": "100%"
          }
        },
        "427099ecfef3411cbac2e10618ac02d1": {
          "model_module": "@jupyter-widgets/base",
          "model_name": "LayoutModel",
          "model_module_version": "1.2.0",
          "state": {
            "_model_module": "@jupyter-widgets/base",
            "_model_module_version": "1.2.0",
            "_model_name": "LayoutModel",
            "_view_count": null,
            "_view_module": "@jupyter-widgets/base",
            "_view_module_version": "1.2.0",
            "_view_name": "LayoutView",
            "align_content": null,
            "align_items": null,
            "align_self": null,
            "border": null,
            "bottom": null,
            "display": null,
            "flex": null,
            "flex_flow": null,
            "grid_area": null,
            "grid_auto_columns": null,
            "grid_auto_flow": null,
            "grid_auto_rows": null,
            "grid_column": null,
            "grid_gap": null,
            "grid_row": null,
            "grid_template_areas": null,
            "grid_template_columns": null,
            "grid_template_rows": null,
            "height": null,
            "justify_content": null,
            "justify_items": null,
            "left": null,
            "margin": null,
            "max_height": null,
            "max_width": null,
            "min_height": null,
            "min_width": null,
            "object_fit": null,
            "object_position": null,
            "order": null,
            "overflow": null,
            "overflow_x": null,
            "overflow_y": null,
            "padding": null,
            "right": null,
            "top": null,
            "visibility": null,
            "width": null
          }
        },
        "2645645bfefe460faea6e4f58263cfbd": {
          "model_module": "@jupyter-widgets/controls",
          "model_name": "DescriptionStyleModel",
          "model_module_version": "1.5.0",
          "state": {
            "_model_module": "@jupyter-widgets/controls",
            "_model_module_version": "1.5.0",
            "_model_name": "DescriptionStyleModel",
            "_view_count": null,
            "_view_module": "@jupyter-widgets/base",
            "_view_module_version": "1.2.0",
            "_view_name": "StyleView",
            "description_width": ""
          }
        },
        "cdda767e2b0c4c00ae8c3d0a0c0d8350": {
          "model_module": "@jupyter-widgets/base",
          "model_name": "LayoutModel",
          "model_module_version": "1.2.0",
          "state": {
            "_model_module": "@jupyter-widgets/base",
            "_model_module_version": "1.2.0",
            "_model_name": "LayoutModel",
            "_view_count": null,
            "_view_module": "@jupyter-widgets/base",
            "_view_module_version": "1.2.0",
            "_view_name": "LayoutView",
            "align_content": null,
            "align_items": null,
            "align_self": null,
            "border": null,
            "bottom": null,
            "display": null,
            "flex": "2",
            "flex_flow": null,
            "grid_area": null,
            "grid_auto_columns": null,
            "grid_auto_flow": null,
            "grid_auto_rows": null,
            "grid_column": null,
            "grid_gap": null,
            "grid_row": null,
            "grid_template_areas": null,
            "grid_template_columns": null,
            "grid_template_rows": null,
            "height": null,
            "justify_content": null,
            "justify_items": null,
            "left": null,
            "margin": null,
            "max_height": null,
            "max_width": null,
            "min_height": null,
            "min_width": null,
            "object_fit": null,
            "object_position": null,
            "order": null,
            "overflow": null,
            "overflow_x": null,
            "overflow_y": null,
            "padding": null,
            "right": null,
            "top": null,
            "visibility": null,
            "width": null
          }
        },
        "5c41c7ea527d4491ab6b4a0c7e68f1c4": {
          "model_module": "@jupyter-widgets/controls",
          "model_name": "ProgressStyleModel",
          "model_module_version": "1.5.0",
          "state": {
            "_model_module": "@jupyter-widgets/controls",
            "_model_module_version": "1.5.0",
            "_model_name": "ProgressStyleModel",
            "_view_count": null,
            "_view_module": "@jupyter-widgets/base",
            "_view_module_version": "1.2.0",
            "_view_name": "StyleView",
            "bar_color": null,
            "description_width": ""
          }
        },
        "ed12243d87e84b58bbdd94023d981c01": {
          "model_module": "@jupyter-widgets/base",
          "model_name": "LayoutModel",
          "model_module_version": "1.2.0",
          "state": {
            "_model_module": "@jupyter-widgets/base",
            "_model_module_version": "1.2.0",
            "_model_name": "LayoutModel",
            "_view_count": null,
            "_view_module": "@jupyter-widgets/base",
            "_view_module_version": "1.2.0",
            "_view_name": "LayoutView",
            "align_content": null,
            "align_items": null,
            "align_self": null,
            "border": null,
            "bottom": null,
            "display": null,
            "flex": null,
            "flex_flow": null,
            "grid_area": null,
            "grid_auto_columns": null,
            "grid_auto_flow": null,
            "grid_auto_rows": null,
            "grid_column": null,
            "grid_gap": null,
            "grid_row": null,
            "grid_template_areas": null,
            "grid_template_columns": null,
            "grid_template_rows": null,
            "height": null,
            "justify_content": null,
            "justify_items": null,
            "left": null,
            "margin": null,
            "max_height": null,
            "max_width": null,
            "min_height": null,
            "min_width": null,
            "object_fit": null,
            "object_position": null,
            "order": null,
            "overflow": null,
            "overflow_x": null,
            "overflow_y": null,
            "padding": null,
            "right": null,
            "top": null,
            "visibility": null,
            "width": null
          }
        },
        "29b4b3d1861740a19495e43a3aa32e79": {
          "model_module": "@jupyter-widgets/controls",
          "model_name": "DescriptionStyleModel",
          "model_module_version": "1.5.0",
          "state": {
            "_model_module": "@jupyter-widgets/controls",
            "_model_module_version": "1.5.0",
            "_model_name": "DescriptionStyleModel",
            "_view_count": null,
            "_view_module": "@jupyter-widgets/base",
            "_view_module_version": "1.2.0",
            "_view_name": "StyleView",
            "description_width": ""
          }
        },
        "6e6c46996b9d46a8bd95660b4a440d25": {
          "model_module": "@jupyter-widgets/controls",
          "model_name": "HBoxModel",
          "model_module_version": "1.5.0",
          "state": {
            "_dom_classes": [],
            "_model_module": "@jupyter-widgets/controls",
            "_model_module_version": "1.5.0",
            "_model_name": "HBoxModel",
            "_view_count": null,
            "_view_module": "@jupyter-widgets/controls",
            "_view_module_version": "1.5.0",
            "_view_name": "HBoxView",
            "box_style": "",
            "children": [
              "IPY_MODEL_7bb9bfe29d5940c28dda369d60b53997",
              "IPY_MODEL_d441e5d595d54d16b9b46370cadc3da5",
              "IPY_MODEL_b8e4405a49cb416094db5169b1f851a2"
            ],
            "layout": "IPY_MODEL_28e1b318f364453eb02d29543efd8237"
          }
        },
        "7bb9bfe29d5940c28dda369d60b53997": {
          "model_module": "@jupyter-widgets/controls",
          "model_name": "HTMLModel",
          "model_module_version": "1.5.0",
          "state": {
            "_dom_classes": [],
            "_model_module": "@jupyter-widgets/controls",
            "_model_module_version": "1.5.0",
            "_model_name": "HTMLModel",
            "_view_count": null,
            "_view_module": "@jupyter-widgets/controls",
            "_view_module_version": "1.5.0",
            "_view_name": "HTMLView",
            "description": "",
            "description_tooltip": null,
            "layout": "IPY_MODEL_f7d32c83fbf641d8ad5e76d4eae6be17",
            "placeholder": "​",
            "style": "IPY_MODEL_1b3fe3194a3c4824bee719a7e5a9e5e3",
            "value": "Predicting DataLoader 0: 100%"
          }
        },
        "d441e5d595d54d16b9b46370cadc3da5": {
          "model_module": "@jupyter-widgets/controls",
          "model_name": "FloatProgressModel",
          "model_module_version": "1.5.0",
          "state": {
            "_dom_classes": [],
            "_model_module": "@jupyter-widgets/controls",
            "_model_module_version": "1.5.0",
            "_model_name": "FloatProgressModel",
            "_view_count": null,
            "_view_module": "@jupyter-widgets/controls",
            "_view_module_version": "1.5.0",
            "_view_name": "ProgressView",
            "bar_style": "success",
            "description": "",
            "description_tooltip": null,
            "layout": "IPY_MODEL_0e8fb77c341a41a78f3c93b21cf20888",
            "max": 1,
            "min": 0,
            "orientation": "horizontal",
            "style": "IPY_MODEL_5ff792eac1f14e51a0a35b3b046e2f57",
            "value": 1
          }
        },
        "b8e4405a49cb416094db5169b1f851a2": {
          "model_module": "@jupyter-widgets/controls",
          "model_name": "HTMLModel",
          "model_module_version": "1.5.0",
          "state": {
            "_dom_classes": [],
            "_model_module": "@jupyter-widgets/controls",
            "_model_module_version": "1.5.0",
            "_model_name": "HTMLModel",
            "_view_count": null,
            "_view_module": "@jupyter-widgets/controls",
            "_view_module_version": "1.5.0",
            "_view_name": "HTMLView",
            "description": "",
            "description_tooltip": null,
            "layout": "IPY_MODEL_aa49f419e7f7498e9d5ca425df1bb7d0",
            "placeholder": "​",
            "style": "IPY_MODEL_696def2a31194fe4aa24e17a5ed42916",
            "value": " 1/1 [00:00&lt;00:00, 17.99it/s]"
          }
        },
        "28e1b318f364453eb02d29543efd8237": {
          "model_module": "@jupyter-widgets/base",
          "model_name": "LayoutModel",
          "model_module_version": "1.2.0",
          "state": {
            "_model_module": "@jupyter-widgets/base",
            "_model_module_version": "1.2.0",
            "_model_name": "LayoutModel",
            "_view_count": null,
            "_view_module": "@jupyter-widgets/base",
            "_view_module_version": "1.2.0",
            "_view_name": "LayoutView",
            "align_content": null,
            "align_items": null,
            "align_self": null,
            "border": null,
            "bottom": null,
            "display": "inline-flex",
            "flex": null,
            "flex_flow": "row wrap",
            "grid_area": null,
            "grid_auto_columns": null,
            "grid_auto_flow": null,
            "grid_auto_rows": null,
            "grid_column": null,
            "grid_gap": null,
            "grid_row": null,
            "grid_template_areas": null,
            "grid_template_columns": null,
            "grid_template_rows": null,
            "height": null,
            "justify_content": null,
            "justify_items": null,
            "left": null,
            "margin": null,
            "max_height": null,
            "max_width": null,
            "min_height": null,
            "min_width": null,
            "object_fit": null,
            "object_position": null,
            "order": null,
            "overflow": null,
            "overflow_x": null,
            "overflow_y": null,
            "padding": null,
            "right": null,
            "top": null,
            "visibility": null,
            "width": "100%"
          }
        },
        "f7d32c83fbf641d8ad5e76d4eae6be17": {
          "model_module": "@jupyter-widgets/base",
          "model_name": "LayoutModel",
          "model_module_version": "1.2.0",
          "state": {
            "_model_module": "@jupyter-widgets/base",
            "_model_module_version": "1.2.0",
            "_model_name": "LayoutModel",
            "_view_count": null,
            "_view_module": "@jupyter-widgets/base",
            "_view_module_version": "1.2.0",
            "_view_name": "LayoutView",
            "align_content": null,
            "align_items": null,
            "align_self": null,
            "border": null,
            "bottom": null,
            "display": null,
            "flex": null,
            "flex_flow": null,
            "grid_area": null,
            "grid_auto_columns": null,
            "grid_auto_flow": null,
            "grid_auto_rows": null,
            "grid_column": null,
            "grid_gap": null,
            "grid_row": null,
            "grid_template_areas": null,
            "grid_template_columns": null,
            "grid_template_rows": null,
            "height": null,
            "justify_content": null,
            "justify_items": null,
            "left": null,
            "margin": null,
            "max_height": null,
            "max_width": null,
            "min_height": null,
            "min_width": null,
            "object_fit": null,
            "object_position": null,
            "order": null,
            "overflow": null,
            "overflow_x": null,
            "overflow_y": null,
            "padding": null,
            "right": null,
            "top": null,
            "visibility": null,
            "width": null
          }
        },
        "1b3fe3194a3c4824bee719a7e5a9e5e3": {
          "model_module": "@jupyter-widgets/controls",
          "model_name": "DescriptionStyleModel",
          "model_module_version": "1.5.0",
          "state": {
            "_model_module": "@jupyter-widgets/controls",
            "_model_module_version": "1.5.0",
            "_model_name": "DescriptionStyleModel",
            "_view_count": null,
            "_view_module": "@jupyter-widgets/base",
            "_view_module_version": "1.2.0",
            "_view_name": "StyleView",
            "description_width": ""
          }
        },
        "0e8fb77c341a41a78f3c93b21cf20888": {
          "model_module": "@jupyter-widgets/base",
          "model_name": "LayoutModel",
          "model_module_version": "1.2.0",
          "state": {
            "_model_module": "@jupyter-widgets/base",
            "_model_module_version": "1.2.0",
            "_model_name": "LayoutModel",
            "_view_count": null,
            "_view_module": "@jupyter-widgets/base",
            "_view_module_version": "1.2.0",
            "_view_name": "LayoutView",
            "align_content": null,
            "align_items": null,
            "align_self": null,
            "border": null,
            "bottom": null,
            "display": null,
            "flex": "2",
            "flex_flow": null,
            "grid_area": null,
            "grid_auto_columns": null,
            "grid_auto_flow": null,
            "grid_auto_rows": null,
            "grid_column": null,
            "grid_gap": null,
            "grid_row": null,
            "grid_template_areas": null,
            "grid_template_columns": null,
            "grid_template_rows": null,
            "height": null,
            "justify_content": null,
            "justify_items": null,
            "left": null,
            "margin": null,
            "max_height": null,
            "max_width": null,
            "min_height": null,
            "min_width": null,
            "object_fit": null,
            "object_position": null,
            "order": null,
            "overflow": null,
            "overflow_x": null,
            "overflow_y": null,
            "padding": null,
            "right": null,
            "top": null,
            "visibility": null,
            "width": null
          }
        },
        "5ff792eac1f14e51a0a35b3b046e2f57": {
          "model_module": "@jupyter-widgets/controls",
          "model_name": "ProgressStyleModel",
          "model_module_version": "1.5.0",
          "state": {
            "_model_module": "@jupyter-widgets/controls",
            "_model_module_version": "1.5.0",
            "_model_name": "ProgressStyleModel",
            "_view_count": null,
            "_view_module": "@jupyter-widgets/base",
            "_view_module_version": "1.2.0",
            "_view_name": "StyleView",
            "bar_color": null,
            "description_width": ""
          }
        },
        "aa49f419e7f7498e9d5ca425df1bb7d0": {
          "model_module": "@jupyter-widgets/base",
          "model_name": "LayoutModel",
          "model_module_version": "1.2.0",
          "state": {
            "_model_module": "@jupyter-widgets/base",
            "_model_module_version": "1.2.0",
            "_model_name": "LayoutModel",
            "_view_count": null,
            "_view_module": "@jupyter-widgets/base",
            "_view_module_version": "1.2.0",
            "_view_name": "LayoutView",
            "align_content": null,
            "align_items": null,
            "align_self": null,
            "border": null,
            "bottom": null,
            "display": null,
            "flex": null,
            "flex_flow": null,
            "grid_area": null,
            "grid_auto_columns": null,
            "grid_auto_flow": null,
            "grid_auto_rows": null,
            "grid_column": null,
            "grid_gap": null,
            "grid_row": null,
            "grid_template_areas": null,
            "grid_template_columns": null,
            "grid_template_rows": null,
            "height": null,
            "justify_content": null,
            "justify_items": null,
            "left": null,
            "margin": null,
            "max_height": null,
            "max_width": null,
            "min_height": null,
            "min_width": null,
            "object_fit": null,
            "object_position": null,
            "order": null,
            "overflow": null,
            "overflow_x": null,
            "overflow_y": null,
            "padding": null,
            "right": null,
            "top": null,
            "visibility": null,
            "width": null
          }
        },
        "696def2a31194fe4aa24e17a5ed42916": {
          "model_module": "@jupyter-widgets/controls",
          "model_name": "DescriptionStyleModel",
          "model_module_version": "1.5.0",
          "state": {
            "_model_module": "@jupyter-widgets/controls",
            "_model_module_version": "1.5.0",
            "_model_name": "DescriptionStyleModel",
            "_view_count": null,
            "_view_module": "@jupyter-widgets/base",
            "_view_module_version": "1.2.0",
            "_view_name": "StyleView",
            "description_width": ""
          }
        }
      }
    }
  },
  "cells": [
    {
      "cell_type": "code",
      "source": [
        "#!pip install neuralforecast"
      ],
      "metadata": {
        "id": "7ZI3F5d3Kryg"
      },
      "execution_count": null,
      "outputs": []
    },
    {
      "cell_type": "markdown",
      "source": [
        "# **LIBRARY PREPARATION**"
      ],
      "metadata": {
        "id": "BGekASjU1fw-"
      }
    },
    {
      "cell_type": "code",
      "source": [
        "import numpy as np\n",
        "import pandas as pd\n",
        "import pytorch_lightning as pl\n",
        "import matplotlib.pyplot as plt\n",
        "\n",
        "from neuralforecast import NeuralForecast\n",
        "from neuralforecast.models import MLP, FEDformer\n",
        "from neuralforecast.losses.pytorch import MQLoss, DistributionLoss, MSE, MAE\n",
        "from neuralforecast.tsdataset import TimeSeriesDataset\n",
        "\n",
        "from datetime import datetime, timedelta\n",
        "from sklearn.metrics import mean_absolute_error, mean_squared_error, mean_absolute_percentage_error\n",
        "\n",
        "from scipy.signal import savgol_filter"
      ],
      "metadata": {
        "id": "Xpt1KrtZ8T35"
      },
      "execution_count": null,
      "outputs": []
    },
    {
      "cell_type": "markdown",
      "source": [
        "# **NVL DATA PREPARATION**"
      ],
      "metadata": {
        "id": "o8r2NeqR1Zbq"
      }
    },
    {
      "cell_type": "code",
      "source": [
        "# Read Data\n",
        "df = pd.read_csv('NVL Historical Data 1_6 Fed.csv')"
      ],
      "metadata": {
        "id": "nogaQrOf9byt"
      },
      "execution_count": null,
      "outputs": []
    },
    {
      "cell_type": "code",
      "source": [
        "# Add ID constraint\n",
        "df1 = df\n",
        "df1['unique_id'] = 'NVL'\n",
        "\n",
        "# Reorder columns\n",
        "df1 = df1[['unique_id', 'Date', 'Price']]\n",
        "\n",
        "# Rename\n",
        "df1.rename(columns={'Date': 'ds', 'Price': 'y'}, inplace=True)\n",
        "df1"
      ],
      "metadata": {
        "id": "Jo5stpuL9cM8",
        "colab": {
          "base_uri": "https://localhost:8080/",
          "height": 423
        },
        "outputId": "e475f433-436d-4414-f723-51492b37550f"
      },
      "execution_count": null,
      "outputs": [
        {
          "output_type": "execute_result",
          "data": {
            "text/plain": [
              "     unique_id          ds        y\n",
              "0          NVL  2018-01-02  27815.0\n",
              "1          NVL  2018-01-03  28410.0\n",
              "2          NVL  2018-01-04  28707.0\n",
              "3          NVL  2018-01-05  28962.0\n",
              "4          NVL  2018-01-06  28473.5\n",
              "...        ...         ...      ...\n",
              "2338       NVL  2024-05-28  14500.0\n",
              "2339       NVL  2024-05-29  14150.0\n",
              "2340       NVL  2024-05-30  14150.0\n",
              "2341       NVL  2024-05-31  14450.0\n",
              "2342       NVL  2024-06-01  14350.0\n",
              "\n",
              "[2343 rows x 3 columns]"
            ],
            "text/html": [
              "\n",
              "  <div id=\"df-b8110433-f4e1-4d35-b18b-280d747f1145\" class=\"colab-df-container\">\n",
              "    <div>\n",
              "<style scoped>\n",
              "    .dataframe tbody tr th:only-of-type {\n",
              "        vertical-align: middle;\n",
              "    }\n",
              "\n",
              "    .dataframe tbody tr th {\n",
              "        vertical-align: top;\n",
              "    }\n",
              "\n",
              "    .dataframe thead th {\n",
              "        text-align: right;\n",
              "    }\n",
              "</style>\n",
              "<table border=\"1\" class=\"dataframe\">\n",
              "  <thead>\n",
              "    <tr style=\"text-align: right;\">\n",
              "      <th></th>\n",
              "      <th>unique_id</th>\n",
              "      <th>ds</th>\n",
              "      <th>y</th>\n",
              "    </tr>\n",
              "  </thead>\n",
              "  <tbody>\n",
              "    <tr>\n",
              "      <th>0</th>\n",
              "      <td>NVL</td>\n",
              "      <td>2018-01-02</td>\n",
              "      <td>27815.0</td>\n",
              "    </tr>\n",
              "    <tr>\n",
              "      <th>1</th>\n",
              "      <td>NVL</td>\n",
              "      <td>2018-01-03</td>\n",
              "      <td>28410.0</td>\n",
              "    </tr>\n",
              "    <tr>\n",
              "      <th>2</th>\n",
              "      <td>NVL</td>\n",
              "      <td>2018-01-04</td>\n",
              "      <td>28707.0</td>\n",
              "    </tr>\n",
              "    <tr>\n",
              "      <th>3</th>\n",
              "      <td>NVL</td>\n",
              "      <td>2018-01-05</td>\n",
              "      <td>28962.0</td>\n",
              "    </tr>\n",
              "    <tr>\n",
              "      <th>4</th>\n",
              "      <td>NVL</td>\n",
              "      <td>2018-01-06</td>\n",
              "      <td>28473.5</td>\n",
              "    </tr>\n",
              "    <tr>\n",
              "      <th>...</th>\n",
              "      <td>...</td>\n",
              "      <td>...</td>\n",
              "      <td>...</td>\n",
              "    </tr>\n",
              "    <tr>\n",
              "      <th>2338</th>\n",
              "      <td>NVL</td>\n",
              "      <td>2024-05-28</td>\n",
              "      <td>14500.0</td>\n",
              "    </tr>\n",
              "    <tr>\n",
              "      <th>2339</th>\n",
              "      <td>NVL</td>\n",
              "      <td>2024-05-29</td>\n",
              "      <td>14150.0</td>\n",
              "    </tr>\n",
              "    <tr>\n",
              "      <th>2340</th>\n",
              "      <td>NVL</td>\n",
              "      <td>2024-05-30</td>\n",
              "      <td>14150.0</td>\n",
              "    </tr>\n",
              "    <tr>\n",
              "      <th>2341</th>\n",
              "      <td>NVL</td>\n",
              "      <td>2024-05-31</td>\n",
              "      <td>14450.0</td>\n",
              "    </tr>\n",
              "    <tr>\n",
              "      <th>2342</th>\n",
              "      <td>NVL</td>\n",
              "      <td>2024-06-01</td>\n",
              "      <td>14350.0</td>\n",
              "    </tr>\n",
              "  </tbody>\n",
              "</table>\n",
              "<p>2343 rows × 3 columns</p>\n",
              "</div>\n",
              "    <div class=\"colab-df-buttons\">\n",
              "\n",
              "  <div class=\"colab-df-container\">\n",
              "    <button class=\"colab-df-convert\" onclick=\"convertToInteractive('df-b8110433-f4e1-4d35-b18b-280d747f1145')\"\n",
              "            title=\"Convert this dataframe to an interactive table.\"\n",
              "            style=\"display:none;\">\n",
              "\n",
              "  <svg xmlns=\"http://www.w3.org/2000/svg\" height=\"24px\" viewBox=\"0 -960 960 960\">\n",
              "    <path d=\"M120-120v-720h720v720H120Zm60-500h600v-160H180v160Zm220 220h160v-160H400v160Zm0 220h160v-160H400v160ZM180-400h160v-160H180v160Zm440 0h160v-160H620v160ZM180-180h160v-160H180v160Zm440 0h160v-160H620v160Z\"/>\n",
              "  </svg>\n",
              "    </button>\n",
              "\n",
              "  <style>\n",
              "    .colab-df-container {\n",
              "      display:flex;\n",
              "      gap: 12px;\n",
              "    }\n",
              "\n",
              "    .colab-df-convert {\n",
              "      background-color: #E8F0FE;\n",
              "      border: none;\n",
              "      border-radius: 50%;\n",
              "      cursor: pointer;\n",
              "      display: none;\n",
              "      fill: #1967D2;\n",
              "      height: 32px;\n",
              "      padding: 0 0 0 0;\n",
              "      width: 32px;\n",
              "    }\n",
              "\n",
              "    .colab-df-convert:hover {\n",
              "      background-color: #E2EBFA;\n",
              "      box-shadow: 0px 1px 2px rgba(60, 64, 67, 0.3), 0px 1px 3px 1px rgba(60, 64, 67, 0.15);\n",
              "      fill: #174EA6;\n",
              "    }\n",
              "\n",
              "    .colab-df-buttons div {\n",
              "      margin-bottom: 4px;\n",
              "    }\n",
              "\n",
              "    [theme=dark] .colab-df-convert {\n",
              "      background-color: #3B4455;\n",
              "      fill: #D2E3FC;\n",
              "    }\n",
              "\n",
              "    [theme=dark] .colab-df-convert:hover {\n",
              "      background-color: #434B5C;\n",
              "      box-shadow: 0px 1px 3px 1px rgba(0, 0, 0, 0.15);\n",
              "      filter: drop-shadow(0px 1px 2px rgba(0, 0, 0, 0.3));\n",
              "      fill: #FFFFFF;\n",
              "    }\n",
              "  </style>\n",
              "\n",
              "    <script>\n",
              "      const buttonEl =\n",
              "        document.querySelector('#df-b8110433-f4e1-4d35-b18b-280d747f1145 button.colab-df-convert');\n",
              "      buttonEl.style.display =\n",
              "        google.colab.kernel.accessAllowed ? 'block' : 'none';\n",
              "\n",
              "      async function convertToInteractive(key) {\n",
              "        const element = document.querySelector('#df-b8110433-f4e1-4d35-b18b-280d747f1145');\n",
              "        const dataTable =\n",
              "          await google.colab.kernel.invokeFunction('convertToInteractive',\n",
              "                                                    [key], {});\n",
              "        if (!dataTable) return;\n",
              "\n",
              "        const docLinkHtml = 'Like what you see? Visit the ' +\n",
              "          '<a target=\"_blank\" href=https://colab.research.google.com/notebooks/data_table.ipynb>data table notebook</a>'\n",
              "          + ' to learn more about interactive tables.';\n",
              "        element.innerHTML = '';\n",
              "        dataTable['output_type'] = 'display_data';\n",
              "        await google.colab.output.renderOutput(dataTable, element);\n",
              "        const docLink = document.createElement('div');\n",
              "        docLink.innerHTML = docLinkHtml;\n",
              "        element.appendChild(docLink);\n",
              "      }\n",
              "    </script>\n",
              "  </div>\n",
              "\n",
              "\n",
              "<div id=\"df-8957f81e-d79e-4112-9927-6d7d9c6b2413\">\n",
              "  <button class=\"colab-df-quickchart\" onclick=\"quickchart('df-8957f81e-d79e-4112-9927-6d7d9c6b2413')\"\n",
              "            title=\"Suggest charts\"\n",
              "            style=\"display:none;\">\n",
              "\n",
              "<svg xmlns=\"http://www.w3.org/2000/svg\" height=\"24px\"viewBox=\"0 0 24 24\"\n",
              "     width=\"24px\">\n",
              "    <g>\n",
              "        <path d=\"M19 3H5c-1.1 0-2 .9-2 2v14c0 1.1.9 2 2 2h14c1.1 0 2-.9 2-2V5c0-1.1-.9-2-2-2zM9 17H7v-7h2v7zm4 0h-2V7h2v10zm4 0h-2v-4h2v4z\"/>\n",
              "    </g>\n",
              "</svg>\n",
              "  </button>\n",
              "\n",
              "<style>\n",
              "  .colab-df-quickchart {\n",
              "      --bg-color: #E8F0FE;\n",
              "      --fill-color: #1967D2;\n",
              "      --hover-bg-color: #E2EBFA;\n",
              "      --hover-fill-color: #174EA6;\n",
              "      --disabled-fill-color: #AAA;\n",
              "      --disabled-bg-color: #DDD;\n",
              "  }\n",
              "\n",
              "  [theme=dark] .colab-df-quickchart {\n",
              "      --bg-color: #3B4455;\n",
              "      --fill-color: #D2E3FC;\n",
              "      --hover-bg-color: #434B5C;\n",
              "      --hover-fill-color: #FFFFFF;\n",
              "      --disabled-bg-color: #3B4455;\n",
              "      --disabled-fill-color: #666;\n",
              "  }\n",
              "\n",
              "  .colab-df-quickchart {\n",
              "    background-color: var(--bg-color);\n",
              "    border: none;\n",
              "    border-radius: 50%;\n",
              "    cursor: pointer;\n",
              "    display: none;\n",
              "    fill: var(--fill-color);\n",
              "    height: 32px;\n",
              "    padding: 0;\n",
              "    width: 32px;\n",
              "  }\n",
              "\n",
              "  .colab-df-quickchart:hover {\n",
              "    background-color: var(--hover-bg-color);\n",
              "    box-shadow: 0 1px 2px rgba(60, 64, 67, 0.3), 0 1px 3px 1px rgba(60, 64, 67, 0.15);\n",
              "    fill: var(--button-hover-fill-color);\n",
              "  }\n",
              "\n",
              "  .colab-df-quickchart-complete:disabled,\n",
              "  .colab-df-quickchart-complete:disabled:hover {\n",
              "    background-color: var(--disabled-bg-color);\n",
              "    fill: var(--disabled-fill-color);\n",
              "    box-shadow: none;\n",
              "  }\n",
              "\n",
              "  .colab-df-spinner {\n",
              "    border: 2px solid var(--fill-color);\n",
              "    border-color: transparent;\n",
              "    border-bottom-color: var(--fill-color);\n",
              "    animation:\n",
              "      spin 1s steps(1) infinite;\n",
              "  }\n",
              "\n",
              "  @keyframes spin {\n",
              "    0% {\n",
              "      border-color: transparent;\n",
              "      border-bottom-color: var(--fill-color);\n",
              "      border-left-color: var(--fill-color);\n",
              "    }\n",
              "    20% {\n",
              "      border-color: transparent;\n",
              "      border-left-color: var(--fill-color);\n",
              "      border-top-color: var(--fill-color);\n",
              "    }\n",
              "    30% {\n",
              "      border-color: transparent;\n",
              "      border-left-color: var(--fill-color);\n",
              "      border-top-color: var(--fill-color);\n",
              "      border-right-color: var(--fill-color);\n",
              "    }\n",
              "    40% {\n",
              "      border-color: transparent;\n",
              "      border-right-color: var(--fill-color);\n",
              "      border-top-color: var(--fill-color);\n",
              "    }\n",
              "    60% {\n",
              "      border-color: transparent;\n",
              "      border-right-color: var(--fill-color);\n",
              "    }\n",
              "    80% {\n",
              "      border-color: transparent;\n",
              "      border-right-color: var(--fill-color);\n",
              "      border-bottom-color: var(--fill-color);\n",
              "    }\n",
              "    90% {\n",
              "      border-color: transparent;\n",
              "      border-bottom-color: var(--fill-color);\n",
              "    }\n",
              "  }\n",
              "</style>\n",
              "\n",
              "  <script>\n",
              "    async function quickchart(key) {\n",
              "      const quickchartButtonEl =\n",
              "        document.querySelector('#' + key + ' button');\n",
              "      quickchartButtonEl.disabled = true;  // To prevent multiple clicks.\n",
              "      quickchartButtonEl.classList.add('colab-df-spinner');\n",
              "      try {\n",
              "        const charts = await google.colab.kernel.invokeFunction(\n",
              "            'suggestCharts', [key], {});\n",
              "      } catch (error) {\n",
              "        console.error('Error during call to suggestCharts:', error);\n",
              "      }\n",
              "      quickchartButtonEl.classList.remove('colab-df-spinner');\n",
              "      quickchartButtonEl.classList.add('colab-df-quickchart-complete');\n",
              "    }\n",
              "    (() => {\n",
              "      let quickchartButtonEl =\n",
              "        document.querySelector('#df-8957f81e-d79e-4112-9927-6d7d9c6b2413 button');\n",
              "      quickchartButtonEl.style.display =\n",
              "        google.colab.kernel.accessAllowed ? 'block' : 'none';\n",
              "    })();\n",
              "  </script>\n",
              "</div>\n",
              "\n",
              "  <div id=\"id_3bd85df8-5e97-4966-8994-ccf289653e13\">\n",
              "    <style>\n",
              "      .colab-df-generate {\n",
              "        background-color: #E8F0FE;\n",
              "        border: none;\n",
              "        border-radius: 50%;\n",
              "        cursor: pointer;\n",
              "        display: none;\n",
              "        fill: #1967D2;\n",
              "        height: 32px;\n",
              "        padding: 0 0 0 0;\n",
              "        width: 32px;\n",
              "      }\n",
              "\n",
              "      .colab-df-generate:hover {\n",
              "        background-color: #E2EBFA;\n",
              "        box-shadow: 0px 1px 2px rgba(60, 64, 67, 0.3), 0px 1px 3px 1px rgba(60, 64, 67, 0.15);\n",
              "        fill: #174EA6;\n",
              "      }\n",
              "\n",
              "      [theme=dark] .colab-df-generate {\n",
              "        background-color: #3B4455;\n",
              "        fill: #D2E3FC;\n",
              "      }\n",
              "\n",
              "      [theme=dark] .colab-df-generate:hover {\n",
              "        background-color: #434B5C;\n",
              "        box-shadow: 0px 1px 3px 1px rgba(0, 0, 0, 0.15);\n",
              "        filter: drop-shadow(0px 1px 2px rgba(0, 0, 0, 0.3));\n",
              "        fill: #FFFFFF;\n",
              "      }\n",
              "    </style>\n",
              "    <button class=\"colab-df-generate\" onclick=\"generateWithVariable('df1')\"\n",
              "            title=\"Generate code using this dataframe.\"\n",
              "            style=\"display:none;\">\n",
              "\n",
              "  <svg xmlns=\"http://www.w3.org/2000/svg\" height=\"24px\"viewBox=\"0 0 24 24\"\n",
              "       width=\"24px\">\n",
              "    <path d=\"M7,19H8.4L18.45,9,17,7.55,7,17.6ZM5,21V16.75L18.45,3.32a2,2,0,0,1,2.83,0l1.4,1.43a1.91,1.91,0,0,1,.58,1.4,1.91,1.91,0,0,1-.58,1.4L9.25,21ZM18.45,9,17,7.55Zm-12,3A5.31,5.31,0,0,0,4.9,8.1,5.31,5.31,0,0,0,1,6.5,5.31,5.31,0,0,0,4.9,4.9,5.31,5.31,0,0,0,6.5,1,5.31,5.31,0,0,0,8.1,4.9,5.31,5.31,0,0,0,12,6.5,5.46,5.46,0,0,0,6.5,12Z\"/>\n",
              "  </svg>\n",
              "    </button>\n",
              "    <script>\n",
              "      (() => {\n",
              "      const buttonEl =\n",
              "        document.querySelector('#id_3bd85df8-5e97-4966-8994-ccf289653e13 button.colab-df-generate');\n",
              "      buttonEl.style.display =\n",
              "        google.colab.kernel.accessAllowed ? 'block' : 'none';\n",
              "\n",
              "      buttonEl.onclick = () => {\n",
              "        google.colab.notebook.generateWithVariable('df1');\n",
              "      }\n",
              "      })();\n",
              "    </script>\n",
              "  </div>\n",
              "\n",
              "    </div>\n",
              "  </div>\n"
            ],
            "application/vnd.google.colaboratory.intrinsic+json": {
              "type": "dataframe",
              "variable_name": "df1",
              "summary": "{\n  \"name\": \"df1\",\n  \"rows\": 2343,\n  \"fields\": [\n    {\n      \"column\": \"unique_id\",\n      \"properties\": {\n        \"dtype\": \"category\",\n        \"num_unique_values\": 1,\n        \"samples\": [\n          \"NVL\"\n        ],\n        \"semantic_type\": \"\",\n        \"description\": \"\"\n      }\n    },\n    {\n      \"column\": \"ds\",\n      \"properties\": {\n        \"dtype\": \"object\",\n        \"num_unique_values\": 2343,\n        \"samples\": [\n          \"2018-06-24\"\n        ],\n        \"semantic_type\": \"\",\n        \"description\": \"\"\n      }\n    },\n    {\n      \"column\": \"y\",\n      \"properties\": {\n        \"dtype\": \"number\",\n        \"std\": 23502.958536255086,\n        \"min\": 10250.0,\n        \"max\": 92366.0,\n        \"num_unique_values\": 944,\n        \"samples\": [\n          28260.0\n        ],\n        \"semantic_type\": \"\",\n        \"description\": \"\"\n      }\n    }\n  ]\n}"
            }
          },
          "metadata": {},
          "execution_count": 365
        }
      ]
    },
    {
      "cell_type": "code",
      "source": [
        "# Change Data Type\n",
        "df1['ds'] = pd.to_datetime(df1['ds'])\n",
        "df1['y'] = df1['y'].astype(float)\n",
        "\n",
        "df1.info()"
      ],
      "metadata": {
        "id": "tVVdbH9G-rgV",
        "colab": {
          "base_uri": "https://localhost:8080/"
        },
        "outputId": "8546b402-6373-40cd-99df-061e7c7b1b97"
      },
      "execution_count": null,
      "outputs": [
        {
          "output_type": "stream",
          "name": "stdout",
          "text": [
            "<class 'pandas.core.frame.DataFrame'>\n",
            "RangeIndex: 2343 entries, 0 to 2342\n",
            "Data columns (total 3 columns):\n",
            " #   Column     Non-Null Count  Dtype         \n",
            "---  ------     --------------  -----         \n",
            " 0   unique_id  2343 non-null   object        \n",
            " 1   ds         2343 non-null   datetime64[ns]\n",
            " 2   y          2343 non-null   float64       \n",
            "dtypes: datetime64[ns](1), float64(1), object(1)\n",
            "memory usage: 55.0+ KB\n"
          ]
        }
      ]
    },
    {
      "cell_type": "markdown",
      "source": [
        "# **TRAIN-TEST SPLIT**"
      ],
      "metadata": {
        "id": "dt8vfhVQ1Yn-"
      }
    },
    {
      "cell_type": "code",
      "source": [
        "# Sizing\n",
        "size = int(len(df1))\n",
        "\n",
        "# 8 : 2 Ratio\n",
        "train_data = df1[:int(0.8 *size)]\n",
        "test_data = df1[int(0.8 * size):]\n",
        "train_len = len(train_data)\n",
        "test_len = len(test_data)\n",
        "print(\"Training lenght:\" , train_len)\n",
        "print(\"Test lenght:\" , test_len)"
      ],
      "metadata": {
        "id": "D51KaEZw-4zg",
        "colab": {
          "base_uri": "https://localhost:8080/"
        },
        "outputId": "75052621-6673-4b05-88ad-665e79c1caea"
      },
      "execution_count": null,
      "outputs": [
        {
          "output_type": "stream",
          "name": "stdout",
          "text": [
            "Training lenght: 1874\n",
            "Test lenght: 469\n"
          ]
        }
      ]
    },
    {
      "cell_type": "code",
      "source": [
        "# Train_data MAX Value\n",
        "train_data.max()"
      ],
      "metadata": {
        "id": "1FO1Q9VQ__Nl",
        "colab": {
          "base_uri": "https://localhost:8080/"
        },
        "outputId": "6885157b-e255-4628-dbdf-2fda492a6fd7"
      },
      "execution_count": null,
      "outputs": [
        {
          "output_type": "execute_result",
          "data": {
            "text/plain": [
              "unique_id                    NVL\n",
              "ds           2023-02-18 00:00:00\n",
              "y                        92366.0\n",
              "dtype: object"
            ]
          },
          "metadata": {},
          "execution_count": 368
        }
      ]
    },
    {
      "cell_type": "markdown",
      "source": [
        "# **TRAINING PROCESSS**"
      ],
      "metadata": {
        "id": "pcPAdyNP1YcG"
      }
    },
    {
      "cell_type": "code",
      "source": [
        "# Model Configuration\n",
        "model = FEDformer(\n",
        "    h=test_len + 90,\n",
        "    input_size = 100,  # 100 Days of input size\n",
        "    modes=64,  # Reduced modes for less complexity\n",
        "    hidden_size=128,  # Increased hidden size\n",
        "    n_head=8,  # Must be set to 8\n",
        "    loss=MAE(),\n",
        "    scaler_type='standard',  # Change the scaler type\n",
        "    learning_rate=1e-3,  # Fine-tune the learning rate\n",
        "    max_steps=100,  # Increase the number of training steps\n",
        "    batch_size=32,  # Adjust batch size\n",
        "    windows_batch_size=256,  # Adjust window batch size\n",
        ")\n",
        "\n",
        "nf = NeuralForecast(\n",
        "    models=[model],\n",
        "    freq='D',\n",
        ")"
      ],
      "metadata": {
        "id": "gdiv9rYDAQzB",
        "colab": {
          "base_uri": "https://localhost:8080/"
        },
        "outputId": "e02a3888-92b2-4265-faa7-8788b0e0864d"
      },
      "execution_count": null,
      "outputs": [
        {
          "output_type": "stream",
          "name": "stderr",
          "text": [
            "INFO:lightning_fabric.utilities.seed:Seed set to 1\n"
          ]
        }
      ]
    },
    {
      "cell_type": "code",
      "source": [
        "# Training\n",
        "nf.fit(df=train_data, static_df=None, verbose=True)\n"
      ],
      "metadata": {
        "id": "H17QqywrAVFR",
        "colab": {
          "base_uri": "https://localhost:8080/",
          "height": 413,
          "referenced_widgets": [
            "b1af7f3df3934a90888f7c962bcd5e1e",
            "54f4b537942f43dfa9d99265e47620e8",
            "286cd2d933f94e97a3a7bebeb8fa4a21",
            "525fe67523504d638c9170bc1b3e241f",
            "df2d233f007840cca1bea59b876ef9c2",
            "28ec3b06ef154c1b9455d14d4d0cbafd",
            "8c8d4cab6f3f4d5484116c753198e39c",
            "8e5e88080548482aaafe53bc18cda079",
            "494ef92e0a9d4510a59acf046c861458",
            "22351cdbb78a477495bdd64670b2f60a",
            "98081f340772496c95b56cb00ba66f3b",
            "37d4596254804e1fa602468fe23e3f21",
            "2d76fce2ef3048849770cb04addf685e",
            "85fdefb4d5d24bb9b374b49918941827",
            "3d7b2366f63a4429a8761078e1d05643",
            "22f0085e5d6040d8b75e3d58c4407ebf",
            "d7f06cdd262541c08a839364c1c7196d",
            "508008b730cf4272809f4f536f997d30",
            "f98080ce4eb042b18a636cbb00e46430",
            "b38c0be707c24849b17564aa6a75276a",
            "d1d05f39f6a640a6b5377569f436ce81",
            "6a28adde899d4943a3371717b6ce0a95",
            "61e68cc215d444e495c733c30abdad32",
            "d41f6250aa174bd0987ebf30363336d0",
            "d7eae41019754643a0dcf5a7423980c6",
            "eb77d9763b3a497caf5cd25f32f8327f",
            "066594ab8d3c47d284b24acda53480ef",
            "427099ecfef3411cbac2e10618ac02d1",
            "2645645bfefe460faea6e4f58263cfbd",
            "cdda767e2b0c4c00ae8c3d0a0c0d8350",
            "5c41c7ea527d4491ab6b4a0c7e68f1c4",
            "ed12243d87e84b58bbdd94023d981c01",
            "29b4b3d1861740a19495e43a3aa32e79"
          ]
        },
        "outputId": "ea483fe1-6433-475b-86ce-d2e7f661f602"
      },
      "execution_count": null,
      "outputs": [
        {
          "output_type": "stream",
          "name": "stderr",
          "text": [
            "INFO:pytorch_lightning.utilities.rank_zero:GPU available: True (cuda), used: True\n",
            "INFO:pytorch_lightning.utilities.rank_zero:TPU available: False, using: 0 TPU cores\n",
            "INFO:pytorch_lightning.utilities.rank_zero:HPU available: False, using: 0 HPUs\n",
            "INFO:pytorch_lightning.accelerators.cuda:LOCAL_RANK: 0 - CUDA_VISIBLE_DEVICES: [0]\n",
            "INFO:pytorch_lightning.callbacks.model_summary:\n",
            "  | Name          | Type          | Params | Mode \n",
            "--------------------------------------------------------\n",
            "0 | loss          | MAE           | 0      | train\n",
            "1 | padder_train  | ConstantPad1d | 0      | train\n",
            "2 | scaler        | TemporalNorm  | 0      | train\n",
            "3 | decomp        | SeriesDecomp  | 0      | train\n",
            "4 | enc_embedding | DataEmbedding | 384    | train\n",
            "5 | dec_embedding | DataEmbedding | 384    | train\n",
            "6 | encoder       | Encoder       | 251 K  | train\n",
            "7 | decoder       | Decoder       | 403 K  | train\n",
            "--------------------------------------------------------\n",
            "655 K     Trainable params\n",
            "0         Non-trainable params\n",
            "655 K     Total params\n",
            "2.620     Total estimated model params size (MB)\n"
          ]
        },
        {
          "output_type": "display_data",
          "data": {
            "text/plain": [
              "Sanity Checking: |          | 0/? [00:00<?, ?it/s]"
            ],
            "application/vnd.jupyter.widget-view+json": {
              "version_major": 2,
              "version_minor": 0,
              "model_id": "b1af7f3df3934a90888f7c962bcd5e1e"
            }
          },
          "metadata": {}
        },
        {
          "output_type": "display_data",
          "data": {
            "text/plain": [
              "Training: |          | 0/? [00:00<?, ?it/s]"
            ],
            "application/vnd.jupyter.widget-view+json": {
              "version_major": 2,
              "version_minor": 0,
              "model_id": "37d4596254804e1fa602468fe23e3f21"
            }
          },
          "metadata": {}
        },
        {
          "output_type": "display_data",
          "data": {
            "text/plain": [
              "Validation: |          | 0/? [00:00<?, ?it/s]"
            ],
            "application/vnd.jupyter.widget-view+json": {
              "version_major": 2,
              "version_minor": 0,
              "model_id": "61e68cc215d444e495c733c30abdad32"
            }
          },
          "metadata": {}
        },
        {
          "output_type": "stream",
          "name": "stderr",
          "text": [
            "INFO:pytorch_lightning.utilities.rank_zero:`Trainer.fit` stopped: `max_steps=100` reached.\n"
          ]
        }
      ]
    },
    {
      "cell_type": "markdown",
      "source": [
        "# **PREDICTION**\n"
      ],
      "metadata": {
        "id": "87ZN80SQ5Nyl"
      }
    },
    {
      "cell_type": "code",
      "source": [
        "forecasts = nf.predict()"
      ],
      "metadata": {
        "colab": {
          "base_uri": "https://localhost:8080/",
          "height": 173,
          "referenced_widgets": [
            "6e6c46996b9d46a8bd95660b4a440d25",
            "7bb9bfe29d5940c28dda369d60b53997",
            "d441e5d595d54d16b9b46370cadc3da5",
            "b8e4405a49cb416094db5169b1f851a2",
            "28e1b318f364453eb02d29543efd8237",
            "f7d32c83fbf641d8ad5e76d4eae6be17",
            "1b3fe3194a3c4824bee719a7e5a9e5e3",
            "0e8fb77c341a41a78f3c93b21cf20888",
            "5ff792eac1f14e51a0a35b3b046e2f57",
            "aa49f419e7f7498e9d5ca425df1bb7d0",
            "696def2a31194fe4aa24e17a5ed42916"
          ]
        },
        "id": "eMBwUZMyZQ2V",
        "outputId": "8c94b8f8-c71f-4c79-964d-f799096e8ded"
      },
      "execution_count": null,
      "outputs": [
        {
          "output_type": "stream",
          "name": "stderr",
          "text": [
            "INFO:pytorch_lightning.utilities.rank_zero:GPU available: True (cuda), used: True\n",
            "INFO:pytorch_lightning.utilities.rank_zero:TPU available: False, using: 0 TPU cores\n",
            "INFO:pytorch_lightning.utilities.rank_zero:HPU available: False, using: 0 HPUs\n",
            "INFO:pytorch_lightning.accelerators.cuda:LOCAL_RANK: 0 - CUDA_VISIBLE_DEVICES: [0]\n"
          ]
        },
        {
          "output_type": "display_data",
          "data": {
            "text/plain": [
              "Predicting: |          | 0/? [00:00<?, ?it/s]"
            ],
            "application/vnd.jupyter.widget-view+json": {
              "version_major": 2,
              "version_minor": 0,
              "model_id": "6e6c46996b9d46a8bd95660b4a440d25"
            }
          },
          "metadata": {}
        },
        {
          "output_type": "stream",
          "name": "stderr",
          "text": [
            "/usr/local/lib/python3.10/dist-packages/neuralforecast/core.py:196: FutureWarning: In a future version the predictions will have the id as a column. You can set the `NIXTLA_ID_AS_COL` environment variable to adopt the new behavior and to suppress this warning.\n",
            "  warnings.warn(\n"
          ]
        }
      ]
    },
    {
      "cell_type": "code",
      "source": [
        "# Reset Index\n",
        "train = train_data['y']\n",
        "test = test_data['y']\n",
        "\n",
        "train.reset_index(drop=True, inplace=True)\n",
        "test.reset_index(drop=True, inplace=True)\n",
        "\n",
        "predict = forecasts['FEDformer']\n",
        "predict.reset_index(drop=True, inplace=True)"
      ],
      "metadata": {
        "id": "x0FrFileAohg"
      },
      "execution_count": null,
      "outputs": []
    },
    {
      "cell_type": "code",
      "source": [
        "predict_test = predict[0:test_len]\n",
        "predict_future = predict[test_len:]"
      ],
      "metadata": {
        "id": "pTdUcg-LA8uY"
      },
      "execution_count": null,
      "outputs": []
    },
    {
      "cell_type": "code",
      "source": [
        "# Order predict_future\n",
        "predict_future_30 = predict_future[:30]\n",
        "predict_future_60 = predict_future[30:60]\n",
        "predict_future_90 = predict_future[60:]"
      ],
      "metadata": {
        "id": "xpr-UR7NDPwZ"
      },
      "execution_count": null,
      "outputs": []
    },
    {
      "cell_type": "code",
      "source": [
        "# Print Predicted Data\n",
        "print(\"\\nPredicted Data for the next 30 days:\")\n",
        "print(predict_future_30)\n",
        "\n",
        "print(\"\\nPredicted Data for the next 60 days:\")\n",
        "print(predict_future_60)\n",
        "\n",
        "print(\"\\nPredicted Data for the next 90 days:\")\n",
        "print(predict_future_90)"
      ],
      "metadata": {
        "id": "HHCSgTpeCalw",
        "colab": {
          "base_uri": "https://localhost:8080/"
        },
        "outputId": "3cc7ef7b-6a32-4d40-aa28-9d4865f54cb7"
      },
      "execution_count": null,
      "outputs": [
        {
          "output_type": "stream",
          "name": "stdout",
          "text": [
            "\n",
            "Predicted Data for the next 30 days:\n",
            "469    27489.523438\n",
            "470    29521.125000\n",
            "471    27468.103516\n",
            "472    30018.320312\n",
            "473    28480.898438\n",
            "474    27471.916016\n",
            "475    29330.328125\n",
            "476    26581.152344\n",
            "477    28230.218750\n",
            "478    27373.250000\n",
            "479    27874.523438\n",
            "480    28974.425781\n",
            "481    26516.279297\n",
            "482    28271.816406\n",
            "483    26837.281250\n",
            "484    29067.359375\n",
            "485    29163.105469\n",
            "486    29837.595703\n",
            "487    26955.029297\n",
            "488    27320.332031\n",
            "489    29307.902344\n",
            "490    26920.777344\n",
            "491    28375.333984\n",
            "492    27718.179688\n",
            "493    27995.195312\n",
            "494    28377.195312\n",
            "495    26225.421875\n",
            "496    27609.839844\n",
            "497    26290.437500\n",
            "498    27555.363281\n",
            "Name: FEDformer, dtype: float32\n",
            "\n",
            "Predicted Data for the next 60 days:\n",
            "499    28676.125000\n",
            "500    26346.251953\n",
            "501    27550.320312\n",
            "502    26895.386719\n",
            "503    27424.529297\n",
            "504    28606.750000\n",
            "505    26463.130859\n",
            "506    26641.015625\n",
            "507    26794.501953\n",
            "508    27669.382812\n",
            "509    26836.513672\n",
            "510    28383.589844\n",
            "511    27035.626953\n",
            "512    27688.314453\n",
            "513    28022.908203\n",
            "514    26658.390625\n",
            "515    28634.609375\n",
            "516    26535.921875\n",
            "517    27840.945312\n",
            "518    27965.484375\n",
            "519    25424.798828\n",
            "520    27465.332031\n",
            "521    26754.308594\n",
            "522    27215.341797\n",
            "523    27160.878906\n",
            "524    26317.839844\n",
            "525    26856.765625\n",
            "526    27038.253906\n",
            "527    26098.072266\n",
            "528    27599.900391\n",
            "Name: FEDformer, dtype: float32\n",
            "\n",
            "Predicted Data for the next 90 days:\n",
            "529    27571.351562\n",
            "530    25910.582031\n",
            "531    27414.154297\n",
            "532    27856.455078\n",
            "533    26528.437500\n",
            "534    27319.281250\n",
            "535    26562.791016\n",
            "536    26902.292969\n",
            "537    27877.162109\n",
            "538    24895.644531\n",
            "539    26943.093750\n",
            "540    25643.691406\n",
            "541    26427.978516\n",
            "542    26372.576172\n",
            "543    25872.289062\n",
            "544    27141.867188\n",
            "545    25952.320312\n",
            "546    27855.058594\n",
            "547    26893.556641\n",
            "548    28217.027344\n",
            "549    26341.589844\n",
            "550    27203.328125\n",
            "551    27738.015625\n",
            "552    28122.300781\n",
            "553    27443.482422\n",
            "554    27563.078125\n",
            "555    27810.753906\n",
            "556    27927.769531\n",
            "557    26681.945312\n",
            "558    24460.519531\n",
            "Name: FEDformer, dtype: float32\n"
          ]
        }
      ]
    },
    {
      "cell_type": "markdown",
      "source": [
        "# **EVALUATION**"
      ],
      "metadata": {
        "id": "iJa5b5uD1YGX"
      }
    },
    {
      "cell_type": "code",
      "source": [
        "mae = mean_absolute_error(test, predict_test)\n",
        "mape = mean_absolute_percentage_error(test, predict_test)\n",
        "mse = mean_squared_error(test, predict_test)\n",
        "rmse = np.sqrt(mean_squared_error(test, predict_test))\n",
        "\n",
        "print(\"Mean Absolute Error (MAE):\", mae)\n",
        "print(\"Mean Absolute Percentage Error (MAPE):\", mape)\n",
        "print(\"Mean Square Error (MSE):\", mse)\n",
        "print(\"Root Mean Square Error (RMSE):\", rmse)"
      ],
      "metadata": {
        "id": "AmOhGtB_BRxR",
        "colab": {
          "base_uri": "https://localhost:8080/"
        },
        "outputId": "405c8bdf-f9c7-462d-c5b0-526c258219dc"
      },
      "execution_count": null,
      "outputs": [
        {
          "output_type": "stream",
          "name": "stdout",
          "text": [
            "Mean Absolute Error (MAE): 11449.237687122424\n",
            "Mean Absolute Percentage Error (MAPE): 0.7749970854430546\n",
            "Mean Square Error (MSE): 138562224.45467034\n",
            "Root Mean Square Error (RMSE): 11771.245662828991\n"
          ]
        }
      ]
    },
    {
      "cell_type": "markdown",
      "source": [
        "# **VISUALIZATION**"
      ],
      "metadata": {
        "id": "qwEYRmg95sz5"
      }
    },
    {
      "cell_type": "code",
      "source": [
        "# prompt: adding first_value to the last of test\n",
        "first_value = predict_test.iloc[0]\n",
        "train_draw = pd.concat([train, pd.Series([first_value])], ignore_index=True)"
      ],
      "metadata": {
        "id": "x8uSzmsCHIkU"
      },
      "execution_count": null,
      "outputs": []
    },
    {
      "cell_type": "markdown",
      "source": [
        "**Overall Visualization**"
      ],
      "metadata": {
        "id": "CHVl7gCUHuvM"
      }
    },
    {
      "cell_type": "code",
      "source": [
        "plt.figure(figsize=(16, 9))\n",
        "\n",
        "train_data_index = pd.RangeIndex(start=0, stop=train_len+1, step=1)\n",
        "plt.plot(train_draw)\n",
        "test_data_index = pd.RangeIndex(start=train_len+1, stop=train_len+test_len+1, step=1)\n",
        "plt.plot(test_data_index, test)\n",
        "\n",
        "predict_test_index = pd.RangeIndex(start=train_len+1, stop=train_len+test_len+1, step=1)\n",
        "plt.plot(predict_test_index,(predict_test))\n",
        "\n",
        "predict_future_30_index = pd.RangeIndex(start=train_len+test_len+1, stop=train_len+test_len+31, step=1)\n",
        "plt.plot(predict_future_30_index, predict_future_30)\n",
        "predict_future_60_index = pd.RangeIndex(start=train_len+test_len+31, stop=train_len+test_len+61, step=1)\n",
        "plt.plot(predict_future_60_index, predict_future_60)\n",
        "predict_future_90_index = pd.RangeIndex(start=train_len+test_len+61, stop=train_len+test_len+91, step=1)\n",
        "plt.plot(predict_future_90_index, predict_future_90)\n",
        "\n",
        "plt.legend(['Train', 'Test', 'Predict Test', 'Predict next 30 days', 'Predict next 60 days', 'Predict next 90 days'])\n",
        "plt.xlabel('Time')\n",
        "plt.ylabel('Values')\n",
        "plt.title('Train, Test, and Predictions')\n",
        "plt.show()"
      ],
      "metadata": {
        "id": "7Z-OnsOvHapD",
        "colab": {
          "base_uri": "https://localhost:8080/",
          "height": 666
        },
        "outputId": "1352e46f-79ba-45af-d1be-e435d32995c0"
      },
      "execution_count": null,
      "outputs": [
        {
          "output_type": "display_data",
          "data": {
            "text/plain": [
              "<Figure size 1600x900 with 1 Axes>"
            ],
            "image/png": "[encoded data removed]"
          },
          "metadata": {}
        }
      ]
    },
    {
      "cell_type": "markdown",
      "source": [
        "# **---------------------------------------**"
      ],
      "metadata": {
        "id": "3DFjogTo5o4W"
      }
    },
    {
      "cell_type": "markdown",
      "source": [
        "# **POLYNOMINAL SMOOTHING**"
      ],
      "metadata": {
        "id": "WrzaxB4p5XxJ"
      }
    },
    {
      "cell_type": "code",
      "source": [
        "predict_smoothed = savgol_filter(predict, window_length=31, polyorder=3)"
      ],
      "metadata": {
        "id": "deZeHHPbB28s"
      },
      "execution_count": null,
      "outputs": []
    },
    {
      "cell_type": "markdown",
      "source": [
        "# **RE - PREDICTION**\n"
      ],
      "metadata": {
        "id": "RfIm8SRH5WCd"
      }
    },
    {
      "cell_type": "code",
      "source": [
        "predict_test = predict_smoothed[0:test_len]\n",
        "predict_future = predict_smoothed[test_len:]"
      ],
      "metadata": {
        "id": "87F8WlicB7qo"
      },
      "execution_count": null,
      "outputs": []
    },
    {
      "cell_type": "code",
      "source": [
        "# Order predict_future\n",
        "predict_future_30 = predict_future[:30]\n",
        "predict_future_60 = predict_future[30:60]\n",
        "predict_future_90 = predict_future[60:]"
      ],
      "metadata": {
        "id": "UD0oRSytJXRk"
      },
      "execution_count": null,
      "outputs": []
    },
    {
      "cell_type": "code",
      "source": [
        "# Print Predicted Data\n",
        "print(\"\\nPredicted Data for the next 30 days:\")\n",
        "print(predict_future_30)\n",
        "\n",
        "print(\"\\nPredicted Data for the next 60 days:\")\n",
        "print(predict_future_60)\n",
        "\n",
        "print(\"\\nPredicted Data for the next 90 days:\")\n",
        "print(predict_future_90)"
      ],
      "metadata": {
        "id": "u5NUUdzdJf_v",
        "colab": {
          "base_uri": "https://localhost:8080/"
        },
        "outputId": "bbf1f7e0-1911-4d7f-d2c5-d0a74ddf1274"
      },
      "execution_count": null,
      "outputs": [
        {
          "output_type": "stream",
          "name": "stdout",
          "text": [
            "\n",
            "Predicted Data for the next 30 days:\n",
            "[28058.611 27970.182 27985.871 28133.512 28178.504 28148.857 28159.818\n",
            " 28192.54  28284.768 28192.877 28143.125 28169.607 28131.08  28169.725\n",
            " 28173.477 28028.898 28000.182 28004.684 27939.719 27975.947 27905.557\n",
            " 27889.371 27946.355 27850.762 27781.58  27706.887 27580.078 27585.564\n",
            " 27437.432 27358.299]\n",
            "\n",
            "Predicted Data for the next 60 days:\n",
            "[27269.963 27199.469 27259.402 27314.117 27243.332 27296.469 27345.295\n",
            " 27319.602 27340.814 27341.498 27396.434 27447.662 27382.094 27414.68\n",
            " 27300.266 27249.828 27341.562 27244.133 27187.559 27164.557 27124.598\n",
            " 27189.055 27132.996 27033.312 27067.871 27028.723 27002.932 27007.752\n",
            " 26951.938 26945.93 ]\n",
            "\n",
            "Predicted Data for the next 90 days:\n",
            "[26903.24  26854.479 26822.889 26756.48  26706.209 26777.256 26680.25\n",
            " 26660.39  26607.85  26626.258 26649.945 26629.537 26637.95  26720.059\n",
            " 26835.965 26949.824 27061.645 27166.865 27260.914 27339.23  27397.246\n",
            " 27430.396 27434.115 27403.836 27334.994 27223.023 27063.357 26851.432\n",
            " 26582.68  26252.535]\n"
          ]
        }
      ]
    },
    {
      "cell_type": "markdown",
      "source": [
        "# **RE - EVALUATION**"
      ],
      "metadata": {
        "id": "aBaWpHeV5KQ9"
      }
    },
    {
      "cell_type": "code",
      "source": [
        "mae = mean_absolute_error(test, predict_test)\n",
        "mape = mean_absolute_percentage_error(test, predict_test)\n",
        "mse = mean_squared_error(test, predict_test)\n",
        "rmse = np.sqrt(mean_squared_error(test, predict_test))\n",
        "\n",
        "print(\"Mean Absolute Error (MAE):\", mae)\n",
        "print(\"Mean Absolute Percentage Error (MAPE):\", mape)\n",
        "print(\"Mean Square Error (MSE):\", mse)\n",
        "print(\"Root Mean Square Error (RMSE):\", rmse)"
      ],
      "metadata": {
        "id": "oN_vK83uCFgN",
        "colab": {
          "base_uri": "https://localhost:8080/"
        },
        "outputId": "fd5a5858-3db1-482d-a3cf-94debdf762db"
      },
      "execution_count": null,
      "outputs": [
        {
          "output_type": "stream",
          "name": "stdout",
          "text": [
            "Mean Absolute Error (MAE): 11452.203276308192\n",
            "Mean Absolute Percentage Error (MAPE): 0.7752221235388663\n",
            "Mean Square Error (MSE): 137647688.71154433\n",
            "Root Mean Square Error (RMSE): 11732.335177258803\n"
          ]
        }
      ]
    },
    {
      "cell_type": "markdown",
      "source": [
        "# **RE - VISUALIZATION**"
      ],
      "metadata": {
        "id": "pwk_eOsf8PaI"
      }
    },
    {
      "cell_type": "code",
      "execution_count": null,
      "metadata": {
        "id": "o7_qbVh74aBp"
      },
      "outputs": [],
      "source": [
        "# Assuming predict_test is a NumPy array\n",
        "first_value = pd.Series(predict_test.reshape(-1))  # Convert to pandas Series\n",
        "\n",
        "# Concatenate train and first_value as Series in a new DataFrame\n",
        "train_draw = pd.concat([train, first_value], ignore_index=True)"
      ]
    },
    {
      "cell_type": "markdown",
      "source": [
        "**Overall Visualization**"
      ],
      "metadata": {
        "id": "kK18UP7AJyXX"
      }
    },
    {
      "cell_type": "code",
      "source": [
        "plt.figure(figsize=(16, 9))\n",
        "\n",
        "train_data_index = pd.RangeIndex(start=0, stop=train_len+1, step=1)\n",
        "plt.plot(train_draw)\n",
        "test_data_index = pd.RangeIndex(start=train_len+1, stop=train_len+test_len+1, step=1)\n",
        "plt.plot(test_data_index, test)\n",
        "\n",
        "predict_test_index = pd.RangeIndex(start=train_len+1, stop=train_len+test_len+1, step=1)\n",
        "plt.plot(predict_test_index,(predict_test))\n",
        "\n",
        "predict_future_30_index = pd.RangeIndex(start=train_len+test_len+1, stop=train_len+test_len+31, step=1)\n",
        "plt.plot(predict_future_30_index, predict_future_30)\n",
        "predict_future_60_index = pd.RangeIndex(start=train_len+test_len+31, stop=train_len+test_len+61, step=1)\n",
        "plt.plot(predict_future_60_index, predict_future_60)\n",
        "predict_future_90_index = pd.RangeIndex(start=train_len+test_len+61, stop=train_len+test_len+91, step=1)\n",
        "plt.plot(predict_future_90_index, predict_future_90)\n",
        "\n",
        "plt.legend(['Train', 'Test', 'Predict Test', 'Predict next 30 days', 'Predict next 60 days', 'Predict next 90 days'])\n",
        "plt.xlabel('Time')\n",
        "plt.ylabel('Values')\n",
        "plt.title('8:2 ratio NVL Stock Price Train, Test, and Predictions')\n",
        "plt.show()"
      ],
      "metadata": {
        "id": "C6nV7V2gJmKH",
        "colab": {
          "base_uri": "https://localhost:8080/",
          "height": 666
        },
        "outputId": "f2a3546a-7ffc-4cc3-a7da-df27e4c16c01"
      },
      "execution_count": null,
      "outputs": [
        {
          "output_type": "display_data",
          "data": {
            "text/plain": [
              "<Figure size 1600x900 with 1 Axes>"
            ],
            "image/png": "[encoded data removed]"
          },
          "metadata": {}
        }
      ]
    }
  ]
}