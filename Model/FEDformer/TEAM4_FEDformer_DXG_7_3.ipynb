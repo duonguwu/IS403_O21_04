{
  "nbformat": 4,
  "nbformat_minor": 0,
  "metadata": {
    "colab": {
      "provenance": [],
      "gpuType": "T4"
    },
    "kernelspec": {
      "name": "python3",
      "display_name": "Python 3"
    },
    "language_info": {
      "name": "python"
    },
    "accelerator": "GPU",
    "widgets": {
      "application/vnd.jupyter.widget-state+json": {
        "346b79492eb94fa38324224e3fdd6f0c": {
          "model_module": "@jupyter-widgets/controls",
          "model_name": "HBoxModel",
          "model_module_version": "1.5.0",
          "state": {
            "_dom_classes": [],
            "_model_module": "@jupyter-widgets/controls",
            "_model_module_version": "1.5.0",
            "_model_name": "HBoxModel",
            "_view_count": null,
            "_view_module": "@jupyter-widgets/controls",
            "_view_module_version": "1.5.0",
            "_view_name": "HBoxView",
            "box_style": "",
            "children": [
              "IPY_MODEL_536d0f7d0cc741b180e1dae9f6a1fbbf",
              "IPY_MODEL_8f3feacab7814f4b91fe6f5ff51ddbd5",
              "IPY_MODEL_0e47d2b172f64d40b47f403331bec69a"
            ],
            "layout": "IPY_MODEL_8cab273daa6046578ecdce3e5e5b412c"
          }
        },
        "536d0f7d0cc741b180e1dae9f6a1fbbf": {
          "model_module": "@jupyter-widgets/controls",
          "model_name": "HTMLModel",
          "model_module_version": "1.5.0",
          "state": {
            "_dom_classes": [],
            "_model_module": "@jupyter-widgets/controls",
            "_model_module_version": "1.5.0",
            "_model_name": "HTMLModel",
            "_view_count": null,
            "_view_module": "@jupyter-widgets/controls",
            "_view_module_version": "1.5.0",
            "_view_name": "HTMLView",
            "description": "",
            "description_tooltip": null,
            "layout": "IPY_MODEL_ced8daed707a4d95a4ca9f62b445691e",
            "placeholder": "​",
            "style": "IPY_MODEL_4bf0b32337b14a8191bcd13f0413aa29",
            "value": "Sanity Checking DataLoader 0: 100%"
          }
        },
        "8f3feacab7814f4b91fe6f5ff51ddbd5": {
          "model_module": "@jupyter-widgets/controls",
          "model_name": "FloatProgressModel",
          "model_module_version": "1.5.0",
          "state": {
            "_dom_classes": [],
            "_model_module": "@jupyter-widgets/controls",
            "_model_module_version": "1.5.0",
            "_model_name": "FloatProgressModel",
            "_view_count": null,
            "_view_module": "@jupyter-widgets/controls",
            "_view_module_version": "1.5.0",
            "_view_name": "ProgressView",
            "bar_style": "",
            "description": "",
            "description_tooltip": null,
            "layout": "IPY_MODEL_4b78eb08f67a4339a11576f94ce31581",
            "max": 1,
            "min": 0,
            "orientation": "horizontal",
            "style": "IPY_MODEL_4ab5180ba2364e58becb3804865f4449",
            "value": 1
          }
        },
        "0e47d2b172f64d40b47f403331bec69a": {
          "model_module": "@jupyter-widgets/controls",
          "model_name": "HTMLModel",
          "model_module_version": "1.5.0",
          "state": {
            "_dom_classes": [],
            "_model_module": "@jupyter-widgets/controls",
            "_model_module_version": "1.5.0",
            "_model_name": "HTMLModel",
            "_view_count": null,
            "_view_module": "@jupyter-widgets/controls",
            "_view_module_version": "1.5.0",
            "_view_name": "HTMLView",
            "description": "",
            "description_tooltip": null,
            "layout": "IPY_MODEL_1b822ef54dd94c3e8e021fcf0cec91a3",
            "placeholder": "​",
            "style": "IPY_MODEL_7c8b8f1c37884223befc5ad2ba35495c",
            "value": " 1/1 [00:00&lt;00:00, 240.04it/s]"
          }
        },
        "8cab273daa6046578ecdce3e5e5b412c": {
          "model_module": "@jupyter-widgets/base",
          "model_name": "LayoutModel",
          "model_module_version": "1.2.0",
          "state": {
            "_model_module": "@jupyter-widgets/base",
            "_model_module_version": "1.2.0",
            "_model_name": "LayoutModel",
            "_view_count": null,
            "_view_module": "@jupyter-widgets/base",
            "_view_module_version": "1.2.0",
            "_view_name": "LayoutView",
            "align_content": null,
            "align_items": null,
            "align_self": null,
            "border": null,
            "bottom": null,
            "display": "inline-flex",
            "flex": null,
            "flex_flow": "row wrap",
            "grid_area": null,
            "grid_auto_columns": null,
            "grid_auto_flow": null,
            "grid_auto_rows": null,
            "grid_column": null,
            "grid_gap": null,
            "grid_row": null,
            "grid_template_areas": null,
            "grid_template_columns": null,
            "grid_template_rows": null,
            "height": null,
            "justify_content": null,
            "justify_items": null,
            "left": null,
            "margin": null,
            "max_height": null,
            "max_width": null,
            "min_height": null,
            "min_width": null,
            "object_fit": null,
            "object_position": null,
            "order": null,
            "overflow": null,
            "overflow_x": null,
            "overflow_y": null,
            "padding": null,
            "right": null,
            "top": null,
            "visibility": "hidden",
            "width": "100%"
          }
        },
        "ced8daed707a4d95a4ca9f62b445691e": {
          "model_module": "@jupyter-widgets/base",
          "model_name": "LayoutModel",
          "model_module_version": "1.2.0",
          "state": {
            "_model_module": "@jupyter-widgets/base",
            "_model_module_version": "1.2.0",
            "_model_name": "LayoutModel",
            "_view_count": null,
            "_view_module": "@jupyter-widgets/base",
            "_view_module_version": "1.2.0",
            "_view_name": "LayoutView",
            "align_content": null,
            "align_items": null,
            "align_self": null,
            "border": null,
            "bottom": null,
            "display": null,
            "flex": null,
            "flex_flow": null,
            "grid_area": null,
            "grid_auto_columns": null,
            "grid_auto_flow": null,
            "grid_auto_rows": null,
            "grid_column": null,
            "grid_gap": null,
            "grid_row": null,
            "grid_template_areas": null,
            "grid_template_columns": null,
            "grid_template_rows": null,
            "height": null,
            "justify_content": null,
            "justify_items": null,
            "left": null,
            "margin": null,
            "max_height": null,
            "max_width": null,
            "min_height": null,
            "min_width": null,
            "object_fit": null,
            "object_position": null,
            "order": null,
            "overflow": null,
            "overflow_x": null,
            "overflow_y": null,
            "padding": null,
            "right": null,
            "top": null,
            "visibility": null,
            "width": null
          }
        },
        "4bf0b32337b14a8191bcd13f0413aa29": {
          "model_module": "@jupyter-widgets/controls",
          "model_name": "DescriptionStyleModel",
          "model_module_version": "1.5.0",
          "state": {
            "_model_module": "@jupyter-widgets/controls",
            "_model_module_version": "1.5.0",
            "_model_name": "DescriptionStyleModel",
            "_view_count": null,
            "_view_module": "@jupyter-widgets/base",
            "_view_module_version": "1.2.0",
            "_view_name": "StyleView",
            "description_width": ""
          }
        },
        "4b78eb08f67a4339a11576f94ce31581": {
          "model_module": "@jupyter-widgets/base",
          "model_name": "LayoutModel",
          "model_module_version": "1.2.0",
          "state": {
            "_model_module": "@jupyter-widgets/base",
            "_model_module_version": "1.2.0",
            "_model_name": "LayoutModel",
            "_view_count": null,
            "_view_module": "@jupyter-widgets/base",
            "_view_module_version": "1.2.0",
            "_view_name": "LayoutView",
            "align_content": null,
            "align_items": null,
            "align_self": null,
            "border": null,
            "bottom": null,
            "display": null,
            "flex": "2",
            "flex_flow": null,
            "grid_area": null,
            "grid_auto_columns": null,
            "grid_auto_flow": null,
            "grid_auto_rows": null,
            "grid_column": null,
            "grid_gap": null,
            "grid_row": null,
            "grid_template_areas": null,
            "grid_template_columns": null,
            "grid_template_rows": null,
            "height": null,
            "justify_content": null,
            "justify_items": null,
            "left": null,
            "margin": null,
            "max_height": null,
            "max_width": null,
            "min_height": null,
            "min_width": null,
            "object_fit": null,
            "object_position": null,
            "order": null,
            "overflow": null,
            "overflow_x": null,
            "overflow_y": null,
            "padding": null,
            "right": null,
            "top": null,
            "visibility": null,
            "width": null
          }
        },
        "4ab5180ba2364e58becb3804865f4449": {
          "model_module": "@jupyter-widgets/controls",
          "model_name": "ProgressStyleModel",
          "model_module_version": "1.5.0",
          "state": {
            "_model_module": "@jupyter-widgets/controls",
            "_model_module_version": "1.5.0",
            "_model_name": "ProgressStyleModel",
            "_view_count": null,
            "_view_module": "@jupyter-widgets/base",
            "_view_module_version": "1.2.0",
            "_view_name": "StyleView",
            "bar_color": null,
            "description_width": ""
          }
        },
        "1b822ef54dd94c3e8e021fcf0cec91a3": {
          "model_module": "@jupyter-widgets/base",
          "model_name": "LayoutModel",
          "model_module_version": "1.2.0",
          "state": {
            "_model_module": "@jupyter-widgets/base",
            "_model_module_version": "1.2.0",
            "_model_name": "LayoutModel",
            "_view_count": null,
            "_view_module": "@jupyter-widgets/base",
            "_view_module_version": "1.2.0",
            "_view_name": "LayoutView",
            "align_content": null,
            "align_items": null,
            "align_self": null,
            "border": null,
            "bottom": null,
            "display": null,
            "flex": null,
            "flex_flow": null,
            "grid_area": null,
            "grid_auto_columns": null,
            "grid_auto_flow": null,
            "grid_auto_rows": null,
            "grid_column": null,
            "grid_gap": null,
            "grid_row": null,
            "grid_template_areas": null,
            "grid_template_columns": null,
            "grid_template_rows": null,
            "height": null,
            "justify_content": null,
            "justify_items": null,
            "left": null,
            "margin": null,
            "max_height": null,
            "max_width": null,
            "min_height": null,
            "min_width": null,
            "object_fit": null,
            "object_position": null,
            "order": null,
            "overflow": null,
            "overflow_x": null,
            "overflow_y": null,
            "padding": null,
            "right": null,
            "top": null,
            "visibility": null,
            "width": null
          }
        },
        "7c8b8f1c37884223befc5ad2ba35495c": {
          "model_module": "@jupyter-widgets/controls",
          "model_name": "DescriptionStyleModel",
          "model_module_version": "1.5.0",
          "state": {
            "_model_module": "@jupyter-widgets/controls",
            "_model_module_version": "1.5.0",
            "_model_name": "DescriptionStyleModel",
            "_view_count": null,
            "_view_module": "@jupyter-widgets/base",
            "_view_module_version": "1.2.0",
            "_view_name": "StyleView",
            "description_width": ""
          }
        },
        "6b34ad55fc684e9fa7112f7cce235fb8": {
          "model_module": "@jupyter-widgets/controls",
          "model_name": "HBoxModel",
          "model_module_version": "1.5.0",
          "state": {
            "_dom_classes": [],
            "_model_module": "@jupyter-widgets/controls",
            "_model_module_version": "1.5.0",
            "_model_name": "HBoxModel",
            "_view_count": null,
            "_view_module": "@jupyter-widgets/controls",
            "_view_module_version": "1.5.0",
            "_view_name": "HBoxView",
            "box_style": "",
            "children": [
              "IPY_MODEL_d8b61aee495f41058992886507db711e",
              "IPY_MODEL_a23c7d3315d7441887690a2e13c0528c",
              "IPY_MODEL_67b3325a193d4a359ed0d3d3d46b46ec"
            ],
            "layout": "IPY_MODEL_34c5f64e20bb4c27bbb6f4edba7312b0"
          }
        },
        "d8b61aee495f41058992886507db711e": {
          "model_module": "@jupyter-widgets/controls",
          "model_name": "HTMLModel",
          "model_module_version": "1.5.0",
          "state": {
            "_dom_classes": [],
            "_model_module": "@jupyter-widgets/controls",
            "_model_module_version": "1.5.0",
            "_model_name": "HTMLModel",
            "_view_count": null,
            "_view_module": "@jupyter-widgets/controls",
            "_view_module_version": "1.5.0",
            "_view_name": "HTMLView",
            "description": "",
            "description_tooltip": null,
            "layout": "IPY_MODEL_c8b32e9630484229b2aa421a4553c214",
            "placeholder": "​",
            "style": "IPY_MODEL_1930c05c41df4922bfdc7ba471fe9001",
            "value": "Epoch 99: 100%"
          }
        },
        "a23c7d3315d7441887690a2e13c0528c": {
          "model_module": "@jupyter-widgets/controls",
          "model_name": "FloatProgressModel",
          "model_module_version": "1.5.0",
          "state": {
            "_dom_classes": [],
            "_model_module": "@jupyter-widgets/controls",
            "_model_module_version": "1.5.0",
            "_model_name": "FloatProgressModel",
            "_view_count": null,
            "_view_module": "@jupyter-widgets/controls",
            "_view_module_version": "1.5.0",
            "_view_name": "ProgressView",
            "bar_style": "success",
            "description": "",
            "description_tooltip": null,
            "layout": "IPY_MODEL_159f73720d09491ca955de790aca167b",
            "max": 1,
            "min": 0,
            "orientation": "horizontal",
            "style": "IPY_MODEL_fcba516adf574f788c6c714d2cfa0e9e",
            "value": 1
          }
        },
        "67b3325a193d4a359ed0d3d3d46b46ec": {
          "model_module": "@jupyter-widgets/controls",
          "model_name": "HTMLModel",
          "model_module_version": "1.5.0",
          "state": {
            "_dom_classes": [],
            "_model_module": "@jupyter-widgets/controls",
            "_model_module_version": "1.5.0",
            "_model_name": "HTMLModel",
            "_view_count": null,
            "_view_module": "@jupyter-widgets/controls",
            "_view_module_version": "1.5.0",
            "_view_name": "HTMLView",
            "description": "",
            "description_tooltip": null,
            "layout": "IPY_MODEL_f3a4a9e34b3641feb2c2d7007a237bf3",
            "placeholder": "​",
            "style": "IPY_MODEL_042f21cebbaa4e948236ec51a9e450ca",
            "value": " 1/1 [00:01&lt;00:00,  0.56it/s, v_num=6, train_loss_step=6.200, train_loss_epoch=6.200]"
          }
        },
        "34c5f64e20bb4c27bbb6f4edba7312b0": {
          "model_module": "@jupyter-widgets/base",
          "model_name": "LayoutModel",
          "model_module_version": "1.2.0",
          "state": {
            "_model_module": "@jupyter-widgets/base",
            "_model_module_version": "1.2.0",
            "_model_name": "LayoutModel",
            "_view_count": null,
            "_view_module": "@jupyter-widgets/base",
            "_view_module_version": "1.2.0",
            "_view_name": "LayoutView",
            "align_content": null,
            "align_items": null,
            "align_self": null,
            "border": null,
            "bottom": null,
            "display": "inline-flex",
            "flex": null,
            "flex_flow": "row wrap",
            "grid_area": null,
            "grid_auto_columns": null,
            "grid_auto_flow": null,
            "grid_auto_rows": null,
            "grid_column": null,
            "grid_gap": null,
            "grid_row": null,
            "grid_template_areas": null,
            "grid_template_columns": null,
            "grid_template_rows": null,
            "height": null,
            "justify_content": null,
            "justify_items": null,
            "left": null,
            "margin": null,
            "max_height": null,
            "max_width": null,
            "min_height": null,
            "min_width": null,
            "object_fit": null,
            "object_position": null,
            "order": null,
            "overflow": null,
            "overflow_x": null,
            "overflow_y": null,
            "padding": null,
            "right": null,
            "top": null,
            "visibility": null,
            "width": "100%"
          }
        },
        "c8b32e9630484229b2aa421a4553c214": {
          "model_module": "@jupyter-widgets/base",
          "model_name": "LayoutModel",
          "model_module_version": "1.2.0",
          "state": {
            "_model_module": "@jupyter-widgets/base",
            "_model_module_version": "1.2.0",
            "_model_name": "LayoutModel",
            "_view_count": null,
            "_view_module": "@jupyter-widgets/base",
            "_view_module_version": "1.2.0",
            "_view_name": "LayoutView",
            "align_content": null,
            "align_items": null,
            "align_self": null,
            "border": null,
            "bottom": null,
            "display": null,
            "flex": null,
            "flex_flow": null,
            "grid_area": null,
            "grid_auto_columns": null,
            "grid_auto_flow": null,
            "grid_auto_rows": null,
            "grid_column": null,
            "grid_gap": null,
            "grid_row": null,
            "grid_template_areas": null,
            "grid_template_columns": null,
            "grid_template_rows": null,
            "height": null,
            "justify_content": null,
            "justify_items": null,
            "left": null,
            "margin": null,
            "max_height": null,
            "max_width": null,
            "min_height": null,
            "min_width": null,
            "object_fit": null,
            "object_position": null,
            "order": null,
            "overflow": null,
            "overflow_x": null,
            "overflow_y": null,
            "padding": null,
            "right": null,
            "top": null,
            "visibility": null,
            "width": null
          }
        },
        "1930c05c41df4922bfdc7ba471fe9001": {
          "model_module": "@jupyter-widgets/controls",
          "model_name": "DescriptionStyleModel",
          "model_module_version": "1.5.0",
          "state": {
            "_model_module": "@jupyter-widgets/controls",
            "_model_module_version": "1.5.0",
            "_model_name": "DescriptionStyleModel",
            "_view_count": null,
            "_view_module": "@jupyter-widgets/base",
            "_view_module_version": "1.2.0",
            "_view_name": "StyleView",
            "description_width": ""
          }
        },
        "159f73720d09491ca955de790aca167b": {
          "model_module": "@jupyter-widgets/base",
          "model_name": "LayoutModel",
          "model_module_version": "1.2.0",
          "state": {
            "_model_module": "@jupyter-widgets/base",
            "_model_module_version": "1.2.0",
            "_model_name": "LayoutModel",
            "_view_count": null,
            "_view_module": "@jupyter-widgets/base",
            "_view_module_version": "1.2.0",
            "_view_name": "LayoutView",
            "align_content": null,
            "align_items": null,
            "align_self": null,
            "border": null,
            "bottom": null,
            "display": null,
            "flex": "2",
            "flex_flow": null,
            "grid_area": null,
            "grid_auto_columns": null,
            "grid_auto_flow": null,
            "grid_auto_rows": null,
            "grid_column": null,
            "grid_gap": null,
            "grid_row": null,
            "grid_template_areas": null,
            "grid_template_columns": null,
            "grid_template_rows": null,
            "height": null,
            "justify_content": null,
            "justify_items": null,
            "left": null,
            "margin": null,
            "max_height": null,
            "max_width": null,
            "min_height": null,
            "min_width": null,
            "object_fit": null,
            "object_position": null,
            "order": null,
            "overflow": null,
            "overflow_x": null,
            "overflow_y": null,
            "padding": null,
            "right": null,
            "top": null,
            "visibility": null,
            "width": null
          }
        },
        "fcba516adf574f788c6c714d2cfa0e9e": {
          "model_module": "@jupyter-widgets/controls",
          "model_name": "ProgressStyleModel",
          "model_module_version": "1.5.0",
          "state": {
            "_model_module": "@jupyter-widgets/controls",
            "_model_module_version": "1.5.0",
            "_model_name": "ProgressStyleModel",
            "_view_count": null,
            "_view_module": "@jupyter-widgets/base",
            "_view_module_version": "1.2.0",
            "_view_name": "StyleView",
            "bar_color": null,
            "description_width": ""
          }
        },
        "f3a4a9e34b3641feb2c2d7007a237bf3": {
          "model_module": "@jupyter-widgets/base",
          "model_name": "LayoutModel",
          "model_module_version": "1.2.0",
          "state": {
            "_model_module": "@jupyter-widgets/base",
            "_model_module_version": "1.2.0",
            "_model_name": "LayoutModel",
            "_view_count": null,
            "_view_module": "@jupyter-widgets/base",
            "_view_module_version": "1.2.0",
            "_view_name": "LayoutView",
            "align_content": null,
            "align_items": null,
            "align_self": null,
            "border": null,
            "bottom": null,
            "display": null,
            "flex": null,
            "flex_flow": null,
            "grid_area": null,
            "grid_auto_columns": null,
            "grid_auto_flow": null,
            "grid_auto_rows": null,
            "grid_column": null,
            "grid_gap": null,
            "grid_row": null,
            "grid_template_areas": null,
            "grid_template_columns": null,
            "grid_template_rows": null,
            "height": null,
            "justify_content": null,
            "justify_items": null,
            "left": null,
            "margin": null,
            "max_height": null,
            "max_width": null,
            "min_height": null,
            "min_width": null,
            "object_fit": null,
            "object_position": null,
            "order": null,
            "overflow": null,
            "overflow_x": null,
            "overflow_y": null,
            "padding": null,
            "right": null,
            "top": null,
            "visibility": null,
            "width": null
          }
        },
        "042f21cebbaa4e948236ec51a9e450ca": {
          "model_module": "@jupyter-widgets/controls",
          "model_name": "DescriptionStyleModel",
          "model_module_version": "1.5.0",
          "state": {
            "_model_module": "@jupyter-widgets/controls",
            "_model_module_version": "1.5.0",
            "_model_name": "DescriptionStyleModel",
            "_view_count": null,
            "_view_module": "@jupyter-widgets/base",
            "_view_module_version": "1.2.0",
            "_view_name": "StyleView",
            "description_width": ""
          }
        },
        "78b6580e4701482fb9ef7fe0b1d62654": {
          "model_module": "@jupyter-widgets/controls",
          "model_name": "HBoxModel",
          "model_module_version": "1.5.0",
          "state": {
            "_dom_classes": [],
            "_model_module": "@jupyter-widgets/controls",
            "_model_module_version": "1.5.0",
            "_model_name": "HBoxModel",
            "_view_count": null,
            "_view_module": "@jupyter-widgets/controls",
            "_view_module_version": "1.5.0",
            "_view_name": "HBoxView",
            "box_style": "",
            "children": [
              "IPY_MODEL_60adfbe7272d44adb48113065c016e20",
              "IPY_MODEL_af10c5eb757f4b28ba01655c2a99fe40",
              "IPY_MODEL_1cf83c6c67ab43a7aa6e525f9d11f283"
            ],
            "layout": "IPY_MODEL_5ca03f8fe7a048e3970eb363d012d1e5"
          }
        },
        "60adfbe7272d44adb48113065c016e20": {
          "model_module": "@jupyter-widgets/controls",
          "model_name": "HTMLModel",
          "model_module_version": "1.5.0",
          "state": {
            "_dom_classes": [],
            "_model_module": "@jupyter-widgets/controls",
            "_model_module_version": "1.5.0",
            "_model_name": "HTMLModel",
            "_view_count": null,
            "_view_module": "@jupyter-widgets/controls",
            "_view_module_version": "1.5.0",
            "_view_name": "HTMLView",
            "description": "",
            "description_tooltip": null,
            "layout": "IPY_MODEL_c6cc780020b2405eaea49c07b29123eb",
            "placeholder": "​",
            "style": "IPY_MODEL_eaf7e5a8a7644bad8f5652a8362fe4fa",
            "value": "Validation DataLoader 0: 100%"
          }
        },
        "af10c5eb757f4b28ba01655c2a99fe40": {
          "model_module": "@jupyter-widgets/controls",
          "model_name": "FloatProgressModel",
          "model_module_version": "1.5.0",
          "state": {
            "_dom_classes": [],
            "_model_module": "@jupyter-widgets/controls",
            "_model_module_version": "1.5.0",
            "_model_name": "FloatProgressModel",
            "_view_count": null,
            "_view_module": "@jupyter-widgets/controls",
            "_view_module_version": "1.5.0",
            "_view_name": "ProgressView",
            "bar_style": "",
            "description": "",
            "description_tooltip": null,
            "layout": "IPY_MODEL_1b5c0801334f44a68eb4cae61dcf0250",
            "max": 1,
            "min": 0,
            "orientation": "horizontal",
            "style": "IPY_MODEL_31c50aae55e8495ea249e6d074887bfb",
            "value": 1
          }
        },
        "1cf83c6c67ab43a7aa6e525f9d11f283": {
          "model_module": "@jupyter-widgets/controls",
          "model_name": "HTMLModel",
          "model_module_version": "1.5.0",
          "state": {
            "_dom_classes": [],
            "_model_module": "@jupyter-widgets/controls",
            "_model_module_version": "1.5.0",
            "_model_name": "HTMLModel",
            "_view_count": null,
            "_view_module": "@jupyter-widgets/controls",
            "_view_module_version": "1.5.0",
            "_view_name": "HTMLView",
            "description": "",
            "description_tooltip": null,
            "layout": "IPY_MODEL_82555542fd3e4393bb68033f5809709a",
            "placeholder": "​",
            "style": "IPY_MODEL_5d138d37642b4e538bfb64da6a5f45de",
            "value": " 1/1 [00:00&lt;00:00, 750.05it/s]"
          }
        },
        "5ca03f8fe7a048e3970eb363d012d1e5": {
          "model_module": "@jupyter-widgets/base",
          "model_name": "LayoutModel",
          "model_module_version": "1.2.0",
          "state": {
            "_model_module": "@jupyter-widgets/base",
            "_model_module_version": "1.2.0",
            "_model_name": "LayoutModel",
            "_view_count": null,
            "_view_module": "@jupyter-widgets/base",
            "_view_module_version": "1.2.0",
            "_view_name": "LayoutView",
            "align_content": null,
            "align_items": null,
            "align_self": null,
            "border": null,
            "bottom": null,
            "display": "inline-flex",
            "flex": null,
            "flex_flow": "row wrap",
            "grid_area": null,
            "grid_auto_columns": null,
            "grid_auto_flow": null,
            "grid_auto_rows": null,
            "grid_column": null,
            "grid_gap": null,
            "grid_row": null,
            "grid_template_areas": null,
            "grid_template_columns": null,
            "grid_template_rows": null,
            "height": null,
            "justify_content": null,
            "justify_items": null,
            "left": null,
            "margin": null,
            "max_height": null,
            "max_width": null,
            "min_height": null,
            "min_width": null,
            "object_fit": null,
            "object_position": null,
            "order": null,
            "overflow": null,
            "overflow_x": null,
            "overflow_y": null,
            "padding": null,
            "right": null,
            "top": null,
            "visibility": "hidden",
            "width": "100%"
          }
        },
        "c6cc780020b2405eaea49c07b29123eb": {
          "model_module": "@jupyter-widgets/base",
          "model_name": "LayoutModel",
          "model_module_version": "1.2.0",
          "state": {
            "_model_module": "@jupyter-widgets/base",
            "_model_module_version": "1.2.0",
            "_model_name": "LayoutModel",
            "_view_count": null,
            "_view_module": "@jupyter-widgets/base",
            "_view_module_version": "1.2.0",
            "_view_name": "LayoutView",
            "align_content": null,
            "align_items": null,
            "align_self": null,
            "border": null,
            "bottom": null,
            "display": null,
            "flex": null,
            "flex_flow": null,
            "grid_area": null,
            "grid_auto_columns": null,
            "grid_auto_flow": null,
            "grid_auto_rows": null,
            "grid_column": null,
            "grid_gap": null,
            "grid_row": null,
            "grid_template_areas": null,
            "grid_template_columns": null,
            "grid_template_rows": null,
            "height": null,
            "justify_content": null,
            "justify_items": null,
            "left": null,
            "margin": null,
            "max_height": null,
            "max_width": null,
            "min_height": null,
            "min_width": null,
            "object_fit": null,
            "object_position": null,
            "order": null,
            "overflow": null,
            "overflow_x": null,
            "overflow_y": null,
            "padding": null,
            "right": null,
            "top": null,
            "visibility": null,
            "width": null
          }
        },
        "eaf7e5a8a7644bad8f5652a8362fe4fa": {
          "model_module": "@jupyter-widgets/controls",
          "model_name": "DescriptionStyleModel",
          "model_module_version": "1.5.0",
          "state": {
            "_model_module": "@jupyter-widgets/controls",
            "_model_module_version": "1.5.0",
            "_model_name": "DescriptionStyleModel",
            "_view_count": null,
            "_view_module": "@jupyter-widgets/base",
            "_view_module_version": "1.2.0",
            "_view_name": "StyleView",
            "description_width": ""
          }
        },
        "1b5c0801334f44a68eb4cae61dcf0250": {
          "model_module": "@jupyter-widgets/base",
          "model_name": "LayoutModel",
          "model_module_version": "1.2.0",
          "state": {
            "_model_module": "@jupyter-widgets/base",
            "_model_module_version": "1.2.0",
            "_model_name": "LayoutModel",
            "_view_count": null,
            "_view_module": "@jupyter-widgets/base",
            "_view_module_version": "1.2.0",
            "_view_name": "LayoutView",
            "align_content": null,
            "align_items": null,
            "align_self": null,
            "border": null,
            "bottom": null,
            "display": null,
            "flex": "2",
            "flex_flow": null,
            "grid_area": null,
            "grid_auto_columns": null,
            "grid_auto_flow": null,
            "grid_auto_rows": null,
            "grid_column": null,
            "grid_gap": null,
            "grid_row": null,
            "grid_template_areas": null,
            "grid_template_columns": null,
            "grid_template_rows": null,
            "height": null,
            "justify_content": null,
            "justify_items": null,
            "left": null,
            "margin": null,
            "max_height": null,
            "max_width": null,
            "min_height": null,
            "min_width": null,
            "object_fit": null,
            "object_position": null,
            "order": null,
            "overflow": null,
            "overflow_x": null,
            "overflow_y": null,
            "padding": null,
            "right": null,
            "top": null,
            "visibility": null,
            "width": null
          }
        },
        "31c50aae55e8495ea249e6d074887bfb": {
          "model_module": "@jupyter-widgets/controls",
          "model_name": "ProgressStyleModel",
          "model_module_version": "1.5.0",
          "state": {
            "_model_module": "@jupyter-widgets/controls",
            "_model_module_version": "1.5.0",
            "_model_name": "ProgressStyleModel",
            "_view_count": null,
            "_view_module": "@jupyter-widgets/base",
            "_view_module_version": "1.2.0",
            "_view_name": "StyleView",
            "bar_color": null,
            "description_width": ""
          }
        },
        "82555542fd3e4393bb68033f5809709a": {
          "model_module": "@jupyter-widgets/base",
          "model_name": "LayoutModel",
          "model_module_version": "1.2.0",
          "state": {
            "_model_module": "@jupyter-widgets/base",
            "_model_module_version": "1.2.0",
            "_model_name": "LayoutModel",
            "_view_count": null,
            "_view_module": "@jupyter-widgets/base",
            "_view_module_version": "1.2.0",
            "_view_name": "LayoutView",
            "align_content": null,
            "align_items": null,
            "align_self": null,
            "border": null,
            "bottom": null,
            "display": null,
            "flex": null,
            "flex_flow": null,
            "grid_area": null,
            "grid_auto_columns": null,
            "grid_auto_flow": null,
            "grid_auto_rows": null,
            "grid_column": null,
            "grid_gap": null,
            "grid_row": null,
            "grid_template_areas": null,
            "grid_template_columns": null,
            "grid_template_rows": null,
            "height": null,
            "justify_content": null,
            "justify_items": null,
            "left": null,
            "margin": null,
            "max_height": null,
            "max_width": null,
            "min_height": null,
            "min_width": null,
            "object_fit": null,
            "object_position": null,
            "order": null,
            "overflow": null,
            "overflow_x": null,
            "overflow_y": null,
            "padding": null,
            "right": null,
            "top": null,
            "visibility": null,
            "width": null
          }
        },
        "5d138d37642b4e538bfb64da6a5f45de": {
          "model_module": "@jupyter-widgets/controls",
          "model_name": "DescriptionStyleModel",
          "model_module_version": "1.5.0",
          "state": {
            "_model_module": "@jupyter-widgets/controls",
            "_model_module_version": "1.5.0",
            "_model_name": "DescriptionStyleModel",
            "_view_count": null,
            "_view_module": "@jupyter-widgets/base",
            "_view_module_version": "1.2.0",
            "_view_name": "StyleView",
            "description_width": ""
          }
        },
        "d2edf6677881450cb3a30dd610ebddc6": {
          "model_module": "@jupyter-widgets/controls",
          "model_name": "HBoxModel",
          "model_module_version": "1.5.0",
          "state": {
            "_dom_classes": [],
            "_model_module": "@jupyter-widgets/controls",
            "_model_module_version": "1.5.0",
            "_model_name": "HBoxModel",
            "_view_count": null,
            "_view_module": "@jupyter-widgets/controls",
            "_view_module_version": "1.5.0",
            "_view_name": "HBoxView",
            "box_style": "",
            "children": [
              "IPY_MODEL_0d8e5ff5622049ec8e9cf6022e7b7242",
              "IPY_MODEL_95d4afdd9c1242de9457f48878d93e40",
              "IPY_MODEL_f06eb648a30d465e8a74687df8aa560f"
            ],
            "layout": "IPY_MODEL_75b92611247b48b18874083d2e66d2f3"
          }
        },
        "0d8e5ff5622049ec8e9cf6022e7b7242": {
          "model_module": "@jupyter-widgets/controls",
          "model_name": "HTMLModel",
          "model_module_version": "1.5.0",
          "state": {
            "_dom_classes": [],
            "_model_module": "@jupyter-widgets/controls",
            "_model_module_version": "1.5.0",
            "_model_name": "HTMLModel",
            "_view_count": null,
            "_view_module": "@jupyter-widgets/controls",
            "_view_module_version": "1.5.0",
            "_view_name": "HTMLView",
            "description": "",
            "description_tooltip": null,
            "layout": "IPY_MODEL_7b338c0fe7f643d6baffcc602d8c34d0",
            "placeholder": "​",
            "style": "IPY_MODEL_abc97f997e3f485886376008dd1a65f6",
            "value": "Predicting DataLoader 0: 100%"
          }
        },
        "95d4afdd9c1242de9457f48878d93e40": {
          "model_module": "@jupyter-widgets/controls",
          "model_name": "FloatProgressModel",
          "model_module_version": "1.5.0",
          "state": {
            "_dom_classes": [],
            "_model_module": "@jupyter-widgets/controls",
            "_model_module_version": "1.5.0",
            "_model_name": "FloatProgressModel",
            "_view_count": null,
            "_view_module": "@jupyter-widgets/controls",
            "_view_module_version": "1.5.0",
            "_view_name": "ProgressView",
            "bar_style": "success",
            "description": "",
            "description_tooltip": null,
            "layout": "IPY_MODEL_d21638d1c9c9400c9386dc9102a20357",
            "max": 1,
            "min": 0,
            "orientation": "horizontal",
            "style": "IPY_MODEL_c8acc8dca8fd434a9753cf635deafb21",
            "value": 1
          }
        },
        "f06eb648a30d465e8a74687df8aa560f": {
          "model_module": "@jupyter-widgets/controls",
          "model_name": "HTMLModel",
          "model_module_version": "1.5.0",
          "state": {
            "_dom_classes": [],
            "_model_module": "@jupyter-widgets/controls",
            "_model_module_version": "1.5.0",
            "_model_name": "HTMLModel",
            "_view_count": null,
            "_view_module": "@jupyter-widgets/controls",
            "_view_module_version": "1.5.0",
            "_view_name": "HTMLView",
            "description": "",
            "description_tooltip": null,
            "layout": "IPY_MODEL_1f22c848236249ab83b481afb1f805b8",
            "placeholder": "​",
            "style": "IPY_MODEL_25cb01eccd7f4048a4bb787a896d426f",
            "value": " 1/1 [00:00&lt;00:00,  6.34it/s]"
          }
        },
        "75b92611247b48b18874083d2e66d2f3": {
          "model_module": "@jupyter-widgets/base",
          "model_name": "LayoutModel",
          "model_module_version": "1.2.0",
          "state": {
            "_model_module": "@jupyter-widgets/base",
            "_model_module_version": "1.2.0",
            "_model_name": "LayoutModel",
            "_view_count": null,
            "_view_module": "@jupyter-widgets/base",
            "_view_module_version": "1.2.0",
            "_view_name": "LayoutView",
            "align_content": null,
            "align_items": null,
            "align_self": null,
            "border": null,
            "bottom": null,
            "display": "inline-flex",
            "flex": null,
            "flex_flow": "row wrap",
            "grid_area": null,
            "grid_auto_columns": null,
            "grid_auto_flow": null,
            "grid_auto_rows": null,
            "grid_column": null,
            "grid_gap": null,
            "grid_row": null,
            "grid_template_areas": null,
            "grid_template_columns": null,
            "grid_template_rows": null,
            "height": null,
            "justify_content": null,
            "justify_items": null,
            "left": null,
            "margin": null,
            "max_height": null,
            "max_width": null,
            "min_height": null,
            "min_width": null,
            "object_fit": null,
            "object_position": null,
            "order": null,
            "overflow": null,
            "overflow_x": null,
            "overflow_y": null,
            "padding": null,
            "right": null,
            "top": null,
            "visibility": null,
            "width": "100%"
          }
        },
        "7b338c0fe7f643d6baffcc602d8c34d0": {
          "model_module": "@jupyter-widgets/base",
          "model_name": "LayoutModel",
          "model_module_version": "1.2.0",
          "state": {
            "_model_module": "@jupyter-widgets/base",
            "_model_module_version": "1.2.0",
            "_model_name": "LayoutModel",
            "_view_count": null,
            "_view_module": "@jupyter-widgets/base",
            "_view_module_version": "1.2.0",
            "_view_name": "LayoutView",
            "align_content": null,
            "align_items": null,
            "align_self": null,
            "border": null,
            "bottom": null,
            "display": null,
            "flex": null,
            "flex_flow": null,
            "grid_area": null,
            "grid_auto_columns": null,
            "grid_auto_flow": null,
            "grid_auto_rows": null,
            "grid_column": null,
            "grid_gap": null,
            "grid_row": null,
            "grid_template_areas": null,
            "grid_template_columns": null,
            "grid_template_rows": null,
            "height": null,
            "justify_content": null,
            "justify_items": null,
            "left": null,
            "margin": null,
            "max_height": null,
            "max_width": null,
            "min_height": null,
            "min_width": null,
            "object_fit": null,
            "object_position": null,
            "order": null,
            "overflow": null,
            "overflow_x": null,
            "overflow_y": null,
            "padding": null,
            "right": null,
            "top": null,
            "visibility": null,
            "width": null
          }
        },
        "abc97f997e3f485886376008dd1a65f6": {
          "model_module": "@jupyter-widgets/controls",
          "model_name": "DescriptionStyleModel",
          "model_module_version": "1.5.0",
          "state": {
            "_model_module": "@jupyter-widgets/controls",
            "_model_module_version": "1.5.0",
            "_model_name": "DescriptionStyleModel",
            "_view_count": null,
            "_view_module": "@jupyter-widgets/base",
            "_view_module_version": "1.2.0",
            "_view_name": "StyleView",
            "description_width": ""
          }
        },
        "d21638d1c9c9400c9386dc9102a20357": {
          "model_module": "@jupyter-widgets/base",
          "model_name": "LayoutModel",
          "model_module_version": "1.2.0",
          "state": {
            "_model_module": "@jupyter-widgets/base",
            "_model_module_version": "1.2.0",
            "_model_name": "LayoutModel",
            "_view_count": null,
            "_view_module": "@jupyter-widgets/base",
            "_view_module_version": "1.2.0",
            "_view_name": "LayoutView",
            "align_content": null,
            "align_items": null,
            "align_self": null,
            "border": null,
            "bottom": null,
            "display": null,
            "flex": "2",
            "flex_flow": null,
            "grid_area": null,
            "grid_auto_columns": null,
            "grid_auto_flow": null,
            "grid_auto_rows": null,
            "grid_column": null,
            "grid_gap": null,
            "grid_row": null,
            "grid_template_areas": null,
            "grid_template_columns": null,
            "grid_template_rows": null,
            "height": null,
            "justify_content": null,
            "justify_items": null,
            "left": null,
            "margin": null,
            "max_height": null,
            "max_width": null,
            "min_height": null,
            "min_width": null,
            "object_fit": null,
            "object_position": null,
            "order": null,
            "overflow": null,
            "overflow_x": null,
            "overflow_y": null,
            "padding": null,
            "right": null,
            "top": null,
            "visibility": null,
            "width": null
          }
        },
        "c8acc8dca8fd434a9753cf635deafb21": {
          "model_module": "@jupyter-widgets/controls",
          "model_name": "ProgressStyleModel",
          "model_module_version": "1.5.0",
          "state": {
            "_model_module": "@jupyter-widgets/controls",
            "_model_module_version": "1.5.0",
            "_model_name": "ProgressStyleModel",
            "_view_count": null,
            "_view_module": "@jupyter-widgets/base",
            "_view_module_version": "1.2.0",
            "_view_name": "StyleView",
            "bar_color": null,
            "description_width": ""
          }
        },
        "1f22c848236249ab83b481afb1f805b8": {
          "model_module": "@jupyter-widgets/base",
          "model_name": "LayoutModel",
          "model_module_version": "1.2.0",
          "state": {
            "_model_module": "@jupyter-widgets/base",
            "_model_module_version": "1.2.0",
            "_model_name": "LayoutModel",
            "_view_count": null,
            "_view_module": "@jupyter-widgets/base",
            "_view_module_version": "1.2.0",
            "_view_name": "LayoutView",
            "align_content": null,
            "align_items": null,
            "align_self": null,
            "border": null,
            "bottom": null,
            "display": null,
            "flex": null,
            "flex_flow": null,
            "grid_area": null,
            "grid_auto_columns": null,
            "grid_auto_flow": null,
            "grid_auto_rows": null,
            "grid_column": null,
            "grid_gap": null,
            "grid_row": null,
            "grid_template_areas": null,
            "grid_template_columns": null,
            "grid_template_rows": null,
            "height": null,
            "justify_content": null,
            "justify_items": null,
            "left": null,
            "margin": null,
            "max_height": null,
            "max_width": null,
            "min_height": null,
            "min_width": null,
            "object_fit": null,
            "object_position": null,
            "order": null,
            "overflow": null,
            "overflow_x": null,
            "overflow_y": null,
            "padding": null,
            "right": null,
            "top": null,
            "visibility": null,
            "width": null
          }
        },
        "25cb01eccd7f4048a4bb787a896d426f": {
          "model_module": "@jupyter-widgets/controls",
          "model_name": "DescriptionStyleModel",
          "model_module_version": "1.5.0",
          "state": {
            "_model_module": "@jupyter-widgets/controls",
            "_model_module_version": "1.5.0",
            "_model_name": "DescriptionStyleModel",
            "_view_count": null,
            "_view_module": "@jupyter-widgets/base",
            "_view_module_version": "1.2.0",
            "_view_name": "StyleView",
            "description_width": ""
          }
        }
      }
    }
  },
  "cells": [
    {
      "cell_type": "code",
      "source": [
        "#!pip install neuralforecast"
      ],
      "metadata": {
        "id": "2t9H-23y6fyK"
      },
      "execution_count": 73,
      "outputs": []
    },
    {
      "cell_type": "markdown",
      "source": [
        "# **LIBRARY PREPARATION**"
      ],
      "metadata": {
        "id": "BGekASjU1fw-"
      }
    },
    {
      "cell_type": "code",
      "source": [
        "import numpy as np\n",
        "import pandas as pd\n",
        "import pytorch_lightning as pl\n",
        "import matplotlib.pyplot as plt\n",
        "\n",
        "from neuralforecast import NeuralForecast\n",
        "from neuralforecast.models import MLP, FEDformer\n",
        "from neuralforecast.losses.pytorch import MQLoss, DistributionLoss, MSE, MAE\n",
        "from neuralforecast.tsdataset import TimeSeriesDataset\n",
        "\n",
        "from datetime import datetime, timedelta\n",
        "from sklearn.metrics import mean_absolute_error, mean_squared_error, mean_absolute_percentage_error\n",
        "\n",
        "from scipy.signal import savgol_filter"
      ],
      "metadata": {
        "id": "Xpt1KrtZ8T35"
      },
      "execution_count": 74,
      "outputs": []
    },
    {
      "cell_type": "markdown",
      "source": [
        "# **DXG DATA PREPARATION**"
      ],
      "metadata": {
        "id": "o8r2NeqR1Zbq"
      }
    },
    {
      "cell_type": "code",
      "source": [
        "# Read Data\n",
        "df = pd.read_csv('DXG Historical Data 1_6 Fed.csv')"
      ],
      "metadata": {
        "id": "nogaQrOf9byt"
      },
      "execution_count": 75,
      "outputs": []
    },
    {
      "cell_type": "code",
      "source": [
        "# Add ID constraint\n",
        "df1 = df\n",
        "df1['unique_id'] = 'DXG'\n",
        "\n",
        "# Reorder columns\n",
        "df1 = df1[['unique_id', 'Date', 'Price']]\n",
        "\n",
        "# Rename\n",
        "df1.rename(columns={'Date': 'ds', 'Price': 'y'}, inplace=True)\n",
        "df1"
      ],
      "metadata": {
        "id": "Jo5stpuL9cM8",
        "colab": {
          "base_uri": "https://localhost:8080/",
          "height": 423
        },
        "outputId": "3cc8c107-b4cf-4ccd-9693-c28c23206f07"
      },
      "execution_count": 76,
      "outputs": [
        {
          "output_type": "execute_result",
          "data": {
            "text/plain": [
              "     unique_id          ds          y\n",
              "0          DXG  2018-01-02  13401.400\n",
              "1          DXG  2018-01-03  13371.100\n",
              "2          DXG  2018-01-04  13522.400\n",
              "3          DXG  2018-01-05  13159.400\n",
              "4          DXG  2018-01-06  13363.575\n",
              "...        ...         ...        ...\n",
              "2338       DXG  2024-05-28  16800.000\n",
              "2339       DXG  2024-05-29  16850.000\n",
              "2340       DXG  2024-05-30  16850.000\n",
              "2341       DXG  2024-05-31  16800.000\n",
              "2342       DXG  2024-06-01  16770.000\n",
              "\n",
              "[2343 rows x 3 columns]"
            ],
            "text/html": [
              "\n",
              "  <div id=\"df-1984fe3d-a115-4052-93d5-ce2d8b670b33\" class=\"colab-df-container\">\n",
              "    <div>\n",
              "<style scoped>\n",
              "    .dataframe tbody tr th:only-of-type {\n",
              "        vertical-align: middle;\n",
              "    }\n",
              "\n",
              "    .dataframe tbody tr th {\n",
              "        vertical-align: top;\n",
              "    }\n",
              "\n",
              "    .dataframe thead th {\n",
              "        text-align: right;\n",
              "    }\n",
              "</style>\n",
              "<table border=\"1\" class=\"dataframe\">\n",
              "  <thead>\n",
              "    <tr style=\"text-align: right;\">\n",
              "      <th></th>\n",
              "      <th>unique_id</th>\n",
              "      <th>ds</th>\n",
              "      <th>y</th>\n",
              "    </tr>\n",
              "  </thead>\n",
              "  <tbody>\n",
              "    <tr>\n",
              "      <th>0</th>\n",
              "      <td>DXG</td>\n",
              "      <td>2018-01-02</td>\n",
              "      <td>13401.400</td>\n",
              "    </tr>\n",
              "    <tr>\n",
              "      <th>1</th>\n",
              "      <td>DXG</td>\n",
              "      <td>2018-01-03</td>\n",
              "      <td>13371.100</td>\n",
              "    </tr>\n",
              "    <tr>\n",
              "      <th>2</th>\n",
              "      <td>DXG</td>\n",
              "      <td>2018-01-04</td>\n",
              "      <td>13522.400</td>\n",
              "    </tr>\n",
              "    <tr>\n",
              "      <th>3</th>\n",
              "      <td>DXG</td>\n",
              "      <td>2018-01-05</td>\n",
              "      <td>13159.400</td>\n",
              "    </tr>\n",
              "    <tr>\n",
              "      <th>4</th>\n",
              "      <td>DXG</td>\n",
              "      <td>2018-01-06</td>\n",
              "      <td>13363.575</td>\n",
              "    </tr>\n",
              "    <tr>\n",
              "      <th>...</th>\n",
              "      <td>...</td>\n",
              "      <td>...</td>\n",
              "      <td>...</td>\n",
              "    </tr>\n",
              "    <tr>\n",
              "      <th>2338</th>\n",
              "      <td>DXG</td>\n",
              "      <td>2024-05-28</td>\n",
              "      <td>16800.000</td>\n",
              "    </tr>\n",
              "    <tr>\n",
              "      <th>2339</th>\n",
              "      <td>DXG</td>\n",
              "      <td>2024-05-29</td>\n",
              "      <td>16850.000</td>\n",
              "    </tr>\n",
              "    <tr>\n",
              "      <th>2340</th>\n",
              "      <td>DXG</td>\n",
              "      <td>2024-05-30</td>\n",
              "      <td>16850.000</td>\n",
              "    </tr>\n",
              "    <tr>\n",
              "      <th>2341</th>\n",
              "      <td>DXG</td>\n",
              "      <td>2024-05-31</td>\n",
              "      <td>16800.000</td>\n",
              "    </tr>\n",
              "    <tr>\n",
              "      <th>2342</th>\n",
              "      <td>DXG</td>\n",
              "      <td>2024-06-01</td>\n",
              "      <td>16770.000</td>\n",
              "    </tr>\n",
              "  </tbody>\n",
              "</table>\n",
              "<p>2343 rows × 3 columns</p>\n",
              "</div>\n",
              "    <div class=\"colab-df-buttons\">\n",
              "\n",
              "  <div class=\"colab-df-container\">\n",
              "    <button class=\"colab-df-convert\" onclick=\"convertToInteractive('df-1984fe3d-a115-4052-93d5-ce2d8b670b33')\"\n",
              "            title=\"Convert this dataframe to an interactive table.\"\n",
              "            style=\"display:none;\">\n",
              "\n",
              "  <svg xmlns=\"http://www.w3.org/2000/svg\" height=\"24px\" viewBox=\"0 -960 960 960\">\n",
              "    <path d=\"M120-120v-720h720v720H120Zm60-500h600v-160H180v160Zm220 220h160v-160H400v160Zm0 220h160v-160H400v160ZM180-400h160v-160H180v160Zm440 0h160v-160H620v160ZM180-180h160v-160H180v160Zm440 0h160v-160H620v160Z\"/>\n",
              "  </svg>\n",
              "    </button>\n",
              "\n",
              "  <style>\n",
              "    .colab-df-container {\n",
              "      display:flex;\n",
              "      gap: 12px;\n",
              "    }\n",
              "\n",
              "    .colab-df-convert {\n",
              "      background-color: #E8F0FE;\n",
              "      border: none;\n",
              "      border-radius: 50%;\n",
              "      cursor: pointer;\n",
              "      display: none;\n",
              "      fill: #1967D2;\n",
              "      height: 32px;\n",
              "      padding: 0 0 0 0;\n",
              "      width: 32px;\n",
              "    }\n",
              "\n",
              "    .colab-df-convert:hover {\n",
              "      background-color: #E2EBFA;\n",
              "      box-shadow: 0px 1px 2px rgba(60, 64, 67, 0.3), 0px 1px 3px 1px rgba(60, 64, 67, 0.15);\n",
              "      fill: #174EA6;\n",
              "    }\n",
              "\n",
              "    .colab-df-buttons div {\n",
              "      margin-bottom: 4px;\n",
              "    }\n",
              "\n",
              "    [theme=dark] .colab-df-convert {\n",
              "      background-color: #3B4455;\n",
              "      fill: #D2E3FC;\n",
              "    }\n",
              "\n",
              "    [theme=dark] .colab-df-convert:hover {\n",
              "      background-color: #434B5C;\n",
              "      box-shadow: 0px 1px 3px 1px rgba(0, 0, 0, 0.15);\n",
              "      filter: drop-shadow(0px 1px 2px rgba(0, 0, 0, 0.3));\n",
              "      fill: #FFFFFF;\n",
              "    }\n",
              "  </style>\n",
              "\n",
              "    <script>\n",
              "      const buttonEl =\n",
              "        document.querySelector('#df-1984fe3d-a115-4052-93d5-ce2d8b670b33 button.colab-df-convert');\n",
              "      buttonEl.style.display =\n",
              "        google.colab.kernel.accessAllowed ? 'block' : 'none';\n",
              "\n",
              "      async function convertToInteractive(key) {\n",
              "        const element = document.querySelector('#df-1984fe3d-a115-4052-93d5-ce2d8b670b33');\n",
              "        const dataTable =\n",
              "          await google.colab.kernel.invokeFunction('convertToInteractive',\n",
              "                                                    [key], {});\n",
              "        if (!dataTable) return;\n",
              "\n",
              "        const docLinkHtml = 'Like what you see? Visit the ' +\n",
              "          '<a target=\"_blank\" href=https://colab.research.google.com/notebooks/data_table.ipynb>data table notebook</a>'\n",
              "          + ' to learn more about interactive tables.';\n",
              "        element.innerHTML = '';\n",
              "        dataTable['output_type'] = 'display_data';\n",
              "        await google.colab.output.renderOutput(dataTable, element);\n",
              "        const docLink = document.createElement('div');\n",
              "        docLink.innerHTML = docLinkHtml;\n",
              "        element.appendChild(docLink);\n",
              "      }\n",
              "    </script>\n",
              "  </div>\n",
              "\n",
              "\n",
              "<div id=\"df-75c9c078-5b13-409b-9479-58e06f080709\">\n",
              "  <button class=\"colab-df-quickchart\" onclick=\"quickchart('df-75c9c078-5b13-409b-9479-58e06f080709')\"\n",
              "            title=\"Suggest charts\"\n",
              "            style=\"display:none;\">\n",
              "\n",
              "<svg xmlns=\"http://www.w3.org/2000/svg\" height=\"24px\"viewBox=\"0 0 24 24\"\n",
              "     width=\"24px\">\n",
              "    <g>\n",
              "        <path d=\"M19 3H5c-1.1 0-2 .9-2 2v14c0 1.1.9 2 2 2h14c1.1 0 2-.9 2-2V5c0-1.1-.9-2-2-2zM9 17H7v-7h2v7zm4 0h-2V7h2v10zm4 0h-2v-4h2v4z\"/>\n",
              "    </g>\n",
              "</svg>\n",
              "  </button>\n",
              "\n",
              "<style>\n",
              "  .colab-df-quickchart {\n",
              "      --bg-color: #E8F0FE;\n",
              "      --fill-color: #1967D2;\n",
              "      --hover-bg-color: #E2EBFA;\n",
              "      --hover-fill-color: #174EA6;\n",
              "      --disabled-fill-color: #AAA;\n",
              "      --disabled-bg-color: #DDD;\n",
              "  }\n",
              "\n",
              "  [theme=dark] .colab-df-quickchart {\n",
              "      --bg-color: #3B4455;\n",
              "      --fill-color: #D2E3FC;\n",
              "      --hover-bg-color: #434B5C;\n",
              "      --hover-fill-color: #FFFFFF;\n",
              "      --disabled-bg-color: #3B4455;\n",
              "      --disabled-fill-color: #666;\n",
              "  }\n",
              "\n",
              "  .colab-df-quickchart {\n",
              "    background-color: var(--bg-color);\n",
              "    border: none;\n",
              "    border-radius: 50%;\n",
              "    cursor: pointer;\n",
              "    display: none;\n",
              "    fill: var(--fill-color);\n",
              "    height: 32px;\n",
              "    padding: 0;\n",
              "    width: 32px;\n",
              "  }\n",
              "\n",
              "  .colab-df-quickchart:hover {\n",
              "    background-color: var(--hover-bg-color);\n",
              "    box-shadow: 0 1px 2px rgba(60, 64, 67, 0.3), 0 1px 3px 1px rgba(60, 64, 67, 0.15);\n",
              "    fill: var(--button-hover-fill-color);\n",
              "  }\n",
              "\n",
              "  .colab-df-quickchart-complete:disabled,\n",
              "  .colab-df-quickchart-complete:disabled:hover {\n",
              "    background-color: var(--disabled-bg-color);\n",
              "    fill: var(--disabled-fill-color);\n",
              "    box-shadow: none;\n",
              "  }\n",
              "\n",
              "  .colab-df-spinner {\n",
              "    border: 2px solid var(--fill-color);\n",
              "    border-color: transparent;\n",
              "    border-bottom-color: var(--fill-color);\n",
              "    animation:\n",
              "      spin 1s steps(1) infinite;\n",
              "  }\n",
              "\n",
              "  @keyframes spin {\n",
              "    0% {\n",
              "      border-color: transparent;\n",
              "      border-bottom-color: var(--fill-color);\n",
              "      border-left-color: var(--fill-color);\n",
              "    }\n",
              "    20% {\n",
              "      border-color: transparent;\n",
              "      border-left-color: var(--fill-color);\n",
              "      border-top-color: var(--fill-color);\n",
              "    }\n",
              "    30% {\n",
              "      border-color: transparent;\n",
              "      border-left-color: var(--fill-color);\n",
              "      border-top-color: var(--fill-color);\n",
              "      border-right-color: var(--fill-color);\n",
              "    }\n",
              "    40% {\n",
              "      border-color: transparent;\n",
              "      border-right-color: var(--fill-color);\n",
              "      border-top-color: var(--fill-color);\n",
              "    }\n",
              "    60% {\n",
              "      border-color: transparent;\n",
              "      border-right-color: var(--fill-color);\n",
              "    }\n",
              "    80% {\n",
              "      border-color: transparent;\n",
              "      border-right-color: var(--fill-color);\n",
              "      border-bottom-color: var(--fill-color);\n",
              "    }\n",
              "    90% {\n",
              "      border-color: transparent;\n",
              "      border-bottom-color: var(--fill-color);\n",
              "    }\n",
              "  }\n",
              "</style>\n",
              "\n",
              "  <script>\n",
              "    async function quickchart(key) {\n",
              "      const quickchartButtonEl =\n",
              "        document.querySelector('#' + key + ' button');\n",
              "      quickchartButtonEl.disabled = true;  // To prevent multiple clicks.\n",
              "      quickchartButtonEl.classList.add('colab-df-spinner');\n",
              "      try {\n",
              "        const charts = await google.colab.kernel.invokeFunction(\n",
              "            'suggestCharts', [key], {});\n",
              "      } catch (error) {\n",
              "        console.error('Error during call to suggestCharts:', error);\n",
              "      }\n",
              "      quickchartButtonEl.classList.remove('colab-df-spinner');\n",
              "      quickchartButtonEl.classList.add('colab-df-quickchart-complete');\n",
              "    }\n",
              "    (() => {\n",
              "      let quickchartButtonEl =\n",
              "        document.querySelector('#df-75c9c078-5b13-409b-9479-58e06f080709 button');\n",
              "      quickchartButtonEl.style.display =\n",
              "        google.colab.kernel.accessAllowed ? 'block' : 'none';\n",
              "    })();\n",
              "  </script>\n",
              "</div>\n",
              "\n",
              "  <div id=\"id_e85f80fc-935d-469f-b72d-c46c411efaa1\">\n",
              "    <style>\n",
              "      .colab-df-generate {\n",
              "        background-color: #E8F0FE;\n",
              "        border: none;\n",
              "        border-radius: 50%;\n",
              "        cursor: pointer;\n",
              "        display: none;\n",
              "        fill: #1967D2;\n",
              "        height: 32px;\n",
              "        padding: 0 0 0 0;\n",
              "        width: 32px;\n",
              "      }\n",
              "\n",
              "      .colab-df-generate:hover {\n",
              "        background-color: #E2EBFA;\n",
              "        box-shadow: 0px 1px 2px rgba(60, 64, 67, 0.3), 0px 1px 3px 1px rgba(60, 64, 67, 0.15);\n",
              "        fill: #174EA6;\n",
              "      }\n",
              "\n",
              "      [theme=dark] .colab-df-generate {\n",
              "        background-color: #3B4455;\n",
              "        fill: #D2E3FC;\n",
              "      }\n",
              "\n",
              "      [theme=dark] .colab-df-generate:hover {\n",
              "        background-color: #434B5C;\n",
              "        box-shadow: 0px 1px 3px 1px rgba(0, 0, 0, 0.15);\n",
              "        filter: drop-shadow(0px 1px 2px rgba(0, 0, 0, 0.3));\n",
              "        fill: #FFFFFF;\n",
              "      }\n",
              "    </style>\n",
              "    <button class=\"colab-df-generate\" onclick=\"generateWithVariable('df1')\"\n",
              "            title=\"Generate code using this dataframe.\"\n",
              "            style=\"display:none;\">\n",
              "\n",
              "  <svg xmlns=\"http://www.w3.org/2000/svg\" height=\"24px\"viewBox=\"0 0 24 24\"\n",
              "       width=\"24px\">\n",
              "    <path d=\"M7,19H8.4L18.45,9,17,7.55,7,17.6ZM5,21V16.75L18.45,3.32a2,2,0,0,1,2.83,0l1.4,1.43a1.91,1.91,0,0,1,.58,1.4,1.91,1.91,0,0,1-.58,1.4L9.25,21ZM18.45,9,17,7.55Zm-12,3A5.31,5.31,0,0,0,4.9,8.1,5.31,5.31,0,0,0,1,6.5,5.31,5.31,0,0,0,4.9,4.9,5.31,5.31,0,0,0,6.5,1,5.31,5.31,0,0,0,8.1,4.9,5.31,5.31,0,0,0,12,6.5,5.46,5.46,0,0,0,6.5,12Z\"/>\n",
              "  </svg>\n",
              "    </button>\n",
              "    <script>\n",
              "      (() => {\n",
              "      const buttonEl =\n",
              "        document.querySelector('#id_e85f80fc-935d-469f-b72d-c46c411efaa1 button.colab-df-generate');\n",
              "      buttonEl.style.display =\n",
              "        google.colab.kernel.accessAllowed ? 'block' : 'none';\n",
              "\n",
              "      buttonEl.onclick = () => {\n",
              "        google.colab.notebook.generateWithVariable('df1');\n",
              "      }\n",
              "      })();\n",
              "    </script>\n",
              "  </div>\n",
              "\n",
              "    </div>\n",
              "  </div>\n"
            ],
            "application/vnd.google.colaboratory.intrinsic+json": {
              "type": "dataframe",
              "variable_name": "df1",
              "summary": "{\n  \"name\": \"df1\",\n  \"rows\": 2343,\n  \"fields\": [\n    {\n      \"column\": \"unique_id\",\n      \"properties\": {\n        \"dtype\": \"category\",\n        \"num_unique_values\": 1,\n        \"samples\": [\n          \"DXG\"\n        ],\n        \"semantic_type\": \"\",\n        \"description\": \"\"\n      }\n    },\n    {\n      \"column\": \"ds\",\n      \"properties\": {\n        \"dtype\": \"object\",\n        \"num_unique_values\": 2343,\n        \"samples\": [\n          \"2018-06-24\"\n        ],\n        \"semantic_type\": \"\",\n        \"description\": \"\"\n      }\n    },\n    {\n      \"column\": \"y\",\n      \"properties\": {\n        \"dtype\": \"number\",\n        \"std\": 6993.995649882814,\n        \"min\": 6739.1,\n        \"max\": 46750.0,\n        \"num_unique_values\": 1243,\n        \"samples\": [\n          19127.0\n        ],\n        \"semantic_type\": \"\",\n        \"description\": \"\"\n      }\n    }\n  ]\n}"
            }
          },
          "metadata": {},
          "execution_count": 76
        }
      ]
    },
    {
      "cell_type": "code",
      "source": [
        "# Change Data Type\n",
        "df1['ds'] = pd.to_datetime(df1['ds'])\n",
        "df1['y'] = df1['y'].astype(float)\n",
        "\n",
        "df1.info()"
      ],
      "metadata": {
        "id": "tVVdbH9G-rgV",
        "colab": {
          "base_uri": "https://localhost:8080/"
        },
        "outputId": "463bef5b-c5bd-428e-ccab-a29adf18ce33"
      },
      "execution_count": 77,
      "outputs": [
        {
          "output_type": "stream",
          "name": "stdout",
          "text": [
            "<class 'pandas.core.frame.DataFrame'>\n",
            "RangeIndex: 2343 entries, 0 to 2342\n",
            "Data columns (total 3 columns):\n",
            " #   Column     Non-Null Count  Dtype         \n",
            "---  ------     --------------  -----         \n",
            " 0   unique_id  2343 non-null   object        \n",
            " 1   ds         2343 non-null   datetime64[ns]\n",
            " 2   y          2343 non-null   float64       \n",
            "dtypes: datetime64[ns](1), float64(1), object(1)\n",
            "memory usage: 55.0+ KB\n"
          ]
        }
      ]
    },
    {
      "cell_type": "markdown",
      "source": [
        "# **TRAIN-TEST SPLIT**"
      ],
      "metadata": {
        "id": "dt8vfhVQ1Yn-"
      }
    },
    {
      "cell_type": "code",
      "source": [
        "# Sizing\n",
        "size = int(len(df1))\n",
        "\n",
        "# 7 : 3 Ratio\n",
        "train_data = df1[:int(0.7 *size)]\n",
        "test_data = df1[int(0.7 * size):]\n",
        "train_len = len(train_data)\n",
        "test_len = len(test_data)\n",
        "print(\"Training lenght:\" , train_len)\n",
        "print(\"Test lenght:\" , test_len)"
      ],
      "metadata": {
        "id": "D51KaEZw-4zg",
        "colab": {
          "base_uri": "https://localhost:8080/"
        },
        "outputId": "29685e84-f283-4db1-eb71-7fd6bf175937"
      },
      "execution_count": 78,
      "outputs": [
        {
          "output_type": "stream",
          "name": "stdout",
          "text": [
            "Training lenght: 1640\n",
            "Test lenght: 703\n"
          ]
        }
      ]
    },
    {
      "cell_type": "code",
      "source": [
        "# Train_data MAX Value\n",
        "train_data.max()"
      ],
      "metadata": {
        "id": "1FO1Q9VQ__Nl",
        "colab": {
          "base_uri": "https://localhost:8080/"
        },
        "outputId": "d7840160-4fdb-48ce-9c83-bf2cd94fa564"
      },
      "execution_count": 79,
      "outputs": [
        {
          "output_type": "execute_result",
          "data": {
            "text/plain": [
              "unique_id                    DXG\n",
              "ds           2022-06-29 00:00:00\n",
              "y                        46750.0\n",
              "dtype: object"
            ]
          },
          "metadata": {},
          "execution_count": 79
        }
      ]
    },
    {
      "cell_type": "markdown",
      "source": [
        "# **TRAINING PROCESSS**"
      ],
      "metadata": {
        "id": "pcPAdyNP1YcG"
      }
    },
    {
      "cell_type": "code",
      "source": [
        "# Model Configuration\n",
        "model = FEDformer(\n",
        "    h=test_len + 90,\n",
        "    input_size = 100,  # 100 Days of input size\n",
        "    modes=64,  # Reduced modes for less complexity\n",
        "    hidden_size=128,  # Increased hidden size\n",
        "    n_head=8,  # Must be set to 8\n",
        "    loss=MAE(),\n",
        "    scaler_type='standard',  # Change the scaler type\n",
        "    learning_rate=1e-3,  # Fine-tune the learning rate\n",
        "    max_steps=100,  # Increase the number of training steps\n",
        "    batch_size=32,  # Adjust batch size\n",
        "    windows_batch_size=256,  # Adjust window batch size\n",
        ")\n",
        "\n",
        "nf = NeuralForecast(\n",
        "    models=[model],\n",
        "    freq='D',\n",
        ")"
      ],
      "metadata": {
        "id": "gdiv9rYDAQzB",
        "colab": {
          "base_uri": "https://localhost:8080/"
        },
        "outputId": "9fda9a26-00b0-4750-ea7a-da24b285d916"
      },
      "execution_count": 80,
      "outputs": [
        {
          "output_type": "stream",
          "name": "stderr",
          "text": [
            "INFO:lightning_fabric.utilities.seed:Seed set to 1\n"
          ]
        }
      ]
    },
    {
      "cell_type": "code",
      "source": [
        "# Training\n",
        "nf.fit(df=train_data, static_df=None, verbose=True)"
      ],
      "metadata": {
        "id": "H17QqywrAVFR",
        "colab": {
          "base_uri": "https://localhost:8080/",
          "height": 468,
          "referenced_widgets": [
            "346b79492eb94fa38324224e3fdd6f0c",
            "536d0f7d0cc741b180e1dae9f6a1fbbf",
            "8f3feacab7814f4b91fe6f5ff51ddbd5",
            "0e47d2b172f64d40b47f403331bec69a",
            "8cab273daa6046578ecdce3e5e5b412c",
            "ced8daed707a4d95a4ca9f62b445691e",
            "4bf0b32337b14a8191bcd13f0413aa29",
            "4b78eb08f67a4339a11576f94ce31581",
            "4ab5180ba2364e58becb3804865f4449",
            "1b822ef54dd94c3e8e021fcf0cec91a3",
            "7c8b8f1c37884223befc5ad2ba35495c",
            "6b34ad55fc684e9fa7112f7cce235fb8",
            "d8b61aee495f41058992886507db711e",
            "a23c7d3315d7441887690a2e13c0528c",
            "67b3325a193d4a359ed0d3d3d46b46ec",
            "34c5f64e20bb4c27bbb6f4edba7312b0",
            "c8b32e9630484229b2aa421a4553c214",
            "1930c05c41df4922bfdc7ba471fe9001",
            "159f73720d09491ca955de790aca167b",
            "fcba516adf574f788c6c714d2cfa0e9e",
            "f3a4a9e34b3641feb2c2d7007a237bf3",
            "042f21cebbaa4e948236ec51a9e450ca",
            "78b6580e4701482fb9ef7fe0b1d62654",
            "60adfbe7272d44adb48113065c016e20",
            "af10c5eb757f4b28ba01655c2a99fe40",
            "1cf83c6c67ab43a7aa6e525f9d11f283",
            "5ca03f8fe7a048e3970eb363d012d1e5",
            "c6cc780020b2405eaea49c07b29123eb",
            "eaf7e5a8a7644bad8f5652a8362fe4fa",
            "1b5c0801334f44a68eb4cae61dcf0250",
            "31c50aae55e8495ea249e6d074887bfb",
            "82555542fd3e4393bb68033f5809709a",
            "5d138d37642b4e538bfb64da6a5f45de"
          ]
        },
        "outputId": "1bf0bff6-9146-4cfc-d375-881ef8a76823"
      },
      "execution_count": 81,
      "outputs": [
        {
          "output_type": "stream",
          "name": "stderr",
          "text": [
            "INFO:pytorch_lightning.utilities.rank_zero:GPU available: True (cuda), used: True\n",
            "INFO:pytorch_lightning.utilities.rank_zero:TPU available: False, using: 0 TPU cores\n",
            "INFO:pytorch_lightning.utilities.rank_zero:HPU available: False, using: 0 HPUs\n",
            "INFO:pytorch_lightning.accelerators.cuda:LOCAL_RANK: 0 - CUDA_VISIBLE_DEVICES: [0]\n",
            "INFO:pytorch_lightning.callbacks.model_summary:\n",
            "  | Name          | Type          | Params | Mode \n",
            "--------------------------------------------------------\n",
            "0 | loss          | MAE           | 0      | train\n",
            "1 | padder_train  | ConstantPad1d | 0      | train\n",
            "2 | scaler        | TemporalNorm  | 0      | train\n",
            "3 | decomp        | SeriesDecomp  | 0      | train\n",
            "4 | enc_embedding | DataEmbedding | 384    | train\n",
            "5 | dec_embedding | DataEmbedding | 384    | train\n",
            "6 | encoder       | Encoder       | 251 K  | train\n",
            "7 | decoder       | Decoder       | 403 K  | train\n",
            "--------------------------------------------------------\n",
            "655 K     Trainable params\n",
            "0         Non-trainable params\n",
            "655 K     Total params\n",
            "2.620     Total estimated model params size (MB)\n"
          ]
        },
        {
          "output_type": "display_data",
          "data": {
            "text/plain": [
              "Sanity Checking: |          | 0/? [00:00<?, ?it/s]"
            ],
            "application/vnd.jupyter.widget-view+json": {
              "version_major": 2,
              "version_minor": 0,
              "model_id": "346b79492eb94fa38324224e3fdd6f0c"
            }
          },
          "metadata": {}
        },
        {
          "output_type": "display_data",
          "data": {
            "text/plain": [
              "Training: |          | 0/? [00:00<?, ?it/s]"
            ],
            "application/vnd.jupyter.widget-view+json": {
              "version_major": 2,
              "version_minor": 0,
              "model_id": "6b34ad55fc684e9fa7112f7cce235fb8"
            }
          },
          "metadata": {}
        },
        {
          "output_type": "stream",
          "name": "stderr",
          "text": [
            "/usr/local/lib/python3.10/dist-packages/torch/autograd/graph.py:744: UserWarning: Plan failed with a cudnnException: CUDNN_BACKEND_EXECUTION_PLAN_DESCRIPTOR: cudnnFinalize Descriptor Failed cudnn_status: CUDNN_STATUS_NOT_SUPPORTED (Triggered internally at ../aten/src/ATen/native/cudnn/Conv_v8.cpp:919.)\n",
            "  return Variable._execution_engine.run_backward(  # Calls into the C++ engine to run the backward pass\n"
          ]
        },
        {
          "output_type": "display_data",
          "data": {
            "text/plain": [
              "Validation: |          | 0/? [00:00<?, ?it/s]"
            ],
            "application/vnd.jupyter.widget-view+json": {
              "version_major": 2,
              "version_minor": 0,
              "model_id": "78b6580e4701482fb9ef7fe0b1d62654"
            }
          },
          "metadata": {}
        },
        {
          "output_type": "stream",
          "name": "stderr",
          "text": [
            "INFO:pytorch_lightning.utilities.rank_zero:`Trainer.fit` stopped: `max_steps=100` reached.\n"
          ]
        }
      ]
    },
    {
      "cell_type": "markdown",
      "source": [
        "# **PREDICTION**\n"
      ],
      "metadata": {
        "id": "87ZN80SQ5Nyl"
      }
    },
    {
      "cell_type": "code",
      "source": [
        "forecasts = nf.predict()"
      ],
      "metadata": {
        "colab": {
          "base_uri": "https://localhost:8080/",
          "height": 208,
          "referenced_widgets": [
            "d2edf6677881450cb3a30dd610ebddc6",
            "0d8e5ff5622049ec8e9cf6022e7b7242",
            "95d4afdd9c1242de9457f48878d93e40",
            "f06eb648a30d465e8a74687df8aa560f",
            "75b92611247b48b18874083d2e66d2f3",
            "7b338c0fe7f643d6baffcc602d8c34d0",
            "abc97f997e3f485886376008dd1a65f6",
            "d21638d1c9c9400c9386dc9102a20357",
            "c8acc8dca8fd434a9753cf635deafb21",
            "1f22c848236249ab83b481afb1f805b8",
            "25cb01eccd7f4048a4bb787a896d426f"
          ]
        },
        "id": "EylJxsZd9Cnl",
        "outputId": "09ef580c-d3da-4c75-c3db-aa72ab111a55"
      },
      "execution_count": 82,
      "outputs": [
        {
          "output_type": "stream",
          "name": "stderr",
          "text": [
            "INFO:pytorch_lightning.utilities.rank_zero:GPU available: True (cuda), used: True\n",
            "INFO:pytorch_lightning.utilities.rank_zero:TPU available: False, using: 0 TPU cores\n",
            "INFO:pytorch_lightning.utilities.rank_zero:HPU available: False, using: 0 HPUs\n",
            "INFO:pytorch_lightning.accelerators.cuda:LOCAL_RANK: 0 - CUDA_VISIBLE_DEVICES: [0]\n"
          ]
        },
        {
          "output_type": "display_data",
          "data": {
            "text/plain": [
              "Predicting: |          | 0/? [00:00<?, ?it/s]"
            ],
            "application/vnd.jupyter.widget-view+json": {
              "version_major": 2,
              "version_minor": 0,
              "model_id": "d2edf6677881450cb3a30dd610ebddc6"
            }
          },
          "metadata": {}
        },
        {
          "output_type": "stream",
          "name": "stderr",
          "text": [
            "/usr/local/lib/python3.10/dist-packages/torch/nn/modules/conv.py:303: UserWarning: Plan failed with a cudnnException: CUDNN_BACKEND_EXECUTION_PLAN_DESCRIPTOR: cudnnFinalize Descriptor Failed cudnn_status: CUDNN_STATUS_NOT_SUPPORTED (Triggered internally at ../aten/src/ATen/native/cudnn/Conv_v8.cpp:919.)\n",
            "  return F.conv1d(F.pad(input, self._reversed_padding_repeated_twice, mode=self.padding_mode),\n",
            "/usr/local/lib/python3.10/dist-packages/neuralforecast/core.py:196: FutureWarning: In a future version the predictions will have the id as a column. You can set the `NIXTLA_ID_AS_COL` environment variable to adopt the new behavior and to suppress this warning.\n",
            "  warnings.warn(\n"
          ]
        }
      ]
    },
    {
      "cell_type": "code",
      "source": [
        "# Reset Index\n",
        "train = train_data['y']\n",
        "test = test_data['y']\n",
        "\n",
        "train.reset_index(drop=True, inplace=True)\n",
        "test.reset_index(drop=True, inplace=True)\n",
        "\n",
        "predict = forecasts['FEDformer']\n",
        "predict.reset_index(drop=True, inplace=True)"
      ],
      "metadata": {
        "id": "x0FrFileAohg"
      },
      "execution_count": 83,
      "outputs": []
    },
    {
      "cell_type": "code",
      "source": [
        "predict_test = predict[0:test_len]\n",
        "predict_future = predict[test_len:]"
      ],
      "metadata": {
        "id": "pTdUcg-LA8uY"
      },
      "execution_count": 84,
      "outputs": []
    },
    {
      "cell_type": "code",
      "source": [
        "# Order predict_future\n",
        "predict_future_30 = predict_future[:30]\n",
        "predict_future_60 = predict_future[30:60]\n",
        "predict_future_90 = predict_future[60:]"
      ],
      "metadata": {
        "id": "xpr-UR7NDPwZ"
      },
      "execution_count": 85,
      "outputs": []
    },
    {
      "cell_type": "code",
      "source": [
        "# Print Predicted Data\n",
        "print(\"\\nPredicted Data for the next 30 days:\")\n",
        "print(predict_future_30)\n",
        "\n",
        "print(\"\\nPredicted Data for the next 60 days:\")\n",
        "print(predict_future_60)\n",
        "\n",
        "print(\"\\nPredicted Data for the next 90 days:\")\n",
        "print(predict_future_90)"
      ],
      "metadata": {
        "id": "HHCSgTpeCalw",
        "colab": {
          "base_uri": "https://localhost:8080/"
        },
        "outputId": "85e16d74-b355-4ad5-bc9a-1d91e170d749"
      },
      "execution_count": 86,
      "outputs": [
        {
          "output_type": "stream",
          "name": "stdout",
          "text": [
            "\n",
            "Predicted Data for the next 30 days:\n",
            "703    33435.398438\n",
            "704    67908.312500\n",
            "705    47177.320312\n",
            "706    63170.882812\n",
            "707    37646.320312\n",
            "708    27207.660156\n",
            "709    48343.718750\n",
            "710    21811.000000\n",
            "711    60768.144531\n",
            "712    24813.662109\n",
            "713    38193.738281\n",
            "714    75349.156250\n",
            "715    71571.414062\n",
            "716    67718.609375\n",
            "717    36309.890625\n",
            "718    40897.867188\n",
            "719    17450.273438\n",
            "720    67656.468750\n",
            "721    72061.984375\n",
            "722    79198.445312\n",
            "723    80885.914062\n",
            "724    65846.320312\n",
            "725    80869.078125\n",
            "726    65686.367188\n",
            "727    70275.312500\n",
            "728    63822.820312\n",
            "729    43466.218750\n",
            "730    37475.222656\n",
            "731    40536.042969\n",
            "732    21912.082031\n",
            "Name: FEDformer, dtype: float32\n",
            "\n",
            "Predicted Data for the next 60 days:\n",
            "733    60893.500000\n",
            "734    44565.351562\n",
            "735    61803.757812\n",
            "736    16804.425781\n",
            "737    70347.687500\n",
            "738    68431.375000\n",
            "739    68287.281250\n",
            "740    40021.640625\n",
            "741    15144.564453\n",
            "742    56826.289062\n",
            "743    76137.765625\n",
            "744    38121.871094\n",
            "745    24713.214844\n",
            "746    56482.679688\n",
            "747    66076.992188\n",
            "748    83166.109375\n",
            "749    60768.945312\n",
            "750    76004.445312\n",
            "751    22520.996094\n",
            "752    65298.632812\n",
            "753    51493.890625\n",
            "754    22405.574219\n",
            "755    23289.410156\n",
            "756    60332.062500\n",
            "757    16447.013672\n",
            "758    30484.748047\n",
            "759    17644.218750\n",
            "760    66397.562500\n",
            "761    67933.750000\n",
            "762    40534.785156\n",
            "Name: FEDformer, dtype: float32\n",
            "\n",
            "Predicted Data for the next 90 days:\n",
            "763    66903.781250\n",
            "764    78340.687500\n",
            "765    23070.613281\n",
            "766    65675.554688\n",
            "767    76560.007812\n",
            "768    66978.812500\n",
            "769    67938.375000\n",
            "770    51407.671875\n",
            "771    64571.140625\n",
            "772    63041.914062\n",
            "773    27545.539062\n",
            "774    34094.691406\n",
            "775    29951.167969\n",
            "776    35254.511719\n",
            "777    17200.285156\n",
            "778    47336.109375\n",
            "779    54228.031250\n",
            "780    29302.183594\n",
            "781    19625.222656\n",
            "782    19733.722656\n",
            "783    32945.597656\n",
            "784    46342.800781\n",
            "785    55235.023438\n",
            "786    62789.898438\n",
            "787    53097.171875\n",
            "788    25036.257812\n",
            "789    50301.066406\n",
            "790     7830.087891\n",
            "791    23764.767578\n",
            "792    43027.906250\n",
            "Name: FEDformer, dtype: float32\n"
          ]
        }
      ]
    },
    {
      "cell_type": "markdown",
      "source": [
        "# **EVALUATION**"
      ],
      "metadata": {
        "id": "iJa5b5uD1YGX"
      }
    },
    {
      "cell_type": "code",
      "source": [
        "mae = mean_absolute_error(test, predict_test)\n",
        "mape = mean_absolute_percentage_error(test, predict_test)\n",
        "mse = mean_squared_error(test, predict_test)\n",
        "rmse = np.sqrt(mean_squared_error(test, predict_test))\n",
        "\n",
        "print(\"Mean Absolute Error (MAE):\", mae)\n",
        "print(\"Mean Absolute Percentage Error (MAPE):\", mape)\n",
        "print(\"Mean Square Error (MSE):\", mse)\n",
        "print(\"Root Mean Square Error (RMSE):\", rmse)"
      ],
      "metadata": {
        "id": "AmOhGtB_BRxR",
        "colab": {
          "base_uri": "https://localhost:8080/"
        },
        "outputId": "45fa8978-b713-4a83-d705-6f63052c23dd"
      },
      "execution_count": 87,
      "outputs": [
        {
          "output_type": "stream",
          "name": "stdout",
          "text": [
            "Mean Absolute Error (MAE): 16522.28312662992\n",
            "Mean Absolute Percentage Error (MAPE): 1.0692247733519828\n",
            "Mean Square Error (MSE): 444083478.67740375\n",
            "Root Mean Square Error (RMSE): 21073.288273959613\n"
          ]
        }
      ]
    },
    {
      "cell_type": "markdown",
      "source": [
        "# **VISUALIZATION**"
      ],
      "metadata": {
        "id": "qwEYRmg95sz5"
      }
    },
    {
      "cell_type": "code",
      "source": [
        "# prompt: adding first_value to the last of test\n",
        "first_value = predict_test.iloc[0]\n",
        "train_draw = pd.concat([train, pd.Series([first_value])], ignore_index=True)"
      ],
      "metadata": {
        "id": "x8uSzmsCHIkU"
      },
      "execution_count": 88,
      "outputs": []
    },
    {
      "cell_type": "markdown",
      "source": [
        "**Overall Visualization**"
      ],
      "metadata": {
        "id": "CHVl7gCUHuvM"
      }
    },
    {
      "cell_type": "code",
      "source": [
        "plt.figure(figsize=(16, 9))\n",
        "\n",
        "train_data_index = pd.RangeIndex(start=0, stop=train_len+1, step=1)\n",
        "plt.plot(train_draw)\n",
        "test_data_index = pd.RangeIndex(start=train_len+1, stop=train_len+test_len+1, step=1)\n",
        "plt.plot(test_data_index, test)\n",
        "\n",
        "predict_test_index = pd.RangeIndex(start=train_len+1, stop=train_len+test_len+1, step=1)\n",
        "plt.plot(predict_test_index,(predict_test))\n",
        "\n",
        "predict_future_30_index = pd.RangeIndex(start=train_len+test_len+1, stop=train_len+test_len+31, step=1)\n",
        "plt.plot(predict_future_30_index, predict_future_30)\n",
        "predict_future_60_index = pd.RangeIndex(start=train_len+test_len+31, stop=train_len+test_len+61, step=1)\n",
        "plt.plot(predict_future_60_index, predict_future_60)\n",
        "predict_future_90_index = pd.RangeIndex(start=train_len+test_len+61, stop=train_len+test_len+91, step=1)\n",
        "plt.plot(predict_future_90_index, predict_future_90)\n",
        "\n",
        "plt.legend(['Train', 'Test', 'Predict Test', 'Predict next 30 days', 'Predict next 60 days', 'Predict next 90 days'])\n",
        "plt.xlabel('Time')\n",
        "plt.ylabel('Values')\n",
        "plt.title('Train, Test, and Predictions')\n",
        "plt.show()"
      ],
      "metadata": {
        "id": "7Z-OnsOvHapD",
        "colab": {
          "base_uri": "https://localhost:8080/",
          "height": 666
        },
        "outputId": "878714a8-37f1-4e67-a8e9-db2758565dac"
      },
      "execution_count": 89,
      "outputs": [
        {
          "output_type": "display_data",
          "data": {
            "text/plain": [
              "<Figure size 1600x900 with 1 Axes>"
            ],
            "image/png": "[encoded data removed]"
          },
          "metadata": {}
        }
      ]
    },
    {
      "cell_type": "markdown",
      "source": [
        "# **---------------------------------------**"
      ],
      "metadata": {
        "id": "3DFjogTo5o4W"
      }
    },
    {
      "cell_type": "markdown",
      "source": [
        "# **POLYNOMINAL SMOOTHING**"
      ],
      "metadata": {
        "id": "WrzaxB4p5XxJ"
      }
    },
    {
      "cell_type": "code",
      "source": [
        "predict_smoothed = savgol_filter(predict, window_length=31, polyorder=3)"
      ],
      "metadata": {
        "id": "deZeHHPbB28s"
      },
      "execution_count": 90,
      "outputs": []
    },
    {
      "cell_type": "markdown",
      "source": [
        "# **RE - PREDICTION**\n"
      ],
      "metadata": {
        "id": "RfIm8SRH5WCd"
      }
    },
    {
      "cell_type": "code",
      "source": [
        "predict_test = predict_smoothed[0:test_len]\n",
        "predict_future = predict_smoothed[test_len:]"
      ],
      "metadata": {
        "id": "87F8WlicB7qo"
      },
      "execution_count": 91,
      "outputs": []
    },
    {
      "cell_type": "code",
      "source": [
        "# Order predict_future\n",
        "predict_future_30 = predict_future[:30]\n",
        "predict_future_60 = predict_future[30:60]\n",
        "predict_future_90 = predict_future[60:]"
      ],
      "metadata": {
        "id": "UD0oRSytJXRk"
      },
      "execution_count": 92,
      "outputs": []
    },
    {
      "cell_type": "code",
      "source": [
        "# Print Predicted Data\n",
        "print(\"\\nPredicted Data for the next 30 days:\")\n",
        "print(predict_future_30)\n",
        "\n",
        "print(\"\\nPredicted Data for the next 60 days:\")\n",
        "print(predict_future_60)\n",
        "\n",
        "print(\"\\nPredicted Data for the next 90 days:\")\n",
        "print(predict_future_90)"
      ],
      "metadata": {
        "id": "u5NUUdzdJf_v",
        "colab": {
          "base_uri": "https://localhost:8080/"
        },
        "outputId": "eae91fbf-c8e0-4edc-97c2-0b1e05f6155f"
      },
      "execution_count": 93,
      "outputs": [
        {
          "output_type": "stream",
          "name": "stdout",
          "text": [
            "\n",
            "Predicted Data for the next 30 days:\n",
            "[52285.574 51150.066 50541.082 48888.19  47166.66  44703.27  44597.016\n",
            " 45156.023 46185.41  46342.445 48566.586 51154.54  52297.1   54668.527\n",
            " 56509.516 57959.81  58163.31  59177.375 61242.227 61395.95  60642.832\n",
            " 59304.69  60119.887 60141.734 59553.78  56292.65  55197.934 56222.066\n",
            " 55611.508 54726.418]\n",
            "\n",
            "Predicted Data for the next 60 days:\n",
            "[51787.508 50186.168 46487.68  47503.777 46678.406 47235.91  49418.15\n",
            " 50675.32  51049.496 52986.504 54353.89  55960.98  54234.508 52349.87\n",
            " 51907.902 49089.477 47851.473 48567.51  48022.992 44923.566 45104.61\n",
            " 45679.63  47452.74  47365.203 45950.94  47918.03  50397.766 51024.83\n",
            " 50154.785 51171.844]\n",
            "\n",
            "Predicted Data for the next 90 days:\n",
            "[51094.23  51943.094 53189.84  55633.383 55117.7   55731.91  55168.797\n",
            " 52745.1   49866.293 49384.086 47897.594 45367.066 43644.64  42969.6\n",
            " 41583.715 40260.754 39027.22  37899.484 36893.94  36026.96  35314.934\n",
            " 34774.24  34421.258 34272.375 34343.965 34652.418 35214.113 36045.434\n",
            " 37162.758 38582.47 ]\n"
          ]
        }
      ]
    },
    {
      "cell_type": "markdown",
      "source": [
        "# **RE - EVALUATION**"
      ],
      "metadata": {
        "id": "aBaWpHeV5KQ9"
      }
    },
    {
      "cell_type": "code",
      "source": [
        "mae = mean_absolute_error(test, predict_test)\n",
        "mape = mean_absolute_percentage_error(test, predict_test)\n",
        "mse = mean_squared_error(test, predict_test)\n",
        "rmse = np.sqrt(mean_squared_error(test, predict_test))\n",
        "\n",
        "print(\"Mean Absolute Error (MAE):\", mae)\n",
        "print(\"Mean Absolute Percentage Error (MAPE):\", mape)\n",
        "print(\"Mean Square Error (MSE):\", mse)\n",
        "print(\"Root Mean Square Error (RMSE):\", rmse)"
      ],
      "metadata": {
        "id": "oN_vK83uCFgN",
        "colab": {
          "base_uri": "https://localhost:8080/"
        },
        "outputId": "66b58948-6c84-4696-de3e-20d569fd96bc"
      },
      "execution_count": 94,
      "outputs": [
        {
          "output_type": "stream",
          "name": "stdout",
          "text": [
            "Mean Absolute Error (MAE): 16015.616710007705\n",
            "Mean Absolute Percentage Error (MAPE): 1.042425905075082\n",
            "Mean Square Error (MSE): 332763820.18360966\n",
            "Root Mean Square Error (RMSE): 18241.815155943492\n"
          ]
        }
      ]
    },
    {
      "cell_type": "markdown",
      "source": [
        "# **RE - VISUALIZATION**"
      ],
      "metadata": {
        "id": "pwk_eOsf8PaI"
      }
    },
    {
      "cell_type": "code",
      "execution_count": 95,
      "metadata": {
        "id": "o7_qbVh74aBp"
      },
      "outputs": [],
      "source": [
        "# Assuming predict_test is a NumPy array\n",
        "first_value = pd.Series(predict_test.reshape(-1))  # Convert to pandas Series\n",
        "\n",
        "# Concatenate train and first_value as Series in a new DataFrame\n",
        "train_draw = pd.concat([train, first_value], ignore_index=True)"
      ]
    },
    {
      "cell_type": "markdown",
      "source": [
        "**Overall Visualization**"
      ],
      "metadata": {
        "id": "kK18UP7AJyXX"
      }
    },
    {
      "cell_type": "code",
      "source": [
        "plt.figure(figsize=(16, 9))\n",
        "\n",
        "train_data_index = pd.RangeIndex(start=0, stop=train_len+1, step=1)\n",
        "plt.plot(train_draw)\n",
        "test_data_index = pd.RangeIndex(start=train_len+1, stop=train_len+test_len+1, step=1)\n",
        "plt.plot(test_data_index, test)\n",
        "\n",
        "predict_test_index = pd.RangeIndex(start=train_len+1, stop=train_len+test_len+1, step=1)\n",
        "plt.plot(predict_test_index,(predict_test))\n",
        "\n",
        "predict_future_30_index = pd.RangeIndex(start=train_len+test_len+1, stop=train_len+test_len+31, step=1)\n",
        "plt.plot(predict_future_30_index, predict_future_30)\n",
        "predict_future_60_index = pd.RangeIndex(start=train_len+test_len+31, stop=train_len+test_len+61, step=1)\n",
        "plt.plot(predict_future_60_index, predict_future_60)\n",
        "predict_future_90_index = pd.RangeIndex(start=train_len+test_len+61, stop=train_len+test_len+91, step=1)\n",
        "plt.plot(predict_future_90_index, predict_future_90)\n",
        "\n",
        "plt.legend(['Train', 'Test', 'Predict Test', 'Predict next 30 days', 'Predict next 60 days', 'Predict next 90 days'])\n",
        "plt.xlabel('Time')\n",
        "plt.ylabel('Values')\n",
        "plt.title('7:3 ratio DXG Stock Price Train, Test, and Predictions')\n",
        "plt.show()"
      ],
      "metadata": {
        "id": "C6nV7V2gJmKH",
        "colab": {
          "base_uri": "https://localhost:8080/",
          "height": 666
        },
        "outputId": "23dc9498-c901-414a-9f02-007d1f57e234"
      },
      "execution_count": 96,
      "outputs": [
        {
          "output_type": "display_data",
          "data": {
            "text/plain": [
              "<Figure size 1600x900 with 1 Axes>"
            ],
            "image/png": "[encoded data removed]"
          },
          "metadata": {}
        }
      ]
    }
  ]
}