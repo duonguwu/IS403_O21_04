{
  "nbformat": 4,
  "nbformat_minor": 0,
  "metadata": {
    "colab": {
      "provenance": [],
      "gpuType": "T4"
    },
    "kernelspec": {
      "name": "python3",
      "display_name": "Python 3"
    },
    "language_info": {
      "name": "python"
    },
    "accelerator": "GPU",
    "widgets": {
      "application/vnd.jupyter.widget-state+json": {
        "6cdc668ab7ca45b99ae04d1def37ef15": {
          "model_module": "@jupyter-widgets/controls",
          "model_name": "HBoxModel",
          "model_module_version": "1.5.0",
          "state": {
            "_dom_classes": [],
            "_model_module": "@jupyter-widgets/controls",
            "_model_module_version": "1.5.0",
            "_model_name": "HBoxModel",
            "_view_count": null,
            "_view_module": "@jupyter-widgets/controls",
            "_view_module_version": "1.5.0",
            "_view_name": "HBoxView",
            "box_style": "",
            "children": [
              "IPY_MODEL_2b11e39bf9ac40dab7ca394123e971d7",
              "IPY_MODEL_8c6f8737676040789cb78bd937ab1a59",
              "IPY_MODEL_e554c029c1e34d2db1f84c0e0b13fad4"
            ],
            "layout": "IPY_MODEL_675b087622784e6aa4d223673e5155d8"
          }
        },
        "2b11e39bf9ac40dab7ca394123e971d7": {
          "model_module": "@jupyter-widgets/controls",
          "model_name": "HTMLModel",
          "model_module_version": "1.5.0",
          "state": {
            "_dom_classes": [],
            "_model_module": "@jupyter-widgets/controls",
            "_model_module_version": "1.5.0",
            "_model_name": "HTMLModel",
            "_view_count": null,
            "_view_module": "@jupyter-widgets/controls",
            "_view_module_version": "1.5.0",
            "_view_name": "HTMLView",
            "description": "",
            "description_tooltip": null,
            "layout": "IPY_MODEL_a374c29301a74470a380cc5b4130df55",
            "placeholder": "​",
            "style": "IPY_MODEL_1af17a71439a42ee98c3e09fdeaa92cb",
            "value": "Sanity Checking DataLoader 0: 100%"
          }
        },
        "8c6f8737676040789cb78bd937ab1a59": {
          "model_module": "@jupyter-widgets/controls",
          "model_name": "FloatProgressModel",
          "model_module_version": "1.5.0",
          "state": {
            "_dom_classes": [],
            "_model_module": "@jupyter-widgets/controls",
            "_model_module_version": "1.5.0",
            "_model_name": "FloatProgressModel",
            "_view_count": null,
            "_view_module": "@jupyter-widgets/controls",
            "_view_module_version": "1.5.0",
            "_view_name": "ProgressView",
            "bar_style": "",
            "description": "",
            "description_tooltip": null,
            "layout": "IPY_MODEL_d76f91f79bcc45dca1c7d6c932cebf74",
            "max": 1,
            "min": 0,
            "orientation": "horizontal",
            "style": "IPY_MODEL_882a0cfe80524f8389f118bc1407d8e8",
            "value": 1
          }
        },
        "e554c029c1e34d2db1f84c0e0b13fad4": {
          "model_module": "@jupyter-widgets/controls",
          "model_name": "HTMLModel",
          "model_module_version": "1.5.0",
          "state": {
            "_dom_classes": [],
            "_model_module": "@jupyter-widgets/controls",
            "_model_module_version": "1.5.0",
            "_model_name": "HTMLModel",
            "_view_count": null,
            "_view_module": "@jupyter-widgets/controls",
            "_view_module_version": "1.5.0",
            "_view_name": "HTMLView",
            "description": "",
            "description_tooltip": null,
            "layout": "IPY_MODEL_71d62595c30d46bc96ffe1831ba2b0dd",
            "placeholder": "​",
            "style": "IPY_MODEL_5ccb80fa808e41d686a4221ba284bc8b",
            "value": " 1/1 [00:00&lt;00:00, 129.78it/s]"
          }
        },
        "675b087622784e6aa4d223673e5155d8": {
          "model_module": "@jupyter-widgets/base",
          "model_name": "LayoutModel",
          "model_module_version": "1.2.0",
          "state": {
            "_model_module": "@jupyter-widgets/base",
            "_model_module_version": "1.2.0",
            "_model_name": "LayoutModel",
            "_view_count": null,
            "_view_module": "@jupyter-widgets/base",
            "_view_module_version": "1.2.0",
            "_view_name": "LayoutView",
            "align_content": null,
            "align_items": null,
            "align_self": null,
            "border": null,
            "bottom": null,
            "display": "inline-flex",
            "flex": null,
            "flex_flow": "row wrap",
            "grid_area": null,
            "grid_auto_columns": null,
            "grid_auto_flow": null,
            "grid_auto_rows": null,
            "grid_column": null,
            "grid_gap": null,
            "grid_row": null,
            "grid_template_areas": null,
            "grid_template_columns": null,
            "grid_template_rows": null,
            "height": null,
            "justify_content": null,
            "justify_items": null,
            "left": null,
            "margin": null,
            "max_height": null,
            "max_width": null,
            "min_height": null,
            "min_width": null,
            "object_fit": null,
            "object_position": null,
            "order": null,
            "overflow": null,
            "overflow_x": null,
            "overflow_y": null,
            "padding": null,
            "right": null,
            "top": null,
            "visibility": "hidden",
            "width": "100%"
          }
        },
        "a374c29301a74470a380cc5b4130df55": {
          "model_module": "@jupyter-widgets/base",
          "model_name": "LayoutModel",
          "model_module_version": "1.2.0",
          "state": {
            "_model_module": "@jupyter-widgets/base",
            "_model_module_version": "1.2.0",
            "_model_name": "LayoutModel",
            "_view_count": null,
            "_view_module": "@jupyter-widgets/base",
            "_view_module_version": "1.2.0",
            "_view_name": "LayoutView",
            "align_content": null,
            "align_items": null,
            "align_self": null,
            "border": null,
            "bottom": null,
            "display": null,
            "flex": null,
            "flex_flow": null,
            "grid_area": null,
            "grid_auto_columns": null,
            "grid_auto_flow": null,
            "grid_auto_rows": null,
            "grid_column": null,
            "grid_gap": null,
            "grid_row": null,
            "grid_template_areas": null,
            "grid_template_columns": null,
            "grid_template_rows": null,
            "height": null,
            "justify_content": null,
            "justify_items": null,
            "left": null,
            "margin": null,
            "max_height": null,
            "max_width": null,
            "min_height": null,
            "min_width": null,
            "object_fit": null,
            "object_position": null,
            "order": null,
            "overflow": null,
            "overflow_x": null,
            "overflow_y": null,
            "padding": null,
            "right": null,
            "top": null,
            "visibility": null,
            "width": null
          }
        },
        "1af17a71439a42ee98c3e09fdeaa92cb": {
          "model_module": "@jupyter-widgets/controls",
          "model_name": "DescriptionStyleModel",
          "model_module_version": "1.5.0",
          "state": {
            "_model_module": "@jupyter-widgets/controls",
            "_model_module_version": "1.5.0",
            "_model_name": "DescriptionStyleModel",
            "_view_count": null,
            "_view_module": "@jupyter-widgets/base",
            "_view_module_version": "1.2.0",
            "_view_name": "StyleView",
            "description_width": ""
          }
        },
        "d76f91f79bcc45dca1c7d6c932cebf74": {
          "model_module": "@jupyter-widgets/base",
          "model_name": "LayoutModel",
          "model_module_version": "1.2.0",
          "state": {
            "_model_module": "@jupyter-widgets/base",
            "_model_module_version": "1.2.0",
            "_model_name": "LayoutModel",
            "_view_count": null,
            "_view_module": "@jupyter-widgets/base",
            "_view_module_version": "1.2.0",
            "_view_name": "LayoutView",
            "align_content": null,
            "align_items": null,
            "align_self": null,
            "border": null,
            "bottom": null,
            "display": null,
            "flex": "2",
            "flex_flow": null,
            "grid_area": null,
            "grid_auto_columns": null,
            "grid_auto_flow": null,
            "grid_auto_rows": null,
            "grid_column": null,
            "grid_gap": null,
            "grid_row": null,
            "grid_template_areas": null,
            "grid_template_columns": null,
            "grid_template_rows": null,
            "height": null,
            "justify_content": null,
            "justify_items": null,
            "left": null,
            "margin": null,
            "max_height": null,
            "max_width": null,
            "min_height": null,
            "min_width": null,
            "object_fit": null,
            "object_position": null,
            "order": null,
            "overflow": null,
            "overflow_x": null,
            "overflow_y": null,
            "padding": null,
            "right": null,
            "top": null,
            "visibility": null,
            "width": null
          }
        },
        "882a0cfe80524f8389f118bc1407d8e8": {
          "model_module": "@jupyter-widgets/controls",
          "model_name": "ProgressStyleModel",
          "model_module_version": "1.5.0",
          "state": {
            "_model_module": "@jupyter-widgets/controls",
            "_model_module_version": "1.5.0",
            "_model_name": "ProgressStyleModel",
            "_view_count": null,
            "_view_module": "@jupyter-widgets/base",
            "_view_module_version": "1.2.0",
            "_view_name": "StyleView",
            "bar_color": null,
            "description_width": ""
          }
        },
        "71d62595c30d46bc96ffe1831ba2b0dd": {
          "model_module": "@jupyter-widgets/base",
          "model_name": "LayoutModel",
          "model_module_version": "1.2.0",
          "state": {
            "_model_module": "@jupyter-widgets/base",
            "_model_module_version": "1.2.0",
            "_model_name": "LayoutModel",
            "_view_count": null,
            "_view_module": "@jupyter-widgets/base",
            "_view_module_version": "1.2.0",
            "_view_name": "LayoutView",
            "align_content": null,
            "align_items": null,
            "align_self": null,
            "border": null,
            "bottom": null,
            "display": null,
            "flex": null,
            "flex_flow": null,
            "grid_area": null,
            "grid_auto_columns": null,
            "grid_auto_flow": null,
            "grid_auto_rows": null,
            "grid_column": null,
            "grid_gap": null,
            "grid_row": null,
            "grid_template_areas": null,
            "grid_template_columns": null,
            "grid_template_rows": null,
            "height": null,
            "justify_content": null,
            "justify_items": null,
            "left": null,
            "margin": null,
            "max_height": null,
            "max_width": null,
            "min_height": null,
            "min_width": null,
            "object_fit": null,
            "object_position": null,
            "order": null,
            "overflow": null,
            "overflow_x": null,
            "overflow_y": null,
            "padding": null,
            "right": null,
            "top": null,
            "visibility": null,
            "width": null
          }
        },
        "5ccb80fa808e41d686a4221ba284bc8b": {
          "model_module": "@jupyter-widgets/controls",
          "model_name": "DescriptionStyleModel",
          "model_module_version": "1.5.0",
          "state": {
            "_model_module": "@jupyter-widgets/controls",
            "_model_module_version": "1.5.0",
            "_model_name": "DescriptionStyleModel",
            "_view_count": null,
            "_view_module": "@jupyter-widgets/base",
            "_view_module_version": "1.2.0",
            "_view_name": "StyleView",
            "description_width": ""
          }
        },
        "df2823be424b44b4955649ef5c7fb4a2": {
          "model_module": "@jupyter-widgets/controls",
          "model_name": "HBoxModel",
          "model_module_version": "1.5.0",
          "state": {
            "_dom_classes": [],
            "_model_module": "@jupyter-widgets/controls",
            "_model_module_version": "1.5.0",
            "_model_name": "HBoxModel",
            "_view_count": null,
            "_view_module": "@jupyter-widgets/controls",
            "_view_module_version": "1.5.0",
            "_view_name": "HBoxView",
            "box_style": "",
            "children": [
              "IPY_MODEL_0436f7c2ef734c6eae41a0a1f541490e",
              "IPY_MODEL_a2b55b9608b3451fa9a7a189b268dff9",
              "IPY_MODEL_ce7c3d718f014a82a2c5f34bb93e9d9e"
            ],
            "layout": "IPY_MODEL_42b82a4d3fcf44f2af3af1b091538eb4"
          }
        },
        "0436f7c2ef734c6eae41a0a1f541490e": {
          "model_module": "@jupyter-widgets/controls",
          "model_name": "HTMLModel",
          "model_module_version": "1.5.0",
          "state": {
            "_dom_classes": [],
            "_model_module": "@jupyter-widgets/controls",
            "_model_module_version": "1.5.0",
            "_model_name": "HTMLModel",
            "_view_count": null,
            "_view_module": "@jupyter-widgets/controls",
            "_view_module_version": "1.5.0",
            "_view_name": "HTMLView",
            "description": "",
            "description_tooltip": null,
            "layout": "IPY_MODEL_5108e2e38a004c40aa38dedbe7888a53",
            "placeholder": "​",
            "style": "IPY_MODEL_69e1dc52344f4cab9d51d2265fe7204b",
            "value": "Epoch 99: 100%"
          }
        },
        "a2b55b9608b3451fa9a7a189b268dff9": {
          "model_module": "@jupyter-widgets/controls",
          "model_name": "FloatProgressModel",
          "model_module_version": "1.5.0",
          "state": {
            "_dom_classes": [],
            "_model_module": "@jupyter-widgets/controls",
            "_model_module_version": "1.5.0",
            "_model_name": "FloatProgressModel",
            "_view_count": null,
            "_view_module": "@jupyter-widgets/controls",
            "_view_module_version": "1.5.0",
            "_view_name": "ProgressView",
            "bar_style": "success",
            "description": "",
            "description_tooltip": null,
            "layout": "IPY_MODEL_6d48872b3ab646f89dbd98d603e53b93",
            "max": 1,
            "min": 0,
            "orientation": "horizontal",
            "style": "IPY_MODEL_220ded5e3d8c4b518b469c454ed46a41",
            "value": 1
          }
        },
        "ce7c3d718f014a82a2c5f34bb93e9d9e": {
          "model_module": "@jupyter-widgets/controls",
          "model_name": "HTMLModel",
          "model_module_version": "1.5.0",
          "state": {
            "_dom_classes": [],
            "_model_module": "@jupyter-widgets/controls",
            "_model_module_version": "1.5.0",
            "_model_name": "HTMLModel",
            "_view_count": null,
            "_view_module": "@jupyter-widgets/controls",
            "_view_module_version": "1.5.0",
            "_view_name": "HTMLView",
            "description": "",
            "description_tooltip": null,
            "layout": "IPY_MODEL_98bdfb3231ca46a5849ea1de3df557d8",
            "placeholder": "​",
            "style": "IPY_MODEL_48a229e590ef4fd8bcce9a53e9b6f771",
            "value": " 1/1 [00:01&lt;00:00,  0.90it/s, v_num=10, train_loss_step=5.340, train_loss_epoch=5.340]"
          }
        },
        "42b82a4d3fcf44f2af3af1b091538eb4": {
          "model_module": "@jupyter-widgets/base",
          "model_name": "LayoutModel",
          "model_module_version": "1.2.0",
          "state": {
            "_model_module": "@jupyter-widgets/base",
            "_model_module_version": "1.2.0",
            "_model_name": "LayoutModel",
            "_view_count": null,
            "_view_module": "@jupyter-widgets/base",
            "_view_module_version": "1.2.0",
            "_view_name": "LayoutView",
            "align_content": null,
            "align_items": null,
            "align_self": null,
            "border": null,
            "bottom": null,
            "display": "inline-flex",
            "flex": null,
            "flex_flow": "row wrap",
            "grid_area": null,
            "grid_auto_columns": null,
            "grid_auto_flow": null,
            "grid_auto_rows": null,
            "grid_column": null,
            "grid_gap": null,
            "grid_row": null,
            "grid_template_areas": null,
            "grid_template_columns": null,
            "grid_template_rows": null,
            "height": null,
            "justify_content": null,
            "justify_items": null,
            "left": null,
            "margin": null,
            "max_height": null,
            "max_width": null,
            "min_height": null,
            "min_width": null,
            "object_fit": null,
            "object_position": null,
            "order": null,
            "overflow": null,
            "overflow_x": null,
            "overflow_y": null,
            "padding": null,
            "right": null,
            "top": null,
            "visibility": null,
            "width": "100%"
          }
        },
        "5108e2e38a004c40aa38dedbe7888a53": {
          "model_module": "@jupyter-widgets/base",
          "model_name": "LayoutModel",
          "model_module_version": "1.2.0",
          "state": {
            "_model_module": "@jupyter-widgets/base",
            "_model_module_version": "1.2.0",
            "_model_name": "LayoutModel",
            "_view_count": null,
            "_view_module": "@jupyter-widgets/base",
            "_view_module_version": "1.2.0",
            "_view_name": "LayoutView",
            "align_content": null,
            "align_items": null,
            "align_self": null,
            "border": null,
            "bottom": null,
            "display": null,
            "flex": null,
            "flex_flow": null,
            "grid_area": null,
            "grid_auto_columns": null,
            "grid_auto_flow": null,
            "grid_auto_rows": null,
            "grid_column": null,
            "grid_gap": null,
            "grid_row": null,
            "grid_template_areas": null,
            "grid_template_columns": null,
            "grid_template_rows": null,
            "height": null,
            "justify_content": null,
            "justify_items": null,
            "left": null,
            "margin": null,
            "max_height": null,
            "max_width": null,
            "min_height": null,
            "min_width": null,
            "object_fit": null,
            "object_position": null,
            "order": null,
            "overflow": null,
            "overflow_x": null,
            "overflow_y": null,
            "padding": null,
            "right": null,
            "top": null,
            "visibility": null,
            "width": null
          }
        },
        "69e1dc52344f4cab9d51d2265fe7204b": {
          "model_module": "@jupyter-widgets/controls",
          "model_name": "DescriptionStyleModel",
          "model_module_version": "1.5.0",
          "state": {
            "_model_module": "@jupyter-widgets/controls",
            "_model_module_version": "1.5.0",
            "_model_name": "DescriptionStyleModel",
            "_view_count": null,
            "_view_module": "@jupyter-widgets/base",
            "_view_module_version": "1.2.0",
            "_view_name": "StyleView",
            "description_width": ""
          }
        },
        "6d48872b3ab646f89dbd98d603e53b93": {
          "model_module": "@jupyter-widgets/base",
          "model_name": "LayoutModel",
          "model_module_version": "1.2.0",
          "state": {
            "_model_module": "@jupyter-widgets/base",
            "_model_module_version": "1.2.0",
            "_model_name": "LayoutModel",
            "_view_count": null,
            "_view_module": "@jupyter-widgets/base",
            "_view_module_version": "1.2.0",
            "_view_name": "LayoutView",
            "align_content": null,
            "align_items": null,
            "align_self": null,
            "border": null,
            "bottom": null,
            "display": null,
            "flex": "2",
            "flex_flow": null,
            "grid_area": null,
            "grid_auto_columns": null,
            "grid_auto_flow": null,
            "grid_auto_rows": null,
            "grid_column": null,
            "grid_gap": null,
            "grid_row": null,
            "grid_template_areas": null,
            "grid_template_columns": null,
            "grid_template_rows": null,
            "height": null,
            "justify_content": null,
            "justify_items": null,
            "left": null,
            "margin": null,
            "max_height": null,
            "max_width": null,
            "min_height": null,
            "min_width": null,
            "object_fit": null,
            "object_position": null,
            "order": null,
            "overflow": null,
            "overflow_x": null,
            "overflow_y": null,
            "padding": null,
            "right": null,
            "top": null,
            "visibility": null,
            "width": null
          }
        },
        "220ded5e3d8c4b518b469c454ed46a41": {
          "model_module": "@jupyter-widgets/controls",
          "model_name": "ProgressStyleModel",
          "model_module_version": "1.5.0",
          "state": {
            "_model_module": "@jupyter-widgets/controls",
            "_model_module_version": "1.5.0",
            "_model_name": "ProgressStyleModel",
            "_view_count": null,
            "_view_module": "@jupyter-widgets/base",
            "_view_module_version": "1.2.0",
            "_view_name": "StyleView",
            "bar_color": null,
            "description_width": ""
          }
        },
        "98bdfb3231ca46a5849ea1de3df557d8": {
          "model_module": "@jupyter-widgets/base",
          "model_name": "LayoutModel",
          "model_module_version": "1.2.0",
          "state": {
            "_model_module": "@jupyter-widgets/base",
            "_model_module_version": "1.2.0",
            "_model_name": "LayoutModel",
            "_view_count": null,
            "_view_module": "@jupyter-widgets/base",
            "_view_module_version": "1.2.0",
            "_view_name": "LayoutView",
            "align_content": null,
            "align_items": null,
            "align_self": null,
            "border": null,
            "bottom": null,
            "display": null,
            "flex": null,
            "flex_flow": null,
            "grid_area": null,
            "grid_auto_columns": null,
            "grid_auto_flow": null,
            "grid_auto_rows": null,
            "grid_column": null,
            "grid_gap": null,
            "grid_row": null,
            "grid_template_areas": null,
            "grid_template_columns": null,
            "grid_template_rows": null,
            "height": null,
            "justify_content": null,
            "justify_items": null,
            "left": null,
            "margin": null,
            "max_height": null,
            "max_width": null,
            "min_height": null,
            "min_width": null,
            "object_fit": null,
            "object_position": null,
            "order": null,
            "overflow": null,
            "overflow_x": null,
            "overflow_y": null,
            "padding": null,
            "right": null,
            "top": null,
            "visibility": null,
            "width": null
          }
        },
        "48a229e590ef4fd8bcce9a53e9b6f771": {
          "model_module": "@jupyter-widgets/controls",
          "model_name": "DescriptionStyleModel",
          "model_module_version": "1.5.0",
          "state": {
            "_model_module": "@jupyter-widgets/controls",
            "_model_module_version": "1.5.0",
            "_model_name": "DescriptionStyleModel",
            "_view_count": null,
            "_view_module": "@jupyter-widgets/base",
            "_view_module_version": "1.2.0",
            "_view_name": "StyleView",
            "description_width": ""
          }
        },
        "78a8ab6dc0b5479d929c28af4db525ce": {
          "model_module": "@jupyter-widgets/controls",
          "model_name": "HBoxModel",
          "model_module_version": "1.5.0",
          "state": {
            "_dom_classes": [],
            "_model_module": "@jupyter-widgets/controls",
            "_model_module_version": "1.5.0",
            "_model_name": "HBoxModel",
            "_view_count": null,
            "_view_module": "@jupyter-widgets/controls",
            "_view_module_version": "1.5.0",
            "_view_name": "HBoxView",
            "box_style": "",
            "children": [
              "IPY_MODEL_d2c595493b2b45a6b2b59c770f950d29",
              "IPY_MODEL_826adc1ef73d464aa5ead83c2e94655d",
              "IPY_MODEL_7a6a6371873c432ea4701dedbe77d1b8"
            ],
            "layout": "IPY_MODEL_9cc96ba3b66945b4b6aa4d9e212cdccc"
          }
        },
        "d2c595493b2b45a6b2b59c770f950d29": {
          "model_module": "@jupyter-widgets/controls",
          "model_name": "HTMLModel",
          "model_module_version": "1.5.0",
          "state": {
            "_dom_classes": [],
            "_model_module": "@jupyter-widgets/controls",
            "_model_module_version": "1.5.0",
            "_model_name": "HTMLModel",
            "_view_count": null,
            "_view_module": "@jupyter-widgets/controls",
            "_view_module_version": "1.5.0",
            "_view_name": "HTMLView",
            "description": "",
            "description_tooltip": null,
            "layout": "IPY_MODEL_f6472df9617f47b296efe3f0afbb193f",
            "placeholder": "​",
            "style": "IPY_MODEL_e16839b123914c0591578289b27c6006",
            "value": "Validation DataLoader 0: 100%"
          }
        },
        "826adc1ef73d464aa5ead83c2e94655d": {
          "model_module": "@jupyter-widgets/controls",
          "model_name": "FloatProgressModel",
          "model_module_version": "1.5.0",
          "state": {
            "_dom_classes": [],
            "_model_module": "@jupyter-widgets/controls",
            "_model_module_version": "1.5.0",
            "_model_name": "FloatProgressModel",
            "_view_count": null,
            "_view_module": "@jupyter-widgets/controls",
            "_view_module_version": "1.5.0",
            "_view_name": "ProgressView",
            "bar_style": "",
            "description": "",
            "description_tooltip": null,
            "layout": "IPY_MODEL_de9508be284046739ac971887bae5fde",
            "max": 1,
            "min": 0,
            "orientation": "horizontal",
            "style": "IPY_MODEL_9ffc3a3a89674514976a51ae0e861046",
            "value": 1
          }
        },
        "7a6a6371873c432ea4701dedbe77d1b8": {
          "model_module": "@jupyter-widgets/controls",
          "model_name": "HTMLModel",
          "model_module_version": "1.5.0",
          "state": {
            "_dom_classes": [],
            "_model_module": "@jupyter-widgets/controls",
            "_model_module_version": "1.5.0",
            "_model_name": "HTMLModel",
            "_view_count": null,
            "_view_module": "@jupyter-widgets/controls",
            "_view_module_version": "1.5.0",
            "_view_name": "HTMLView",
            "description": "",
            "description_tooltip": null,
            "layout": "IPY_MODEL_4a6e32cce9214e5284426e6fe7096bd3",
            "placeholder": "​",
            "style": "IPY_MODEL_11467f7e40a14a15bfb09e88bbcf3e06",
            "value": " 1/1 [00:00&lt;00:00, 822.90it/s]"
          }
        },
        "9cc96ba3b66945b4b6aa4d9e212cdccc": {
          "model_module": "@jupyter-widgets/base",
          "model_name": "LayoutModel",
          "model_module_version": "1.2.0",
          "state": {
            "_model_module": "@jupyter-widgets/base",
            "_model_module_version": "1.2.0",
            "_model_name": "LayoutModel",
            "_view_count": null,
            "_view_module": "@jupyter-widgets/base",
            "_view_module_version": "1.2.0",
            "_view_name": "LayoutView",
            "align_content": null,
            "align_items": null,
            "align_self": null,
            "border": null,
            "bottom": null,
            "display": "inline-flex",
            "flex": null,
            "flex_flow": "row wrap",
            "grid_area": null,
            "grid_auto_columns": null,
            "grid_auto_flow": null,
            "grid_auto_rows": null,
            "grid_column": null,
            "grid_gap": null,
            "grid_row": null,
            "grid_template_areas": null,
            "grid_template_columns": null,
            "grid_template_rows": null,
            "height": null,
            "justify_content": null,
            "justify_items": null,
            "left": null,
            "margin": null,
            "max_height": null,
            "max_width": null,
            "min_height": null,
            "min_width": null,
            "object_fit": null,
            "object_position": null,
            "order": null,
            "overflow": null,
            "overflow_x": null,
            "overflow_y": null,
            "padding": null,
            "right": null,
            "top": null,
            "visibility": "hidden",
            "width": "100%"
          }
        },
        "f6472df9617f47b296efe3f0afbb193f": {
          "model_module": "@jupyter-widgets/base",
          "model_name": "LayoutModel",
          "model_module_version": "1.2.0",
          "state": {
            "_model_module": "@jupyter-widgets/base",
            "_model_module_version": "1.2.0",
            "_model_name": "LayoutModel",
            "_view_count": null,
            "_view_module": "@jupyter-widgets/base",
            "_view_module_version": "1.2.0",
            "_view_name": "LayoutView",
            "align_content": null,
            "align_items": null,
            "align_self": null,
            "border": null,
            "bottom": null,
            "display": null,
            "flex": null,
            "flex_flow": null,
            "grid_area": null,
            "grid_auto_columns": null,
            "grid_auto_flow": null,
            "grid_auto_rows": null,
            "grid_column": null,
            "grid_gap": null,
            "grid_row": null,
            "grid_template_areas": null,
            "grid_template_columns": null,
            "grid_template_rows": null,
            "height": null,
            "justify_content": null,
            "justify_items": null,
            "left": null,
            "margin": null,
            "max_height": null,
            "max_width": null,
            "min_height": null,
            "min_width": null,
            "object_fit": null,
            "object_position": null,
            "order": null,
            "overflow": null,
            "overflow_x": null,
            "overflow_y": null,
            "padding": null,
            "right": null,
            "top": null,
            "visibility": null,
            "width": null
          }
        },
        "e16839b123914c0591578289b27c6006": {
          "model_module": "@jupyter-widgets/controls",
          "model_name": "DescriptionStyleModel",
          "model_module_version": "1.5.0",
          "state": {
            "_model_module": "@jupyter-widgets/controls",
            "_model_module_version": "1.5.0",
            "_model_name": "DescriptionStyleModel",
            "_view_count": null,
            "_view_module": "@jupyter-widgets/base",
            "_view_module_version": "1.2.0",
            "_view_name": "StyleView",
            "description_width": ""
          }
        },
        "de9508be284046739ac971887bae5fde": {
          "model_module": "@jupyter-widgets/base",
          "model_name": "LayoutModel",
          "model_module_version": "1.2.0",
          "state": {
            "_model_module": "@jupyter-widgets/base",
            "_model_module_version": "1.2.0",
            "_model_name": "LayoutModel",
            "_view_count": null,
            "_view_module": "@jupyter-widgets/base",
            "_view_module_version": "1.2.0",
            "_view_name": "LayoutView",
            "align_content": null,
            "align_items": null,
            "align_self": null,
            "border": null,
            "bottom": null,
            "display": null,
            "flex": "2",
            "flex_flow": null,
            "grid_area": null,
            "grid_auto_columns": null,
            "grid_auto_flow": null,
            "grid_auto_rows": null,
            "grid_column": null,
            "grid_gap": null,
            "grid_row": null,
            "grid_template_areas": null,
            "grid_template_columns": null,
            "grid_template_rows": null,
            "height": null,
            "justify_content": null,
            "justify_items": null,
            "left": null,
            "margin": null,
            "max_height": null,
            "max_width": null,
            "min_height": null,
            "min_width": null,
            "object_fit": null,
            "object_position": null,
            "order": null,
            "overflow": null,
            "overflow_x": null,
            "overflow_y": null,
            "padding": null,
            "right": null,
            "top": null,
            "visibility": null,
            "width": null
          }
        },
        "9ffc3a3a89674514976a51ae0e861046": {
          "model_module": "@jupyter-widgets/controls",
          "model_name": "ProgressStyleModel",
          "model_module_version": "1.5.0",
          "state": {
            "_model_module": "@jupyter-widgets/controls",
            "_model_module_version": "1.5.0",
            "_model_name": "ProgressStyleModel",
            "_view_count": null,
            "_view_module": "@jupyter-widgets/base",
            "_view_module_version": "1.2.0",
            "_view_name": "StyleView",
            "bar_color": null,
            "description_width": ""
          }
        },
        "4a6e32cce9214e5284426e6fe7096bd3": {
          "model_module": "@jupyter-widgets/base",
          "model_name": "LayoutModel",
          "model_module_version": "1.2.0",
          "state": {
            "_model_module": "@jupyter-widgets/base",
            "_model_module_version": "1.2.0",
            "_model_name": "LayoutModel",
            "_view_count": null,
            "_view_module": "@jupyter-widgets/base",
            "_view_module_version": "1.2.0",
            "_view_name": "LayoutView",
            "align_content": null,
            "align_items": null,
            "align_self": null,
            "border": null,
            "bottom": null,
            "display": null,
            "flex": null,
            "flex_flow": null,
            "grid_area": null,
            "grid_auto_columns": null,
            "grid_auto_flow": null,
            "grid_auto_rows": null,
            "grid_column": null,
            "grid_gap": null,
            "grid_row": null,
            "grid_template_areas": null,
            "grid_template_columns": null,
            "grid_template_rows": null,
            "height": null,
            "justify_content": null,
            "justify_items": null,
            "left": null,
            "margin": null,
            "max_height": null,
            "max_width": null,
            "min_height": null,
            "min_width": null,
            "object_fit": null,
            "object_position": null,
            "order": null,
            "overflow": null,
            "overflow_x": null,
            "overflow_y": null,
            "padding": null,
            "right": null,
            "top": null,
            "visibility": null,
            "width": null
          }
        },
        "11467f7e40a14a15bfb09e88bbcf3e06": {
          "model_module": "@jupyter-widgets/controls",
          "model_name": "DescriptionStyleModel",
          "model_module_version": "1.5.0",
          "state": {
            "_model_module": "@jupyter-widgets/controls",
            "_model_module_version": "1.5.0",
            "_model_name": "DescriptionStyleModel",
            "_view_count": null,
            "_view_module": "@jupyter-widgets/base",
            "_view_module_version": "1.2.0",
            "_view_name": "StyleView",
            "description_width": ""
          }
        },
        "76ec5c65309d42cfac8d323e7dfd896c": {
          "model_module": "@jupyter-widgets/controls",
          "model_name": "HBoxModel",
          "model_module_version": "1.5.0",
          "state": {
            "_dom_classes": [],
            "_model_module": "@jupyter-widgets/controls",
            "_model_module_version": "1.5.0",
            "_model_name": "HBoxModel",
            "_view_count": null,
            "_view_module": "@jupyter-widgets/controls",
            "_view_module_version": "1.5.0",
            "_view_name": "HBoxView",
            "box_style": "",
            "children": [
              "IPY_MODEL_e292cb7ad7c34fe1b7df94cb61ff40bd",
              "IPY_MODEL_3c8dcbe721b046c8a9815cbc814afbfd",
              "IPY_MODEL_89a45686a14e4ffa9b58454d6b7283c4"
            ],
            "layout": "IPY_MODEL_c37a662b143a466d8756d1815c6b8a05"
          }
        },
        "e292cb7ad7c34fe1b7df94cb61ff40bd": {
          "model_module": "@jupyter-widgets/controls",
          "model_name": "HTMLModel",
          "model_module_version": "1.5.0",
          "state": {
            "_dom_classes": [],
            "_model_module": "@jupyter-widgets/controls",
            "_model_module_version": "1.5.0",
            "_model_name": "HTMLModel",
            "_view_count": null,
            "_view_module": "@jupyter-widgets/controls",
            "_view_module_version": "1.5.0",
            "_view_name": "HTMLView",
            "description": "",
            "description_tooltip": null,
            "layout": "IPY_MODEL_34d626d589524aeeb3288945c2b45db6",
            "placeholder": "​",
            "style": "IPY_MODEL_08ddca28a8f9411888c994ce61716803",
            "value": "Predicting DataLoader 0: 100%"
          }
        },
        "3c8dcbe721b046c8a9815cbc814afbfd": {
          "model_module": "@jupyter-widgets/controls",
          "model_name": "FloatProgressModel",
          "model_module_version": "1.5.0",
          "state": {
            "_dom_classes": [],
            "_model_module": "@jupyter-widgets/controls",
            "_model_module_version": "1.5.0",
            "_model_name": "FloatProgressModel",
            "_view_count": null,
            "_view_module": "@jupyter-widgets/controls",
            "_view_module_version": "1.5.0",
            "_view_name": "ProgressView",
            "bar_style": "success",
            "description": "",
            "description_tooltip": null,
            "layout": "IPY_MODEL_fe568d1938374146a890dd4e57b5c51d",
            "max": 1,
            "min": 0,
            "orientation": "horizontal",
            "style": "IPY_MODEL_686ce728714440718aece5971a32f004",
            "value": 1
          }
        },
        "89a45686a14e4ffa9b58454d6b7283c4": {
          "model_module": "@jupyter-widgets/controls",
          "model_name": "HTMLModel",
          "model_module_version": "1.5.0",
          "state": {
            "_dom_classes": [],
            "_model_module": "@jupyter-widgets/controls",
            "_model_module_version": "1.5.0",
            "_model_name": "HTMLModel",
            "_view_count": null,
            "_view_module": "@jupyter-widgets/controls",
            "_view_module_version": "1.5.0",
            "_view_name": "HTMLView",
            "description": "",
            "description_tooltip": null,
            "layout": "IPY_MODEL_01060ddea58a43ffacf4a6976b82a2b9",
            "placeholder": "​",
            "style": "IPY_MODEL_5079d73e6aaf4452ae631fb7e4a7920a",
            "value": " 1/1 [00:00&lt;00:00,  6.42it/s]"
          }
        },
        "c37a662b143a466d8756d1815c6b8a05": {
          "model_module": "@jupyter-widgets/base",
          "model_name": "LayoutModel",
          "model_module_version": "1.2.0",
          "state": {
            "_model_module": "@jupyter-widgets/base",
            "_model_module_version": "1.2.0",
            "_model_name": "LayoutModel",
            "_view_count": null,
            "_view_module": "@jupyter-widgets/base",
            "_view_module_version": "1.2.0",
            "_view_name": "LayoutView",
            "align_content": null,
            "align_items": null,
            "align_self": null,
            "border": null,
            "bottom": null,
            "display": "inline-flex",
            "flex": null,
            "flex_flow": "row wrap",
            "grid_area": null,
            "grid_auto_columns": null,
            "grid_auto_flow": null,
            "grid_auto_rows": null,
            "grid_column": null,
            "grid_gap": null,
            "grid_row": null,
            "grid_template_areas": null,
            "grid_template_columns": null,
            "grid_template_rows": null,
            "height": null,
            "justify_content": null,
            "justify_items": null,
            "left": null,
            "margin": null,
            "max_height": null,
            "max_width": null,
            "min_height": null,
            "min_width": null,
            "object_fit": null,
            "object_position": null,
            "order": null,
            "overflow": null,
            "overflow_x": null,
            "overflow_y": null,
            "padding": null,
            "right": null,
            "top": null,
            "visibility": null,
            "width": "100%"
          }
        },
        "34d626d589524aeeb3288945c2b45db6": {
          "model_module": "@jupyter-widgets/base",
          "model_name": "LayoutModel",
          "model_module_version": "1.2.0",
          "state": {
            "_model_module": "@jupyter-widgets/base",
            "_model_module_version": "1.2.0",
            "_model_name": "LayoutModel",
            "_view_count": null,
            "_view_module": "@jupyter-widgets/base",
            "_view_module_version": "1.2.0",
            "_view_name": "LayoutView",
            "align_content": null,
            "align_items": null,
            "align_self": null,
            "border": null,
            "bottom": null,
            "display": null,
            "flex": null,
            "flex_flow": null,
            "grid_area": null,
            "grid_auto_columns": null,
            "grid_auto_flow": null,
            "grid_auto_rows": null,
            "grid_column": null,
            "grid_gap": null,
            "grid_row": null,
            "grid_template_areas": null,
            "grid_template_columns": null,
            "grid_template_rows": null,
            "height": null,
            "justify_content": null,
            "justify_items": null,
            "left": null,
            "margin": null,
            "max_height": null,
            "max_width": null,
            "min_height": null,
            "min_width": null,
            "object_fit": null,
            "object_position": null,
            "order": null,
            "overflow": null,
            "overflow_x": null,
            "overflow_y": null,
            "padding": null,
            "right": null,
            "top": null,
            "visibility": null,
            "width": null
          }
        },
        "08ddca28a8f9411888c994ce61716803": {
          "model_module": "@jupyter-widgets/controls",
          "model_name": "DescriptionStyleModel",
          "model_module_version": "1.5.0",
          "state": {
            "_model_module": "@jupyter-widgets/controls",
            "_model_module_version": "1.5.0",
            "_model_name": "DescriptionStyleModel",
            "_view_count": null,
            "_view_module": "@jupyter-widgets/base",
            "_view_module_version": "1.2.0",
            "_view_name": "StyleView",
            "description_width": ""
          }
        },
        "fe568d1938374146a890dd4e57b5c51d": {
          "model_module": "@jupyter-widgets/base",
          "model_name": "LayoutModel",
          "model_module_version": "1.2.0",
          "state": {
            "_model_module": "@jupyter-widgets/base",
            "_model_module_version": "1.2.0",
            "_model_name": "LayoutModel",
            "_view_count": null,
            "_view_module": "@jupyter-widgets/base",
            "_view_module_version": "1.2.0",
            "_view_name": "LayoutView",
            "align_content": null,
            "align_items": null,
            "align_self": null,
            "border": null,
            "bottom": null,
            "display": null,
            "flex": "2",
            "flex_flow": null,
            "grid_area": null,
            "grid_auto_columns": null,
            "grid_auto_flow": null,
            "grid_auto_rows": null,
            "grid_column": null,
            "grid_gap": null,
            "grid_row": null,
            "grid_template_areas": null,
            "grid_template_columns": null,
            "grid_template_rows": null,
            "height": null,
            "justify_content": null,
            "justify_items": null,
            "left": null,
            "margin": null,
            "max_height": null,
            "max_width": null,
            "min_height": null,
            "min_width": null,
            "object_fit": null,
            "object_position": null,
            "order": null,
            "overflow": null,
            "overflow_x": null,
            "overflow_y": null,
            "padding": null,
            "right": null,
            "top": null,
            "visibility": null,
            "width": null
          }
        },
        "686ce728714440718aece5971a32f004": {
          "model_module": "@jupyter-widgets/controls",
          "model_name": "ProgressStyleModel",
          "model_module_version": "1.5.0",
          "state": {
            "_model_module": "@jupyter-widgets/controls",
            "_model_module_version": "1.5.0",
            "_model_name": "ProgressStyleModel",
            "_view_count": null,
            "_view_module": "@jupyter-widgets/base",
            "_view_module_version": "1.2.0",
            "_view_name": "StyleView",
            "bar_color": null,
            "description_width": ""
          }
        },
        "01060ddea58a43ffacf4a6976b82a2b9": {
          "model_module": "@jupyter-widgets/base",
          "model_name": "LayoutModel",
          "model_module_version": "1.2.0",
          "state": {
            "_model_module": "@jupyter-widgets/base",
            "_model_module_version": "1.2.0",
            "_model_name": "LayoutModel",
            "_view_count": null,
            "_view_module": "@jupyter-widgets/base",
            "_view_module_version": "1.2.0",
            "_view_name": "LayoutView",
            "align_content": null,
            "align_items": null,
            "align_self": null,
            "border": null,
            "bottom": null,
            "display": null,
            "flex": null,
            "flex_flow": null,
            "grid_area": null,
            "grid_auto_columns": null,
            "grid_auto_flow": null,
            "grid_auto_rows": null,
            "grid_column": null,
            "grid_gap": null,
            "grid_row": null,
            "grid_template_areas": null,
            "grid_template_columns": null,
            "grid_template_rows": null,
            "height": null,
            "justify_content": null,
            "justify_items": null,
            "left": null,
            "margin": null,
            "max_height": null,
            "max_width": null,
            "min_height": null,
            "min_width": null,
            "object_fit": null,
            "object_position": null,
            "order": null,
            "overflow": null,
            "overflow_x": null,
            "overflow_y": null,
            "padding": null,
            "right": null,
            "top": null,
            "visibility": null,
            "width": null
          }
        },
        "5079d73e6aaf4452ae631fb7e4a7920a": {
          "model_module": "@jupyter-widgets/controls",
          "model_name": "DescriptionStyleModel",
          "model_module_version": "1.5.0",
          "state": {
            "_model_module": "@jupyter-widgets/controls",
            "_model_module_version": "1.5.0",
            "_model_name": "DescriptionStyleModel",
            "_view_count": null,
            "_view_module": "@jupyter-widgets/base",
            "_view_module_version": "1.2.0",
            "_view_name": "StyleView",
            "description_width": ""
          }
        }
      }
    }
  },
  "cells": [
    {
      "cell_type": "code",
      "source": [
        "#!pip install neuralforecast"
      ],
      "metadata": {
        "id": "7ZI3F5d3Kryg"
      },
      "execution_count": 122,
      "outputs": []
    },
    {
      "cell_type": "markdown",
      "source": [
        "# **LIBRARY PREPARATION**"
      ],
      "metadata": {
        "id": "BGekASjU1fw-"
      }
    },
    {
      "cell_type": "code",
      "source": [
        "import numpy as np\n",
        "import pandas as pd\n",
        "import pytorch_lightning as pl\n",
        "import matplotlib.pyplot as plt\n",
        "\n",
        "from neuralforecast import NeuralForecast\n",
        "from neuralforecast.models import MLP, FEDformer\n",
        "from neuralforecast.losses.pytorch import MQLoss, DistributionLoss, MSE, MAE\n",
        "from neuralforecast.tsdataset import TimeSeriesDataset\n",
        "\n",
        "from datetime import datetime, timedelta\n",
        "from sklearn.metrics import mean_absolute_error, mean_squared_error, mean_absolute_percentage_error\n",
        "\n",
        "from scipy.signal import savgol_filter"
      ],
      "metadata": {
        "id": "Xpt1KrtZ8T35"
      },
      "execution_count": 123,
      "outputs": []
    },
    {
      "cell_type": "markdown",
      "source": [
        "# **DIG DATA PREPARATION**"
      ],
      "metadata": {
        "id": "o8r2NeqR1Zbq"
      }
    },
    {
      "cell_type": "code",
      "source": [
        "# Read Data\n",
        "df = pd.read_csv('DIG Historical Data 1_6 Fed.csv')"
      ],
      "metadata": {
        "id": "nogaQrOf9byt"
      },
      "execution_count": 124,
      "outputs": []
    },
    {
      "cell_type": "code",
      "source": [
        "# Add ID constraint\n",
        "df1 = df\n",
        "df1['unique_id'] = 'DIG'\n",
        "\n",
        "# Reorder columns\n",
        "df1 = df1[['unique_id', 'Date', 'Price']]\n",
        "\n",
        "# Rename\n",
        "df1.rename(columns={'Date': 'ds', 'Price': 'y'}, inplace=True)\n",
        "df1"
      ],
      "metadata": {
        "id": "Jo5stpuL9cM8",
        "colab": {
          "base_uri": "https://localhost:8080/",
          "height": 423
        },
        "outputId": "4e466fae-fce6-4d1e-9cb8-30afc5d9d465"
      },
      "execution_count": 125,
      "outputs": [
        {
          "output_type": "execute_result",
          "data": {
            "text/plain": [
              "     unique_id          ds         y\n",
              "0          DIG  2018-01-02  11033.20\n",
              "1          DIG  2018-01-03  11457.60\n",
              "2          DIG  2018-01-04  12094.10\n",
              "3          DIG  2018-01-05  12094.10\n",
              "4          DIG  2018-01-06  11669.75\n",
              "...        ...         ...       ...\n",
              "2338       DIG  2024-05-28  27850.00\n",
              "2339       DIG  2024-05-29  27950.00\n",
              "2340       DIG  2024-05-30  27600.00\n",
              "2341       DIG  2024-05-31  27750.00\n",
              "2342       DIG  2024-06-01  27700.00\n",
              "\n",
              "[2343 rows x 3 columns]"
            ],
            "text/html": [
              "\n",
              "  <div id=\"df-d176f603-0498-44e2-82ee-ba3c5b047775\" class=\"colab-df-container\">\n",
              "    <div>\n",
              "<style scoped>\n",
              "    .dataframe tbody tr th:only-of-type {\n",
              "        vertical-align: middle;\n",
              "    }\n",
              "\n",
              "    .dataframe tbody tr th {\n",
              "        vertical-align: top;\n",
              "    }\n",
              "\n",
              "    .dataframe thead th {\n",
              "        text-align: right;\n",
              "    }\n",
              "</style>\n",
              "<table border=\"1\" class=\"dataframe\">\n",
              "  <thead>\n",
              "    <tr style=\"text-align: right;\">\n",
              "      <th></th>\n",
              "      <th>unique_id</th>\n",
              "      <th>ds</th>\n",
              "      <th>y</th>\n",
              "    </tr>\n",
              "  </thead>\n",
              "  <tbody>\n",
              "    <tr>\n",
              "      <th>0</th>\n",
              "      <td>DIG</td>\n",
              "      <td>2018-01-02</td>\n",
              "      <td>11033.20</td>\n",
              "    </tr>\n",
              "    <tr>\n",
              "      <th>1</th>\n",
              "      <td>DIG</td>\n",
              "      <td>2018-01-03</td>\n",
              "      <td>11457.60</td>\n",
              "    </tr>\n",
              "    <tr>\n",
              "      <th>2</th>\n",
              "      <td>DIG</td>\n",
              "      <td>2018-01-04</td>\n",
              "      <td>12094.10</td>\n",
              "    </tr>\n",
              "    <tr>\n",
              "      <th>3</th>\n",
              "      <td>DIG</td>\n",
              "      <td>2018-01-05</td>\n",
              "      <td>12094.10</td>\n",
              "    </tr>\n",
              "    <tr>\n",
              "      <th>4</th>\n",
              "      <td>DIG</td>\n",
              "      <td>2018-01-06</td>\n",
              "      <td>11669.75</td>\n",
              "    </tr>\n",
              "    <tr>\n",
              "      <th>...</th>\n",
              "      <td>...</td>\n",
              "      <td>...</td>\n",
              "      <td>...</td>\n",
              "    </tr>\n",
              "    <tr>\n",
              "      <th>2338</th>\n",
              "      <td>DIG</td>\n",
              "      <td>2024-05-28</td>\n",
              "      <td>27850.00</td>\n",
              "    </tr>\n",
              "    <tr>\n",
              "      <th>2339</th>\n",
              "      <td>DIG</td>\n",
              "      <td>2024-05-29</td>\n",
              "      <td>27950.00</td>\n",
              "    </tr>\n",
              "    <tr>\n",
              "      <th>2340</th>\n",
              "      <td>DIG</td>\n",
              "      <td>2024-05-30</td>\n",
              "      <td>27600.00</td>\n",
              "    </tr>\n",
              "    <tr>\n",
              "      <th>2341</th>\n",
              "      <td>DIG</td>\n",
              "      <td>2024-05-31</td>\n",
              "      <td>27750.00</td>\n",
              "    </tr>\n",
              "    <tr>\n",
              "      <th>2342</th>\n",
              "      <td>DIG</td>\n",
              "      <td>2024-06-01</td>\n",
              "      <td>27700.00</td>\n",
              "    </tr>\n",
              "  </tbody>\n",
              "</table>\n",
              "<p>2343 rows × 3 columns</p>\n",
              "</div>\n",
              "    <div class=\"colab-df-buttons\">\n",
              "\n",
              "  <div class=\"colab-df-container\">\n",
              "    <button class=\"colab-df-convert\" onclick=\"convertToInteractive('df-d176f603-0498-44e2-82ee-ba3c5b047775')\"\n",
              "            title=\"Convert this dataframe to an interactive table.\"\n",
              "            style=\"display:none;\">\n",
              "\n",
              "  <svg xmlns=\"http://www.w3.org/2000/svg\" height=\"24px\" viewBox=\"0 -960 960 960\">\n",
              "    <path d=\"M120-120v-720h720v720H120Zm60-500h600v-160H180v160Zm220 220h160v-160H400v160Zm0 220h160v-160H400v160ZM180-400h160v-160H180v160Zm440 0h160v-160H620v160ZM180-180h160v-160H180v160Zm440 0h160v-160H620v160Z\"/>\n",
              "  </svg>\n",
              "    </button>\n",
              "\n",
              "  <style>\n",
              "    .colab-df-container {\n",
              "      display:flex;\n",
              "      gap: 12px;\n",
              "    }\n",
              "\n",
              "    .colab-df-convert {\n",
              "      background-color: #E8F0FE;\n",
              "      border: none;\n",
              "      border-radius: 50%;\n",
              "      cursor: pointer;\n",
              "      display: none;\n",
              "      fill: #1967D2;\n",
              "      height: 32px;\n",
              "      padding: 0 0 0 0;\n",
              "      width: 32px;\n",
              "    }\n",
              "\n",
              "    .colab-df-convert:hover {\n",
              "      background-color: #E2EBFA;\n",
              "      box-shadow: 0px 1px 2px rgba(60, 64, 67, 0.3), 0px 1px 3px 1px rgba(60, 64, 67, 0.15);\n",
              "      fill: #174EA6;\n",
              "    }\n",
              "\n",
              "    .colab-df-buttons div {\n",
              "      margin-bottom: 4px;\n",
              "    }\n",
              "\n",
              "    [theme=dark] .colab-df-convert {\n",
              "      background-color: #3B4455;\n",
              "      fill: #D2E3FC;\n",
              "    }\n",
              "\n",
              "    [theme=dark] .colab-df-convert:hover {\n",
              "      background-color: #434B5C;\n",
              "      box-shadow: 0px 1px 3px 1px rgba(0, 0, 0, 0.15);\n",
              "      filter: drop-shadow(0px 1px 2px rgba(0, 0, 0, 0.3));\n",
              "      fill: #FFFFFF;\n",
              "    }\n",
              "  </style>\n",
              "\n",
              "    <script>\n",
              "      const buttonEl =\n",
              "        document.querySelector('#df-d176f603-0498-44e2-82ee-ba3c5b047775 button.colab-df-convert');\n",
              "      buttonEl.style.display =\n",
              "        google.colab.kernel.accessAllowed ? 'block' : 'none';\n",
              "\n",
              "      async function convertToInteractive(key) {\n",
              "        const element = document.querySelector('#df-d176f603-0498-44e2-82ee-ba3c5b047775');\n",
              "        const dataTable =\n",
              "          await google.colab.kernel.invokeFunction('convertToInteractive',\n",
              "                                                    [key], {});\n",
              "        if (!dataTable) return;\n",
              "\n",
              "        const docLinkHtml = 'Like what you see? Visit the ' +\n",
              "          '<a target=\"_blank\" href=https://colab.research.google.com/notebooks/data_table.ipynb>data table notebook</a>'\n",
              "          + ' to learn more about interactive tables.';\n",
              "        element.innerHTML = '';\n",
              "        dataTable['output_type'] = 'display_data';\n",
              "        await google.colab.output.renderOutput(dataTable, element);\n",
              "        const docLink = document.createElement('div');\n",
              "        docLink.innerHTML = docLinkHtml;\n",
              "        element.appendChild(docLink);\n",
              "      }\n",
              "    </script>\n",
              "  </div>\n",
              "\n",
              "\n",
              "<div id=\"df-3018b15f-5d83-4298-ac6d-90e967b36cab\">\n",
              "  <button class=\"colab-df-quickchart\" onclick=\"quickchart('df-3018b15f-5d83-4298-ac6d-90e967b36cab')\"\n",
              "            title=\"Suggest charts\"\n",
              "            style=\"display:none;\">\n",
              "\n",
              "<svg xmlns=\"http://www.w3.org/2000/svg\" height=\"24px\"viewBox=\"0 0 24 24\"\n",
              "     width=\"24px\">\n",
              "    <g>\n",
              "        <path d=\"M19 3H5c-1.1 0-2 .9-2 2v14c0 1.1.9 2 2 2h14c1.1 0 2-.9 2-2V5c0-1.1-.9-2-2-2zM9 17H7v-7h2v7zm4 0h-2V7h2v10zm4 0h-2v-4h2v4z\"/>\n",
              "    </g>\n",
              "</svg>\n",
              "  </button>\n",
              "\n",
              "<style>\n",
              "  .colab-df-quickchart {\n",
              "      --bg-color: #E8F0FE;\n",
              "      --fill-color: #1967D2;\n",
              "      --hover-bg-color: #E2EBFA;\n",
              "      --hover-fill-color: #174EA6;\n",
              "      --disabled-fill-color: #AAA;\n",
              "      --disabled-bg-color: #DDD;\n",
              "  }\n",
              "\n",
              "  [theme=dark] .colab-df-quickchart {\n",
              "      --bg-color: #3B4455;\n",
              "      --fill-color: #D2E3FC;\n",
              "      --hover-bg-color: #434B5C;\n",
              "      --hover-fill-color: #FFFFFF;\n",
              "      --disabled-bg-color: #3B4455;\n",
              "      --disabled-fill-color: #666;\n",
              "  }\n",
              "\n",
              "  .colab-df-quickchart {\n",
              "    background-color: var(--bg-color);\n",
              "    border: none;\n",
              "    border-radius: 50%;\n",
              "    cursor: pointer;\n",
              "    display: none;\n",
              "    fill: var(--fill-color);\n",
              "    height: 32px;\n",
              "    padding: 0;\n",
              "    width: 32px;\n",
              "  }\n",
              "\n",
              "  .colab-df-quickchart:hover {\n",
              "    background-color: var(--hover-bg-color);\n",
              "    box-shadow: 0 1px 2px rgba(60, 64, 67, 0.3), 0 1px 3px 1px rgba(60, 64, 67, 0.15);\n",
              "    fill: var(--button-hover-fill-color);\n",
              "  }\n",
              "\n",
              "  .colab-df-quickchart-complete:disabled,\n",
              "  .colab-df-quickchart-complete:disabled:hover {\n",
              "    background-color: var(--disabled-bg-color);\n",
              "    fill: var(--disabled-fill-color);\n",
              "    box-shadow: none;\n",
              "  }\n",
              "\n",
              "  .colab-df-spinner {\n",
              "    border: 2px solid var(--fill-color);\n",
              "    border-color: transparent;\n",
              "    border-bottom-color: var(--fill-color);\n",
              "    animation:\n",
              "      spin 1s steps(1) infinite;\n",
              "  }\n",
              "\n",
              "  @keyframes spin {\n",
              "    0% {\n",
              "      border-color: transparent;\n",
              "      border-bottom-color: var(--fill-color);\n",
              "      border-left-color: var(--fill-color);\n",
              "    }\n",
              "    20% {\n",
              "      border-color: transparent;\n",
              "      border-left-color: var(--fill-color);\n",
              "      border-top-color: var(--fill-color);\n",
              "    }\n",
              "    30% {\n",
              "      border-color: transparent;\n",
              "      border-left-color: var(--fill-color);\n",
              "      border-top-color: var(--fill-color);\n",
              "      border-right-color: var(--fill-color);\n",
              "    }\n",
              "    40% {\n",
              "      border-color: transparent;\n",
              "      border-right-color: var(--fill-color);\n",
              "      border-top-color: var(--fill-color);\n",
              "    }\n",
              "    60% {\n",
              "      border-color: transparent;\n",
              "      border-right-color: var(--fill-color);\n",
              "    }\n",
              "    80% {\n",
              "      border-color: transparent;\n",
              "      border-right-color: var(--fill-color);\n",
              "      border-bottom-color: var(--fill-color);\n",
              "    }\n",
              "    90% {\n",
              "      border-color: transparent;\n",
              "      border-bottom-color: var(--fill-color);\n",
              "    }\n",
              "  }\n",
              "</style>\n",
              "\n",
              "  <script>\n",
              "    async function quickchart(key) {\n",
              "      const quickchartButtonEl =\n",
              "        document.querySelector('#' + key + ' button');\n",
              "      quickchartButtonEl.disabled = true;  // To prevent multiple clicks.\n",
              "      quickchartButtonEl.classList.add('colab-df-spinner');\n",
              "      try {\n",
              "        const charts = await google.colab.kernel.invokeFunction(\n",
              "            'suggestCharts', [key], {});\n",
              "      } catch (error) {\n",
              "        console.error('Error during call to suggestCharts:', error);\n",
              "      }\n",
              "      quickchartButtonEl.classList.remove('colab-df-spinner');\n",
              "      quickchartButtonEl.classList.add('colab-df-quickchart-complete');\n",
              "    }\n",
              "    (() => {\n",
              "      let quickchartButtonEl =\n",
              "        document.querySelector('#df-3018b15f-5d83-4298-ac6d-90e967b36cab button');\n",
              "      quickchartButtonEl.style.display =\n",
              "        google.colab.kernel.accessAllowed ? 'block' : 'none';\n",
              "    })();\n",
              "  </script>\n",
              "</div>\n",
              "\n",
              "  <div id=\"id_16bf5cc2-77d7-44f9-af33-4c1b8e7fcf5e\">\n",
              "    <style>\n",
              "      .colab-df-generate {\n",
              "        background-color: #E8F0FE;\n",
              "        border: none;\n",
              "        border-radius: 50%;\n",
              "        cursor: pointer;\n",
              "        display: none;\n",
              "        fill: #1967D2;\n",
              "        height: 32px;\n",
              "        padding: 0 0 0 0;\n",
              "        width: 32px;\n",
              "      }\n",
              "\n",
              "      .colab-df-generate:hover {\n",
              "        background-color: #E2EBFA;\n",
              "        box-shadow: 0px 1px 2px rgba(60, 64, 67, 0.3), 0px 1px 3px 1px rgba(60, 64, 67, 0.15);\n",
              "        fill: #174EA6;\n",
              "      }\n",
              "\n",
              "      [theme=dark] .colab-df-generate {\n",
              "        background-color: #3B4455;\n",
              "        fill: #D2E3FC;\n",
              "      }\n",
              "\n",
              "      [theme=dark] .colab-df-generate:hover {\n",
              "        background-color: #434B5C;\n",
              "        box-shadow: 0px 1px 3px 1px rgba(0, 0, 0, 0.15);\n",
              "        filter: drop-shadow(0px 1px 2px rgba(0, 0, 0, 0.3));\n",
              "        fill: #FFFFFF;\n",
              "      }\n",
              "    </style>\n",
              "    <button class=\"colab-df-generate\" onclick=\"generateWithVariable('df1')\"\n",
              "            title=\"Generate code using this dataframe.\"\n",
              "            style=\"display:none;\">\n",
              "\n",
              "  <svg xmlns=\"http://www.w3.org/2000/svg\" height=\"24px\"viewBox=\"0 0 24 24\"\n",
              "       width=\"24px\">\n",
              "    <path d=\"M7,19H8.4L18.45,9,17,7.55,7,17.6ZM5,21V16.75L18.45,3.32a2,2,0,0,1,2.83,0l1.4,1.43a1.91,1.91,0,0,1,.58,1.4,1.91,1.91,0,0,1-.58,1.4L9.25,21ZM18.45,9,17,7.55Zm-12,3A5.31,5.31,0,0,0,4.9,8.1,5.31,5.31,0,0,0,1,6.5,5.31,5.31,0,0,0,4.9,4.9,5.31,5.31,0,0,0,6.5,1,5.31,5.31,0,0,0,8.1,4.9,5.31,5.31,0,0,0,12,6.5,5.46,5.46,0,0,0,6.5,12Z\"/>\n",
              "  </svg>\n",
              "    </button>\n",
              "    <script>\n",
              "      (() => {\n",
              "      const buttonEl =\n",
              "        document.querySelector('#id_16bf5cc2-77d7-44f9-af33-4c1b8e7fcf5e button.colab-df-generate');\n",
              "      buttonEl.style.display =\n",
              "        google.colab.kernel.accessAllowed ? 'block' : 'none';\n",
              "\n",
              "      buttonEl.onclick = () => {\n",
              "        google.colab.notebook.generateWithVariable('df1');\n",
              "      }\n",
              "      })();\n",
              "    </script>\n",
              "  </div>\n",
              "\n",
              "    </div>\n",
              "  </div>\n"
            ],
            "application/vnd.google.colaboratory.intrinsic+json": {
              "type": "dataframe",
              "variable_name": "df1",
              "summary": "{\n  \"name\": \"df1\",\n  \"rows\": 2343,\n  \"fields\": [\n    {\n      \"column\": \"unique_id\",\n      \"properties\": {\n        \"dtype\": \"category\",\n        \"num_unique_values\": 1,\n        \"samples\": [\n          \"DIG\"\n        ],\n        \"semantic_type\": \"\",\n        \"description\": \"\"\n      }\n    },\n    {\n      \"column\": \"ds\",\n      \"properties\": {\n        \"dtype\": \"object\",\n        \"num_unique_values\": 2343,\n        \"samples\": [\n          \"2018-06-24\"\n        ],\n        \"semantic_type\": \"\",\n        \"description\": \"\"\n      }\n    },\n    {\n      \"column\": \"y\",\n      \"properties\": {\n        \"dtype\": \"number\",\n        \"std\": 16561.60786689235,\n        \"min\": 6591.8,\n        \"max\": 98196.7,\n        \"num_unique_values\": 1270,\n        \"samples\": [\n          26487.5\n        ],\n        \"semantic_type\": \"\",\n        \"description\": \"\"\n      }\n    }\n  ]\n}"
            }
          },
          "metadata": {},
          "execution_count": 125
        }
      ]
    },
    {
      "cell_type": "code",
      "source": [
        "# Change Data Type\n",
        "df1['ds'] = pd.to_datetime(df1['ds'])\n",
        "df1['y'] = df1['y'].astype(float)\n",
        "\n",
        "df1.info()"
      ],
      "metadata": {
        "id": "tVVdbH9G-rgV",
        "colab": {
          "base_uri": "https://localhost:8080/"
        },
        "outputId": "b5873caa-ef2a-4aea-a604-8db0d9fea9a6"
      },
      "execution_count": 126,
      "outputs": [
        {
          "output_type": "stream",
          "name": "stdout",
          "text": [
            "<class 'pandas.core.frame.DataFrame'>\n",
            "RangeIndex: 2343 entries, 0 to 2342\n",
            "Data columns (total 3 columns):\n",
            " #   Column     Non-Null Count  Dtype         \n",
            "---  ------     --------------  -----         \n",
            " 0   unique_id  2343 non-null   object        \n",
            " 1   ds         2343 non-null   datetime64[ns]\n",
            " 2   y          2343 non-null   float64       \n",
            "dtypes: datetime64[ns](1), float64(1), object(1)\n",
            "memory usage: 55.0+ KB\n"
          ]
        }
      ]
    },
    {
      "cell_type": "markdown",
      "source": [
        "# **TRAIN-TEST SPLIT**"
      ],
      "metadata": {
        "id": "dt8vfhVQ1Yn-"
      }
    },
    {
      "cell_type": "code",
      "source": [
        "# Sizing\n",
        "size = int(len(df1))\n",
        "\n",
        "# 9 : 1 Ratio\n",
        "train_data = df1[:int(0.9 *size)]\n",
        "test_data = df1[int(0.9 * size):]\n",
        "train_len = len(train_data)\n",
        "test_len = len(test_data)\n",
        "print(\"Training lenght:\" , train_len)\n",
        "print(\"Test lenght:\" , test_len)"
      ],
      "metadata": {
        "id": "D51KaEZw-4zg",
        "colab": {
          "base_uri": "https://localhost:8080/"
        },
        "outputId": "28770975-b68b-49ec-d9ae-e5106ebce404"
      },
      "execution_count": 127,
      "outputs": [
        {
          "output_type": "stream",
          "name": "stdout",
          "text": [
            "Training lenght: 2108\n",
            "Test lenght: 235\n"
          ]
        }
      ]
    },
    {
      "cell_type": "code",
      "source": [
        "# Train_data MAX Value\n",
        "train_data.max()"
      ],
      "metadata": {
        "id": "1FO1Q9VQ__Nl",
        "colab": {
          "base_uri": "https://localhost:8080/"
        },
        "outputId": "fa4d6bc9-aad3-45b6-8b53-adb941e357ee"
      },
      "execution_count": 128,
      "outputs": [
        {
          "output_type": "execute_result",
          "data": {
            "text/plain": [
              "unique_id                    DIG\n",
              "ds           2023-10-10 00:00:00\n",
              "y                        98196.7\n",
              "dtype: object"
            ]
          },
          "metadata": {},
          "execution_count": 128
        }
      ]
    },
    {
      "cell_type": "markdown",
      "source": [
        "# **TRAINING PROCESSS**"
      ],
      "metadata": {
        "id": "pcPAdyNP1YcG"
      }
    },
    {
      "cell_type": "code",
      "source": [
        "# Model Configuration\n",
        "model = FEDformer(\n",
        "    h=test_len + 90,\n",
        "    input_size = 120,  # 120 Days of input size\n",
        "    modes=64,  # Reduced modes for less complexity\n",
        "    hidden_size=128,  # Increased hidden size\n",
        "    n_head=8,  # Must be set to 8\n",
        "    loss=MAE(),\n",
        "    scaler_type='standard',  # Change the scaler type\n",
        "    learning_rate=1e-3,  # Fine-tune the learning rate\n",
        "    max_steps=100,  # Increase the number of training steps\n",
        "    batch_size=32,  # Adjust batch size\n",
        "    windows_batch_size=256,  # Adjust window batch size\n",
        ")\n",
        "\n",
        "nf = NeuralForecast(\n",
        "    models=[model],\n",
        "    freq='D',\n",
        ")"
      ],
      "metadata": {
        "id": "gdiv9rYDAQzB",
        "colab": {
          "base_uri": "https://localhost:8080/"
        },
        "outputId": "61e00155-6ab4-4526-acf9-6cbf5e369eee"
      },
      "execution_count": 129,
      "outputs": [
        {
          "output_type": "stream",
          "name": "stderr",
          "text": [
            "INFO:lightning_fabric.utilities.seed:Seed set to 1\n"
          ]
        }
      ]
    },
    {
      "cell_type": "code",
      "source": [
        "# Training\n",
        "nf.fit(df=train_data, static_df=None, verbose=True)\n"
      ],
      "metadata": {
        "id": "H17QqywrAVFR",
        "colab": {
          "base_uri": "https://localhost:8080/",
          "height": 468,
          "referenced_widgets": [
            "6cdc668ab7ca45b99ae04d1def37ef15",
            "2b11e39bf9ac40dab7ca394123e971d7",
            "8c6f8737676040789cb78bd937ab1a59",
            "e554c029c1e34d2db1f84c0e0b13fad4",
            "675b087622784e6aa4d223673e5155d8",
            "a374c29301a74470a380cc5b4130df55",
            "1af17a71439a42ee98c3e09fdeaa92cb",
            "d76f91f79bcc45dca1c7d6c932cebf74",
            "882a0cfe80524f8389f118bc1407d8e8",
            "71d62595c30d46bc96ffe1831ba2b0dd",
            "5ccb80fa808e41d686a4221ba284bc8b",
            "df2823be424b44b4955649ef5c7fb4a2",
            "0436f7c2ef734c6eae41a0a1f541490e",
            "a2b55b9608b3451fa9a7a189b268dff9",
            "ce7c3d718f014a82a2c5f34bb93e9d9e",
            "42b82a4d3fcf44f2af3af1b091538eb4",
            "5108e2e38a004c40aa38dedbe7888a53",
            "69e1dc52344f4cab9d51d2265fe7204b",
            "6d48872b3ab646f89dbd98d603e53b93",
            "220ded5e3d8c4b518b469c454ed46a41",
            "98bdfb3231ca46a5849ea1de3df557d8",
            "48a229e590ef4fd8bcce9a53e9b6f771",
            "78a8ab6dc0b5479d929c28af4db525ce",
            "d2c595493b2b45a6b2b59c770f950d29",
            "826adc1ef73d464aa5ead83c2e94655d",
            "7a6a6371873c432ea4701dedbe77d1b8",
            "9cc96ba3b66945b4b6aa4d9e212cdccc",
            "f6472df9617f47b296efe3f0afbb193f",
            "e16839b123914c0591578289b27c6006",
            "de9508be284046739ac971887bae5fde",
            "9ffc3a3a89674514976a51ae0e861046",
            "4a6e32cce9214e5284426e6fe7096bd3",
            "11467f7e40a14a15bfb09e88bbcf3e06"
          ]
        },
        "outputId": "4e10859c-3fa8-4520-c722-470f23b0a54b"
      },
      "execution_count": 130,
      "outputs": [
        {
          "output_type": "stream",
          "name": "stderr",
          "text": [
            "INFO:pytorch_lightning.utilities.rank_zero:GPU available: True (cuda), used: True\n",
            "INFO:pytorch_lightning.utilities.rank_zero:TPU available: False, using: 0 TPU cores\n",
            "INFO:pytorch_lightning.utilities.rank_zero:HPU available: False, using: 0 HPUs\n",
            "INFO:pytorch_lightning.accelerators.cuda:LOCAL_RANK: 0 - CUDA_VISIBLE_DEVICES: [0]\n",
            "INFO:pytorch_lightning.callbacks.model_summary:\n",
            "  | Name          | Type          | Params | Mode \n",
            "--------------------------------------------------------\n",
            "0 | loss          | MAE           | 0      | train\n",
            "1 | padder_train  | ConstantPad1d | 0      | train\n",
            "2 | scaler        | TemporalNorm  | 0      | train\n",
            "3 | decomp        | SeriesDecomp  | 0      | train\n",
            "4 | enc_embedding | DataEmbedding | 384    | train\n",
            "5 | dec_embedding | DataEmbedding | 384    | train\n",
            "6 | encoder       | Encoder       | 271 K  | train\n",
            "7 | decoder       | Decoder       | 403 K  | train\n",
            "--------------------------------------------------------\n",
            "675 K     Trainable params\n",
            "0         Non-trainable params\n",
            "675 K     Total params\n",
            "2.702     Total estimated model params size (MB)\n"
          ]
        },
        {
          "output_type": "display_data",
          "data": {
            "text/plain": [
              "Sanity Checking: |          | 0/? [00:00<?, ?it/s]"
            ],
            "application/vnd.jupyter.widget-view+json": {
              "version_major": 2,
              "version_minor": 0,
              "model_id": "6cdc668ab7ca45b99ae04d1def37ef15"
            }
          },
          "metadata": {}
        },
        {
          "output_type": "display_data",
          "data": {
            "text/plain": [
              "Training: |          | 0/? [00:00<?, ?it/s]"
            ],
            "application/vnd.jupyter.widget-view+json": {
              "version_major": 2,
              "version_minor": 0,
              "model_id": "df2823be424b44b4955649ef5c7fb4a2"
            }
          },
          "metadata": {}
        },
        {
          "output_type": "stream",
          "name": "stderr",
          "text": [
            "/usr/local/lib/python3.10/dist-packages/torch/autograd/graph.py:744: UserWarning: Plan failed with a cudnnException: CUDNN_BACKEND_EXECUTION_PLAN_DESCRIPTOR: cudnnFinalize Descriptor Failed cudnn_status: CUDNN_STATUS_NOT_SUPPORTED (Triggered internally at ../aten/src/ATen/native/cudnn/Conv_v8.cpp:919.)\n",
            "  return Variable._execution_engine.run_backward(  # Calls into the C++ engine to run the backward pass\n"
          ]
        },
        {
          "output_type": "display_data",
          "data": {
            "text/plain": [
              "Validation: |          | 0/? [00:00<?, ?it/s]"
            ],
            "application/vnd.jupyter.widget-view+json": {
              "version_major": 2,
              "version_minor": 0,
              "model_id": "78a8ab6dc0b5479d929c28af4db525ce"
            }
          },
          "metadata": {}
        },
        {
          "output_type": "stream",
          "name": "stderr",
          "text": [
            "INFO:pytorch_lightning.utilities.rank_zero:`Trainer.fit` stopped: `max_steps=100` reached.\n"
          ]
        }
      ]
    },
    {
      "cell_type": "markdown",
      "source": [
        "# **PREDICTION**\n"
      ],
      "metadata": {
        "id": "87ZN80SQ5Nyl"
      }
    },
    {
      "cell_type": "code",
      "source": [
        "forecasts = nf.predict()"
      ],
      "metadata": {
        "colab": {
          "base_uri": "https://localhost:8080/",
          "height": 173,
          "referenced_widgets": [
            "76ec5c65309d42cfac8d323e7dfd896c",
            "e292cb7ad7c34fe1b7df94cb61ff40bd",
            "3c8dcbe721b046c8a9815cbc814afbfd",
            "89a45686a14e4ffa9b58454d6b7283c4",
            "c37a662b143a466d8756d1815c6b8a05",
            "34d626d589524aeeb3288945c2b45db6",
            "08ddca28a8f9411888c994ce61716803",
            "fe568d1938374146a890dd4e57b5c51d",
            "686ce728714440718aece5971a32f004",
            "01060ddea58a43ffacf4a6976b82a2b9",
            "5079d73e6aaf4452ae631fb7e4a7920a"
          ]
        },
        "id": "eMBwUZMyZQ2V",
        "outputId": "f3259f56-8a56-4c27-c291-8fc4062fe808"
      },
      "execution_count": 131,
      "outputs": [
        {
          "output_type": "stream",
          "name": "stderr",
          "text": [
            "INFO:pytorch_lightning.utilities.rank_zero:GPU available: True (cuda), used: True\n",
            "INFO:pytorch_lightning.utilities.rank_zero:TPU available: False, using: 0 TPU cores\n",
            "INFO:pytorch_lightning.utilities.rank_zero:HPU available: False, using: 0 HPUs\n",
            "INFO:pytorch_lightning.accelerators.cuda:LOCAL_RANK: 0 - CUDA_VISIBLE_DEVICES: [0]\n"
          ]
        },
        {
          "output_type": "display_data",
          "data": {
            "text/plain": [
              "Predicting: |          | 0/? [00:00<?, ?it/s]"
            ],
            "application/vnd.jupyter.widget-view+json": {
              "version_major": 2,
              "version_minor": 0,
              "model_id": "76ec5c65309d42cfac8d323e7dfd896c"
            }
          },
          "metadata": {}
        },
        {
          "output_type": "stream",
          "name": "stderr",
          "text": [
            "/usr/local/lib/python3.10/dist-packages/neuralforecast/core.py:196: FutureWarning: In a future version the predictions will have the id as a column. You can set the `NIXTLA_ID_AS_COL` environment variable to adopt the new behavior and to suppress this warning.\n",
            "  warnings.warn(\n"
          ]
        }
      ]
    },
    {
      "cell_type": "code",
      "source": [
        "# Reset Index\n",
        "train = train_data['y']\n",
        "test = test_data['y']\n",
        "\n",
        "train.reset_index(drop=True, inplace=True)\n",
        "test.reset_index(drop=True, inplace=True)\n",
        "\n",
        "predict = forecasts['FEDformer']\n",
        "predict.reset_index(drop=True, inplace=True)"
      ],
      "metadata": {
        "id": "x0FrFileAohg"
      },
      "execution_count": 132,
      "outputs": []
    },
    {
      "cell_type": "code",
      "source": [
        "predict_test = predict[0:test_len]\n",
        "predict_future = predict[test_len:]"
      ],
      "metadata": {
        "id": "pTdUcg-LA8uY"
      },
      "execution_count": 133,
      "outputs": []
    },
    {
      "cell_type": "code",
      "source": [
        "# Order predict_future\n",
        "predict_future_30 = predict_future[:30]\n",
        "predict_future_60 = predict_future[30:60]\n",
        "predict_future_90 = predict_future[60:]"
      ],
      "metadata": {
        "id": "xpr-UR7NDPwZ"
      },
      "execution_count": 134,
      "outputs": []
    },
    {
      "cell_type": "code",
      "source": [
        "# Print Predicted Data\n",
        "print(\"\\nPredicted Data for the next 30 days:\")\n",
        "print(predict_future_30)\n",
        "\n",
        "print(\"\\nPredicted Data for the next 60 days:\")\n",
        "print(predict_future_60)\n",
        "\n",
        "print(\"\\nPredicted Data for the next 90 days:\")\n",
        "print(predict_future_90)"
      ],
      "metadata": {
        "id": "HHCSgTpeCalw",
        "colab": {
          "base_uri": "https://localhost:8080/"
        },
        "outputId": "67806572-6fbf-48d8-a40f-ddfbf205f968"
      },
      "execution_count": 135,
      "outputs": [
        {
          "output_type": "stream",
          "name": "stdout",
          "text": [
            "\n",
            "Predicted Data for the next 30 days:\n",
            "235    25939.722656\n",
            "236    25961.748047\n",
            "237    26102.783203\n",
            "238    27132.697266\n",
            "239    26868.341797\n",
            "240    27180.443359\n",
            "241    28286.695312\n",
            "242    26718.945312\n",
            "243    27586.572266\n",
            "244    27660.234375\n",
            "245    28176.392578\n",
            "246    28397.464844\n",
            "247    28580.347656\n",
            "248    27652.960938\n",
            "249    27553.146484\n",
            "250    27679.496094\n",
            "251    27558.724609\n",
            "252    26951.132812\n",
            "253    27905.597656\n",
            "254    28141.048828\n",
            "255    28596.441406\n",
            "256    28812.632812\n",
            "257    28731.121094\n",
            "258    29172.339844\n",
            "259    29461.968750\n",
            "260    29259.496094\n",
            "261    28669.183594\n",
            "262    28758.410156\n",
            "263    28874.052734\n",
            "264    29156.207031\n",
            "Name: FEDformer, dtype: float32\n",
            "\n",
            "Predicted Data for the next 60 days:\n",
            "265    29550.171875\n",
            "266    30408.814453\n",
            "267    30669.089844\n",
            "268    30068.992188\n",
            "269    30130.843750\n",
            "270    29109.945312\n",
            "271    28388.472656\n",
            "272    28424.197266\n",
            "273    28545.910156\n",
            "274    30197.244141\n",
            "275    30457.167969\n",
            "276    30957.115234\n",
            "277    31268.498047\n",
            "278    30279.796875\n",
            "279    30242.453125\n",
            "280    30248.619141\n",
            "281    30631.136719\n",
            "282    30025.773438\n",
            "283    29800.570312\n",
            "284    29267.585938\n",
            "285    30223.527344\n",
            "286    31321.875000\n",
            "287    31719.853516\n",
            "288    31433.595703\n",
            "289    30751.105469\n",
            "290    31154.484375\n",
            "291    30866.878906\n",
            "292    32098.556641\n",
            "293    31343.767578\n",
            "294    31532.283203\n",
            "Name: FEDformer, dtype: float32\n",
            "\n",
            "Predicted Data for the next 90 days:\n",
            "295    32454.880859\n",
            "296    34857.031250\n",
            "297    34882.105469\n",
            "298    35501.531250\n",
            "299    34647.421875\n",
            "300    34452.347656\n",
            "301    35260.000000\n",
            "302    35855.679688\n",
            "303    35286.757812\n",
            "304    34472.152344\n",
            "305    35073.867188\n",
            "306    35711.562500\n",
            "307    36938.617188\n",
            "308    38466.046875\n",
            "309    40043.976562\n",
            "310    39916.875000\n",
            "311    40130.128906\n",
            "312    38957.718750\n",
            "313    38705.281250\n",
            "314    37526.500000\n",
            "315    36556.937500\n",
            "316    35706.093750\n",
            "317    35265.203125\n",
            "318    35118.222656\n",
            "319    34608.371094\n",
            "320    33962.296875\n",
            "321    33042.511719\n",
            "322    32502.378906\n",
            "323    30886.734375\n",
            "324    29995.728516\n",
            "Name: FEDformer, dtype: float32\n"
          ]
        }
      ]
    },
    {
      "cell_type": "markdown",
      "source": [
        "# **EVALUATION**"
      ],
      "metadata": {
        "id": "iJa5b5uD1YGX"
      }
    },
    {
      "cell_type": "code",
      "source": [
        "mae = mean_absolute_error(test, predict_test)\n",
        "mape = mean_absolute_percentage_error(test, predict_test)\n",
        "mse = mean_squared_error(test, predict_test)\n",
        "rmse = np.sqrt(mean_squared_error(test, predict_test))\n",
        "\n",
        "print(\"Mean Absolute Error (MAE):\", mae)\n",
        "print(\"Mean Absolute Percentage Error (MAPE):\", mape)\n",
        "print(\"Mean Square Error (MSE):\", mse)\n",
        "print(\"Root Mean Square Error (RMSE):\", rmse)"
      ],
      "metadata": {
        "id": "AmOhGtB_BRxR",
        "colab": {
          "base_uri": "https://localhost:8080/"
        },
        "outputId": "39799635-aae5-4a7b-e29e-b80b5ce868c8"
      },
      "execution_count": 136,
      "outputs": [
        {
          "output_type": "stream",
          "name": "stdout",
          "text": [
            "Mean Absolute Error (MAE): 4047.409510749114\n",
            "Mean Absolute Percentage Error (MAPE): 0.14547588042611462\n",
            "Mean Square Error (MSE): 20940767.458313085\n",
            "Root Mean Square Error (RMSE): 4576.10833113827\n"
          ]
        }
      ]
    },
    {
      "cell_type": "markdown",
      "source": [
        "# **VISUALIZATION**"
      ],
      "metadata": {
        "id": "qwEYRmg95sz5"
      }
    },
    {
      "cell_type": "code",
      "source": [
        "# prompt: adding first_value to the last of test\n",
        "first_value = predict_test.iloc[0]\n",
        "train_draw = pd.concat([train, pd.Series([first_value])], ignore_index=True)"
      ],
      "metadata": {
        "id": "x8uSzmsCHIkU"
      },
      "execution_count": 137,
      "outputs": []
    },
    {
      "cell_type": "markdown",
      "source": [
        "**Overall Visualization**"
      ],
      "metadata": {
        "id": "CHVl7gCUHuvM"
      }
    },
    {
      "cell_type": "code",
      "source": [
        "plt.figure(figsize=(16, 9))\n",
        "\n",
        "train_data_index = pd.RangeIndex(start=0, stop=train_len+1, step=1)\n",
        "plt.plot(train_draw)\n",
        "test_data_index = pd.RangeIndex(start=train_len+1, stop=train_len+test_len+1, step=1)\n",
        "plt.plot(test_data_index, test)\n",
        "\n",
        "predict_test_index = pd.RangeIndex(start=train_len+1, stop=train_len+test_len+1, step=1)\n",
        "plt.plot(predict_test_index,(predict_test))\n",
        "\n",
        "predict_future_30_index = pd.RangeIndex(start=train_len+test_len+1, stop=train_len+test_len+31, step=1)\n",
        "plt.plot(predict_future_30_index, predict_future_30)\n",
        "predict_future_60_index = pd.RangeIndex(start=train_len+test_len+31, stop=train_len+test_len+61, step=1)\n",
        "plt.plot(predict_future_60_index, predict_future_60)\n",
        "predict_future_90_index = pd.RangeIndex(start=train_len+test_len+61, stop=train_len+test_len+91, step=1)\n",
        "plt.plot(predict_future_90_index, predict_future_90)\n",
        "\n",
        "plt.legend(['Train', 'Test', 'Predict Test', 'Predict next 30 days', 'Predict next 60 days', 'Predict next 90 days'])\n",
        "plt.xlabel('Time')\n",
        "plt.ylabel('Values')\n",
        "plt.title('Train, Test, and Predictions')\n",
        "plt.show()"
      ],
      "metadata": {
        "id": "7Z-OnsOvHapD",
        "colab": {
          "base_uri": "https://localhost:8080/",
          "height": 662
        },
        "outputId": "6600a393-a46e-4f0f-cdea-fa78470209c4"
      },
      "execution_count": 138,
      "outputs": [
        {
          "output_type": "display_data",
          "data": {
            "text/plain": [
              "<Figure size 1600x900 with 1 Axes>"
            ],
            "image/png": "[encoded data removed]"
          },
          "metadata": {}
        }
      ]
    },
    {
      "cell_type": "markdown",
      "source": [
        "# **---------------------------------------**"
      ],
      "metadata": {
        "id": "3DFjogTo5o4W"
      }
    },
    {
      "cell_type": "markdown",
      "source": [
        "# **POLYNOMINAL SMOOTHING**"
      ],
      "metadata": {
        "id": "WrzaxB4p5XxJ"
      }
    },
    {
      "cell_type": "code",
      "source": [
        "predict_smoothed = savgol_filter(predict, window_length=31, polyorder=3)"
      ],
      "metadata": {
        "id": "deZeHHPbB28s"
      },
      "execution_count": 139,
      "outputs": []
    },
    {
      "cell_type": "markdown",
      "source": [
        "# **RE - PREDICTION**\n"
      ],
      "metadata": {
        "id": "RfIm8SRH5WCd"
      }
    },
    {
      "cell_type": "code",
      "source": [
        "predict_test = predict_smoothed[0:test_len]\n",
        "predict_future = predict_smoothed[test_len:]"
      ],
      "metadata": {
        "id": "87F8WlicB7qo"
      },
      "execution_count": 140,
      "outputs": []
    },
    {
      "cell_type": "code",
      "source": [
        "# Order predict_future\n",
        "predict_future_30 = predict_future[:30]\n",
        "predict_future_60 = predict_future[30:60]\n",
        "predict_future_90 = predict_future[60:]"
      ],
      "metadata": {
        "id": "UD0oRSytJXRk"
      },
      "execution_count": 141,
      "outputs": []
    },
    {
      "cell_type": "code",
      "source": [
        "# Print Predicted Data\n",
        "print(\"\\nPredicted Data for the next 30 days:\")\n",
        "print(predict_future_30)\n",
        "\n",
        "print(\"\\nPredicted Data for the next 60 days:\")\n",
        "print(predict_future_60)\n",
        "\n",
        "print(\"\\nPredicted Data for the next 90 days:\")\n",
        "print(predict_future_90)"
      ],
      "metadata": {
        "id": "u5NUUdzdJf_v",
        "colab": {
          "base_uri": "https://localhost:8080/"
        },
        "outputId": "898e27d1-ed68-4fe3-e057-245fbf0f4df0"
      },
      "execution_count": 142,
      "outputs": [
        {
          "output_type": "stream",
          "name": "stdout",
          "text": [
            "\n",
            "Predicted Data for the next 30 days:\n",
            "[26156.938 26258.29  26406.646 26550.629 26682.05  26826.74  26980.822\n",
            " 27140.035 27300.23  27447.053 27591.938 27739.111 27852.99  27969.24\n",
            " 28042.242 28082.064 28107.223 28124.822 28176.604 28274.607 28403.943\n",
            " 28562.613 28756.938 28849.455 28891.012 28930.53  28985.662 29060.523\n",
            " 29211.764 29322.992]\n",
            "\n",
            "Predicted Data for the next 60 days:\n",
            "[29421.63  29500.865 29592.223 29638.605 29725.328 29755.701 29752.924\n",
            " 29753.78  29776.156 29857.479 29939.188 30030.887 30038.89  30089.893\n",
            " 30133.613 30151.441 30104.525 30155.275 30254.676 30423.314 30644.262\n",
            " 30808.473 30932.07  31096.303 31300.838 31557.451 31816.11  32074.994\n",
            " 32332.092 32533.121]\n",
            "\n",
            "Predicted Data for the next 90 days:\n",
            "[32801.414 33113.105 33539.883 33967.133 34432.23  34879.31  35357.035\n",
            " 35852.76  36321.008 36738.35  37072.22  37371.383 37571.043 37786.926\n",
            " 37871.793 37975.023 38010.65  37972.117 37852.867 37646.355 37346.023\n",
            " 36945.324 36437.7   35816.598 35075.473 34207.76  33206.92  32066.395\n",
            " 30779.629 29340.072]\n"
          ]
        }
      ]
    },
    {
      "cell_type": "markdown",
      "source": [
        "# **RE - EVALUATION**"
      ],
      "metadata": {
        "id": "aBaWpHeV5KQ9"
      }
    },
    {
      "cell_type": "code",
      "source": [
        "mae = mean_absolute_error(test, predict_test)\n",
        "mape = mean_absolute_percentage_error(test, predict_test)\n",
        "mse = mean_squared_error(test, predict_test)\n",
        "rmse = np.sqrt(mean_squared_error(test, predict_test))\n",
        "\n",
        "print(\"Mean Absolute Error (MAE):\", mae)\n",
        "print(\"Mean Absolute Percentage Error (MAPE):\", mape)\n",
        "print(\"Mean Square Error (MSE):\", mse)\n",
        "print(\"Root Mean Square Error (RMSE):\", rmse)"
      ],
      "metadata": {
        "id": "oN_vK83uCFgN",
        "colab": {
          "base_uri": "https://localhost:8080/"
        },
        "outputId": "d730d89b-6a2c-463b-d0b4-043c4fbce2f1"
      },
      "execution_count": 143,
      "outputs": [
        {
          "output_type": "stream",
          "name": "stdout",
          "text": [
            "Mean Absolute Error (MAE): 4040.3271553634754\n",
            "Mean Absolute Percentage Error (MAPE): 0.14521906954451955\n",
            "Mean Square Error (MSE): 20160188.397446062\n",
            "Root Mean Square Error (RMSE): 4490.009843802802\n"
          ]
        }
      ]
    },
    {
      "cell_type": "markdown",
      "source": [
        "# **RE - VISUALIZATION**"
      ],
      "metadata": {
        "id": "pwk_eOsf8PaI"
      }
    },
    {
      "cell_type": "code",
      "execution_count": 144,
      "metadata": {
        "id": "o7_qbVh74aBp"
      },
      "outputs": [],
      "source": [
        "# Assuming predict_test is a NumPy array\n",
        "first_value = pd.Series(predict_test.reshape(-1))  # Convert to pandas Series\n",
        "\n",
        "# Concatenate train and first_value as Series in a new DataFrame\n",
        "train_draw = pd.concat([train, first_value], ignore_index=True)"
      ]
    },
    {
      "cell_type": "markdown",
      "source": [
        "**Overall Visualization**"
      ],
      "metadata": {
        "id": "kK18UP7AJyXX"
      }
    },
    {
      "cell_type": "code",
      "source": [
        "plt.figure(figsize=(16, 9))\n",
        "\n",
        "train_data_index = pd.RangeIndex(start=0, stop=train_len+1, step=1)\n",
        "plt.plot(train_draw)\n",
        "test_data_index = pd.RangeIndex(start=train_len+1, stop=train_len+test_len+1, step=1)\n",
        "plt.plot(test_data_index, test)\n",
        "\n",
        "predict_test_index = pd.RangeIndex(start=train_len+1, stop=train_len+test_len+1, step=1)\n",
        "plt.plot(predict_test_index,(predict_test))\n",
        "\n",
        "predict_future_30_index = pd.RangeIndex(start=train_len+test_len+1, stop=train_len+test_len+31, step=1)\n",
        "plt.plot(predict_future_30_index, predict_future_30)\n",
        "predict_future_60_index = pd.RangeIndex(start=train_len+test_len+31, stop=train_len+test_len+61, step=1)\n",
        "plt.plot(predict_future_60_index, predict_future_60)\n",
        "predict_future_90_index = pd.RangeIndex(start=train_len+test_len+61, stop=train_len+test_len+91, step=1)\n",
        "plt.plot(predict_future_90_index, predict_future_90)\n",
        "\n",
        "plt.legend(['Train', 'Test', 'Predict Test', 'Predict next 30 days', 'Predict next 60 days', 'Predict next 90 days'])\n",
        "plt.xlabel('Time')\n",
        "plt.ylabel('Values')\n",
        "plt.title('9:1 ratio DIG Stock Price Train, Test, and Predictions')\n",
        "plt.show()"
      ],
      "metadata": {
        "id": "C6nV7V2gJmKH",
        "colab": {
          "base_uri": "https://localhost:8080/",
          "height": 662
        },
        "outputId": "c30a8479-f628-44df-f0d9-d05fe22751c0"
      },
      "execution_count": 145,
      "outputs": [
        {
          "output_type": "display_data",
          "data": {
            "text/plain": [
              "<Figure size 1600x900 with 1 Axes>"
            ],
            "image/png": "[encoded data removed]"
          },
          "metadata": {}
        }
      ]
    }
  ]
}