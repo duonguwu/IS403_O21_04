{
  "nbformat": 4,
  "nbformat_minor": 0,
  "metadata": {
    "colab": {
      "provenance": [],
      "gpuType": "T4"
    },
    "kernelspec": {
      "name": "python3",
      "display_name": "Python 3"
    },
    "language_info": {
      "name": "python"
    },
    "accelerator": "GPU",
    "widgets": {
      "application/vnd.jupyter.widget-state+json": {
        "b5fc832c3c644c73a27a38f737c19783": {
          "model_module": "@jupyter-widgets/controls",
          "model_name": "HBoxModel",
          "model_module_version": "1.5.0",
          "state": {
            "_dom_classes": [],
            "_model_module": "@jupyter-widgets/controls",
            "_model_module_version": "1.5.0",
            "_model_name": "HBoxModel",
            "_view_count": null,
            "_view_module": "@jupyter-widgets/controls",
            "_view_module_version": "1.5.0",
            "_view_name": "HBoxView",
            "box_style": "",
            "children": [
              "IPY_MODEL_73ebabffba2e464087603cd37254616b",
              "IPY_MODEL_c619e5e642dc45a5bc2d7e4a6816c872",
              "IPY_MODEL_69f06a8ffb8448e981ce349c2ca27cbf"
            ],
            "layout": "IPY_MODEL_cf6b8c09ef0942a59f86ef92d90273f1"
          }
        },
        "73ebabffba2e464087603cd37254616b": {
          "model_module": "@jupyter-widgets/controls",
          "model_name": "HTMLModel",
          "model_module_version": "1.5.0",
          "state": {
            "_dom_classes": [],
            "_model_module": "@jupyter-widgets/controls",
            "_model_module_version": "1.5.0",
            "_model_name": "HTMLModel",
            "_view_count": null,
            "_view_module": "@jupyter-widgets/controls",
            "_view_module_version": "1.5.0",
            "_view_name": "HTMLView",
            "description": "",
            "description_tooltip": null,
            "layout": "IPY_MODEL_73339ae2ae1e49fd97d67f8acc8fa8ac",
            "placeholder": "​",
            "style": "IPY_MODEL_691fc8a3ace348e38e80e22a4542c9b2",
            "value": "Sanity Checking DataLoader 0: 100%"
          }
        },
        "c619e5e642dc45a5bc2d7e4a6816c872": {
          "model_module": "@jupyter-widgets/controls",
          "model_name": "FloatProgressModel",
          "model_module_version": "1.5.0",
          "state": {
            "_dom_classes": [],
            "_model_module": "@jupyter-widgets/controls",
            "_model_module_version": "1.5.0",
            "_model_name": "FloatProgressModel",
            "_view_count": null,
            "_view_module": "@jupyter-widgets/controls",
            "_view_module_version": "1.5.0",
            "_view_name": "ProgressView",
            "bar_style": "",
            "description": "",
            "description_tooltip": null,
            "layout": "IPY_MODEL_202b7aa5682a4580af1f4e1838959d54",
            "max": 1,
            "min": 0,
            "orientation": "horizontal",
            "style": "IPY_MODEL_3db3ead3d8974b9c97cbbfa5a34971d9",
            "value": 1
          }
        },
        "69f06a8ffb8448e981ce349c2ca27cbf": {
          "model_module": "@jupyter-widgets/controls",
          "model_name": "HTMLModel",
          "model_module_version": "1.5.0",
          "state": {
            "_dom_classes": [],
            "_model_module": "@jupyter-widgets/controls",
            "_model_module_version": "1.5.0",
            "_model_name": "HTMLModel",
            "_view_count": null,
            "_view_module": "@jupyter-widgets/controls",
            "_view_module_version": "1.5.0",
            "_view_name": "HTMLView",
            "description": "",
            "description_tooltip": null,
            "layout": "IPY_MODEL_41ded1d98b054ac49e9a1deaff247399",
            "placeholder": "​",
            "style": "IPY_MODEL_3af43b1dc8c448b18a665ca5b0433257",
            "value": " 1/1 [00:00&lt;00:00, 775.86it/s]"
          }
        },
        "cf6b8c09ef0942a59f86ef92d90273f1": {
          "model_module": "@jupyter-widgets/base",
          "model_name": "LayoutModel",
          "model_module_version": "1.2.0",
          "state": {
            "_model_module": "@jupyter-widgets/base",
            "_model_module_version": "1.2.0",
            "_model_name": "LayoutModel",
            "_view_count": null,
            "_view_module": "@jupyter-widgets/base",
            "_view_module_version": "1.2.0",
            "_view_name": "LayoutView",
            "align_content": null,
            "align_items": null,
            "align_self": null,
            "border": null,
            "bottom": null,
            "display": "inline-flex",
            "flex": null,
            "flex_flow": "row wrap",
            "grid_area": null,
            "grid_auto_columns": null,
            "grid_auto_flow": null,
            "grid_auto_rows": null,
            "grid_column": null,
            "grid_gap": null,
            "grid_row": null,
            "grid_template_areas": null,
            "grid_template_columns": null,
            "grid_template_rows": null,
            "height": null,
            "justify_content": null,
            "justify_items": null,
            "left": null,
            "margin": null,
            "max_height": null,
            "max_width": null,
            "min_height": null,
            "min_width": null,
            "object_fit": null,
            "object_position": null,
            "order": null,
            "overflow": null,
            "overflow_x": null,
            "overflow_y": null,
            "padding": null,
            "right": null,
            "top": null,
            "visibility": "hidden",
            "width": "100%"
          }
        },
        "73339ae2ae1e49fd97d67f8acc8fa8ac": {
          "model_module": "@jupyter-widgets/base",
          "model_name": "LayoutModel",
          "model_module_version": "1.2.0",
          "state": {
            "_model_module": "@jupyter-widgets/base",
            "_model_module_version": "1.2.0",
            "_model_name": "LayoutModel",
            "_view_count": null,
            "_view_module": "@jupyter-widgets/base",
            "_view_module_version": "1.2.0",
            "_view_name": "LayoutView",
            "align_content": null,
            "align_items": null,
            "align_self": null,
            "border": null,
            "bottom": null,
            "display": null,
            "flex": null,
            "flex_flow": null,
            "grid_area": null,
            "grid_auto_columns": null,
            "grid_auto_flow": null,
            "grid_auto_rows": null,
            "grid_column": null,
            "grid_gap": null,
            "grid_row": null,
            "grid_template_areas": null,
            "grid_template_columns": null,
            "grid_template_rows": null,
            "height": null,
            "justify_content": null,
            "justify_items": null,
            "left": null,
            "margin": null,
            "max_height": null,
            "max_width": null,
            "min_height": null,
            "min_width": null,
            "object_fit": null,
            "object_position": null,
            "order": null,
            "overflow": null,
            "overflow_x": null,
            "overflow_y": null,
            "padding": null,
            "right": null,
            "top": null,
            "visibility": null,
            "width": null
          }
        },
        "691fc8a3ace348e38e80e22a4542c9b2": {
          "model_module": "@jupyter-widgets/controls",
          "model_name": "DescriptionStyleModel",
          "model_module_version": "1.5.0",
          "state": {
            "_model_module": "@jupyter-widgets/controls",
            "_model_module_version": "1.5.0",
            "_model_name": "DescriptionStyleModel",
            "_view_count": null,
            "_view_module": "@jupyter-widgets/base",
            "_view_module_version": "1.2.0",
            "_view_name": "StyleView",
            "description_width": ""
          }
        },
        "202b7aa5682a4580af1f4e1838959d54": {
          "model_module": "@jupyter-widgets/base",
          "model_name": "LayoutModel",
          "model_module_version": "1.2.0",
          "state": {
            "_model_module": "@jupyter-widgets/base",
            "_model_module_version": "1.2.0",
            "_model_name": "LayoutModel",
            "_view_count": null,
            "_view_module": "@jupyter-widgets/base",
            "_view_module_version": "1.2.0",
            "_view_name": "LayoutView",
            "align_content": null,
            "align_items": null,
            "align_self": null,
            "border": null,
            "bottom": null,
            "display": null,
            "flex": "2",
            "flex_flow": null,
            "grid_area": null,
            "grid_auto_columns": null,
            "grid_auto_flow": null,
            "grid_auto_rows": null,
            "grid_column": null,
            "grid_gap": null,
            "grid_row": null,
            "grid_template_areas": null,
            "grid_template_columns": null,
            "grid_template_rows": null,
            "height": null,
            "justify_content": null,
            "justify_items": null,
            "left": null,
            "margin": null,
            "max_height": null,
            "max_width": null,
            "min_height": null,
            "min_width": null,
            "object_fit": null,
            "object_position": null,
            "order": null,
            "overflow": null,
            "overflow_x": null,
            "overflow_y": null,
            "padding": null,
            "right": null,
            "top": null,
            "visibility": null,
            "width": null
          }
        },
        "3db3ead3d8974b9c97cbbfa5a34971d9": {
          "model_module": "@jupyter-widgets/controls",
          "model_name": "ProgressStyleModel",
          "model_module_version": "1.5.0",
          "state": {
            "_model_module": "@jupyter-widgets/controls",
            "_model_module_version": "1.5.0",
            "_model_name": "ProgressStyleModel",
            "_view_count": null,
            "_view_module": "@jupyter-widgets/base",
            "_view_module_version": "1.2.0",
            "_view_name": "StyleView",
            "bar_color": null,
            "description_width": ""
          }
        },
        "41ded1d98b054ac49e9a1deaff247399": {
          "model_module": "@jupyter-widgets/base",
          "model_name": "LayoutModel",
          "model_module_version": "1.2.0",
          "state": {
            "_model_module": "@jupyter-widgets/base",
            "_model_module_version": "1.2.0",
            "_model_name": "LayoutModel",
            "_view_count": null,
            "_view_module": "@jupyter-widgets/base",
            "_view_module_version": "1.2.0",
            "_view_name": "LayoutView",
            "align_content": null,
            "align_items": null,
            "align_self": null,
            "border": null,
            "bottom": null,
            "display": null,
            "flex": null,
            "flex_flow": null,
            "grid_area": null,
            "grid_auto_columns": null,
            "grid_auto_flow": null,
            "grid_auto_rows": null,
            "grid_column": null,
            "grid_gap": null,
            "grid_row": null,
            "grid_template_areas": null,
            "grid_template_columns": null,
            "grid_template_rows": null,
            "height": null,
            "justify_content": null,
            "justify_items": null,
            "left": null,
            "margin": null,
            "max_height": null,
            "max_width": null,
            "min_height": null,
            "min_width": null,
            "object_fit": null,
            "object_position": null,
            "order": null,
            "overflow": null,
            "overflow_x": null,
            "overflow_y": null,
            "padding": null,
            "right": null,
            "top": null,
            "visibility": null,
            "width": null
          }
        },
        "3af43b1dc8c448b18a665ca5b0433257": {
          "model_module": "@jupyter-widgets/controls",
          "model_name": "DescriptionStyleModel",
          "model_module_version": "1.5.0",
          "state": {
            "_model_module": "@jupyter-widgets/controls",
            "_model_module_version": "1.5.0",
            "_model_name": "DescriptionStyleModel",
            "_view_count": null,
            "_view_module": "@jupyter-widgets/base",
            "_view_module_version": "1.2.0",
            "_view_name": "StyleView",
            "description_width": ""
          }
        },
        "047c062475b6424587963be64a6b614a": {
          "model_module": "@jupyter-widgets/controls",
          "model_name": "HBoxModel",
          "model_module_version": "1.5.0",
          "state": {
            "_dom_classes": [],
            "_model_module": "@jupyter-widgets/controls",
            "_model_module_version": "1.5.0",
            "_model_name": "HBoxModel",
            "_view_count": null,
            "_view_module": "@jupyter-widgets/controls",
            "_view_module_version": "1.5.0",
            "_view_name": "HBoxView",
            "box_style": "",
            "children": [
              "IPY_MODEL_2dd1103f1f7f4301a59e9e20bbb7b5c6",
              "IPY_MODEL_ed3934cf94a141efafea118e5e221a92",
              "IPY_MODEL_80b38a487a2a4427b93dc4a05c695b42"
            ],
            "layout": "IPY_MODEL_51607463586141ce93955b6873bce4e7"
          }
        },
        "2dd1103f1f7f4301a59e9e20bbb7b5c6": {
          "model_module": "@jupyter-widgets/controls",
          "model_name": "HTMLModel",
          "model_module_version": "1.5.0",
          "state": {
            "_dom_classes": [],
            "_model_module": "@jupyter-widgets/controls",
            "_model_module_version": "1.5.0",
            "_model_name": "HTMLModel",
            "_view_count": null,
            "_view_module": "@jupyter-widgets/controls",
            "_view_module_version": "1.5.0",
            "_view_name": "HTMLView",
            "description": "",
            "description_tooltip": null,
            "layout": "IPY_MODEL_bf2c2e9b88684cbd94d33e2b8277ae80",
            "placeholder": "​",
            "style": "IPY_MODEL_6952eadb7b984728b7de81ffe2b0cb1a",
            "value": "Epoch 99: 100%"
          }
        },
        "ed3934cf94a141efafea118e5e221a92": {
          "model_module": "@jupyter-widgets/controls",
          "model_name": "FloatProgressModel",
          "model_module_version": "1.5.0",
          "state": {
            "_dom_classes": [],
            "_model_module": "@jupyter-widgets/controls",
            "_model_module_version": "1.5.0",
            "_model_name": "FloatProgressModel",
            "_view_count": null,
            "_view_module": "@jupyter-widgets/controls",
            "_view_module_version": "1.5.0",
            "_view_name": "ProgressView",
            "bar_style": "success",
            "description": "",
            "description_tooltip": null,
            "layout": "IPY_MODEL_6c34e1432389456881b7001106c0286a",
            "max": 1,
            "min": 0,
            "orientation": "horizontal",
            "style": "IPY_MODEL_3747efb8718c40889c1976fd687c7179",
            "value": 1
          }
        },
        "80b38a487a2a4427b93dc4a05c695b42": {
          "model_module": "@jupyter-widgets/controls",
          "model_name": "HTMLModel",
          "model_module_version": "1.5.0",
          "state": {
            "_dom_classes": [],
            "_model_module": "@jupyter-widgets/controls",
            "_model_module_version": "1.5.0",
            "_model_name": "HTMLModel",
            "_view_count": null,
            "_view_module": "@jupyter-widgets/controls",
            "_view_module_version": "1.5.0",
            "_view_name": "HTMLView",
            "description": "",
            "description_tooltip": null,
            "layout": "IPY_MODEL_0496aed5661846af9eb78ae001b1c5fb",
            "placeholder": "​",
            "style": "IPY_MODEL_5589f95712b348a9bff92ece37b57f85",
            "value": " 1/1 [00:01&lt;00:00,  0.99it/s, v_num=8, train_loss_step=8.090, train_loss_epoch=8.090]"
          }
        },
        "51607463586141ce93955b6873bce4e7": {
          "model_module": "@jupyter-widgets/base",
          "model_name": "LayoutModel",
          "model_module_version": "1.2.0",
          "state": {
            "_model_module": "@jupyter-widgets/base",
            "_model_module_version": "1.2.0",
            "_model_name": "LayoutModel",
            "_view_count": null,
            "_view_module": "@jupyter-widgets/base",
            "_view_module_version": "1.2.0",
            "_view_name": "LayoutView",
            "align_content": null,
            "align_items": null,
            "align_self": null,
            "border": null,
            "bottom": null,
            "display": "inline-flex",
            "flex": null,
            "flex_flow": "row wrap",
            "grid_area": null,
            "grid_auto_columns": null,
            "grid_auto_flow": null,
            "grid_auto_rows": null,
            "grid_column": null,
            "grid_gap": null,
            "grid_row": null,
            "grid_template_areas": null,
            "grid_template_columns": null,
            "grid_template_rows": null,
            "height": null,
            "justify_content": null,
            "justify_items": null,
            "left": null,
            "margin": null,
            "max_height": null,
            "max_width": null,
            "min_height": null,
            "min_width": null,
            "object_fit": null,
            "object_position": null,
            "order": null,
            "overflow": null,
            "overflow_x": null,
            "overflow_y": null,
            "padding": null,
            "right": null,
            "top": null,
            "visibility": null,
            "width": "100%"
          }
        },
        "bf2c2e9b88684cbd94d33e2b8277ae80": {
          "model_module": "@jupyter-widgets/base",
          "model_name": "LayoutModel",
          "model_module_version": "1.2.0",
          "state": {
            "_model_module": "@jupyter-widgets/base",
            "_model_module_version": "1.2.0",
            "_model_name": "LayoutModel",
            "_view_count": null,
            "_view_module": "@jupyter-widgets/base",
            "_view_module_version": "1.2.0",
            "_view_name": "LayoutView",
            "align_content": null,
            "align_items": null,
            "align_self": null,
            "border": null,
            "bottom": null,
            "display": null,
            "flex": null,
            "flex_flow": null,
            "grid_area": null,
            "grid_auto_columns": null,
            "grid_auto_flow": null,
            "grid_auto_rows": null,
            "grid_column": null,
            "grid_gap": null,
            "grid_row": null,
            "grid_template_areas": null,
            "grid_template_columns": null,
            "grid_template_rows": null,
            "height": null,
            "justify_content": null,
            "justify_items": null,
            "left": null,
            "margin": null,
            "max_height": null,
            "max_width": null,
            "min_height": null,
            "min_width": null,
            "object_fit": null,
            "object_position": null,
            "order": null,
            "overflow": null,
            "overflow_x": null,
            "overflow_y": null,
            "padding": null,
            "right": null,
            "top": null,
            "visibility": null,
            "width": null
          }
        },
        "6952eadb7b984728b7de81ffe2b0cb1a": {
          "model_module": "@jupyter-widgets/controls",
          "model_name": "DescriptionStyleModel",
          "model_module_version": "1.5.0",
          "state": {
            "_model_module": "@jupyter-widgets/controls",
            "_model_module_version": "1.5.0",
            "_model_name": "DescriptionStyleModel",
            "_view_count": null,
            "_view_module": "@jupyter-widgets/base",
            "_view_module_version": "1.2.0",
            "_view_name": "StyleView",
            "description_width": ""
          }
        },
        "6c34e1432389456881b7001106c0286a": {
          "model_module": "@jupyter-widgets/base",
          "model_name": "LayoutModel",
          "model_module_version": "1.2.0",
          "state": {
            "_model_module": "@jupyter-widgets/base",
            "_model_module_version": "1.2.0",
            "_model_name": "LayoutModel",
            "_view_count": null,
            "_view_module": "@jupyter-widgets/base",
            "_view_module_version": "1.2.0",
            "_view_name": "LayoutView",
            "align_content": null,
            "align_items": null,
            "align_self": null,
            "border": null,
            "bottom": null,
            "display": null,
            "flex": "2",
            "flex_flow": null,
            "grid_area": null,
            "grid_auto_columns": null,
            "grid_auto_flow": null,
            "grid_auto_rows": null,
            "grid_column": null,
            "grid_gap": null,
            "grid_row": null,
            "grid_template_areas": null,
            "grid_template_columns": null,
            "grid_template_rows": null,
            "height": null,
            "justify_content": null,
            "justify_items": null,
            "left": null,
            "margin": null,
            "max_height": null,
            "max_width": null,
            "min_height": null,
            "min_width": null,
            "object_fit": null,
            "object_position": null,
            "order": null,
            "overflow": null,
            "overflow_x": null,
            "overflow_y": null,
            "padding": null,
            "right": null,
            "top": null,
            "visibility": null,
            "width": null
          }
        },
        "3747efb8718c40889c1976fd687c7179": {
          "model_module": "@jupyter-widgets/controls",
          "model_name": "ProgressStyleModel",
          "model_module_version": "1.5.0",
          "state": {
            "_model_module": "@jupyter-widgets/controls",
            "_model_module_version": "1.5.0",
            "_model_name": "ProgressStyleModel",
            "_view_count": null,
            "_view_module": "@jupyter-widgets/base",
            "_view_module_version": "1.2.0",
            "_view_name": "StyleView",
            "bar_color": null,
            "description_width": ""
          }
        },
        "0496aed5661846af9eb78ae001b1c5fb": {
          "model_module": "@jupyter-widgets/base",
          "model_name": "LayoutModel",
          "model_module_version": "1.2.0",
          "state": {
            "_model_module": "@jupyter-widgets/base",
            "_model_module_version": "1.2.0",
            "_model_name": "LayoutModel",
            "_view_count": null,
            "_view_module": "@jupyter-widgets/base",
            "_view_module_version": "1.2.0",
            "_view_name": "LayoutView",
            "align_content": null,
            "align_items": null,
            "align_self": null,
            "border": null,
            "bottom": null,
            "display": null,
            "flex": null,
            "flex_flow": null,
            "grid_area": null,
            "grid_auto_columns": null,
            "grid_auto_flow": null,
            "grid_auto_rows": null,
            "grid_column": null,
            "grid_gap": null,
            "grid_row": null,
            "grid_template_areas": null,
            "grid_template_columns": null,
            "grid_template_rows": null,
            "height": null,
            "justify_content": null,
            "justify_items": null,
            "left": null,
            "margin": null,
            "max_height": null,
            "max_width": null,
            "min_height": null,
            "min_width": null,
            "object_fit": null,
            "object_position": null,
            "order": null,
            "overflow": null,
            "overflow_x": null,
            "overflow_y": null,
            "padding": null,
            "right": null,
            "top": null,
            "visibility": null,
            "width": null
          }
        },
        "5589f95712b348a9bff92ece37b57f85": {
          "model_module": "@jupyter-widgets/controls",
          "model_name": "DescriptionStyleModel",
          "model_module_version": "1.5.0",
          "state": {
            "_model_module": "@jupyter-widgets/controls",
            "_model_module_version": "1.5.0",
            "_model_name": "DescriptionStyleModel",
            "_view_count": null,
            "_view_module": "@jupyter-widgets/base",
            "_view_module_version": "1.2.0",
            "_view_name": "StyleView",
            "description_width": ""
          }
        },
        "d2678fee64f44b3a844e895d0a0b0ec1": {
          "model_module": "@jupyter-widgets/controls",
          "model_name": "HBoxModel",
          "model_module_version": "1.5.0",
          "state": {
            "_dom_classes": [],
            "_model_module": "@jupyter-widgets/controls",
            "_model_module_version": "1.5.0",
            "_model_name": "HBoxModel",
            "_view_count": null,
            "_view_module": "@jupyter-widgets/controls",
            "_view_module_version": "1.5.0",
            "_view_name": "HBoxView",
            "box_style": "",
            "children": [
              "IPY_MODEL_9b0c84f6ca49480290376d317b36ee1f",
              "IPY_MODEL_3cfbb47dc66b434e9fa34eef0fcb33a7",
              "IPY_MODEL_32f86a3270fb472ea1fb51a0e5e424a6"
            ],
            "layout": "IPY_MODEL_2d805d589c7f4d3f852d609f9c013461"
          }
        },
        "9b0c84f6ca49480290376d317b36ee1f": {
          "model_module": "@jupyter-widgets/controls",
          "model_name": "HTMLModel",
          "model_module_version": "1.5.0",
          "state": {
            "_dom_classes": [],
            "_model_module": "@jupyter-widgets/controls",
            "_model_module_version": "1.5.0",
            "_model_name": "HTMLModel",
            "_view_count": null,
            "_view_module": "@jupyter-widgets/controls",
            "_view_module_version": "1.5.0",
            "_view_name": "HTMLView",
            "description": "",
            "description_tooltip": null,
            "layout": "IPY_MODEL_de7fff9433754130b9bcf31c0c71daa3",
            "placeholder": "​",
            "style": "IPY_MODEL_8b7015beebf74138b86fc3882b9b418d",
            "value": "Validation DataLoader 0: 100%"
          }
        },
        "3cfbb47dc66b434e9fa34eef0fcb33a7": {
          "model_module": "@jupyter-widgets/controls",
          "model_name": "FloatProgressModel",
          "model_module_version": "1.5.0",
          "state": {
            "_dom_classes": [],
            "_model_module": "@jupyter-widgets/controls",
            "_model_module_version": "1.5.0",
            "_model_name": "FloatProgressModel",
            "_view_count": null,
            "_view_module": "@jupyter-widgets/controls",
            "_view_module_version": "1.5.0",
            "_view_name": "ProgressView",
            "bar_style": "",
            "description": "",
            "description_tooltip": null,
            "layout": "IPY_MODEL_df87ff6a80514d1dac138f922464e8e2",
            "max": 1,
            "min": 0,
            "orientation": "horizontal",
            "style": "IPY_MODEL_8a8bba5bdb4047e8ba89ff3ececebe57",
            "value": 1
          }
        },
        "32f86a3270fb472ea1fb51a0e5e424a6": {
          "model_module": "@jupyter-widgets/controls",
          "model_name": "HTMLModel",
          "model_module_version": "1.5.0",
          "state": {
            "_dom_classes": [],
            "_model_module": "@jupyter-widgets/controls",
            "_model_module_version": "1.5.0",
            "_model_name": "HTMLModel",
            "_view_count": null,
            "_view_module": "@jupyter-widgets/controls",
            "_view_module_version": "1.5.0",
            "_view_name": "HTMLView",
            "description": "",
            "description_tooltip": null,
            "layout": "IPY_MODEL_7353a353a66b4819b7dc0c7bd5d4707a",
            "placeholder": "​",
            "style": "IPY_MODEL_1cec61e47e0e48bda1e74bc9bcecd09d",
            "value": " 1/1 [00:00&lt;00:00, 315.24it/s]"
          }
        },
        "2d805d589c7f4d3f852d609f9c013461": {
          "model_module": "@jupyter-widgets/base",
          "model_name": "LayoutModel",
          "model_module_version": "1.2.0",
          "state": {
            "_model_module": "@jupyter-widgets/base",
            "_model_module_version": "1.2.0",
            "_model_name": "LayoutModel",
            "_view_count": null,
            "_view_module": "@jupyter-widgets/base",
            "_view_module_version": "1.2.0",
            "_view_name": "LayoutView",
            "align_content": null,
            "align_items": null,
            "align_self": null,
            "border": null,
            "bottom": null,
            "display": "inline-flex",
            "flex": null,
            "flex_flow": "row wrap",
            "grid_area": null,
            "grid_auto_columns": null,
            "grid_auto_flow": null,
            "grid_auto_rows": null,
            "grid_column": null,
            "grid_gap": null,
            "grid_row": null,
            "grid_template_areas": null,
            "grid_template_columns": null,
            "grid_template_rows": null,
            "height": null,
            "justify_content": null,
            "justify_items": null,
            "left": null,
            "margin": null,
            "max_height": null,
            "max_width": null,
            "min_height": null,
            "min_width": null,
            "object_fit": null,
            "object_position": null,
            "order": null,
            "overflow": null,
            "overflow_x": null,
            "overflow_y": null,
            "padding": null,
            "right": null,
            "top": null,
            "visibility": "hidden",
            "width": "100%"
          }
        },
        "de7fff9433754130b9bcf31c0c71daa3": {
          "model_module": "@jupyter-widgets/base",
          "model_name": "LayoutModel",
          "model_module_version": "1.2.0",
          "state": {
            "_model_module": "@jupyter-widgets/base",
            "_model_module_version": "1.2.0",
            "_model_name": "LayoutModel",
            "_view_count": null,
            "_view_module": "@jupyter-widgets/base",
            "_view_module_version": "1.2.0",
            "_view_name": "LayoutView",
            "align_content": null,
            "align_items": null,
            "align_self": null,
            "border": null,
            "bottom": null,
            "display": null,
            "flex": null,
            "flex_flow": null,
            "grid_area": null,
            "grid_auto_columns": null,
            "grid_auto_flow": null,
            "grid_auto_rows": null,
            "grid_column": null,
            "grid_gap": null,
            "grid_row": null,
            "grid_template_areas": null,
            "grid_template_columns": null,
            "grid_template_rows": null,
            "height": null,
            "justify_content": null,
            "justify_items": null,
            "left": null,
            "margin": null,
            "max_height": null,
            "max_width": null,
            "min_height": null,
            "min_width": null,
            "object_fit": null,
            "object_position": null,
            "order": null,
            "overflow": null,
            "overflow_x": null,
            "overflow_y": null,
            "padding": null,
            "right": null,
            "top": null,
            "visibility": null,
            "width": null
          }
        },
        "8b7015beebf74138b86fc3882b9b418d": {
          "model_module": "@jupyter-widgets/controls",
          "model_name": "DescriptionStyleModel",
          "model_module_version": "1.5.0",
          "state": {
            "_model_module": "@jupyter-widgets/controls",
            "_model_module_version": "1.5.0",
            "_model_name": "DescriptionStyleModel",
            "_view_count": null,
            "_view_module": "@jupyter-widgets/base",
            "_view_module_version": "1.2.0",
            "_view_name": "StyleView",
            "description_width": ""
          }
        },
        "df87ff6a80514d1dac138f922464e8e2": {
          "model_module": "@jupyter-widgets/base",
          "model_name": "LayoutModel",
          "model_module_version": "1.2.0",
          "state": {
            "_model_module": "@jupyter-widgets/base",
            "_model_module_version": "1.2.0",
            "_model_name": "LayoutModel",
            "_view_count": null,
            "_view_module": "@jupyter-widgets/base",
            "_view_module_version": "1.2.0",
            "_view_name": "LayoutView",
            "align_content": null,
            "align_items": null,
            "align_self": null,
            "border": null,
            "bottom": null,
            "display": null,
            "flex": "2",
            "flex_flow": null,
            "grid_area": null,
            "grid_auto_columns": null,
            "grid_auto_flow": null,
            "grid_auto_rows": null,
            "grid_column": null,
            "grid_gap": null,
            "grid_row": null,
            "grid_template_areas": null,
            "grid_template_columns": null,
            "grid_template_rows": null,
            "height": null,
            "justify_content": null,
            "justify_items": null,
            "left": null,
            "margin": null,
            "max_height": null,
            "max_width": null,
            "min_height": null,
            "min_width": null,
            "object_fit": null,
            "object_position": null,
            "order": null,
            "overflow": null,
            "overflow_x": null,
            "overflow_y": null,
            "padding": null,
            "right": null,
            "top": null,
            "visibility": null,
            "width": null
          }
        },
        "8a8bba5bdb4047e8ba89ff3ececebe57": {
          "model_module": "@jupyter-widgets/controls",
          "model_name": "ProgressStyleModel",
          "model_module_version": "1.5.0",
          "state": {
            "_model_module": "@jupyter-widgets/controls",
            "_model_module_version": "1.5.0",
            "_model_name": "ProgressStyleModel",
            "_view_count": null,
            "_view_module": "@jupyter-widgets/base",
            "_view_module_version": "1.2.0",
            "_view_name": "StyleView",
            "bar_color": null,
            "description_width": ""
          }
        },
        "7353a353a66b4819b7dc0c7bd5d4707a": {
          "model_module": "@jupyter-widgets/base",
          "model_name": "LayoutModel",
          "model_module_version": "1.2.0",
          "state": {
            "_model_module": "@jupyter-widgets/base",
            "_model_module_version": "1.2.0",
            "_model_name": "LayoutModel",
            "_view_count": null,
            "_view_module": "@jupyter-widgets/base",
            "_view_module_version": "1.2.0",
            "_view_name": "LayoutView",
            "align_content": null,
            "align_items": null,
            "align_self": null,
            "border": null,
            "bottom": null,
            "display": null,
            "flex": null,
            "flex_flow": null,
            "grid_area": null,
            "grid_auto_columns": null,
            "grid_auto_flow": null,
            "grid_auto_rows": null,
            "grid_column": null,
            "grid_gap": null,
            "grid_row": null,
            "grid_template_areas": null,
            "grid_template_columns": null,
            "grid_template_rows": null,
            "height": null,
            "justify_content": null,
            "justify_items": null,
            "left": null,
            "margin": null,
            "max_height": null,
            "max_width": null,
            "min_height": null,
            "min_width": null,
            "object_fit": null,
            "object_position": null,
            "order": null,
            "overflow": null,
            "overflow_x": null,
            "overflow_y": null,
            "padding": null,
            "right": null,
            "top": null,
            "visibility": null,
            "width": null
          }
        },
        "1cec61e47e0e48bda1e74bc9bcecd09d": {
          "model_module": "@jupyter-widgets/controls",
          "model_name": "DescriptionStyleModel",
          "model_module_version": "1.5.0",
          "state": {
            "_model_module": "@jupyter-widgets/controls",
            "_model_module_version": "1.5.0",
            "_model_name": "DescriptionStyleModel",
            "_view_count": null,
            "_view_module": "@jupyter-widgets/base",
            "_view_module_version": "1.2.0",
            "_view_name": "StyleView",
            "description_width": ""
          }
        },
        "795ca00f1a7f435daf7dd8869531a80f": {
          "model_module": "@jupyter-widgets/controls",
          "model_name": "HBoxModel",
          "model_module_version": "1.5.0",
          "state": {
            "_dom_classes": [],
            "_model_module": "@jupyter-widgets/controls",
            "_model_module_version": "1.5.0",
            "_model_name": "HBoxModel",
            "_view_count": null,
            "_view_module": "@jupyter-widgets/controls",
            "_view_module_version": "1.5.0",
            "_view_name": "HBoxView",
            "box_style": "",
            "children": [
              "IPY_MODEL_4b275f70378d45c98918faa397241931",
              "IPY_MODEL_73e79d70406c43a3af621c0ab48416ae",
              "IPY_MODEL_e16c5d2abe294105bfb819859d991e7b"
            ],
            "layout": "IPY_MODEL_2427c2d58eba436696b3f171b9b9866c"
          }
        },
        "4b275f70378d45c98918faa397241931": {
          "model_module": "@jupyter-widgets/controls",
          "model_name": "HTMLModel",
          "model_module_version": "1.5.0",
          "state": {
            "_dom_classes": [],
            "_model_module": "@jupyter-widgets/controls",
            "_model_module_version": "1.5.0",
            "_model_name": "HTMLModel",
            "_view_count": null,
            "_view_module": "@jupyter-widgets/controls",
            "_view_module_version": "1.5.0",
            "_view_name": "HTMLView",
            "description": "",
            "description_tooltip": null,
            "layout": "IPY_MODEL_1f90335799794aaf938551991a7d11d4",
            "placeholder": "​",
            "style": "IPY_MODEL_b5f04c6a77394e35a790fb146346b2ff",
            "value": "Predicting DataLoader 0: 100%"
          }
        },
        "73e79d70406c43a3af621c0ab48416ae": {
          "model_module": "@jupyter-widgets/controls",
          "model_name": "FloatProgressModel",
          "model_module_version": "1.5.0",
          "state": {
            "_dom_classes": [],
            "_model_module": "@jupyter-widgets/controls",
            "_model_module_version": "1.5.0",
            "_model_name": "FloatProgressModel",
            "_view_count": null,
            "_view_module": "@jupyter-widgets/controls",
            "_view_module_version": "1.5.0",
            "_view_name": "ProgressView",
            "bar_style": "success",
            "description": "",
            "description_tooltip": null,
            "layout": "IPY_MODEL_273332c9c70c4a7f9aceb3a60ebad3e2",
            "max": 1,
            "min": 0,
            "orientation": "horizontal",
            "style": "IPY_MODEL_870bcaced7ca493aa2c8c8724634515d",
            "value": 1
          }
        },
        "e16c5d2abe294105bfb819859d991e7b": {
          "model_module": "@jupyter-widgets/controls",
          "model_name": "HTMLModel",
          "model_module_version": "1.5.0",
          "state": {
            "_dom_classes": [],
            "_model_module": "@jupyter-widgets/controls",
            "_model_module_version": "1.5.0",
            "_model_name": "HTMLModel",
            "_view_count": null,
            "_view_module": "@jupyter-widgets/controls",
            "_view_module_version": "1.5.0",
            "_view_name": "HTMLView",
            "description": "",
            "description_tooltip": null,
            "layout": "IPY_MODEL_af99063725c64534a30dec3df57c4a27",
            "placeholder": "​",
            "style": "IPY_MODEL_0c57b86cb61a4cab8fb3cd6d3a224282",
            "value": " 1/1 [00:00&lt;00:00, 12.58it/s]"
          }
        },
        "2427c2d58eba436696b3f171b9b9866c": {
          "model_module": "@jupyter-widgets/base",
          "model_name": "LayoutModel",
          "model_module_version": "1.2.0",
          "state": {
            "_model_module": "@jupyter-widgets/base",
            "_model_module_version": "1.2.0",
            "_model_name": "LayoutModel",
            "_view_count": null,
            "_view_module": "@jupyter-widgets/base",
            "_view_module_version": "1.2.0",
            "_view_name": "LayoutView",
            "align_content": null,
            "align_items": null,
            "align_self": null,
            "border": null,
            "bottom": null,
            "display": "inline-flex",
            "flex": null,
            "flex_flow": "row wrap",
            "grid_area": null,
            "grid_auto_columns": null,
            "grid_auto_flow": null,
            "grid_auto_rows": null,
            "grid_column": null,
            "grid_gap": null,
            "grid_row": null,
            "grid_template_areas": null,
            "grid_template_columns": null,
            "grid_template_rows": null,
            "height": null,
            "justify_content": null,
            "justify_items": null,
            "left": null,
            "margin": null,
            "max_height": null,
            "max_width": null,
            "min_height": null,
            "min_width": null,
            "object_fit": null,
            "object_position": null,
            "order": null,
            "overflow": null,
            "overflow_x": null,
            "overflow_y": null,
            "padding": null,
            "right": null,
            "top": null,
            "visibility": null,
            "width": "100%"
          }
        },
        "1f90335799794aaf938551991a7d11d4": {
          "model_module": "@jupyter-widgets/base",
          "model_name": "LayoutModel",
          "model_module_version": "1.2.0",
          "state": {
            "_model_module": "@jupyter-widgets/base",
            "_model_module_version": "1.2.0",
            "_model_name": "LayoutModel",
            "_view_count": null,
            "_view_module": "@jupyter-widgets/base",
            "_view_module_version": "1.2.0",
            "_view_name": "LayoutView",
            "align_content": null,
            "align_items": null,
            "align_self": null,
            "border": null,
            "bottom": null,
            "display": null,
            "flex": null,
            "flex_flow": null,
            "grid_area": null,
            "grid_auto_columns": null,
            "grid_auto_flow": null,
            "grid_auto_rows": null,
            "grid_column": null,
            "grid_gap": null,
            "grid_row": null,
            "grid_template_areas": null,
            "grid_template_columns": null,
            "grid_template_rows": null,
            "height": null,
            "justify_content": null,
            "justify_items": null,
            "left": null,
            "margin": null,
            "max_height": null,
            "max_width": null,
            "min_height": null,
            "min_width": null,
            "object_fit": null,
            "object_position": null,
            "order": null,
            "overflow": null,
            "overflow_x": null,
            "overflow_y": null,
            "padding": null,
            "right": null,
            "top": null,
            "visibility": null,
            "width": null
          }
        },
        "b5f04c6a77394e35a790fb146346b2ff": {
          "model_module": "@jupyter-widgets/controls",
          "model_name": "DescriptionStyleModel",
          "model_module_version": "1.5.0",
          "state": {
            "_model_module": "@jupyter-widgets/controls",
            "_model_module_version": "1.5.0",
            "_model_name": "DescriptionStyleModel",
            "_view_count": null,
            "_view_module": "@jupyter-widgets/base",
            "_view_module_version": "1.2.0",
            "_view_name": "StyleView",
            "description_width": ""
          }
        },
        "273332c9c70c4a7f9aceb3a60ebad3e2": {
          "model_module": "@jupyter-widgets/base",
          "model_name": "LayoutModel",
          "model_module_version": "1.2.0",
          "state": {
            "_model_module": "@jupyter-widgets/base",
            "_model_module_version": "1.2.0",
            "_model_name": "LayoutModel",
            "_view_count": null,
            "_view_module": "@jupyter-widgets/base",
            "_view_module_version": "1.2.0",
            "_view_name": "LayoutView",
            "align_content": null,
            "align_items": null,
            "align_self": null,
            "border": null,
            "bottom": null,
            "display": null,
            "flex": "2",
            "flex_flow": null,
            "grid_area": null,
            "grid_auto_columns": null,
            "grid_auto_flow": null,
            "grid_auto_rows": null,
            "grid_column": null,
            "grid_gap": null,
            "grid_row": null,
            "grid_template_areas": null,
            "grid_template_columns": null,
            "grid_template_rows": null,
            "height": null,
            "justify_content": null,
            "justify_items": null,
            "left": null,
            "margin": null,
            "max_height": null,
            "max_width": null,
            "min_height": null,
            "min_width": null,
            "object_fit": null,
            "object_position": null,
            "order": null,
            "overflow": null,
            "overflow_x": null,
            "overflow_y": null,
            "padding": null,
            "right": null,
            "top": null,
            "visibility": null,
            "width": null
          }
        },
        "870bcaced7ca493aa2c8c8724634515d": {
          "model_module": "@jupyter-widgets/controls",
          "model_name": "ProgressStyleModel",
          "model_module_version": "1.5.0",
          "state": {
            "_model_module": "@jupyter-widgets/controls",
            "_model_module_version": "1.5.0",
            "_model_name": "ProgressStyleModel",
            "_view_count": null,
            "_view_module": "@jupyter-widgets/base",
            "_view_module_version": "1.2.0",
            "_view_name": "StyleView",
            "bar_color": null,
            "description_width": ""
          }
        },
        "af99063725c64534a30dec3df57c4a27": {
          "model_module": "@jupyter-widgets/base",
          "model_name": "LayoutModel",
          "model_module_version": "1.2.0",
          "state": {
            "_model_module": "@jupyter-widgets/base",
            "_model_module_version": "1.2.0",
            "_model_name": "LayoutModel",
            "_view_count": null,
            "_view_module": "@jupyter-widgets/base",
            "_view_module_version": "1.2.0",
            "_view_name": "LayoutView",
            "align_content": null,
            "align_items": null,
            "align_self": null,
            "border": null,
            "bottom": null,
            "display": null,
            "flex": null,
            "flex_flow": null,
            "grid_area": null,
            "grid_auto_columns": null,
            "grid_auto_flow": null,
            "grid_auto_rows": null,
            "grid_column": null,
            "grid_gap": null,
            "grid_row": null,
            "grid_template_areas": null,
            "grid_template_columns": null,
            "grid_template_rows": null,
            "height": null,
            "justify_content": null,
            "justify_items": null,
            "left": null,
            "margin": null,
            "max_height": null,
            "max_width": null,
            "min_height": null,
            "min_width": null,
            "object_fit": null,
            "object_position": null,
            "order": null,
            "overflow": null,
            "overflow_x": null,
            "overflow_y": null,
            "padding": null,
            "right": null,
            "top": null,
            "visibility": null,
            "width": null
          }
        },
        "0c57b86cb61a4cab8fb3cd6d3a224282": {
          "model_module": "@jupyter-widgets/controls",
          "model_name": "DescriptionStyleModel",
          "model_module_version": "1.5.0",
          "state": {
            "_model_module": "@jupyter-widgets/controls",
            "_model_module_version": "1.5.0",
            "_model_name": "DescriptionStyleModel",
            "_view_count": null,
            "_view_module": "@jupyter-widgets/base",
            "_view_module_version": "1.2.0",
            "_view_name": "StyleView",
            "description_width": ""
          }
        }
      }
    }
  },
  "cells": [
    {
      "cell_type": "code",
      "source": [
        "#!pip install neuralforecast"
      ],
      "metadata": {
        "id": "7ZI3F5d3Kryg"
      },
      "execution_count": 98,
      "outputs": []
    },
    {
      "cell_type": "markdown",
      "source": [
        "# **LIBRARY PREPARATION**"
      ],
      "metadata": {
        "id": "BGekASjU1fw-"
      }
    },
    {
      "cell_type": "code",
      "source": [
        "import numpy as np\n",
        "import pandas as pd\n",
        "import pytorch_lightning as pl\n",
        "import matplotlib.pyplot as plt\n",
        "\n",
        "from neuralforecast import NeuralForecast\n",
        "from neuralforecast.models import MLP, FEDformer\n",
        "from neuralforecast.losses.pytorch import MQLoss, DistributionLoss, MSE, MAE\n",
        "from neuralforecast.tsdataset import TimeSeriesDataset\n",
        "\n",
        "from datetime import datetime, timedelta\n",
        "from sklearn.metrics import mean_absolute_error, mean_squared_error, mean_absolute_percentage_error\n",
        "\n",
        "from scipy.signal import savgol_filter"
      ],
      "metadata": {
        "id": "Xpt1KrtZ8T35"
      },
      "execution_count": 99,
      "outputs": []
    },
    {
      "cell_type": "markdown",
      "source": [
        "# **NVL DATA PREPARATION**"
      ],
      "metadata": {
        "id": "o8r2NeqR1Zbq"
      }
    },
    {
      "cell_type": "code",
      "source": [
        "# Read Data\n",
        "df = pd.read_csv('NVL Historical Data 1_6 Fed.csv')"
      ],
      "metadata": {
        "id": "nogaQrOf9byt"
      },
      "execution_count": 100,
      "outputs": []
    },
    {
      "cell_type": "code",
      "source": [
        "# Add ID constraint\n",
        "df1 = df\n",
        "df1['unique_id'] = 'NVL'\n",
        "\n",
        "# Reorder columns\n",
        "df1 = df1[['unique_id', 'Date', 'Price']]\n",
        "\n",
        "# Rename\n",
        "df1.rename(columns={'Date': 'ds', 'Price': 'y'}, inplace=True)\n",
        "df1"
      ],
      "metadata": {
        "id": "Jo5stpuL9cM8",
        "colab": {
          "base_uri": "https://localhost:8080/",
          "height": 423
        },
        "outputId": "de62ec7f-7f21-4ae8-8df6-07f4045795e2"
      },
      "execution_count": 101,
      "outputs": [
        {
          "output_type": "execute_result",
          "data": {
            "text/plain": [
              "     unique_id          ds        y\n",
              "0          NVL  2018-01-02  27815.0\n",
              "1          NVL  2018-01-03  28410.0\n",
              "2          NVL  2018-01-04  28707.0\n",
              "3          NVL  2018-01-05  28962.0\n",
              "4          NVL  2018-01-06  28473.5\n",
              "...        ...         ...      ...\n",
              "2338       NVL  2024-05-28  14500.0\n",
              "2339       NVL  2024-05-29  14150.0\n",
              "2340       NVL  2024-05-30  14150.0\n",
              "2341       NVL  2024-05-31  14450.0\n",
              "2342       NVL  2024-06-01  14350.0\n",
              "\n",
              "[2343 rows x 3 columns]"
            ],
            "text/html": [
              "\n",
              "  <div id=\"df-b79b2add-c79c-4154-a650-1f708c2ca4e4\" class=\"colab-df-container\">\n",
              "    <div>\n",
              "<style scoped>\n",
              "    .dataframe tbody tr th:only-of-type {\n",
              "        vertical-align: middle;\n",
              "    }\n",
              "\n",
              "    .dataframe tbody tr th {\n",
              "        vertical-align: top;\n",
              "    }\n",
              "\n",
              "    .dataframe thead th {\n",
              "        text-align: right;\n",
              "    }\n",
              "</style>\n",
              "<table border=\"1\" class=\"dataframe\">\n",
              "  <thead>\n",
              "    <tr style=\"text-align: right;\">\n",
              "      <th></th>\n",
              "      <th>unique_id</th>\n",
              "      <th>ds</th>\n",
              "      <th>y</th>\n",
              "    </tr>\n",
              "  </thead>\n",
              "  <tbody>\n",
              "    <tr>\n",
              "      <th>0</th>\n",
              "      <td>NVL</td>\n",
              "      <td>2018-01-02</td>\n",
              "      <td>27815.0</td>\n",
              "    </tr>\n",
              "    <tr>\n",
              "      <th>1</th>\n",
              "      <td>NVL</td>\n",
              "      <td>2018-01-03</td>\n",
              "      <td>28410.0</td>\n",
              "    </tr>\n",
              "    <tr>\n",
              "      <th>2</th>\n",
              "      <td>NVL</td>\n",
              "      <td>2018-01-04</td>\n",
              "      <td>28707.0</td>\n",
              "    </tr>\n",
              "    <tr>\n",
              "      <th>3</th>\n",
              "      <td>NVL</td>\n",
              "      <td>2018-01-05</td>\n",
              "      <td>28962.0</td>\n",
              "    </tr>\n",
              "    <tr>\n",
              "      <th>4</th>\n",
              "      <td>NVL</td>\n",
              "      <td>2018-01-06</td>\n",
              "      <td>28473.5</td>\n",
              "    </tr>\n",
              "    <tr>\n",
              "      <th>...</th>\n",
              "      <td>...</td>\n",
              "      <td>...</td>\n",
              "      <td>...</td>\n",
              "    </tr>\n",
              "    <tr>\n",
              "      <th>2338</th>\n",
              "      <td>NVL</td>\n",
              "      <td>2024-05-28</td>\n",
              "      <td>14500.0</td>\n",
              "    </tr>\n",
              "    <tr>\n",
              "      <th>2339</th>\n",
              "      <td>NVL</td>\n",
              "      <td>2024-05-29</td>\n",
              "      <td>14150.0</td>\n",
              "    </tr>\n",
              "    <tr>\n",
              "      <th>2340</th>\n",
              "      <td>NVL</td>\n",
              "      <td>2024-05-30</td>\n",
              "      <td>14150.0</td>\n",
              "    </tr>\n",
              "    <tr>\n",
              "      <th>2341</th>\n",
              "      <td>NVL</td>\n",
              "      <td>2024-05-31</td>\n",
              "      <td>14450.0</td>\n",
              "    </tr>\n",
              "    <tr>\n",
              "      <th>2342</th>\n",
              "      <td>NVL</td>\n",
              "      <td>2024-06-01</td>\n",
              "      <td>14350.0</td>\n",
              "    </tr>\n",
              "  </tbody>\n",
              "</table>\n",
              "<p>2343 rows × 3 columns</p>\n",
              "</div>\n",
              "    <div class=\"colab-df-buttons\">\n",
              "\n",
              "  <div class=\"colab-df-container\">\n",
              "    <button class=\"colab-df-convert\" onclick=\"convertToInteractive('df-b79b2add-c79c-4154-a650-1f708c2ca4e4')\"\n",
              "            title=\"Convert this dataframe to an interactive table.\"\n",
              "            style=\"display:none;\">\n",
              "\n",
              "  <svg xmlns=\"http://www.w3.org/2000/svg\" height=\"24px\" viewBox=\"0 -960 960 960\">\n",
              "    <path d=\"M120-120v-720h720v720H120Zm60-500h600v-160H180v160Zm220 220h160v-160H400v160Zm0 220h160v-160H400v160ZM180-400h160v-160H180v160Zm440 0h160v-160H620v160ZM180-180h160v-160H180v160Zm440 0h160v-160H620v160Z\"/>\n",
              "  </svg>\n",
              "    </button>\n",
              "\n",
              "  <style>\n",
              "    .colab-df-container {\n",
              "      display:flex;\n",
              "      gap: 12px;\n",
              "    }\n",
              "\n",
              "    .colab-df-convert {\n",
              "      background-color: #E8F0FE;\n",
              "      border: none;\n",
              "      border-radius: 50%;\n",
              "      cursor: pointer;\n",
              "      display: none;\n",
              "      fill: #1967D2;\n",
              "      height: 32px;\n",
              "      padding: 0 0 0 0;\n",
              "      width: 32px;\n",
              "    }\n",
              "\n",
              "    .colab-df-convert:hover {\n",
              "      background-color: #E2EBFA;\n",
              "      box-shadow: 0px 1px 2px rgba(60, 64, 67, 0.3), 0px 1px 3px 1px rgba(60, 64, 67, 0.15);\n",
              "      fill: #174EA6;\n",
              "    }\n",
              "\n",
              "    .colab-df-buttons div {\n",
              "      margin-bottom: 4px;\n",
              "    }\n",
              "\n",
              "    [theme=dark] .colab-df-convert {\n",
              "      background-color: #3B4455;\n",
              "      fill: #D2E3FC;\n",
              "    }\n",
              "\n",
              "    [theme=dark] .colab-df-convert:hover {\n",
              "      background-color: #434B5C;\n",
              "      box-shadow: 0px 1px 3px 1px rgba(0, 0, 0, 0.15);\n",
              "      filter: drop-shadow(0px 1px 2px rgba(0, 0, 0, 0.3));\n",
              "      fill: #FFFFFF;\n",
              "    }\n",
              "  </style>\n",
              "\n",
              "    <script>\n",
              "      const buttonEl =\n",
              "        document.querySelector('#df-b79b2add-c79c-4154-a650-1f708c2ca4e4 button.colab-df-convert');\n",
              "      buttonEl.style.display =\n",
              "        google.colab.kernel.accessAllowed ? 'block' : 'none';\n",
              "\n",
              "      async function convertToInteractive(key) {\n",
              "        const element = document.querySelector('#df-b79b2add-c79c-4154-a650-1f708c2ca4e4');\n",
              "        const dataTable =\n",
              "          await google.colab.kernel.invokeFunction('convertToInteractive',\n",
              "                                                    [key], {});\n",
              "        if (!dataTable) return;\n",
              "\n",
              "        const docLinkHtml = 'Like what you see? Visit the ' +\n",
              "          '<a target=\"_blank\" href=https://colab.research.google.com/notebooks/data_table.ipynb>data table notebook</a>'\n",
              "          + ' to learn more about interactive tables.';\n",
              "        element.innerHTML = '';\n",
              "        dataTable['output_type'] = 'display_data';\n",
              "        await google.colab.output.renderOutput(dataTable, element);\n",
              "        const docLink = document.createElement('div');\n",
              "        docLink.innerHTML = docLinkHtml;\n",
              "        element.appendChild(docLink);\n",
              "      }\n",
              "    </script>\n",
              "  </div>\n",
              "\n",
              "\n",
              "<div id=\"df-e328fbcf-6b24-4cb0-a504-455fa120dcb4\">\n",
              "  <button class=\"colab-df-quickchart\" onclick=\"quickchart('df-e328fbcf-6b24-4cb0-a504-455fa120dcb4')\"\n",
              "            title=\"Suggest charts\"\n",
              "            style=\"display:none;\">\n",
              "\n",
              "<svg xmlns=\"http://www.w3.org/2000/svg\" height=\"24px\"viewBox=\"0 0 24 24\"\n",
              "     width=\"24px\">\n",
              "    <g>\n",
              "        <path d=\"M19 3H5c-1.1 0-2 .9-2 2v14c0 1.1.9 2 2 2h14c1.1 0 2-.9 2-2V5c0-1.1-.9-2-2-2zM9 17H7v-7h2v7zm4 0h-2V7h2v10zm4 0h-2v-4h2v4z\"/>\n",
              "    </g>\n",
              "</svg>\n",
              "  </button>\n",
              "\n",
              "<style>\n",
              "  .colab-df-quickchart {\n",
              "      --bg-color: #E8F0FE;\n",
              "      --fill-color: #1967D2;\n",
              "      --hover-bg-color: #E2EBFA;\n",
              "      --hover-fill-color: #174EA6;\n",
              "      --disabled-fill-color: #AAA;\n",
              "      --disabled-bg-color: #DDD;\n",
              "  }\n",
              "\n",
              "  [theme=dark] .colab-df-quickchart {\n",
              "      --bg-color: #3B4455;\n",
              "      --fill-color: #D2E3FC;\n",
              "      --hover-bg-color: #434B5C;\n",
              "      --hover-fill-color: #FFFFFF;\n",
              "      --disabled-bg-color: #3B4455;\n",
              "      --disabled-fill-color: #666;\n",
              "  }\n",
              "\n",
              "  .colab-df-quickchart {\n",
              "    background-color: var(--bg-color);\n",
              "    border: none;\n",
              "    border-radius: 50%;\n",
              "    cursor: pointer;\n",
              "    display: none;\n",
              "    fill: var(--fill-color);\n",
              "    height: 32px;\n",
              "    padding: 0;\n",
              "    width: 32px;\n",
              "  }\n",
              "\n",
              "  .colab-df-quickchart:hover {\n",
              "    background-color: var(--hover-bg-color);\n",
              "    box-shadow: 0 1px 2px rgba(60, 64, 67, 0.3), 0 1px 3px 1px rgba(60, 64, 67, 0.15);\n",
              "    fill: var(--button-hover-fill-color);\n",
              "  }\n",
              "\n",
              "  .colab-df-quickchart-complete:disabled,\n",
              "  .colab-df-quickchart-complete:disabled:hover {\n",
              "    background-color: var(--disabled-bg-color);\n",
              "    fill: var(--disabled-fill-color);\n",
              "    box-shadow: none;\n",
              "  }\n",
              "\n",
              "  .colab-df-spinner {\n",
              "    border: 2px solid var(--fill-color);\n",
              "    border-color: transparent;\n",
              "    border-bottom-color: var(--fill-color);\n",
              "    animation:\n",
              "      spin 1s steps(1) infinite;\n",
              "  }\n",
              "\n",
              "  @keyframes spin {\n",
              "    0% {\n",
              "      border-color: transparent;\n",
              "      border-bottom-color: var(--fill-color);\n",
              "      border-left-color: var(--fill-color);\n",
              "    }\n",
              "    20% {\n",
              "      border-color: transparent;\n",
              "      border-left-color: var(--fill-color);\n",
              "      border-top-color: var(--fill-color);\n",
              "    }\n",
              "    30% {\n",
              "      border-color: transparent;\n",
              "      border-left-color: var(--fill-color);\n",
              "      border-top-color: var(--fill-color);\n",
              "      border-right-color: var(--fill-color);\n",
              "    }\n",
              "    40% {\n",
              "      border-color: transparent;\n",
              "      border-right-color: var(--fill-color);\n",
              "      border-top-color: var(--fill-color);\n",
              "    }\n",
              "    60% {\n",
              "      border-color: transparent;\n",
              "      border-right-color: var(--fill-color);\n",
              "    }\n",
              "    80% {\n",
              "      border-color: transparent;\n",
              "      border-right-color: var(--fill-color);\n",
              "      border-bottom-color: var(--fill-color);\n",
              "    }\n",
              "    90% {\n",
              "      border-color: transparent;\n",
              "      border-bottom-color: var(--fill-color);\n",
              "    }\n",
              "  }\n",
              "</style>\n",
              "\n",
              "  <script>\n",
              "    async function quickchart(key) {\n",
              "      const quickchartButtonEl =\n",
              "        document.querySelector('#' + key + ' button');\n",
              "      quickchartButtonEl.disabled = true;  // To prevent multiple clicks.\n",
              "      quickchartButtonEl.classList.add('colab-df-spinner');\n",
              "      try {\n",
              "        const charts = await google.colab.kernel.invokeFunction(\n",
              "            'suggestCharts', [key], {});\n",
              "      } catch (error) {\n",
              "        console.error('Error during call to suggestCharts:', error);\n",
              "      }\n",
              "      quickchartButtonEl.classList.remove('colab-df-spinner');\n",
              "      quickchartButtonEl.classList.add('colab-df-quickchart-complete');\n",
              "    }\n",
              "    (() => {\n",
              "      let quickchartButtonEl =\n",
              "        document.querySelector('#df-e328fbcf-6b24-4cb0-a504-455fa120dcb4 button');\n",
              "      quickchartButtonEl.style.display =\n",
              "        google.colab.kernel.accessAllowed ? 'block' : 'none';\n",
              "    })();\n",
              "  </script>\n",
              "</div>\n",
              "\n",
              "  <div id=\"id_1177616d-904d-4e8e-9f2e-7e591af8d91c\">\n",
              "    <style>\n",
              "      .colab-df-generate {\n",
              "        background-color: #E8F0FE;\n",
              "        border: none;\n",
              "        border-radius: 50%;\n",
              "        cursor: pointer;\n",
              "        display: none;\n",
              "        fill: #1967D2;\n",
              "        height: 32px;\n",
              "        padding: 0 0 0 0;\n",
              "        width: 32px;\n",
              "      }\n",
              "\n",
              "      .colab-df-generate:hover {\n",
              "        background-color: #E2EBFA;\n",
              "        box-shadow: 0px 1px 2px rgba(60, 64, 67, 0.3), 0px 1px 3px 1px rgba(60, 64, 67, 0.15);\n",
              "        fill: #174EA6;\n",
              "      }\n",
              "\n",
              "      [theme=dark] .colab-df-generate {\n",
              "        background-color: #3B4455;\n",
              "        fill: #D2E3FC;\n",
              "      }\n",
              "\n",
              "      [theme=dark] .colab-df-generate:hover {\n",
              "        background-color: #434B5C;\n",
              "        box-shadow: 0px 1px 3px 1px rgba(0, 0, 0, 0.15);\n",
              "        filter: drop-shadow(0px 1px 2px rgba(0, 0, 0, 0.3));\n",
              "        fill: #FFFFFF;\n",
              "      }\n",
              "    </style>\n",
              "    <button class=\"colab-df-generate\" onclick=\"generateWithVariable('df1')\"\n",
              "            title=\"Generate code using this dataframe.\"\n",
              "            style=\"display:none;\">\n",
              "\n",
              "  <svg xmlns=\"http://www.w3.org/2000/svg\" height=\"24px\"viewBox=\"0 0 24 24\"\n",
              "       width=\"24px\">\n",
              "    <path d=\"M7,19H8.4L18.45,9,17,7.55,7,17.6ZM5,21V16.75L18.45,3.32a2,2,0,0,1,2.83,0l1.4,1.43a1.91,1.91,0,0,1,.58,1.4,1.91,1.91,0,0,1-.58,1.4L9.25,21ZM18.45,9,17,7.55Zm-12,3A5.31,5.31,0,0,0,4.9,8.1,5.31,5.31,0,0,0,1,6.5,5.31,5.31,0,0,0,4.9,4.9,5.31,5.31,0,0,0,6.5,1,5.31,5.31,0,0,0,8.1,4.9,5.31,5.31,0,0,0,12,6.5,5.46,5.46,0,0,0,6.5,12Z\"/>\n",
              "  </svg>\n",
              "    </button>\n",
              "    <script>\n",
              "      (() => {\n",
              "      const buttonEl =\n",
              "        document.querySelector('#id_1177616d-904d-4e8e-9f2e-7e591af8d91c button.colab-df-generate');\n",
              "      buttonEl.style.display =\n",
              "        google.colab.kernel.accessAllowed ? 'block' : 'none';\n",
              "\n",
              "      buttonEl.onclick = () => {\n",
              "        google.colab.notebook.generateWithVariable('df1');\n",
              "      }\n",
              "      })();\n",
              "    </script>\n",
              "  </div>\n",
              "\n",
              "    </div>\n",
              "  </div>\n"
            ],
            "application/vnd.google.colaboratory.intrinsic+json": {
              "type": "dataframe",
              "variable_name": "df1",
              "summary": "{\n  \"name\": \"df1\",\n  \"rows\": 2343,\n  \"fields\": [\n    {\n      \"column\": \"unique_id\",\n      \"properties\": {\n        \"dtype\": \"category\",\n        \"num_unique_values\": 1,\n        \"samples\": [\n          \"NVL\"\n        ],\n        \"semantic_type\": \"\",\n        \"description\": \"\"\n      }\n    },\n    {\n      \"column\": \"ds\",\n      \"properties\": {\n        \"dtype\": \"object\",\n        \"num_unique_values\": 2343,\n        \"samples\": [\n          \"2018-06-24\"\n        ],\n        \"semantic_type\": \"\",\n        \"description\": \"\"\n      }\n    },\n    {\n      \"column\": \"y\",\n      \"properties\": {\n        \"dtype\": \"number\",\n        \"std\": 23502.958536255086,\n        \"min\": 10250.0,\n        \"max\": 92366.0,\n        \"num_unique_values\": 944,\n        \"samples\": [\n          28260.0\n        ],\n        \"semantic_type\": \"\",\n        \"description\": \"\"\n      }\n    }\n  ]\n}"
            }
          },
          "metadata": {},
          "execution_count": 101
        }
      ]
    },
    {
      "cell_type": "code",
      "source": [
        "# Change Data Type\n",
        "df1['ds'] = pd.to_datetime(df1['ds'])\n",
        "df1['y'] = df1['y'].astype(float)\n",
        "\n",
        "df1.info()"
      ],
      "metadata": {
        "id": "tVVdbH9G-rgV",
        "colab": {
          "base_uri": "https://localhost:8080/"
        },
        "outputId": "30b41754-4045-4ed5-edcd-373bcae3cd7d"
      },
      "execution_count": 102,
      "outputs": [
        {
          "output_type": "stream",
          "name": "stdout",
          "text": [
            "<class 'pandas.core.frame.DataFrame'>\n",
            "RangeIndex: 2343 entries, 0 to 2342\n",
            "Data columns (total 3 columns):\n",
            " #   Column     Non-Null Count  Dtype         \n",
            "---  ------     --------------  -----         \n",
            " 0   unique_id  2343 non-null   object        \n",
            " 1   ds         2343 non-null   datetime64[ns]\n",
            " 2   y          2343 non-null   float64       \n",
            "dtypes: datetime64[ns](1), float64(1), object(1)\n",
            "memory usage: 55.0+ KB\n"
          ]
        }
      ]
    },
    {
      "cell_type": "markdown",
      "source": [
        "# **TRAIN-TEST SPLIT**"
      ],
      "metadata": {
        "id": "dt8vfhVQ1Yn-"
      }
    },
    {
      "cell_type": "code",
      "source": [
        "# Sizing\n",
        "size = int(len(df1))\n",
        "\n",
        "# 9 : 1 Ratio\n",
        "train_data = df1[:int(0.9 *size)]\n",
        "test_data = df1[int(0.9 * size):]\n",
        "train_len = len(train_data)\n",
        "test_len = len(test_data)\n",
        "print(\"Training lenght:\" , train_len)\n",
        "print(\"Test lenght:\" , test_len)"
      ],
      "metadata": {
        "id": "D51KaEZw-4zg",
        "colab": {
          "base_uri": "https://localhost:8080/"
        },
        "outputId": "749b775f-112a-446d-dec8-1f587874b6e4"
      },
      "execution_count": 103,
      "outputs": [
        {
          "output_type": "stream",
          "name": "stdout",
          "text": [
            "Training lenght: 2108\n",
            "Test lenght: 235\n"
          ]
        }
      ]
    },
    {
      "cell_type": "code",
      "source": [
        "# Train_data MAX Value\n",
        "train_data.max()"
      ],
      "metadata": {
        "id": "1FO1Q9VQ__Nl",
        "colab": {
          "base_uri": "https://localhost:8080/"
        },
        "outputId": "96535433-4264-4716-b859-3ca1e1aea41f"
      },
      "execution_count": 104,
      "outputs": [
        {
          "output_type": "execute_result",
          "data": {
            "text/plain": [
              "unique_id                    NVL\n",
              "ds           2023-10-10 00:00:00\n",
              "y                        92366.0\n",
              "dtype: object"
            ]
          },
          "metadata": {},
          "execution_count": 104
        }
      ]
    },
    {
      "cell_type": "markdown",
      "source": [
        "# **TRAINING PROCESSS**"
      ],
      "metadata": {
        "id": "pcPAdyNP1YcG"
      }
    },
    {
      "cell_type": "code",
      "source": [
        "# Model Configuration\n",
        "model = FEDformer(\n",
        "    h=test_len + 90,\n",
        "    input_size = 100,  # 100 Days of input size\n",
        "    modes=64,  # Reduced modes for less complexity\n",
        "    hidden_size=128,  # Increased hidden size\n",
        "    n_head=8,  # Must be set to 8\n",
        "    loss=MAE(),\n",
        "    scaler_type='standard',  # Change the scaler type\n",
        "    learning_rate=1e-3,  # Fine-tune the learning rate\n",
        "    max_steps=100,  # Increase the number of training steps\n",
        "    batch_size=32,  # Adjust batch size\n",
        "    windows_batch_size=256,  # Adjust window batch size\n",
        ")\n",
        "\n",
        "nf = NeuralForecast(\n",
        "    models=[model],\n",
        "    freq='D',\n",
        ")"
      ],
      "metadata": {
        "id": "gdiv9rYDAQzB",
        "colab": {
          "base_uri": "https://localhost:8080/"
        },
        "outputId": "697e51d6-8167-4917-e9b9-de2fced847e6"
      },
      "execution_count": 105,
      "outputs": [
        {
          "output_type": "stream",
          "name": "stderr",
          "text": [
            "INFO:lightning_fabric.utilities.seed:Seed set to 1\n"
          ]
        }
      ]
    },
    {
      "cell_type": "code",
      "source": [
        "# Training\n",
        "nf.fit(df=train_data, static_df=None, verbose=True)\n"
      ],
      "metadata": {
        "id": "H17QqywrAVFR",
        "colab": {
          "base_uri": "https://localhost:8080/",
          "height": 468,
          "referenced_widgets": [
            "b5fc832c3c644c73a27a38f737c19783",
            "73ebabffba2e464087603cd37254616b",
            "c619e5e642dc45a5bc2d7e4a6816c872",
            "69f06a8ffb8448e981ce349c2ca27cbf",
            "cf6b8c09ef0942a59f86ef92d90273f1",
            "73339ae2ae1e49fd97d67f8acc8fa8ac",
            "691fc8a3ace348e38e80e22a4542c9b2",
            "202b7aa5682a4580af1f4e1838959d54",
            "3db3ead3d8974b9c97cbbfa5a34971d9",
            "41ded1d98b054ac49e9a1deaff247399",
            "3af43b1dc8c448b18a665ca5b0433257",
            "047c062475b6424587963be64a6b614a",
            "2dd1103f1f7f4301a59e9e20bbb7b5c6",
            "ed3934cf94a141efafea118e5e221a92",
            "80b38a487a2a4427b93dc4a05c695b42",
            "51607463586141ce93955b6873bce4e7",
            "bf2c2e9b88684cbd94d33e2b8277ae80",
            "6952eadb7b984728b7de81ffe2b0cb1a",
            "6c34e1432389456881b7001106c0286a",
            "3747efb8718c40889c1976fd687c7179",
            "0496aed5661846af9eb78ae001b1c5fb",
            "5589f95712b348a9bff92ece37b57f85",
            "d2678fee64f44b3a844e895d0a0b0ec1",
            "9b0c84f6ca49480290376d317b36ee1f",
            "3cfbb47dc66b434e9fa34eef0fcb33a7",
            "32f86a3270fb472ea1fb51a0e5e424a6",
            "2d805d589c7f4d3f852d609f9c013461",
            "de7fff9433754130b9bcf31c0c71daa3",
            "8b7015beebf74138b86fc3882b9b418d",
            "df87ff6a80514d1dac138f922464e8e2",
            "8a8bba5bdb4047e8ba89ff3ececebe57",
            "7353a353a66b4819b7dc0c7bd5d4707a",
            "1cec61e47e0e48bda1e74bc9bcecd09d"
          ]
        },
        "outputId": "1ac32502-3f1b-4386-8b40-ce7bafce0069"
      },
      "execution_count": 106,
      "outputs": [
        {
          "output_type": "stream",
          "name": "stderr",
          "text": [
            "INFO:pytorch_lightning.utilities.rank_zero:GPU available: True (cuda), used: True\n",
            "INFO:pytorch_lightning.utilities.rank_zero:TPU available: False, using: 0 TPU cores\n",
            "INFO:pytorch_lightning.utilities.rank_zero:HPU available: False, using: 0 HPUs\n",
            "INFO:pytorch_lightning.accelerators.cuda:LOCAL_RANK: 0 - CUDA_VISIBLE_DEVICES: [0]\n",
            "INFO:pytorch_lightning.callbacks.model_summary:\n",
            "  | Name          | Type          | Params | Mode \n",
            "--------------------------------------------------------\n",
            "0 | loss          | MAE           | 0      | train\n",
            "1 | padder_train  | ConstantPad1d | 0      | train\n",
            "2 | scaler        | TemporalNorm  | 0      | train\n",
            "3 | decomp        | SeriesDecomp  | 0      | train\n",
            "4 | enc_embedding | DataEmbedding | 384    | train\n",
            "5 | dec_embedding | DataEmbedding | 384    | train\n",
            "6 | encoder       | Encoder       | 251 K  | train\n",
            "7 | decoder       | Decoder       | 403 K  | train\n",
            "--------------------------------------------------------\n",
            "655 K     Trainable params\n",
            "0         Non-trainable params\n",
            "655 K     Total params\n",
            "2.620     Total estimated model params size (MB)\n"
          ]
        },
        {
          "output_type": "display_data",
          "data": {
            "text/plain": [
              "Sanity Checking: |          | 0/? [00:00<?, ?it/s]"
            ],
            "application/vnd.jupyter.widget-view+json": {
              "version_major": 2,
              "version_minor": 0,
              "model_id": "b5fc832c3c644c73a27a38f737c19783"
            }
          },
          "metadata": {}
        },
        {
          "output_type": "display_data",
          "data": {
            "text/plain": [
              "Training: |          | 0/? [00:00<?, ?it/s]"
            ],
            "application/vnd.jupyter.widget-view+json": {
              "version_major": 2,
              "version_minor": 0,
              "model_id": "047c062475b6424587963be64a6b614a"
            }
          },
          "metadata": {}
        },
        {
          "output_type": "stream",
          "name": "stderr",
          "text": [
            "/usr/local/lib/python3.10/dist-packages/torch/autograd/graph.py:744: UserWarning: Plan failed with a cudnnException: CUDNN_BACKEND_EXECUTION_PLAN_DESCRIPTOR: cudnnFinalize Descriptor Failed cudnn_status: CUDNN_STATUS_NOT_SUPPORTED (Triggered internally at ../aten/src/ATen/native/cudnn/Conv_v8.cpp:919.)\n",
            "  return Variable._execution_engine.run_backward(  # Calls into the C++ engine to run the backward pass\n"
          ]
        },
        {
          "output_type": "display_data",
          "data": {
            "text/plain": [
              "Validation: |          | 0/? [00:00<?, ?it/s]"
            ],
            "application/vnd.jupyter.widget-view+json": {
              "version_major": 2,
              "version_minor": 0,
              "model_id": "d2678fee64f44b3a844e895d0a0b0ec1"
            }
          },
          "metadata": {}
        },
        {
          "output_type": "stream",
          "name": "stderr",
          "text": [
            "INFO:pytorch_lightning.utilities.rank_zero:`Trainer.fit` stopped: `max_steps=100` reached.\n"
          ]
        }
      ]
    },
    {
      "cell_type": "markdown",
      "source": [
        "# **PREDICTION**\n"
      ],
      "metadata": {
        "id": "87ZN80SQ5Nyl"
      }
    },
    {
      "cell_type": "code",
      "source": [
        "forecasts = nf.predict()"
      ],
      "metadata": {
        "colab": {
          "base_uri": "https://localhost:8080/",
          "height": 173,
          "referenced_widgets": [
            "795ca00f1a7f435daf7dd8869531a80f",
            "4b275f70378d45c98918faa397241931",
            "73e79d70406c43a3af621c0ab48416ae",
            "e16c5d2abe294105bfb819859d991e7b",
            "2427c2d58eba436696b3f171b9b9866c",
            "1f90335799794aaf938551991a7d11d4",
            "b5f04c6a77394e35a790fb146346b2ff",
            "273332c9c70c4a7f9aceb3a60ebad3e2",
            "870bcaced7ca493aa2c8c8724634515d",
            "af99063725c64534a30dec3df57c4a27",
            "0c57b86cb61a4cab8fb3cd6d3a224282"
          ]
        },
        "id": "eMBwUZMyZQ2V",
        "outputId": "c5dde505-c083-4f23-87c3-9906f880aef0"
      },
      "execution_count": 107,
      "outputs": [
        {
          "output_type": "stream",
          "name": "stderr",
          "text": [
            "INFO:pytorch_lightning.utilities.rank_zero:GPU available: True (cuda), used: True\n",
            "INFO:pytorch_lightning.utilities.rank_zero:TPU available: False, using: 0 TPU cores\n",
            "INFO:pytorch_lightning.utilities.rank_zero:HPU available: False, using: 0 HPUs\n",
            "INFO:pytorch_lightning.accelerators.cuda:LOCAL_RANK: 0 - CUDA_VISIBLE_DEVICES: [0]\n"
          ]
        },
        {
          "output_type": "display_data",
          "data": {
            "text/plain": [
              "Predicting: |          | 0/? [00:00<?, ?it/s]"
            ],
            "application/vnd.jupyter.widget-view+json": {
              "version_major": 2,
              "version_minor": 0,
              "model_id": "795ca00f1a7f435daf7dd8869531a80f"
            }
          },
          "metadata": {}
        },
        {
          "output_type": "stream",
          "name": "stderr",
          "text": [
            "/usr/local/lib/python3.10/dist-packages/neuralforecast/core.py:196: FutureWarning: In a future version the predictions will have the id as a column. You can set the `NIXTLA_ID_AS_COL` environment variable to adopt the new behavior and to suppress this warning.\n",
            "  warnings.warn(\n"
          ]
        }
      ]
    },
    {
      "cell_type": "code",
      "source": [
        "# Reset Index\n",
        "train = train_data['y']\n",
        "test = test_data['y']\n",
        "\n",
        "train.reset_index(drop=True, inplace=True)\n",
        "test.reset_index(drop=True, inplace=True)\n",
        "\n",
        "predict = forecasts['FEDformer']\n",
        "predict.reset_index(drop=True, inplace=True)"
      ],
      "metadata": {
        "id": "x0FrFileAohg"
      },
      "execution_count": 108,
      "outputs": []
    },
    {
      "cell_type": "code",
      "source": [
        "predict_test = predict[0:test_len]\n",
        "predict_future = predict[test_len:]"
      ],
      "metadata": {
        "id": "pTdUcg-LA8uY"
      },
      "execution_count": 109,
      "outputs": []
    },
    {
      "cell_type": "code",
      "source": [
        "# Order predict_future\n",
        "predict_future_30 = predict_future[:30]\n",
        "predict_future_60 = predict_future[30:60]\n",
        "predict_future_90 = predict_future[60:]"
      ],
      "metadata": {
        "id": "xpr-UR7NDPwZ"
      },
      "execution_count": 110,
      "outputs": []
    },
    {
      "cell_type": "code",
      "source": [
        "# Print Predicted Data\n",
        "print(\"\\nPredicted Data for the next 30 days:\")\n",
        "print(predict_future_30)\n",
        "\n",
        "print(\"\\nPredicted Data for the next 60 days:\")\n",
        "print(predict_future_60)\n",
        "\n",
        "print(\"\\nPredicted Data for the next 90 days:\")\n",
        "print(predict_future_90)"
      ],
      "metadata": {
        "id": "HHCSgTpeCalw",
        "colab": {
          "base_uri": "https://localhost:8080/"
        },
        "outputId": "f9d8b092-19b3-4e43-ff86-003794eafb2d"
      },
      "execution_count": 111,
      "outputs": [
        {
          "output_type": "stream",
          "name": "stdout",
          "text": [
            "\n",
            "Predicted Data for the next 30 days:\n",
            "235    16124.386719\n",
            "236    15917.858398\n",
            "237    15608.773438\n",
            "238    16008.374023\n",
            "239    15563.063477\n",
            "240    16007.331055\n",
            "241    16027.613281\n",
            "242    15902.048828\n",
            "243    15712.195312\n",
            "244    15883.875977\n",
            "245    15231.263672\n",
            "246    15199.864258\n",
            "247    15428.090820\n",
            "248    15642.264648\n",
            "249    15356.748047\n",
            "250    15168.018555\n",
            "251    14710.349609\n",
            "252    14851.730469\n",
            "253    15519.196289\n",
            "254    15275.417969\n",
            "255    15797.809570\n",
            "256    15521.678711\n",
            "257    15666.349609\n",
            "258    15239.946289\n",
            "259    15238.052734\n",
            "260    15412.275391\n",
            "261    15193.040039\n",
            "262    15524.775391\n",
            "263    15729.359375\n",
            "264    15229.573242\n",
            "Name: FEDformer, dtype: float32\n",
            "\n",
            "Predicted Data for the next 60 days:\n",
            "265    15388.356445\n",
            "266    15788.350586\n",
            "267    15456.694336\n",
            "268    15656.068359\n",
            "269    16352.974609\n",
            "270    16209.413086\n",
            "271    15903.180664\n",
            "272    15689.945312\n",
            "273    15339.533203\n",
            "274    15365.534180\n",
            "275    15102.413086\n",
            "276    15064.248047\n",
            "277    14300.036133\n",
            "278    13900.335938\n",
            "279    14111.669922\n",
            "280    14361.114258\n",
            "281    14643.393555\n",
            "282    14412.833008\n",
            "283    14810.553711\n",
            "284    15936.419922\n",
            "285    15966.837891\n",
            "286    15952.787109\n",
            "287    16425.660156\n",
            "288    16360.365234\n",
            "289    16726.996094\n",
            "290    17053.087891\n",
            "291    16854.673828\n",
            "292    16081.574219\n",
            "293    16213.357422\n",
            "294    15949.321289\n",
            "Name: FEDformer, dtype: float32\n",
            "\n",
            "Predicted Data for the next 90 days:\n",
            "295    15136.472656\n",
            "296    15215.363281\n",
            "297    15421.274414\n",
            "298    15488.228516\n",
            "299    15726.437500\n",
            "300    16278.711914\n",
            "301    16630.515625\n",
            "302    16709.216797\n",
            "303    16573.542969\n",
            "304    17127.552734\n",
            "305    16264.672852\n",
            "306    16161.984375\n",
            "307    16428.884766\n",
            "308    16024.460938\n",
            "309    15926.598633\n",
            "310    16076.070312\n",
            "311    15441.377930\n",
            "312    14962.218750\n",
            "313    14834.731445\n",
            "314    14254.550781\n",
            "315    14255.041992\n",
            "316    14153.975586\n",
            "317    14908.830078\n",
            "318    14375.755859\n",
            "319    14573.668945\n",
            "320    15082.513672\n",
            "321    15323.206055\n",
            "322    15314.181641\n",
            "323    16021.980469\n",
            "324    15063.933594\n",
            "Name: FEDformer, dtype: float32\n"
          ]
        }
      ]
    },
    {
      "cell_type": "markdown",
      "source": [
        "# **EVALUATION**"
      ],
      "metadata": {
        "id": "iJa5b5uD1YGX"
      }
    },
    {
      "cell_type": "code",
      "source": [
        "mae = mean_absolute_error(test, predict_test)\n",
        "mape = mean_absolute_percentage_error(test, predict_test)\n",
        "mse = mean_squared_error(test, predict_test)\n",
        "rmse = np.sqrt(mean_squared_error(test, predict_test))\n",
        "\n",
        "print(\"Mean Absolute Error (MAE):\", mae)\n",
        "print(\"Mean Absolute Percentage Error (MAPE):\", mape)\n",
        "print(\"Mean Square Error (MSE):\", mse)\n",
        "print(\"Root Mean Square Error (RMSE):\", rmse)"
      ],
      "metadata": {
        "id": "AmOhGtB_BRxR",
        "colab": {
          "base_uri": "https://localhost:8080/"
        },
        "outputId": "dac3915f-3cc6-44c2-8851-a5e86e648e8f"
      },
      "execution_count": 112,
      "outputs": [
        {
          "output_type": "stream",
          "name": "stdout",
          "text": [
            "Mean Absolute Error (MAE): 1196.2883325022162\n",
            "Mean Absolute Percentage Error (MAPE): 0.07551581607110207\n",
            "Mean Square Error (MSE): 2037904.3642275117\n",
            "Root Mean Square Error (RMSE): 1427.5518779461263\n"
          ]
        }
      ]
    },
    {
      "cell_type": "markdown",
      "source": [
        "# **VISUALIZATION**"
      ],
      "metadata": {
        "id": "qwEYRmg95sz5"
      }
    },
    {
      "cell_type": "code",
      "source": [
        "# prompt: adding first_value to the last of test\n",
        "first_value = predict_test.iloc[0]\n",
        "train_draw = pd.concat([train, pd.Series([first_value])], ignore_index=True)"
      ],
      "metadata": {
        "id": "x8uSzmsCHIkU"
      },
      "execution_count": 113,
      "outputs": []
    },
    {
      "cell_type": "markdown",
      "source": [
        "**Overall Visualization**"
      ],
      "metadata": {
        "id": "CHVl7gCUHuvM"
      }
    },
    {
      "cell_type": "code",
      "source": [
        "plt.figure(figsize=(16, 9))\n",
        "\n",
        "train_data_index = pd.RangeIndex(start=0, stop=train_len+1, step=1)\n",
        "plt.plot(train_draw)\n",
        "test_data_index = pd.RangeIndex(start=train_len+1, stop=train_len+test_len+1, step=1)\n",
        "plt.plot(test_data_index, test)\n",
        "\n",
        "predict_test_index = pd.RangeIndex(start=train_len+1, stop=train_len+test_len+1, step=1)\n",
        "plt.plot(predict_test_index,(predict_test))\n",
        "\n",
        "predict_future_30_index = pd.RangeIndex(start=train_len+test_len+1, stop=train_len+test_len+31, step=1)\n",
        "plt.plot(predict_future_30_index, predict_future_30)\n",
        "predict_future_60_index = pd.RangeIndex(start=train_len+test_len+31, stop=train_len+test_len+61, step=1)\n",
        "plt.plot(predict_future_60_index, predict_future_60)\n",
        "predict_future_90_index = pd.RangeIndex(start=train_len+test_len+61, stop=train_len+test_len+91, step=1)\n",
        "plt.plot(predict_future_90_index, predict_future_90)\n",
        "\n",
        "plt.legend(['Train', 'Test', 'Predict Test', 'Predict next 30 days', 'Predict next 60 days', 'Predict next 90 days'])\n",
        "plt.xlabel('Time')\n",
        "plt.ylabel('Values')\n",
        "plt.title('Train, Test, and Predictions')\n",
        "plt.show()"
      ],
      "metadata": {
        "id": "7Z-OnsOvHapD",
        "colab": {
          "base_uri": "https://localhost:8080/",
          "height": 666
        },
        "outputId": "bd0618ea-a9c8-4685-cd19-b2c0270d7b7f"
      },
      "execution_count": 114,
      "outputs": [
        {
          "output_type": "display_data",
          "data": {
            "text/plain": [
              "<Figure size 1600x900 with 1 Axes>"
            ],
            "image/png": "[encoded data removed]"
          },
          "metadata": {}
        }
      ]
    },
    {
      "cell_type": "markdown",
      "source": [
        "# **---------------------------------------**"
      ],
      "metadata": {
        "id": "3DFjogTo5o4W"
      }
    },
    {
      "cell_type": "markdown",
      "source": [
        "# **POLYNOMINAL SMOOTHING**"
      ],
      "metadata": {
        "id": "WrzaxB4p5XxJ"
      }
    },
    {
      "cell_type": "code",
      "source": [
        "predict_smoothed = savgol_filter(predict, window_length=31, polyorder=3)"
      ],
      "metadata": {
        "id": "deZeHHPbB28s"
      },
      "execution_count": 115,
      "outputs": []
    },
    {
      "cell_type": "markdown",
      "source": [
        "# **RE - PREDICTION**\n"
      ],
      "metadata": {
        "id": "RfIm8SRH5WCd"
      }
    },
    {
      "cell_type": "code",
      "source": [
        "predict_test = predict_smoothed[0:test_len]\n",
        "predict_future = predict_smoothed[test_len:]"
      ],
      "metadata": {
        "id": "87F8WlicB7qo"
      },
      "execution_count": 116,
      "outputs": []
    },
    {
      "cell_type": "code",
      "source": [
        "# Order predict_future\n",
        "predict_future_30 = predict_future[:30]\n",
        "predict_future_60 = predict_future[30:60]\n",
        "predict_future_90 = predict_future[60:]"
      ],
      "metadata": {
        "id": "UD0oRSytJXRk"
      },
      "execution_count": 117,
      "outputs": []
    },
    {
      "cell_type": "code",
      "source": [
        "# Print Predicted Data\n",
        "print(\"\\nPredicted Data for the next 30 days:\")\n",
        "print(predict_future_30)\n",
        "\n",
        "print(\"\\nPredicted Data for the next 60 days:\")\n",
        "print(predict_future_60)\n",
        "\n",
        "print(\"\\nPredicted Data for the next 90 days:\")\n",
        "print(predict_future_90)"
      ],
      "metadata": {
        "id": "u5NUUdzdJf_v",
        "colab": {
          "base_uri": "https://localhost:8080/"
        },
        "outputId": "3ec0d6b6-9b97-403b-cb24-300efd03b2ee"
      },
      "execution_count": 118,
      "outputs": [
        {
          "output_type": "stream",
          "name": "stdout",
          "text": [
            "\n",
            "Predicted Data for the next 30 days:\n",
            "[15947.639 15943.819 15937.016 15887.627 15831.46  15747.023 15690.776\n",
            " 15642.558 15623.103 15595.5   15537.907 15495.391 15442.379 15406.905\n",
            " 15386.795 15368.577 15342.672 15332.727 15303.152 15271.958 15242.558\n",
            " 15262.21  15305.314 15366.546 15419.912 15495.575 15536.894 15598.26\n",
            " 15667.875 15718.714]\n",
            "\n",
            "Predicted Data for the next 60 days:\n",
            "[15729.082 15703.563 15649.951 15565.951 15460.003 15353.073 15286.409\n",
            " 15202.531 15149.576 15077.955 15010.975 14983.406 14994.686 15022.466\n",
            " 15082.353 15155.766 15222.975 15296.348 15349.952 15402.701 15476.714\n",
            " 15552.194 15633.967 15731.725 15803.01  15928.73  16047.247 16149.343\n",
            " 16223.598 16258.041]\n",
            "\n",
            "Predicted Data for the next 90 days:\n",
            "[16267.336  16289.507  16312.901  16290.578  16270.728  16268.519\n",
            " 16245.331  16164.2295 16118.379  16048.368  15969.819  15906.828\n",
            " 15850.524  15737.183  15685.566  15512.049  15340.299  15175.747\n",
            " 15023.83   14889.979  14779.627  14698.209  14651.158  14643.908\n",
            " 14681.892  14770.542  14915.293  15121.578  15394.831  15740.484 ]\n"
          ]
        }
      ]
    },
    {
      "cell_type": "markdown",
      "source": [
        "# **RE - EVALUATION**"
      ],
      "metadata": {
        "id": "aBaWpHeV5KQ9"
      }
    },
    {
      "cell_type": "code",
      "source": [
        "mae = mean_absolute_error(test, predict_test)\n",
        "mape = mean_absolute_percentage_error(test, predict_test)\n",
        "mse = mean_squared_error(test, predict_test)\n",
        "rmse = np.sqrt(mean_squared_error(test, predict_test))\n",
        "\n",
        "print(\"Mean Absolute Error (MAE):\", mae)\n",
        "print(\"Mean Absolute Percentage Error (MAPE):\", mape)\n",
        "print(\"Mean Square Error (MSE):\", mse)\n",
        "print(\"Root Mean Square Error (RMSE):\", rmse)"
      ],
      "metadata": {
        "id": "oN_vK83uCFgN",
        "colab": {
          "base_uri": "https://localhost:8080/"
        },
        "outputId": "b0270ff7-7ac2-445c-ec2a-f04f88f7d869"
      },
      "execution_count": 119,
      "outputs": [
        {
          "output_type": "stream",
          "name": "stdout",
          "text": [
            "Mean Absolute Error (MAE): 1167.8452183067375\n",
            "Mean Absolute Percentage Error (MAPE): 0.07365512176245374\n",
            "Mean Square Error (MSE): 1829825.46144645\n",
            "Root Mean Square Error (RMSE): 1352.7104130028904\n"
          ]
        }
      ]
    },
    {
      "cell_type": "markdown",
      "source": [
        "# **RE - VISUALIZATION**"
      ],
      "metadata": {
        "id": "pwk_eOsf8PaI"
      }
    },
    {
      "cell_type": "code",
      "execution_count": 120,
      "metadata": {
        "id": "o7_qbVh74aBp"
      },
      "outputs": [],
      "source": [
        "# Assuming predict_test is a NumPy array\n",
        "first_value = pd.Series(predict_test.reshape(-1))  # Convert to pandas Series\n",
        "\n",
        "# Concatenate train and first_value as Series in a new DataFrame\n",
        "train_draw = pd.concat([train, first_value], ignore_index=True)"
      ]
    },
    {
      "cell_type": "markdown",
      "source": [
        "**Overall Visualization**"
      ],
      "metadata": {
        "id": "kK18UP7AJyXX"
      }
    },
    {
      "cell_type": "code",
      "source": [
        "plt.figure(figsize=(16, 9))\n",
        "\n",
        "train_data_index = pd.RangeIndex(start=0, stop=train_len+1, step=1)\n",
        "plt.plot(train_draw)\n",
        "test_data_index = pd.RangeIndex(start=train_len+1, stop=train_len+test_len+1, step=1)\n",
        "plt.plot(test_data_index, test)\n",
        "\n",
        "predict_test_index = pd.RangeIndex(start=train_len+1, stop=train_len+test_len+1, step=1)\n",
        "plt.plot(predict_test_index,(predict_test))\n",
        "\n",
        "predict_future_30_index = pd.RangeIndex(start=train_len+test_len+1, stop=train_len+test_len+31, step=1)\n",
        "plt.plot(predict_future_30_index, predict_future_30)\n",
        "predict_future_60_index = pd.RangeIndex(start=train_len+test_len+31, stop=train_len+test_len+61, step=1)\n",
        "plt.plot(predict_future_60_index, predict_future_60)\n",
        "predict_future_90_index = pd.RangeIndex(start=train_len+test_len+61, stop=train_len+test_len+91, step=1)\n",
        "plt.plot(predict_future_90_index, predict_future_90)\n",
        "\n",
        "plt.legend(['Train', 'Test', 'Predict Test', 'Predict next 30 days', 'Predict next 60 days', 'Predict next 90 days'])\n",
        "plt.xlabel('Time')\n",
        "plt.ylabel('Values')\n",
        "plt.title('9:1 ratio NVL Stock Price Train, Test, and Predictions')\n",
        "plt.show()"
      ],
      "metadata": {
        "id": "C6nV7V2gJmKH",
        "colab": {
          "base_uri": "https://localhost:8080/",
          "height": 666
        },
        "outputId": "6249a021-8a49-4176-8520-cfb615fc4472"
      },
      "execution_count": 121,
      "outputs": [
        {
          "output_type": "display_data",
          "data": {
            "text/plain": [
              "<Figure size 1600x900 with 1 Axes>"
            ],
            "image/png": "[encoded data removed]"
          },
          "metadata": {}
        }
      ]
    }
  ]
}